{
 "cells": [
  {
   "cell_type": "code",
   "execution_count": null,
   "id": "5f026721",
   "metadata": {},
   "outputs": [],
   "source": [
    "import SBIBE as sbibe\n",
    "%matplotlib notebook\n",
    "import matplotlib as mpl\n",
    "import matplotlib.pyplot as plt\n",
    "plt.style.use('default')\n",
    "plt.close('all')"
   ]
  },
  {
   "cell_type": "code",
   "execution_count": null,
   "id": "87a5f6c2",
   "metadata": {
    "scrolled": true
   },
   "outputs": [],
   "source": [
    "import baccoemu\n",
    "import numpy as np"
   ]
  },
  {
   "cell_type": "code",
   "execution_count": null,
   "id": "fcbeb200",
   "metadata": {},
   "outputs": [],
   "source": [
    "emulator = baccoemu.Matter_powerspectrum()"
   ]
  },
  {
   "cell_type": "code",
   "execution_count": null,
   "id": "3e1890cb",
   "metadata": {},
   "outputs": [],
   "source": [
    "kmin=-2.3\n",
    "kmax=0.6\n",
    "N_kk=100\n",
    "kk = np.logspace(kmin, kmax, num=N_kk)"
   ]
  },
  {
   "cell_type": "code",
   "execution_count": null,
   "id": "829fe201",
   "metadata": {},
   "outputs": [],
   "source": [
    "params = {\n",
    "    'omega_cold'    :  0.315,\n",
    "    'sigma8_cold'   :  0.83,\n",
    "    'omega_baryon'  :  0.05,\n",
    "    'ns'            :  0.96,\n",
    "    'hubble'        :  0.67,\n",
    "    'neutrino_mass' :  0.0,\n",
    "    'w0'            : -1.0,\n",
    "    'wa'            :  0.0,\n",
    "    'expfactor'     :  1\n",
    "}\n",
    "kk, pk_nl = emulator.get_nonlinear_pk(k=kk, cold=False, baryonic_boost=False, **params)\n",
    "\n",
    "params = {\n",
    "    'omega_cold'    :  0.315,\n",
    "    'sigma8_cold'   :  0.83,\n",
    "    'omega_baryon'  :  0.05,\n",
    "    'ns'            :  0.96,\n",
    "    'hubble'        :  0.67,\n",
    "    'neutrino_mass' :  0.0,\n",
    "    'w0'            : -1.0,\n",
    "    'wa'            :  0.0,\n",
    "    'expfactor'     :  1,    \n",
    "    'M_c'           : 11.5, # 9, 15\n",
    "    'eta'           : 0.,   # -0.7, 0.7\n",
    "    'beta'          : 0.,   # -1, 0.7\n",
    "    'M1_z0_cen'     : 11.5, # 9, 13\n",
    "    'theta_out'     : 0.,   # -0.5, 0\n",
    "    'theta_inn'     : -1,   # -2, -0.5\n",
    "    'M_inn'         : 12    # 9, 13.5\n",
    "}\n",
    "kk, pk_baryonic0 = emulator.get_nonlinear_pk(k=kk, cold=False, baryonic_boost=True, **params)"
   ]
  },
  {
   "cell_type": "code",
   "execution_count": null,
   "id": "6699656f",
   "metadata": {},
   "outputs": [],
   "source": [
    "pk = {}\n",
    "default_baryonic_dict = params.copy()   "
   ]
  },
  {
   "cell_type": "code",
   "execution_count": null,
   "id": "12dc587b",
   "metadata": {},
   "outputs": [],
   "source": [
    "NN_params = 20"
   ]
  },
  {
   "cell_type": "code",
   "execution_count": null,
   "id": "6568d228",
   "metadata": {
    "scrolled": true
   },
   "outputs": [],
   "source": [
    "key_param = 'M_c'\n",
    "min_param=9\n",
    "max_param=15\n",
    "list_param = np.linspace(min_param, max_param, NN_params)\n",
    "pk[key_param] = []\n",
    "for ii in range(NN_params):\n",
    "    tmp_dict = default_baryonic_dict.copy()\n",
    "    tmp_dict[key_param] = list_param[ii]\n",
    "    kk, tmp_pk = emulator.get_nonlinear_pk(k=kk, cold=False, baryonic_boost=True, **tmp_dict)\n",
    "    pk[key_param].append(tmp_pk)"
   ]
  },
  {
   "cell_type": "code",
   "execution_count": null,
   "id": "8f9a5e0a",
   "metadata": {},
   "outputs": [],
   "source": [
    "key_param = 'eta'\n",
    "min_param=-0.68\n",
    "max_param=0.68\n",
    "list_param = np.linspace(min_param, max_param, NN_params)\n",
    "pk[key_param] = []\n",
    "for ii in range(NN_params):\n",
    "    tmp_dict = default_baryonic_dict.copy()\n",
    "    tmp_dict[key_param] = list_param[ii]\n",
    "    kk, tmp_pk = emulator.get_nonlinear_pk(k=kk, cold=False, baryonic_boost=True, **tmp_dict)\n",
    "    pk[key_param].append(tmp_pk)"
   ]
  },
  {
   "cell_type": "code",
   "execution_count": null,
   "id": "950f7b65",
   "metadata": {},
   "outputs": [],
   "source": [
    "key_param = 'beta'\n",
    "min_param=-1.\n",
    "max_param=0.69\n",
    "list_param = np.linspace(min_param, max_param, NN_params)\n",
    "pk[key_param] = []\n",
    "for ii in range(NN_params):\n",
    "    tmp_dict = default_baryonic_dict.copy()\n",
    "    tmp_dict[key_param] = list_param[ii]\n",
    "    kk, tmp_pk = emulator.get_nonlinear_pk(k=kk, cold=False, baryonic_boost=True, **tmp_dict)\n",
    "    pk[key_param].append(tmp_pk)"
   ]
  },
  {
   "cell_type": "code",
   "execution_count": null,
   "id": "8d8c9372",
   "metadata": {},
   "outputs": [],
   "source": [
    "key_param = 'M1_z0_cen'\n",
    "min_param=9\n",
    "max_param=13\n",
    "list_param = np.linspace(min_param, max_param, NN_params)\n",
    "pk[key_param] = []\n",
    "for ii in range(NN_params):\n",
    "    tmp_dict = default_baryonic_dict.copy()\n",
    "    tmp_dict[key_param] = list_param[ii]\n",
    "    kk, tmp_pk = emulator.get_nonlinear_pk(k=kk, cold=False, baryonic_boost=True, **tmp_dict)\n",
    "    pk[key_param].append(tmp_pk)"
   ]
  },
  {
   "cell_type": "code",
   "execution_count": null,
   "id": "9d050a34",
   "metadata": {},
   "outputs": [],
   "source": [
    "key_param = 'theta_out'\n",
    "min_param=0.\n",
    "max_param=0.47\n",
    "list_param = np.linspace(min_param, max_param, NN_params)\n",
    "pk[key_param] = []\n",
    "for ii in range(NN_params):\n",
    "    tmp_dict = default_baryonic_dict.copy()\n",
    "    tmp_dict[key_param] = list_param[ii]\n",
    "    kk, tmp_pk = emulator.get_nonlinear_pk(k=kk, cold=False, baryonic_boost=True, **tmp_dict)\n",
    "    pk[key_param].append(tmp_pk)"
   ]
  },
  {
   "cell_type": "code",
   "execution_count": null,
   "id": "e80f8455",
   "metadata": {},
   "outputs": [],
   "source": [
    "key_param = 'theta_inn'\n",
    "min_param=-2.\n",
    "max_param=-0.53\n",
    "list_param = np.linspace(min_param, max_param, NN_params)\n",
    "pk[key_param] = []\n",
    "for ii in range(NN_params):\n",
    "    tmp_dict = default_baryonic_dict.copy()\n",
    "    tmp_dict[key_param] = list_param[ii]\n",
    "    kk, tmp_pk = emulator.get_nonlinear_pk(k=kk, cold=False, baryonic_boost=True, **tmp_dict)\n",
    "    pk[key_param].append(tmp_pk)"
   ]
  },
  {
   "cell_type": "code",
   "execution_count": null,
   "id": "251e4b99",
   "metadata": {},
   "outputs": [],
   "source": [
    "key_param = 'M_inn'\n",
    "min_param=9\n",
    "max_param=13\n",
    "list_param = np.linspace(min_param, max_param, NN_params)\n",
    "pk[key_param] = []\n",
    "for ii in range(NN_params):\n",
    "    tmp_dict = default_baryonic_dict.copy()\n",
    "    tmp_dict[key_param] = list_param[ii]\n",
    "    kk, tmp_pk = emulator.get_nonlinear_pk(k=kk, cold=False, baryonic_boost=True, **tmp_dict)\n",
    "    pk[key_param].append(tmp_pk)"
   ]
  },
  {
   "cell_type": "code",
   "execution_count": null,
   "id": "c622f947",
   "metadata": {},
   "outputs": [],
   "source": [
    "fig, ax = sbibe.plot_utils.simple_plot(\n",
    "    x_label=r'$\\log_{10}\\mathrm{Wavenumber}\\, k \\left[ h\\, \\mathrm{Mpc}^{-1} \\right]$',\n",
    "    y_label=r'$\\log_{10}P(k) \\left[ \\left(h^{-1} \\mathrm{Mpc}\\right)^{3} \\right]$'\n",
    ")\n",
    "\n",
    "ax.plot(np.log10(kk), np.log10(pk_nl), c='k', ls='-', lw=2)\n",
    "ax.plot(np.log10(kk), np.log10(pk_baryonic0), c='k', ls='--', lw=2)\n",
    "\n",
    "key_param = 'M_c'\n",
    "colors = sbibe.plot_utils.get_N_colors(NN_params, mpl.colormaps['Greys'])\n",
    "for ii in range(NN_params):\n",
    "    ax.plot(np.log10(kk), np.log10(pk[key_param][ii]), c=colors[ii], ls='-', lw=1)\n",
    "    \n",
    "key_param = 'eta'\n",
    "colors = sbibe.plot_utils.get_N_colors(NN_params, mpl.colormaps['Purples'])\n",
    "for ii in range(NN_params):\n",
    "    ax.plot(np.log10(kk), np.log10(pk[key_param][ii]), c=colors[ii], ls='-', lw=1)\n",
    "    \n",
    "key_param = 'beta'\n",
    "colors = sbibe.plot_utils.get_N_colors(NN_params, mpl.colormaps['Blues'])\n",
    "for ii in range(NN_params):\n",
    "    ax.plot(np.log10(kk), np.log10(pk[key_param][ii]), c=colors[ii], ls='-', lw=1)\n",
    "    \n",
    "key_param = 'M1_z0_cen'\n",
    "colors = sbibe.plot_utils.get_N_colors(NN_params, mpl.colormaps['Greens'])\n",
    "for ii in range(NN_params):\n",
    "    ax.plot(np.log10(kk), np.log10(pk[key_param][ii]), c=colors[ii], ls='-', lw=1)\n",
    "\n",
    "key_param = 'theta_out'\n",
    "colors = sbibe.plot_utils.get_N_colors(NN_params, mpl.colormaps['Oranges'])\n",
    "for ii in range(NN_params):\n",
    "    ax.plot(np.log10(kk), np.log10(pk[key_param][ii]), c=colors[ii], ls='-', lw=1)\n",
    "    \n",
    "key_param = 'theta_inn'\n",
    "colors = sbibe.plot_utils.get_N_colors(NN_params, mpl.colormaps['Reds'])\n",
    "for ii in range(NN_params):\n",
    "    ax.plot(np.log10(kk), np.log10(pk[key_param][ii]), c=colors[ii], ls='-', lw=1)\n",
    "    \n",
    "key_param = 'M_inn'\n",
    "colors = sbibe.plot_utils.get_N_colors(NN_params, mpl.colormaps['RdPu'])\n",
    "for ii in range(NN_params):\n",
    "    ax.plot(np.log10(kk), np.log10(pk[key_param][ii]), c=colors[ii], ls='-', lw=1)\n",
    "    \n",
    "plt.tight_layout()\n",
    "plt.show()"
   ]
  },
  {
   "cell_type": "code",
   "execution_count": null,
   "id": "1347bed8",
   "metadata": {},
   "outputs": [],
   "source": [
    "fig, ax = sbibe.plot_utils.simple_plot(\n",
    "    x_label=r'$\\log_{10}\\mathrm{Wavenumber}\\, k \\left[ h\\, \\mathrm{Mpc}^{-1} \\right]$',\n",
    "    y_label=r'$\\log_{10}P(k) \\left[ \\left(h^{-1} \\mathrm{Mpc}\\right)^{3} \\right]$'\n",
    ")\n",
    "\n",
    "pk_fid = pk_nl\n",
    "\n",
    "key_param = 'M_c'\n",
    "colors = sbibe.plot_utils.get_N_colors(NN_params, mpl.colormaps['Greys'])\n",
    "for ii in range(NN_params):\n",
    "    ax.plot(np.log10(kk), np.log10(pk[key_param][ii]) / np.log10(pk_fid), c=colors[ii], ls='-', lw=1)\n",
    "    \n",
    "key_param = 'eta'\n",
    "colors = sbibe.plot_utils.get_N_colors(NN_params, mpl.colormaps['Purples'])\n",
    "for ii in range(NN_params):\n",
    "    ax.plot(np.log10(kk), np.log10(pk[key_param][ii]) / np.log10(pk_fid), c=colors[ii], ls='-', lw=1)\n",
    "    \n",
    "key_param = 'beta'\n",
    "colors = sbibe.plot_utils.get_N_colors(NN_params, mpl.colormaps['Blues'])\n",
    "for ii in range(NN_params):\n",
    "    ax.plot(np.log10(kk), np.log10(pk[key_param][ii]) / np.log10(pk_fid), c=colors[ii], ls='-', lw=1)\n",
    "    \n",
    "key_param = 'M1_z0_cen'\n",
    "colors = sbibe.plot_utils.get_N_colors(NN_params, mpl.colormaps['Greens'])\n",
    "for ii in range(NN_params):\n",
    "    ax.plot(np.log10(kk), np.log10(pk[key_param][ii]) / np.log10(pk_fid), c=colors[ii], ls='-', lw=1)\n",
    "\n",
    "key_param = 'theta_out'\n",
    "colors = sbibe.plot_utils.get_N_colors(NN_params, mpl.colormaps['Oranges'])\n",
    "for ii in range(NN_params):\n",
    "    ax.plot(np.log10(kk), np.log10(pk[key_param][ii]) / np.log10(pk_fid), c=colors[ii], ls='-', lw=1)\n",
    "    \n",
    "key_param = 'theta_inn'\n",
    "colors = sbibe.plot_utils.get_N_colors(NN_params, mpl.colormaps['Reds'])\n",
    "for ii in range(NN_params):\n",
    "    ax.plot(np.log10(kk), np.log10(pk[key_param][ii]) / np.log10(pk_fid), c=colors[ii], ls='-', lw=1)\n",
    "    \n",
    "key_param = 'M_inn'\n",
    "colors = sbibe.plot_utils.get_N_colors(NN_params, mpl.colormaps['RdPu'])\n",
    "for ii in range(NN_params):\n",
    "    ax.plot(np.log10(kk), np.log10(pk[key_param][ii]) / np.log10(pk_fid), c=colors[ii], ls='-', lw=1)\n",
    "    \n",
    "ax.set_ylim([0.95, 1.05])\n",
    "ax.set_xlim([-0.8, 0.62])\n",
    "\n",
    "plt.tight_layout()\n",
    "plt.show()"
   ]
  },
  {
   "cell_type": "code",
   "execution_count": null,
   "id": "7855d8a8",
   "metadata": {},
   "outputs": [],
   "source": []
  }
 ],
 "metadata": {
  "kernelspec": {
   "display_name": "Python 3 (ipykernel)",
   "language": "python",
   "name": "python3"
  },
  "language_info": {
   "codemirror_mode": {
    "name": "ipython",
    "version": 3
   },
   "file_extension": ".py",
   "mimetype": "text/x-python",
   "name": "python",
   "nbconvert_exporter": "python",
   "pygments_lexer": "ipython3",
   "version": "3.11.5"
  }
 },
 "nbformat": 4,
 "nbformat_minor": 5
}
