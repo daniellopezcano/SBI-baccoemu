{
 "cells": [
  {
   "cell_type": "code",
   "execution_count": null,
   "id": "be9030e4",
   "metadata": {},
   "outputs": [],
   "source": [
    "N_threads = 1\n",
    "device = \"cpu\""
   ]
  },
  {
   "cell_type": "code",
   "execution_count": null,
   "id": "f9b70db9",
   "metadata": {},
   "outputs": [],
   "source": [
    "%load_ext autoreload\n",
    "\n",
    "import sys, os\n",
    "os.environ[\"OMP_NUM_THREADS\"] = str(N_threads)\n",
    "os.environ[\"OPENBLAS_NUM_THREADS\"] = str(N_threads)\n",
    "os.environ[\"MKL_NUM_THREADS\"] = str(N_threads)\n",
    "os.environ[\"VECLIB_MAXIMUM_THREADS\"] = str(N_threads)\n",
    "os.environ[\"NUMEXPR_NUM_THREADS\"] = str(N_threads)\n",
    "\n",
    "import numpy as np\n",
    "import torch\n",
    "\n",
    "import SBIBE as sbibe\n",
    "import preprocessing_tools\n",
    "\n",
    "%matplotlib notebook\n",
    "import matplotlib as mpl\n",
    "import matplotlib.pyplot as plt\n",
    "plt.style.use('default')\n",
    "plt.close('all')\n",
    "\n",
    "if device == \"cpu\":\n",
    "    torch.manual_seed(seed=0)\n",
    "if device == \"cuda\":\n",
    "    torch.cuda.manual_seed(seed=0)\n",
    "    torch.cuda.manual_seed_all(seed=0)"
   ]
  },
  {
   "cell_type": "code",
   "execution_count": null,
   "id": "2563c5bf",
   "metadata": {},
   "outputs": [],
   "source": [
    "NN=10"
   ]
  },
  {
   "cell_type": "markdown",
   "id": "ed6f70c7",
   "metadata": {},
   "source": [
    "# Train"
   ]
  },
  {
   "cell_type": "code",
   "execution_count": null,
   "id": "3fcf02f6",
   "metadata": {
    "scrolled": true
   },
   "outputs": [],
   "source": [
    "path_save_data = \"/dipc_storage/dlopez/Projects/sbibe/baccoemu_train/\"\n",
    "\n",
    "N_points = 3000\n",
    "seed=0\n",
    "\n",
    "dict_bounds=dict(\n",
    "  omega_cold=[0.23, 0.4],\n",
    "  omega_baryon=[0.04, 0.06],\n",
    "  hubble=[0.6, 0.8],\n",
    "  ns=[0.92, 1.01],\n",
    "  sigma8_cold=[0.73, 0.9]\n",
    ")\n",
    "\n",
    "theta_train = preprocessing_tools.sample_latin_hypercube(dict_bounds, N_points=N_points, seed=seed)\n",
    "preprocessing_tools.save_theta(path_save_data, theta_train)\n",
    "\n",
    "xx_A1_train = preprocessing_tools.get_Pk_vary_baryon_param(theta_train, min_value=9, max_value=13, NN=NN, baryon_key='M_c')\n",
    "preprocessing_tools.save_model(path_save_data, \"modelA1\", xx_A1_train)\n",
    "\n",
    "xx_A2_train = preprocessing_tools.get_Pk_vary_baryon_param(theta_train, min_value=14.6, max_value=15, NN=NN, baryon_key='M_c')\n",
    "preprocessing_tools.save_model(path_save_data, \"modelA2\", xx_A2_train)\n",
    "\n",
    "xx_R_train = preprocessing_tools.get_Pk_vary_baryon_param(theta_train, min_value=13.5, max_value=14.3, NN=NN, baryon_key='M_c')\n",
    "preprocessing_tools.save_model(path_save_data, \"modelR\", xx_R_train)"
   ]
  },
  {
   "cell_type": "code",
   "execution_count": null,
   "id": "88593087",
   "metadata": {},
   "outputs": [],
   "source": [
    "print(theta_train.shape)\n",
    "print(xx_A1_train.shape)\n",
    "print(xx_A2_train.shape)\n",
    "print(xx_R_train.shape)\n",
    "\n",
    "print(np.min(theta_train, axis=0))\n",
    "print(np.max(theta_train, axis=0))"
   ]
  },
  {
   "cell_type": "code",
   "execution_count": null,
   "id": "45d9f091",
   "metadata": {},
   "outputs": [],
   "source": [
    "fig, ax = sbibe.plot_utils.simple_plot(\n",
    "    x_label=r'$\\log_{10}\\mathrm{Wavenumber}\\, k \\left[ h\\, \\mathrm{Mpc}^{-1} \\right]$',\n",
    "    y_label=r'$\\log_{10}P(k) \\left[ \\left(h^{-1} \\mathrm{Mpc}\\right)^{3} \\right]$'\n",
    ")\n",
    "\n",
    "N_plot_cosmo = 3\n",
    "indexes_cosmo = np.random.choice(theta_train.shape[0], N_plot_cosmo, replace=False)\n",
    "\n",
    "colors = sbibe.plot_utils.get_N_colors(N_plot_cosmo, mpl.colormaps['prism'])\n",
    "markers = sbibe.plot_utils.get_N_markers(xx_A1_train.shape[0])\n",
    "for ii_cosmo, index_cosmo in enumerate(indexes_cosmo):\n",
    "    for ii_aug in range(xx_A1_train.shape[0]):\n",
    "        ax.plot(xx_A1_train[ii_aug, index_cosmo], c=colors[ii_cosmo], ls='--', lw=1, marker=markers[ii_aug], ms=3)\n",
    "        ax.plot(xx_A2_train[ii_aug, index_cosmo], c=colors[ii_cosmo], ls=':', lw=1, marker=markers[ii_aug], ms=3)\n",
    "        ax.plot(xx_R_train[ii_aug, index_cosmo], c=colors[ii_cosmo], ls='-', lw=1, marker=markers[ii_aug], ms=3)\n",
    "        \n",
    "plt.tight_layout()\n",
    "plt.show()"
   ]
  },
  {
   "cell_type": "markdown",
   "id": "c1ea7b6a",
   "metadata": {},
   "source": [
    "# Val"
   ]
  },
  {
   "cell_type": "code",
   "execution_count": null,
   "id": "78f6be9f",
   "metadata": {},
   "outputs": [],
   "source": [
    "path_save_data = \"/dipc_storage/dlopez/Projects/sbibe/baccoemu_val/\"\n",
    "\n",
    "N_points = 987\n",
    "seed=0\n",
    "\n",
    "dict_bounds=dict(\n",
    "  omega_cold=[0.25, 0.38],\n",
    "  omega_baryon=[0.042, 0.058],\n",
    "  hubble=[0.62, 0.78],\n",
    "  ns=[0.93, 1.00],\n",
    "  sigma8_cold=[0.75, 0.88]\n",
    ")\n",
    "\n",
    "theta_val = preprocessing_tools.sample_latin_hypercube(dict_bounds, N_points=N_points, seed=seed)\n",
    "preprocessing_tools.save_theta(path_save_data, theta_val)\n",
    "\n",
    "xx_A1_val = preprocessing_tools.get_Pk_vary_baryon_param(theta_val, min_value=9, max_value=13, NN=NN, baryon_key='M_c')\n",
    "preprocessing_tools.save_model(path_save_data, \"modelA1\", xx_A1_val)\n",
    "\n",
    "xx_A2_val = preprocessing_tools.get_Pk_vary_baryon_param(theta_val, min_value=14.6, max_value=15, NN=NN, baryon_key='M_c')\n",
    "preprocessing_tools.save_model(path_save_data, \"modelA2\", xx_A2_val)\n",
    "\n",
    "xx_R_val = preprocessing_tools.get_Pk_vary_baryon_param(theta_val, min_value=13.5, max_value=14.3, NN=NN, baryon_key='M_c')\n",
    "preprocessing_tools.save_model(path_save_data, \"modelR\", xx_R_val)"
   ]
  },
  {
   "cell_type": "code",
   "execution_count": null,
   "id": "56724647",
   "metadata": {},
   "outputs": [],
   "source": [
    "print(theta_val.shape)\n",
    "print(xx_A1_val.shape)\n",
    "print(xx_A2_val.shape)\n",
    "print(xx_R_val.shape)\n",
    "\n",
    "print(np.min(theta_val, axis=0))\n",
    "print(np.max(theta_val, axis=0))"
   ]
  },
  {
   "cell_type": "code",
   "execution_count": null,
   "id": "b9d7a7c1",
   "metadata": {},
   "outputs": [],
   "source": [
    "fig, ax = sbibe.plot_utils.simple_plot(\n",
    "    x_label=r'$\\log_{10}\\mathrm{Wavenumber}\\, k \\left[ h\\, \\mathrm{Mpc}^{-1} \\right]$',\n",
    "    y_label=r'$\\log_{10}P(k) \\left[ \\left(h^{-1} \\mathrm{Mpc}\\right)^{3} \\right]$'\n",
    ")\n",
    "\n",
    "N_plot_cosmo = 1\n",
    "indexes_cosmo = np.random.choice(theta_val.shape[0], N_plot_cosmo, replace=False)\n",
    "\n",
    "colors = sbibe.plot_utils.get_N_colors(N_plot_cosmo, mpl.colormaps['prism'])\n",
    "markers = sbibe.plot_utils.get_N_markers(xx_A1_val.shape[0])\n",
    "for ii_cosmo, index_cosmo in enumerate(indexes_cosmo):\n",
    "    for ii_aug in range(xx_A1_val.shape[0]):\n",
    "        ax.plot(xx_A1_val[ii_aug, index_cosmo], c=colors[ii_cosmo], ls='--', lw=1, marker=markers[ii_aug], ms=3)\n",
    "        ax.plot(xx_A2_val[ii_aug, index_cosmo], c=colors[ii_cosmo], ls=':', lw=1, marker=markers[ii_aug], ms=3)\n",
    "        ax.plot(xx_R_val[ii_aug, index_cosmo], c=colors[ii_cosmo], ls='-', lw=1, marker=markers[ii_aug], ms=3)\n",
    "        \n",
    "plt.tight_layout()\n",
    "plt.show()"
   ]
  },
  {
   "cell_type": "markdown",
   "id": "9f8c82a7",
   "metadata": {},
   "source": [
    "# test"
   ]
  },
  {
   "cell_type": "code",
   "execution_count": null,
   "id": "d2883039",
   "metadata": {},
   "outputs": [],
   "source": [
    "path_save_data = \"/dipc_storage/dlopez/Projects/sbibe/baccoemu_test/\"\n",
    "\n",
    "N_points = 987\n",
    "seed=137\n",
    "\n",
    "dict_bounds=dict(\n",
    "  omega_cold=[0.25, 0.38],\n",
    "  omega_baryon=[0.042, 0.058],\n",
    "  hubble=[0.62, 0.78],\n",
    "  ns=[0.93, 1.00],\n",
    "  sigma8_cold=[0.75, 0.88]\n",
    ")\n",
    "\n",
    "theta_test = preprocessing_tools.sample_latin_hypercube(dict_bounds, N_points=N_points, seed=seed)\n",
    "preprocessing_tools.save_theta(path_save_data, theta_test)\n",
    "\n",
    "xx_A1_test = preprocessing_tools.get_Pk_vary_baryon_param(theta_test, min_value=9, max_value=13, NN=NN, baryon_key='M_c')\n",
    "preprocessing_tools.save_model(path_save_data, \"modelA1\", xx_A1_test)\n",
    "\n",
    "xx_A2_test = preprocessing_tools.get_Pk_vary_baryon_param(theta_test, min_value=14.6, max_value=15, NN=NN, baryon_key='M_c')\n",
    "preprocessing_tools.save_model(path_save_data, \"modelA2\", xx_A2_test)\n",
    "\n",
    "xx_R_test = preprocessing_tools.get_Pk_vary_baryon_param(theta_test, min_value=13.5, max_value=14.3, NN=NN, baryon_key='M_c')\n",
    "preprocessing_tools.save_model(path_save_data, \"modelR\", xx_R_test)"
   ]
  },
  {
   "cell_type": "code",
   "execution_count": null,
   "id": "739da23b",
   "metadata": {},
   "outputs": [],
   "source": [
    "print(theta_test.shape)\n",
    "print(xx_A1_test.shape)\n",
    "print(xx_A2_test.shape)\n",
    "print(xx_R_test.shape)\n",
    "\n",
    "print(np.min(theta_test, axis=0))\n",
    "print(np.max(theta_test, axis=0))"
   ]
  },
  {
   "cell_type": "code",
   "execution_count": null,
   "id": "b50e2506",
   "metadata": {},
   "outputs": [],
   "source": [
    "fig, ax = sbibe.plot_utils.simple_plot(\n",
    "    x_label=r'$\\log_{10}\\mathrm{Wavenumber}\\, k \\left[ h\\, \\mathrm{Mpc}^{-1} \\right]$',\n",
    "    y_label=r'$\\log_{10}P(k) \\left[ \\left(h^{-1} \\mathrm{Mpc}\\right)^{3} \\right]$'\n",
    ")\n",
    "\n",
    "N_plot_cosmo = 3\n",
    "indexes_cosmo = np.random.choice(theta_test.shape[0], N_plot_cosmo, replace=False)\n",
    "\n",
    "colors = sbibe.plot_utils.get_N_colors(N_plot_cosmo, mpl.colormaps['prism'])\n",
    "markers = sbibe.plot_utils.get_N_markers(xx_A1_test.shape[0])\n",
    "for ii_cosmo, index_cosmo in enumerate(indexes_cosmo):\n",
    "    for ii_aug in range(xx_A1_test.shape[0]):\n",
    "        ax.plot(xx_A1_test[ii_aug, index_cosmo], c=colors[ii_cosmo], ls='--', lw=1, marker=markers[ii_aug], ms=3)\n",
    "        ax.plot(xx_A2_test[ii_aug, index_cosmo], c=colors[ii_cosmo], ls=':', lw=1, marker=markers[ii_aug], ms=3)\n",
    "        ax.plot(xx_R_test[ii_aug, index_cosmo], c=colors[ii_cosmo], ls='-', lw=1, marker=markers[ii_aug], ms=3)\n",
    "        \n",
    "plt.tight_layout()\n",
    "plt.show()"
   ]
  },
  {
   "cell_type": "code",
   "execution_count": null,
   "id": "8041996e",
   "metadata": {},
   "outputs": [],
   "source": []
  }
 ],
 "metadata": {
  "kernelspec": {
   "display_name": "Python 3 (ipykernel)",
   "language": "python",
   "name": "python3"
  },
  "language_info": {
   "codemirror_mode": {
    "name": "ipython",
    "version": 3
   },
   "file_extension": ".py",
   "mimetype": "text/x-python",
   "name": "python",
   "nbconvert_exporter": "python",
   "pygments_lexer": "ipython3",
   "version": "3.11.5"
  }
 },
 "nbformat": 4,
 "nbformat_minor": 5
}
