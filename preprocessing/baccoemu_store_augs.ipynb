{
 "cells": [
  {
   "cell_type": "code",
   "execution_count": 1,
   "id": "be9030e4",
   "metadata": {},
   "outputs": [],
   "source": [
    "N_threads = 1\n",
    "device = \"cpu\""
   ]
  },
  {
   "cell_type": "code",
   "execution_count": 2,
   "id": "f9b70db9",
   "metadata": {},
   "outputs": [
    {
     "name": "stderr",
     "output_type": "stream",
     "text": [
      "2023-10-25 22:17:21.972909: E tensorflow/compiler/xla/stream_executor/cuda/cuda_dnn.cc:9342] Unable to register cuDNN factory: Attempting to register factory for plugin cuDNN when one has already been registered\n",
      "2023-10-25 22:17:21.972947: E tensorflow/compiler/xla/stream_executor/cuda/cuda_fft.cc:609] Unable to register cuFFT factory: Attempting to register factory for plugin cuFFT when one has already been registered\n",
      "2023-10-25 22:17:21.972968: E tensorflow/compiler/xla/stream_executor/cuda/cuda_blas.cc:1518] Unable to register cuBLAS factory: Attempting to register factory for plugin cuBLAS when one has already been registered\n",
      "2023-10-25 22:17:21.982287: I tensorflow/core/platform/cpu_feature_guard.cc:182] This TensorFlow binary is optimized to use available CPU instructions in performance-critical operations.\n",
      "To enable the following instructions: AVX2 AVX512F FMA, in other operations, rebuild TensorFlow with the appropriate compiler flags.\n",
      "2023-10-25 22:17:22.936572: W tensorflow/compiler/tf2tensorrt/utils/py_utils.cc:38] TF-TRT Warning: Could not find TensorRT\n",
      "2023-10-25 22:17:23.924437: W tensorflow/core/common_runtime/gpu/gpu_device.cc:2211] Cannot dlopen some GPU libraries. Please make sure the missing libraries mentioned above are installed properly if you would like to use GPU. Follow the guide at https://www.tensorflow.org/install/gpu for how to download and setup the required libraries for your platform.\n",
      "Skipping registering GPU devices...\n"
     ]
    }
   ],
   "source": [
    "%load_ext autoreload\n",
    "\n",
    "import sys, os\n",
    "os.environ[\"OMP_NUM_THREADS\"] = str(N_threads)\n",
    "os.environ[\"OPENBLAS_NUM_THREADS\"] = str(N_threads)\n",
    "os.environ[\"MKL_NUM_THREADS\"] = str(N_threads)\n",
    "os.environ[\"VECLIB_MAXIMUM_THREADS\"] = str(N_threads)\n",
    "os.environ[\"NUMEXPR_NUM_THREADS\"] = str(N_threads)\n",
    "\n",
    "import numpy as np\n",
    "import torch\n",
    "\n",
    "import SBIBE as sbibe\n",
    "import preprocessing_tools\n",
    "\n",
    "%matplotlib notebook\n",
    "import matplotlib as mpl\n",
    "import matplotlib.pyplot as plt\n",
    "plt.style.use('default')\n",
    "plt.close('all')\n",
    "\n",
    "if device == \"cpu\":\n",
    "    torch.manual_seed(seed=0)\n",
    "if device == \"cuda\":\n",
    "    torch.cuda.manual_seed(seed=0)\n",
    "    torch.cuda.manual_seed_all(seed=0)"
   ]
  },
  {
   "cell_type": "code",
   "execution_count": 3,
   "id": "2563c5bf",
   "metadata": {},
   "outputs": [],
   "source": [
    "NN=10"
   ]
  },
  {
   "cell_type": "markdown",
   "id": "ed6f70c7",
   "metadata": {},
   "source": [
    "# Train"
   ]
  },
  {
   "cell_type": "code",
   "execution_count": 4,
   "id": "3fcf02f6",
   "metadata": {
    "scrolled": true
   },
   "outputs": [
    {
     "name": "stdout",
     "output_type": "stream",
     "text": [
      "Loading sigma8 emulator...\n",
      "Sigma8 emulator loaded in memory.\n",
      "Loading linear emulator...\n"
     ]
    },
    {
     "name": "stderr",
     "output_type": "stream",
     "text": [
      "/lscratch/dlopez/programs/miniconda_20221210/miniconda3/envs/VE_SBIBE/lib/python3.11/site-packages/sklearn/base.py:348: InconsistentVersionWarning: Trying to unpickle estimator PCA from version 1.0 when using version 1.3.2. This might lead to breaking code or invalid results. Use at your own risk. For more info please refer to:\n",
      "https://scikit-learn.org/stable/model_persistence.html#security-maintainability-limitations\n",
      "  warnings.warn(\n",
      "/lscratch/dlopez/programs/miniconda_20221210/miniconda3/envs/VE_SBIBE/lib/python3.11/site-packages/sklearn/base.py:348: InconsistentVersionWarning: Trying to unpickle estimator StandardScaler from version 1.0 when using version 1.3.2. This might lead to breaking code or invalid results. Use at your own risk. For more info please refer to:\n",
      "https://scikit-learn.org/stable/model_persistence.html#security-maintainability-limitations\n",
      "  warnings.warn(\n",
      "/lscratch/dlopez/programs/miniconda_20221210/miniconda3/envs/VE_SBIBE/lib/python3.11/site-packages/sklearn/base.py:348: InconsistentVersionWarning: Trying to unpickle estimator PCA from version 1.0 when using version 1.3.2. This might lead to breaking code or invalid results. Use at your own risk. For more info please refer to:\n",
      "https://scikit-learn.org/stable/model_persistence.html#security-maintainability-limitations\n",
      "  warnings.warn(\n",
      "/lscratch/dlopez/programs/miniconda_20221210/miniconda3/envs/VE_SBIBE/lib/python3.11/site-packages/sklearn/base.py:348: InconsistentVersionWarning: Trying to unpickle estimator StandardScaler from version 1.0 when using version 1.3.2. This might lead to breaking code or invalid results. Use at your own risk. For more info please refer to:\n",
      "https://scikit-learn.org/stable/model_persistence.html#security-maintainability-limitations\n",
      "  warnings.warn(\n"
     ]
    },
    {
     "name": "stdout",
     "output_type": "stream",
     "text": [
      "Linear emulator loaded in memory.\n",
      "Loading no-wiggles emulator...\n"
     ]
    },
    {
     "name": "stderr",
     "output_type": "stream",
     "text": [
      "/lscratch/dlopez/programs/miniconda_20221210/miniconda3/envs/VE_SBIBE/lib/python3.11/site-packages/sklearn/base.py:348: InconsistentVersionWarning: Trying to unpickle estimator StandardScaler from version 1.0.2 when using version 1.3.2. This might lead to breaking code or invalid results. Use at your own risk. For more info please refer to:\n",
      "https://scikit-learn.org/stable/model_persistence.html#security-maintainability-limitations\n",
      "  warnings.warn(\n",
      "/lscratch/dlopez/programs/miniconda_20221210/miniconda3/envs/VE_SBIBE/lib/python3.11/site-packages/sklearn/base.py:348: InconsistentVersionWarning: Trying to unpickle estimator StandardScaler from version 0.22.1 when using version 1.3.2. This might lead to breaking code or invalid results. Use at your own risk. For more info please refer to:\n",
      "https://scikit-learn.org/stable/model_persistence.html#security-maintainability-limitations\n",
      "  warnings.warn(\n",
      "/lscratch/dlopez/programs/miniconda_20221210/miniconda3/envs/VE_SBIBE/lib/python3.11/site-packages/sklearn/base.py:348: InconsistentVersionWarning: Trying to unpickle estimator PCA from version 0.22.1 when using version 1.3.2. This might lead to breaking code or invalid results. Use at your own risk. For more info please refer to:\n",
      "https://scikit-learn.org/stable/model_persistence.html#security-maintainability-limitations\n",
      "  warnings.warn(\n"
     ]
    },
    {
     "name": "stdout",
     "output_type": "stream",
     "text": [
      "No-wiggles emulator loaded in memory.\n",
      "Loading non-linear emulator...\n",
      "Nonlinear emulator loaded in memory.\n",
      "Loading Baryonic Emulator...\n"
     ]
    },
    {
     "name": "stderr",
     "output_type": "stream",
     "text": [
      "/lscratch/dlopez/programs/miniconda_20221210/miniconda3/envs/VE_SBIBE/lib/python3.11/site-packages/sklearn/base.py:348: InconsistentVersionWarning: Trying to unpickle estimator StandardScaler from version 0.23.2 when using version 1.3.2. This might lead to breaking code or invalid results. Use at your own risk. For more info please refer to:\n",
      "https://scikit-learn.org/stable/model_persistence.html#security-maintainability-limitations\n",
      "  warnings.warn(\n",
      "/lscratch/dlopez/programs/miniconda_20221210/miniconda3/envs/VE_SBIBE/lib/python3.11/site-packages/sklearn/base.py:348: InconsistentVersionWarning: Trying to unpickle estimator PCA from version 0.23.2 when using version 1.3.2. This might lead to breaking code or invalid results. Use at your own risk. For more info please refer to:\n",
      "https://scikit-learn.org/stable/model_persistence.html#security-maintainability-limitations\n",
      "  warnings.warn(\n"
     ]
    },
    {
     "name": "stdout",
     "output_type": "stream",
     "text": [
      "Baryonic Emulator loaded in memory.\n",
      "Loading sigma8 emulator...\n",
      "Sigma8 emulator loaded in memory.\n",
      "Loading linear emulator...\n"
     ]
    },
    {
     "name": "stderr",
     "output_type": "stream",
     "text": [
      "/lscratch/dlopez/programs/miniconda_20221210/miniconda3/envs/VE_SBIBE/lib/python3.11/site-packages/sklearn/base.py:348: InconsistentVersionWarning: Trying to unpickle estimator PCA from version 1.0 when using version 1.3.2. This might lead to breaking code or invalid results. Use at your own risk. For more info please refer to:\n",
      "https://scikit-learn.org/stable/model_persistence.html#security-maintainability-limitations\n",
      "  warnings.warn(\n",
      "/lscratch/dlopez/programs/miniconda_20221210/miniconda3/envs/VE_SBIBE/lib/python3.11/site-packages/sklearn/base.py:348: InconsistentVersionWarning: Trying to unpickle estimator StandardScaler from version 1.0 when using version 1.3.2. This might lead to breaking code or invalid results. Use at your own risk. For more info please refer to:\n",
      "https://scikit-learn.org/stable/model_persistence.html#security-maintainability-limitations\n",
      "  warnings.warn(\n",
      "/lscratch/dlopez/programs/miniconda_20221210/miniconda3/envs/VE_SBIBE/lib/python3.11/site-packages/sklearn/base.py:348: InconsistentVersionWarning: Trying to unpickle estimator PCA from version 1.0 when using version 1.3.2. This might lead to breaking code or invalid results. Use at your own risk. For more info please refer to:\n",
      "https://scikit-learn.org/stable/model_persistence.html#security-maintainability-limitations\n",
      "  warnings.warn(\n",
      "/lscratch/dlopez/programs/miniconda_20221210/miniconda3/envs/VE_SBIBE/lib/python3.11/site-packages/sklearn/base.py:348: InconsistentVersionWarning: Trying to unpickle estimator StandardScaler from version 1.0 when using version 1.3.2. This might lead to breaking code or invalid results. Use at your own risk. For more info please refer to:\n",
      "https://scikit-learn.org/stable/model_persistence.html#security-maintainability-limitations\n",
      "  warnings.warn(\n"
     ]
    },
    {
     "name": "stdout",
     "output_type": "stream",
     "text": [
      "Linear emulator loaded in memory.\n",
      "Loading no-wiggles emulator...\n",
      "No-wiggles emulator loaded in memory.\n",
      "Loading non-linear emulator...\n"
     ]
    },
    {
     "name": "stderr",
     "output_type": "stream",
     "text": [
      "/lscratch/dlopez/programs/miniconda_20221210/miniconda3/envs/VE_SBIBE/lib/python3.11/site-packages/sklearn/base.py:348: InconsistentVersionWarning: Trying to unpickle estimator StandardScaler from version 1.0.2 when using version 1.3.2. This might lead to breaking code or invalid results. Use at your own risk. For more info please refer to:\n",
      "https://scikit-learn.org/stable/model_persistence.html#security-maintainability-limitations\n",
      "  warnings.warn(\n",
      "/lscratch/dlopez/programs/miniconda_20221210/miniconda3/envs/VE_SBIBE/lib/python3.11/site-packages/sklearn/base.py:348: InconsistentVersionWarning: Trying to unpickle estimator StandardScaler from version 0.22.1 when using version 1.3.2. This might lead to breaking code or invalid results. Use at your own risk. For more info please refer to:\n",
      "https://scikit-learn.org/stable/model_persistence.html#security-maintainability-limitations\n",
      "  warnings.warn(\n",
      "/lscratch/dlopez/programs/miniconda_20221210/miniconda3/envs/VE_SBIBE/lib/python3.11/site-packages/sklearn/base.py:348: InconsistentVersionWarning: Trying to unpickle estimator PCA from version 0.22.1 when using version 1.3.2. This might lead to breaking code or invalid results. Use at your own risk. For more info please refer to:\n",
      "https://scikit-learn.org/stable/model_persistence.html#security-maintainability-limitations\n",
      "  warnings.warn(\n"
     ]
    },
    {
     "name": "stdout",
     "output_type": "stream",
     "text": [
      "Nonlinear emulator loaded in memory.\n",
      "Loading Baryonic Emulator...\n",
      "Baryonic Emulator loaded in memory.\n"
     ]
    },
    {
     "name": "stderr",
     "output_type": "stream",
     "text": [
      "/lscratch/dlopez/programs/miniconda_20221210/miniconda3/envs/VE_SBIBE/lib/python3.11/site-packages/sklearn/base.py:348: InconsistentVersionWarning: Trying to unpickle estimator StandardScaler from version 0.23.2 when using version 1.3.2. This might lead to breaking code or invalid results. Use at your own risk. For more info please refer to:\n",
      "https://scikit-learn.org/stable/model_persistence.html#security-maintainability-limitations\n",
      "  warnings.warn(\n",
      "/lscratch/dlopez/programs/miniconda_20221210/miniconda3/envs/VE_SBIBE/lib/python3.11/site-packages/sklearn/base.py:348: InconsistentVersionWarning: Trying to unpickle estimator PCA from version 0.23.2 when using version 1.3.2. This might lead to breaking code or invalid results. Use at your own risk. For more info please refer to:\n",
      "https://scikit-learn.org/stable/model_persistence.html#security-maintainability-limitations\n",
      "  warnings.warn(\n"
     ]
    },
    {
     "name": "stdout",
     "output_type": "stream",
     "text": [
      "Loading sigma8 emulator...\n",
      "Sigma8 emulator loaded in memory.\n",
      "Loading linear emulator...\n"
     ]
    },
    {
     "name": "stderr",
     "output_type": "stream",
     "text": [
      "/lscratch/dlopez/programs/miniconda_20221210/miniconda3/envs/VE_SBIBE/lib/python3.11/site-packages/sklearn/base.py:348: InconsistentVersionWarning: Trying to unpickle estimator PCA from version 1.0 when using version 1.3.2. This might lead to breaking code or invalid results. Use at your own risk. For more info please refer to:\n",
      "https://scikit-learn.org/stable/model_persistence.html#security-maintainability-limitations\n",
      "  warnings.warn(\n",
      "/lscratch/dlopez/programs/miniconda_20221210/miniconda3/envs/VE_SBIBE/lib/python3.11/site-packages/sklearn/base.py:348: InconsistentVersionWarning: Trying to unpickle estimator StandardScaler from version 1.0 when using version 1.3.2. This might lead to breaking code or invalid results. Use at your own risk. For more info please refer to:\n",
      "https://scikit-learn.org/stable/model_persistence.html#security-maintainability-limitations\n",
      "  warnings.warn(\n",
      "/lscratch/dlopez/programs/miniconda_20221210/miniconda3/envs/VE_SBIBE/lib/python3.11/site-packages/sklearn/base.py:348: InconsistentVersionWarning: Trying to unpickle estimator PCA from version 1.0 when using version 1.3.2. This might lead to breaking code or invalid results. Use at your own risk. For more info please refer to:\n",
      "https://scikit-learn.org/stable/model_persistence.html#security-maintainability-limitations\n",
      "  warnings.warn(\n",
      "/lscratch/dlopez/programs/miniconda_20221210/miniconda3/envs/VE_SBIBE/lib/python3.11/site-packages/sklearn/base.py:348: InconsistentVersionWarning: Trying to unpickle estimator StandardScaler from version 1.0 when using version 1.3.2. This might lead to breaking code or invalid results. Use at your own risk. For more info please refer to:\n",
      "https://scikit-learn.org/stable/model_persistence.html#security-maintainability-limitations\n",
      "  warnings.warn(\n"
     ]
    },
    {
     "name": "stdout",
     "output_type": "stream",
     "text": [
      "Linear emulator loaded in memory.\n",
      "Loading no-wiggles emulator...\n",
      "No-wiggles emulator loaded in memory.\n",
      "Loading non-linear emulator...\n"
     ]
    },
    {
     "name": "stderr",
     "output_type": "stream",
     "text": [
      "/lscratch/dlopez/programs/miniconda_20221210/miniconda3/envs/VE_SBIBE/lib/python3.11/site-packages/sklearn/base.py:348: InconsistentVersionWarning: Trying to unpickle estimator StandardScaler from version 1.0.2 when using version 1.3.2. This might lead to breaking code or invalid results. Use at your own risk. For more info please refer to:\n",
      "https://scikit-learn.org/stable/model_persistence.html#security-maintainability-limitations\n",
      "  warnings.warn(\n",
      "/lscratch/dlopez/programs/miniconda_20221210/miniconda3/envs/VE_SBIBE/lib/python3.11/site-packages/sklearn/base.py:348: InconsistentVersionWarning: Trying to unpickle estimator StandardScaler from version 0.22.1 when using version 1.3.2. This might lead to breaking code or invalid results. Use at your own risk. For more info please refer to:\n",
      "https://scikit-learn.org/stable/model_persistence.html#security-maintainability-limitations\n",
      "  warnings.warn(\n",
      "/lscratch/dlopez/programs/miniconda_20221210/miniconda3/envs/VE_SBIBE/lib/python3.11/site-packages/sklearn/base.py:348: InconsistentVersionWarning: Trying to unpickle estimator PCA from version 0.22.1 when using version 1.3.2. This might lead to breaking code or invalid results. Use at your own risk. For more info please refer to:\n",
      "https://scikit-learn.org/stable/model_persistence.html#security-maintainability-limitations\n",
      "  warnings.warn(\n"
     ]
    },
    {
     "name": "stdout",
     "output_type": "stream",
     "text": [
      "Nonlinear emulator loaded in memory.\n",
      "Loading Baryonic Emulator...\n",
      "Baryonic Emulator loaded in memory.\n"
     ]
    },
    {
     "name": "stderr",
     "output_type": "stream",
     "text": [
      "/lscratch/dlopez/programs/miniconda_20221210/miniconda3/envs/VE_SBIBE/lib/python3.11/site-packages/sklearn/base.py:348: InconsistentVersionWarning: Trying to unpickle estimator StandardScaler from version 0.23.2 when using version 1.3.2. This might lead to breaking code or invalid results. Use at your own risk. For more info please refer to:\n",
      "https://scikit-learn.org/stable/model_persistence.html#security-maintainability-limitations\n",
      "  warnings.warn(\n",
      "/lscratch/dlopez/programs/miniconda_20221210/miniconda3/envs/VE_SBIBE/lib/python3.11/site-packages/sklearn/base.py:348: InconsistentVersionWarning: Trying to unpickle estimator PCA from version 0.23.2 when using version 1.3.2. This might lead to breaking code or invalid results. Use at your own risk. For more info please refer to:\n",
      "https://scikit-learn.org/stable/model_persistence.html#security-maintainability-limitations\n",
      "  warnings.warn(\n"
     ]
    },
    {
     "name": "stdout",
     "output_type": "stream",
     "text": [
      "Loading sigma8 emulator...\n",
      "Sigma8 emulator loaded in memory.\n",
      "Loading linear emulator...\n"
     ]
    },
    {
     "name": "stderr",
     "output_type": "stream",
     "text": [
      "/lscratch/dlopez/programs/miniconda_20221210/miniconda3/envs/VE_SBIBE/lib/python3.11/site-packages/sklearn/base.py:348: InconsistentVersionWarning: Trying to unpickle estimator PCA from version 1.0 when using version 1.3.2. This might lead to breaking code or invalid results. Use at your own risk. For more info please refer to:\n",
      "https://scikit-learn.org/stable/model_persistence.html#security-maintainability-limitations\n",
      "  warnings.warn(\n",
      "/lscratch/dlopez/programs/miniconda_20221210/miniconda3/envs/VE_SBIBE/lib/python3.11/site-packages/sklearn/base.py:348: InconsistentVersionWarning: Trying to unpickle estimator StandardScaler from version 1.0 when using version 1.3.2. This might lead to breaking code or invalid results. Use at your own risk. For more info please refer to:\n",
      "https://scikit-learn.org/stable/model_persistence.html#security-maintainability-limitations\n",
      "  warnings.warn(\n",
      "/lscratch/dlopez/programs/miniconda_20221210/miniconda3/envs/VE_SBIBE/lib/python3.11/site-packages/sklearn/base.py:348: InconsistentVersionWarning: Trying to unpickle estimator PCA from version 1.0 when using version 1.3.2. This might lead to breaking code or invalid results. Use at your own risk. For more info please refer to:\n",
      "https://scikit-learn.org/stable/model_persistence.html#security-maintainability-limitations\n",
      "  warnings.warn(\n",
      "/lscratch/dlopez/programs/miniconda_20221210/miniconda3/envs/VE_SBIBE/lib/python3.11/site-packages/sklearn/base.py:348: InconsistentVersionWarning: Trying to unpickle estimator StandardScaler from version 1.0 when using version 1.3.2. This might lead to breaking code or invalid results. Use at your own risk. For more info please refer to:\n",
      "https://scikit-learn.org/stable/model_persistence.html#security-maintainability-limitations\n",
      "  warnings.warn(\n"
     ]
    },
    {
     "name": "stdout",
     "output_type": "stream",
     "text": [
      "Linear emulator loaded in memory.\n",
      "Loading no-wiggles emulator...\n",
      "No-wiggles emulator loaded in memory.\n",
      "Loading non-linear emulator...\n"
     ]
    },
    {
     "name": "stderr",
     "output_type": "stream",
     "text": [
      "/lscratch/dlopez/programs/miniconda_20221210/miniconda3/envs/VE_SBIBE/lib/python3.11/site-packages/sklearn/base.py:348: InconsistentVersionWarning: Trying to unpickle estimator StandardScaler from version 1.0.2 when using version 1.3.2. This might lead to breaking code or invalid results. Use at your own risk. For more info please refer to:\n",
      "https://scikit-learn.org/stable/model_persistence.html#security-maintainability-limitations\n",
      "  warnings.warn(\n",
      "/lscratch/dlopez/programs/miniconda_20221210/miniconda3/envs/VE_SBIBE/lib/python3.11/site-packages/sklearn/base.py:348: InconsistentVersionWarning: Trying to unpickle estimator StandardScaler from version 0.22.1 when using version 1.3.2. This might lead to breaking code or invalid results. Use at your own risk. For more info please refer to:\n",
      "https://scikit-learn.org/stable/model_persistence.html#security-maintainability-limitations\n",
      "  warnings.warn(\n",
      "/lscratch/dlopez/programs/miniconda_20221210/miniconda3/envs/VE_SBIBE/lib/python3.11/site-packages/sklearn/base.py:348: InconsistentVersionWarning: Trying to unpickle estimator PCA from version 0.22.1 when using version 1.3.2. This might lead to breaking code or invalid results. Use at your own risk. For more info please refer to:\n",
      "https://scikit-learn.org/stable/model_persistence.html#security-maintainability-limitations\n",
      "  warnings.warn(\n"
     ]
    },
    {
     "name": "stdout",
     "output_type": "stream",
     "text": [
      "Nonlinear emulator loaded in memory.\n",
      "Loading Baryonic Emulator...\n",
      "Baryonic Emulator loaded in memory.\n"
     ]
    },
    {
     "name": "stderr",
     "output_type": "stream",
     "text": [
      "/lscratch/dlopez/programs/miniconda_20221210/miniconda3/envs/VE_SBIBE/lib/python3.11/site-packages/sklearn/base.py:348: InconsistentVersionWarning: Trying to unpickle estimator StandardScaler from version 0.23.2 when using version 1.3.2. This might lead to breaking code or invalid results. Use at your own risk. For more info please refer to:\n",
      "https://scikit-learn.org/stable/model_persistence.html#security-maintainability-limitations\n",
      "  warnings.warn(\n",
      "/lscratch/dlopez/programs/miniconda_20221210/miniconda3/envs/VE_SBIBE/lib/python3.11/site-packages/sklearn/base.py:348: InconsistentVersionWarning: Trying to unpickle estimator PCA from version 0.23.2 when using version 1.3.2. This might lead to breaking code or invalid results. Use at your own risk. For more info please refer to:\n",
      "https://scikit-learn.org/stable/model_persistence.html#security-maintainability-limitations\n",
      "  warnings.warn(\n"
     ]
    },
    {
     "name": "stdout",
     "output_type": "stream",
     "text": [
      "Loading sigma8 emulator...\n",
      "Sigma8 emulator loaded in memory.\n",
      "Loading linear emulator...\n"
     ]
    },
    {
     "name": "stderr",
     "output_type": "stream",
     "text": [
      "/lscratch/dlopez/programs/miniconda_20221210/miniconda3/envs/VE_SBIBE/lib/python3.11/site-packages/sklearn/base.py:348: InconsistentVersionWarning: Trying to unpickle estimator PCA from version 1.0 when using version 1.3.2. This might lead to breaking code or invalid results. Use at your own risk. For more info please refer to:\n",
      "https://scikit-learn.org/stable/model_persistence.html#security-maintainability-limitations\n",
      "  warnings.warn(\n",
      "/lscratch/dlopez/programs/miniconda_20221210/miniconda3/envs/VE_SBIBE/lib/python3.11/site-packages/sklearn/base.py:348: InconsistentVersionWarning: Trying to unpickle estimator StandardScaler from version 1.0 when using version 1.3.2. This might lead to breaking code or invalid results. Use at your own risk. For more info please refer to:\n",
      "https://scikit-learn.org/stable/model_persistence.html#security-maintainability-limitations\n",
      "  warnings.warn(\n",
      "/lscratch/dlopez/programs/miniconda_20221210/miniconda3/envs/VE_SBIBE/lib/python3.11/site-packages/sklearn/base.py:348: InconsistentVersionWarning: Trying to unpickle estimator PCA from version 1.0 when using version 1.3.2. This might lead to breaking code or invalid results. Use at your own risk. For more info please refer to:\n",
      "https://scikit-learn.org/stable/model_persistence.html#security-maintainability-limitations\n",
      "  warnings.warn(\n",
      "/lscratch/dlopez/programs/miniconda_20221210/miniconda3/envs/VE_SBIBE/lib/python3.11/site-packages/sklearn/base.py:348: InconsistentVersionWarning: Trying to unpickle estimator StandardScaler from version 1.0 when using version 1.3.2. This might lead to breaking code or invalid results. Use at your own risk. For more info please refer to:\n",
      "https://scikit-learn.org/stable/model_persistence.html#security-maintainability-limitations\n",
      "  warnings.warn(\n"
     ]
    },
    {
     "name": "stdout",
     "output_type": "stream",
     "text": [
      "Linear emulator loaded in memory.\n",
      "Loading no-wiggles emulator...\n",
      "No-wiggles emulator loaded in memory.\n",
      "Loading non-linear emulator...\n"
     ]
    },
    {
     "name": "stderr",
     "output_type": "stream",
     "text": [
      "/lscratch/dlopez/programs/miniconda_20221210/miniconda3/envs/VE_SBIBE/lib/python3.11/site-packages/sklearn/base.py:348: InconsistentVersionWarning: Trying to unpickle estimator StandardScaler from version 1.0.2 when using version 1.3.2. This might lead to breaking code or invalid results. Use at your own risk. For more info please refer to:\n",
      "https://scikit-learn.org/stable/model_persistence.html#security-maintainability-limitations\n",
      "  warnings.warn(\n",
      "/lscratch/dlopez/programs/miniconda_20221210/miniconda3/envs/VE_SBIBE/lib/python3.11/site-packages/sklearn/base.py:348: InconsistentVersionWarning: Trying to unpickle estimator StandardScaler from version 0.22.1 when using version 1.3.2. This might lead to breaking code or invalid results. Use at your own risk. For more info please refer to:\n",
      "https://scikit-learn.org/stable/model_persistence.html#security-maintainability-limitations\n",
      "  warnings.warn(\n",
      "/lscratch/dlopez/programs/miniconda_20221210/miniconda3/envs/VE_SBIBE/lib/python3.11/site-packages/sklearn/base.py:348: InconsistentVersionWarning: Trying to unpickle estimator PCA from version 0.22.1 when using version 1.3.2. This might lead to breaking code or invalid results. Use at your own risk. For more info please refer to:\n",
      "https://scikit-learn.org/stable/model_persistence.html#security-maintainability-limitations\n",
      "  warnings.warn(\n"
     ]
    },
    {
     "name": "stdout",
     "output_type": "stream",
     "text": [
      "Nonlinear emulator loaded in memory.\n",
      "Loading Baryonic Emulator...\n",
      "Baryonic Emulator loaded in memory.\n"
     ]
    },
    {
     "name": "stderr",
     "output_type": "stream",
     "text": [
      "/lscratch/dlopez/programs/miniconda_20221210/miniconda3/envs/VE_SBIBE/lib/python3.11/site-packages/sklearn/base.py:348: InconsistentVersionWarning: Trying to unpickle estimator StandardScaler from version 0.23.2 when using version 1.3.2. This might lead to breaking code or invalid results. Use at your own risk. For more info please refer to:\n",
      "https://scikit-learn.org/stable/model_persistence.html#security-maintainability-limitations\n",
      "  warnings.warn(\n",
      "/lscratch/dlopez/programs/miniconda_20221210/miniconda3/envs/VE_SBIBE/lib/python3.11/site-packages/sklearn/base.py:348: InconsistentVersionWarning: Trying to unpickle estimator PCA from version 0.23.2 when using version 1.3.2. This might lead to breaking code or invalid results. Use at your own risk. For more info please refer to:\n",
      "https://scikit-learn.org/stable/model_persistence.html#security-maintainability-limitations\n",
      "  warnings.warn(\n"
     ]
    },
    {
     "name": "stdout",
     "output_type": "stream",
     "text": [
      "Loading sigma8 emulator...\n",
      "Sigma8 emulator loaded in memory.\n",
      "Loading linear emulator...\n"
     ]
    },
    {
     "name": "stderr",
     "output_type": "stream",
     "text": [
      "/lscratch/dlopez/programs/miniconda_20221210/miniconda3/envs/VE_SBIBE/lib/python3.11/site-packages/sklearn/base.py:348: InconsistentVersionWarning: Trying to unpickle estimator PCA from version 1.0 when using version 1.3.2. This might lead to breaking code or invalid results. Use at your own risk. For more info please refer to:\n",
      "https://scikit-learn.org/stable/model_persistence.html#security-maintainability-limitations\n",
      "  warnings.warn(\n",
      "/lscratch/dlopez/programs/miniconda_20221210/miniconda3/envs/VE_SBIBE/lib/python3.11/site-packages/sklearn/base.py:348: InconsistentVersionWarning: Trying to unpickle estimator StandardScaler from version 1.0 when using version 1.3.2. This might lead to breaking code or invalid results. Use at your own risk. For more info please refer to:\n",
      "https://scikit-learn.org/stable/model_persistence.html#security-maintainability-limitations\n",
      "  warnings.warn(\n",
      "/lscratch/dlopez/programs/miniconda_20221210/miniconda3/envs/VE_SBIBE/lib/python3.11/site-packages/sklearn/base.py:348: InconsistentVersionWarning: Trying to unpickle estimator PCA from version 1.0 when using version 1.3.2. This might lead to breaking code or invalid results. Use at your own risk. For more info please refer to:\n",
      "https://scikit-learn.org/stable/model_persistence.html#security-maintainability-limitations\n",
      "  warnings.warn(\n",
      "/lscratch/dlopez/programs/miniconda_20221210/miniconda3/envs/VE_SBIBE/lib/python3.11/site-packages/sklearn/base.py:348: InconsistentVersionWarning: Trying to unpickle estimator StandardScaler from version 1.0 when using version 1.3.2. This might lead to breaking code or invalid results. Use at your own risk. For more info please refer to:\n",
      "https://scikit-learn.org/stable/model_persistence.html#security-maintainability-limitations\n",
      "  warnings.warn(\n"
     ]
    },
    {
     "name": "stdout",
     "output_type": "stream",
     "text": [
      "Linear emulator loaded in memory.\n",
      "Loading no-wiggles emulator...\n",
      "No-wiggles emulator loaded in memory.\n",
      "Loading non-linear emulator...\n"
     ]
    },
    {
     "name": "stderr",
     "output_type": "stream",
     "text": [
      "/lscratch/dlopez/programs/miniconda_20221210/miniconda3/envs/VE_SBIBE/lib/python3.11/site-packages/sklearn/base.py:348: InconsistentVersionWarning: Trying to unpickle estimator StandardScaler from version 1.0.2 when using version 1.3.2. This might lead to breaking code or invalid results. Use at your own risk. For more info please refer to:\n",
      "https://scikit-learn.org/stable/model_persistence.html#security-maintainability-limitations\n",
      "  warnings.warn(\n",
      "/lscratch/dlopez/programs/miniconda_20221210/miniconda3/envs/VE_SBIBE/lib/python3.11/site-packages/sklearn/base.py:348: InconsistentVersionWarning: Trying to unpickle estimator StandardScaler from version 0.22.1 when using version 1.3.2. This might lead to breaking code or invalid results. Use at your own risk. For more info please refer to:\n",
      "https://scikit-learn.org/stable/model_persistence.html#security-maintainability-limitations\n",
      "  warnings.warn(\n",
      "/lscratch/dlopez/programs/miniconda_20221210/miniconda3/envs/VE_SBIBE/lib/python3.11/site-packages/sklearn/base.py:348: InconsistentVersionWarning: Trying to unpickle estimator PCA from version 0.22.1 when using version 1.3.2. This might lead to breaking code or invalid results. Use at your own risk. For more info please refer to:\n",
      "https://scikit-learn.org/stable/model_persistence.html#security-maintainability-limitations\n",
      "  warnings.warn(\n"
     ]
    },
    {
     "name": "stdout",
     "output_type": "stream",
     "text": [
      "Nonlinear emulator loaded in memory.\n",
      "Loading Baryonic Emulator...\n"
     ]
    },
    {
     "name": "stderr",
     "output_type": "stream",
     "text": [
      "/lscratch/dlopez/programs/miniconda_20221210/miniconda3/envs/VE_SBIBE/lib/python3.11/site-packages/sklearn/base.py:348: InconsistentVersionWarning: Trying to unpickle estimator StandardScaler from version 0.23.2 when using version 1.3.2. This might lead to breaking code or invalid results. Use at your own risk. For more info please refer to:\n",
      "https://scikit-learn.org/stable/model_persistence.html#security-maintainability-limitations\n",
      "  warnings.warn(\n",
      "/lscratch/dlopez/programs/miniconda_20221210/miniconda3/envs/VE_SBIBE/lib/python3.11/site-packages/sklearn/base.py:348: InconsistentVersionWarning: Trying to unpickle estimator PCA from version 0.23.2 when using version 1.3.2. This might lead to breaking code or invalid results. Use at your own risk. For more info please refer to:\n",
      "https://scikit-learn.org/stable/model_persistence.html#security-maintainability-limitations\n",
      "  warnings.warn(\n"
     ]
    },
    {
     "name": "stdout",
     "output_type": "stream",
     "text": [
      "Baryonic Emulator loaded in memory.\n",
      "Loading sigma8 emulator...\n",
      "Sigma8 emulator loaded in memory.\n",
      "Loading linear emulator...\n"
     ]
    },
    {
     "name": "stderr",
     "output_type": "stream",
     "text": [
      "/lscratch/dlopez/programs/miniconda_20221210/miniconda3/envs/VE_SBIBE/lib/python3.11/site-packages/sklearn/base.py:348: InconsistentVersionWarning: Trying to unpickle estimator PCA from version 1.0 when using version 1.3.2. This might lead to breaking code or invalid results. Use at your own risk. For more info please refer to:\n",
      "https://scikit-learn.org/stable/model_persistence.html#security-maintainability-limitations\n",
      "  warnings.warn(\n",
      "/lscratch/dlopez/programs/miniconda_20221210/miniconda3/envs/VE_SBIBE/lib/python3.11/site-packages/sklearn/base.py:348: InconsistentVersionWarning: Trying to unpickle estimator StandardScaler from version 1.0 when using version 1.3.2. This might lead to breaking code or invalid results. Use at your own risk. For more info please refer to:\n",
      "https://scikit-learn.org/stable/model_persistence.html#security-maintainability-limitations\n",
      "  warnings.warn(\n",
      "/lscratch/dlopez/programs/miniconda_20221210/miniconda3/envs/VE_SBIBE/lib/python3.11/site-packages/sklearn/base.py:348: InconsistentVersionWarning: Trying to unpickle estimator PCA from version 1.0 when using version 1.3.2. This might lead to breaking code or invalid results. Use at your own risk. For more info please refer to:\n",
      "https://scikit-learn.org/stable/model_persistence.html#security-maintainability-limitations\n",
      "  warnings.warn(\n",
      "/lscratch/dlopez/programs/miniconda_20221210/miniconda3/envs/VE_SBIBE/lib/python3.11/site-packages/sklearn/base.py:348: InconsistentVersionWarning: Trying to unpickle estimator StandardScaler from version 1.0 when using version 1.3.2. This might lead to breaking code or invalid results. Use at your own risk. For more info please refer to:\n",
      "https://scikit-learn.org/stable/model_persistence.html#security-maintainability-limitations\n",
      "  warnings.warn(\n"
     ]
    },
    {
     "name": "stdout",
     "output_type": "stream",
     "text": [
      "Linear emulator loaded in memory.\n",
      "Loading no-wiggles emulator...\n",
      "No-wiggles emulator loaded in memory.\n",
      "Loading non-linear emulator...\n"
     ]
    },
    {
     "name": "stderr",
     "output_type": "stream",
     "text": [
      "/lscratch/dlopez/programs/miniconda_20221210/miniconda3/envs/VE_SBIBE/lib/python3.11/site-packages/sklearn/base.py:348: InconsistentVersionWarning: Trying to unpickle estimator StandardScaler from version 1.0.2 when using version 1.3.2. This might lead to breaking code or invalid results. Use at your own risk. For more info please refer to:\n",
      "https://scikit-learn.org/stable/model_persistence.html#security-maintainability-limitations\n",
      "  warnings.warn(\n",
      "/lscratch/dlopez/programs/miniconda_20221210/miniconda3/envs/VE_SBIBE/lib/python3.11/site-packages/sklearn/base.py:348: InconsistentVersionWarning: Trying to unpickle estimator StandardScaler from version 0.22.1 when using version 1.3.2. This might lead to breaking code or invalid results. Use at your own risk. For more info please refer to:\n",
      "https://scikit-learn.org/stable/model_persistence.html#security-maintainability-limitations\n",
      "  warnings.warn(\n",
      "/lscratch/dlopez/programs/miniconda_20221210/miniconda3/envs/VE_SBIBE/lib/python3.11/site-packages/sklearn/base.py:348: InconsistentVersionWarning: Trying to unpickle estimator PCA from version 0.22.1 when using version 1.3.2. This might lead to breaking code or invalid results. Use at your own risk. For more info please refer to:\n",
      "https://scikit-learn.org/stable/model_persistence.html#security-maintainability-limitations\n",
      "  warnings.warn(\n"
     ]
    },
    {
     "name": "stdout",
     "output_type": "stream",
     "text": [
      "Nonlinear emulator loaded in memory.\n",
      "Loading Baryonic Emulator...\n",
      "Baryonic Emulator loaded in memory.\n"
     ]
    },
    {
     "name": "stderr",
     "output_type": "stream",
     "text": [
      "/lscratch/dlopez/programs/miniconda_20221210/miniconda3/envs/VE_SBIBE/lib/python3.11/site-packages/sklearn/base.py:348: InconsistentVersionWarning: Trying to unpickle estimator StandardScaler from version 0.23.2 when using version 1.3.2. This might lead to breaking code or invalid results. Use at your own risk. For more info please refer to:\n",
      "https://scikit-learn.org/stable/model_persistence.html#security-maintainability-limitations\n",
      "  warnings.warn(\n",
      "/lscratch/dlopez/programs/miniconda_20221210/miniconda3/envs/VE_SBIBE/lib/python3.11/site-packages/sklearn/base.py:348: InconsistentVersionWarning: Trying to unpickle estimator PCA from version 0.23.2 when using version 1.3.2. This might lead to breaking code or invalid results. Use at your own risk. For more info please refer to:\n",
      "https://scikit-learn.org/stable/model_persistence.html#security-maintainability-limitations\n",
      "  warnings.warn(\n"
     ]
    },
    {
     "name": "stdout",
     "output_type": "stream",
     "text": [
      "Loading sigma8 emulator...\n",
      "Sigma8 emulator loaded in memory.\n",
      "Loading linear emulator...\n"
     ]
    },
    {
     "name": "stderr",
     "output_type": "stream",
     "text": [
      "/lscratch/dlopez/programs/miniconda_20221210/miniconda3/envs/VE_SBIBE/lib/python3.11/site-packages/sklearn/base.py:348: InconsistentVersionWarning: Trying to unpickle estimator PCA from version 1.0 when using version 1.3.2. This might lead to breaking code or invalid results. Use at your own risk. For more info please refer to:\n",
      "https://scikit-learn.org/stable/model_persistence.html#security-maintainability-limitations\n",
      "  warnings.warn(\n",
      "/lscratch/dlopez/programs/miniconda_20221210/miniconda3/envs/VE_SBIBE/lib/python3.11/site-packages/sklearn/base.py:348: InconsistentVersionWarning: Trying to unpickle estimator StandardScaler from version 1.0 when using version 1.3.2. This might lead to breaking code or invalid results. Use at your own risk. For more info please refer to:\n",
      "https://scikit-learn.org/stable/model_persistence.html#security-maintainability-limitations\n",
      "  warnings.warn(\n",
      "/lscratch/dlopez/programs/miniconda_20221210/miniconda3/envs/VE_SBIBE/lib/python3.11/site-packages/sklearn/base.py:348: InconsistentVersionWarning: Trying to unpickle estimator PCA from version 1.0 when using version 1.3.2. This might lead to breaking code or invalid results. Use at your own risk. For more info please refer to:\n",
      "https://scikit-learn.org/stable/model_persistence.html#security-maintainability-limitations\n",
      "  warnings.warn(\n",
      "/lscratch/dlopez/programs/miniconda_20221210/miniconda3/envs/VE_SBIBE/lib/python3.11/site-packages/sklearn/base.py:348: InconsistentVersionWarning: Trying to unpickle estimator StandardScaler from version 1.0 when using version 1.3.2. This might lead to breaking code or invalid results. Use at your own risk. For more info please refer to:\n",
      "https://scikit-learn.org/stable/model_persistence.html#security-maintainability-limitations\n",
      "  warnings.warn(\n"
     ]
    },
    {
     "name": "stdout",
     "output_type": "stream",
     "text": [
      "Linear emulator loaded in memory.\n",
      "Loading no-wiggles emulator...\n",
      "No-wiggles emulator loaded in memory.\n",
      "Loading non-linear emulator...\n"
     ]
    },
    {
     "name": "stderr",
     "output_type": "stream",
     "text": [
      "/lscratch/dlopez/programs/miniconda_20221210/miniconda3/envs/VE_SBIBE/lib/python3.11/site-packages/sklearn/base.py:348: InconsistentVersionWarning: Trying to unpickle estimator StandardScaler from version 1.0.2 when using version 1.3.2. This might lead to breaking code or invalid results. Use at your own risk. For more info please refer to:\n",
      "https://scikit-learn.org/stable/model_persistence.html#security-maintainability-limitations\n",
      "  warnings.warn(\n",
      "/lscratch/dlopez/programs/miniconda_20221210/miniconda3/envs/VE_SBIBE/lib/python3.11/site-packages/sklearn/base.py:348: InconsistentVersionWarning: Trying to unpickle estimator StandardScaler from version 0.22.1 when using version 1.3.2. This might lead to breaking code or invalid results. Use at your own risk. For more info please refer to:\n",
      "https://scikit-learn.org/stable/model_persistence.html#security-maintainability-limitations\n",
      "  warnings.warn(\n",
      "/lscratch/dlopez/programs/miniconda_20221210/miniconda3/envs/VE_SBIBE/lib/python3.11/site-packages/sklearn/base.py:348: InconsistentVersionWarning: Trying to unpickle estimator PCA from version 0.22.1 when using version 1.3.2. This might lead to breaking code or invalid results. Use at your own risk. For more info please refer to:\n",
      "https://scikit-learn.org/stable/model_persistence.html#security-maintainability-limitations\n",
      "  warnings.warn(\n"
     ]
    },
    {
     "name": "stdout",
     "output_type": "stream",
     "text": [
      "Nonlinear emulator loaded in memory.\n",
      "Loading Baryonic Emulator...\n",
      "Baryonic Emulator loaded in memory.\n"
     ]
    },
    {
     "name": "stderr",
     "output_type": "stream",
     "text": [
      "/lscratch/dlopez/programs/miniconda_20221210/miniconda3/envs/VE_SBIBE/lib/python3.11/site-packages/sklearn/base.py:348: InconsistentVersionWarning: Trying to unpickle estimator StandardScaler from version 0.23.2 when using version 1.3.2. This might lead to breaking code or invalid results. Use at your own risk. For more info please refer to:\n",
      "https://scikit-learn.org/stable/model_persistence.html#security-maintainability-limitations\n",
      "  warnings.warn(\n",
      "/lscratch/dlopez/programs/miniconda_20221210/miniconda3/envs/VE_SBIBE/lib/python3.11/site-packages/sklearn/base.py:348: InconsistentVersionWarning: Trying to unpickle estimator PCA from version 0.23.2 when using version 1.3.2. This might lead to breaking code or invalid results. Use at your own risk. For more info please refer to:\n",
      "https://scikit-learn.org/stable/model_persistence.html#security-maintainability-limitations\n",
      "  warnings.warn(\n"
     ]
    },
    {
     "name": "stdout",
     "output_type": "stream",
     "text": [
      "Loading sigma8 emulator...\n",
      "Sigma8 emulator loaded in memory.\n",
      "Loading linear emulator...\n"
     ]
    },
    {
     "name": "stderr",
     "output_type": "stream",
     "text": [
      "/lscratch/dlopez/programs/miniconda_20221210/miniconda3/envs/VE_SBIBE/lib/python3.11/site-packages/sklearn/base.py:348: InconsistentVersionWarning: Trying to unpickle estimator PCA from version 1.0 when using version 1.3.2. This might lead to breaking code or invalid results. Use at your own risk. For more info please refer to:\n",
      "https://scikit-learn.org/stable/model_persistence.html#security-maintainability-limitations\n",
      "  warnings.warn(\n",
      "/lscratch/dlopez/programs/miniconda_20221210/miniconda3/envs/VE_SBIBE/lib/python3.11/site-packages/sklearn/base.py:348: InconsistentVersionWarning: Trying to unpickle estimator StandardScaler from version 1.0 when using version 1.3.2. This might lead to breaking code or invalid results. Use at your own risk. For more info please refer to:\n",
      "https://scikit-learn.org/stable/model_persistence.html#security-maintainability-limitations\n",
      "  warnings.warn(\n",
      "/lscratch/dlopez/programs/miniconda_20221210/miniconda3/envs/VE_SBIBE/lib/python3.11/site-packages/sklearn/base.py:348: InconsistentVersionWarning: Trying to unpickle estimator PCA from version 1.0 when using version 1.3.2. This might lead to breaking code or invalid results. Use at your own risk. For more info please refer to:\n",
      "https://scikit-learn.org/stable/model_persistence.html#security-maintainability-limitations\n",
      "  warnings.warn(\n",
      "/lscratch/dlopez/programs/miniconda_20221210/miniconda3/envs/VE_SBIBE/lib/python3.11/site-packages/sklearn/base.py:348: InconsistentVersionWarning: Trying to unpickle estimator StandardScaler from version 1.0 when using version 1.3.2. This might lead to breaking code or invalid results. Use at your own risk. For more info please refer to:\n",
      "https://scikit-learn.org/stable/model_persistence.html#security-maintainability-limitations\n",
      "  warnings.warn(\n"
     ]
    },
    {
     "name": "stdout",
     "output_type": "stream",
     "text": [
      "Linear emulator loaded in memory.\n",
      "Loading no-wiggles emulator...\n"
     ]
    },
    {
     "name": "stderr",
     "output_type": "stream",
     "text": [
      "/lscratch/dlopez/programs/miniconda_20221210/miniconda3/envs/VE_SBIBE/lib/python3.11/site-packages/sklearn/base.py:348: InconsistentVersionWarning: Trying to unpickle estimator StandardScaler from version 1.0.2 when using version 1.3.2. This might lead to breaking code or invalid results. Use at your own risk. For more info please refer to:\n",
      "https://scikit-learn.org/stable/model_persistence.html#security-maintainability-limitations\n",
      "  warnings.warn(\n",
      "/lscratch/dlopez/programs/miniconda_20221210/miniconda3/envs/VE_SBIBE/lib/python3.11/site-packages/sklearn/base.py:348: InconsistentVersionWarning: Trying to unpickle estimator StandardScaler from version 0.22.1 when using version 1.3.2. This might lead to breaking code or invalid results. Use at your own risk. For more info please refer to:\n",
      "https://scikit-learn.org/stable/model_persistence.html#security-maintainability-limitations\n",
      "  warnings.warn(\n",
      "/lscratch/dlopez/programs/miniconda_20221210/miniconda3/envs/VE_SBIBE/lib/python3.11/site-packages/sklearn/base.py:348: InconsistentVersionWarning: Trying to unpickle estimator PCA from version 0.22.1 when using version 1.3.2. This might lead to breaking code or invalid results. Use at your own risk. For more info please refer to:\n",
      "https://scikit-learn.org/stable/model_persistence.html#security-maintainability-limitations\n",
      "  warnings.warn(\n"
     ]
    },
    {
     "name": "stdout",
     "output_type": "stream",
     "text": [
      "No-wiggles emulator loaded in memory.\n",
      "Loading non-linear emulator...\n",
      "Nonlinear emulator loaded in memory.\n",
      "Loading Baryonic Emulator...\n"
     ]
    },
    {
     "name": "stderr",
     "output_type": "stream",
     "text": [
      "/lscratch/dlopez/programs/miniconda_20221210/miniconda3/envs/VE_SBIBE/lib/python3.11/site-packages/sklearn/base.py:348: InconsistentVersionWarning: Trying to unpickle estimator StandardScaler from version 0.23.2 when using version 1.3.2. This might lead to breaking code or invalid results. Use at your own risk. For more info please refer to:\n",
      "https://scikit-learn.org/stable/model_persistence.html#security-maintainability-limitations\n",
      "  warnings.warn(\n",
      "/lscratch/dlopez/programs/miniconda_20221210/miniconda3/envs/VE_SBIBE/lib/python3.11/site-packages/sklearn/base.py:348: InconsistentVersionWarning: Trying to unpickle estimator PCA from version 0.23.2 when using version 1.3.2. This might lead to breaking code or invalid results. Use at your own risk. For more info please refer to:\n",
      "https://scikit-learn.org/stable/model_persistence.html#security-maintainability-limitations\n",
      "  warnings.warn(\n"
     ]
    },
    {
     "name": "stdout",
     "output_type": "stream",
     "text": [
      "Baryonic Emulator loaded in memory.\n",
      "Loading sigma8 emulator...\n",
      "Sigma8 emulator loaded in memory.\n",
      "Loading linear emulator...\n"
     ]
    },
    {
     "name": "stderr",
     "output_type": "stream",
     "text": [
      "/lscratch/dlopez/programs/miniconda_20221210/miniconda3/envs/VE_SBIBE/lib/python3.11/site-packages/sklearn/base.py:348: InconsistentVersionWarning: Trying to unpickle estimator PCA from version 1.0 when using version 1.3.2. This might lead to breaking code or invalid results. Use at your own risk. For more info please refer to:\n",
      "https://scikit-learn.org/stable/model_persistence.html#security-maintainability-limitations\n",
      "  warnings.warn(\n",
      "/lscratch/dlopez/programs/miniconda_20221210/miniconda3/envs/VE_SBIBE/lib/python3.11/site-packages/sklearn/base.py:348: InconsistentVersionWarning: Trying to unpickle estimator StandardScaler from version 1.0 when using version 1.3.2. This might lead to breaking code or invalid results. Use at your own risk. For more info please refer to:\n",
      "https://scikit-learn.org/stable/model_persistence.html#security-maintainability-limitations\n",
      "  warnings.warn(\n",
      "/lscratch/dlopez/programs/miniconda_20221210/miniconda3/envs/VE_SBIBE/lib/python3.11/site-packages/sklearn/base.py:348: InconsistentVersionWarning: Trying to unpickle estimator PCA from version 1.0 when using version 1.3.2. This might lead to breaking code or invalid results. Use at your own risk. For more info please refer to:\n",
      "https://scikit-learn.org/stable/model_persistence.html#security-maintainability-limitations\n",
      "  warnings.warn(\n",
      "/lscratch/dlopez/programs/miniconda_20221210/miniconda3/envs/VE_SBIBE/lib/python3.11/site-packages/sklearn/base.py:348: InconsistentVersionWarning: Trying to unpickle estimator StandardScaler from version 1.0 when using version 1.3.2. This might lead to breaking code or invalid results. Use at your own risk. For more info please refer to:\n",
      "https://scikit-learn.org/stable/model_persistence.html#security-maintainability-limitations\n",
      "  warnings.warn(\n"
     ]
    },
    {
     "name": "stdout",
     "output_type": "stream",
     "text": [
      "Linear emulator loaded in memory.\n",
      "Loading no-wiggles emulator...\n",
      "No-wiggles emulator loaded in memory.\n",
      "Loading non-linear emulator...\n"
     ]
    },
    {
     "name": "stderr",
     "output_type": "stream",
     "text": [
      "/lscratch/dlopez/programs/miniconda_20221210/miniconda3/envs/VE_SBIBE/lib/python3.11/site-packages/sklearn/base.py:348: InconsistentVersionWarning: Trying to unpickle estimator StandardScaler from version 1.0.2 when using version 1.3.2. This might lead to breaking code or invalid results. Use at your own risk. For more info please refer to:\n",
      "https://scikit-learn.org/stable/model_persistence.html#security-maintainability-limitations\n",
      "  warnings.warn(\n",
      "/lscratch/dlopez/programs/miniconda_20221210/miniconda3/envs/VE_SBIBE/lib/python3.11/site-packages/sklearn/base.py:348: InconsistentVersionWarning: Trying to unpickle estimator StandardScaler from version 0.22.1 when using version 1.3.2. This might lead to breaking code or invalid results. Use at your own risk. For more info please refer to:\n",
      "https://scikit-learn.org/stable/model_persistence.html#security-maintainability-limitations\n",
      "  warnings.warn(\n",
      "/lscratch/dlopez/programs/miniconda_20221210/miniconda3/envs/VE_SBIBE/lib/python3.11/site-packages/sklearn/base.py:348: InconsistentVersionWarning: Trying to unpickle estimator PCA from version 0.22.1 when using version 1.3.2. This might lead to breaking code or invalid results. Use at your own risk. For more info please refer to:\n",
      "https://scikit-learn.org/stable/model_persistence.html#security-maintainability-limitations\n",
      "  warnings.warn(\n"
     ]
    },
    {
     "name": "stdout",
     "output_type": "stream",
     "text": [
      "Nonlinear emulator loaded in memory.\n",
      "Loading Baryonic Emulator...\n",
      "Baryonic Emulator loaded in memory.\n"
     ]
    },
    {
     "name": "stderr",
     "output_type": "stream",
     "text": [
      "/lscratch/dlopez/programs/miniconda_20221210/miniconda3/envs/VE_SBIBE/lib/python3.11/site-packages/sklearn/base.py:348: InconsistentVersionWarning: Trying to unpickle estimator StandardScaler from version 0.23.2 when using version 1.3.2. This might lead to breaking code or invalid results. Use at your own risk. For more info please refer to:\n",
      "https://scikit-learn.org/stable/model_persistence.html#security-maintainability-limitations\n",
      "  warnings.warn(\n",
      "/lscratch/dlopez/programs/miniconda_20221210/miniconda3/envs/VE_SBIBE/lib/python3.11/site-packages/sklearn/base.py:348: InconsistentVersionWarning: Trying to unpickle estimator PCA from version 0.23.2 when using version 1.3.2. This might lead to breaking code or invalid results. Use at your own risk. For more info please refer to:\n",
      "https://scikit-learn.org/stable/model_persistence.html#security-maintainability-limitations\n",
      "  warnings.warn(\n"
     ]
    },
    {
     "name": "stdout",
     "output_type": "stream",
     "text": [
      "Loading sigma8 emulator...\n",
      "Sigma8 emulator loaded in memory.\n",
      "Loading linear emulator...\n"
     ]
    },
    {
     "name": "stderr",
     "output_type": "stream",
     "text": [
      "/lscratch/dlopez/programs/miniconda_20221210/miniconda3/envs/VE_SBIBE/lib/python3.11/site-packages/sklearn/base.py:348: InconsistentVersionWarning: Trying to unpickle estimator PCA from version 1.0 when using version 1.3.2. This might lead to breaking code or invalid results. Use at your own risk. For more info please refer to:\n",
      "https://scikit-learn.org/stable/model_persistence.html#security-maintainability-limitations\n",
      "  warnings.warn(\n",
      "/lscratch/dlopez/programs/miniconda_20221210/miniconda3/envs/VE_SBIBE/lib/python3.11/site-packages/sklearn/base.py:348: InconsistentVersionWarning: Trying to unpickle estimator StandardScaler from version 1.0 when using version 1.3.2. This might lead to breaking code or invalid results. Use at your own risk. For more info please refer to:\n",
      "https://scikit-learn.org/stable/model_persistence.html#security-maintainability-limitations\n",
      "  warnings.warn(\n",
      "/lscratch/dlopez/programs/miniconda_20221210/miniconda3/envs/VE_SBIBE/lib/python3.11/site-packages/sklearn/base.py:348: InconsistentVersionWarning: Trying to unpickle estimator PCA from version 1.0 when using version 1.3.2. This might lead to breaking code or invalid results. Use at your own risk. For more info please refer to:\n",
      "https://scikit-learn.org/stable/model_persistence.html#security-maintainability-limitations\n",
      "  warnings.warn(\n",
      "/lscratch/dlopez/programs/miniconda_20221210/miniconda3/envs/VE_SBIBE/lib/python3.11/site-packages/sklearn/base.py:348: InconsistentVersionWarning: Trying to unpickle estimator StandardScaler from version 1.0 when using version 1.3.2. This might lead to breaking code or invalid results. Use at your own risk. For more info please refer to:\n",
      "https://scikit-learn.org/stable/model_persistence.html#security-maintainability-limitations\n",
      "  warnings.warn(\n"
     ]
    },
    {
     "name": "stdout",
     "output_type": "stream",
     "text": [
      "Linear emulator loaded in memory.\n",
      "Loading no-wiggles emulator...\n",
      "No-wiggles emulator loaded in memory.\n",
      "Loading non-linear emulator...\n"
     ]
    },
    {
     "name": "stderr",
     "output_type": "stream",
     "text": [
      "/lscratch/dlopez/programs/miniconda_20221210/miniconda3/envs/VE_SBIBE/lib/python3.11/site-packages/sklearn/base.py:348: InconsistentVersionWarning: Trying to unpickle estimator StandardScaler from version 1.0.2 when using version 1.3.2. This might lead to breaking code or invalid results. Use at your own risk. For more info please refer to:\n",
      "https://scikit-learn.org/stable/model_persistence.html#security-maintainability-limitations\n",
      "  warnings.warn(\n",
      "/lscratch/dlopez/programs/miniconda_20221210/miniconda3/envs/VE_SBIBE/lib/python3.11/site-packages/sklearn/base.py:348: InconsistentVersionWarning: Trying to unpickle estimator StandardScaler from version 0.22.1 when using version 1.3.2. This might lead to breaking code or invalid results. Use at your own risk. For more info please refer to:\n",
      "https://scikit-learn.org/stable/model_persistence.html#security-maintainability-limitations\n",
      "  warnings.warn(\n",
      "/lscratch/dlopez/programs/miniconda_20221210/miniconda3/envs/VE_SBIBE/lib/python3.11/site-packages/sklearn/base.py:348: InconsistentVersionWarning: Trying to unpickle estimator PCA from version 0.22.1 when using version 1.3.2. This might lead to breaking code or invalid results. Use at your own risk. For more info please refer to:\n",
      "https://scikit-learn.org/stable/model_persistence.html#security-maintainability-limitations\n",
      "  warnings.warn(\n"
     ]
    },
    {
     "name": "stdout",
     "output_type": "stream",
     "text": [
      "Nonlinear emulator loaded in memory.\n",
      "Loading Baryonic Emulator...\n",
      "Baryonic Emulator loaded in memory.\n"
     ]
    },
    {
     "name": "stderr",
     "output_type": "stream",
     "text": [
      "/lscratch/dlopez/programs/miniconda_20221210/miniconda3/envs/VE_SBIBE/lib/python3.11/site-packages/sklearn/base.py:348: InconsistentVersionWarning: Trying to unpickle estimator StandardScaler from version 0.23.2 when using version 1.3.2. This might lead to breaking code or invalid results. Use at your own risk. For more info please refer to:\n",
      "https://scikit-learn.org/stable/model_persistence.html#security-maintainability-limitations\n",
      "  warnings.warn(\n",
      "/lscratch/dlopez/programs/miniconda_20221210/miniconda3/envs/VE_SBIBE/lib/python3.11/site-packages/sklearn/base.py:348: InconsistentVersionWarning: Trying to unpickle estimator PCA from version 0.23.2 when using version 1.3.2. This might lead to breaking code or invalid results. Use at your own risk. For more info please refer to:\n",
      "https://scikit-learn.org/stable/model_persistence.html#security-maintainability-limitations\n",
      "  warnings.warn(\n"
     ]
    },
    {
     "name": "stdout",
     "output_type": "stream",
     "text": [
      "Loading sigma8 emulator...\n",
      "Sigma8 emulator loaded in memory.\n",
      "Loading linear emulator...\n"
     ]
    },
    {
     "name": "stderr",
     "output_type": "stream",
     "text": [
      "/lscratch/dlopez/programs/miniconda_20221210/miniconda3/envs/VE_SBIBE/lib/python3.11/site-packages/sklearn/base.py:348: InconsistentVersionWarning: Trying to unpickle estimator PCA from version 1.0 when using version 1.3.2. This might lead to breaking code or invalid results. Use at your own risk. For more info please refer to:\n",
      "https://scikit-learn.org/stable/model_persistence.html#security-maintainability-limitations\n",
      "  warnings.warn(\n",
      "/lscratch/dlopez/programs/miniconda_20221210/miniconda3/envs/VE_SBIBE/lib/python3.11/site-packages/sklearn/base.py:348: InconsistentVersionWarning: Trying to unpickle estimator StandardScaler from version 1.0 when using version 1.3.2. This might lead to breaking code or invalid results. Use at your own risk. For more info please refer to:\n",
      "https://scikit-learn.org/stable/model_persistence.html#security-maintainability-limitations\n",
      "  warnings.warn(\n",
      "/lscratch/dlopez/programs/miniconda_20221210/miniconda3/envs/VE_SBIBE/lib/python3.11/site-packages/sklearn/base.py:348: InconsistentVersionWarning: Trying to unpickle estimator PCA from version 1.0 when using version 1.3.2. This might lead to breaking code or invalid results. Use at your own risk. For more info please refer to:\n",
      "https://scikit-learn.org/stable/model_persistence.html#security-maintainability-limitations\n",
      "  warnings.warn(\n",
      "/lscratch/dlopez/programs/miniconda_20221210/miniconda3/envs/VE_SBIBE/lib/python3.11/site-packages/sklearn/base.py:348: InconsistentVersionWarning: Trying to unpickle estimator StandardScaler from version 1.0 when using version 1.3.2. This might lead to breaking code or invalid results. Use at your own risk. For more info please refer to:\n",
      "https://scikit-learn.org/stable/model_persistence.html#security-maintainability-limitations\n",
      "  warnings.warn(\n",
      "/lscratch/dlopez/programs/miniconda_20221210/miniconda3/envs/VE_SBIBE/lib/python3.11/site-packages/sklearn/base.py:348: InconsistentVersionWarning: Trying to unpickle estimator StandardScaler from version 1.0.2 when using version 1.3.2. This might lead to breaking code or invalid results. Use at your own risk. For more info please refer to:\n",
      "https://scikit-learn.org/stable/model_persistence.html#security-maintainability-limitations\n",
      "  warnings.warn(\n"
     ]
    },
    {
     "name": "stdout",
     "output_type": "stream",
     "text": [
      "Linear emulator loaded in memory.\n",
      "Loading no-wiggles emulator...\n",
      "No-wiggles emulator loaded in memory.\n",
      "Loading non-linear emulator...\n"
     ]
    },
    {
     "name": "stderr",
     "output_type": "stream",
     "text": [
      "/lscratch/dlopez/programs/miniconda_20221210/miniconda3/envs/VE_SBIBE/lib/python3.11/site-packages/sklearn/base.py:348: InconsistentVersionWarning: Trying to unpickle estimator StandardScaler from version 0.22.1 when using version 1.3.2. This might lead to breaking code or invalid results. Use at your own risk. For more info please refer to:\n",
      "https://scikit-learn.org/stable/model_persistence.html#security-maintainability-limitations\n",
      "  warnings.warn(\n",
      "/lscratch/dlopez/programs/miniconda_20221210/miniconda3/envs/VE_SBIBE/lib/python3.11/site-packages/sklearn/base.py:348: InconsistentVersionWarning: Trying to unpickle estimator PCA from version 0.22.1 when using version 1.3.2. This might lead to breaking code or invalid results. Use at your own risk. For more info please refer to:\n",
      "https://scikit-learn.org/stable/model_persistence.html#security-maintainability-limitations\n",
      "  warnings.warn(\n",
      "/lscratch/dlopez/programs/miniconda_20221210/miniconda3/envs/VE_SBIBE/lib/python3.11/site-packages/sklearn/base.py:348: InconsistentVersionWarning: Trying to unpickle estimator StandardScaler from version 0.23.2 when using version 1.3.2. This might lead to breaking code or invalid results. Use at your own risk. For more info please refer to:\n",
      "https://scikit-learn.org/stable/model_persistence.html#security-maintainability-limitations\n",
      "  warnings.warn(\n",
      "/lscratch/dlopez/programs/miniconda_20221210/miniconda3/envs/VE_SBIBE/lib/python3.11/site-packages/sklearn/base.py:348: InconsistentVersionWarning: Trying to unpickle estimator PCA from version 0.23.2 when using version 1.3.2. This might lead to breaking code or invalid results. Use at your own risk. For more info please refer to:\n",
      "https://scikit-learn.org/stable/model_persistence.html#security-maintainability-limitations\n",
      "  warnings.warn(\n"
     ]
    },
    {
     "name": "stdout",
     "output_type": "stream",
     "text": [
      "Nonlinear emulator loaded in memory.\n",
      "Loading Baryonic Emulator...\n",
      "Baryonic Emulator loaded in memory.\n",
      "Loading sigma8 emulator...\n",
      "Sigma8 emulator loaded in memory.\n",
      "Loading linear emulator...\n"
     ]
    },
    {
     "name": "stderr",
     "output_type": "stream",
     "text": [
      "/lscratch/dlopez/programs/miniconda_20221210/miniconda3/envs/VE_SBIBE/lib/python3.11/site-packages/sklearn/base.py:348: InconsistentVersionWarning: Trying to unpickle estimator PCA from version 1.0 when using version 1.3.2. This might lead to breaking code or invalid results. Use at your own risk. For more info please refer to:\n",
      "https://scikit-learn.org/stable/model_persistence.html#security-maintainability-limitations\n",
      "  warnings.warn(\n",
      "/lscratch/dlopez/programs/miniconda_20221210/miniconda3/envs/VE_SBIBE/lib/python3.11/site-packages/sklearn/base.py:348: InconsistentVersionWarning: Trying to unpickle estimator StandardScaler from version 1.0 when using version 1.3.2. This might lead to breaking code or invalid results. Use at your own risk. For more info please refer to:\n",
      "https://scikit-learn.org/stable/model_persistence.html#security-maintainability-limitations\n",
      "  warnings.warn(\n",
      "/lscratch/dlopez/programs/miniconda_20221210/miniconda3/envs/VE_SBIBE/lib/python3.11/site-packages/sklearn/base.py:348: InconsistentVersionWarning: Trying to unpickle estimator PCA from version 1.0 when using version 1.3.2. This might lead to breaking code or invalid results. Use at your own risk. For more info please refer to:\n",
      "https://scikit-learn.org/stable/model_persistence.html#security-maintainability-limitations\n",
      "  warnings.warn(\n",
      "/lscratch/dlopez/programs/miniconda_20221210/miniconda3/envs/VE_SBIBE/lib/python3.11/site-packages/sklearn/base.py:348: InconsistentVersionWarning: Trying to unpickle estimator StandardScaler from version 1.0 when using version 1.3.2. This might lead to breaking code or invalid results. Use at your own risk. For more info please refer to:\n",
      "https://scikit-learn.org/stable/model_persistence.html#security-maintainability-limitations\n",
      "  warnings.warn(\n"
     ]
    },
    {
     "name": "stdout",
     "output_type": "stream",
     "text": [
      "Linear emulator loaded in memory.\n",
      "Loading no-wiggles emulator...\n",
      "No-wiggles emulator loaded in memory.\n",
      "Loading non-linear emulator...\n"
     ]
    },
    {
     "name": "stderr",
     "output_type": "stream",
     "text": [
      "/lscratch/dlopez/programs/miniconda_20221210/miniconda3/envs/VE_SBIBE/lib/python3.11/site-packages/sklearn/base.py:348: InconsistentVersionWarning: Trying to unpickle estimator StandardScaler from version 1.0.2 when using version 1.3.2. This might lead to breaking code or invalid results. Use at your own risk. For more info please refer to:\n",
      "https://scikit-learn.org/stable/model_persistence.html#security-maintainability-limitations\n",
      "  warnings.warn(\n",
      "/lscratch/dlopez/programs/miniconda_20221210/miniconda3/envs/VE_SBIBE/lib/python3.11/site-packages/sklearn/base.py:348: InconsistentVersionWarning: Trying to unpickle estimator StandardScaler from version 0.22.1 when using version 1.3.2. This might lead to breaking code or invalid results. Use at your own risk. For more info please refer to:\n",
      "https://scikit-learn.org/stable/model_persistence.html#security-maintainability-limitations\n",
      "  warnings.warn(\n",
      "/lscratch/dlopez/programs/miniconda_20221210/miniconda3/envs/VE_SBIBE/lib/python3.11/site-packages/sklearn/base.py:348: InconsistentVersionWarning: Trying to unpickle estimator PCA from version 0.22.1 when using version 1.3.2. This might lead to breaking code or invalid results. Use at your own risk. For more info please refer to:\n",
      "https://scikit-learn.org/stable/model_persistence.html#security-maintainability-limitations\n",
      "  warnings.warn(\n"
     ]
    },
    {
     "name": "stdout",
     "output_type": "stream",
     "text": [
      "Nonlinear emulator loaded in memory.\n",
      "Loading Baryonic Emulator...\n",
      "Baryonic Emulator loaded in memory.\n"
     ]
    },
    {
     "name": "stderr",
     "output_type": "stream",
     "text": [
      "/lscratch/dlopez/programs/miniconda_20221210/miniconda3/envs/VE_SBIBE/lib/python3.11/site-packages/sklearn/base.py:348: InconsistentVersionWarning: Trying to unpickle estimator StandardScaler from version 0.23.2 when using version 1.3.2. This might lead to breaking code or invalid results. Use at your own risk. For more info please refer to:\n",
      "https://scikit-learn.org/stable/model_persistence.html#security-maintainability-limitations\n",
      "  warnings.warn(\n",
      "/lscratch/dlopez/programs/miniconda_20221210/miniconda3/envs/VE_SBIBE/lib/python3.11/site-packages/sklearn/base.py:348: InconsistentVersionWarning: Trying to unpickle estimator PCA from version 0.23.2 when using version 1.3.2. This might lead to breaking code or invalid results. Use at your own risk. For more info please refer to:\n",
      "https://scikit-learn.org/stable/model_persistence.html#security-maintainability-limitations\n",
      "  warnings.warn(\n"
     ]
    },
    {
     "name": "stdout",
     "output_type": "stream",
     "text": [
      "Loading sigma8 emulator...\n",
      "Sigma8 emulator loaded in memory.\n",
      "Loading linear emulator...\n"
     ]
    },
    {
     "name": "stderr",
     "output_type": "stream",
     "text": [
      "/lscratch/dlopez/programs/miniconda_20221210/miniconda3/envs/VE_SBIBE/lib/python3.11/site-packages/sklearn/base.py:348: InconsistentVersionWarning: Trying to unpickle estimator PCA from version 1.0 when using version 1.3.2. This might lead to breaking code or invalid results. Use at your own risk. For more info please refer to:\n",
      "https://scikit-learn.org/stable/model_persistence.html#security-maintainability-limitations\n",
      "  warnings.warn(\n",
      "/lscratch/dlopez/programs/miniconda_20221210/miniconda3/envs/VE_SBIBE/lib/python3.11/site-packages/sklearn/base.py:348: InconsistentVersionWarning: Trying to unpickle estimator StandardScaler from version 1.0 when using version 1.3.2. This might lead to breaking code or invalid results. Use at your own risk. For more info please refer to:\n",
      "https://scikit-learn.org/stable/model_persistence.html#security-maintainability-limitations\n",
      "  warnings.warn(\n",
      "/lscratch/dlopez/programs/miniconda_20221210/miniconda3/envs/VE_SBIBE/lib/python3.11/site-packages/sklearn/base.py:348: InconsistentVersionWarning: Trying to unpickle estimator PCA from version 1.0 when using version 1.3.2. This might lead to breaking code or invalid results. Use at your own risk. For more info please refer to:\n",
      "https://scikit-learn.org/stable/model_persistence.html#security-maintainability-limitations\n",
      "  warnings.warn(\n",
      "/lscratch/dlopez/programs/miniconda_20221210/miniconda3/envs/VE_SBIBE/lib/python3.11/site-packages/sklearn/base.py:348: InconsistentVersionWarning: Trying to unpickle estimator StandardScaler from version 1.0 when using version 1.3.2. This might lead to breaking code or invalid results. Use at your own risk. For more info please refer to:\n",
      "https://scikit-learn.org/stable/model_persistence.html#security-maintainability-limitations\n",
      "  warnings.warn(\n"
     ]
    },
    {
     "name": "stdout",
     "output_type": "stream",
     "text": [
      "Linear emulator loaded in memory.\n",
      "Loading no-wiggles emulator...\n"
     ]
    },
    {
     "name": "stderr",
     "output_type": "stream",
     "text": [
      "/lscratch/dlopez/programs/miniconda_20221210/miniconda3/envs/VE_SBIBE/lib/python3.11/site-packages/sklearn/base.py:348: InconsistentVersionWarning: Trying to unpickle estimator StandardScaler from version 1.0.2 when using version 1.3.2. This might lead to breaking code or invalid results. Use at your own risk. For more info please refer to:\n",
      "https://scikit-learn.org/stable/model_persistence.html#security-maintainability-limitations\n",
      "  warnings.warn(\n",
      "/lscratch/dlopez/programs/miniconda_20221210/miniconda3/envs/VE_SBIBE/lib/python3.11/site-packages/sklearn/base.py:348: InconsistentVersionWarning: Trying to unpickle estimator StandardScaler from version 0.22.1 when using version 1.3.2. This might lead to breaking code or invalid results. Use at your own risk. For more info please refer to:\n",
      "https://scikit-learn.org/stable/model_persistence.html#security-maintainability-limitations\n",
      "  warnings.warn(\n",
      "/lscratch/dlopez/programs/miniconda_20221210/miniconda3/envs/VE_SBIBE/lib/python3.11/site-packages/sklearn/base.py:348: InconsistentVersionWarning: Trying to unpickle estimator PCA from version 0.22.1 when using version 1.3.2. This might lead to breaking code or invalid results. Use at your own risk. For more info please refer to:\n",
      "https://scikit-learn.org/stable/model_persistence.html#security-maintainability-limitations\n",
      "  warnings.warn(\n"
     ]
    },
    {
     "name": "stdout",
     "output_type": "stream",
     "text": [
      "No-wiggles emulator loaded in memory.\n",
      "Loading non-linear emulator...\n",
      "Nonlinear emulator loaded in memory.\n",
      "Loading Baryonic Emulator...\n"
     ]
    },
    {
     "name": "stderr",
     "output_type": "stream",
     "text": [
      "/lscratch/dlopez/programs/miniconda_20221210/miniconda3/envs/VE_SBIBE/lib/python3.11/site-packages/sklearn/base.py:348: InconsistentVersionWarning: Trying to unpickle estimator StandardScaler from version 0.23.2 when using version 1.3.2. This might lead to breaking code or invalid results. Use at your own risk. For more info please refer to:\n",
      "https://scikit-learn.org/stable/model_persistence.html#security-maintainability-limitations\n",
      "  warnings.warn(\n",
      "/lscratch/dlopez/programs/miniconda_20221210/miniconda3/envs/VE_SBIBE/lib/python3.11/site-packages/sklearn/base.py:348: InconsistentVersionWarning: Trying to unpickle estimator PCA from version 0.23.2 when using version 1.3.2. This might lead to breaking code or invalid results. Use at your own risk. For more info please refer to:\n",
      "https://scikit-learn.org/stable/model_persistence.html#security-maintainability-limitations\n",
      "  warnings.warn(\n"
     ]
    },
    {
     "name": "stdout",
     "output_type": "stream",
     "text": [
      "Baryonic Emulator loaded in memory.\n",
      "Loading sigma8 emulator...\n",
      "Sigma8 emulator loaded in memory.\n",
      "Loading linear emulator...\n"
     ]
    },
    {
     "name": "stderr",
     "output_type": "stream",
     "text": [
      "/lscratch/dlopez/programs/miniconda_20221210/miniconda3/envs/VE_SBIBE/lib/python3.11/site-packages/sklearn/base.py:348: InconsistentVersionWarning: Trying to unpickle estimator PCA from version 1.0 when using version 1.3.2. This might lead to breaking code or invalid results. Use at your own risk. For more info please refer to:\n",
      "https://scikit-learn.org/stable/model_persistence.html#security-maintainability-limitations\n",
      "  warnings.warn(\n",
      "/lscratch/dlopez/programs/miniconda_20221210/miniconda3/envs/VE_SBIBE/lib/python3.11/site-packages/sklearn/base.py:348: InconsistentVersionWarning: Trying to unpickle estimator StandardScaler from version 1.0 when using version 1.3.2. This might lead to breaking code or invalid results. Use at your own risk. For more info please refer to:\n",
      "https://scikit-learn.org/stable/model_persistence.html#security-maintainability-limitations\n",
      "  warnings.warn(\n",
      "/lscratch/dlopez/programs/miniconda_20221210/miniconda3/envs/VE_SBIBE/lib/python3.11/site-packages/sklearn/base.py:348: InconsistentVersionWarning: Trying to unpickle estimator PCA from version 1.0 when using version 1.3.2. This might lead to breaking code or invalid results. Use at your own risk. For more info please refer to:\n",
      "https://scikit-learn.org/stable/model_persistence.html#security-maintainability-limitations\n",
      "  warnings.warn(\n",
      "/lscratch/dlopez/programs/miniconda_20221210/miniconda3/envs/VE_SBIBE/lib/python3.11/site-packages/sklearn/base.py:348: InconsistentVersionWarning: Trying to unpickle estimator StandardScaler from version 1.0 when using version 1.3.2. This might lead to breaking code or invalid results. Use at your own risk. For more info please refer to:\n",
      "https://scikit-learn.org/stable/model_persistence.html#security-maintainability-limitations\n",
      "  warnings.warn(\n"
     ]
    },
    {
     "name": "stdout",
     "output_type": "stream",
     "text": [
      "Linear emulator loaded in memory.\n",
      "Loading no-wiggles emulator...\n",
      "No-wiggles emulator loaded in memory.\n",
      "Loading non-linear emulator...\n"
     ]
    },
    {
     "name": "stderr",
     "output_type": "stream",
     "text": [
      "/lscratch/dlopez/programs/miniconda_20221210/miniconda3/envs/VE_SBIBE/lib/python3.11/site-packages/sklearn/base.py:348: InconsistentVersionWarning: Trying to unpickle estimator StandardScaler from version 1.0.2 when using version 1.3.2. This might lead to breaking code or invalid results. Use at your own risk. For more info please refer to:\n",
      "https://scikit-learn.org/stable/model_persistence.html#security-maintainability-limitations\n",
      "  warnings.warn(\n",
      "/lscratch/dlopez/programs/miniconda_20221210/miniconda3/envs/VE_SBIBE/lib/python3.11/site-packages/sklearn/base.py:348: InconsistentVersionWarning: Trying to unpickle estimator StandardScaler from version 0.22.1 when using version 1.3.2. This might lead to breaking code or invalid results. Use at your own risk. For more info please refer to:\n",
      "https://scikit-learn.org/stable/model_persistence.html#security-maintainability-limitations\n",
      "  warnings.warn(\n",
      "/lscratch/dlopez/programs/miniconda_20221210/miniconda3/envs/VE_SBIBE/lib/python3.11/site-packages/sklearn/base.py:348: InconsistentVersionWarning: Trying to unpickle estimator PCA from version 0.22.1 when using version 1.3.2. This might lead to breaking code or invalid results. Use at your own risk. For more info please refer to:\n",
      "https://scikit-learn.org/stable/model_persistence.html#security-maintainability-limitations\n",
      "  warnings.warn(\n"
     ]
    },
    {
     "name": "stdout",
     "output_type": "stream",
     "text": [
      "Nonlinear emulator loaded in memory.\n",
      "Loading Baryonic Emulator...\n",
      "Baryonic Emulator loaded in memory.\n"
     ]
    },
    {
     "name": "stderr",
     "output_type": "stream",
     "text": [
      "/lscratch/dlopez/programs/miniconda_20221210/miniconda3/envs/VE_SBIBE/lib/python3.11/site-packages/sklearn/base.py:348: InconsistentVersionWarning: Trying to unpickle estimator StandardScaler from version 0.23.2 when using version 1.3.2. This might lead to breaking code or invalid results. Use at your own risk. For more info please refer to:\n",
      "https://scikit-learn.org/stable/model_persistence.html#security-maintainability-limitations\n",
      "  warnings.warn(\n",
      "/lscratch/dlopez/programs/miniconda_20221210/miniconda3/envs/VE_SBIBE/lib/python3.11/site-packages/sklearn/base.py:348: InconsistentVersionWarning: Trying to unpickle estimator PCA from version 0.23.2 when using version 1.3.2. This might lead to breaking code or invalid results. Use at your own risk. For more info please refer to:\n",
      "https://scikit-learn.org/stable/model_persistence.html#security-maintainability-limitations\n",
      "  warnings.warn(\n"
     ]
    },
    {
     "name": "stdout",
     "output_type": "stream",
     "text": [
      "Loading sigma8 emulator...\n",
      "Sigma8 emulator loaded in memory.\n",
      "Loading linear emulator...\n"
     ]
    },
    {
     "name": "stderr",
     "output_type": "stream",
     "text": [
      "/lscratch/dlopez/programs/miniconda_20221210/miniconda3/envs/VE_SBIBE/lib/python3.11/site-packages/sklearn/base.py:348: InconsistentVersionWarning: Trying to unpickle estimator PCA from version 1.0 when using version 1.3.2. This might lead to breaking code or invalid results. Use at your own risk. For more info please refer to:\n",
      "https://scikit-learn.org/stable/model_persistence.html#security-maintainability-limitations\n",
      "  warnings.warn(\n",
      "/lscratch/dlopez/programs/miniconda_20221210/miniconda3/envs/VE_SBIBE/lib/python3.11/site-packages/sklearn/base.py:348: InconsistentVersionWarning: Trying to unpickle estimator StandardScaler from version 1.0 when using version 1.3.2. This might lead to breaking code or invalid results. Use at your own risk. For more info please refer to:\n",
      "https://scikit-learn.org/stable/model_persistence.html#security-maintainability-limitations\n",
      "  warnings.warn(\n",
      "/lscratch/dlopez/programs/miniconda_20221210/miniconda3/envs/VE_SBIBE/lib/python3.11/site-packages/sklearn/base.py:348: InconsistentVersionWarning: Trying to unpickle estimator PCA from version 1.0 when using version 1.3.2. This might lead to breaking code or invalid results. Use at your own risk. For more info please refer to:\n",
      "https://scikit-learn.org/stable/model_persistence.html#security-maintainability-limitations\n",
      "  warnings.warn(\n",
      "/lscratch/dlopez/programs/miniconda_20221210/miniconda3/envs/VE_SBIBE/lib/python3.11/site-packages/sklearn/base.py:348: InconsistentVersionWarning: Trying to unpickle estimator StandardScaler from version 1.0 when using version 1.3.2. This might lead to breaking code or invalid results. Use at your own risk. For more info please refer to:\n",
      "https://scikit-learn.org/stable/model_persistence.html#security-maintainability-limitations\n",
      "  warnings.warn(\n"
     ]
    },
    {
     "name": "stdout",
     "output_type": "stream",
     "text": [
      "Linear emulator loaded in memory.\n",
      "Loading no-wiggles emulator...\n",
      "No-wiggles emulator loaded in memory.\n",
      "Loading non-linear emulator...\n"
     ]
    },
    {
     "name": "stderr",
     "output_type": "stream",
     "text": [
      "/lscratch/dlopez/programs/miniconda_20221210/miniconda3/envs/VE_SBIBE/lib/python3.11/site-packages/sklearn/base.py:348: InconsistentVersionWarning: Trying to unpickle estimator StandardScaler from version 1.0.2 when using version 1.3.2. This might lead to breaking code or invalid results. Use at your own risk. For more info please refer to:\n",
      "https://scikit-learn.org/stable/model_persistence.html#security-maintainability-limitations\n",
      "  warnings.warn(\n",
      "/lscratch/dlopez/programs/miniconda_20221210/miniconda3/envs/VE_SBIBE/lib/python3.11/site-packages/sklearn/base.py:348: InconsistentVersionWarning: Trying to unpickle estimator StandardScaler from version 0.22.1 when using version 1.3.2. This might lead to breaking code or invalid results. Use at your own risk. For more info please refer to:\n",
      "https://scikit-learn.org/stable/model_persistence.html#security-maintainability-limitations\n",
      "  warnings.warn(\n",
      "/lscratch/dlopez/programs/miniconda_20221210/miniconda3/envs/VE_SBIBE/lib/python3.11/site-packages/sklearn/base.py:348: InconsistentVersionWarning: Trying to unpickle estimator PCA from version 0.22.1 when using version 1.3.2. This might lead to breaking code or invalid results. Use at your own risk. For more info please refer to:\n",
      "https://scikit-learn.org/stable/model_persistence.html#security-maintainability-limitations\n",
      "  warnings.warn(\n"
     ]
    },
    {
     "name": "stdout",
     "output_type": "stream",
     "text": [
      "Nonlinear emulator loaded in memory.\n",
      "Loading Baryonic Emulator...\n",
      "Baryonic Emulator loaded in memory.\n"
     ]
    },
    {
     "name": "stderr",
     "output_type": "stream",
     "text": [
      "/lscratch/dlopez/programs/miniconda_20221210/miniconda3/envs/VE_SBIBE/lib/python3.11/site-packages/sklearn/base.py:348: InconsistentVersionWarning: Trying to unpickle estimator StandardScaler from version 0.23.2 when using version 1.3.2. This might lead to breaking code or invalid results. Use at your own risk. For more info please refer to:\n",
      "https://scikit-learn.org/stable/model_persistence.html#security-maintainability-limitations\n",
      "  warnings.warn(\n",
      "/lscratch/dlopez/programs/miniconda_20221210/miniconda3/envs/VE_SBIBE/lib/python3.11/site-packages/sklearn/base.py:348: InconsistentVersionWarning: Trying to unpickle estimator PCA from version 0.23.2 when using version 1.3.2. This might lead to breaking code or invalid results. Use at your own risk. For more info please refer to:\n",
      "https://scikit-learn.org/stable/model_persistence.html#security-maintainability-limitations\n",
      "  warnings.warn(\n"
     ]
    },
    {
     "name": "stdout",
     "output_type": "stream",
     "text": [
      "Loading sigma8 emulator...\n",
      "Sigma8 emulator loaded in memory.\n",
      "Loading linear emulator...\n"
     ]
    },
    {
     "name": "stderr",
     "output_type": "stream",
     "text": [
      "/lscratch/dlopez/programs/miniconda_20221210/miniconda3/envs/VE_SBIBE/lib/python3.11/site-packages/sklearn/base.py:348: InconsistentVersionWarning: Trying to unpickle estimator PCA from version 1.0 when using version 1.3.2. This might lead to breaking code or invalid results. Use at your own risk. For more info please refer to:\n",
      "https://scikit-learn.org/stable/model_persistence.html#security-maintainability-limitations\n",
      "  warnings.warn(\n",
      "/lscratch/dlopez/programs/miniconda_20221210/miniconda3/envs/VE_SBIBE/lib/python3.11/site-packages/sklearn/base.py:348: InconsistentVersionWarning: Trying to unpickle estimator StandardScaler from version 1.0 when using version 1.3.2. This might lead to breaking code or invalid results. Use at your own risk. For more info please refer to:\n",
      "https://scikit-learn.org/stable/model_persistence.html#security-maintainability-limitations\n",
      "  warnings.warn(\n",
      "/lscratch/dlopez/programs/miniconda_20221210/miniconda3/envs/VE_SBIBE/lib/python3.11/site-packages/sklearn/base.py:348: InconsistentVersionWarning: Trying to unpickle estimator PCA from version 1.0 when using version 1.3.2. This might lead to breaking code or invalid results. Use at your own risk. For more info please refer to:\n",
      "https://scikit-learn.org/stable/model_persistence.html#security-maintainability-limitations\n",
      "  warnings.warn(\n",
      "/lscratch/dlopez/programs/miniconda_20221210/miniconda3/envs/VE_SBIBE/lib/python3.11/site-packages/sklearn/base.py:348: InconsistentVersionWarning: Trying to unpickle estimator StandardScaler from version 1.0 when using version 1.3.2. This might lead to breaking code or invalid results. Use at your own risk. For more info please refer to:\n",
      "https://scikit-learn.org/stable/model_persistence.html#security-maintainability-limitations\n",
      "  warnings.warn(\n"
     ]
    },
    {
     "name": "stdout",
     "output_type": "stream",
     "text": [
      "Linear emulator loaded in memory.\n",
      "Loading no-wiggles emulator...\n",
      "No-wiggles emulator loaded in memory.\n",
      "Loading non-linear emulator...\n"
     ]
    },
    {
     "name": "stderr",
     "output_type": "stream",
     "text": [
      "/lscratch/dlopez/programs/miniconda_20221210/miniconda3/envs/VE_SBIBE/lib/python3.11/site-packages/sklearn/base.py:348: InconsistentVersionWarning: Trying to unpickle estimator StandardScaler from version 1.0.2 when using version 1.3.2. This might lead to breaking code or invalid results. Use at your own risk. For more info please refer to:\n",
      "https://scikit-learn.org/stable/model_persistence.html#security-maintainability-limitations\n",
      "  warnings.warn(\n",
      "/lscratch/dlopez/programs/miniconda_20221210/miniconda3/envs/VE_SBIBE/lib/python3.11/site-packages/sklearn/base.py:348: InconsistentVersionWarning: Trying to unpickle estimator StandardScaler from version 0.22.1 when using version 1.3.2. This might lead to breaking code or invalid results. Use at your own risk. For more info please refer to:\n",
      "https://scikit-learn.org/stable/model_persistence.html#security-maintainability-limitations\n",
      "  warnings.warn(\n",
      "/lscratch/dlopez/programs/miniconda_20221210/miniconda3/envs/VE_SBIBE/lib/python3.11/site-packages/sklearn/base.py:348: InconsistentVersionWarning: Trying to unpickle estimator PCA from version 0.22.1 when using version 1.3.2. This might lead to breaking code or invalid results. Use at your own risk. For more info please refer to:\n",
      "https://scikit-learn.org/stable/model_persistence.html#security-maintainability-limitations\n",
      "  warnings.warn(\n",
      "/lscratch/dlopez/programs/miniconda_20221210/miniconda3/envs/VE_SBIBE/lib/python3.11/site-packages/sklearn/base.py:348: InconsistentVersionWarning: Trying to unpickle estimator StandardScaler from version 0.23.2 when using version 1.3.2. This might lead to breaking code or invalid results. Use at your own risk. For more info please refer to:\n",
      "https://scikit-learn.org/stable/model_persistence.html#security-maintainability-limitations\n",
      "  warnings.warn(\n",
      "/lscratch/dlopez/programs/miniconda_20221210/miniconda3/envs/VE_SBIBE/lib/python3.11/site-packages/sklearn/base.py:348: InconsistentVersionWarning: Trying to unpickle estimator PCA from version 0.23.2 when using version 1.3.2. This might lead to breaking code or invalid results. Use at your own risk. For more info please refer to:\n",
      "https://scikit-learn.org/stable/model_persistence.html#security-maintainability-limitations\n",
      "  warnings.warn(\n"
     ]
    },
    {
     "name": "stdout",
     "output_type": "stream",
     "text": [
      "Nonlinear emulator loaded in memory.\n",
      "Loading Baryonic Emulator...\n",
      "Baryonic Emulator loaded in memory.\n",
      "Loading sigma8 emulator...\n",
      "Sigma8 emulator loaded in memory.\n",
      "Loading linear emulator...\n"
     ]
    },
    {
     "name": "stderr",
     "output_type": "stream",
     "text": [
      "/lscratch/dlopez/programs/miniconda_20221210/miniconda3/envs/VE_SBIBE/lib/python3.11/site-packages/sklearn/base.py:348: InconsistentVersionWarning: Trying to unpickle estimator PCA from version 1.0 when using version 1.3.2. This might lead to breaking code or invalid results. Use at your own risk. For more info please refer to:\n",
      "https://scikit-learn.org/stable/model_persistence.html#security-maintainability-limitations\n",
      "  warnings.warn(\n",
      "/lscratch/dlopez/programs/miniconda_20221210/miniconda3/envs/VE_SBIBE/lib/python3.11/site-packages/sklearn/base.py:348: InconsistentVersionWarning: Trying to unpickle estimator StandardScaler from version 1.0 when using version 1.3.2. This might lead to breaking code or invalid results. Use at your own risk. For more info please refer to:\n",
      "https://scikit-learn.org/stable/model_persistence.html#security-maintainability-limitations\n",
      "  warnings.warn(\n",
      "/lscratch/dlopez/programs/miniconda_20221210/miniconda3/envs/VE_SBIBE/lib/python3.11/site-packages/sklearn/base.py:348: InconsistentVersionWarning: Trying to unpickle estimator PCA from version 1.0 when using version 1.3.2. This might lead to breaking code or invalid results. Use at your own risk. For more info please refer to:\n",
      "https://scikit-learn.org/stable/model_persistence.html#security-maintainability-limitations\n",
      "  warnings.warn(\n",
      "/lscratch/dlopez/programs/miniconda_20221210/miniconda3/envs/VE_SBIBE/lib/python3.11/site-packages/sklearn/base.py:348: InconsistentVersionWarning: Trying to unpickle estimator StandardScaler from version 1.0 when using version 1.3.2. This might lead to breaking code or invalid results. Use at your own risk. For more info please refer to:\n",
      "https://scikit-learn.org/stable/model_persistence.html#security-maintainability-limitations\n",
      "  warnings.warn(\n"
     ]
    },
    {
     "name": "stdout",
     "output_type": "stream",
     "text": [
      "Linear emulator loaded in memory.\n",
      "Loading no-wiggles emulator...\n",
      "No-wiggles emulator loaded in memory.\n",
      "Loading non-linear emulator...\n"
     ]
    },
    {
     "name": "stderr",
     "output_type": "stream",
     "text": [
      "/lscratch/dlopez/programs/miniconda_20221210/miniconda3/envs/VE_SBIBE/lib/python3.11/site-packages/sklearn/base.py:348: InconsistentVersionWarning: Trying to unpickle estimator StandardScaler from version 1.0.2 when using version 1.3.2. This might lead to breaking code or invalid results. Use at your own risk. For more info please refer to:\n",
      "https://scikit-learn.org/stable/model_persistence.html#security-maintainability-limitations\n",
      "  warnings.warn(\n",
      "/lscratch/dlopez/programs/miniconda_20221210/miniconda3/envs/VE_SBIBE/lib/python3.11/site-packages/sklearn/base.py:348: InconsistentVersionWarning: Trying to unpickle estimator StandardScaler from version 0.22.1 when using version 1.3.2. This might lead to breaking code or invalid results. Use at your own risk. For more info please refer to:\n",
      "https://scikit-learn.org/stable/model_persistence.html#security-maintainability-limitations\n",
      "  warnings.warn(\n",
      "/lscratch/dlopez/programs/miniconda_20221210/miniconda3/envs/VE_SBIBE/lib/python3.11/site-packages/sklearn/base.py:348: InconsistentVersionWarning: Trying to unpickle estimator PCA from version 0.22.1 when using version 1.3.2. This might lead to breaking code or invalid results. Use at your own risk. For more info please refer to:\n",
      "https://scikit-learn.org/stable/model_persistence.html#security-maintainability-limitations\n",
      "  warnings.warn(\n"
     ]
    },
    {
     "name": "stdout",
     "output_type": "stream",
     "text": [
      "Nonlinear emulator loaded in memory.\n",
      "Loading Baryonic Emulator...\n",
      "Baryonic Emulator loaded in memory.\n"
     ]
    },
    {
     "name": "stderr",
     "output_type": "stream",
     "text": [
      "/lscratch/dlopez/programs/miniconda_20221210/miniconda3/envs/VE_SBIBE/lib/python3.11/site-packages/sklearn/base.py:348: InconsistentVersionWarning: Trying to unpickle estimator StandardScaler from version 0.23.2 when using version 1.3.2. This might lead to breaking code or invalid results. Use at your own risk. For more info please refer to:\n",
      "https://scikit-learn.org/stable/model_persistence.html#security-maintainability-limitations\n",
      "  warnings.warn(\n",
      "/lscratch/dlopez/programs/miniconda_20221210/miniconda3/envs/VE_SBIBE/lib/python3.11/site-packages/sklearn/base.py:348: InconsistentVersionWarning: Trying to unpickle estimator PCA from version 0.23.2 when using version 1.3.2. This might lead to breaking code or invalid results. Use at your own risk. For more info please refer to:\n",
      "https://scikit-learn.org/stable/model_persistence.html#security-maintainability-limitations\n",
      "  warnings.warn(\n"
     ]
    },
    {
     "name": "stdout",
     "output_type": "stream",
     "text": [
      "Loading sigma8 emulator...\n",
      "Sigma8 emulator loaded in memory.\n",
      "Loading linear emulator...\n"
     ]
    },
    {
     "name": "stderr",
     "output_type": "stream",
     "text": [
      "/lscratch/dlopez/programs/miniconda_20221210/miniconda3/envs/VE_SBIBE/lib/python3.11/site-packages/sklearn/base.py:348: InconsistentVersionWarning: Trying to unpickle estimator PCA from version 1.0 when using version 1.3.2. This might lead to breaking code or invalid results. Use at your own risk. For more info please refer to:\n",
      "https://scikit-learn.org/stable/model_persistence.html#security-maintainability-limitations\n",
      "  warnings.warn(\n",
      "/lscratch/dlopez/programs/miniconda_20221210/miniconda3/envs/VE_SBIBE/lib/python3.11/site-packages/sklearn/base.py:348: InconsistentVersionWarning: Trying to unpickle estimator StandardScaler from version 1.0 when using version 1.3.2. This might lead to breaking code or invalid results. Use at your own risk. For more info please refer to:\n",
      "https://scikit-learn.org/stable/model_persistence.html#security-maintainability-limitations\n",
      "  warnings.warn(\n",
      "/lscratch/dlopez/programs/miniconda_20221210/miniconda3/envs/VE_SBIBE/lib/python3.11/site-packages/sklearn/base.py:348: InconsistentVersionWarning: Trying to unpickle estimator PCA from version 1.0 when using version 1.3.2. This might lead to breaking code or invalid results. Use at your own risk. For more info please refer to:\n",
      "https://scikit-learn.org/stable/model_persistence.html#security-maintainability-limitations\n",
      "  warnings.warn(\n",
      "/lscratch/dlopez/programs/miniconda_20221210/miniconda3/envs/VE_SBIBE/lib/python3.11/site-packages/sklearn/base.py:348: InconsistentVersionWarning: Trying to unpickle estimator StandardScaler from version 1.0 when using version 1.3.2. This might lead to breaking code or invalid results. Use at your own risk. For more info please refer to:\n",
      "https://scikit-learn.org/stable/model_persistence.html#security-maintainability-limitations\n",
      "  warnings.warn(\n"
     ]
    },
    {
     "name": "stdout",
     "output_type": "stream",
     "text": [
      "Linear emulator loaded in memory.\n",
      "Loading no-wiggles emulator...\n",
      "No-wiggles emulator loaded in memory.\n",
      "Loading non-linear emulator...\n"
     ]
    },
    {
     "name": "stderr",
     "output_type": "stream",
     "text": [
      "/lscratch/dlopez/programs/miniconda_20221210/miniconda3/envs/VE_SBIBE/lib/python3.11/site-packages/sklearn/base.py:348: InconsistentVersionWarning: Trying to unpickle estimator StandardScaler from version 1.0.2 when using version 1.3.2. This might lead to breaking code or invalid results. Use at your own risk. For more info please refer to:\n",
      "https://scikit-learn.org/stable/model_persistence.html#security-maintainability-limitations\n",
      "  warnings.warn(\n",
      "/lscratch/dlopez/programs/miniconda_20221210/miniconda3/envs/VE_SBIBE/lib/python3.11/site-packages/sklearn/base.py:348: InconsistentVersionWarning: Trying to unpickle estimator StandardScaler from version 0.22.1 when using version 1.3.2. This might lead to breaking code or invalid results. Use at your own risk. For more info please refer to:\n",
      "https://scikit-learn.org/stable/model_persistence.html#security-maintainability-limitations\n",
      "  warnings.warn(\n",
      "/lscratch/dlopez/programs/miniconda_20221210/miniconda3/envs/VE_SBIBE/lib/python3.11/site-packages/sklearn/base.py:348: InconsistentVersionWarning: Trying to unpickle estimator PCA from version 0.22.1 when using version 1.3.2. This might lead to breaking code or invalid results. Use at your own risk. For more info please refer to:\n",
      "https://scikit-learn.org/stable/model_persistence.html#security-maintainability-limitations\n",
      "  warnings.warn(\n"
     ]
    },
    {
     "name": "stdout",
     "output_type": "stream",
     "text": [
      "Nonlinear emulator loaded in memory.\n",
      "Loading Baryonic Emulator...\n",
      "Baryonic Emulator loaded in memory.\n"
     ]
    },
    {
     "name": "stderr",
     "output_type": "stream",
     "text": [
      "/lscratch/dlopez/programs/miniconda_20221210/miniconda3/envs/VE_SBIBE/lib/python3.11/site-packages/sklearn/base.py:348: InconsistentVersionWarning: Trying to unpickle estimator StandardScaler from version 0.23.2 when using version 1.3.2. This might lead to breaking code or invalid results. Use at your own risk. For more info please refer to:\n",
      "https://scikit-learn.org/stable/model_persistence.html#security-maintainability-limitations\n",
      "  warnings.warn(\n",
      "/lscratch/dlopez/programs/miniconda_20221210/miniconda3/envs/VE_SBIBE/lib/python3.11/site-packages/sklearn/base.py:348: InconsistentVersionWarning: Trying to unpickle estimator PCA from version 0.23.2 when using version 1.3.2. This might lead to breaking code or invalid results. Use at your own risk. For more info please refer to:\n",
      "https://scikit-learn.org/stable/model_persistence.html#security-maintainability-limitations\n",
      "  warnings.warn(\n"
     ]
    },
    {
     "name": "stdout",
     "output_type": "stream",
     "text": [
      "Loading sigma8 emulator...\n",
      "Sigma8 emulator loaded in memory.\n",
      "Loading linear emulator...\n"
     ]
    },
    {
     "name": "stderr",
     "output_type": "stream",
     "text": [
      "/lscratch/dlopez/programs/miniconda_20221210/miniconda3/envs/VE_SBIBE/lib/python3.11/site-packages/sklearn/base.py:348: InconsistentVersionWarning: Trying to unpickle estimator PCA from version 1.0 when using version 1.3.2. This might lead to breaking code or invalid results. Use at your own risk. For more info please refer to:\n",
      "https://scikit-learn.org/stable/model_persistence.html#security-maintainability-limitations\n",
      "  warnings.warn(\n",
      "/lscratch/dlopez/programs/miniconda_20221210/miniconda3/envs/VE_SBIBE/lib/python3.11/site-packages/sklearn/base.py:348: InconsistentVersionWarning: Trying to unpickle estimator StandardScaler from version 1.0 when using version 1.3.2. This might lead to breaking code or invalid results. Use at your own risk. For more info please refer to:\n",
      "https://scikit-learn.org/stable/model_persistence.html#security-maintainability-limitations\n",
      "  warnings.warn(\n",
      "/lscratch/dlopez/programs/miniconda_20221210/miniconda3/envs/VE_SBIBE/lib/python3.11/site-packages/sklearn/base.py:348: InconsistentVersionWarning: Trying to unpickle estimator PCA from version 1.0 when using version 1.3.2. This might lead to breaking code or invalid results. Use at your own risk. For more info please refer to:\n",
      "https://scikit-learn.org/stable/model_persistence.html#security-maintainability-limitations\n",
      "  warnings.warn(\n",
      "/lscratch/dlopez/programs/miniconda_20221210/miniconda3/envs/VE_SBIBE/lib/python3.11/site-packages/sklearn/base.py:348: InconsistentVersionWarning: Trying to unpickle estimator StandardScaler from version 1.0 when using version 1.3.2. This might lead to breaking code or invalid results. Use at your own risk. For more info please refer to:\n",
      "https://scikit-learn.org/stable/model_persistence.html#security-maintainability-limitations\n",
      "  warnings.warn(\n",
      "/lscratch/dlopez/programs/miniconda_20221210/miniconda3/envs/VE_SBIBE/lib/python3.11/site-packages/sklearn/base.py:348: InconsistentVersionWarning: Trying to unpickle estimator StandardScaler from version 1.0.2 when using version 1.3.2. This might lead to breaking code or invalid results. Use at your own risk. For more info please refer to:\n",
      "https://scikit-learn.org/stable/model_persistence.html#security-maintainability-limitations\n",
      "  warnings.warn(\n"
     ]
    },
    {
     "name": "stdout",
     "output_type": "stream",
     "text": [
      "Linear emulator loaded in memory.\n",
      "Loading no-wiggles emulator...\n",
      "No-wiggles emulator loaded in memory.\n",
      "Loading non-linear emulator...\n"
     ]
    },
    {
     "name": "stderr",
     "output_type": "stream",
     "text": [
      "/lscratch/dlopez/programs/miniconda_20221210/miniconda3/envs/VE_SBIBE/lib/python3.11/site-packages/sklearn/base.py:348: InconsistentVersionWarning: Trying to unpickle estimator StandardScaler from version 0.22.1 when using version 1.3.2. This might lead to breaking code or invalid results. Use at your own risk. For more info please refer to:\n",
      "https://scikit-learn.org/stable/model_persistence.html#security-maintainability-limitations\n",
      "  warnings.warn(\n",
      "/lscratch/dlopez/programs/miniconda_20221210/miniconda3/envs/VE_SBIBE/lib/python3.11/site-packages/sklearn/base.py:348: InconsistentVersionWarning: Trying to unpickle estimator PCA from version 0.22.1 when using version 1.3.2. This might lead to breaking code or invalid results. Use at your own risk. For more info please refer to:\n",
      "https://scikit-learn.org/stable/model_persistence.html#security-maintainability-limitations\n",
      "  warnings.warn(\n",
      "/lscratch/dlopez/programs/miniconda_20221210/miniconda3/envs/VE_SBIBE/lib/python3.11/site-packages/sklearn/base.py:348: InconsistentVersionWarning: Trying to unpickle estimator StandardScaler from version 0.23.2 when using version 1.3.2. This might lead to breaking code or invalid results. Use at your own risk. For more info please refer to:\n",
      "https://scikit-learn.org/stable/model_persistence.html#security-maintainability-limitations\n",
      "  warnings.warn(\n",
      "/lscratch/dlopez/programs/miniconda_20221210/miniconda3/envs/VE_SBIBE/lib/python3.11/site-packages/sklearn/base.py:348: InconsistentVersionWarning: Trying to unpickle estimator PCA from version 0.23.2 when using version 1.3.2. This might lead to breaking code or invalid results. Use at your own risk. For more info please refer to:\n",
      "https://scikit-learn.org/stable/model_persistence.html#security-maintainability-limitations\n",
      "  warnings.warn(\n"
     ]
    },
    {
     "name": "stdout",
     "output_type": "stream",
     "text": [
      "Nonlinear emulator loaded in memory.\n",
      "Loading Baryonic Emulator...\n",
      "Baryonic Emulator loaded in memory.\n",
      "Loading sigma8 emulator...\n",
      "Sigma8 emulator loaded in memory.\n",
      "Loading linear emulator...\n"
     ]
    },
    {
     "name": "stderr",
     "output_type": "stream",
     "text": [
      "/lscratch/dlopez/programs/miniconda_20221210/miniconda3/envs/VE_SBIBE/lib/python3.11/site-packages/sklearn/base.py:348: InconsistentVersionWarning: Trying to unpickle estimator PCA from version 1.0 when using version 1.3.2. This might lead to breaking code or invalid results. Use at your own risk. For more info please refer to:\n",
      "https://scikit-learn.org/stable/model_persistence.html#security-maintainability-limitations\n",
      "  warnings.warn(\n",
      "/lscratch/dlopez/programs/miniconda_20221210/miniconda3/envs/VE_SBIBE/lib/python3.11/site-packages/sklearn/base.py:348: InconsistentVersionWarning: Trying to unpickle estimator StandardScaler from version 1.0 when using version 1.3.2. This might lead to breaking code or invalid results. Use at your own risk. For more info please refer to:\n",
      "https://scikit-learn.org/stable/model_persistence.html#security-maintainability-limitations\n",
      "  warnings.warn(\n",
      "/lscratch/dlopez/programs/miniconda_20221210/miniconda3/envs/VE_SBIBE/lib/python3.11/site-packages/sklearn/base.py:348: InconsistentVersionWarning: Trying to unpickle estimator PCA from version 1.0 when using version 1.3.2. This might lead to breaking code or invalid results. Use at your own risk. For more info please refer to:\n",
      "https://scikit-learn.org/stable/model_persistence.html#security-maintainability-limitations\n",
      "  warnings.warn(\n",
      "/lscratch/dlopez/programs/miniconda_20221210/miniconda3/envs/VE_SBIBE/lib/python3.11/site-packages/sklearn/base.py:348: InconsistentVersionWarning: Trying to unpickle estimator StandardScaler from version 1.0 when using version 1.3.2. This might lead to breaking code or invalid results. Use at your own risk. For more info please refer to:\n",
      "https://scikit-learn.org/stable/model_persistence.html#security-maintainability-limitations\n",
      "  warnings.warn(\n"
     ]
    },
    {
     "name": "stdout",
     "output_type": "stream",
     "text": [
      "Linear emulator loaded in memory.\n",
      "Loading no-wiggles emulator...\n",
      "No-wiggles emulator loaded in memory.\n",
      "Loading non-linear emulator...\n"
     ]
    },
    {
     "name": "stderr",
     "output_type": "stream",
     "text": [
      "/lscratch/dlopez/programs/miniconda_20221210/miniconda3/envs/VE_SBIBE/lib/python3.11/site-packages/sklearn/base.py:348: InconsistentVersionWarning: Trying to unpickle estimator StandardScaler from version 1.0.2 when using version 1.3.2. This might lead to breaking code or invalid results. Use at your own risk. For more info please refer to:\n",
      "https://scikit-learn.org/stable/model_persistence.html#security-maintainability-limitations\n",
      "  warnings.warn(\n",
      "/lscratch/dlopez/programs/miniconda_20221210/miniconda3/envs/VE_SBIBE/lib/python3.11/site-packages/sklearn/base.py:348: InconsistentVersionWarning: Trying to unpickle estimator StandardScaler from version 0.22.1 when using version 1.3.2. This might lead to breaking code or invalid results. Use at your own risk. For more info please refer to:\n",
      "https://scikit-learn.org/stable/model_persistence.html#security-maintainability-limitations\n",
      "  warnings.warn(\n",
      "/lscratch/dlopez/programs/miniconda_20221210/miniconda3/envs/VE_SBIBE/lib/python3.11/site-packages/sklearn/base.py:348: InconsistentVersionWarning: Trying to unpickle estimator PCA from version 0.22.1 when using version 1.3.2. This might lead to breaking code or invalid results. Use at your own risk. For more info please refer to:\n",
      "https://scikit-learn.org/stable/model_persistence.html#security-maintainability-limitations\n",
      "  warnings.warn(\n"
     ]
    },
    {
     "name": "stdout",
     "output_type": "stream",
     "text": [
      "Nonlinear emulator loaded in memory.\n",
      "Loading Baryonic Emulator...\n",
      "Baryonic Emulator loaded in memory.\n"
     ]
    },
    {
     "name": "stderr",
     "output_type": "stream",
     "text": [
      "/lscratch/dlopez/programs/miniconda_20221210/miniconda3/envs/VE_SBIBE/lib/python3.11/site-packages/sklearn/base.py:348: InconsistentVersionWarning: Trying to unpickle estimator StandardScaler from version 0.23.2 when using version 1.3.2. This might lead to breaking code or invalid results. Use at your own risk. For more info please refer to:\n",
      "https://scikit-learn.org/stable/model_persistence.html#security-maintainability-limitations\n",
      "  warnings.warn(\n",
      "/lscratch/dlopez/programs/miniconda_20221210/miniconda3/envs/VE_SBIBE/lib/python3.11/site-packages/sklearn/base.py:348: InconsistentVersionWarning: Trying to unpickle estimator PCA from version 0.23.2 when using version 1.3.2. This might lead to breaking code or invalid results. Use at your own risk. For more info please refer to:\n",
      "https://scikit-learn.org/stable/model_persistence.html#security-maintainability-limitations\n",
      "  warnings.warn(\n"
     ]
    },
    {
     "name": "stdout",
     "output_type": "stream",
     "text": [
      "Loading sigma8 emulator...\n",
      "Sigma8 emulator loaded in memory.\n",
      "Loading linear emulator...\n"
     ]
    },
    {
     "name": "stderr",
     "output_type": "stream",
     "text": [
      "/lscratch/dlopez/programs/miniconda_20221210/miniconda3/envs/VE_SBIBE/lib/python3.11/site-packages/sklearn/base.py:348: InconsistentVersionWarning: Trying to unpickle estimator PCA from version 1.0 when using version 1.3.2. This might lead to breaking code or invalid results. Use at your own risk. For more info please refer to:\n",
      "https://scikit-learn.org/stable/model_persistence.html#security-maintainability-limitations\n",
      "  warnings.warn(\n",
      "/lscratch/dlopez/programs/miniconda_20221210/miniconda3/envs/VE_SBIBE/lib/python3.11/site-packages/sklearn/base.py:348: InconsistentVersionWarning: Trying to unpickle estimator StandardScaler from version 1.0 when using version 1.3.2. This might lead to breaking code or invalid results. Use at your own risk. For more info please refer to:\n",
      "https://scikit-learn.org/stable/model_persistence.html#security-maintainability-limitations\n",
      "  warnings.warn(\n",
      "/lscratch/dlopez/programs/miniconda_20221210/miniconda3/envs/VE_SBIBE/lib/python3.11/site-packages/sklearn/base.py:348: InconsistentVersionWarning: Trying to unpickle estimator PCA from version 1.0 when using version 1.3.2. This might lead to breaking code or invalid results. Use at your own risk. For more info please refer to:\n",
      "https://scikit-learn.org/stable/model_persistence.html#security-maintainability-limitations\n",
      "  warnings.warn(\n",
      "/lscratch/dlopez/programs/miniconda_20221210/miniconda3/envs/VE_SBIBE/lib/python3.11/site-packages/sklearn/base.py:348: InconsistentVersionWarning: Trying to unpickle estimator StandardScaler from version 1.0 when using version 1.3.2. This might lead to breaking code or invalid results. Use at your own risk. For more info please refer to:\n",
      "https://scikit-learn.org/stable/model_persistence.html#security-maintainability-limitations\n",
      "  warnings.warn(\n"
     ]
    },
    {
     "name": "stdout",
     "output_type": "stream",
     "text": [
      "Linear emulator loaded in memory.\n",
      "Loading no-wiggles emulator...\n",
      "No-wiggles emulator loaded in memory.\n",
      "Loading non-linear emulator...\n"
     ]
    },
    {
     "name": "stderr",
     "output_type": "stream",
     "text": [
      "/lscratch/dlopez/programs/miniconda_20221210/miniconda3/envs/VE_SBIBE/lib/python3.11/site-packages/sklearn/base.py:348: InconsistentVersionWarning: Trying to unpickle estimator StandardScaler from version 1.0.2 when using version 1.3.2. This might lead to breaking code or invalid results. Use at your own risk. For more info please refer to:\n",
      "https://scikit-learn.org/stable/model_persistence.html#security-maintainability-limitations\n",
      "  warnings.warn(\n",
      "/lscratch/dlopez/programs/miniconda_20221210/miniconda3/envs/VE_SBIBE/lib/python3.11/site-packages/sklearn/base.py:348: InconsistentVersionWarning: Trying to unpickle estimator StandardScaler from version 0.22.1 when using version 1.3.2. This might lead to breaking code or invalid results. Use at your own risk. For more info please refer to:\n",
      "https://scikit-learn.org/stable/model_persistence.html#security-maintainability-limitations\n",
      "  warnings.warn(\n",
      "/lscratch/dlopez/programs/miniconda_20221210/miniconda3/envs/VE_SBIBE/lib/python3.11/site-packages/sklearn/base.py:348: InconsistentVersionWarning: Trying to unpickle estimator PCA from version 0.22.1 when using version 1.3.2. This might lead to breaking code or invalid results. Use at your own risk. For more info please refer to:\n",
      "https://scikit-learn.org/stable/model_persistence.html#security-maintainability-limitations\n",
      "  warnings.warn(\n"
     ]
    },
    {
     "name": "stdout",
     "output_type": "stream",
     "text": [
      "Nonlinear emulator loaded in memory.\n",
      "Loading Baryonic Emulator...\n",
      "Baryonic Emulator loaded in memory.\n"
     ]
    },
    {
     "name": "stderr",
     "output_type": "stream",
     "text": [
      "/lscratch/dlopez/programs/miniconda_20221210/miniconda3/envs/VE_SBIBE/lib/python3.11/site-packages/sklearn/base.py:348: InconsistentVersionWarning: Trying to unpickle estimator StandardScaler from version 0.23.2 when using version 1.3.2. This might lead to breaking code or invalid results. Use at your own risk. For more info please refer to:\n",
      "https://scikit-learn.org/stable/model_persistence.html#security-maintainability-limitations\n",
      "  warnings.warn(\n",
      "/lscratch/dlopez/programs/miniconda_20221210/miniconda3/envs/VE_SBIBE/lib/python3.11/site-packages/sklearn/base.py:348: InconsistentVersionWarning: Trying to unpickle estimator PCA from version 0.23.2 when using version 1.3.2. This might lead to breaking code or invalid results. Use at your own risk. For more info please refer to:\n",
      "https://scikit-learn.org/stable/model_persistence.html#security-maintainability-limitations\n",
      "  warnings.warn(\n"
     ]
    },
    {
     "name": "stdout",
     "output_type": "stream",
     "text": [
      "Loading sigma8 emulator...\n",
      "Sigma8 emulator loaded in memory.\n",
      "Loading linear emulator...\n"
     ]
    },
    {
     "name": "stderr",
     "output_type": "stream",
     "text": [
      "/lscratch/dlopez/programs/miniconda_20221210/miniconda3/envs/VE_SBIBE/lib/python3.11/site-packages/sklearn/base.py:348: InconsistentVersionWarning: Trying to unpickle estimator PCA from version 1.0 when using version 1.3.2. This might lead to breaking code or invalid results. Use at your own risk. For more info please refer to:\n",
      "https://scikit-learn.org/stable/model_persistence.html#security-maintainability-limitations\n",
      "  warnings.warn(\n",
      "/lscratch/dlopez/programs/miniconda_20221210/miniconda3/envs/VE_SBIBE/lib/python3.11/site-packages/sklearn/base.py:348: InconsistentVersionWarning: Trying to unpickle estimator StandardScaler from version 1.0 when using version 1.3.2. This might lead to breaking code or invalid results. Use at your own risk. For more info please refer to:\n",
      "https://scikit-learn.org/stable/model_persistence.html#security-maintainability-limitations\n",
      "  warnings.warn(\n",
      "/lscratch/dlopez/programs/miniconda_20221210/miniconda3/envs/VE_SBIBE/lib/python3.11/site-packages/sklearn/base.py:348: InconsistentVersionWarning: Trying to unpickle estimator PCA from version 1.0 when using version 1.3.2. This might lead to breaking code or invalid results. Use at your own risk. For more info please refer to:\n",
      "https://scikit-learn.org/stable/model_persistence.html#security-maintainability-limitations\n",
      "  warnings.warn(\n",
      "/lscratch/dlopez/programs/miniconda_20221210/miniconda3/envs/VE_SBIBE/lib/python3.11/site-packages/sklearn/base.py:348: InconsistentVersionWarning: Trying to unpickle estimator StandardScaler from version 1.0 when using version 1.3.2. This might lead to breaking code or invalid results. Use at your own risk. For more info please refer to:\n",
      "https://scikit-learn.org/stable/model_persistence.html#security-maintainability-limitations\n",
      "  warnings.warn(\n"
     ]
    },
    {
     "name": "stdout",
     "output_type": "stream",
     "text": [
      "Linear emulator loaded in memory.\n",
      "Loading no-wiggles emulator...\n",
      "No-wiggles emulator loaded in memory.\n",
      "Loading non-linear emulator...\n"
     ]
    },
    {
     "name": "stderr",
     "output_type": "stream",
     "text": [
      "/lscratch/dlopez/programs/miniconda_20221210/miniconda3/envs/VE_SBIBE/lib/python3.11/site-packages/sklearn/base.py:348: InconsistentVersionWarning: Trying to unpickle estimator StandardScaler from version 1.0.2 when using version 1.3.2. This might lead to breaking code or invalid results. Use at your own risk. For more info please refer to:\n",
      "https://scikit-learn.org/stable/model_persistence.html#security-maintainability-limitations\n",
      "  warnings.warn(\n",
      "/lscratch/dlopez/programs/miniconda_20221210/miniconda3/envs/VE_SBIBE/lib/python3.11/site-packages/sklearn/base.py:348: InconsistentVersionWarning: Trying to unpickle estimator StandardScaler from version 0.22.1 when using version 1.3.2. This might lead to breaking code or invalid results. Use at your own risk. For more info please refer to:\n",
      "https://scikit-learn.org/stable/model_persistence.html#security-maintainability-limitations\n",
      "  warnings.warn(\n",
      "/lscratch/dlopez/programs/miniconda_20221210/miniconda3/envs/VE_SBIBE/lib/python3.11/site-packages/sklearn/base.py:348: InconsistentVersionWarning: Trying to unpickle estimator PCA from version 0.22.1 when using version 1.3.2. This might lead to breaking code or invalid results. Use at your own risk. For more info please refer to:\n",
      "https://scikit-learn.org/stable/model_persistence.html#security-maintainability-limitations\n",
      "  warnings.warn(\n"
     ]
    },
    {
     "name": "stdout",
     "output_type": "stream",
     "text": [
      "Nonlinear emulator loaded in memory.\n",
      "Loading Baryonic Emulator...\n",
      "Baryonic Emulator loaded in memory.\n"
     ]
    },
    {
     "name": "stderr",
     "output_type": "stream",
     "text": [
      "/lscratch/dlopez/programs/miniconda_20221210/miniconda3/envs/VE_SBIBE/lib/python3.11/site-packages/sklearn/base.py:348: InconsistentVersionWarning: Trying to unpickle estimator StandardScaler from version 0.23.2 when using version 1.3.2. This might lead to breaking code or invalid results. Use at your own risk. For more info please refer to:\n",
      "https://scikit-learn.org/stable/model_persistence.html#security-maintainability-limitations\n",
      "  warnings.warn(\n",
      "/lscratch/dlopez/programs/miniconda_20221210/miniconda3/envs/VE_SBIBE/lib/python3.11/site-packages/sklearn/base.py:348: InconsistentVersionWarning: Trying to unpickle estimator PCA from version 0.23.2 when using version 1.3.2. This might lead to breaking code or invalid results. Use at your own risk. For more info please refer to:\n",
      "https://scikit-learn.org/stable/model_persistence.html#security-maintainability-limitations\n",
      "  warnings.warn(\n"
     ]
    },
    {
     "name": "stdout",
     "output_type": "stream",
     "text": [
      "Loading sigma8 emulator...\n",
      "Sigma8 emulator loaded in memory.\n",
      "Loading linear emulator...\n"
     ]
    },
    {
     "name": "stderr",
     "output_type": "stream",
     "text": [
      "/lscratch/dlopez/programs/miniconda_20221210/miniconda3/envs/VE_SBIBE/lib/python3.11/site-packages/sklearn/base.py:348: InconsistentVersionWarning: Trying to unpickle estimator PCA from version 1.0 when using version 1.3.2. This might lead to breaking code or invalid results. Use at your own risk. For more info please refer to:\n",
      "https://scikit-learn.org/stable/model_persistence.html#security-maintainability-limitations\n",
      "  warnings.warn(\n",
      "/lscratch/dlopez/programs/miniconda_20221210/miniconda3/envs/VE_SBIBE/lib/python3.11/site-packages/sklearn/base.py:348: InconsistentVersionWarning: Trying to unpickle estimator StandardScaler from version 1.0 when using version 1.3.2. This might lead to breaking code or invalid results. Use at your own risk. For more info please refer to:\n",
      "https://scikit-learn.org/stable/model_persistence.html#security-maintainability-limitations\n",
      "  warnings.warn(\n",
      "/lscratch/dlopez/programs/miniconda_20221210/miniconda3/envs/VE_SBIBE/lib/python3.11/site-packages/sklearn/base.py:348: InconsistentVersionWarning: Trying to unpickle estimator PCA from version 1.0 when using version 1.3.2. This might lead to breaking code or invalid results. Use at your own risk. For more info please refer to:\n",
      "https://scikit-learn.org/stable/model_persistence.html#security-maintainability-limitations\n",
      "  warnings.warn(\n",
      "/lscratch/dlopez/programs/miniconda_20221210/miniconda3/envs/VE_SBIBE/lib/python3.11/site-packages/sklearn/base.py:348: InconsistentVersionWarning: Trying to unpickle estimator StandardScaler from version 1.0 when using version 1.3.2. This might lead to breaking code or invalid results. Use at your own risk. For more info please refer to:\n",
      "https://scikit-learn.org/stable/model_persistence.html#security-maintainability-limitations\n",
      "  warnings.warn(\n"
     ]
    },
    {
     "name": "stdout",
     "output_type": "stream",
     "text": [
      "Linear emulator loaded in memory.\n",
      "Loading no-wiggles emulator...\n"
     ]
    },
    {
     "name": "stderr",
     "output_type": "stream",
     "text": [
      "/lscratch/dlopez/programs/miniconda_20221210/miniconda3/envs/VE_SBIBE/lib/python3.11/site-packages/sklearn/base.py:348: InconsistentVersionWarning: Trying to unpickle estimator StandardScaler from version 1.0.2 when using version 1.3.2. This might lead to breaking code or invalid results. Use at your own risk. For more info please refer to:\n",
      "https://scikit-learn.org/stable/model_persistence.html#security-maintainability-limitations\n",
      "  warnings.warn(\n",
      "/lscratch/dlopez/programs/miniconda_20221210/miniconda3/envs/VE_SBIBE/lib/python3.11/site-packages/sklearn/base.py:348: InconsistentVersionWarning: Trying to unpickle estimator StandardScaler from version 0.22.1 when using version 1.3.2. This might lead to breaking code or invalid results. Use at your own risk. For more info please refer to:\n",
      "https://scikit-learn.org/stable/model_persistence.html#security-maintainability-limitations\n",
      "  warnings.warn(\n",
      "/lscratch/dlopez/programs/miniconda_20221210/miniconda3/envs/VE_SBIBE/lib/python3.11/site-packages/sklearn/base.py:348: InconsistentVersionWarning: Trying to unpickle estimator PCA from version 0.22.1 when using version 1.3.2. This might lead to breaking code or invalid results. Use at your own risk. For more info please refer to:\n",
      "https://scikit-learn.org/stable/model_persistence.html#security-maintainability-limitations\n",
      "  warnings.warn(\n"
     ]
    },
    {
     "name": "stdout",
     "output_type": "stream",
     "text": [
      "No-wiggles emulator loaded in memory.\n",
      "Loading non-linear emulator...\n",
      "Nonlinear emulator loaded in memory.\n",
      "Loading Baryonic Emulator...\n"
     ]
    },
    {
     "name": "stderr",
     "output_type": "stream",
     "text": [
      "/lscratch/dlopez/programs/miniconda_20221210/miniconda3/envs/VE_SBIBE/lib/python3.11/site-packages/sklearn/base.py:348: InconsistentVersionWarning: Trying to unpickle estimator StandardScaler from version 0.23.2 when using version 1.3.2. This might lead to breaking code or invalid results. Use at your own risk. For more info please refer to:\n",
      "https://scikit-learn.org/stable/model_persistence.html#security-maintainability-limitations\n",
      "  warnings.warn(\n",
      "/lscratch/dlopez/programs/miniconda_20221210/miniconda3/envs/VE_SBIBE/lib/python3.11/site-packages/sklearn/base.py:348: InconsistentVersionWarning: Trying to unpickle estimator PCA from version 0.23.2 when using version 1.3.2. This might lead to breaking code or invalid results. Use at your own risk. For more info please refer to:\n",
      "https://scikit-learn.org/stable/model_persistence.html#security-maintainability-limitations\n",
      "  warnings.warn(\n"
     ]
    },
    {
     "name": "stdout",
     "output_type": "stream",
     "text": [
      "Baryonic Emulator loaded in memory.\n",
      "Loading sigma8 emulator...\n",
      "Sigma8 emulator loaded in memory.\n",
      "Loading linear emulator...\n"
     ]
    },
    {
     "name": "stderr",
     "output_type": "stream",
     "text": [
      "/lscratch/dlopez/programs/miniconda_20221210/miniconda3/envs/VE_SBIBE/lib/python3.11/site-packages/sklearn/base.py:348: InconsistentVersionWarning: Trying to unpickle estimator PCA from version 1.0 when using version 1.3.2. This might lead to breaking code or invalid results. Use at your own risk. For more info please refer to:\n",
      "https://scikit-learn.org/stable/model_persistence.html#security-maintainability-limitations\n",
      "  warnings.warn(\n",
      "/lscratch/dlopez/programs/miniconda_20221210/miniconda3/envs/VE_SBIBE/lib/python3.11/site-packages/sklearn/base.py:348: InconsistentVersionWarning: Trying to unpickle estimator StandardScaler from version 1.0 when using version 1.3.2. This might lead to breaking code or invalid results. Use at your own risk. For more info please refer to:\n",
      "https://scikit-learn.org/stable/model_persistence.html#security-maintainability-limitations\n",
      "  warnings.warn(\n",
      "/lscratch/dlopez/programs/miniconda_20221210/miniconda3/envs/VE_SBIBE/lib/python3.11/site-packages/sklearn/base.py:348: InconsistentVersionWarning: Trying to unpickle estimator PCA from version 1.0 when using version 1.3.2. This might lead to breaking code or invalid results. Use at your own risk. For more info please refer to:\n",
      "https://scikit-learn.org/stable/model_persistence.html#security-maintainability-limitations\n",
      "  warnings.warn(\n",
      "/lscratch/dlopez/programs/miniconda_20221210/miniconda3/envs/VE_SBIBE/lib/python3.11/site-packages/sklearn/base.py:348: InconsistentVersionWarning: Trying to unpickle estimator StandardScaler from version 1.0 when using version 1.3.2. This might lead to breaking code or invalid results. Use at your own risk. For more info please refer to:\n",
      "https://scikit-learn.org/stable/model_persistence.html#security-maintainability-limitations\n",
      "  warnings.warn(\n"
     ]
    },
    {
     "name": "stdout",
     "output_type": "stream",
     "text": [
      "Linear emulator loaded in memory.\n",
      "Loading no-wiggles emulator...\n",
      "No-wiggles emulator loaded in memory.\n",
      "Loading non-linear emulator...\n"
     ]
    },
    {
     "name": "stderr",
     "output_type": "stream",
     "text": [
      "/lscratch/dlopez/programs/miniconda_20221210/miniconda3/envs/VE_SBIBE/lib/python3.11/site-packages/sklearn/base.py:348: InconsistentVersionWarning: Trying to unpickle estimator StandardScaler from version 1.0.2 when using version 1.3.2. This might lead to breaking code or invalid results. Use at your own risk. For more info please refer to:\n",
      "https://scikit-learn.org/stable/model_persistence.html#security-maintainability-limitations\n",
      "  warnings.warn(\n",
      "/lscratch/dlopez/programs/miniconda_20221210/miniconda3/envs/VE_SBIBE/lib/python3.11/site-packages/sklearn/base.py:348: InconsistentVersionWarning: Trying to unpickle estimator StandardScaler from version 0.22.1 when using version 1.3.2. This might lead to breaking code or invalid results. Use at your own risk. For more info please refer to:\n",
      "https://scikit-learn.org/stable/model_persistence.html#security-maintainability-limitations\n",
      "  warnings.warn(\n",
      "/lscratch/dlopez/programs/miniconda_20221210/miniconda3/envs/VE_SBIBE/lib/python3.11/site-packages/sklearn/base.py:348: InconsistentVersionWarning: Trying to unpickle estimator PCA from version 0.22.1 when using version 1.3.2. This might lead to breaking code or invalid results. Use at your own risk. For more info please refer to:\n",
      "https://scikit-learn.org/stable/model_persistence.html#security-maintainability-limitations\n",
      "  warnings.warn(\n",
      "/lscratch/dlopez/programs/miniconda_20221210/miniconda3/envs/VE_SBIBE/lib/python3.11/site-packages/sklearn/base.py:348: InconsistentVersionWarning: Trying to unpickle estimator StandardScaler from version 0.23.2 when using version 1.3.2. This might lead to breaking code or invalid results. Use at your own risk. For more info please refer to:\n",
      "https://scikit-learn.org/stable/model_persistence.html#security-maintainability-limitations\n",
      "  warnings.warn(\n",
      "/lscratch/dlopez/programs/miniconda_20221210/miniconda3/envs/VE_SBIBE/lib/python3.11/site-packages/sklearn/base.py:348: InconsistentVersionWarning: Trying to unpickle estimator PCA from version 0.23.2 when using version 1.3.2. This might lead to breaking code or invalid results. Use at your own risk. For more info please refer to:\n",
      "https://scikit-learn.org/stable/model_persistence.html#security-maintainability-limitations\n",
      "  warnings.warn(\n"
     ]
    },
    {
     "name": "stdout",
     "output_type": "stream",
     "text": [
      "Nonlinear emulator loaded in memory.\n",
      "Loading Baryonic Emulator...\n",
      "Baryonic Emulator loaded in memory.\n",
      "Loading sigma8 emulator...\n",
      "Sigma8 emulator loaded in memory.\n",
      "Loading linear emulator...\n"
     ]
    },
    {
     "name": "stderr",
     "output_type": "stream",
     "text": [
      "/lscratch/dlopez/programs/miniconda_20221210/miniconda3/envs/VE_SBIBE/lib/python3.11/site-packages/sklearn/base.py:348: InconsistentVersionWarning: Trying to unpickle estimator PCA from version 1.0 when using version 1.3.2. This might lead to breaking code or invalid results. Use at your own risk. For more info please refer to:\n",
      "https://scikit-learn.org/stable/model_persistence.html#security-maintainability-limitations\n",
      "  warnings.warn(\n",
      "/lscratch/dlopez/programs/miniconda_20221210/miniconda3/envs/VE_SBIBE/lib/python3.11/site-packages/sklearn/base.py:348: InconsistentVersionWarning: Trying to unpickle estimator StandardScaler from version 1.0 when using version 1.3.2. This might lead to breaking code or invalid results. Use at your own risk. For more info please refer to:\n",
      "https://scikit-learn.org/stable/model_persistence.html#security-maintainability-limitations\n",
      "  warnings.warn(\n",
      "/lscratch/dlopez/programs/miniconda_20221210/miniconda3/envs/VE_SBIBE/lib/python3.11/site-packages/sklearn/base.py:348: InconsistentVersionWarning: Trying to unpickle estimator PCA from version 1.0 when using version 1.3.2. This might lead to breaking code or invalid results. Use at your own risk. For more info please refer to:\n",
      "https://scikit-learn.org/stable/model_persistence.html#security-maintainability-limitations\n",
      "  warnings.warn(\n",
      "/lscratch/dlopez/programs/miniconda_20221210/miniconda3/envs/VE_SBIBE/lib/python3.11/site-packages/sklearn/base.py:348: InconsistentVersionWarning: Trying to unpickle estimator StandardScaler from version 1.0 when using version 1.3.2. This might lead to breaking code or invalid results. Use at your own risk. For more info please refer to:\n",
      "https://scikit-learn.org/stable/model_persistence.html#security-maintainability-limitations\n",
      "  warnings.warn(\n"
     ]
    },
    {
     "name": "stdout",
     "output_type": "stream",
     "text": [
      "Linear emulator loaded in memory.\n",
      "Loading no-wiggles emulator...\n",
      "No-wiggles emulator loaded in memory.\n",
      "Loading non-linear emulator...\n"
     ]
    },
    {
     "name": "stderr",
     "output_type": "stream",
     "text": [
      "/lscratch/dlopez/programs/miniconda_20221210/miniconda3/envs/VE_SBIBE/lib/python3.11/site-packages/sklearn/base.py:348: InconsistentVersionWarning: Trying to unpickle estimator StandardScaler from version 1.0.2 when using version 1.3.2. This might lead to breaking code or invalid results. Use at your own risk. For more info please refer to:\n",
      "https://scikit-learn.org/stable/model_persistence.html#security-maintainability-limitations\n",
      "  warnings.warn(\n",
      "/lscratch/dlopez/programs/miniconda_20221210/miniconda3/envs/VE_SBIBE/lib/python3.11/site-packages/sklearn/base.py:348: InconsistentVersionWarning: Trying to unpickle estimator StandardScaler from version 0.22.1 when using version 1.3.2. This might lead to breaking code or invalid results. Use at your own risk. For more info please refer to:\n",
      "https://scikit-learn.org/stable/model_persistence.html#security-maintainability-limitations\n",
      "  warnings.warn(\n",
      "/lscratch/dlopez/programs/miniconda_20221210/miniconda3/envs/VE_SBIBE/lib/python3.11/site-packages/sklearn/base.py:348: InconsistentVersionWarning: Trying to unpickle estimator PCA from version 0.22.1 when using version 1.3.2. This might lead to breaking code or invalid results. Use at your own risk. For more info please refer to:\n",
      "https://scikit-learn.org/stable/model_persistence.html#security-maintainability-limitations\n",
      "  warnings.warn(\n"
     ]
    },
    {
     "name": "stdout",
     "output_type": "stream",
     "text": [
      "Nonlinear emulator loaded in memory.\n",
      "Loading Baryonic Emulator...\n",
      "Baryonic Emulator loaded in memory.\n"
     ]
    },
    {
     "name": "stderr",
     "output_type": "stream",
     "text": [
      "/lscratch/dlopez/programs/miniconda_20221210/miniconda3/envs/VE_SBIBE/lib/python3.11/site-packages/sklearn/base.py:348: InconsistentVersionWarning: Trying to unpickle estimator StandardScaler from version 0.23.2 when using version 1.3.2. This might lead to breaking code or invalid results. Use at your own risk. For more info please refer to:\n",
      "https://scikit-learn.org/stable/model_persistence.html#security-maintainability-limitations\n",
      "  warnings.warn(\n",
      "/lscratch/dlopez/programs/miniconda_20221210/miniconda3/envs/VE_SBIBE/lib/python3.11/site-packages/sklearn/base.py:348: InconsistentVersionWarning: Trying to unpickle estimator PCA from version 0.23.2 when using version 1.3.2. This might lead to breaking code or invalid results. Use at your own risk. For more info please refer to:\n",
      "https://scikit-learn.org/stable/model_persistence.html#security-maintainability-limitations\n",
      "  warnings.warn(\n"
     ]
    },
    {
     "name": "stdout",
     "output_type": "stream",
     "text": [
      "Loading sigma8 emulator...\n",
      "Sigma8 emulator loaded in memory.\n",
      "Loading linear emulator...\n"
     ]
    },
    {
     "name": "stderr",
     "output_type": "stream",
     "text": [
      "/lscratch/dlopez/programs/miniconda_20221210/miniconda3/envs/VE_SBIBE/lib/python3.11/site-packages/sklearn/base.py:348: InconsistentVersionWarning: Trying to unpickle estimator PCA from version 1.0 when using version 1.3.2. This might lead to breaking code or invalid results. Use at your own risk. For more info please refer to:\n",
      "https://scikit-learn.org/stable/model_persistence.html#security-maintainability-limitations\n",
      "  warnings.warn(\n",
      "/lscratch/dlopez/programs/miniconda_20221210/miniconda3/envs/VE_SBIBE/lib/python3.11/site-packages/sklearn/base.py:348: InconsistentVersionWarning: Trying to unpickle estimator StandardScaler from version 1.0 when using version 1.3.2. This might lead to breaking code or invalid results. Use at your own risk. For more info please refer to:\n",
      "https://scikit-learn.org/stable/model_persistence.html#security-maintainability-limitations\n",
      "  warnings.warn(\n",
      "/lscratch/dlopez/programs/miniconda_20221210/miniconda3/envs/VE_SBIBE/lib/python3.11/site-packages/sklearn/base.py:348: InconsistentVersionWarning: Trying to unpickle estimator PCA from version 1.0 when using version 1.3.2. This might lead to breaking code or invalid results. Use at your own risk. For more info please refer to:\n",
      "https://scikit-learn.org/stable/model_persistence.html#security-maintainability-limitations\n",
      "  warnings.warn(\n",
      "/lscratch/dlopez/programs/miniconda_20221210/miniconda3/envs/VE_SBIBE/lib/python3.11/site-packages/sklearn/base.py:348: InconsistentVersionWarning: Trying to unpickle estimator StandardScaler from version 1.0 when using version 1.3.2. This might lead to breaking code or invalid results. Use at your own risk. For more info please refer to:\n",
      "https://scikit-learn.org/stable/model_persistence.html#security-maintainability-limitations\n",
      "  warnings.warn(\n"
     ]
    },
    {
     "name": "stdout",
     "output_type": "stream",
     "text": [
      "Linear emulator loaded in memory.\n",
      "Loading no-wiggles emulator...\n",
      "No-wiggles emulator loaded in memory.\n",
      "Loading non-linear emulator...\n"
     ]
    },
    {
     "name": "stderr",
     "output_type": "stream",
     "text": [
      "/lscratch/dlopez/programs/miniconda_20221210/miniconda3/envs/VE_SBIBE/lib/python3.11/site-packages/sklearn/base.py:348: InconsistentVersionWarning: Trying to unpickle estimator StandardScaler from version 1.0.2 when using version 1.3.2. This might lead to breaking code or invalid results. Use at your own risk. For more info please refer to:\n",
      "https://scikit-learn.org/stable/model_persistence.html#security-maintainability-limitations\n",
      "  warnings.warn(\n",
      "/lscratch/dlopez/programs/miniconda_20221210/miniconda3/envs/VE_SBIBE/lib/python3.11/site-packages/sklearn/base.py:348: InconsistentVersionWarning: Trying to unpickle estimator StandardScaler from version 0.22.1 when using version 1.3.2. This might lead to breaking code or invalid results. Use at your own risk. For more info please refer to:\n",
      "https://scikit-learn.org/stable/model_persistence.html#security-maintainability-limitations\n",
      "  warnings.warn(\n",
      "/lscratch/dlopez/programs/miniconda_20221210/miniconda3/envs/VE_SBIBE/lib/python3.11/site-packages/sklearn/base.py:348: InconsistentVersionWarning: Trying to unpickle estimator PCA from version 0.22.1 when using version 1.3.2. This might lead to breaking code or invalid results. Use at your own risk. For more info please refer to:\n",
      "https://scikit-learn.org/stable/model_persistence.html#security-maintainability-limitations\n",
      "  warnings.warn(\n"
     ]
    },
    {
     "name": "stdout",
     "output_type": "stream",
     "text": [
      "Nonlinear emulator loaded in memory.\n",
      "Loading Baryonic Emulator...\n",
      "Baryonic Emulator loaded in memory.\n"
     ]
    },
    {
     "name": "stderr",
     "output_type": "stream",
     "text": [
      "/lscratch/dlopez/programs/miniconda_20221210/miniconda3/envs/VE_SBIBE/lib/python3.11/site-packages/sklearn/base.py:348: InconsistentVersionWarning: Trying to unpickle estimator StandardScaler from version 0.23.2 when using version 1.3.2. This might lead to breaking code or invalid results. Use at your own risk. For more info please refer to:\n",
      "https://scikit-learn.org/stable/model_persistence.html#security-maintainability-limitations\n",
      "  warnings.warn(\n",
      "/lscratch/dlopez/programs/miniconda_20221210/miniconda3/envs/VE_SBIBE/lib/python3.11/site-packages/sklearn/base.py:348: InconsistentVersionWarning: Trying to unpickle estimator PCA from version 0.23.2 when using version 1.3.2. This might lead to breaking code or invalid results. Use at your own risk. For more info please refer to:\n",
      "https://scikit-learn.org/stable/model_persistence.html#security-maintainability-limitations\n",
      "  warnings.warn(\n"
     ]
    },
    {
     "name": "stdout",
     "output_type": "stream",
     "text": [
      "Loading sigma8 emulator...\n",
      "Sigma8 emulator loaded in memory.\n",
      "Loading linear emulator...\n"
     ]
    },
    {
     "name": "stderr",
     "output_type": "stream",
     "text": [
      "/lscratch/dlopez/programs/miniconda_20221210/miniconda3/envs/VE_SBIBE/lib/python3.11/site-packages/sklearn/base.py:348: InconsistentVersionWarning: Trying to unpickle estimator PCA from version 1.0 when using version 1.3.2. This might lead to breaking code or invalid results. Use at your own risk. For more info please refer to:\n",
      "https://scikit-learn.org/stable/model_persistence.html#security-maintainability-limitations\n",
      "  warnings.warn(\n",
      "/lscratch/dlopez/programs/miniconda_20221210/miniconda3/envs/VE_SBIBE/lib/python3.11/site-packages/sklearn/base.py:348: InconsistentVersionWarning: Trying to unpickle estimator StandardScaler from version 1.0 when using version 1.3.2. This might lead to breaking code or invalid results. Use at your own risk. For more info please refer to:\n",
      "https://scikit-learn.org/stable/model_persistence.html#security-maintainability-limitations\n",
      "  warnings.warn(\n",
      "/lscratch/dlopez/programs/miniconda_20221210/miniconda3/envs/VE_SBIBE/lib/python3.11/site-packages/sklearn/base.py:348: InconsistentVersionWarning: Trying to unpickle estimator PCA from version 1.0 when using version 1.3.2. This might lead to breaking code or invalid results. Use at your own risk. For more info please refer to:\n",
      "https://scikit-learn.org/stable/model_persistence.html#security-maintainability-limitations\n",
      "  warnings.warn(\n",
      "/lscratch/dlopez/programs/miniconda_20221210/miniconda3/envs/VE_SBIBE/lib/python3.11/site-packages/sklearn/base.py:348: InconsistentVersionWarning: Trying to unpickle estimator StandardScaler from version 1.0 when using version 1.3.2. This might lead to breaking code or invalid results. Use at your own risk. For more info please refer to:\n",
      "https://scikit-learn.org/stable/model_persistence.html#security-maintainability-limitations\n",
      "  warnings.warn(\n"
     ]
    },
    {
     "name": "stdout",
     "output_type": "stream",
     "text": [
      "Linear emulator loaded in memory.\n",
      "Loading no-wiggles emulator...\n"
     ]
    },
    {
     "name": "stderr",
     "output_type": "stream",
     "text": [
      "/lscratch/dlopez/programs/miniconda_20221210/miniconda3/envs/VE_SBIBE/lib/python3.11/site-packages/sklearn/base.py:348: InconsistentVersionWarning: Trying to unpickle estimator StandardScaler from version 1.0.2 when using version 1.3.2. This might lead to breaking code or invalid results. Use at your own risk. For more info please refer to:\n",
      "https://scikit-learn.org/stable/model_persistence.html#security-maintainability-limitations\n",
      "  warnings.warn(\n",
      "/lscratch/dlopez/programs/miniconda_20221210/miniconda3/envs/VE_SBIBE/lib/python3.11/site-packages/sklearn/base.py:348: InconsistentVersionWarning: Trying to unpickle estimator StandardScaler from version 0.22.1 when using version 1.3.2. This might lead to breaking code or invalid results. Use at your own risk. For more info please refer to:\n",
      "https://scikit-learn.org/stable/model_persistence.html#security-maintainability-limitations\n",
      "  warnings.warn(\n",
      "/lscratch/dlopez/programs/miniconda_20221210/miniconda3/envs/VE_SBIBE/lib/python3.11/site-packages/sklearn/base.py:348: InconsistentVersionWarning: Trying to unpickle estimator PCA from version 0.22.1 when using version 1.3.2. This might lead to breaking code or invalid results. Use at your own risk. For more info please refer to:\n",
      "https://scikit-learn.org/stable/model_persistence.html#security-maintainability-limitations\n",
      "  warnings.warn(\n"
     ]
    },
    {
     "name": "stdout",
     "output_type": "stream",
     "text": [
      "No-wiggles emulator loaded in memory.\n",
      "Loading non-linear emulator...\n",
      "Nonlinear emulator loaded in memory.\n",
      "Loading Baryonic Emulator...\n"
     ]
    },
    {
     "name": "stderr",
     "output_type": "stream",
     "text": [
      "/lscratch/dlopez/programs/miniconda_20221210/miniconda3/envs/VE_SBIBE/lib/python3.11/site-packages/sklearn/base.py:348: InconsistentVersionWarning: Trying to unpickle estimator StandardScaler from version 0.23.2 when using version 1.3.2. This might lead to breaking code or invalid results. Use at your own risk. For more info please refer to:\n",
      "https://scikit-learn.org/stable/model_persistence.html#security-maintainability-limitations\n",
      "  warnings.warn(\n",
      "/lscratch/dlopez/programs/miniconda_20221210/miniconda3/envs/VE_SBIBE/lib/python3.11/site-packages/sklearn/base.py:348: InconsistentVersionWarning: Trying to unpickle estimator PCA from version 0.23.2 when using version 1.3.2. This might lead to breaking code or invalid results. Use at your own risk. For more info please refer to:\n",
      "https://scikit-learn.org/stable/model_persistence.html#security-maintainability-limitations\n",
      "  warnings.warn(\n"
     ]
    },
    {
     "name": "stdout",
     "output_type": "stream",
     "text": [
      "Baryonic Emulator loaded in memory.\n",
      "Loading sigma8 emulator...\n",
      "Sigma8 emulator loaded in memory.\n",
      "Loading linear emulator...\n"
     ]
    },
    {
     "name": "stderr",
     "output_type": "stream",
     "text": [
      "/lscratch/dlopez/programs/miniconda_20221210/miniconda3/envs/VE_SBIBE/lib/python3.11/site-packages/sklearn/base.py:348: InconsistentVersionWarning: Trying to unpickle estimator PCA from version 1.0 when using version 1.3.2. This might lead to breaking code or invalid results. Use at your own risk. For more info please refer to:\n",
      "https://scikit-learn.org/stable/model_persistence.html#security-maintainability-limitations\n",
      "  warnings.warn(\n",
      "/lscratch/dlopez/programs/miniconda_20221210/miniconda3/envs/VE_SBIBE/lib/python3.11/site-packages/sklearn/base.py:348: InconsistentVersionWarning: Trying to unpickle estimator StandardScaler from version 1.0 when using version 1.3.2. This might lead to breaking code or invalid results. Use at your own risk. For more info please refer to:\n",
      "https://scikit-learn.org/stable/model_persistence.html#security-maintainability-limitations\n",
      "  warnings.warn(\n",
      "/lscratch/dlopez/programs/miniconda_20221210/miniconda3/envs/VE_SBIBE/lib/python3.11/site-packages/sklearn/base.py:348: InconsistentVersionWarning: Trying to unpickle estimator PCA from version 1.0 when using version 1.3.2. This might lead to breaking code or invalid results. Use at your own risk. For more info please refer to:\n",
      "https://scikit-learn.org/stable/model_persistence.html#security-maintainability-limitations\n",
      "  warnings.warn(\n",
      "/lscratch/dlopez/programs/miniconda_20221210/miniconda3/envs/VE_SBIBE/lib/python3.11/site-packages/sklearn/base.py:348: InconsistentVersionWarning: Trying to unpickle estimator StandardScaler from version 1.0 when using version 1.3.2. This might lead to breaking code or invalid results. Use at your own risk. For more info please refer to:\n",
      "https://scikit-learn.org/stable/model_persistence.html#security-maintainability-limitations\n",
      "  warnings.warn(\n"
     ]
    },
    {
     "name": "stdout",
     "output_type": "stream",
     "text": [
      "Linear emulator loaded in memory.\n",
      "Loading no-wiggles emulator...\n",
      "No-wiggles emulator loaded in memory.\n",
      "Loading non-linear emulator...\n"
     ]
    },
    {
     "name": "stderr",
     "output_type": "stream",
     "text": [
      "/lscratch/dlopez/programs/miniconda_20221210/miniconda3/envs/VE_SBIBE/lib/python3.11/site-packages/sklearn/base.py:348: InconsistentVersionWarning: Trying to unpickle estimator StandardScaler from version 1.0.2 when using version 1.3.2. This might lead to breaking code or invalid results. Use at your own risk. For more info please refer to:\n",
      "https://scikit-learn.org/stable/model_persistence.html#security-maintainability-limitations\n",
      "  warnings.warn(\n",
      "/lscratch/dlopez/programs/miniconda_20221210/miniconda3/envs/VE_SBIBE/lib/python3.11/site-packages/sklearn/base.py:348: InconsistentVersionWarning: Trying to unpickle estimator StandardScaler from version 0.22.1 when using version 1.3.2. This might lead to breaking code or invalid results. Use at your own risk. For more info please refer to:\n",
      "https://scikit-learn.org/stable/model_persistence.html#security-maintainability-limitations\n",
      "  warnings.warn(\n",
      "/lscratch/dlopez/programs/miniconda_20221210/miniconda3/envs/VE_SBIBE/lib/python3.11/site-packages/sklearn/base.py:348: InconsistentVersionWarning: Trying to unpickle estimator PCA from version 0.22.1 when using version 1.3.2. This might lead to breaking code or invalid results. Use at your own risk. For more info please refer to:\n",
      "https://scikit-learn.org/stable/model_persistence.html#security-maintainability-limitations\n",
      "  warnings.warn(\n"
     ]
    },
    {
     "name": "stdout",
     "output_type": "stream",
     "text": [
      "Nonlinear emulator loaded in memory.\n",
      "Loading Baryonic Emulator...\n",
      "Baryonic Emulator loaded in memory.\n"
     ]
    },
    {
     "name": "stderr",
     "output_type": "stream",
     "text": [
      "/lscratch/dlopez/programs/miniconda_20221210/miniconda3/envs/VE_SBIBE/lib/python3.11/site-packages/sklearn/base.py:348: InconsistentVersionWarning: Trying to unpickle estimator StandardScaler from version 0.23.2 when using version 1.3.2. This might lead to breaking code or invalid results. Use at your own risk. For more info please refer to:\n",
      "https://scikit-learn.org/stable/model_persistence.html#security-maintainability-limitations\n",
      "  warnings.warn(\n",
      "/lscratch/dlopez/programs/miniconda_20221210/miniconda3/envs/VE_SBIBE/lib/python3.11/site-packages/sklearn/base.py:348: InconsistentVersionWarning: Trying to unpickle estimator PCA from version 0.23.2 when using version 1.3.2. This might lead to breaking code or invalid results. Use at your own risk. For more info please refer to:\n",
      "https://scikit-learn.org/stable/model_persistence.html#security-maintainability-limitations\n",
      "  warnings.warn(\n"
     ]
    },
    {
     "name": "stdout",
     "output_type": "stream",
     "text": [
      "Loading sigma8 emulator...\n",
      "Sigma8 emulator loaded in memory.\n",
      "Loading linear emulator...\n"
     ]
    },
    {
     "name": "stderr",
     "output_type": "stream",
     "text": [
      "/lscratch/dlopez/programs/miniconda_20221210/miniconda3/envs/VE_SBIBE/lib/python3.11/site-packages/sklearn/base.py:348: InconsistentVersionWarning: Trying to unpickle estimator PCA from version 1.0 when using version 1.3.2. This might lead to breaking code or invalid results. Use at your own risk. For more info please refer to:\n",
      "https://scikit-learn.org/stable/model_persistence.html#security-maintainability-limitations\n",
      "  warnings.warn(\n",
      "/lscratch/dlopez/programs/miniconda_20221210/miniconda3/envs/VE_SBIBE/lib/python3.11/site-packages/sklearn/base.py:348: InconsistentVersionWarning: Trying to unpickle estimator StandardScaler from version 1.0 when using version 1.3.2. This might lead to breaking code or invalid results. Use at your own risk. For more info please refer to:\n",
      "https://scikit-learn.org/stable/model_persistence.html#security-maintainability-limitations\n",
      "  warnings.warn(\n",
      "/lscratch/dlopez/programs/miniconda_20221210/miniconda3/envs/VE_SBIBE/lib/python3.11/site-packages/sklearn/base.py:348: InconsistentVersionWarning: Trying to unpickle estimator PCA from version 1.0 when using version 1.3.2. This might lead to breaking code or invalid results. Use at your own risk. For more info please refer to:\n",
      "https://scikit-learn.org/stable/model_persistence.html#security-maintainability-limitations\n",
      "  warnings.warn(\n",
      "/lscratch/dlopez/programs/miniconda_20221210/miniconda3/envs/VE_SBIBE/lib/python3.11/site-packages/sklearn/base.py:348: InconsistentVersionWarning: Trying to unpickle estimator StandardScaler from version 1.0 when using version 1.3.2. This might lead to breaking code or invalid results. Use at your own risk. For more info please refer to:\n",
      "https://scikit-learn.org/stable/model_persistence.html#security-maintainability-limitations\n",
      "  warnings.warn(\n"
     ]
    },
    {
     "name": "stdout",
     "output_type": "stream",
     "text": [
      "Linear emulator loaded in memory.\n",
      "Loading no-wiggles emulator...\n",
      "No-wiggles emulator loaded in memory.\n",
      "Loading non-linear emulator...\n"
     ]
    },
    {
     "name": "stderr",
     "output_type": "stream",
     "text": [
      "/lscratch/dlopez/programs/miniconda_20221210/miniconda3/envs/VE_SBIBE/lib/python3.11/site-packages/sklearn/base.py:348: InconsistentVersionWarning: Trying to unpickle estimator StandardScaler from version 1.0.2 when using version 1.3.2. This might lead to breaking code or invalid results. Use at your own risk. For more info please refer to:\n",
      "https://scikit-learn.org/stable/model_persistence.html#security-maintainability-limitations\n",
      "  warnings.warn(\n",
      "/lscratch/dlopez/programs/miniconda_20221210/miniconda3/envs/VE_SBIBE/lib/python3.11/site-packages/sklearn/base.py:348: InconsistentVersionWarning: Trying to unpickle estimator StandardScaler from version 0.22.1 when using version 1.3.2. This might lead to breaking code or invalid results. Use at your own risk. For more info please refer to:\n",
      "https://scikit-learn.org/stable/model_persistence.html#security-maintainability-limitations\n",
      "  warnings.warn(\n",
      "/lscratch/dlopez/programs/miniconda_20221210/miniconda3/envs/VE_SBIBE/lib/python3.11/site-packages/sklearn/base.py:348: InconsistentVersionWarning: Trying to unpickle estimator PCA from version 0.22.1 when using version 1.3.2. This might lead to breaking code or invalid results. Use at your own risk. For more info please refer to:\n",
      "https://scikit-learn.org/stable/model_persistence.html#security-maintainability-limitations\n",
      "  warnings.warn(\n"
     ]
    },
    {
     "name": "stdout",
     "output_type": "stream",
     "text": [
      "Nonlinear emulator loaded in memory.\n",
      "Loading Baryonic Emulator...\n",
      "Baryonic Emulator loaded in memory.\n"
     ]
    },
    {
     "name": "stderr",
     "output_type": "stream",
     "text": [
      "/lscratch/dlopez/programs/miniconda_20221210/miniconda3/envs/VE_SBIBE/lib/python3.11/site-packages/sklearn/base.py:348: InconsistentVersionWarning: Trying to unpickle estimator StandardScaler from version 0.23.2 when using version 1.3.2. This might lead to breaking code or invalid results. Use at your own risk. For more info please refer to:\n",
      "https://scikit-learn.org/stable/model_persistence.html#security-maintainability-limitations\n",
      "  warnings.warn(\n",
      "/lscratch/dlopez/programs/miniconda_20221210/miniconda3/envs/VE_SBIBE/lib/python3.11/site-packages/sklearn/base.py:348: InconsistentVersionWarning: Trying to unpickle estimator PCA from version 0.23.2 when using version 1.3.2. This might lead to breaking code or invalid results. Use at your own risk. For more info please refer to:\n",
      "https://scikit-learn.org/stable/model_persistence.html#security-maintainability-limitations\n",
      "  warnings.warn(\n"
     ]
    }
   ],
   "source": [
    "path_save_data = \"/dipc_storage/dlopez/Projects/sbibe/baccoemu_train/\"\n",
    "\n",
    "N_points = 3000\n",
    "seed=0\n",
    "\n",
    "dict_bounds=dict(\n",
    "  omega_cold=[0.23, 0.4],\n",
    "  omega_baryon=[0.04, 0.06],\n",
    "  hubble=[0.6, 0.8],\n",
    "  ns=[0.92, 1.01],\n",
    "  sigma8_cold=[0.73, 0.9]\n",
    ")\n",
    "\n",
    "theta_train = preprocessing_tools.sample_latin_hypercube(dict_bounds, N_points=N_points, seed=seed)\n",
    "preprocessing_tools.save_theta(path_save_data, theta_train)\n",
    "\n",
    "xx_A1_train = preprocessing_tools.get_Pk_vary_baryon_param(theta_train, min_value=9, max_value=13, NN=NN, baryon_key='M_c')\n",
    "preprocessing_tools.save_model(path_save_data, \"modelA1\", xx_A1_train)\n",
    "\n",
    "xx_A2_train = preprocessing_tools.get_Pk_vary_baryon_param(theta_train, min_value=14.6, max_value=15, NN=NN, baryon_key='M_c')\n",
    "preprocessing_tools.save_model(path_save_data, \"modelA2\", xx_A2_train)\n",
    "\n",
    "xx_R_train = preprocessing_tools.get_Pk_vary_baryon_param(theta_train, min_value=13.5, max_value=14.3, NN=NN, baryon_key='M_c')\n",
    "preprocessing_tools.save_model(path_save_data, \"modelR\", xx_R_train)"
   ]
  },
  {
   "cell_type": "code",
   "execution_count": 5,
   "id": "88593087",
   "metadata": {},
   "outputs": [
    {
     "name": "stdout",
     "output_type": "stream",
     "text": [
      "(3000, 5)\n",
      "(10, 3000, 100)\n",
      "(10, 3000, 100)\n",
      "(10, 3000, 100)\n",
      "[0.23002118 0.04000665 0.60002221 0.92000219 0.73000117]\n",
      "[0.39996258 0.05999337 0.79995336 1.00998295 0.89997752]\n"
     ]
    }
   ],
   "source": [
    "print(theta_train.shape)\n",
    "print(xx_A1_train.shape)\n",
    "print(xx_A2_train.shape)\n",
    "print(xx_R_train.shape)\n",
    "\n",
    "print(np.min(theta_train, axis=0))\n",
    "print(np.max(theta_train, axis=0))"
   ]
  },
  {
   "cell_type": "code",
   "execution_count": 6,
   "id": "45d9f091",
   "metadata": {},
   "outputs": [
    {
     "data": {
      "application/javascript": [
       "/* Put everything inside the global mpl namespace */\n",
       "/* global mpl */\n",
       "window.mpl = {};\n",
       "\n",
       "mpl.get_websocket_type = function () {\n",
       "    if (typeof WebSocket !== 'undefined') {\n",
       "        return WebSocket;\n",
       "    } else if (typeof MozWebSocket !== 'undefined') {\n",
       "        return MozWebSocket;\n",
       "    } else {\n",
       "        alert(\n",
       "            'Your browser does not have WebSocket support. ' +\n",
       "                'Please try Chrome, Safari or Firefox ≥ 6. ' +\n",
       "                'Firefox 4 and 5 are also supported but you ' +\n",
       "                'have to enable WebSockets in about:config.'\n",
       "        );\n",
       "    }\n",
       "};\n",
       "\n",
       "mpl.figure = function (figure_id, websocket, ondownload, parent_element) {\n",
       "    this.id = figure_id;\n",
       "\n",
       "    this.ws = websocket;\n",
       "\n",
       "    this.supports_binary = this.ws.binaryType !== undefined;\n",
       "\n",
       "    if (!this.supports_binary) {\n",
       "        var warnings = document.getElementById('mpl-warnings');\n",
       "        if (warnings) {\n",
       "            warnings.style.display = 'block';\n",
       "            warnings.textContent =\n",
       "                'This browser does not support binary websocket messages. ' +\n",
       "                'Performance may be slow.';\n",
       "        }\n",
       "    }\n",
       "\n",
       "    this.imageObj = new Image();\n",
       "\n",
       "    this.context = undefined;\n",
       "    this.message = undefined;\n",
       "    this.canvas = undefined;\n",
       "    this.rubberband_canvas = undefined;\n",
       "    this.rubberband_context = undefined;\n",
       "    this.format_dropdown = undefined;\n",
       "\n",
       "    this.image_mode = 'full';\n",
       "\n",
       "    this.root = document.createElement('div');\n",
       "    this.root.setAttribute('style', 'display: inline-block');\n",
       "    this._root_extra_style(this.root);\n",
       "\n",
       "    parent_element.appendChild(this.root);\n",
       "\n",
       "    this._init_header(this);\n",
       "    this._init_canvas(this);\n",
       "    this._init_toolbar(this);\n",
       "\n",
       "    var fig = this;\n",
       "\n",
       "    this.waiting = false;\n",
       "\n",
       "    this.ws.onopen = function () {\n",
       "        fig.send_message('supports_binary', { value: fig.supports_binary });\n",
       "        fig.send_message('send_image_mode', {});\n",
       "        if (fig.ratio !== 1) {\n",
       "            fig.send_message('set_device_pixel_ratio', {\n",
       "                device_pixel_ratio: fig.ratio,\n",
       "            });\n",
       "        }\n",
       "        fig.send_message('refresh', {});\n",
       "    };\n",
       "\n",
       "    this.imageObj.onload = function () {\n",
       "        if (fig.image_mode === 'full') {\n",
       "            // Full images could contain transparency (where diff images\n",
       "            // almost always do), so we need to clear the canvas so that\n",
       "            // there is no ghosting.\n",
       "            fig.context.clearRect(0, 0, fig.canvas.width, fig.canvas.height);\n",
       "        }\n",
       "        fig.context.drawImage(fig.imageObj, 0, 0);\n",
       "    };\n",
       "\n",
       "    this.imageObj.onunload = function () {\n",
       "        fig.ws.close();\n",
       "    };\n",
       "\n",
       "    this.ws.onmessage = this._make_on_message_function(this);\n",
       "\n",
       "    this.ondownload = ondownload;\n",
       "};\n",
       "\n",
       "mpl.figure.prototype._init_header = function () {\n",
       "    var titlebar = document.createElement('div');\n",
       "    titlebar.classList =\n",
       "        'ui-dialog-titlebar ui-widget-header ui-corner-all ui-helper-clearfix';\n",
       "    var titletext = document.createElement('div');\n",
       "    titletext.classList = 'ui-dialog-title';\n",
       "    titletext.setAttribute(\n",
       "        'style',\n",
       "        'width: 100%; text-align: center; padding: 3px;'\n",
       "    );\n",
       "    titlebar.appendChild(titletext);\n",
       "    this.root.appendChild(titlebar);\n",
       "    this.header = titletext;\n",
       "};\n",
       "\n",
       "mpl.figure.prototype._canvas_extra_style = function (_canvas_div) {};\n",
       "\n",
       "mpl.figure.prototype._root_extra_style = function (_canvas_div) {};\n",
       "\n",
       "mpl.figure.prototype._init_canvas = function () {\n",
       "    var fig = this;\n",
       "\n",
       "    var canvas_div = (this.canvas_div = document.createElement('div'));\n",
       "    canvas_div.setAttribute('tabindex', '0');\n",
       "    canvas_div.setAttribute(\n",
       "        'style',\n",
       "        'border: 1px solid #ddd;' +\n",
       "            'box-sizing: content-box;' +\n",
       "            'clear: both;' +\n",
       "            'min-height: 1px;' +\n",
       "            'min-width: 1px;' +\n",
       "            'outline: 0;' +\n",
       "            'overflow: hidden;' +\n",
       "            'position: relative;' +\n",
       "            'resize: both;' +\n",
       "            'z-index: 2;'\n",
       "    );\n",
       "\n",
       "    function on_keyboard_event_closure(name) {\n",
       "        return function (event) {\n",
       "            return fig.key_event(event, name);\n",
       "        };\n",
       "    }\n",
       "\n",
       "    canvas_div.addEventListener(\n",
       "        'keydown',\n",
       "        on_keyboard_event_closure('key_press')\n",
       "    );\n",
       "    canvas_div.addEventListener(\n",
       "        'keyup',\n",
       "        on_keyboard_event_closure('key_release')\n",
       "    );\n",
       "\n",
       "    this._canvas_extra_style(canvas_div);\n",
       "    this.root.appendChild(canvas_div);\n",
       "\n",
       "    var canvas = (this.canvas = document.createElement('canvas'));\n",
       "    canvas.classList.add('mpl-canvas');\n",
       "    canvas.setAttribute(\n",
       "        'style',\n",
       "        'box-sizing: content-box;' +\n",
       "            'pointer-events: none;' +\n",
       "            'position: relative;' +\n",
       "            'z-index: 0;'\n",
       "    );\n",
       "\n",
       "    this.context = canvas.getContext('2d');\n",
       "\n",
       "    var backingStore =\n",
       "        this.context.backingStorePixelRatio ||\n",
       "        this.context.webkitBackingStorePixelRatio ||\n",
       "        this.context.mozBackingStorePixelRatio ||\n",
       "        this.context.msBackingStorePixelRatio ||\n",
       "        this.context.oBackingStorePixelRatio ||\n",
       "        this.context.backingStorePixelRatio ||\n",
       "        1;\n",
       "\n",
       "    this.ratio = (window.devicePixelRatio || 1) / backingStore;\n",
       "\n",
       "    var rubberband_canvas = (this.rubberband_canvas = document.createElement(\n",
       "        'canvas'\n",
       "    ));\n",
       "    rubberband_canvas.setAttribute(\n",
       "        'style',\n",
       "        'box-sizing: content-box;' +\n",
       "            'left: 0;' +\n",
       "            'pointer-events: none;' +\n",
       "            'position: absolute;' +\n",
       "            'top: 0;' +\n",
       "            'z-index: 1;'\n",
       "    );\n",
       "\n",
       "    // Apply a ponyfill if ResizeObserver is not implemented by browser.\n",
       "    if (this.ResizeObserver === undefined) {\n",
       "        if (window.ResizeObserver !== undefined) {\n",
       "            this.ResizeObserver = window.ResizeObserver;\n",
       "        } else {\n",
       "            var obs = _JSXTOOLS_RESIZE_OBSERVER({});\n",
       "            this.ResizeObserver = obs.ResizeObserver;\n",
       "        }\n",
       "    }\n",
       "\n",
       "    this.resizeObserverInstance = new this.ResizeObserver(function (entries) {\n",
       "        var nentries = entries.length;\n",
       "        for (var i = 0; i < nentries; i++) {\n",
       "            var entry = entries[i];\n",
       "            var width, height;\n",
       "            if (entry.contentBoxSize) {\n",
       "                if (entry.contentBoxSize instanceof Array) {\n",
       "                    // Chrome 84 implements new version of spec.\n",
       "                    width = entry.contentBoxSize[0].inlineSize;\n",
       "                    height = entry.contentBoxSize[0].blockSize;\n",
       "                } else {\n",
       "                    // Firefox implements old version of spec.\n",
       "                    width = entry.contentBoxSize.inlineSize;\n",
       "                    height = entry.contentBoxSize.blockSize;\n",
       "                }\n",
       "            } else {\n",
       "                // Chrome <84 implements even older version of spec.\n",
       "                width = entry.contentRect.width;\n",
       "                height = entry.contentRect.height;\n",
       "            }\n",
       "\n",
       "            // Keep the size of the canvas and rubber band canvas in sync with\n",
       "            // the canvas container.\n",
       "            if (entry.devicePixelContentBoxSize) {\n",
       "                // Chrome 84 implements new version of spec.\n",
       "                canvas.setAttribute(\n",
       "                    'width',\n",
       "                    entry.devicePixelContentBoxSize[0].inlineSize\n",
       "                );\n",
       "                canvas.setAttribute(\n",
       "                    'height',\n",
       "                    entry.devicePixelContentBoxSize[0].blockSize\n",
       "                );\n",
       "            } else {\n",
       "                canvas.setAttribute('width', width * fig.ratio);\n",
       "                canvas.setAttribute('height', height * fig.ratio);\n",
       "            }\n",
       "            /* This rescales the canvas back to display pixels, so that it\n",
       "             * appears correct on HiDPI screens. */\n",
       "            canvas.style.width = width + 'px';\n",
       "            canvas.style.height = height + 'px';\n",
       "\n",
       "            rubberband_canvas.setAttribute('width', width);\n",
       "            rubberband_canvas.setAttribute('height', height);\n",
       "\n",
       "            // And update the size in Python. We ignore the initial 0/0 size\n",
       "            // that occurs as the element is placed into the DOM, which should\n",
       "            // otherwise not happen due to the minimum size styling.\n",
       "            if (fig.ws.readyState == 1 && width != 0 && height != 0) {\n",
       "                fig.request_resize(width, height);\n",
       "            }\n",
       "        }\n",
       "    });\n",
       "    this.resizeObserverInstance.observe(canvas_div);\n",
       "\n",
       "    function on_mouse_event_closure(name) {\n",
       "        /* User Agent sniffing is bad, but WebKit is busted:\n",
       "         * https://bugs.webkit.org/show_bug.cgi?id=144526\n",
       "         * https://bugs.webkit.org/show_bug.cgi?id=181818\n",
       "         * The worst that happens here is that they get an extra browser\n",
       "         * selection when dragging, if this check fails to catch them.\n",
       "         */\n",
       "        var UA = navigator.userAgent;\n",
       "        var isWebKit = /AppleWebKit/.test(UA) && !/Chrome/.test(UA);\n",
       "        if(isWebKit) {\n",
       "            return function (event) {\n",
       "                /* This prevents the web browser from automatically changing to\n",
       "                 * the text insertion cursor when the button is pressed. We\n",
       "                 * want to control all of the cursor setting manually through\n",
       "                 * the 'cursor' event from matplotlib */\n",
       "                event.preventDefault()\n",
       "                return fig.mouse_event(event, name);\n",
       "            };\n",
       "        } else {\n",
       "            return function (event) {\n",
       "                return fig.mouse_event(event, name);\n",
       "            };\n",
       "        }\n",
       "    }\n",
       "\n",
       "    canvas_div.addEventListener(\n",
       "        'mousedown',\n",
       "        on_mouse_event_closure('button_press')\n",
       "    );\n",
       "    canvas_div.addEventListener(\n",
       "        'mouseup',\n",
       "        on_mouse_event_closure('button_release')\n",
       "    );\n",
       "    canvas_div.addEventListener(\n",
       "        'dblclick',\n",
       "        on_mouse_event_closure('dblclick')\n",
       "    );\n",
       "    // Throttle sequential mouse events to 1 every 20ms.\n",
       "    canvas_div.addEventListener(\n",
       "        'mousemove',\n",
       "        on_mouse_event_closure('motion_notify')\n",
       "    );\n",
       "\n",
       "    canvas_div.addEventListener(\n",
       "        'mouseenter',\n",
       "        on_mouse_event_closure('figure_enter')\n",
       "    );\n",
       "    canvas_div.addEventListener(\n",
       "        'mouseleave',\n",
       "        on_mouse_event_closure('figure_leave')\n",
       "    );\n",
       "\n",
       "    canvas_div.addEventListener('wheel', function (event) {\n",
       "        if (event.deltaY < 0) {\n",
       "            event.step = 1;\n",
       "        } else {\n",
       "            event.step = -1;\n",
       "        }\n",
       "        on_mouse_event_closure('scroll')(event);\n",
       "    });\n",
       "\n",
       "    canvas_div.appendChild(canvas);\n",
       "    canvas_div.appendChild(rubberband_canvas);\n",
       "\n",
       "    this.rubberband_context = rubberband_canvas.getContext('2d');\n",
       "    this.rubberband_context.strokeStyle = '#000000';\n",
       "\n",
       "    this._resize_canvas = function (width, height, forward) {\n",
       "        if (forward) {\n",
       "            canvas_div.style.width = width + 'px';\n",
       "            canvas_div.style.height = height + 'px';\n",
       "        }\n",
       "    };\n",
       "\n",
       "    // Disable right mouse context menu.\n",
       "    canvas_div.addEventListener('contextmenu', function (_e) {\n",
       "        event.preventDefault();\n",
       "        return false;\n",
       "    });\n",
       "\n",
       "    function set_focus() {\n",
       "        canvas.focus();\n",
       "        canvas_div.focus();\n",
       "    }\n",
       "\n",
       "    window.setTimeout(set_focus, 100);\n",
       "};\n",
       "\n",
       "mpl.figure.prototype._init_toolbar = function () {\n",
       "    var fig = this;\n",
       "\n",
       "    var toolbar = document.createElement('div');\n",
       "    toolbar.classList = 'mpl-toolbar';\n",
       "    this.root.appendChild(toolbar);\n",
       "\n",
       "    function on_click_closure(name) {\n",
       "        return function (_event) {\n",
       "            return fig.toolbar_button_onclick(name);\n",
       "        };\n",
       "    }\n",
       "\n",
       "    function on_mouseover_closure(tooltip) {\n",
       "        return function (event) {\n",
       "            if (!event.currentTarget.disabled) {\n",
       "                return fig.toolbar_button_onmouseover(tooltip);\n",
       "            }\n",
       "        };\n",
       "    }\n",
       "\n",
       "    fig.buttons = {};\n",
       "    var buttonGroup = document.createElement('div');\n",
       "    buttonGroup.classList = 'mpl-button-group';\n",
       "    for (var toolbar_ind in mpl.toolbar_items) {\n",
       "        var name = mpl.toolbar_items[toolbar_ind][0];\n",
       "        var tooltip = mpl.toolbar_items[toolbar_ind][1];\n",
       "        var image = mpl.toolbar_items[toolbar_ind][2];\n",
       "        var method_name = mpl.toolbar_items[toolbar_ind][3];\n",
       "\n",
       "        if (!name) {\n",
       "            /* Instead of a spacer, we start a new button group. */\n",
       "            if (buttonGroup.hasChildNodes()) {\n",
       "                toolbar.appendChild(buttonGroup);\n",
       "            }\n",
       "            buttonGroup = document.createElement('div');\n",
       "            buttonGroup.classList = 'mpl-button-group';\n",
       "            continue;\n",
       "        }\n",
       "\n",
       "        var button = (fig.buttons[name] = document.createElement('button'));\n",
       "        button.classList = 'mpl-widget';\n",
       "        button.setAttribute('role', 'button');\n",
       "        button.setAttribute('aria-disabled', 'false');\n",
       "        button.addEventListener('click', on_click_closure(method_name));\n",
       "        button.addEventListener('mouseover', on_mouseover_closure(tooltip));\n",
       "\n",
       "        var icon_img = document.createElement('img');\n",
       "        icon_img.src = '_images/' + image + '.png';\n",
       "        icon_img.srcset = '_images/' + image + '_large.png 2x';\n",
       "        icon_img.alt = tooltip;\n",
       "        button.appendChild(icon_img);\n",
       "\n",
       "        buttonGroup.appendChild(button);\n",
       "    }\n",
       "\n",
       "    if (buttonGroup.hasChildNodes()) {\n",
       "        toolbar.appendChild(buttonGroup);\n",
       "    }\n",
       "\n",
       "    var fmt_picker = document.createElement('select');\n",
       "    fmt_picker.classList = 'mpl-widget';\n",
       "    toolbar.appendChild(fmt_picker);\n",
       "    this.format_dropdown = fmt_picker;\n",
       "\n",
       "    for (var ind in mpl.extensions) {\n",
       "        var fmt = mpl.extensions[ind];\n",
       "        var option = document.createElement('option');\n",
       "        option.selected = fmt === mpl.default_extension;\n",
       "        option.innerHTML = fmt;\n",
       "        fmt_picker.appendChild(option);\n",
       "    }\n",
       "\n",
       "    var status_bar = document.createElement('span');\n",
       "    status_bar.classList = 'mpl-message';\n",
       "    toolbar.appendChild(status_bar);\n",
       "    this.message = status_bar;\n",
       "};\n",
       "\n",
       "mpl.figure.prototype.request_resize = function (x_pixels, y_pixels) {\n",
       "    // Request matplotlib to resize the figure. Matplotlib will then trigger a resize in the client,\n",
       "    // which will in turn request a refresh of the image.\n",
       "    this.send_message('resize', { width: x_pixels, height: y_pixels });\n",
       "};\n",
       "\n",
       "mpl.figure.prototype.send_message = function (type, properties) {\n",
       "    properties['type'] = type;\n",
       "    properties['figure_id'] = this.id;\n",
       "    this.ws.send(JSON.stringify(properties));\n",
       "};\n",
       "\n",
       "mpl.figure.prototype.send_draw_message = function () {\n",
       "    if (!this.waiting) {\n",
       "        this.waiting = true;\n",
       "        this.ws.send(JSON.stringify({ type: 'draw', figure_id: this.id }));\n",
       "    }\n",
       "};\n",
       "\n",
       "mpl.figure.prototype.handle_save = function (fig, _msg) {\n",
       "    var format_dropdown = fig.format_dropdown;\n",
       "    var format = format_dropdown.options[format_dropdown.selectedIndex].value;\n",
       "    fig.ondownload(fig, format);\n",
       "};\n",
       "\n",
       "mpl.figure.prototype.handle_resize = function (fig, msg) {\n",
       "    var size = msg['size'];\n",
       "    if (size[0] !== fig.canvas.width || size[1] !== fig.canvas.height) {\n",
       "        fig._resize_canvas(size[0], size[1], msg['forward']);\n",
       "        fig.send_message('refresh', {});\n",
       "    }\n",
       "};\n",
       "\n",
       "mpl.figure.prototype.handle_rubberband = function (fig, msg) {\n",
       "    var x0 = msg['x0'] / fig.ratio;\n",
       "    var y0 = (fig.canvas.height - msg['y0']) / fig.ratio;\n",
       "    var x1 = msg['x1'] / fig.ratio;\n",
       "    var y1 = (fig.canvas.height - msg['y1']) / fig.ratio;\n",
       "    x0 = Math.floor(x0) + 0.5;\n",
       "    y0 = Math.floor(y0) + 0.5;\n",
       "    x1 = Math.floor(x1) + 0.5;\n",
       "    y1 = Math.floor(y1) + 0.5;\n",
       "    var min_x = Math.min(x0, x1);\n",
       "    var min_y = Math.min(y0, y1);\n",
       "    var width = Math.abs(x1 - x0);\n",
       "    var height = Math.abs(y1 - y0);\n",
       "\n",
       "    fig.rubberband_context.clearRect(\n",
       "        0,\n",
       "        0,\n",
       "        fig.canvas.width / fig.ratio,\n",
       "        fig.canvas.height / fig.ratio\n",
       "    );\n",
       "\n",
       "    fig.rubberband_context.strokeRect(min_x, min_y, width, height);\n",
       "};\n",
       "\n",
       "mpl.figure.prototype.handle_figure_label = function (fig, msg) {\n",
       "    // Updates the figure title.\n",
       "    fig.header.textContent = msg['label'];\n",
       "};\n",
       "\n",
       "mpl.figure.prototype.handle_cursor = function (fig, msg) {\n",
       "    fig.canvas_div.style.cursor = msg['cursor'];\n",
       "};\n",
       "\n",
       "mpl.figure.prototype.handle_message = function (fig, msg) {\n",
       "    fig.message.textContent = msg['message'];\n",
       "};\n",
       "\n",
       "mpl.figure.prototype.handle_draw = function (fig, _msg) {\n",
       "    // Request the server to send over a new figure.\n",
       "    fig.send_draw_message();\n",
       "};\n",
       "\n",
       "mpl.figure.prototype.handle_image_mode = function (fig, msg) {\n",
       "    fig.image_mode = msg['mode'];\n",
       "};\n",
       "\n",
       "mpl.figure.prototype.handle_history_buttons = function (fig, msg) {\n",
       "    for (var key in msg) {\n",
       "        if (!(key in fig.buttons)) {\n",
       "            continue;\n",
       "        }\n",
       "        fig.buttons[key].disabled = !msg[key];\n",
       "        fig.buttons[key].setAttribute('aria-disabled', !msg[key]);\n",
       "    }\n",
       "};\n",
       "\n",
       "mpl.figure.prototype.handle_navigate_mode = function (fig, msg) {\n",
       "    if (msg['mode'] === 'PAN') {\n",
       "        fig.buttons['Pan'].classList.add('active');\n",
       "        fig.buttons['Zoom'].classList.remove('active');\n",
       "    } else if (msg['mode'] === 'ZOOM') {\n",
       "        fig.buttons['Pan'].classList.remove('active');\n",
       "        fig.buttons['Zoom'].classList.add('active');\n",
       "    } else {\n",
       "        fig.buttons['Pan'].classList.remove('active');\n",
       "        fig.buttons['Zoom'].classList.remove('active');\n",
       "    }\n",
       "};\n",
       "\n",
       "mpl.figure.prototype.updated_canvas_event = function () {\n",
       "    // Called whenever the canvas gets updated.\n",
       "    this.send_message('ack', {});\n",
       "};\n",
       "\n",
       "// A function to construct a web socket function for onmessage handling.\n",
       "// Called in the figure constructor.\n",
       "mpl.figure.prototype._make_on_message_function = function (fig) {\n",
       "    return function socket_on_message(evt) {\n",
       "        if (evt.data instanceof Blob) {\n",
       "            var img = evt.data;\n",
       "            if (img.type !== 'image/png') {\n",
       "                /* FIXME: We get \"Resource interpreted as Image but\n",
       "                 * transferred with MIME type text/plain:\" errors on\n",
       "                 * Chrome.  But how to set the MIME type?  It doesn't seem\n",
       "                 * to be part of the websocket stream */\n",
       "                img.type = 'image/png';\n",
       "            }\n",
       "\n",
       "            /* Free the memory for the previous frames */\n",
       "            if (fig.imageObj.src) {\n",
       "                (window.URL || window.webkitURL).revokeObjectURL(\n",
       "                    fig.imageObj.src\n",
       "                );\n",
       "            }\n",
       "\n",
       "            fig.imageObj.src = (window.URL || window.webkitURL).createObjectURL(\n",
       "                img\n",
       "            );\n",
       "            fig.updated_canvas_event();\n",
       "            fig.waiting = false;\n",
       "            return;\n",
       "        } else if (\n",
       "            typeof evt.data === 'string' &&\n",
       "            evt.data.slice(0, 21) === 'data:image/png;base64'\n",
       "        ) {\n",
       "            fig.imageObj.src = evt.data;\n",
       "            fig.updated_canvas_event();\n",
       "            fig.waiting = false;\n",
       "            return;\n",
       "        }\n",
       "\n",
       "        var msg = JSON.parse(evt.data);\n",
       "        var msg_type = msg['type'];\n",
       "\n",
       "        // Call the  \"handle_{type}\" callback, which takes\n",
       "        // the figure and JSON message as its only arguments.\n",
       "        try {\n",
       "            var callback = fig['handle_' + msg_type];\n",
       "        } catch (e) {\n",
       "            console.log(\n",
       "                \"No handler for the '\" + msg_type + \"' message type: \",\n",
       "                msg\n",
       "            );\n",
       "            return;\n",
       "        }\n",
       "\n",
       "        if (callback) {\n",
       "            try {\n",
       "                // console.log(\"Handling '\" + msg_type + \"' message: \", msg);\n",
       "                callback(fig, msg);\n",
       "            } catch (e) {\n",
       "                console.log(\n",
       "                    \"Exception inside the 'handler_\" + msg_type + \"' callback:\",\n",
       "                    e,\n",
       "                    e.stack,\n",
       "                    msg\n",
       "                );\n",
       "            }\n",
       "        }\n",
       "    };\n",
       "};\n",
       "\n",
       "function getModifiers(event) {\n",
       "    var mods = [];\n",
       "    if (event.ctrlKey) {\n",
       "        mods.push('ctrl');\n",
       "    }\n",
       "    if (event.altKey) {\n",
       "        mods.push('alt');\n",
       "    }\n",
       "    if (event.shiftKey) {\n",
       "        mods.push('shift');\n",
       "    }\n",
       "    if (event.metaKey) {\n",
       "        mods.push('meta');\n",
       "    }\n",
       "    return mods;\n",
       "}\n",
       "\n",
       "/*\n",
       " * return a copy of an object with only non-object keys\n",
       " * we need this to avoid circular references\n",
       " * https://stackoverflow.com/a/24161582/3208463\n",
       " */\n",
       "function simpleKeys(original) {\n",
       "    return Object.keys(original).reduce(function (obj, key) {\n",
       "        if (typeof original[key] !== 'object') {\n",
       "            obj[key] = original[key];\n",
       "        }\n",
       "        return obj;\n",
       "    }, {});\n",
       "}\n",
       "\n",
       "mpl.figure.prototype.mouse_event = function (event, name) {\n",
       "    if (name === 'button_press') {\n",
       "        this.canvas.focus();\n",
       "        this.canvas_div.focus();\n",
       "    }\n",
       "\n",
       "    // from https://stackoverflow.com/q/1114465\n",
       "    var boundingRect = this.canvas.getBoundingClientRect();\n",
       "    var x = (event.clientX - boundingRect.left) * this.ratio;\n",
       "    var y = (event.clientY - boundingRect.top) * this.ratio;\n",
       "\n",
       "    this.send_message(name, {\n",
       "        x: x,\n",
       "        y: y,\n",
       "        button: event.button,\n",
       "        step: event.step,\n",
       "        modifiers: getModifiers(event),\n",
       "        guiEvent: simpleKeys(event),\n",
       "    });\n",
       "\n",
       "    return false;\n",
       "};\n",
       "\n",
       "mpl.figure.prototype._key_event_extra = function (_event, _name) {\n",
       "    // Handle any extra behaviour associated with a key event\n",
       "};\n",
       "\n",
       "mpl.figure.prototype.key_event = function (event, name) {\n",
       "    // Prevent repeat events\n",
       "    if (name === 'key_press') {\n",
       "        if (event.key === this._key) {\n",
       "            return;\n",
       "        } else {\n",
       "            this._key = event.key;\n",
       "        }\n",
       "    }\n",
       "    if (name === 'key_release') {\n",
       "        this._key = null;\n",
       "    }\n",
       "\n",
       "    var value = '';\n",
       "    if (event.ctrlKey && event.key !== 'Control') {\n",
       "        value += 'ctrl+';\n",
       "    }\n",
       "    else if (event.altKey && event.key !== 'Alt') {\n",
       "        value += 'alt+';\n",
       "    }\n",
       "    else if (event.shiftKey && event.key !== 'Shift') {\n",
       "        value += 'shift+';\n",
       "    }\n",
       "\n",
       "    value += 'k' + event.key;\n",
       "\n",
       "    this._key_event_extra(event, name);\n",
       "\n",
       "    this.send_message(name, { key: value, guiEvent: simpleKeys(event) });\n",
       "    return false;\n",
       "};\n",
       "\n",
       "mpl.figure.prototype.toolbar_button_onclick = function (name) {\n",
       "    if (name === 'download') {\n",
       "        this.handle_save(this, null);\n",
       "    } else {\n",
       "        this.send_message('toolbar_button', { name: name });\n",
       "    }\n",
       "};\n",
       "\n",
       "mpl.figure.prototype.toolbar_button_onmouseover = function (tooltip) {\n",
       "    this.message.textContent = tooltip;\n",
       "};\n",
       "\n",
       "///////////////// REMAINING CONTENT GENERATED BY embed_js.py /////////////////\n",
       "// prettier-ignore\n",
       "var _JSXTOOLS_RESIZE_OBSERVER=function(A){var t,i=new WeakMap,n=new WeakMap,a=new WeakMap,r=new WeakMap,o=new Set;function s(e){if(!(this instanceof s))throw new TypeError(\"Constructor requires 'new' operator\");i.set(this,e)}function h(){throw new TypeError(\"Function is not a constructor\")}function c(e,t,i,n){e=0 in arguments?Number(arguments[0]):0,t=1 in arguments?Number(arguments[1]):0,i=2 in arguments?Number(arguments[2]):0,n=3 in arguments?Number(arguments[3]):0,this.right=(this.x=this.left=e)+(this.width=i),this.bottom=(this.y=this.top=t)+(this.height=n),Object.freeze(this)}function d(){t=requestAnimationFrame(d);var s=new WeakMap,p=new Set;o.forEach((function(t){r.get(t).forEach((function(i){var r=t instanceof window.SVGElement,o=a.get(t),d=r?0:parseFloat(o.paddingTop),f=r?0:parseFloat(o.paddingRight),l=r?0:parseFloat(o.paddingBottom),u=r?0:parseFloat(o.paddingLeft),g=r?0:parseFloat(o.borderTopWidth),m=r?0:parseFloat(o.borderRightWidth),w=r?0:parseFloat(o.borderBottomWidth),b=u+f,F=d+l,v=(r?0:parseFloat(o.borderLeftWidth))+m,W=g+w,y=r?0:t.offsetHeight-W-t.clientHeight,E=r?0:t.offsetWidth-v-t.clientWidth,R=b+v,z=F+W,M=r?t.width:parseFloat(o.width)-R-E,O=r?t.height:parseFloat(o.height)-z-y;if(n.has(t)){var k=n.get(t);if(k[0]===M&&k[1]===O)return}n.set(t,[M,O]);var S=Object.create(h.prototype);S.target=t,S.contentRect=new c(u,d,M,O),s.has(i)||(s.set(i,[]),p.add(i)),s.get(i).push(S)}))})),p.forEach((function(e){i.get(e).call(e,s.get(e),e)}))}return s.prototype.observe=function(i){if(i instanceof window.Element){r.has(i)||(r.set(i,new Set),o.add(i),a.set(i,window.getComputedStyle(i)));var n=r.get(i);n.has(this)||n.add(this),cancelAnimationFrame(t),t=requestAnimationFrame(d)}},s.prototype.unobserve=function(i){if(i instanceof window.Element&&r.has(i)){var n=r.get(i);n.has(this)&&(n.delete(this),n.size||(r.delete(i),o.delete(i))),n.size||r.delete(i),o.size||cancelAnimationFrame(t)}},A.DOMRectReadOnly=c,A.ResizeObserver=s,A.ResizeObserverEntry=h,A}; // eslint-disable-line\n",
       "mpl.toolbar_items = [[\"Home\", \"Reset original view\", \"fa fa-home\", \"home\"], [\"Back\", \"Back to previous view\", \"fa fa-arrow-left\", \"back\"], [\"Forward\", \"Forward to next view\", \"fa fa-arrow-right\", \"forward\"], [\"\", \"\", \"\", \"\"], [\"Pan\", \"Left button pans, Right button zooms\\nx/y fixes axis, CTRL fixes aspect\", \"fa fa-arrows\", \"pan\"], [\"Zoom\", \"Zoom to rectangle\\nx/y fixes axis\", \"fa fa-square-o\", \"zoom\"], [\"\", \"\", \"\", \"\"], [\"Download\", \"Download plot\", \"fa fa-floppy-o\", \"download\"]];\n",
       "\n",
       "mpl.extensions = [\"eps\", \"jpeg\", \"pgf\", \"pdf\", \"png\", \"ps\", \"raw\", \"svg\", \"tif\", \"webp\"];\n",
       "\n",
       "mpl.default_extension = \"png\";/* global mpl */\n",
       "\n",
       "var comm_websocket_adapter = function (comm) {\n",
       "    // Create a \"websocket\"-like object which calls the given IPython comm\n",
       "    // object with the appropriate methods. Currently this is a non binary\n",
       "    // socket, so there is still some room for performance tuning.\n",
       "    var ws = {};\n",
       "\n",
       "    ws.binaryType = comm.kernel.ws.binaryType;\n",
       "    ws.readyState = comm.kernel.ws.readyState;\n",
       "    function updateReadyState(_event) {\n",
       "        if (comm.kernel.ws) {\n",
       "            ws.readyState = comm.kernel.ws.readyState;\n",
       "        } else {\n",
       "            ws.readyState = 3; // Closed state.\n",
       "        }\n",
       "    }\n",
       "    comm.kernel.ws.addEventListener('open', updateReadyState);\n",
       "    comm.kernel.ws.addEventListener('close', updateReadyState);\n",
       "    comm.kernel.ws.addEventListener('error', updateReadyState);\n",
       "\n",
       "    ws.close = function () {\n",
       "        comm.close();\n",
       "    };\n",
       "    ws.send = function (m) {\n",
       "        //console.log('sending', m);\n",
       "        comm.send(m);\n",
       "    };\n",
       "    // Register the callback with on_msg.\n",
       "    comm.on_msg(function (msg) {\n",
       "        //console.log('receiving', msg['content']['data'], msg);\n",
       "        var data = msg['content']['data'];\n",
       "        if (data['blob'] !== undefined) {\n",
       "            data = {\n",
       "                data: new Blob(msg['buffers'], { type: data['blob'] }),\n",
       "            };\n",
       "        }\n",
       "        // Pass the mpl event to the overridden (by mpl) onmessage function.\n",
       "        ws.onmessage(data);\n",
       "    });\n",
       "    return ws;\n",
       "};\n",
       "\n",
       "mpl.mpl_figure_comm = function (comm, msg) {\n",
       "    // This is the function which gets called when the mpl process\n",
       "    // starts-up an IPython Comm through the \"matplotlib\" channel.\n",
       "\n",
       "    var id = msg.content.data.id;\n",
       "    // Get hold of the div created by the display call when the Comm\n",
       "    // socket was opened in Python.\n",
       "    var element = document.getElementById(id);\n",
       "    var ws_proxy = comm_websocket_adapter(comm);\n",
       "\n",
       "    function ondownload(figure, _format) {\n",
       "        window.open(figure.canvas.toDataURL());\n",
       "    }\n",
       "\n",
       "    var fig = new mpl.figure(id, ws_proxy, ondownload, element);\n",
       "\n",
       "    // Call onopen now - mpl needs it, as it is assuming we've passed it a real\n",
       "    // web socket which is closed, not our websocket->open comm proxy.\n",
       "    ws_proxy.onopen();\n",
       "\n",
       "    fig.parent_element = element;\n",
       "    fig.cell_info = mpl.find_output_cell(\"<div id='\" + id + \"'></div>\");\n",
       "    if (!fig.cell_info) {\n",
       "        console.error('Failed to find cell for figure', id, fig);\n",
       "        return;\n",
       "    }\n",
       "    fig.cell_info[0].output_area.element.on(\n",
       "        'cleared',\n",
       "        { fig: fig },\n",
       "        fig._remove_fig_handler\n",
       "    );\n",
       "};\n",
       "\n",
       "mpl.figure.prototype.handle_close = function (fig, msg) {\n",
       "    var width = fig.canvas.width / fig.ratio;\n",
       "    fig.cell_info[0].output_area.element.off(\n",
       "        'cleared',\n",
       "        fig._remove_fig_handler\n",
       "    );\n",
       "    fig.resizeObserverInstance.unobserve(fig.canvas_div);\n",
       "\n",
       "    // Update the output cell to use the data from the current canvas.\n",
       "    fig.push_to_output();\n",
       "    var dataURL = fig.canvas.toDataURL();\n",
       "    // Re-enable the keyboard manager in IPython - without this line, in FF,\n",
       "    // the notebook keyboard shortcuts fail.\n",
       "    IPython.keyboard_manager.enable();\n",
       "    fig.parent_element.innerHTML =\n",
       "        '<img src=\"' + dataURL + '\" width=\"' + width + '\">';\n",
       "    fig.close_ws(fig, msg);\n",
       "};\n",
       "\n",
       "mpl.figure.prototype.close_ws = function (fig, msg) {\n",
       "    fig.send_message('closing', msg);\n",
       "    // fig.ws.close()\n",
       "};\n",
       "\n",
       "mpl.figure.prototype.push_to_output = function (_remove_interactive) {\n",
       "    // Turn the data on the canvas into data in the output cell.\n",
       "    var width = this.canvas.width / this.ratio;\n",
       "    var dataURL = this.canvas.toDataURL();\n",
       "    this.cell_info[1]['text/html'] =\n",
       "        '<img src=\"' + dataURL + '\" width=\"' + width + '\">';\n",
       "};\n",
       "\n",
       "mpl.figure.prototype.updated_canvas_event = function () {\n",
       "    // Tell IPython that the notebook contents must change.\n",
       "    IPython.notebook.set_dirty(true);\n",
       "    this.send_message('ack', {});\n",
       "    var fig = this;\n",
       "    // Wait a second, then push the new image to the DOM so\n",
       "    // that it is saved nicely (might be nice to debounce this).\n",
       "    setTimeout(function () {\n",
       "        fig.push_to_output();\n",
       "    }, 1000);\n",
       "};\n",
       "\n",
       "mpl.figure.prototype._init_toolbar = function () {\n",
       "    var fig = this;\n",
       "\n",
       "    var toolbar = document.createElement('div');\n",
       "    toolbar.classList = 'btn-toolbar';\n",
       "    this.root.appendChild(toolbar);\n",
       "\n",
       "    function on_click_closure(name) {\n",
       "        return function (_event) {\n",
       "            return fig.toolbar_button_onclick(name);\n",
       "        };\n",
       "    }\n",
       "\n",
       "    function on_mouseover_closure(tooltip) {\n",
       "        return function (event) {\n",
       "            if (!event.currentTarget.disabled) {\n",
       "                return fig.toolbar_button_onmouseover(tooltip);\n",
       "            }\n",
       "        };\n",
       "    }\n",
       "\n",
       "    fig.buttons = {};\n",
       "    var buttonGroup = document.createElement('div');\n",
       "    buttonGroup.classList = 'btn-group';\n",
       "    var button;\n",
       "    for (var toolbar_ind in mpl.toolbar_items) {\n",
       "        var name = mpl.toolbar_items[toolbar_ind][0];\n",
       "        var tooltip = mpl.toolbar_items[toolbar_ind][1];\n",
       "        var image = mpl.toolbar_items[toolbar_ind][2];\n",
       "        var method_name = mpl.toolbar_items[toolbar_ind][3];\n",
       "\n",
       "        if (!name) {\n",
       "            /* Instead of a spacer, we start a new button group. */\n",
       "            if (buttonGroup.hasChildNodes()) {\n",
       "                toolbar.appendChild(buttonGroup);\n",
       "            }\n",
       "            buttonGroup = document.createElement('div');\n",
       "            buttonGroup.classList = 'btn-group';\n",
       "            continue;\n",
       "        }\n",
       "\n",
       "        button = fig.buttons[name] = document.createElement('button');\n",
       "        button.classList = 'btn btn-default';\n",
       "        button.href = '#';\n",
       "        button.title = name;\n",
       "        button.innerHTML = '<i class=\"fa ' + image + ' fa-lg\"></i>';\n",
       "        button.addEventListener('click', on_click_closure(method_name));\n",
       "        button.addEventListener('mouseover', on_mouseover_closure(tooltip));\n",
       "        buttonGroup.appendChild(button);\n",
       "    }\n",
       "\n",
       "    if (buttonGroup.hasChildNodes()) {\n",
       "        toolbar.appendChild(buttonGroup);\n",
       "    }\n",
       "\n",
       "    // Add the status bar.\n",
       "    var status_bar = document.createElement('span');\n",
       "    status_bar.classList = 'mpl-message pull-right';\n",
       "    toolbar.appendChild(status_bar);\n",
       "    this.message = status_bar;\n",
       "\n",
       "    // Add the close button to the window.\n",
       "    var buttongrp = document.createElement('div');\n",
       "    buttongrp.classList = 'btn-group inline pull-right';\n",
       "    button = document.createElement('button');\n",
       "    button.classList = 'btn btn-mini btn-primary';\n",
       "    button.href = '#';\n",
       "    button.title = 'Stop Interaction';\n",
       "    button.innerHTML = '<i class=\"fa fa-power-off icon-remove icon-large\"></i>';\n",
       "    button.addEventListener('click', function (_evt) {\n",
       "        fig.handle_close(fig, {});\n",
       "    });\n",
       "    button.addEventListener(\n",
       "        'mouseover',\n",
       "        on_mouseover_closure('Stop Interaction')\n",
       "    );\n",
       "    buttongrp.appendChild(button);\n",
       "    var titlebar = this.root.querySelector('.ui-dialog-titlebar');\n",
       "    titlebar.insertBefore(buttongrp, titlebar.firstChild);\n",
       "};\n",
       "\n",
       "mpl.figure.prototype._remove_fig_handler = function (event) {\n",
       "    var fig = event.data.fig;\n",
       "    if (event.target !== this) {\n",
       "        // Ignore bubbled events from children.\n",
       "        return;\n",
       "    }\n",
       "    fig.close_ws(fig, {});\n",
       "};\n",
       "\n",
       "mpl.figure.prototype._root_extra_style = function (el) {\n",
       "    el.style.boxSizing = 'content-box'; // override notebook setting of border-box.\n",
       "};\n",
       "\n",
       "mpl.figure.prototype._canvas_extra_style = function (el) {\n",
       "    // this is important to make the div 'focusable\n",
       "    el.setAttribute('tabindex', 0);\n",
       "    // reach out to IPython and tell the keyboard manager to turn it's self\n",
       "    // off when our div gets focus\n",
       "\n",
       "    // location in version 3\n",
       "    if (IPython.notebook.keyboard_manager) {\n",
       "        IPython.notebook.keyboard_manager.register_events(el);\n",
       "    } else {\n",
       "        // location in version 2\n",
       "        IPython.keyboard_manager.register_events(el);\n",
       "    }\n",
       "};\n",
       "\n",
       "mpl.figure.prototype._key_event_extra = function (event, _name) {\n",
       "    // Check for shift+enter\n",
       "    if (event.shiftKey && event.which === 13) {\n",
       "        this.canvas_div.blur();\n",
       "        // select the cell after this one\n",
       "        var index = IPython.notebook.find_cell_index(this.cell_info[0]);\n",
       "        IPython.notebook.select(index + 1);\n",
       "    }\n",
       "};\n",
       "\n",
       "mpl.figure.prototype.handle_save = function (fig, _msg) {\n",
       "    fig.ondownload(fig, null);\n",
       "};\n",
       "\n",
       "mpl.find_output_cell = function (html_output) {\n",
       "    // Return the cell and output element which can be found *uniquely* in the notebook.\n",
       "    // Note - this is a bit hacky, but it is done because the \"notebook_saving.Notebook\"\n",
       "    // IPython event is triggered only after the cells have been serialised, which for\n",
       "    // our purposes (turning an active figure into a static one), is too late.\n",
       "    var cells = IPython.notebook.get_cells();\n",
       "    var ncells = cells.length;\n",
       "    for (var i = 0; i < ncells; i++) {\n",
       "        var cell = cells[i];\n",
       "        if (cell.cell_type === 'code') {\n",
       "            for (var j = 0; j < cell.output_area.outputs.length; j++) {\n",
       "                var data = cell.output_area.outputs[j];\n",
       "                if (data.data) {\n",
       "                    // IPython >= 3 moved mimebundle to data attribute of output\n",
       "                    data = data.data;\n",
       "                }\n",
       "                if (data['text/html'] === html_output) {\n",
       "                    return [cell, data, j];\n",
       "                }\n",
       "            }\n",
       "        }\n",
       "    }\n",
       "};\n",
       "\n",
       "// Register the function which deals with the matplotlib target/channel.\n",
       "// The kernel may be null if the page has been refreshed.\n",
       "if (IPython.notebook.kernel !== null) {\n",
       "    IPython.notebook.kernel.comm_manager.register_target(\n",
       "        'matplotlib',\n",
       "        mpl.mpl_figure_comm\n",
       "    );\n",
       "}\n"
      ],
      "text/plain": [
       "<IPython.core.display.Javascript object>"
      ]
     },
     "metadata": {},
     "output_type": "display_data"
    },
    {
     "data": {
      "text/html": [
       "<img src=\"data:image/png;base64,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\" width=\"700\">"
      ],
      "text/plain": [
       "<IPython.core.display.HTML object>"
      ]
     },
     "metadata": {},
     "output_type": "display_data"
    }
   ],
   "source": [
    "fig, ax = sbibe.plot_utils.simple_plot(\n",
    "    x_label=r'$\\log_{10}\\mathrm{Wavenumber}\\, k \\left[ h\\, \\mathrm{Mpc}^{-1} \\right]$',\n",
    "    y_label=r'$\\log_{10}P(k) \\left[ \\left(h^{-1} \\mathrm{Mpc}\\right)^{3} \\right]$'\n",
    ")\n",
    "\n",
    "N_plot_cosmo = 3\n",
    "indexes_cosmo = np.random.choice(theta_train.shape[0], N_plot_cosmo, replace=False)\n",
    "\n",
    "colors = sbibe.plot_utils.get_N_colors(N_plot_cosmo, mpl.colormaps['prism'])\n",
    "markers = sbibe.plot_utils.get_N_markers(xx_A1_train.shape[0])\n",
    "for ii_cosmo, index_cosmo in enumerate(indexes_cosmo):\n",
    "    for ii_aug in range(xx_A1_train.shape[0]):\n",
    "        ax.plot(xx_A1_train[ii_aug, index_cosmo], c=colors[ii_cosmo], ls='--', lw=1, marker=markers[ii_aug], ms=3)\n",
    "        ax.plot(xx_A2_train[ii_aug, index_cosmo], c=colors[ii_cosmo], ls=':', lw=1, marker=markers[ii_aug], ms=3)\n",
    "        ax.plot(xx_R_train[ii_aug, index_cosmo], c=colors[ii_cosmo], ls='-', lw=1, marker=markers[ii_aug], ms=3)\n",
    "        \n",
    "plt.tight_layout()\n",
    "plt.show()"
   ]
  },
  {
   "cell_type": "markdown",
   "id": "c1ea7b6a",
   "metadata": {},
   "source": [
    "# Val"
   ]
  },
  {
   "cell_type": "code",
   "execution_count": 7,
   "id": "78f6be9f",
   "metadata": {},
   "outputs": [
    {
     "name": "stdout",
     "output_type": "stream",
     "text": [
      "Loading sigma8 emulator...\n",
      "Sigma8 emulator loaded in memory.\n",
      "Loading linear emulator...\n"
     ]
    },
    {
     "name": "stderr",
     "output_type": "stream",
     "text": [
      "/lscratch/dlopez/programs/miniconda_20221210/miniconda3/envs/VE_SBIBE/lib/python3.11/site-packages/sklearn/base.py:348: InconsistentVersionWarning: Trying to unpickle estimator PCA from version 1.0 when using version 1.3.2. This might lead to breaking code or invalid results. Use at your own risk. For more info please refer to:\n",
      "https://scikit-learn.org/stable/model_persistence.html#security-maintainability-limitations\n",
      "  warnings.warn(\n",
      "/lscratch/dlopez/programs/miniconda_20221210/miniconda3/envs/VE_SBIBE/lib/python3.11/site-packages/sklearn/base.py:348: InconsistentVersionWarning: Trying to unpickle estimator StandardScaler from version 1.0 when using version 1.3.2. This might lead to breaking code or invalid results. Use at your own risk. For more info please refer to:\n",
      "https://scikit-learn.org/stable/model_persistence.html#security-maintainability-limitations\n",
      "  warnings.warn(\n",
      "/lscratch/dlopez/programs/miniconda_20221210/miniconda3/envs/VE_SBIBE/lib/python3.11/site-packages/sklearn/base.py:348: InconsistentVersionWarning: Trying to unpickle estimator PCA from version 1.0 when using version 1.3.2. This might lead to breaking code or invalid results. Use at your own risk. For more info please refer to:\n",
      "https://scikit-learn.org/stable/model_persistence.html#security-maintainability-limitations\n",
      "  warnings.warn(\n",
      "/lscratch/dlopez/programs/miniconda_20221210/miniconda3/envs/VE_SBIBE/lib/python3.11/site-packages/sklearn/base.py:348: InconsistentVersionWarning: Trying to unpickle estimator StandardScaler from version 1.0 when using version 1.3.2. This might lead to breaking code or invalid results. Use at your own risk. For more info please refer to:\n",
      "https://scikit-learn.org/stable/model_persistence.html#security-maintainability-limitations\n",
      "  warnings.warn(\n"
     ]
    },
    {
     "name": "stdout",
     "output_type": "stream",
     "text": [
      "Linear emulator loaded in memory.\n",
      "Loading no-wiggles emulator...\n",
      "No-wiggles emulator loaded in memory.\n",
      "Loading non-linear emulator...\n"
     ]
    },
    {
     "name": "stderr",
     "output_type": "stream",
     "text": [
      "/lscratch/dlopez/programs/miniconda_20221210/miniconda3/envs/VE_SBIBE/lib/python3.11/site-packages/sklearn/base.py:348: InconsistentVersionWarning: Trying to unpickle estimator StandardScaler from version 1.0.2 when using version 1.3.2. This might lead to breaking code or invalid results. Use at your own risk. For more info please refer to:\n",
      "https://scikit-learn.org/stable/model_persistence.html#security-maintainability-limitations\n",
      "  warnings.warn(\n",
      "/lscratch/dlopez/programs/miniconda_20221210/miniconda3/envs/VE_SBIBE/lib/python3.11/site-packages/sklearn/base.py:348: InconsistentVersionWarning: Trying to unpickle estimator StandardScaler from version 0.22.1 when using version 1.3.2. This might lead to breaking code or invalid results. Use at your own risk. For more info please refer to:\n",
      "https://scikit-learn.org/stable/model_persistence.html#security-maintainability-limitations\n",
      "  warnings.warn(\n",
      "/lscratch/dlopez/programs/miniconda_20221210/miniconda3/envs/VE_SBIBE/lib/python3.11/site-packages/sklearn/base.py:348: InconsistentVersionWarning: Trying to unpickle estimator PCA from version 0.22.1 when using version 1.3.2. This might lead to breaking code or invalid results. Use at your own risk. For more info please refer to:\n",
      "https://scikit-learn.org/stable/model_persistence.html#security-maintainability-limitations\n",
      "  warnings.warn(\n"
     ]
    },
    {
     "name": "stdout",
     "output_type": "stream",
     "text": [
      "Nonlinear emulator loaded in memory.\n",
      "Loading Baryonic Emulator...\n",
      "Baryonic Emulator loaded in memory.\n"
     ]
    },
    {
     "name": "stderr",
     "output_type": "stream",
     "text": [
      "/lscratch/dlopez/programs/miniconda_20221210/miniconda3/envs/VE_SBIBE/lib/python3.11/site-packages/sklearn/base.py:348: InconsistentVersionWarning: Trying to unpickle estimator StandardScaler from version 0.23.2 when using version 1.3.2. This might lead to breaking code or invalid results. Use at your own risk. For more info please refer to:\n",
      "https://scikit-learn.org/stable/model_persistence.html#security-maintainability-limitations\n",
      "  warnings.warn(\n",
      "/lscratch/dlopez/programs/miniconda_20221210/miniconda3/envs/VE_SBIBE/lib/python3.11/site-packages/sklearn/base.py:348: InconsistentVersionWarning: Trying to unpickle estimator PCA from version 0.23.2 when using version 1.3.2. This might lead to breaking code or invalid results. Use at your own risk. For more info please refer to:\n",
      "https://scikit-learn.org/stable/model_persistence.html#security-maintainability-limitations\n",
      "  warnings.warn(\n"
     ]
    },
    {
     "name": "stdout",
     "output_type": "stream",
     "text": [
      "Loading sigma8 emulator...\n",
      "Sigma8 emulator loaded in memory.\n",
      "Loading linear emulator...\n"
     ]
    },
    {
     "name": "stderr",
     "output_type": "stream",
     "text": [
      "/lscratch/dlopez/programs/miniconda_20221210/miniconda3/envs/VE_SBIBE/lib/python3.11/site-packages/sklearn/base.py:348: InconsistentVersionWarning: Trying to unpickle estimator PCA from version 1.0 when using version 1.3.2. This might lead to breaking code or invalid results. Use at your own risk. For more info please refer to:\n",
      "https://scikit-learn.org/stable/model_persistence.html#security-maintainability-limitations\n",
      "  warnings.warn(\n",
      "/lscratch/dlopez/programs/miniconda_20221210/miniconda3/envs/VE_SBIBE/lib/python3.11/site-packages/sklearn/base.py:348: InconsistentVersionWarning: Trying to unpickle estimator StandardScaler from version 1.0 when using version 1.3.2. This might lead to breaking code or invalid results. Use at your own risk. For more info please refer to:\n",
      "https://scikit-learn.org/stable/model_persistence.html#security-maintainability-limitations\n",
      "  warnings.warn(\n",
      "/lscratch/dlopez/programs/miniconda_20221210/miniconda3/envs/VE_SBIBE/lib/python3.11/site-packages/sklearn/base.py:348: InconsistentVersionWarning: Trying to unpickle estimator PCA from version 1.0 when using version 1.3.2. This might lead to breaking code or invalid results. Use at your own risk. For more info please refer to:\n",
      "https://scikit-learn.org/stable/model_persistence.html#security-maintainability-limitations\n",
      "  warnings.warn(\n",
      "/lscratch/dlopez/programs/miniconda_20221210/miniconda3/envs/VE_SBIBE/lib/python3.11/site-packages/sklearn/base.py:348: InconsistentVersionWarning: Trying to unpickle estimator StandardScaler from version 1.0 when using version 1.3.2. This might lead to breaking code or invalid results. Use at your own risk. For more info please refer to:\n",
      "https://scikit-learn.org/stable/model_persistence.html#security-maintainability-limitations\n",
      "  warnings.warn(\n"
     ]
    },
    {
     "name": "stdout",
     "output_type": "stream",
     "text": [
      "Linear emulator loaded in memory.\n",
      "Loading no-wiggles emulator...\n",
      "No-wiggles emulator loaded in memory.\n",
      "Loading non-linear emulator...\n"
     ]
    },
    {
     "name": "stderr",
     "output_type": "stream",
     "text": [
      "/lscratch/dlopez/programs/miniconda_20221210/miniconda3/envs/VE_SBIBE/lib/python3.11/site-packages/sklearn/base.py:348: InconsistentVersionWarning: Trying to unpickle estimator StandardScaler from version 1.0.2 when using version 1.3.2. This might lead to breaking code or invalid results. Use at your own risk. For more info please refer to:\n",
      "https://scikit-learn.org/stable/model_persistence.html#security-maintainability-limitations\n",
      "  warnings.warn(\n",
      "/lscratch/dlopez/programs/miniconda_20221210/miniconda3/envs/VE_SBIBE/lib/python3.11/site-packages/sklearn/base.py:348: InconsistentVersionWarning: Trying to unpickle estimator StandardScaler from version 0.22.1 when using version 1.3.2. This might lead to breaking code or invalid results. Use at your own risk. For more info please refer to:\n",
      "https://scikit-learn.org/stable/model_persistence.html#security-maintainability-limitations\n",
      "  warnings.warn(\n",
      "/lscratch/dlopez/programs/miniconda_20221210/miniconda3/envs/VE_SBIBE/lib/python3.11/site-packages/sklearn/base.py:348: InconsistentVersionWarning: Trying to unpickle estimator PCA from version 0.22.1 when using version 1.3.2. This might lead to breaking code or invalid results. Use at your own risk. For more info please refer to:\n",
      "https://scikit-learn.org/stable/model_persistence.html#security-maintainability-limitations\n",
      "  warnings.warn(\n"
     ]
    },
    {
     "name": "stdout",
     "output_type": "stream",
     "text": [
      "Nonlinear emulator loaded in memory.\n",
      "Loading Baryonic Emulator...\n",
      "Baryonic Emulator loaded in memory.\n"
     ]
    },
    {
     "name": "stderr",
     "output_type": "stream",
     "text": [
      "/lscratch/dlopez/programs/miniconda_20221210/miniconda3/envs/VE_SBIBE/lib/python3.11/site-packages/sklearn/base.py:348: InconsistentVersionWarning: Trying to unpickle estimator StandardScaler from version 0.23.2 when using version 1.3.2. This might lead to breaking code or invalid results. Use at your own risk. For more info please refer to:\n",
      "https://scikit-learn.org/stable/model_persistence.html#security-maintainability-limitations\n",
      "  warnings.warn(\n",
      "/lscratch/dlopez/programs/miniconda_20221210/miniconda3/envs/VE_SBIBE/lib/python3.11/site-packages/sklearn/base.py:348: InconsistentVersionWarning: Trying to unpickle estimator PCA from version 0.23.2 when using version 1.3.2. This might lead to breaking code or invalid results. Use at your own risk. For more info please refer to:\n",
      "https://scikit-learn.org/stable/model_persistence.html#security-maintainability-limitations\n",
      "  warnings.warn(\n"
     ]
    },
    {
     "name": "stdout",
     "output_type": "stream",
     "text": [
      "Loading sigma8 emulator...\n",
      "Sigma8 emulator loaded in memory.\n",
      "Loading linear emulator...\n"
     ]
    },
    {
     "name": "stderr",
     "output_type": "stream",
     "text": [
      "/lscratch/dlopez/programs/miniconda_20221210/miniconda3/envs/VE_SBIBE/lib/python3.11/site-packages/sklearn/base.py:348: InconsistentVersionWarning: Trying to unpickle estimator PCA from version 1.0 when using version 1.3.2. This might lead to breaking code or invalid results. Use at your own risk. For more info please refer to:\n",
      "https://scikit-learn.org/stable/model_persistence.html#security-maintainability-limitations\n",
      "  warnings.warn(\n",
      "/lscratch/dlopez/programs/miniconda_20221210/miniconda3/envs/VE_SBIBE/lib/python3.11/site-packages/sklearn/base.py:348: InconsistentVersionWarning: Trying to unpickle estimator StandardScaler from version 1.0 when using version 1.3.2. This might lead to breaking code or invalid results. Use at your own risk. For more info please refer to:\n",
      "https://scikit-learn.org/stable/model_persistence.html#security-maintainability-limitations\n",
      "  warnings.warn(\n",
      "/lscratch/dlopez/programs/miniconda_20221210/miniconda3/envs/VE_SBIBE/lib/python3.11/site-packages/sklearn/base.py:348: InconsistentVersionWarning: Trying to unpickle estimator PCA from version 1.0 when using version 1.3.2. This might lead to breaking code or invalid results. Use at your own risk. For more info please refer to:\n",
      "https://scikit-learn.org/stable/model_persistence.html#security-maintainability-limitations\n",
      "  warnings.warn(\n",
      "/lscratch/dlopez/programs/miniconda_20221210/miniconda3/envs/VE_SBIBE/lib/python3.11/site-packages/sklearn/base.py:348: InconsistentVersionWarning: Trying to unpickle estimator StandardScaler from version 1.0 when using version 1.3.2. This might lead to breaking code or invalid results. Use at your own risk. For more info please refer to:\n",
      "https://scikit-learn.org/stable/model_persistence.html#security-maintainability-limitations\n",
      "  warnings.warn(\n"
     ]
    },
    {
     "name": "stdout",
     "output_type": "stream",
     "text": [
      "Linear emulator loaded in memory.\n",
      "Loading no-wiggles emulator...\n"
     ]
    },
    {
     "name": "stderr",
     "output_type": "stream",
     "text": [
      "/lscratch/dlopez/programs/miniconda_20221210/miniconda3/envs/VE_SBIBE/lib/python3.11/site-packages/sklearn/base.py:348: InconsistentVersionWarning: Trying to unpickle estimator StandardScaler from version 1.0.2 when using version 1.3.2. This might lead to breaking code or invalid results. Use at your own risk. For more info please refer to:\n",
      "https://scikit-learn.org/stable/model_persistence.html#security-maintainability-limitations\n",
      "  warnings.warn(\n",
      "/lscratch/dlopez/programs/miniconda_20221210/miniconda3/envs/VE_SBIBE/lib/python3.11/site-packages/sklearn/base.py:348: InconsistentVersionWarning: Trying to unpickle estimator StandardScaler from version 0.22.1 when using version 1.3.2. This might lead to breaking code or invalid results. Use at your own risk. For more info please refer to:\n",
      "https://scikit-learn.org/stable/model_persistence.html#security-maintainability-limitations\n",
      "  warnings.warn(\n",
      "/lscratch/dlopez/programs/miniconda_20221210/miniconda3/envs/VE_SBIBE/lib/python3.11/site-packages/sklearn/base.py:348: InconsistentVersionWarning: Trying to unpickle estimator PCA from version 0.22.1 when using version 1.3.2. This might lead to breaking code or invalid results. Use at your own risk. For more info please refer to:\n",
      "https://scikit-learn.org/stable/model_persistence.html#security-maintainability-limitations\n",
      "  warnings.warn(\n"
     ]
    },
    {
     "name": "stdout",
     "output_type": "stream",
     "text": [
      "No-wiggles emulator loaded in memory.\n",
      "Loading non-linear emulator...\n",
      "Nonlinear emulator loaded in memory.\n",
      "Loading Baryonic Emulator...\n"
     ]
    },
    {
     "name": "stderr",
     "output_type": "stream",
     "text": [
      "/lscratch/dlopez/programs/miniconda_20221210/miniconda3/envs/VE_SBIBE/lib/python3.11/site-packages/sklearn/base.py:348: InconsistentVersionWarning: Trying to unpickle estimator StandardScaler from version 0.23.2 when using version 1.3.2. This might lead to breaking code or invalid results. Use at your own risk. For more info please refer to:\n",
      "https://scikit-learn.org/stable/model_persistence.html#security-maintainability-limitations\n",
      "  warnings.warn(\n",
      "/lscratch/dlopez/programs/miniconda_20221210/miniconda3/envs/VE_SBIBE/lib/python3.11/site-packages/sklearn/base.py:348: InconsistentVersionWarning: Trying to unpickle estimator PCA from version 0.23.2 when using version 1.3.2. This might lead to breaking code or invalid results. Use at your own risk. For more info please refer to:\n",
      "https://scikit-learn.org/stable/model_persistence.html#security-maintainability-limitations\n",
      "  warnings.warn(\n"
     ]
    },
    {
     "name": "stdout",
     "output_type": "stream",
     "text": [
      "Baryonic Emulator loaded in memory.\n",
      "Loading sigma8 emulator...\n",
      "Sigma8 emulator loaded in memory.\n",
      "Loading linear emulator...\n"
     ]
    },
    {
     "name": "stderr",
     "output_type": "stream",
     "text": [
      "/lscratch/dlopez/programs/miniconda_20221210/miniconda3/envs/VE_SBIBE/lib/python3.11/site-packages/sklearn/base.py:348: InconsistentVersionWarning: Trying to unpickle estimator PCA from version 1.0 when using version 1.3.2. This might lead to breaking code or invalid results. Use at your own risk. For more info please refer to:\n",
      "https://scikit-learn.org/stable/model_persistence.html#security-maintainability-limitations\n",
      "  warnings.warn(\n",
      "/lscratch/dlopez/programs/miniconda_20221210/miniconda3/envs/VE_SBIBE/lib/python3.11/site-packages/sklearn/base.py:348: InconsistentVersionWarning: Trying to unpickle estimator StandardScaler from version 1.0 when using version 1.3.2. This might lead to breaking code or invalid results. Use at your own risk. For more info please refer to:\n",
      "https://scikit-learn.org/stable/model_persistence.html#security-maintainability-limitations\n",
      "  warnings.warn(\n",
      "/lscratch/dlopez/programs/miniconda_20221210/miniconda3/envs/VE_SBIBE/lib/python3.11/site-packages/sklearn/base.py:348: InconsistentVersionWarning: Trying to unpickle estimator PCA from version 1.0 when using version 1.3.2. This might lead to breaking code or invalid results. Use at your own risk. For more info please refer to:\n",
      "https://scikit-learn.org/stable/model_persistence.html#security-maintainability-limitations\n",
      "  warnings.warn(\n",
      "/lscratch/dlopez/programs/miniconda_20221210/miniconda3/envs/VE_SBIBE/lib/python3.11/site-packages/sklearn/base.py:348: InconsistentVersionWarning: Trying to unpickle estimator StandardScaler from version 1.0 when using version 1.3.2. This might lead to breaking code or invalid results. Use at your own risk. For more info please refer to:\n",
      "https://scikit-learn.org/stable/model_persistence.html#security-maintainability-limitations\n",
      "  warnings.warn(\n"
     ]
    },
    {
     "name": "stdout",
     "output_type": "stream",
     "text": [
      "Linear emulator loaded in memory.\n",
      "Loading no-wiggles emulator...\n",
      "No-wiggles emulator loaded in memory.\n",
      "Loading non-linear emulator...\n"
     ]
    },
    {
     "name": "stderr",
     "output_type": "stream",
     "text": [
      "/lscratch/dlopez/programs/miniconda_20221210/miniconda3/envs/VE_SBIBE/lib/python3.11/site-packages/sklearn/base.py:348: InconsistentVersionWarning: Trying to unpickle estimator StandardScaler from version 1.0.2 when using version 1.3.2. This might lead to breaking code or invalid results. Use at your own risk. For more info please refer to:\n",
      "https://scikit-learn.org/stable/model_persistence.html#security-maintainability-limitations\n",
      "  warnings.warn(\n",
      "/lscratch/dlopez/programs/miniconda_20221210/miniconda3/envs/VE_SBIBE/lib/python3.11/site-packages/sklearn/base.py:348: InconsistentVersionWarning: Trying to unpickle estimator StandardScaler from version 0.22.1 when using version 1.3.2. This might lead to breaking code or invalid results. Use at your own risk. For more info please refer to:\n",
      "https://scikit-learn.org/stable/model_persistence.html#security-maintainability-limitations\n",
      "  warnings.warn(\n",
      "/lscratch/dlopez/programs/miniconda_20221210/miniconda3/envs/VE_SBIBE/lib/python3.11/site-packages/sklearn/base.py:348: InconsistentVersionWarning: Trying to unpickle estimator PCA from version 0.22.1 when using version 1.3.2. This might lead to breaking code or invalid results. Use at your own risk. For more info please refer to:\n",
      "https://scikit-learn.org/stable/model_persistence.html#security-maintainability-limitations\n",
      "  warnings.warn(\n"
     ]
    },
    {
     "name": "stdout",
     "output_type": "stream",
     "text": [
      "Nonlinear emulator loaded in memory.\n",
      "Loading Baryonic Emulator...\n",
      "Baryonic Emulator loaded in memory.\n"
     ]
    },
    {
     "name": "stderr",
     "output_type": "stream",
     "text": [
      "/lscratch/dlopez/programs/miniconda_20221210/miniconda3/envs/VE_SBIBE/lib/python3.11/site-packages/sklearn/base.py:348: InconsistentVersionWarning: Trying to unpickle estimator StandardScaler from version 0.23.2 when using version 1.3.2. This might lead to breaking code or invalid results. Use at your own risk. For more info please refer to:\n",
      "https://scikit-learn.org/stable/model_persistence.html#security-maintainability-limitations\n",
      "  warnings.warn(\n",
      "/lscratch/dlopez/programs/miniconda_20221210/miniconda3/envs/VE_SBIBE/lib/python3.11/site-packages/sklearn/base.py:348: InconsistentVersionWarning: Trying to unpickle estimator PCA from version 0.23.2 when using version 1.3.2. This might lead to breaking code or invalid results. Use at your own risk. For more info please refer to:\n",
      "https://scikit-learn.org/stable/model_persistence.html#security-maintainability-limitations\n",
      "  warnings.warn(\n"
     ]
    },
    {
     "name": "stdout",
     "output_type": "stream",
     "text": [
      "Loading sigma8 emulator...\n",
      "Sigma8 emulator loaded in memory.\n",
      "Loading linear emulator...\n"
     ]
    },
    {
     "name": "stderr",
     "output_type": "stream",
     "text": [
      "/lscratch/dlopez/programs/miniconda_20221210/miniconda3/envs/VE_SBIBE/lib/python3.11/site-packages/sklearn/base.py:348: InconsistentVersionWarning: Trying to unpickle estimator PCA from version 1.0 when using version 1.3.2. This might lead to breaking code or invalid results. Use at your own risk. For more info please refer to:\n",
      "https://scikit-learn.org/stable/model_persistence.html#security-maintainability-limitations\n",
      "  warnings.warn(\n",
      "/lscratch/dlopez/programs/miniconda_20221210/miniconda3/envs/VE_SBIBE/lib/python3.11/site-packages/sklearn/base.py:348: InconsistentVersionWarning: Trying to unpickle estimator StandardScaler from version 1.0 when using version 1.3.2. This might lead to breaking code or invalid results. Use at your own risk. For more info please refer to:\n",
      "https://scikit-learn.org/stable/model_persistence.html#security-maintainability-limitations\n",
      "  warnings.warn(\n",
      "/lscratch/dlopez/programs/miniconda_20221210/miniconda3/envs/VE_SBIBE/lib/python3.11/site-packages/sklearn/base.py:348: InconsistentVersionWarning: Trying to unpickle estimator PCA from version 1.0 when using version 1.3.2. This might lead to breaking code or invalid results. Use at your own risk. For more info please refer to:\n",
      "https://scikit-learn.org/stable/model_persistence.html#security-maintainability-limitations\n",
      "  warnings.warn(\n",
      "/lscratch/dlopez/programs/miniconda_20221210/miniconda3/envs/VE_SBIBE/lib/python3.11/site-packages/sklearn/base.py:348: InconsistentVersionWarning: Trying to unpickle estimator StandardScaler from version 1.0 when using version 1.3.2. This might lead to breaking code or invalid results. Use at your own risk. For more info please refer to:\n",
      "https://scikit-learn.org/stable/model_persistence.html#security-maintainability-limitations\n",
      "  warnings.warn(\n"
     ]
    },
    {
     "name": "stdout",
     "output_type": "stream",
     "text": [
      "Linear emulator loaded in memory.\n",
      "Loading no-wiggles emulator...\n",
      "No-wiggles emulator loaded in memory.\n",
      "Loading non-linear emulator...\n"
     ]
    },
    {
     "name": "stderr",
     "output_type": "stream",
     "text": [
      "/lscratch/dlopez/programs/miniconda_20221210/miniconda3/envs/VE_SBIBE/lib/python3.11/site-packages/sklearn/base.py:348: InconsistentVersionWarning: Trying to unpickle estimator StandardScaler from version 1.0.2 when using version 1.3.2. This might lead to breaking code or invalid results. Use at your own risk. For more info please refer to:\n",
      "https://scikit-learn.org/stable/model_persistence.html#security-maintainability-limitations\n",
      "  warnings.warn(\n",
      "/lscratch/dlopez/programs/miniconda_20221210/miniconda3/envs/VE_SBIBE/lib/python3.11/site-packages/sklearn/base.py:348: InconsistentVersionWarning: Trying to unpickle estimator StandardScaler from version 0.22.1 when using version 1.3.2. This might lead to breaking code or invalid results. Use at your own risk. For more info please refer to:\n",
      "https://scikit-learn.org/stable/model_persistence.html#security-maintainability-limitations\n",
      "  warnings.warn(\n",
      "/lscratch/dlopez/programs/miniconda_20221210/miniconda3/envs/VE_SBIBE/lib/python3.11/site-packages/sklearn/base.py:348: InconsistentVersionWarning: Trying to unpickle estimator PCA from version 0.22.1 when using version 1.3.2. This might lead to breaking code or invalid results. Use at your own risk. For more info please refer to:\n",
      "https://scikit-learn.org/stable/model_persistence.html#security-maintainability-limitations\n",
      "  warnings.warn(\n"
     ]
    },
    {
     "name": "stdout",
     "output_type": "stream",
     "text": [
      "Nonlinear emulator loaded in memory.\n",
      "Loading Baryonic Emulator...\n",
      "Baryonic Emulator loaded in memory.\n"
     ]
    },
    {
     "name": "stderr",
     "output_type": "stream",
     "text": [
      "/lscratch/dlopez/programs/miniconda_20221210/miniconda3/envs/VE_SBIBE/lib/python3.11/site-packages/sklearn/base.py:348: InconsistentVersionWarning: Trying to unpickle estimator StandardScaler from version 0.23.2 when using version 1.3.2. This might lead to breaking code or invalid results. Use at your own risk. For more info please refer to:\n",
      "https://scikit-learn.org/stable/model_persistence.html#security-maintainability-limitations\n",
      "  warnings.warn(\n",
      "/lscratch/dlopez/programs/miniconda_20221210/miniconda3/envs/VE_SBIBE/lib/python3.11/site-packages/sklearn/base.py:348: InconsistentVersionWarning: Trying to unpickle estimator PCA from version 0.23.2 when using version 1.3.2. This might lead to breaking code or invalid results. Use at your own risk. For more info please refer to:\n",
      "https://scikit-learn.org/stable/model_persistence.html#security-maintainability-limitations\n",
      "  warnings.warn(\n"
     ]
    },
    {
     "name": "stdout",
     "output_type": "stream",
     "text": [
      "Loading sigma8 emulator...\n",
      "Sigma8 emulator loaded in memory.\n",
      "Loading linear emulator...\n"
     ]
    },
    {
     "name": "stderr",
     "output_type": "stream",
     "text": [
      "/lscratch/dlopez/programs/miniconda_20221210/miniconda3/envs/VE_SBIBE/lib/python3.11/site-packages/sklearn/base.py:348: InconsistentVersionWarning: Trying to unpickle estimator PCA from version 1.0 when using version 1.3.2. This might lead to breaking code or invalid results. Use at your own risk. For more info please refer to:\n",
      "https://scikit-learn.org/stable/model_persistence.html#security-maintainability-limitations\n",
      "  warnings.warn(\n",
      "/lscratch/dlopez/programs/miniconda_20221210/miniconda3/envs/VE_SBIBE/lib/python3.11/site-packages/sklearn/base.py:348: InconsistentVersionWarning: Trying to unpickle estimator StandardScaler from version 1.0 when using version 1.3.2. This might lead to breaking code or invalid results. Use at your own risk. For more info please refer to:\n",
      "https://scikit-learn.org/stable/model_persistence.html#security-maintainability-limitations\n",
      "  warnings.warn(\n",
      "/lscratch/dlopez/programs/miniconda_20221210/miniconda3/envs/VE_SBIBE/lib/python3.11/site-packages/sklearn/base.py:348: InconsistentVersionWarning: Trying to unpickle estimator PCA from version 1.0 when using version 1.3.2. This might lead to breaking code or invalid results. Use at your own risk. For more info please refer to:\n",
      "https://scikit-learn.org/stable/model_persistence.html#security-maintainability-limitations\n",
      "  warnings.warn(\n",
      "/lscratch/dlopez/programs/miniconda_20221210/miniconda3/envs/VE_SBIBE/lib/python3.11/site-packages/sklearn/base.py:348: InconsistentVersionWarning: Trying to unpickle estimator StandardScaler from version 1.0 when using version 1.3.2. This might lead to breaking code or invalid results. Use at your own risk. For more info please refer to:\n",
      "https://scikit-learn.org/stable/model_persistence.html#security-maintainability-limitations\n",
      "  warnings.warn(\n"
     ]
    },
    {
     "name": "stdout",
     "output_type": "stream",
     "text": [
      "Linear emulator loaded in memory.\n",
      "Loading no-wiggles emulator...\n",
      "No-wiggles emulator loaded in memory.\n",
      "Loading non-linear emulator...\n"
     ]
    },
    {
     "name": "stderr",
     "output_type": "stream",
     "text": [
      "/lscratch/dlopez/programs/miniconda_20221210/miniconda3/envs/VE_SBIBE/lib/python3.11/site-packages/sklearn/base.py:348: InconsistentVersionWarning: Trying to unpickle estimator StandardScaler from version 1.0.2 when using version 1.3.2. This might lead to breaking code or invalid results. Use at your own risk. For more info please refer to:\n",
      "https://scikit-learn.org/stable/model_persistence.html#security-maintainability-limitations\n",
      "  warnings.warn(\n",
      "/lscratch/dlopez/programs/miniconda_20221210/miniconda3/envs/VE_SBIBE/lib/python3.11/site-packages/sklearn/base.py:348: InconsistentVersionWarning: Trying to unpickle estimator StandardScaler from version 0.22.1 when using version 1.3.2. This might lead to breaking code or invalid results. Use at your own risk. For more info please refer to:\n",
      "https://scikit-learn.org/stable/model_persistence.html#security-maintainability-limitations\n",
      "  warnings.warn(\n",
      "/lscratch/dlopez/programs/miniconda_20221210/miniconda3/envs/VE_SBIBE/lib/python3.11/site-packages/sklearn/base.py:348: InconsistentVersionWarning: Trying to unpickle estimator PCA from version 0.22.1 when using version 1.3.2. This might lead to breaking code or invalid results. Use at your own risk. For more info please refer to:\n",
      "https://scikit-learn.org/stable/model_persistence.html#security-maintainability-limitations\n",
      "  warnings.warn(\n"
     ]
    },
    {
     "name": "stdout",
     "output_type": "stream",
     "text": [
      "Nonlinear emulator loaded in memory.\n",
      "Loading Baryonic Emulator...\n",
      "Baryonic Emulator loaded in memory.\n"
     ]
    },
    {
     "name": "stderr",
     "output_type": "stream",
     "text": [
      "/lscratch/dlopez/programs/miniconda_20221210/miniconda3/envs/VE_SBIBE/lib/python3.11/site-packages/sklearn/base.py:348: InconsistentVersionWarning: Trying to unpickle estimator StandardScaler from version 0.23.2 when using version 1.3.2. This might lead to breaking code or invalid results. Use at your own risk. For more info please refer to:\n",
      "https://scikit-learn.org/stable/model_persistence.html#security-maintainability-limitations\n",
      "  warnings.warn(\n",
      "/lscratch/dlopez/programs/miniconda_20221210/miniconda3/envs/VE_SBIBE/lib/python3.11/site-packages/sklearn/base.py:348: InconsistentVersionWarning: Trying to unpickle estimator PCA from version 0.23.2 when using version 1.3.2. This might lead to breaking code or invalid results. Use at your own risk. For more info please refer to:\n",
      "https://scikit-learn.org/stable/model_persistence.html#security-maintainability-limitations\n",
      "  warnings.warn(\n"
     ]
    },
    {
     "name": "stdout",
     "output_type": "stream",
     "text": [
      "Loading sigma8 emulator...\n",
      "Sigma8 emulator loaded in memory.\n",
      "Loading linear emulator...\n"
     ]
    },
    {
     "name": "stderr",
     "output_type": "stream",
     "text": [
      "/lscratch/dlopez/programs/miniconda_20221210/miniconda3/envs/VE_SBIBE/lib/python3.11/site-packages/sklearn/base.py:348: InconsistentVersionWarning: Trying to unpickle estimator PCA from version 1.0 when using version 1.3.2. This might lead to breaking code or invalid results. Use at your own risk. For more info please refer to:\n",
      "https://scikit-learn.org/stable/model_persistence.html#security-maintainability-limitations\n",
      "  warnings.warn(\n",
      "/lscratch/dlopez/programs/miniconda_20221210/miniconda3/envs/VE_SBIBE/lib/python3.11/site-packages/sklearn/base.py:348: InconsistentVersionWarning: Trying to unpickle estimator StandardScaler from version 1.0 when using version 1.3.2. This might lead to breaking code or invalid results. Use at your own risk. For more info please refer to:\n",
      "https://scikit-learn.org/stable/model_persistence.html#security-maintainability-limitations\n",
      "  warnings.warn(\n",
      "/lscratch/dlopez/programs/miniconda_20221210/miniconda3/envs/VE_SBIBE/lib/python3.11/site-packages/sklearn/base.py:348: InconsistentVersionWarning: Trying to unpickle estimator PCA from version 1.0 when using version 1.3.2. This might lead to breaking code or invalid results. Use at your own risk. For more info please refer to:\n",
      "https://scikit-learn.org/stable/model_persistence.html#security-maintainability-limitations\n",
      "  warnings.warn(\n",
      "/lscratch/dlopez/programs/miniconda_20221210/miniconda3/envs/VE_SBIBE/lib/python3.11/site-packages/sklearn/base.py:348: InconsistentVersionWarning: Trying to unpickle estimator StandardScaler from version 1.0 when using version 1.3.2. This might lead to breaking code or invalid results. Use at your own risk. For more info please refer to:\n",
      "https://scikit-learn.org/stable/model_persistence.html#security-maintainability-limitations\n",
      "  warnings.warn(\n",
      "/lscratch/dlopez/programs/miniconda_20221210/miniconda3/envs/VE_SBIBE/lib/python3.11/site-packages/sklearn/base.py:348: InconsistentVersionWarning: Trying to unpickle estimator StandardScaler from version 1.0.2 when using version 1.3.2. This might lead to breaking code or invalid results. Use at your own risk. For more info please refer to:\n",
      "https://scikit-learn.org/stable/model_persistence.html#security-maintainability-limitations\n",
      "  warnings.warn(\n"
     ]
    },
    {
     "name": "stdout",
     "output_type": "stream",
     "text": [
      "Linear emulator loaded in memory.\n",
      "Loading no-wiggles emulator...\n",
      "No-wiggles emulator loaded in memory.\n",
      "Loading non-linear emulator...\n"
     ]
    },
    {
     "name": "stderr",
     "output_type": "stream",
     "text": [
      "/lscratch/dlopez/programs/miniconda_20221210/miniconda3/envs/VE_SBIBE/lib/python3.11/site-packages/sklearn/base.py:348: InconsistentVersionWarning: Trying to unpickle estimator StandardScaler from version 0.22.1 when using version 1.3.2. This might lead to breaking code or invalid results. Use at your own risk. For more info please refer to:\n",
      "https://scikit-learn.org/stable/model_persistence.html#security-maintainability-limitations\n",
      "  warnings.warn(\n",
      "/lscratch/dlopez/programs/miniconda_20221210/miniconda3/envs/VE_SBIBE/lib/python3.11/site-packages/sklearn/base.py:348: InconsistentVersionWarning: Trying to unpickle estimator PCA from version 0.22.1 when using version 1.3.2. This might lead to breaking code or invalid results. Use at your own risk. For more info please refer to:\n",
      "https://scikit-learn.org/stable/model_persistence.html#security-maintainability-limitations\n",
      "  warnings.warn(\n",
      "/lscratch/dlopez/programs/miniconda_20221210/miniconda3/envs/VE_SBIBE/lib/python3.11/site-packages/sklearn/base.py:348: InconsistentVersionWarning: Trying to unpickle estimator StandardScaler from version 0.23.2 when using version 1.3.2. This might lead to breaking code or invalid results. Use at your own risk. For more info please refer to:\n",
      "https://scikit-learn.org/stable/model_persistence.html#security-maintainability-limitations\n",
      "  warnings.warn(\n",
      "/lscratch/dlopez/programs/miniconda_20221210/miniconda3/envs/VE_SBIBE/lib/python3.11/site-packages/sklearn/base.py:348: InconsistentVersionWarning: Trying to unpickle estimator PCA from version 0.23.2 when using version 1.3.2. This might lead to breaking code or invalid results. Use at your own risk. For more info please refer to:\n",
      "https://scikit-learn.org/stable/model_persistence.html#security-maintainability-limitations\n",
      "  warnings.warn(\n"
     ]
    },
    {
     "name": "stdout",
     "output_type": "stream",
     "text": [
      "Nonlinear emulator loaded in memory.\n",
      "Loading Baryonic Emulator...\n",
      "Baryonic Emulator loaded in memory.\n",
      "Loading sigma8 emulator...\n",
      "Sigma8 emulator loaded in memory.\n",
      "Loading linear emulator...\n"
     ]
    },
    {
     "name": "stderr",
     "output_type": "stream",
     "text": [
      "/lscratch/dlopez/programs/miniconda_20221210/miniconda3/envs/VE_SBIBE/lib/python3.11/site-packages/sklearn/base.py:348: InconsistentVersionWarning: Trying to unpickle estimator PCA from version 1.0 when using version 1.3.2. This might lead to breaking code or invalid results. Use at your own risk. For more info please refer to:\n",
      "https://scikit-learn.org/stable/model_persistence.html#security-maintainability-limitations\n",
      "  warnings.warn(\n",
      "/lscratch/dlopez/programs/miniconda_20221210/miniconda3/envs/VE_SBIBE/lib/python3.11/site-packages/sklearn/base.py:348: InconsistentVersionWarning: Trying to unpickle estimator StandardScaler from version 1.0 when using version 1.3.2. This might lead to breaking code or invalid results. Use at your own risk. For more info please refer to:\n",
      "https://scikit-learn.org/stable/model_persistence.html#security-maintainability-limitations\n",
      "  warnings.warn(\n",
      "/lscratch/dlopez/programs/miniconda_20221210/miniconda3/envs/VE_SBIBE/lib/python3.11/site-packages/sklearn/base.py:348: InconsistentVersionWarning: Trying to unpickle estimator PCA from version 1.0 when using version 1.3.2. This might lead to breaking code or invalid results. Use at your own risk. For more info please refer to:\n",
      "https://scikit-learn.org/stable/model_persistence.html#security-maintainability-limitations\n",
      "  warnings.warn(\n",
      "/lscratch/dlopez/programs/miniconda_20221210/miniconda3/envs/VE_SBIBE/lib/python3.11/site-packages/sklearn/base.py:348: InconsistentVersionWarning: Trying to unpickle estimator StandardScaler from version 1.0 when using version 1.3.2. This might lead to breaking code or invalid results. Use at your own risk. For more info please refer to:\n",
      "https://scikit-learn.org/stable/model_persistence.html#security-maintainability-limitations\n",
      "  warnings.warn(\n"
     ]
    },
    {
     "name": "stdout",
     "output_type": "stream",
     "text": [
      "Linear emulator loaded in memory.\n",
      "Loading no-wiggles emulator...\n",
      "No-wiggles emulator loaded in memory.\n",
      "Loading non-linear emulator...\n"
     ]
    },
    {
     "name": "stderr",
     "output_type": "stream",
     "text": [
      "/lscratch/dlopez/programs/miniconda_20221210/miniconda3/envs/VE_SBIBE/lib/python3.11/site-packages/sklearn/base.py:348: InconsistentVersionWarning: Trying to unpickle estimator StandardScaler from version 1.0.2 when using version 1.3.2. This might lead to breaking code or invalid results. Use at your own risk. For more info please refer to:\n",
      "https://scikit-learn.org/stable/model_persistence.html#security-maintainability-limitations\n",
      "  warnings.warn(\n",
      "/lscratch/dlopez/programs/miniconda_20221210/miniconda3/envs/VE_SBIBE/lib/python3.11/site-packages/sklearn/base.py:348: InconsistentVersionWarning: Trying to unpickle estimator StandardScaler from version 0.22.1 when using version 1.3.2. This might lead to breaking code or invalid results. Use at your own risk. For more info please refer to:\n",
      "https://scikit-learn.org/stable/model_persistence.html#security-maintainability-limitations\n",
      "  warnings.warn(\n",
      "/lscratch/dlopez/programs/miniconda_20221210/miniconda3/envs/VE_SBIBE/lib/python3.11/site-packages/sklearn/base.py:348: InconsistentVersionWarning: Trying to unpickle estimator PCA from version 0.22.1 when using version 1.3.2. This might lead to breaking code or invalid results. Use at your own risk. For more info please refer to:\n",
      "https://scikit-learn.org/stable/model_persistence.html#security-maintainability-limitations\n",
      "  warnings.warn(\n"
     ]
    },
    {
     "name": "stdout",
     "output_type": "stream",
     "text": [
      "Nonlinear emulator loaded in memory.\n",
      "Loading Baryonic Emulator...\n",
      "Baryonic Emulator loaded in memory.\n"
     ]
    },
    {
     "name": "stderr",
     "output_type": "stream",
     "text": [
      "/lscratch/dlopez/programs/miniconda_20221210/miniconda3/envs/VE_SBIBE/lib/python3.11/site-packages/sklearn/base.py:348: InconsistentVersionWarning: Trying to unpickle estimator StandardScaler from version 0.23.2 when using version 1.3.2. This might lead to breaking code or invalid results. Use at your own risk. For more info please refer to:\n",
      "https://scikit-learn.org/stable/model_persistence.html#security-maintainability-limitations\n",
      "  warnings.warn(\n",
      "/lscratch/dlopez/programs/miniconda_20221210/miniconda3/envs/VE_SBIBE/lib/python3.11/site-packages/sklearn/base.py:348: InconsistentVersionWarning: Trying to unpickle estimator PCA from version 0.23.2 when using version 1.3.2. This might lead to breaking code or invalid results. Use at your own risk. For more info please refer to:\n",
      "https://scikit-learn.org/stable/model_persistence.html#security-maintainability-limitations\n",
      "  warnings.warn(\n"
     ]
    },
    {
     "name": "stdout",
     "output_type": "stream",
     "text": [
      "Loading sigma8 emulator...\n",
      "Sigma8 emulator loaded in memory.\n",
      "Loading linear emulator...\n"
     ]
    },
    {
     "name": "stderr",
     "output_type": "stream",
     "text": [
      "/lscratch/dlopez/programs/miniconda_20221210/miniconda3/envs/VE_SBIBE/lib/python3.11/site-packages/sklearn/base.py:348: InconsistentVersionWarning: Trying to unpickle estimator PCA from version 1.0 when using version 1.3.2. This might lead to breaking code or invalid results. Use at your own risk. For more info please refer to:\n",
      "https://scikit-learn.org/stable/model_persistence.html#security-maintainability-limitations\n",
      "  warnings.warn(\n",
      "/lscratch/dlopez/programs/miniconda_20221210/miniconda3/envs/VE_SBIBE/lib/python3.11/site-packages/sklearn/base.py:348: InconsistentVersionWarning: Trying to unpickle estimator StandardScaler from version 1.0 when using version 1.3.2. This might lead to breaking code or invalid results. Use at your own risk. For more info please refer to:\n",
      "https://scikit-learn.org/stable/model_persistence.html#security-maintainability-limitations\n",
      "  warnings.warn(\n",
      "/lscratch/dlopez/programs/miniconda_20221210/miniconda3/envs/VE_SBIBE/lib/python3.11/site-packages/sklearn/base.py:348: InconsistentVersionWarning: Trying to unpickle estimator PCA from version 1.0 when using version 1.3.2. This might lead to breaking code or invalid results. Use at your own risk. For more info please refer to:\n",
      "https://scikit-learn.org/stable/model_persistence.html#security-maintainability-limitations\n",
      "  warnings.warn(\n",
      "/lscratch/dlopez/programs/miniconda_20221210/miniconda3/envs/VE_SBIBE/lib/python3.11/site-packages/sklearn/base.py:348: InconsistentVersionWarning: Trying to unpickle estimator StandardScaler from version 1.0 when using version 1.3.2. This might lead to breaking code or invalid results. Use at your own risk. For more info please refer to:\n",
      "https://scikit-learn.org/stable/model_persistence.html#security-maintainability-limitations\n",
      "  warnings.warn(\n"
     ]
    },
    {
     "name": "stdout",
     "output_type": "stream",
     "text": [
      "Linear emulator loaded in memory.\n",
      "Loading no-wiggles emulator...\n"
     ]
    },
    {
     "name": "stderr",
     "output_type": "stream",
     "text": [
      "/lscratch/dlopez/programs/miniconda_20221210/miniconda3/envs/VE_SBIBE/lib/python3.11/site-packages/sklearn/base.py:348: InconsistentVersionWarning: Trying to unpickle estimator StandardScaler from version 1.0.2 when using version 1.3.2. This might lead to breaking code or invalid results. Use at your own risk. For more info please refer to:\n",
      "https://scikit-learn.org/stable/model_persistence.html#security-maintainability-limitations\n",
      "  warnings.warn(\n",
      "/lscratch/dlopez/programs/miniconda_20221210/miniconda3/envs/VE_SBIBE/lib/python3.11/site-packages/sklearn/base.py:348: InconsistentVersionWarning: Trying to unpickle estimator StandardScaler from version 0.22.1 when using version 1.3.2. This might lead to breaking code or invalid results. Use at your own risk. For more info please refer to:\n",
      "https://scikit-learn.org/stable/model_persistence.html#security-maintainability-limitations\n",
      "  warnings.warn(\n",
      "/lscratch/dlopez/programs/miniconda_20221210/miniconda3/envs/VE_SBIBE/lib/python3.11/site-packages/sklearn/base.py:348: InconsistentVersionWarning: Trying to unpickle estimator PCA from version 0.22.1 when using version 1.3.2. This might lead to breaking code or invalid results. Use at your own risk. For more info please refer to:\n",
      "https://scikit-learn.org/stable/model_persistence.html#security-maintainability-limitations\n",
      "  warnings.warn(\n"
     ]
    },
    {
     "name": "stdout",
     "output_type": "stream",
     "text": [
      "No-wiggles emulator loaded in memory.\n",
      "Loading non-linear emulator...\n",
      "Nonlinear emulator loaded in memory.\n",
      "Loading Baryonic Emulator...\n"
     ]
    },
    {
     "name": "stderr",
     "output_type": "stream",
     "text": [
      "/lscratch/dlopez/programs/miniconda_20221210/miniconda3/envs/VE_SBIBE/lib/python3.11/site-packages/sklearn/base.py:348: InconsistentVersionWarning: Trying to unpickle estimator StandardScaler from version 0.23.2 when using version 1.3.2. This might lead to breaking code or invalid results. Use at your own risk. For more info please refer to:\n",
      "https://scikit-learn.org/stable/model_persistence.html#security-maintainability-limitations\n",
      "  warnings.warn(\n",
      "/lscratch/dlopez/programs/miniconda_20221210/miniconda3/envs/VE_SBIBE/lib/python3.11/site-packages/sklearn/base.py:348: InconsistentVersionWarning: Trying to unpickle estimator PCA from version 0.23.2 when using version 1.3.2. This might lead to breaking code or invalid results. Use at your own risk. For more info please refer to:\n",
      "https://scikit-learn.org/stable/model_persistence.html#security-maintainability-limitations\n",
      "  warnings.warn(\n"
     ]
    },
    {
     "name": "stdout",
     "output_type": "stream",
     "text": [
      "Baryonic Emulator loaded in memory.\n",
      "Loading sigma8 emulator...\n",
      "Sigma8 emulator loaded in memory.\n",
      "Loading linear emulator...\n"
     ]
    },
    {
     "name": "stderr",
     "output_type": "stream",
     "text": [
      "/lscratch/dlopez/programs/miniconda_20221210/miniconda3/envs/VE_SBIBE/lib/python3.11/site-packages/sklearn/base.py:348: InconsistentVersionWarning: Trying to unpickle estimator PCA from version 1.0 when using version 1.3.2. This might lead to breaking code or invalid results. Use at your own risk. For more info please refer to:\n",
      "https://scikit-learn.org/stable/model_persistence.html#security-maintainability-limitations\n",
      "  warnings.warn(\n",
      "/lscratch/dlopez/programs/miniconda_20221210/miniconda3/envs/VE_SBIBE/lib/python3.11/site-packages/sklearn/base.py:348: InconsistentVersionWarning: Trying to unpickle estimator StandardScaler from version 1.0 when using version 1.3.2. This might lead to breaking code or invalid results. Use at your own risk. For more info please refer to:\n",
      "https://scikit-learn.org/stable/model_persistence.html#security-maintainability-limitations\n",
      "  warnings.warn(\n",
      "/lscratch/dlopez/programs/miniconda_20221210/miniconda3/envs/VE_SBIBE/lib/python3.11/site-packages/sklearn/base.py:348: InconsistentVersionWarning: Trying to unpickle estimator PCA from version 1.0 when using version 1.3.2. This might lead to breaking code or invalid results. Use at your own risk. For more info please refer to:\n",
      "https://scikit-learn.org/stable/model_persistence.html#security-maintainability-limitations\n",
      "  warnings.warn(\n",
      "/lscratch/dlopez/programs/miniconda_20221210/miniconda3/envs/VE_SBIBE/lib/python3.11/site-packages/sklearn/base.py:348: InconsistentVersionWarning: Trying to unpickle estimator StandardScaler from version 1.0 when using version 1.3.2. This might lead to breaking code or invalid results. Use at your own risk. For more info please refer to:\n",
      "https://scikit-learn.org/stable/model_persistence.html#security-maintainability-limitations\n",
      "  warnings.warn(\n"
     ]
    },
    {
     "name": "stdout",
     "output_type": "stream",
     "text": [
      "Linear emulator loaded in memory.\n",
      "Loading no-wiggles emulator...\n",
      "No-wiggles emulator loaded in memory.\n",
      "Loading non-linear emulator...\n"
     ]
    },
    {
     "name": "stderr",
     "output_type": "stream",
     "text": [
      "/lscratch/dlopez/programs/miniconda_20221210/miniconda3/envs/VE_SBIBE/lib/python3.11/site-packages/sklearn/base.py:348: InconsistentVersionWarning: Trying to unpickle estimator StandardScaler from version 1.0.2 when using version 1.3.2. This might lead to breaking code or invalid results. Use at your own risk. For more info please refer to:\n",
      "https://scikit-learn.org/stable/model_persistence.html#security-maintainability-limitations\n",
      "  warnings.warn(\n",
      "/lscratch/dlopez/programs/miniconda_20221210/miniconda3/envs/VE_SBIBE/lib/python3.11/site-packages/sklearn/base.py:348: InconsistentVersionWarning: Trying to unpickle estimator StandardScaler from version 0.22.1 when using version 1.3.2. This might lead to breaking code or invalid results. Use at your own risk. For more info please refer to:\n",
      "https://scikit-learn.org/stable/model_persistence.html#security-maintainability-limitations\n",
      "  warnings.warn(\n",
      "/lscratch/dlopez/programs/miniconda_20221210/miniconda3/envs/VE_SBIBE/lib/python3.11/site-packages/sklearn/base.py:348: InconsistentVersionWarning: Trying to unpickle estimator PCA from version 0.22.1 when using version 1.3.2. This might lead to breaking code or invalid results. Use at your own risk. For more info please refer to:\n",
      "https://scikit-learn.org/stable/model_persistence.html#security-maintainability-limitations\n",
      "  warnings.warn(\n"
     ]
    },
    {
     "name": "stdout",
     "output_type": "stream",
     "text": [
      "Nonlinear emulator loaded in memory.\n",
      "Loading Baryonic Emulator...\n",
      "Baryonic Emulator loaded in memory.\n"
     ]
    },
    {
     "name": "stderr",
     "output_type": "stream",
     "text": [
      "/lscratch/dlopez/programs/miniconda_20221210/miniconda3/envs/VE_SBIBE/lib/python3.11/site-packages/sklearn/base.py:348: InconsistentVersionWarning: Trying to unpickle estimator StandardScaler from version 0.23.2 when using version 1.3.2. This might lead to breaking code or invalid results. Use at your own risk. For more info please refer to:\n",
      "https://scikit-learn.org/stable/model_persistence.html#security-maintainability-limitations\n",
      "  warnings.warn(\n",
      "/lscratch/dlopez/programs/miniconda_20221210/miniconda3/envs/VE_SBIBE/lib/python3.11/site-packages/sklearn/base.py:348: InconsistentVersionWarning: Trying to unpickle estimator PCA from version 0.23.2 when using version 1.3.2. This might lead to breaking code or invalid results. Use at your own risk. For more info please refer to:\n",
      "https://scikit-learn.org/stable/model_persistence.html#security-maintainability-limitations\n",
      "  warnings.warn(\n"
     ]
    },
    {
     "name": "stdout",
     "output_type": "stream",
     "text": [
      "Loading sigma8 emulator...\n",
      "Sigma8 emulator loaded in memory.\n",
      "Loading linear emulator...\n"
     ]
    },
    {
     "name": "stderr",
     "output_type": "stream",
     "text": [
      "/lscratch/dlopez/programs/miniconda_20221210/miniconda3/envs/VE_SBIBE/lib/python3.11/site-packages/sklearn/base.py:348: InconsistentVersionWarning: Trying to unpickle estimator PCA from version 1.0 when using version 1.3.2. This might lead to breaking code or invalid results. Use at your own risk. For more info please refer to:\n",
      "https://scikit-learn.org/stable/model_persistence.html#security-maintainability-limitations\n",
      "  warnings.warn(\n",
      "/lscratch/dlopez/programs/miniconda_20221210/miniconda3/envs/VE_SBIBE/lib/python3.11/site-packages/sklearn/base.py:348: InconsistentVersionWarning: Trying to unpickle estimator StandardScaler from version 1.0 when using version 1.3.2. This might lead to breaking code or invalid results. Use at your own risk. For more info please refer to:\n",
      "https://scikit-learn.org/stable/model_persistence.html#security-maintainability-limitations\n",
      "  warnings.warn(\n",
      "/lscratch/dlopez/programs/miniconda_20221210/miniconda3/envs/VE_SBIBE/lib/python3.11/site-packages/sklearn/base.py:348: InconsistentVersionWarning: Trying to unpickle estimator PCA from version 1.0 when using version 1.3.2. This might lead to breaking code or invalid results. Use at your own risk. For more info please refer to:\n",
      "https://scikit-learn.org/stable/model_persistence.html#security-maintainability-limitations\n",
      "  warnings.warn(\n",
      "/lscratch/dlopez/programs/miniconda_20221210/miniconda3/envs/VE_SBIBE/lib/python3.11/site-packages/sklearn/base.py:348: InconsistentVersionWarning: Trying to unpickle estimator StandardScaler from version 1.0 when using version 1.3.2. This might lead to breaking code or invalid results. Use at your own risk. For more info please refer to:\n",
      "https://scikit-learn.org/stable/model_persistence.html#security-maintainability-limitations\n",
      "  warnings.warn(\n"
     ]
    },
    {
     "name": "stdout",
     "output_type": "stream",
     "text": [
      "Linear emulator loaded in memory.\n",
      "Loading no-wiggles emulator...\n",
      "No-wiggles emulator loaded in memory.\n",
      "Loading non-linear emulator...\n"
     ]
    },
    {
     "name": "stderr",
     "output_type": "stream",
     "text": [
      "/lscratch/dlopez/programs/miniconda_20221210/miniconda3/envs/VE_SBIBE/lib/python3.11/site-packages/sklearn/base.py:348: InconsistentVersionWarning: Trying to unpickle estimator StandardScaler from version 1.0.2 when using version 1.3.2. This might lead to breaking code or invalid results. Use at your own risk. For more info please refer to:\n",
      "https://scikit-learn.org/stable/model_persistence.html#security-maintainability-limitations\n",
      "  warnings.warn(\n",
      "/lscratch/dlopez/programs/miniconda_20221210/miniconda3/envs/VE_SBIBE/lib/python3.11/site-packages/sklearn/base.py:348: InconsistentVersionWarning: Trying to unpickle estimator StandardScaler from version 0.22.1 when using version 1.3.2. This might lead to breaking code or invalid results. Use at your own risk. For more info please refer to:\n",
      "https://scikit-learn.org/stable/model_persistence.html#security-maintainability-limitations\n",
      "  warnings.warn(\n",
      "/lscratch/dlopez/programs/miniconda_20221210/miniconda3/envs/VE_SBIBE/lib/python3.11/site-packages/sklearn/base.py:348: InconsistentVersionWarning: Trying to unpickle estimator PCA from version 0.22.1 when using version 1.3.2. This might lead to breaking code or invalid results. Use at your own risk. For more info please refer to:\n",
      "https://scikit-learn.org/stable/model_persistence.html#security-maintainability-limitations\n",
      "  warnings.warn(\n"
     ]
    },
    {
     "name": "stdout",
     "output_type": "stream",
     "text": [
      "Nonlinear emulator loaded in memory.\n",
      "Loading Baryonic Emulator...\n"
     ]
    },
    {
     "name": "stderr",
     "output_type": "stream",
     "text": [
      "/lscratch/dlopez/programs/miniconda_20221210/miniconda3/envs/VE_SBIBE/lib/python3.11/site-packages/sklearn/base.py:348: InconsistentVersionWarning: Trying to unpickle estimator StandardScaler from version 0.23.2 when using version 1.3.2. This might lead to breaking code or invalid results. Use at your own risk. For more info please refer to:\n",
      "https://scikit-learn.org/stable/model_persistence.html#security-maintainability-limitations\n",
      "  warnings.warn(\n",
      "/lscratch/dlopez/programs/miniconda_20221210/miniconda3/envs/VE_SBIBE/lib/python3.11/site-packages/sklearn/base.py:348: InconsistentVersionWarning: Trying to unpickle estimator PCA from version 0.23.2 when using version 1.3.2. This might lead to breaking code or invalid results. Use at your own risk. For more info please refer to:\n",
      "https://scikit-learn.org/stable/model_persistence.html#security-maintainability-limitations\n",
      "  warnings.warn(\n"
     ]
    },
    {
     "name": "stdout",
     "output_type": "stream",
     "text": [
      "Baryonic Emulator loaded in memory.\n",
      "Loading sigma8 emulator...\n",
      "Sigma8 emulator loaded in memory.\n",
      "Loading linear emulator...\n"
     ]
    },
    {
     "name": "stderr",
     "output_type": "stream",
     "text": [
      "/lscratch/dlopez/programs/miniconda_20221210/miniconda3/envs/VE_SBIBE/lib/python3.11/site-packages/sklearn/base.py:348: InconsistentVersionWarning: Trying to unpickle estimator PCA from version 1.0 when using version 1.3.2. This might lead to breaking code or invalid results. Use at your own risk. For more info please refer to:\n",
      "https://scikit-learn.org/stable/model_persistence.html#security-maintainability-limitations\n",
      "  warnings.warn(\n",
      "/lscratch/dlopez/programs/miniconda_20221210/miniconda3/envs/VE_SBIBE/lib/python3.11/site-packages/sklearn/base.py:348: InconsistentVersionWarning: Trying to unpickle estimator StandardScaler from version 1.0 when using version 1.3.2. This might lead to breaking code or invalid results. Use at your own risk. For more info please refer to:\n",
      "https://scikit-learn.org/stable/model_persistence.html#security-maintainability-limitations\n",
      "  warnings.warn(\n",
      "/lscratch/dlopez/programs/miniconda_20221210/miniconda3/envs/VE_SBIBE/lib/python3.11/site-packages/sklearn/base.py:348: InconsistentVersionWarning: Trying to unpickle estimator PCA from version 1.0 when using version 1.3.2. This might lead to breaking code or invalid results. Use at your own risk. For more info please refer to:\n",
      "https://scikit-learn.org/stable/model_persistence.html#security-maintainability-limitations\n",
      "  warnings.warn(\n",
      "/lscratch/dlopez/programs/miniconda_20221210/miniconda3/envs/VE_SBIBE/lib/python3.11/site-packages/sklearn/base.py:348: InconsistentVersionWarning: Trying to unpickle estimator StandardScaler from version 1.0 when using version 1.3.2. This might lead to breaking code or invalid results. Use at your own risk. For more info please refer to:\n",
      "https://scikit-learn.org/stable/model_persistence.html#security-maintainability-limitations\n",
      "  warnings.warn(\n"
     ]
    },
    {
     "name": "stdout",
     "output_type": "stream",
     "text": [
      "Linear emulator loaded in memory.\n",
      "Loading no-wiggles emulator...\n",
      "No-wiggles emulator loaded in memory.\n",
      "Loading non-linear emulator...\n"
     ]
    },
    {
     "name": "stderr",
     "output_type": "stream",
     "text": [
      "/lscratch/dlopez/programs/miniconda_20221210/miniconda3/envs/VE_SBIBE/lib/python3.11/site-packages/sklearn/base.py:348: InconsistentVersionWarning: Trying to unpickle estimator StandardScaler from version 1.0.2 when using version 1.3.2. This might lead to breaking code or invalid results. Use at your own risk. For more info please refer to:\n",
      "https://scikit-learn.org/stable/model_persistence.html#security-maintainability-limitations\n",
      "  warnings.warn(\n",
      "/lscratch/dlopez/programs/miniconda_20221210/miniconda3/envs/VE_SBIBE/lib/python3.11/site-packages/sklearn/base.py:348: InconsistentVersionWarning: Trying to unpickle estimator StandardScaler from version 0.22.1 when using version 1.3.2. This might lead to breaking code or invalid results. Use at your own risk. For more info please refer to:\n",
      "https://scikit-learn.org/stable/model_persistence.html#security-maintainability-limitations\n",
      "  warnings.warn(\n",
      "/lscratch/dlopez/programs/miniconda_20221210/miniconda3/envs/VE_SBIBE/lib/python3.11/site-packages/sklearn/base.py:348: InconsistentVersionWarning: Trying to unpickle estimator PCA from version 0.22.1 when using version 1.3.2. This might lead to breaking code or invalid results. Use at your own risk. For more info please refer to:\n",
      "https://scikit-learn.org/stable/model_persistence.html#security-maintainability-limitations\n",
      "  warnings.warn(\n"
     ]
    },
    {
     "name": "stdout",
     "output_type": "stream",
     "text": [
      "Nonlinear emulator loaded in memory.\n",
      "Loading Baryonic Emulator...\n",
      "Baryonic Emulator loaded in memory.\n"
     ]
    },
    {
     "name": "stderr",
     "output_type": "stream",
     "text": [
      "/lscratch/dlopez/programs/miniconda_20221210/miniconda3/envs/VE_SBIBE/lib/python3.11/site-packages/sklearn/base.py:348: InconsistentVersionWarning: Trying to unpickle estimator StandardScaler from version 0.23.2 when using version 1.3.2. This might lead to breaking code or invalid results. Use at your own risk. For more info please refer to:\n",
      "https://scikit-learn.org/stable/model_persistence.html#security-maintainability-limitations\n",
      "  warnings.warn(\n",
      "/lscratch/dlopez/programs/miniconda_20221210/miniconda3/envs/VE_SBIBE/lib/python3.11/site-packages/sklearn/base.py:348: InconsistentVersionWarning: Trying to unpickle estimator PCA from version 0.23.2 when using version 1.3.2. This might lead to breaking code or invalid results. Use at your own risk. For more info please refer to:\n",
      "https://scikit-learn.org/stable/model_persistence.html#security-maintainability-limitations\n",
      "  warnings.warn(\n"
     ]
    },
    {
     "name": "stdout",
     "output_type": "stream",
     "text": [
      "Loading sigma8 emulator...\n",
      "Sigma8 emulator loaded in memory.\n",
      "Loading linear emulator...\n"
     ]
    },
    {
     "name": "stderr",
     "output_type": "stream",
     "text": [
      "/lscratch/dlopez/programs/miniconda_20221210/miniconda3/envs/VE_SBIBE/lib/python3.11/site-packages/sklearn/base.py:348: InconsistentVersionWarning: Trying to unpickle estimator PCA from version 1.0 when using version 1.3.2. This might lead to breaking code or invalid results. Use at your own risk. For more info please refer to:\n",
      "https://scikit-learn.org/stable/model_persistence.html#security-maintainability-limitations\n",
      "  warnings.warn(\n",
      "/lscratch/dlopez/programs/miniconda_20221210/miniconda3/envs/VE_SBIBE/lib/python3.11/site-packages/sklearn/base.py:348: InconsistentVersionWarning: Trying to unpickle estimator StandardScaler from version 1.0 when using version 1.3.2. This might lead to breaking code or invalid results. Use at your own risk. For more info please refer to:\n",
      "https://scikit-learn.org/stable/model_persistence.html#security-maintainability-limitations\n",
      "  warnings.warn(\n",
      "/lscratch/dlopez/programs/miniconda_20221210/miniconda3/envs/VE_SBIBE/lib/python3.11/site-packages/sklearn/base.py:348: InconsistentVersionWarning: Trying to unpickle estimator PCA from version 1.0 when using version 1.3.2. This might lead to breaking code or invalid results. Use at your own risk. For more info please refer to:\n",
      "https://scikit-learn.org/stable/model_persistence.html#security-maintainability-limitations\n",
      "  warnings.warn(\n",
      "/lscratch/dlopez/programs/miniconda_20221210/miniconda3/envs/VE_SBIBE/lib/python3.11/site-packages/sklearn/base.py:348: InconsistentVersionWarning: Trying to unpickle estimator StandardScaler from version 1.0 when using version 1.3.2. This might lead to breaking code or invalid results. Use at your own risk. For more info please refer to:\n",
      "https://scikit-learn.org/stable/model_persistence.html#security-maintainability-limitations\n",
      "  warnings.warn(\n"
     ]
    },
    {
     "name": "stdout",
     "output_type": "stream",
     "text": [
      "Linear emulator loaded in memory.\n",
      "Loading no-wiggles emulator...\n",
      "No-wiggles emulator loaded in memory.\n",
      "Loading non-linear emulator...\n"
     ]
    },
    {
     "name": "stderr",
     "output_type": "stream",
     "text": [
      "/lscratch/dlopez/programs/miniconda_20221210/miniconda3/envs/VE_SBIBE/lib/python3.11/site-packages/sklearn/base.py:348: InconsistentVersionWarning: Trying to unpickle estimator StandardScaler from version 1.0.2 when using version 1.3.2. This might lead to breaking code or invalid results. Use at your own risk. For more info please refer to:\n",
      "https://scikit-learn.org/stable/model_persistence.html#security-maintainability-limitations\n",
      "  warnings.warn(\n",
      "/lscratch/dlopez/programs/miniconda_20221210/miniconda3/envs/VE_SBIBE/lib/python3.11/site-packages/sklearn/base.py:348: InconsistentVersionWarning: Trying to unpickle estimator StandardScaler from version 0.22.1 when using version 1.3.2. This might lead to breaking code or invalid results. Use at your own risk. For more info please refer to:\n",
      "https://scikit-learn.org/stable/model_persistence.html#security-maintainability-limitations\n",
      "  warnings.warn(\n",
      "/lscratch/dlopez/programs/miniconda_20221210/miniconda3/envs/VE_SBIBE/lib/python3.11/site-packages/sklearn/base.py:348: InconsistentVersionWarning: Trying to unpickle estimator PCA from version 0.22.1 when using version 1.3.2. This might lead to breaking code or invalid results. Use at your own risk. For more info please refer to:\n",
      "https://scikit-learn.org/stable/model_persistence.html#security-maintainability-limitations\n",
      "  warnings.warn(\n"
     ]
    },
    {
     "name": "stdout",
     "output_type": "stream",
     "text": [
      "Nonlinear emulator loaded in memory.\n",
      "Loading Baryonic Emulator...\n",
      "Baryonic Emulator loaded in memory.\n"
     ]
    },
    {
     "name": "stderr",
     "output_type": "stream",
     "text": [
      "/lscratch/dlopez/programs/miniconda_20221210/miniconda3/envs/VE_SBIBE/lib/python3.11/site-packages/sklearn/base.py:348: InconsistentVersionWarning: Trying to unpickle estimator StandardScaler from version 0.23.2 when using version 1.3.2. This might lead to breaking code or invalid results. Use at your own risk. For more info please refer to:\n",
      "https://scikit-learn.org/stable/model_persistence.html#security-maintainability-limitations\n",
      "  warnings.warn(\n",
      "/lscratch/dlopez/programs/miniconda_20221210/miniconda3/envs/VE_SBIBE/lib/python3.11/site-packages/sklearn/base.py:348: InconsistentVersionWarning: Trying to unpickle estimator PCA from version 0.23.2 when using version 1.3.2. This might lead to breaking code or invalid results. Use at your own risk. For more info please refer to:\n",
      "https://scikit-learn.org/stable/model_persistence.html#security-maintainability-limitations\n",
      "  warnings.warn(\n"
     ]
    },
    {
     "name": "stdout",
     "output_type": "stream",
     "text": [
      "Loading sigma8 emulator...\n",
      "Sigma8 emulator loaded in memory.\n",
      "Loading linear emulator...\n"
     ]
    },
    {
     "name": "stderr",
     "output_type": "stream",
     "text": [
      "/lscratch/dlopez/programs/miniconda_20221210/miniconda3/envs/VE_SBIBE/lib/python3.11/site-packages/sklearn/base.py:348: InconsistentVersionWarning: Trying to unpickle estimator PCA from version 1.0 when using version 1.3.2. This might lead to breaking code or invalid results. Use at your own risk. For more info please refer to:\n",
      "https://scikit-learn.org/stable/model_persistence.html#security-maintainability-limitations\n",
      "  warnings.warn(\n",
      "/lscratch/dlopez/programs/miniconda_20221210/miniconda3/envs/VE_SBIBE/lib/python3.11/site-packages/sklearn/base.py:348: InconsistentVersionWarning: Trying to unpickle estimator StandardScaler from version 1.0 when using version 1.3.2. This might lead to breaking code or invalid results. Use at your own risk. For more info please refer to:\n",
      "https://scikit-learn.org/stable/model_persistence.html#security-maintainability-limitations\n",
      "  warnings.warn(\n",
      "/lscratch/dlopez/programs/miniconda_20221210/miniconda3/envs/VE_SBIBE/lib/python3.11/site-packages/sklearn/base.py:348: InconsistentVersionWarning: Trying to unpickle estimator PCA from version 1.0 when using version 1.3.2. This might lead to breaking code or invalid results. Use at your own risk. For more info please refer to:\n",
      "https://scikit-learn.org/stable/model_persistence.html#security-maintainability-limitations\n",
      "  warnings.warn(\n",
      "/lscratch/dlopez/programs/miniconda_20221210/miniconda3/envs/VE_SBIBE/lib/python3.11/site-packages/sklearn/base.py:348: InconsistentVersionWarning: Trying to unpickle estimator StandardScaler from version 1.0 when using version 1.3.2. This might lead to breaking code or invalid results. Use at your own risk. For more info please refer to:\n",
      "https://scikit-learn.org/stable/model_persistence.html#security-maintainability-limitations\n",
      "  warnings.warn(\n"
     ]
    },
    {
     "name": "stdout",
     "output_type": "stream",
     "text": [
      "Linear emulator loaded in memory.\n",
      "Loading no-wiggles emulator...\n",
      "No-wiggles emulator loaded in memory.\n",
      "Loading non-linear emulator...\n"
     ]
    },
    {
     "name": "stderr",
     "output_type": "stream",
     "text": [
      "/lscratch/dlopez/programs/miniconda_20221210/miniconda3/envs/VE_SBIBE/lib/python3.11/site-packages/sklearn/base.py:348: InconsistentVersionWarning: Trying to unpickle estimator StandardScaler from version 1.0.2 when using version 1.3.2. This might lead to breaking code or invalid results. Use at your own risk. For more info please refer to:\n",
      "https://scikit-learn.org/stable/model_persistence.html#security-maintainability-limitations\n",
      "  warnings.warn(\n",
      "/lscratch/dlopez/programs/miniconda_20221210/miniconda3/envs/VE_SBIBE/lib/python3.11/site-packages/sklearn/base.py:348: InconsistentVersionWarning: Trying to unpickle estimator StandardScaler from version 0.22.1 when using version 1.3.2. This might lead to breaking code or invalid results. Use at your own risk. For more info please refer to:\n",
      "https://scikit-learn.org/stable/model_persistence.html#security-maintainability-limitations\n",
      "  warnings.warn(\n",
      "/lscratch/dlopez/programs/miniconda_20221210/miniconda3/envs/VE_SBIBE/lib/python3.11/site-packages/sklearn/base.py:348: InconsistentVersionWarning: Trying to unpickle estimator PCA from version 0.22.1 when using version 1.3.2. This might lead to breaking code or invalid results. Use at your own risk. For more info please refer to:\n",
      "https://scikit-learn.org/stable/model_persistence.html#security-maintainability-limitations\n",
      "  warnings.warn(\n"
     ]
    },
    {
     "name": "stdout",
     "output_type": "stream",
     "text": [
      "Nonlinear emulator loaded in memory.\n",
      "Loading Baryonic Emulator...\n",
      "Baryonic Emulator loaded in memory.\n"
     ]
    },
    {
     "name": "stderr",
     "output_type": "stream",
     "text": [
      "/lscratch/dlopez/programs/miniconda_20221210/miniconda3/envs/VE_SBIBE/lib/python3.11/site-packages/sklearn/base.py:348: InconsistentVersionWarning: Trying to unpickle estimator StandardScaler from version 0.23.2 when using version 1.3.2. This might lead to breaking code or invalid results. Use at your own risk. For more info please refer to:\n",
      "https://scikit-learn.org/stable/model_persistence.html#security-maintainability-limitations\n",
      "  warnings.warn(\n",
      "/lscratch/dlopez/programs/miniconda_20221210/miniconda3/envs/VE_SBIBE/lib/python3.11/site-packages/sklearn/base.py:348: InconsistentVersionWarning: Trying to unpickle estimator PCA from version 0.23.2 when using version 1.3.2. This might lead to breaking code or invalid results. Use at your own risk. For more info please refer to:\n",
      "https://scikit-learn.org/stable/model_persistence.html#security-maintainability-limitations\n",
      "  warnings.warn(\n"
     ]
    },
    {
     "name": "stdout",
     "output_type": "stream",
     "text": [
      "Loading sigma8 emulator...\n",
      "Sigma8 emulator loaded in memory.\n",
      "Loading linear emulator...\n"
     ]
    },
    {
     "name": "stderr",
     "output_type": "stream",
     "text": [
      "/lscratch/dlopez/programs/miniconda_20221210/miniconda3/envs/VE_SBIBE/lib/python3.11/site-packages/sklearn/base.py:348: InconsistentVersionWarning: Trying to unpickle estimator PCA from version 1.0 when using version 1.3.2. This might lead to breaking code or invalid results. Use at your own risk. For more info please refer to:\n",
      "https://scikit-learn.org/stable/model_persistence.html#security-maintainability-limitations\n",
      "  warnings.warn(\n",
      "/lscratch/dlopez/programs/miniconda_20221210/miniconda3/envs/VE_SBIBE/lib/python3.11/site-packages/sklearn/base.py:348: InconsistentVersionWarning: Trying to unpickle estimator StandardScaler from version 1.0 when using version 1.3.2. This might lead to breaking code or invalid results. Use at your own risk. For more info please refer to:\n",
      "https://scikit-learn.org/stable/model_persistence.html#security-maintainability-limitations\n",
      "  warnings.warn(\n",
      "/lscratch/dlopez/programs/miniconda_20221210/miniconda3/envs/VE_SBIBE/lib/python3.11/site-packages/sklearn/base.py:348: InconsistentVersionWarning: Trying to unpickle estimator PCA from version 1.0 when using version 1.3.2. This might lead to breaking code or invalid results. Use at your own risk. For more info please refer to:\n",
      "https://scikit-learn.org/stable/model_persistence.html#security-maintainability-limitations\n",
      "  warnings.warn(\n",
      "/lscratch/dlopez/programs/miniconda_20221210/miniconda3/envs/VE_SBIBE/lib/python3.11/site-packages/sklearn/base.py:348: InconsistentVersionWarning: Trying to unpickle estimator StandardScaler from version 1.0 when using version 1.3.2. This might lead to breaking code or invalid results. Use at your own risk. For more info please refer to:\n",
      "https://scikit-learn.org/stable/model_persistence.html#security-maintainability-limitations\n",
      "  warnings.warn(\n"
     ]
    },
    {
     "name": "stdout",
     "output_type": "stream",
     "text": [
      "Linear emulator loaded in memory.\n",
      "Loading no-wiggles emulator...\n",
      "No-wiggles emulator loaded in memory.\n",
      "Loading non-linear emulator...\n"
     ]
    },
    {
     "name": "stderr",
     "output_type": "stream",
     "text": [
      "/lscratch/dlopez/programs/miniconda_20221210/miniconda3/envs/VE_SBIBE/lib/python3.11/site-packages/sklearn/base.py:348: InconsistentVersionWarning: Trying to unpickle estimator StandardScaler from version 1.0.2 when using version 1.3.2. This might lead to breaking code or invalid results. Use at your own risk. For more info please refer to:\n",
      "https://scikit-learn.org/stable/model_persistence.html#security-maintainability-limitations\n",
      "  warnings.warn(\n",
      "/lscratch/dlopez/programs/miniconda_20221210/miniconda3/envs/VE_SBIBE/lib/python3.11/site-packages/sklearn/base.py:348: InconsistentVersionWarning: Trying to unpickle estimator StandardScaler from version 0.22.1 when using version 1.3.2. This might lead to breaking code or invalid results. Use at your own risk. For more info please refer to:\n",
      "https://scikit-learn.org/stable/model_persistence.html#security-maintainability-limitations\n",
      "  warnings.warn(\n",
      "/lscratch/dlopez/programs/miniconda_20221210/miniconda3/envs/VE_SBIBE/lib/python3.11/site-packages/sklearn/base.py:348: InconsistentVersionWarning: Trying to unpickle estimator PCA from version 0.22.1 when using version 1.3.2. This might lead to breaking code or invalid results. Use at your own risk. For more info please refer to:\n",
      "https://scikit-learn.org/stable/model_persistence.html#security-maintainability-limitations\n",
      "  warnings.warn(\n"
     ]
    },
    {
     "name": "stdout",
     "output_type": "stream",
     "text": [
      "Nonlinear emulator loaded in memory.\n",
      "Loading Baryonic Emulator...\n",
      "Baryonic Emulator loaded in memory.\n"
     ]
    },
    {
     "name": "stderr",
     "output_type": "stream",
     "text": [
      "/lscratch/dlopez/programs/miniconda_20221210/miniconda3/envs/VE_SBIBE/lib/python3.11/site-packages/sklearn/base.py:348: InconsistentVersionWarning: Trying to unpickle estimator StandardScaler from version 0.23.2 when using version 1.3.2. This might lead to breaking code or invalid results. Use at your own risk. For more info please refer to:\n",
      "https://scikit-learn.org/stable/model_persistence.html#security-maintainability-limitations\n",
      "  warnings.warn(\n",
      "/lscratch/dlopez/programs/miniconda_20221210/miniconda3/envs/VE_SBIBE/lib/python3.11/site-packages/sklearn/base.py:348: InconsistentVersionWarning: Trying to unpickle estimator PCA from version 0.23.2 when using version 1.3.2. This might lead to breaking code or invalid results. Use at your own risk. For more info please refer to:\n",
      "https://scikit-learn.org/stable/model_persistence.html#security-maintainability-limitations\n",
      "  warnings.warn(\n"
     ]
    },
    {
     "name": "stdout",
     "output_type": "stream",
     "text": [
      "Loading sigma8 emulator...\n",
      "Sigma8 emulator loaded in memory.\n",
      "Loading linear emulator...\n"
     ]
    },
    {
     "name": "stderr",
     "output_type": "stream",
     "text": [
      "/lscratch/dlopez/programs/miniconda_20221210/miniconda3/envs/VE_SBIBE/lib/python3.11/site-packages/sklearn/base.py:348: InconsistentVersionWarning: Trying to unpickle estimator PCA from version 1.0 when using version 1.3.2. This might lead to breaking code or invalid results. Use at your own risk. For more info please refer to:\n",
      "https://scikit-learn.org/stable/model_persistence.html#security-maintainability-limitations\n",
      "  warnings.warn(\n",
      "/lscratch/dlopez/programs/miniconda_20221210/miniconda3/envs/VE_SBIBE/lib/python3.11/site-packages/sklearn/base.py:348: InconsistentVersionWarning: Trying to unpickle estimator StandardScaler from version 1.0 when using version 1.3.2. This might lead to breaking code or invalid results. Use at your own risk. For more info please refer to:\n",
      "https://scikit-learn.org/stable/model_persistence.html#security-maintainability-limitations\n",
      "  warnings.warn(\n",
      "/lscratch/dlopez/programs/miniconda_20221210/miniconda3/envs/VE_SBIBE/lib/python3.11/site-packages/sklearn/base.py:348: InconsistentVersionWarning: Trying to unpickle estimator PCA from version 1.0 when using version 1.3.2. This might lead to breaking code or invalid results. Use at your own risk. For more info please refer to:\n",
      "https://scikit-learn.org/stable/model_persistence.html#security-maintainability-limitations\n",
      "  warnings.warn(\n",
      "/lscratch/dlopez/programs/miniconda_20221210/miniconda3/envs/VE_SBIBE/lib/python3.11/site-packages/sklearn/base.py:348: InconsistentVersionWarning: Trying to unpickle estimator StandardScaler from version 1.0 when using version 1.3.2. This might lead to breaking code or invalid results. Use at your own risk. For more info please refer to:\n",
      "https://scikit-learn.org/stable/model_persistence.html#security-maintainability-limitations\n",
      "  warnings.warn(\n",
      "/lscratch/dlopez/programs/miniconda_20221210/miniconda3/envs/VE_SBIBE/lib/python3.11/site-packages/sklearn/base.py:348: InconsistentVersionWarning: Trying to unpickle estimator StandardScaler from version 1.0.2 when using version 1.3.2. This might lead to breaking code or invalid results. Use at your own risk. For more info please refer to:\n",
      "https://scikit-learn.org/stable/model_persistence.html#security-maintainability-limitations\n",
      "  warnings.warn(\n"
     ]
    },
    {
     "name": "stdout",
     "output_type": "stream",
     "text": [
      "Linear emulator loaded in memory.\n",
      "Loading no-wiggles emulator...\n",
      "No-wiggles emulator loaded in memory.\n",
      "Loading non-linear emulator...\n"
     ]
    },
    {
     "name": "stderr",
     "output_type": "stream",
     "text": [
      "/lscratch/dlopez/programs/miniconda_20221210/miniconda3/envs/VE_SBIBE/lib/python3.11/site-packages/sklearn/base.py:348: InconsistentVersionWarning: Trying to unpickle estimator StandardScaler from version 0.22.1 when using version 1.3.2. This might lead to breaking code or invalid results. Use at your own risk. For more info please refer to:\n",
      "https://scikit-learn.org/stable/model_persistence.html#security-maintainability-limitations\n",
      "  warnings.warn(\n",
      "/lscratch/dlopez/programs/miniconda_20221210/miniconda3/envs/VE_SBIBE/lib/python3.11/site-packages/sklearn/base.py:348: InconsistentVersionWarning: Trying to unpickle estimator PCA from version 0.22.1 when using version 1.3.2. This might lead to breaking code or invalid results. Use at your own risk. For more info please refer to:\n",
      "https://scikit-learn.org/stable/model_persistence.html#security-maintainability-limitations\n",
      "  warnings.warn(\n",
      "/lscratch/dlopez/programs/miniconda_20221210/miniconda3/envs/VE_SBIBE/lib/python3.11/site-packages/sklearn/base.py:348: InconsistentVersionWarning: Trying to unpickle estimator StandardScaler from version 0.23.2 when using version 1.3.2. This might lead to breaking code or invalid results. Use at your own risk. For more info please refer to:\n",
      "https://scikit-learn.org/stable/model_persistence.html#security-maintainability-limitations\n",
      "  warnings.warn(\n",
      "/lscratch/dlopez/programs/miniconda_20221210/miniconda3/envs/VE_SBIBE/lib/python3.11/site-packages/sklearn/base.py:348: InconsistentVersionWarning: Trying to unpickle estimator PCA from version 0.23.2 when using version 1.3.2. This might lead to breaking code or invalid results. Use at your own risk. For more info please refer to:\n",
      "https://scikit-learn.org/stable/model_persistence.html#security-maintainability-limitations\n",
      "  warnings.warn(\n"
     ]
    },
    {
     "name": "stdout",
     "output_type": "stream",
     "text": [
      "Nonlinear emulator loaded in memory.\n",
      "Loading Baryonic Emulator...\n",
      "Baryonic Emulator loaded in memory.\n",
      "Loading sigma8 emulator...\n",
      "Sigma8 emulator loaded in memory.\n",
      "Loading linear emulator...\n"
     ]
    },
    {
     "name": "stderr",
     "output_type": "stream",
     "text": [
      "/lscratch/dlopez/programs/miniconda_20221210/miniconda3/envs/VE_SBIBE/lib/python3.11/site-packages/sklearn/base.py:348: InconsistentVersionWarning: Trying to unpickle estimator PCA from version 1.0 when using version 1.3.2. This might lead to breaking code or invalid results. Use at your own risk. For more info please refer to:\n",
      "https://scikit-learn.org/stable/model_persistence.html#security-maintainability-limitations\n",
      "  warnings.warn(\n",
      "/lscratch/dlopez/programs/miniconda_20221210/miniconda3/envs/VE_SBIBE/lib/python3.11/site-packages/sklearn/base.py:348: InconsistentVersionWarning: Trying to unpickle estimator StandardScaler from version 1.0 when using version 1.3.2. This might lead to breaking code or invalid results. Use at your own risk. For more info please refer to:\n",
      "https://scikit-learn.org/stable/model_persistence.html#security-maintainability-limitations\n",
      "  warnings.warn(\n",
      "/lscratch/dlopez/programs/miniconda_20221210/miniconda3/envs/VE_SBIBE/lib/python3.11/site-packages/sklearn/base.py:348: InconsistentVersionWarning: Trying to unpickle estimator PCA from version 1.0 when using version 1.3.2. This might lead to breaking code or invalid results. Use at your own risk. For more info please refer to:\n",
      "https://scikit-learn.org/stable/model_persistence.html#security-maintainability-limitations\n",
      "  warnings.warn(\n",
      "/lscratch/dlopez/programs/miniconda_20221210/miniconda3/envs/VE_SBIBE/lib/python3.11/site-packages/sklearn/base.py:348: InconsistentVersionWarning: Trying to unpickle estimator StandardScaler from version 1.0 when using version 1.3.2. This might lead to breaking code or invalid results. Use at your own risk. For more info please refer to:\n",
      "https://scikit-learn.org/stable/model_persistence.html#security-maintainability-limitations\n",
      "  warnings.warn(\n"
     ]
    },
    {
     "name": "stdout",
     "output_type": "stream",
     "text": [
      "Linear emulator loaded in memory.\n",
      "Loading no-wiggles emulator...\n",
      "No-wiggles emulator loaded in memory.\n",
      "Loading non-linear emulator...\n"
     ]
    },
    {
     "name": "stderr",
     "output_type": "stream",
     "text": [
      "/lscratch/dlopez/programs/miniconda_20221210/miniconda3/envs/VE_SBIBE/lib/python3.11/site-packages/sklearn/base.py:348: InconsistentVersionWarning: Trying to unpickle estimator StandardScaler from version 1.0.2 when using version 1.3.2. This might lead to breaking code or invalid results. Use at your own risk. For more info please refer to:\n",
      "https://scikit-learn.org/stable/model_persistence.html#security-maintainability-limitations\n",
      "  warnings.warn(\n",
      "/lscratch/dlopez/programs/miniconda_20221210/miniconda3/envs/VE_SBIBE/lib/python3.11/site-packages/sklearn/base.py:348: InconsistentVersionWarning: Trying to unpickle estimator StandardScaler from version 0.22.1 when using version 1.3.2. This might lead to breaking code or invalid results. Use at your own risk. For more info please refer to:\n",
      "https://scikit-learn.org/stable/model_persistence.html#security-maintainability-limitations\n",
      "  warnings.warn(\n",
      "/lscratch/dlopez/programs/miniconda_20221210/miniconda3/envs/VE_SBIBE/lib/python3.11/site-packages/sklearn/base.py:348: InconsistentVersionWarning: Trying to unpickle estimator PCA from version 0.22.1 when using version 1.3.2. This might lead to breaking code or invalid results. Use at your own risk. For more info please refer to:\n",
      "https://scikit-learn.org/stable/model_persistence.html#security-maintainability-limitations\n",
      "  warnings.warn(\n"
     ]
    },
    {
     "name": "stdout",
     "output_type": "stream",
     "text": [
      "Nonlinear emulator loaded in memory.\n",
      "Loading Baryonic Emulator...\n",
      "Baryonic Emulator loaded in memory.\n"
     ]
    },
    {
     "name": "stderr",
     "output_type": "stream",
     "text": [
      "/lscratch/dlopez/programs/miniconda_20221210/miniconda3/envs/VE_SBIBE/lib/python3.11/site-packages/sklearn/base.py:348: InconsistentVersionWarning: Trying to unpickle estimator StandardScaler from version 0.23.2 when using version 1.3.2. This might lead to breaking code or invalid results. Use at your own risk. For more info please refer to:\n",
      "https://scikit-learn.org/stable/model_persistence.html#security-maintainability-limitations\n",
      "  warnings.warn(\n",
      "/lscratch/dlopez/programs/miniconda_20221210/miniconda3/envs/VE_SBIBE/lib/python3.11/site-packages/sklearn/base.py:348: InconsistentVersionWarning: Trying to unpickle estimator PCA from version 0.23.2 when using version 1.3.2. This might lead to breaking code or invalid results. Use at your own risk. For more info please refer to:\n",
      "https://scikit-learn.org/stable/model_persistence.html#security-maintainability-limitations\n",
      "  warnings.warn(\n"
     ]
    },
    {
     "name": "stdout",
     "output_type": "stream",
     "text": [
      "Loading sigma8 emulator...\n",
      "Sigma8 emulator loaded in memory.\n",
      "Loading linear emulator...\n"
     ]
    },
    {
     "name": "stderr",
     "output_type": "stream",
     "text": [
      "/lscratch/dlopez/programs/miniconda_20221210/miniconda3/envs/VE_SBIBE/lib/python3.11/site-packages/sklearn/base.py:348: InconsistentVersionWarning: Trying to unpickle estimator PCA from version 1.0 when using version 1.3.2. This might lead to breaking code or invalid results. Use at your own risk. For more info please refer to:\n",
      "https://scikit-learn.org/stable/model_persistence.html#security-maintainability-limitations\n",
      "  warnings.warn(\n",
      "/lscratch/dlopez/programs/miniconda_20221210/miniconda3/envs/VE_SBIBE/lib/python3.11/site-packages/sklearn/base.py:348: InconsistentVersionWarning: Trying to unpickle estimator StandardScaler from version 1.0 when using version 1.3.2. This might lead to breaking code or invalid results. Use at your own risk. For more info please refer to:\n",
      "https://scikit-learn.org/stable/model_persistence.html#security-maintainability-limitations\n",
      "  warnings.warn(\n",
      "/lscratch/dlopez/programs/miniconda_20221210/miniconda3/envs/VE_SBIBE/lib/python3.11/site-packages/sklearn/base.py:348: InconsistentVersionWarning: Trying to unpickle estimator PCA from version 1.0 when using version 1.3.2. This might lead to breaking code or invalid results. Use at your own risk. For more info please refer to:\n",
      "https://scikit-learn.org/stable/model_persistence.html#security-maintainability-limitations\n",
      "  warnings.warn(\n",
      "/lscratch/dlopez/programs/miniconda_20221210/miniconda3/envs/VE_SBIBE/lib/python3.11/site-packages/sklearn/base.py:348: InconsistentVersionWarning: Trying to unpickle estimator StandardScaler from version 1.0 when using version 1.3.2. This might lead to breaking code or invalid results. Use at your own risk. For more info please refer to:\n",
      "https://scikit-learn.org/stable/model_persistence.html#security-maintainability-limitations\n",
      "  warnings.warn(\n"
     ]
    },
    {
     "name": "stdout",
     "output_type": "stream",
     "text": [
      "Linear emulator loaded in memory.\n",
      "Loading no-wiggles emulator...\n"
     ]
    },
    {
     "name": "stderr",
     "output_type": "stream",
     "text": [
      "/lscratch/dlopez/programs/miniconda_20221210/miniconda3/envs/VE_SBIBE/lib/python3.11/site-packages/sklearn/base.py:348: InconsistentVersionWarning: Trying to unpickle estimator StandardScaler from version 1.0.2 when using version 1.3.2. This might lead to breaking code or invalid results. Use at your own risk. For more info please refer to:\n",
      "https://scikit-learn.org/stable/model_persistence.html#security-maintainability-limitations\n",
      "  warnings.warn(\n",
      "/lscratch/dlopez/programs/miniconda_20221210/miniconda3/envs/VE_SBIBE/lib/python3.11/site-packages/sklearn/base.py:348: InconsistentVersionWarning: Trying to unpickle estimator StandardScaler from version 0.22.1 when using version 1.3.2. This might lead to breaking code or invalid results. Use at your own risk. For more info please refer to:\n",
      "https://scikit-learn.org/stable/model_persistence.html#security-maintainability-limitations\n",
      "  warnings.warn(\n",
      "/lscratch/dlopez/programs/miniconda_20221210/miniconda3/envs/VE_SBIBE/lib/python3.11/site-packages/sklearn/base.py:348: InconsistentVersionWarning: Trying to unpickle estimator PCA from version 0.22.1 when using version 1.3.2. This might lead to breaking code or invalid results. Use at your own risk. For more info please refer to:\n",
      "https://scikit-learn.org/stable/model_persistence.html#security-maintainability-limitations\n",
      "  warnings.warn(\n"
     ]
    },
    {
     "name": "stdout",
     "output_type": "stream",
     "text": [
      "No-wiggles emulator loaded in memory.\n",
      "Loading non-linear emulator...\n",
      "Nonlinear emulator loaded in memory.\n",
      "Loading Baryonic Emulator...\n"
     ]
    },
    {
     "name": "stderr",
     "output_type": "stream",
     "text": [
      "/lscratch/dlopez/programs/miniconda_20221210/miniconda3/envs/VE_SBIBE/lib/python3.11/site-packages/sklearn/base.py:348: InconsistentVersionWarning: Trying to unpickle estimator StandardScaler from version 0.23.2 when using version 1.3.2. This might lead to breaking code or invalid results. Use at your own risk. For more info please refer to:\n",
      "https://scikit-learn.org/stable/model_persistence.html#security-maintainability-limitations\n",
      "  warnings.warn(\n",
      "/lscratch/dlopez/programs/miniconda_20221210/miniconda3/envs/VE_SBIBE/lib/python3.11/site-packages/sklearn/base.py:348: InconsistentVersionWarning: Trying to unpickle estimator PCA from version 0.23.2 when using version 1.3.2. This might lead to breaking code or invalid results. Use at your own risk. For more info please refer to:\n",
      "https://scikit-learn.org/stable/model_persistence.html#security-maintainability-limitations\n",
      "  warnings.warn(\n"
     ]
    },
    {
     "name": "stdout",
     "output_type": "stream",
     "text": [
      "Baryonic Emulator loaded in memory.\n",
      "Loading sigma8 emulator...\n",
      "Sigma8 emulator loaded in memory.\n",
      "Loading linear emulator...\n"
     ]
    },
    {
     "name": "stderr",
     "output_type": "stream",
     "text": [
      "/lscratch/dlopez/programs/miniconda_20221210/miniconda3/envs/VE_SBIBE/lib/python3.11/site-packages/sklearn/base.py:348: InconsistentVersionWarning: Trying to unpickle estimator PCA from version 1.0 when using version 1.3.2. This might lead to breaking code or invalid results. Use at your own risk. For more info please refer to:\n",
      "https://scikit-learn.org/stable/model_persistence.html#security-maintainability-limitations\n",
      "  warnings.warn(\n",
      "/lscratch/dlopez/programs/miniconda_20221210/miniconda3/envs/VE_SBIBE/lib/python3.11/site-packages/sklearn/base.py:348: InconsistentVersionWarning: Trying to unpickle estimator StandardScaler from version 1.0 when using version 1.3.2. This might lead to breaking code or invalid results. Use at your own risk. For more info please refer to:\n",
      "https://scikit-learn.org/stable/model_persistence.html#security-maintainability-limitations\n",
      "  warnings.warn(\n",
      "/lscratch/dlopez/programs/miniconda_20221210/miniconda3/envs/VE_SBIBE/lib/python3.11/site-packages/sklearn/base.py:348: InconsistentVersionWarning: Trying to unpickle estimator PCA from version 1.0 when using version 1.3.2. This might lead to breaking code or invalid results. Use at your own risk. For more info please refer to:\n",
      "https://scikit-learn.org/stable/model_persistence.html#security-maintainability-limitations\n",
      "  warnings.warn(\n",
      "/lscratch/dlopez/programs/miniconda_20221210/miniconda3/envs/VE_SBIBE/lib/python3.11/site-packages/sklearn/base.py:348: InconsistentVersionWarning: Trying to unpickle estimator StandardScaler from version 1.0 when using version 1.3.2. This might lead to breaking code or invalid results. Use at your own risk. For more info please refer to:\n",
      "https://scikit-learn.org/stable/model_persistence.html#security-maintainability-limitations\n",
      "  warnings.warn(\n"
     ]
    },
    {
     "name": "stdout",
     "output_type": "stream",
     "text": [
      "Linear emulator loaded in memory.\n",
      "Loading no-wiggles emulator...\n",
      "No-wiggles emulator loaded in memory.\n",
      "Loading non-linear emulator...\n"
     ]
    },
    {
     "name": "stderr",
     "output_type": "stream",
     "text": [
      "/lscratch/dlopez/programs/miniconda_20221210/miniconda3/envs/VE_SBIBE/lib/python3.11/site-packages/sklearn/base.py:348: InconsistentVersionWarning: Trying to unpickle estimator StandardScaler from version 1.0.2 when using version 1.3.2. This might lead to breaking code or invalid results. Use at your own risk. For more info please refer to:\n",
      "https://scikit-learn.org/stable/model_persistence.html#security-maintainability-limitations\n",
      "  warnings.warn(\n",
      "/lscratch/dlopez/programs/miniconda_20221210/miniconda3/envs/VE_SBIBE/lib/python3.11/site-packages/sklearn/base.py:348: InconsistentVersionWarning: Trying to unpickle estimator StandardScaler from version 0.22.1 when using version 1.3.2. This might lead to breaking code or invalid results. Use at your own risk. For more info please refer to:\n",
      "https://scikit-learn.org/stable/model_persistence.html#security-maintainability-limitations\n",
      "  warnings.warn(\n",
      "/lscratch/dlopez/programs/miniconda_20221210/miniconda3/envs/VE_SBIBE/lib/python3.11/site-packages/sklearn/base.py:348: InconsistentVersionWarning: Trying to unpickle estimator PCA from version 0.22.1 when using version 1.3.2. This might lead to breaking code or invalid results. Use at your own risk. For more info please refer to:\n",
      "https://scikit-learn.org/stable/model_persistence.html#security-maintainability-limitations\n",
      "  warnings.warn(\n"
     ]
    },
    {
     "name": "stdout",
     "output_type": "stream",
     "text": [
      "Nonlinear emulator loaded in memory.\n",
      "Loading Baryonic Emulator...\n",
      "Baryonic Emulator loaded in memory.\n"
     ]
    },
    {
     "name": "stderr",
     "output_type": "stream",
     "text": [
      "/lscratch/dlopez/programs/miniconda_20221210/miniconda3/envs/VE_SBIBE/lib/python3.11/site-packages/sklearn/base.py:348: InconsistentVersionWarning: Trying to unpickle estimator StandardScaler from version 0.23.2 when using version 1.3.2. This might lead to breaking code or invalid results. Use at your own risk. For more info please refer to:\n",
      "https://scikit-learn.org/stable/model_persistence.html#security-maintainability-limitations\n",
      "  warnings.warn(\n",
      "/lscratch/dlopez/programs/miniconda_20221210/miniconda3/envs/VE_SBIBE/lib/python3.11/site-packages/sklearn/base.py:348: InconsistentVersionWarning: Trying to unpickle estimator PCA from version 0.23.2 when using version 1.3.2. This might lead to breaking code or invalid results. Use at your own risk. For more info please refer to:\n",
      "https://scikit-learn.org/stable/model_persistence.html#security-maintainability-limitations\n",
      "  warnings.warn(\n"
     ]
    },
    {
     "name": "stdout",
     "output_type": "stream",
     "text": [
      "Loading sigma8 emulator...\n",
      "Sigma8 emulator loaded in memory.\n",
      "Loading linear emulator...\n"
     ]
    },
    {
     "name": "stderr",
     "output_type": "stream",
     "text": [
      "/lscratch/dlopez/programs/miniconda_20221210/miniconda3/envs/VE_SBIBE/lib/python3.11/site-packages/sklearn/base.py:348: InconsistentVersionWarning: Trying to unpickle estimator PCA from version 1.0 when using version 1.3.2. This might lead to breaking code or invalid results. Use at your own risk. For more info please refer to:\n",
      "https://scikit-learn.org/stable/model_persistence.html#security-maintainability-limitations\n",
      "  warnings.warn(\n",
      "/lscratch/dlopez/programs/miniconda_20221210/miniconda3/envs/VE_SBIBE/lib/python3.11/site-packages/sklearn/base.py:348: InconsistentVersionWarning: Trying to unpickle estimator StandardScaler from version 1.0 when using version 1.3.2. This might lead to breaking code or invalid results. Use at your own risk. For more info please refer to:\n",
      "https://scikit-learn.org/stable/model_persistence.html#security-maintainability-limitations\n",
      "  warnings.warn(\n",
      "/lscratch/dlopez/programs/miniconda_20221210/miniconda3/envs/VE_SBIBE/lib/python3.11/site-packages/sklearn/base.py:348: InconsistentVersionWarning: Trying to unpickle estimator PCA from version 1.0 when using version 1.3.2. This might lead to breaking code or invalid results. Use at your own risk. For more info please refer to:\n",
      "https://scikit-learn.org/stable/model_persistence.html#security-maintainability-limitations\n",
      "  warnings.warn(\n",
      "/lscratch/dlopez/programs/miniconda_20221210/miniconda3/envs/VE_SBIBE/lib/python3.11/site-packages/sklearn/base.py:348: InconsistentVersionWarning: Trying to unpickle estimator StandardScaler from version 1.0 when using version 1.3.2. This might lead to breaking code or invalid results. Use at your own risk. For more info please refer to:\n",
      "https://scikit-learn.org/stable/model_persistence.html#security-maintainability-limitations\n",
      "  warnings.warn(\n"
     ]
    },
    {
     "name": "stdout",
     "output_type": "stream",
     "text": [
      "Linear emulator loaded in memory.\n",
      "Loading no-wiggles emulator...\n",
      "No-wiggles emulator loaded in memory.\n",
      "Loading non-linear emulator...\n"
     ]
    },
    {
     "name": "stderr",
     "output_type": "stream",
     "text": [
      "/lscratch/dlopez/programs/miniconda_20221210/miniconda3/envs/VE_SBIBE/lib/python3.11/site-packages/sklearn/base.py:348: InconsistentVersionWarning: Trying to unpickle estimator StandardScaler from version 1.0.2 when using version 1.3.2. This might lead to breaking code or invalid results. Use at your own risk. For more info please refer to:\n",
      "https://scikit-learn.org/stable/model_persistence.html#security-maintainability-limitations\n",
      "  warnings.warn(\n",
      "/lscratch/dlopez/programs/miniconda_20221210/miniconda3/envs/VE_SBIBE/lib/python3.11/site-packages/sklearn/base.py:348: InconsistentVersionWarning: Trying to unpickle estimator StandardScaler from version 0.22.1 when using version 1.3.2. This might lead to breaking code or invalid results. Use at your own risk. For more info please refer to:\n",
      "https://scikit-learn.org/stable/model_persistence.html#security-maintainability-limitations\n",
      "  warnings.warn(\n",
      "/lscratch/dlopez/programs/miniconda_20221210/miniconda3/envs/VE_SBIBE/lib/python3.11/site-packages/sklearn/base.py:348: InconsistentVersionWarning: Trying to unpickle estimator PCA from version 0.22.1 when using version 1.3.2. This might lead to breaking code or invalid results. Use at your own risk. For more info please refer to:\n",
      "https://scikit-learn.org/stable/model_persistence.html#security-maintainability-limitations\n",
      "  warnings.warn(\n",
      "/lscratch/dlopez/programs/miniconda_20221210/miniconda3/envs/VE_SBIBE/lib/python3.11/site-packages/sklearn/base.py:348: InconsistentVersionWarning: Trying to unpickle estimator StandardScaler from version 0.23.2 when using version 1.3.2. This might lead to breaking code or invalid results. Use at your own risk. For more info please refer to:\n",
      "https://scikit-learn.org/stable/model_persistence.html#security-maintainability-limitations\n",
      "  warnings.warn(\n",
      "/lscratch/dlopez/programs/miniconda_20221210/miniconda3/envs/VE_SBIBE/lib/python3.11/site-packages/sklearn/base.py:348: InconsistentVersionWarning: Trying to unpickle estimator PCA from version 0.23.2 when using version 1.3.2. This might lead to breaking code or invalid results. Use at your own risk. For more info please refer to:\n",
      "https://scikit-learn.org/stable/model_persistence.html#security-maintainability-limitations\n",
      "  warnings.warn(\n"
     ]
    },
    {
     "name": "stdout",
     "output_type": "stream",
     "text": [
      "Nonlinear emulator loaded in memory.\n",
      "Loading Baryonic Emulator...\n",
      "Baryonic Emulator loaded in memory.\n",
      "Loading sigma8 emulator...\n",
      "Sigma8 emulator loaded in memory.\n",
      "Loading linear emulator...\n"
     ]
    },
    {
     "name": "stderr",
     "output_type": "stream",
     "text": [
      "/lscratch/dlopez/programs/miniconda_20221210/miniconda3/envs/VE_SBIBE/lib/python3.11/site-packages/sklearn/base.py:348: InconsistentVersionWarning: Trying to unpickle estimator PCA from version 1.0 when using version 1.3.2. This might lead to breaking code or invalid results. Use at your own risk. For more info please refer to:\n",
      "https://scikit-learn.org/stable/model_persistence.html#security-maintainability-limitations\n",
      "  warnings.warn(\n",
      "/lscratch/dlopez/programs/miniconda_20221210/miniconda3/envs/VE_SBIBE/lib/python3.11/site-packages/sklearn/base.py:348: InconsistentVersionWarning: Trying to unpickle estimator StandardScaler from version 1.0 when using version 1.3.2. This might lead to breaking code or invalid results. Use at your own risk. For more info please refer to:\n",
      "https://scikit-learn.org/stable/model_persistence.html#security-maintainability-limitations\n",
      "  warnings.warn(\n",
      "/lscratch/dlopez/programs/miniconda_20221210/miniconda3/envs/VE_SBIBE/lib/python3.11/site-packages/sklearn/base.py:348: InconsistentVersionWarning: Trying to unpickle estimator PCA from version 1.0 when using version 1.3.2. This might lead to breaking code or invalid results. Use at your own risk. For more info please refer to:\n",
      "https://scikit-learn.org/stable/model_persistence.html#security-maintainability-limitations\n",
      "  warnings.warn(\n",
      "/lscratch/dlopez/programs/miniconda_20221210/miniconda3/envs/VE_SBIBE/lib/python3.11/site-packages/sklearn/base.py:348: InconsistentVersionWarning: Trying to unpickle estimator StandardScaler from version 1.0 when using version 1.3.2. This might lead to breaking code or invalid results. Use at your own risk. For more info please refer to:\n",
      "https://scikit-learn.org/stable/model_persistence.html#security-maintainability-limitations\n",
      "  warnings.warn(\n"
     ]
    },
    {
     "name": "stdout",
     "output_type": "stream",
     "text": [
      "Linear emulator loaded in memory.\n",
      "Loading no-wiggles emulator...\n",
      "No-wiggles emulator loaded in memory.\n",
      "Loading non-linear emulator...\n"
     ]
    },
    {
     "name": "stderr",
     "output_type": "stream",
     "text": [
      "/lscratch/dlopez/programs/miniconda_20221210/miniconda3/envs/VE_SBIBE/lib/python3.11/site-packages/sklearn/base.py:348: InconsistentVersionWarning: Trying to unpickle estimator StandardScaler from version 1.0.2 when using version 1.3.2. This might lead to breaking code or invalid results. Use at your own risk. For more info please refer to:\n",
      "https://scikit-learn.org/stable/model_persistence.html#security-maintainability-limitations\n",
      "  warnings.warn(\n",
      "/lscratch/dlopez/programs/miniconda_20221210/miniconda3/envs/VE_SBIBE/lib/python3.11/site-packages/sklearn/base.py:348: InconsistentVersionWarning: Trying to unpickle estimator StandardScaler from version 0.22.1 when using version 1.3.2. This might lead to breaking code or invalid results. Use at your own risk. For more info please refer to:\n",
      "https://scikit-learn.org/stable/model_persistence.html#security-maintainability-limitations\n",
      "  warnings.warn(\n",
      "/lscratch/dlopez/programs/miniconda_20221210/miniconda3/envs/VE_SBIBE/lib/python3.11/site-packages/sklearn/base.py:348: InconsistentVersionWarning: Trying to unpickle estimator PCA from version 0.22.1 when using version 1.3.2. This might lead to breaking code or invalid results. Use at your own risk. For more info please refer to:\n",
      "https://scikit-learn.org/stable/model_persistence.html#security-maintainability-limitations\n",
      "  warnings.warn(\n"
     ]
    },
    {
     "name": "stdout",
     "output_type": "stream",
     "text": [
      "Nonlinear emulator loaded in memory.\n",
      "Loading Baryonic Emulator...\n",
      "Baryonic Emulator loaded in memory.\n"
     ]
    },
    {
     "name": "stderr",
     "output_type": "stream",
     "text": [
      "/lscratch/dlopez/programs/miniconda_20221210/miniconda3/envs/VE_SBIBE/lib/python3.11/site-packages/sklearn/base.py:348: InconsistentVersionWarning: Trying to unpickle estimator StandardScaler from version 0.23.2 when using version 1.3.2. This might lead to breaking code or invalid results. Use at your own risk. For more info please refer to:\n",
      "https://scikit-learn.org/stable/model_persistence.html#security-maintainability-limitations\n",
      "  warnings.warn(\n",
      "/lscratch/dlopez/programs/miniconda_20221210/miniconda3/envs/VE_SBIBE/lib/python3.11/site-packages/sklearn/base.py:348: InconsistentVersionWarning: Trying to unpickle estimator PCA from version 0.23.2 when using version 1.3.2. This might lead to breaking code or invalid results. Use at your own risk. For more info please refer to:\n",
      "https://scikit-learn.org/stable/model_persistence.html#security-maintainability-limitations\n",
      "  warnings.warn(\n"
     ]
    },
    {
     "name": "stdout",
     "output_type": "stream",
     "text": [
      "Loading sigma8 emulator...\n",
      "Sigma8 emulator loaded in memory.\n",
      "Loading linear emulator...\n"
     ]
    },
    {
     "name": "stderr",
     "output_type": "stream",
     "text": [
      "/lscratch/dlopez/programs/miniconda_20221210/miniconda3/envs/VE_SBIBE/lib/python3.11/site-packages/sklearn/base.py:348: InconsistentVersionWarning: Trying to unpickle estimator PCA from version 1.0 when using version 1.3.2. This might lead to breaking code or invalid results. Use at your own risk. For more info please refer to:\n",
      "https://scikit-learn.org/stable/model_persistence.html#security-maintainability-limitations\n",
      "  warnings.warn(\n",
      "/lscratch/dlopez/programs/miniconda_20221210/miniconda3/envs/VE_SBIBE/lib/python3.11/site-packages/sklearn/base.py:348: InconsistentVersionWarning: Trying to unpickle estimator StandardScaler from version 1.0 when using version 1.3.2. This might lead to breaking code or invalid results. Use at your own risk. For more info please refer to:\n",
      "https://scikit-learn.org/stable/model_persistence.html#security-maintainability-limitations\n",
      "  warnings.warn(\n",
      "/lscratch/dlopez/programs/miniconda_20221210/miniconda3/envs/VE_SBIBE/lib/python3.11/site-packages/sklearn/base.py:348: InconsistentVersionWarning: Trying to unpickle estimator PCA from version 1.0 when using version 1.3.2. This might lead to breaking code or invalid results. Use at your own risk. For more info please refer to:\n",
      "https://scikit-learn.org/stable/model_persistence.html#security-maintainability-limitations\n",
      "  warnings.warn(\n",
      "/lscratch/dlopez/programs/miniconda_20221210/miniconda3/envs/VE_SBIBE/lib/python3.11/site-packages/sklearn/base.py:348: InconsistentVersionWarning: Trying to unpickle estimator StandardScaler from version 1.0 when using version 1.3.2. This might lead to breaking code or invalid results. Use at your own risk. For more info please refer to:\n",
      "https://scikit-learn.org/stable/model_persistence.html#security-maintainability-limitations\n",
      "  warnings.warn(\n"
     ]
    },
    {
     "name": "stdout",
     "output_type": "stream",
     "text": [
      "Linear emulator loaded in memory.\n",
      "Loading no-wiggles emulator...\n"
     ]
    },
    {
     "name": "stderr",
     "output_type": "stream",
     "text": [
      "/lscratch/dlopez/programs/miniconda_20221210/miniconda3/envs/VE_SBIBE/lib/python3.11/site-packages/sklearn/base.py:348: InconsistentVersionWarning: Trying to unpickle estimator StandardScaler from version 1.0.2 when using version 1.3.2. This might lead to breaking code or invalid results. Use at your own risk. For more info please refer to:\n",
      "https://scikit-learn.org/stable/model_persistence.html#security-maintainability-limitations\n",
      "  warnings.warn(\n",
      "/lscratch/dlopez/programs/miniconda_20221210/miniconda3/envs/VE_SBIBE/lib/python3.11/site-packages/sklearn/base.py:348: InconsistentVersionWarning: Trying to unpickle estimator StandardScaler from version 0.22.1 when using version 1.3.2. This might lead to breaking code or invalid results. Use at your own risk. For more info please refer to:\n",
      "https://scikit-learn.org/stable/model_persistence.html#security-maintainability-limitations\n",
      "  warnings.warn(\n",
      "/lscratch/dlopez/programs/miniconda_20221210/miniconda3/envs/VE_SBIBE/lib/python3.11/site-packages/sklearn/base.py:348: InconsistentVersionWarning: Trying to unpickle estimator PCA from version 0.22.1 when using version 1.3.2. This might lead to breaking code or invalid results. Use at your own risk. For more info please refer to:\n",
      "https://scikit-learn.org/stable/model_persistence.html#security-maintainability-limitations\n",
      "  warnings.warn(\n"
     ]
    },
    {
     "name": "stdout",
     "output_type": "stream",
     "text": [
      "No-wiggles emulator loaded in memory.\n",
      "Loading non-linear emulator...\n",
      "Nonlinear emulator loaded in memory.\n",
      "Loading Baryonic Emulator...\n"
     ]
    },
    {
     "name": "stderr",
     "output_type": "stream",
     "text": [
      "/lscratch/dlopez/programs/miniconda_20221210/miniconda3/envs/VE_SBIBE/lib/python3.11/site-packages/sklearn/base.py:348: InconsistentVersionWarning: Trying to unpickle estimator StandardScaler from version 0.23.2 when using version 1.3.2. This might lead to breaking code or invalid results. Use at your own risk. For more info please refer to:\n",
      "https://scikit-learn.org/stable/model_persistence.html#security-maintainability-limitations\n",
      "  warnings.warn(\n",
      "/lscratch/dlopez/programs/miniconda_20221210/miniconda3/envs/VE_SBIBE/lib/python3.11/site-packages/sklearn/base.py:348: InconsistentVersionWarning: Trying to unpickle estimator PCA from version 0.23.2 when using version 1.3.2. This might lead to breaking code or invalid results. Use at your own risk. For more info please refer to:\n",
      "https://scikit-learn.org/stable/model_persistence.html#security-maintainability-limitations\n",
      "  warnings.warn(\n"
     ]
    },
    {
     "name": "stdout",
     "output_type": "stream",
     "text": [
      "Baryonic Emulator loaded in memory.\n",
      "Loading sigma8 emulator...\n",
      "Sigma8 emulator loaded in memory.\n",
      "Loading linear emulator...\n"
     ]
    },
    {
     "name": "stderr",
     "output_type": "stream",
     "text": [
      "/lscratch/dlopez/programs/miniconda_20221210/miniconda3/envs/VE_SBIBE/lib/python3.11/site-packages/sklearn/base.py:348: InconsistentVersionWarning: Trying to unpickle estimator PCA from version 1.0 when using version 1.3.2. This might lead to breaking code or invalid results. Use at your own risk. For more info please refer to:\n",
      "https://scikit-learn.org/stable/model_persistence.html#security-maintainability-limitations\n",
      "  warnings.warn(\n",
      "/lscratch/dlopez/programs/miniconda_20221210/miniconda3/envs/VE_SBIBE/lib/python3.11/site-packages/sklearn/base.py:348: InconsistentVersionWarning: Trying to unpickle estimator StandardScaler from version 1.0 when using version 1.3.2. This might lead to breaking code or invalid results. Use at your own risk. For more info please refer to:\n",
      "https://scikit-learn.org/stable/model_persistence.html#security-maintainability-limitations\n",
      "  warnings.warn(\n",
      "/lscratch/dlopez/programs/miniconda_20221210/miniconda3/envs/VE_SBIBE/lib/python3.11/site-packages/sklearn/base.py:348: InconsistentVersionWarning: Trying to unpickle estimator PCA from version 1.0 when using version 1.3.2. This might lead to breaking code or invalid results. Use at your own risk. For more info please refer to:\n",
      "https://scikit-learn.org/stable/model_persistence.html#security-maintainability-limitations\n",
      "  warnings.warn(\n",
      "/lscratch/dlopez/programs/miniconda_20221210/miniconda3/envs/VE_SBIBE/lib/python3.11/site-packages/sklearn/base.py:348: InconsistentVersionWarning: Trying to unpickle estimator StandardScaler from version 1.0 when using version 1.3.2. This might lead to breaking code or invalid results. Use at your own risk. For more info please refer to:\n",
      "https://scikit-learn.org/stable/model_persistence.html#security-maintainability-limitations\n",
      "  warnings.warn(\n"
     ]
    },
    {
     "name": "stdout",
     "output_type": "stream",
     "text": [
      "Linear emulator loaded in memory.\n",
      "Loading no-wiggles emulator...\n",
      "No-wiggles emulator loaded in memory.\n",
      "Loading non-linear emulator...\n"
     ]
    },
    {
     "name": "stderr",
     "output_type": "stream",
     "text": [
      "/lscratch/dlopez/programs/miniconda_20221210/miniconda3/envs/VE_SBIBE/lib/python3.11/site-packages/sklearn/base.py:348: InconsistentVersionWarning: Trying to unpickle estimator StandardScaler from version 1.0.2 when using version 1.3.2. This might lead to breaking code or invalid results. Use at your own risk. For more info please refer to:\n",
      "https://scikit-learn.org/stable/model_persistence.html#security-maintainability-limitations\n",
      "  warnings.warn(\n",
      "/lscratch/dlopez/programs/miniconda_20221210/miniconda3/envs/VE_SBIBE/lib/python3.11/site-packages/sklearn/base.py:348: InconsistentVersionWarning: Trying to unpickle estimator StandardScaler from version 0.22.1 when using version 1.3.2. This might lead to breaking code or invalid results. Use at your own risk. For more info please refer to:\n",
      "https://scikit-learn.org/stable/model_persistence.html#security-maintainability-limitations\n",
      "  warnings.warn(\n",
      "/lscratch/dlopez/programs/miniconda_20221210/miniconda3/envs/VE_SBIBE/lib/python3.11/site-packages/sklearn/base.py:348: InconsistentVersionWarning: Trying to unpickle estimator PCA from version 0.22.1 when using version 1.3.2. This might lead to breaking code or invalid results. Use at your own risk. For more info please refer to:\n",
      "https://scikit-learn.org/stable/model_persistence.html#security-maintainability-limitations\n",
      "  warnings.warn(\n"
     ]
    },
    {
     "name": "stdout",
     "output_type": "stream",
     "text": [
      "Nonlinear emulator loaded in memory.\n",
      "Loading Baryonic Emulator...\n",
      "Baryonic Emulator loaded in memory.\n"
     ]
    },
    {
     "name": "stderr",
     "output_type": "stream",
     "text": [
      "/lscratch/dlopez/programs/miniconda_20221210/miniconda3/envs/VE_SBIBE/lib/python3.11/site-packages/sklearn/base.py:348: InconsistentVersionWarning: Trying to unpickle estimator StandardScaler from version 0.23.2 when using version 1.3.2. This might lead to breaking code or invalid results. Use at your own risk. For more info please refer to:\n",
      "https://scikit-learn.org/stable/model_persistence.html#security-maintainability-limitations\n",
      "  warnings.warn(\n",
      "/lscratch/dlopez/programs/miniconda_20221210/miniconda3/envs/VE_SBIBE/lib/python3.11/site-packages/sklearn/base.py:348: InconsistentVersionWarning: Trying to unpickle estimator PCA from version 0.23.2 when using version 1.3.2. This might lead to breaking code or invalid results. Use at your own risk. For more info please refer to:\n",
      "https://scikit-learn.org/stable/model_persistence.html#security-maintainability-limitations\n",
      "  warnings.warn(\n"
     ]
    },
    {
     "name": "stdout",
     "output_type": "stream",
     "text": [
      "Loading sigma8 emulator...\n",
      "Sigma8 emulator loaded in memory.\n",
      "Loading linear emulator...\n"
     ]
    },
    {
     "name": "stderr",
     "output_type": "stream",
     "text": [
      "/lscratch/dlopez/programs/miniconda_20221210/miniconda3/envs/VE_SBIBE/lib/python3.11/site-packages/sklearn/base.py:348: InconsistentVersionWarning: Trying to unpickle estimator PCA from version 1.0 when using version 1.3.2. This might lead to breaking code or invalid results. Use at your own risk. For more info please refer to:\n",
      "https://scikit-learn.org/stable/model_persistence.html#security-maintainability-limitations\n",
      "  warnings.warn(\n",
      "/lscratch/dlopez/programs/miniconda_20221210/miniconda3/envs/VE_SBIBE/lib/python3.11/site-packages/sklearn/base.py:348: InconsistentVersionWarning: Trying to unpickle estimator StandardScaler from version 1.0 when using version 1.3.2. This might lead to breaking code or invalid results. Use at your own risk. For more info please refer to:\n",
      "https://scikit-learn.org/stable/model_persistence.html#security-maintainability-limitations\n",
      "  warnings.warn(\n",
      "/lscratch/dlopez/programs/miniconda_20221210/miniconda3/envs/VE_SBIBE/lib/python3.11/site-packages/sklearn/base.py:348: InconsistentVersionWarning: Trying to unpickle estimator PCA from version 1.0 when using version 1.3.2. This might lead to breaking code or invalid results. Use at your own risk. For more info please refer to:\n",
      "https://scikit-learn.org/stable/model_persistence.html#security-maintainability-limitations\n",
      "  warnings.warn(\n",
      "/lscratch/dlopez/programs/miniconda_20221210/miniconda3/envs/VE_SBIBE/lib/python3.11/site-packages/sklearn/base.py:348: InconsistentVersionWarning: Trying to unpickle estimator StandardScaler from version 1.0 when using version 1.3.2. This might lead to breaking code or invalid results. Use at your own risk. For more info please refer to:\n",
      "https://scikit-learn.org/stable/model_persistence.html#security-maintainability-limitations\n",
      "  warnings.warn(\n"
     ]
    },
    {
     "name": "stdout",
     "output_type": "stream",
     "text": [
      "Linear emulator loaded in memory.\n",
      "Loading no-wiggles emulator...\n",
      "No-wiggles emulator loaded in memory.\n",
      "Loading non-linear emulator...\n"
     ]
    },
    {
     "name": "stderr",
     "output_type": "stream",
     "text": [
      "/lscratch/dlopez/programs/miniconda_20221210/miniconda3/envs/VE_SBIBE/lib/python3.11/site-packages/sklearn/base.py:348: InconsistentVersionWarning: Trying to unpickle estimator StandardScaler from version 1.0.2 when using version 1.3.2. This might lead to breaking code or invalid results. Use at your own risk. For more info please refer to:\n",
      "https://scikit-learn.org/stable/model_persistence.html#security-maintainability-limitations\n",
      "  warnings.warn(\n",
      "/lscratch/dlopez/programs/miniconda_20221210/miniconda3/envs/VE_SBIBE/lib/python3.11/site-packages/sklearn/base.py:348: InconsistentVersionWarning: Trying to unpickle estimator StandardScaler from version 0.22.1 when using version 1.3.2. This might lead to breaking code or invalid results. Use at your own risk. For more info please refer to:\n",
      "https://scikit-learn.org/stable/model_persistence.html#security-maintainability-limitations\n",
      "  warnings.warn(\n",
      "/lscratch/dlopez/programs/miniconda_20221210/miniconda3/envs/VE_SBIBE/lib/python3.11/site-packages/sklearn/base.py:348: InconsistentVersionWarning: Trying to unpickle estimator PCA from version 0.22.1 when using version 1.3.2. This might lead to breaking code or invalid results. Use at your own risk. For more info please refer to:\n",
      "https://scikit-learn.org/stable/model_persistence.html#security-maintainability-limitations\n",
      "  warnings.warn(\n"
     ]
    },
    {
     "name": "stdout",
     "output_type": "stream",
     "text": [
      "Nonlinear emulator loaded in memory.\n",
      "Loading Baryonic Emulator...\n",
      "Baryonic Emulator loaded in memory.\n"
     ]
    },
    {
     "name": "stderr",
     "output_type": "stream",
     "text": [
      "/lscratch/dlopez/programs/miniconda_20221210/miniconda3/envs/VE_SBIBE/lib/python3.11/site-packages/sklearn/base.py:348: InconsistentVersionWarning: Trying to unpickle estimator StandardScaler from version 0.23.2 when using version 1.3.2. This might lead to breaking code or invalid results. Use at your own risk. For more info please refer to:\n",
      "https://scikit-learn.org/stable/model_persistence.html#security-maintainability-limitations\n",
      "  warnings.warn(\n",
      "/lscratch/dlopez/programs/miniconda_20221210/miniconda3/envs/VE_SBIBE/lib/python3.11/site-packages/sklearn/base.py:348: InconsistentVersionWarning: Trying to unpickle estimator PCA from version 0.23.2 when using version 1.3.2. This might lead to breaking code or invalid results. Use at your own risk. For more info please refer to:\n",
      "https://scikit-learn.org/stable/model_persistence.html#security-maintainability-limitations\n",
      "  warnings.warn(\n"
     ]
    },
    {
     "name": "stdout",
     "output_type": "stream",
     "text": [
      "Loading sigma8 emulator...\n",
      "Sigma8 emulator loaded in memory.\n",
      "Loading linear emulator...\n"
     ]
    },
    {
     "name": "stderr",
     "output_type": "stream",
     "text": [
      "/lscratch/dlopez/programs/miniconda_20221210/miniconda3/envs/VE_SBIBE/lib/python3.11/site-packages/sklearn/base.py:348: InconsistentVersionWarning: Trying to unpickle estimator PCA from version 1.0 when using version 1.3.2. This might lead to breaking code or invalid results. Use at your own risk. For more info please refer to:\n",
      "https://scikit-learn.org/stable/model_persistence.html#security-maintainability-limitations\n",
      "  warnings.warn(\n",
      "/lscratch/dlopez/programs/miniconda_20221210/miniconda3/envs/VE_SBIBE/lib/python3.11/site-packages/sklearn/base.py:348: InconsistentVersionWarning: Trying to unpickle estimator StandardScaler from version 1.0 when using version 1.3.2. This might lead to breaking code or invalid results. Use at your own risk. For more info please refer to:\n",
      "https://scikit-learn.org/stable/model_persistence.html#security-maintainability-limitations\n",
      "  warnings.warn(\n",
      "/lscratch/dlopez/programs/miniconda_20221210/miniconda3/envs/VE_SBIBE/lib/python3.11/site-packages/sklearn/base.py:348: InconsistentVersionWarning: Trying to unpickle estimator PCA from version 1.0 when using version 1.3.2. This might lead to breaking code or invalid results. Use at your own risk. For more info please refer to:\n",
      "https://scikit-learn.org/stable/model_persistence.html#security-maintainability-limitations\n",
      "  warnings.warn(\n",
      "/lscratch/dlopez/programs/miniconda_20221210/miniconda3/envs/VE_SBIBE/lib/python3.11/site-packages/sklearn/base.py:348: InconsistentVersionWarning: Trying to unpickle estimator StandardScaler from version 1.0 when using version 1.3.2. This might lead to breaking code or invalid results. Use at your own risk. For more info please refer to:\n",
      "https://scikit-learn.org/stable/model_persistence.html#security-maintainability-limitations\n",
      "  warnings.warn(\n"
     ]
    },
    {
     "name": "stdout",
     "output_type": "stream",
     "text": [
      "Linear emulator loaded in memory.\n",
      "Loading no-wiggles emulator...\n"
     ]
    },
    {
     "name": "stderr",
     "output_type": "stream",
     "text": [
      "/lscratch/dlopez/programs/miniconda_20221210/miniconda3/envs/VE_SBIBE/lib/python3.11/site-packages/sklearn/base.py:348: InconsistentVersionWarning: Trying to unpickle estimator StandardScaler from version 1.0.2 when using version 1.3.2. This might lead to breaking code or invalid results. Use at your own risk. For more info please refer to:\n",
      "https://scikit-learn.org/stable/model_persistence.html#security-maintainability-limitations\n",
      "  warnings.warn(\n",
      "/lscratch/dlopez/programs/miniconda_20221210/miniconda3/envs/VE_SBIBE/lib/python3.11/site-packages/sklearn/base.py:348: InconsistentVersionWarning: Trying to unpickle estimator StandardScaler from version 0.22.1 when using version 1.3.2. This might lead to breaking code or invalid results. Use at your own risk. For more info please refer to:\n",
      "https://scikit-learn.org/stable/model_persistence.html#security-maintainability-limitations\n",
      "  warnings.warn(\n",
      "/lscratch/dlopez/programs/miniconda_20221210/miniconda3/envs/VE_SBIBE/lib/python3.11/site-packages/sklearn/base.py:348: InconsistentVersionWarning: Trying to unpickle estimator PCA from version 0.22.1 when using version 1.3.2. This might lead to breaking code or invalid results. Use at your own risk. For more info please refer to:\n",
      "https://scikit-learn.org/stable/model_persistence.html#security-maintainability-limitations\n",
      "  warnings.warn(\n"
     ]
    },
    {
     "name": "stdout",
     "output_type": "stream",
     "text": [
      "No-wiggles emulator loaded in memory.\n",
      "Loading non-linear emulator...\n",
      "Nonlinear emulator loaded in memory.\n",
      "Loading Baryonic Emulator...\n"
     ]
    },
    {
     "name": "stderr",
     "output_type": "stream",
     "text": [
      "/lscratch/dlopez/programs/miniconda_20221210/miniconda3/envs/VE_SBIBE/lib/python3.11/site-packages/sklearn/base.py:348: InconsistentVersionWarning: Trying to unpickle estimator StandardScaler from version 0.23.2 when using version 1.3.2. This might lead to breaking code or invalid results. Use at your own risk. For more info please refer to:\n",
      "https://scikit-learn.org/stable/model_persistence.html#security-maintainability-limitations\n",
      "  warnings.warn(\n",
      "/lscratch/dlopez/programs/miniconda_20221210/miniconda3/envs/VE_SBIBE/lib/python3.11/site-packages/sklearn/base.py:348: InconsistentVersionWarning: Trying to unpickle estimator PCA from version 0.23.2 when using version 1.3.2. This might lead to breaking code or invalid results. Use at your own risk. For more info please refer to:\n",
      "https://scikit-learn.org/stable/model_persistence.html#security-maintainability-limitations\n",
      "  warnings.warn(\n"
     ]
    },
    {
     "name": "stdout",
     "output_type": "stream",
     "text": [
      "Baryonic Emulator loaded in memory.\n",
      "Loading sigma8 emulator...\n",
      "Sigma8 emulator loaded in memory.\n",
      "Loading linear emulator...\n"
     ]
    },
    {
     "name": "stderr",
     "output_type": "stream",
     "text": [
      "/lscratch/dlopez/programs/miniconda_20221210/miniconda3/envs/VE_SBIBE/lib/python3.11/site-packages/sklearn/base.py:348: InconsistentVersionWarning: Trying to unpickle estimator PCA from version 1.0 when using version 1.3.2. This might lead to breaking code or invalid results. Use at your own risk. For more info please refer to:\n",
      "https://scikit-learn.org/stable/model_persistence.html#security-maintainability-limitations\n",
      "  warnings.warn(\n",
      "/lscratch/dlopez/programs/miniconda_20221210/miniconda3/envs/VE_SBIBE/lib/python3.11/site-packages/sklearn/base.py:348: InconsistentVersionWarning: Trying to unpickle estimator StandardScaler from version 1.0 when using version 1.3.2. This might lead to breaking code or invalid results. Use at your own risk. For more info please refer to:\n",
      "https://scikit-learn.org/stable/model_persistence.html#security-maintainability-limitations\n",
      "  warnings.warn(\n",
      "/lscratch/dlopez/programs/miniconda_20221210/miniconda3/envs/VE_SBIBE/lib/python3.11/site-packages/sklearn/base.py:348: InconsistentVersionWarning: Trying to unpickle estimator PCA from version 1.0 when using version 1.3.2. This might lead to breaking code or invalid results. Use at your own risk. For more info please refer to:\n",
      "https://scikit-learn.org/stable/model_persistence.html#security-maintainability-limitations\n",
      "  warnings.warn(\n",
      "/lscratch/dlopez/programs/miniconda_20221210/miniconda3/envs/VE_SBIBE/lib/python3.11/site-packages/sklearn/base.py:348: InconsistentVersionWarning: Trying to unpickle estimator StandardScaler from version 1.0 when using version 1.3.2. This might lead to breaking code or invalid results. Use at your own risk. For more info please refer to:\n",
      "https://scikit-learn.org/stable/model_persistence.html#security-maintainability-limitations\n",
      "  warnings.warn(\n"
     ]
    },
    {
     "name": "stdout",
     "output_type": "stream",
     "text": [
      "Linear emulator loaded in memory.\n",
      "Loading no-wiggles emulator...\n",
      "No-wiggles emulator loaded in memory.\n",
      "Loading non-linear emulator...\n"
     ]
    },
    {
     "name": "stderr",
     "output_type": "stream",
     "text": [
      "/lscratch/dlopez/programs/miniconda_20221210/miniconda3/envs/VE_SBIBE/lib/python3.11/site-packages/sklearn/base.py:348: InconsistentVersionWarning: Trying to unpickle estimator StandardScaler from version 1.0.2 when using version 1.3.2. This might lead to breaking code or invalid results. Use at your own risk. For more info please refer to:\n",
      "https://scikit-learn.org/stable/model_persistence.html#security-maintainability-limitations\n",
      "  warnings.warn(\n",
      "/lscratch/dlopez/programs/miniconda_20221210/miniconda3/envs/VE_SBIBE/lib/python3.11/site-packages/sklearn/base.py:348: InconsistentVersionWarning: Trying to unpickle estimator StandardScaler from version 0.22.1 when using version 1.3.2. This might lead to breaking code or invalid results. Use at your own risk. For more info please refer to:\n",
      "https://scikit-learn.org/stable/model_persistence.html#security-maintainability-limitations\n",
      "  warnings.warn(\n",
      "/lscratch/dlopez/programs/miniconda_20221210/miniconda3/envs/VE_SBIBE/lib/python3.11/site-packages/sklearn/base.py:348: InconsistentVersionWarning: Trying to unpickle estimator PCA from version 0.22.1 when using version 1.3.2. This might lead to breaking code or invalid results. Use at your own risk. For more info please refer to:\n",
      "https://scikit-learn.org/stable/model_persistence.html#security-maintainability-limitations\n",
      "  warnings.warn(\n"
     ]
    },
    {
     "name": "stdout",
     "output_type": "stream",
     "text": [
      "Nonlinear emulator loaded in memory.\n",
      "Loading Baryonic Emulator...\n",
      "Baryonic Emulator loaded in memory.\n"
     ]
    },
    {
     "name": "stderr",
     "output_type": "stream",
     "text": [
      "/lscratch/dlopez/programs/miniconda_20221210/miniconda3/envs/VE_SBIBE/lib/python3.11/site-packages/sklearn/base.py:348: InconsistentVersionWarning: Trying to unpickle estimator StandardScaler from version 0.23.2 when using version 1.3.2. This might lead to breaking code or invalid results. Use at your own risk. For more info please refer to:\n",
      "https://scikit-learn.org/stable/model_persistence.html#security-maintainability-limitations\n",
      "  warnings.warn(\n",
      "/lscratch/dlopez/programs/miniconda_20221210/miniconda3/envs/VE_SBIBE/lib/python3.11/site-packages/sklearn/base.py:348: InconsistentVersionWarning: Trying to unpickle estimator PCA from version 0.23.2 when using version 1.3.2. This might lead to breaking code or invalid results. Use at your own risk. For more info please refer to:\n",
      "https://scikit-learn.org/stable/model_persistence.html#security-maintainability-limitations\n",
      "  warnings.warn(\n"
     ]
    },
    {
     "name": "stdout",
     "output_type": "stream",
     "text": [
      "Loading sigma8 emulator...\n",
      "Sigma8 emulator loaded in memory.\n",
      "Loading linear emulator...\n"
     ]
    },
    {
     "name": "stderr",
     "output_type": "stream",
     "text": [
      "/lscratch/dlopez/programs/miniconda_20221210/miniconda3/envs/VE_SBIBE/lib/python3.11/site-packages/sklearn/base.py:348: InconsistentVersionWarning: Trying to unpickle estimator PCA from version 1.0 when using version 1.3.2. This might lead to breaking code or invalid results. Use at your own risk. For more info please refer to:\n",
      "https://scikit-learn.org/stable/model_persistence.html#security-maintainability-limitations\n",
      "  warnings.warn(\n",
      "/lscratch/dlopez/programs/miniconda_20221210/miniconda3/envs/VE_SBIBE/lib/python3.11/site-packages/sklearn/base.py:348: InconsistentVersionWarning: Trying to unpickle estimator StandardScaler from version 1.0 when using version 1.3.2. This might lead to breaking code or invalid results. Use at your own risk. For more info please refer to:\n",
      "https://scikit-learn.org/stable/model_persistence.html#security-maintainability-limitations\n",
      "  warnings.warn(\n",
      "/lscratch/dlopez/programs/miniconda_20221210/miniconda3/envs/VE_SBIBE/lib/python3.11/site-packages/sklearn/base.py:348: InconsistentVersionWarning: Trying to unpickle estimator PCA from version 1.0 when using version 1.3.2. This might lead to breaking code or invalid results. Use at your own risk. For more info please refer to:\n",
      "https://scikit-learn.org/stable/model_persistence.html#security-maintainability-limitations\n",
      "  warnings.warn(\n",
      "/lscratch/dlopez/programs/miniconda_20221210/miniconda3/envs/VE_SBIBE/lib/python3.11/site-packages/sklearn/base.py:348: InconsistentVersionWarning: Trying to unpickle estimator StandardScaler from version 1.0 when using version 1.3.2. This might lead to breaking code or invalid results. Use at your own risk. For more info please refer to:\n",
      "https://scikit-learn.org/stable/model_persistence.html#security-maintainability-limitations\n",
      "  warnings.warn(\n"
     ]
    },
    {
     "name": "stdout",
     "output_type": "stream",
     "text": [
      "Linear emulator loaded in memory.\n",
      "Loading no-wiggles emulator...\n"
     ]
    },
    {
     "name": "stderr",
     "output_type": "stream",
     "text": [
      "/lscratch/dlopez/programs/miniconda_20221210/miniconda3/envs/VE_SBIBE/lib/python3.11/site-packages/sklearn/base.py:348: InconsistentVersionWarning: Trying to unpickle estimator StandardScaler from version 1.0.2 when using version 1.3.2. This might lead to breaking code or invalid results. Use at your own risk. For more info please refer to:\n",
      "https://scikit-learn.org/stable/model_persistence.html#security-maintainability-limitations\n",
      "  warnings.warn(\n",
      "/lscratch/dlopez/programs/miniconda_20221210/miniconda3/envs/VE_SBIBE/lib/python3.11/site-packages/sklearn/base.py:348: InconsistentVersionWarning: Trying to unpickle estimator StandardScaler from version 0.22.1 when using version 1.3.2. This might lead to breaking code or invalid results. Use at your own risk. For more info please refer to:\n",
      "https://scikit-learn.org/stable/model_persistence.html#security-maintainability-limitations\n",
      "  warnings.warn(\n",
      "/lscratch/dlopez/programs/miniconda_20221210/miniconda3/envs/VE_SBIBE/lib/python3.11/site-packages/sklearn/base.py:348: InconsistentVersionWarning: Trying to unpickle estimator PCA from version 0.22.1 when using version 1.3.2. This might lead to breaking code or invalid results. Use at your own risk. For more info please refer to:\n",
      "https://scikit-learn.org/stable/model_persistence.html#security-maintainability-limitations\n",
      "  warnings.warn(\n"
     ]
    },
    {
     "name": "stdout",
     "output_type": "stream",
     "text": [
      "No-wiggles emulator loaded in memory.\n",
      "Loading non-linear emulator...\n",
      "Nonlinear emulator loaded in memory.\n",
      "Loading Baryonic Emulator...\n"
     ]
    },
    {
     "name": "stderr",
     "output_type": "stream",
     "text": [
      "/lscratch/dlopez/programs/miniconda_20221210/miniconda3/envs/VE_SBIBE/lib/python3.11/site-packages/sklearn/base.py:348: InconsistentVersionWarning: Trying to unpickle estimator StandardScaler from version 0.23.2 when using version 1.3.2. This might lead to breaking code or invalid results. Use at your own risk. For more info please refer to:\n",
      "https://scikit-learn.org/stable/model_persistence.html#security-maintainability-limitations\n",
      "  warnings.warn(\n",
      "/lscratch/dlopez/programs/miniconda_20221210/miniconda3/envs/VE_SBIBE/lib/python3.11/site-packages/sklearn/base.py:348: InconsistentVersionWarning: Trying to unpickle estimator PCA from version 0.23.2 when using version 1.3.2. This might lead to breaking code or invalid results. Use at your own risk. For more info please refer to:\n",
      "https://scikit-learn.org/stable/model_persistence.html#security-maintainability-limitations\n",
      "  warnings.warn(\n"
     ]
    },
    {
     "name": "stdout",
     "output_type": "stream",
     "text": [
      "Baryonic Emulator loaded in memory.\n",
      "Loading sigma8 emulator...\n",
      "Sigma8 emulator loaded in memory.\n",
      "Loading linear emulator...\n"
     ]
    },
    {
     "name": "stderr",
     "output_type": "stream",
     "text": [
      "/lscratch/dlopez/programs/miniconda_20221210/miniconda3/envs/VE_SBIBE/lib/python3.11/site-packages/sklearn/base.py:348: InconsistentVersionWarning: Trying to unpickle estimator PCA from version 1.0 when using version 1.3.2. This might lead to breaking code or invalid results. Use at your own risk. For more info please refer to:\n",
      "https://scikit-learn.org/stable/model_persistence.html#security-maintainability-limitations\n",
      "  warnings.warn(\n",
      "/lscratch/dlopez/programs/miniconda_20221210/miniconda3/envs/VE_SBIBE/lib/python3.11/site-packages/sklearn/base.py:348: InconsistentVersionWarning: Trying to unpickle estimator StandardScaler from version 1.0 when using version 1.3.2. This might lead to breaking code or invalid results. Use at your own risk. For more info please refer to:\n",
      "https://scikit-learn.org/stable/model_persistence.html#security-maintainability-limitations\n",
      "  warnings.warn(\n",
      "/lscratch/dlopez/programs/miniconda_20221210/miniconda3/envs/VE_SBIBE/lib/python3.11/site-packages/sklearn/base.py:348: InconsistentVersionWarning: Trying to unpickle estimator PCA from version 1.0 when using version 1.3.2. This might lead to breaking code or invalid results. Use at your own risk. For more info please refer to:\n",
      "https://scikit-learn.org/stable/model_persistence.html#security-maintainability-limitations\n",
      "  warnings.warn(\n",
      "/lscratch/dlopez/programs/miniconda_20221210/miniconda3/envs/VE_SBIBE/lib/python3.11/site-packages/sklearn/base.py:348: InconsistentVersionWarning: Trying to unpickle estimator StandardScaler from version 1.0 when using version 1.3.2. This might lead to breaking code or invalid results. Use at your own risk. For more info please refer to:\n",
      "https://scikit-learn.org/stable/model_persistence.html#security-maintainability-limitations\n",
      "  warnings.warn(\n"
     ]
    },
    {
     "name": "stdout",
     "output_type": "stream",
     "text": [
      "Linear emulator loaded in memory.\n",
      "Loading no-wiggles emulator...\n",
      "No-wiggles emulator loaded in memory.\n",
      "Loading non-linear emulator...\n"
     ]
    },
    {
     "name": "stderr",
     "output_type": "stream",
     "text": [
      "/lscratch/dlopez/programs/miniconda_20221210/miniconda3/envs/VE_SBIBE/lib/python3.11/site-packages/sklearn/base.py:348: InconsistentVersionWarning: Trying to unpickle estimator StandardScaler from version 1.0.2 when using version 1.3.2. This might lead to breaking code or invalid results. Use at your own risk. For more info please refer to:\n",
      "https://scikit-learn.org/stable/model_persistence.html#security-maintainability-limitations\n",
      "  warnings.warn(\n",
      "/lscratch/dlopez/programs/miniconda_20221210/miniconda3/envs/VE_SBIBE/lib/python3.11/site-packages/sklearn/base.py:348: InconsistentVersionWarning: Trying to unpickle estimator StandardScaler from version 0.22.1 when using version 1.3.2. This might lead to breaking code or invalid results. Use at your own risk. For more info please refer to:\n",
      "https://scikit-learn.org/stable/model_persistence.html#security-maintainability-limitations\n",
      "  warnings.warn(\n",
      "/lscratch/dlopez/programs/miniconda_20221210/miniconda3/envs/VE_SBIBE/lib/python3.11/site-packages/sklearn/base.py:348: InconsistentVersionWarning: Trying to unpickle estimator PCA from version 0.22.1 when using version 1.3.2. This might lead to breaking code or invalid results. Use at your own risk. For more info please refer to:\n",
      "https://scikit-learn.org/stable/model_persistence.html#security-maintainability-limitations\n",
      "  warnings.warn(\n"
     ]
    },
    {
     "name": "stdout",
     "output_type": "stream",
     "text": [
      "Nonlinear emulator loaded in memory.\n",
      "Loading Baryonic Emulator...\n",
      "Baryonic Emulator loaded in memory.\n"
     ]
    },
    {
     "name": "stderr",
     "output_type": "stream",
     "text": [
      "/lscratch/dlopez/programs/miniconda_20221210/miniconda3/envs/VE_SBIBE/lib/python3.11/site-packages/sklearn/base.py:348: InconsistentVersionWarning: Trying to unpickle estimator StandardScaler from version 0.23.2 when using version 1.3.2. This might lead to breaking code or invalid results. Use at your own risk. For more info please refer to:\n",
      "https://scikit-learn.org/stable/model_persistence.html#security-maintainability-limitations\n",
      "  warnings.warn(\n",
      "/lscratch/dlopez/programs/miniconda_20221210/miniconda3/envs/VE_SBIBE/lib/python3.11/site-packages/sklearn/base.py:348: InconsistentVersionWarning: Trying to unpickle estimator PCA from version 0.23.2 when using version 1.3.2. This might lead to breaking code or invalid results. Use at your own risk. For more info please refer to:\n",
      "https://scikit-learn.org/stable/model_persistence.html#security-maintainability-limitations\n",
      "  warnings.warn(\n"
     ]
    },
    {
     "name": "stdout",
     "output_type": "stream",
     "text": [
      "Loading sigma8 emulator...\n",
      "Sigma8 emulator loaded in memory.\n",
      "Loading linear emulator...\n"
     ]
    },
    {
     "name": "stderr",
     "output_type": "stream",
     "text": [
      "/lscratch/dlopez/programs/miniconda_20221210/miniconda3/envs/VE_SBIBE/lib/python3.11/site-packages/sklearn/base.py:348: InconsistentVersionWarning: Trying to unpickle estimator PCA from version 1.0 when using version 1.3.2. This might lead to breaking code or invalid results. Use at your own risk. For more info please refer to:\n",
      "https://scikit-learn.org/stable/model_persistence.html#security-maintainability-limitations\n",
      "  warnings.warn(\n",
      "/lscratch/dlopez/programs/miniconda_20221210/miniconda3/envs/VE_SBIBE/lib/python3.11/site-packages/sklearn/base.py:348: InconsistentVersionWarning: Trying to unpickle estimator StandardScaler from version 1.0 when using version 1.3.2. This might lead to breaking code or invalid results. Use at your own risk. For more info please refer to:\n",
      "https://scikit-learn.org/stable/model_persistence.html#security-maintainability-limitations\n",
      "  warnings.warn(\n",
      "/lscratch/dlopez/programs/miniconda_20221210/miniconda3/envs/VE_SBIBE/lib/python3.11/site-packages/sklearn/base.py:348: InconsistentVersionWarning: Trying to unpickle estimator PCA from version 1.0 when using version 1.3.2. This might lead to breaking code or invalid results. Use at your own risk. For more info please refer to:\n",
      "https://scikit-learn.org/stable/model_persistence.html#security-maintainability-limitations\n",
      "  warnings.warn(\n",
      "/lscratch/dlopez/programs/miniconda_20221210/miniconda3/envs/VE_SBIBE/lib/python3.11/site-packages/sklearn/base.py:348: InconsistentVersionWarning: Trying to unpickle estimator StandardScaler from version 1.0 when using version 1.3.2. This might lead to breaking code or invalid results. Use at your own risk. For more info please refer to:\n",
      "https://scikit-learn.org/stable/model_persistence.html#security-maintainability-limitations\n",
      "  warnings.warn(\n",
      "/lscratch/dlopez/programs/miniconda_20221210/miniconda3/envs/VE_SBIBE/lib/python3.11/site-packages/sklearn/base.py:348: InconsistentVersionWarning: Trying to unpickle estimator StandardScaler from version 1.0.2 when using version 1.3.2. This might lead to breaking code or invalid results. Use at your own risk. For more info please refer to:\n",
      "https://scikit-learn.org/stable/model_persistence.html#security-maintainability-limitations\n",
      "  warnings.warn(\n"
     ]
    },
    {
     "name": "stdout",
     "output_type": "stream",
     "text": [
      "Linear emulator loaded in memory.\n",
      "Loading no-wiggles emulator...\n",
      "No-wiggles emulator loaded in memory.\n",
      "Loading non-linear emulator...\n"
     ]
    },
    {
     "name": "stderr",
     "output_type": "stream",
     "text": [
      "/lscratch/dlopez/programs/miniconda_20221210/miniconda3/envs/VE_SBIBE/lib/python3.11/site-packages/sklearn/base.py:348: InconsistentVersionWarning: Trying to unpickle estimator StandardScaler from version 0.22.1 when using version 1.3.2. This might lead to breaking code or invalid results. Use at your own risk. For more info please refer to:\n",
      "https://scikit-learn.org/stable/model_persistence.html#security-maintainability-limitations\n",
      "  warnings.warn(\n",
      "/lscratch/dlopez/programs/miniconda_20221210/miniconda3/envs/VE_SBIBE/lib/python3.11/site-packages/sklearn/base.py:348: InconsistentVersionWarning: Trying to unpickle estimator PCA from version 0.22.1 when using version 1.3.2. This might lead to breaking code or invalid results. Use at your own risk. For more info please refer to:\n",
      "https://scikit-learn.org/stable/model_persistence.html#security-maintainability-limitations\n",
      "  warnings.warn(\n",
      "/lscratch/dlopez/programs/miniconda_20221210/miniconda3/envs/VE_SBIBE/lib/python3.11/site-packages/sklearn/base.py:348: InconsistentVersionWarning: Trying to unpickle estimator StandardScaler from version 0.23.2 when using version 1.3.2. This might lead to breaking code or invalid results. Use at your own risk. For more info please refer to:\n",
      "https://scikit-learn.org/stable/model_persistence.html#security-maintainability-limitations\n",
      "  warnings.warn(\n",
      "/lscratch/dlopez/programs/miniconda_20221210/miniconda3/envs/VE_SBIBE/lib/python3.11/site-packages/sklearn/base.py:348: InconsistentVersionWarning: Trying to unpickle estimator PCA from version 0.23.2 when using version 1.3.2. This might lead to breaking code or invalid results. Use at your own risk. For more info please refer to:\n",
      "https://scikit-learn.org/stable/model_persistence.html#security-maintainability-limitations\n",
      "  warnings.warn(\n"
     ]
    },
    {
     "name": "stdout",
     "output_type": "stream",
     "text": [
      "Nonlinear emulator loaded in memory.\n",
      "Loading Baryonic Emulator...\n",
      "Baryonic Emulator loaded in memory.\n",
      "Loading sigma8 emulator...\n",
      "Sigma8 emulator loaded in memory.\n",
      "Loading linear emulator...\n"
     ]
    },
    {
     "name": "stderr",
     "output_type": "stream",
     "text": [
      "/lscratch/dlopez/programs/miniconda_20221210/miniconda3/envs/VE_SBIBE/lib/python3.11/site-packages/sklearn/base.py:348: InconsistentVersionWarning: Trying to unpickle estimator PCA from version 1.0 when using version 1.3.2. This might lead to breaking code or invalid results. Use at your own risk. For more info please refer to:\n",
      "https://scikit-learn.org/stable/model_persistence.html#security-maintainability-limitations\n",
      "  warnings.warn(\n",
      "/lscratch/dlopez/programs/miniconda_20221210/miniconda3/envs/VE_SBIBE/lib/python3.11/site-packages/sklearn/base.py:348: InconsistentVersionWarning: Trying to unpickle estimator StandardScaler from version 1.0 when using version 1.3.2. This might lead to breaking code or invalid results. Use at your own risk. For more info please refer to:\n",
      "https://scikit-learn.org/stable/model_persistence.html#security-maintainability-limitations\n",
      "  warnings.warn(\n",
      "/lscratch/dlopez/programs/miniconda_20221210/miniconda3/envs/VE_SBIBE/lib/python3.11/site-packages/sklearn/base.py:348: InconsistentVersionWarning: Trying to unpickle estimator PCA from version 1.0 when using version 1.3.2. This might lead to breaking code or invalid results. Use at your own risk. For more info please refer to:\n",
      "https://scikit-learn.org/stable/model_persistence.html#security-maintainability-limitations\n",
      "  warnings.warn(\n",
      "/lscratch/dlopez/programs/miniconda_20221210/miniconda3/envs/VE_SBIBE/lib/python3.11/site-packages/sklearn/base.py:348: InconsistentVersionWarning: Trying to unpickle estimator StandardScaler from version 1.0 when using version 1.3.2. This might lead to breaking code or invalid results. Use at your own risk. For more info please refer to:\n",
      "https://scikit-learn.org/stable/model_persistence.html#security-maintainability-limitations\n",
      "  warnings.warn(\n"
     ]
    },
    {
     "name": "stdout",
     "output_type": "stream",
     "text": [
      "Linear emulator loaded in memory.\n",
      "Loading no-wiggles emulator...\n",
      "No-wiggles emulator loaded in memory.\n",
      "Loading non-linear emulator...\n"
     ]
    },
    {
     "name": "stderr",
     "output_type": "stream",
     "text": [
      "/lscratch/dlopez/programs/miniconda_20221210/miniconda3/envs/VE_SBIBE/lib/python3.11/site-packages/sklearn/base.py:348: InconsistentVersionWarning: Trying to unpickle estimator StandardScaler from version 1.0.2 when using version 1.3.2. This might lead to breaking code or invalid results. Use at your own risk. For more info please refer to:\n",
      "https://scikit-learn.org/stable/model_persistence.html#security-maintainability-limitations\n",
      "  warnings.warn(\n",
      "/lscratch/dlopez/programs/miniconda_20221210/miniconda3/envs/VE_SBIBE/lib/python3.11/site-packages/sklearn/base.py:348: InconsistentVersionWarning: Trying to unpickle estimator StandardScaler from version 0.22.1 when using version 1.3.2. This might lead to breaking code or invalid results. Use at your own risk. For more info please refer to:\n",
      "https://scikit-learn.org/stable/model_persistence.html#security-maintainability-limitations\n",
      "  warnings.warn(\n",
      "/lscratch/dlopez/programs/miniconda_20221210/miniconda3/envs/VE_SBIBE/lib/python3.11/site-packages/sklearn/base.py:348: InconsistentVersionWarning: Trying to unpickle estimator PCA from version 0.22.1 when using version 1.3.2. This might lead to breaking code or invalid results. Use at your own risk. For more info please refer to:\n",
      "https://scikit-learn.org/stable/model_persistence.html#security-maintainability-limitations\n",
      "  warnings.warn(\n"
     ]
    },
    {
     "name": "stdout",
     "output_type": "stream",
     "text": [
      "Nonlinear emulator loaded in memory.\n",
      "Loading Baryonic Emulator...\n",
      "Baryonic Emulator loaded in memory.\n"
     ]
    },
    {
     "name": "stderr",
     "output_type": "stream",
     "text": [
      "/lscratch/dlopez/programs/miniconda_20221210/miniconda3/envs/VE_SBIBE/lib/python3.11/site-packages/sklearn/base.py:348: InconsistentVersionWarning: Trying to unpickle estimator StandardScaler from version 0.23.2 when using version 1.3.2. This might lead to breaking code or invalid results. Use at your own risk. For more info please refer to:\n",
      "https://scikit-learn.org/stable/model_persistence.html#security-maintainability-limitations\n",
      "  warnings.warn(\n",
      "/lscratch/dlopez/programs/miniconda_20221210/miniconda3/envs/VE_SBIBE/lib/python3.11/site-packages/sklearn/base.py:348: InconsistentVersionWarning: Trying to unpickle estimator PCA from version 0.23.2 when using version 1.3.2. This might lead to breaking code or invalid results. Use at your own risk. For more info please refer to:\n",
      "https://scikit-learn.org/stable/model_persistence.html#security-maintainability-limitations\n",
      "  warnings.warn(\n"
     ]
    }
   ],
   "source": [
    "path_save_data = \"/dipc_storage/dlopez/Projects/sbibe/baccoemu_val/\"\n",
    "\n",
    "N_points = 987\n",
    "seed=0\n",
    "\n",
    "dict_bounds=dict(\n",
    "  omega_cold=[0.25, 0.38],\n",
    "  omega_baryon=[0.042, 0.058],\n",
    "  hubble=[0.62, 0.78],\n",
    "  ns=[0.93, 1.00],\n",
    "  sigma8_cold=[0.75, 0.88]\n",
    ")\n",
    "\n",
    "theta_val = preprocessing_tools.sample_latin_hypercube(dict_bounds, N_points=N_points, seed=seed)\n",
    "preprocessing_tools.save_theta(path_save_data, theta_val)\n",
    "\n",
    "xx_A1_val = preprocessing_tools.get_Pk_vary_baryon_param(theta_val, min_value=9, max_value=13, NN=NN, baryon_key='M_c')\n",
    "preprocessing_tools.save_model(path_save_data, \"modelA1\", xx_A1_val)\n",
    "\n",
    "xx_A2_val = preprocessing_tools.get_Pk_vary_baryon_param(theta_val, min_value=14.6, max_value=15, NN=NN, baryon_key='M_c')\n",
    "preprocessing_tools.save_model(path_save_data, \"modelA2\", xx_A2_val)\n",
    "\n",
    "xx_R_val = preprocessing_tools.get_Pk_vary_baryon_param(theta_val, min_value=13.5, max_value=14.3, NN=NN, baryon_key='M_c')\n",
    "preprocessing_tools.save_model(path_save_data, \"modelR\", xx_R_val)"
   ]
  },
  {
   "cell_type": "code",
   "execution_count": 8,
   "id": "56724647",
   "metadata": {},
   "outputs": [
    {
     "name": "stdout",
     "output_type": "stream",
     "text": [
      "(987, 5)\n",
      "(10, 987, 100)\n",
      "(10, 987, 100)\n",
      "(10, 987, 100)\n",
      "[0.25001676 0.04200548 0.62001517 0.93005354 0.75010432]\n",
      "[0.37996621 0.05799788 0.77986663 0.99999974 0.87989259]\n"
     ]
    }
   ],
   "source": [
    "print(theta_val.shape)\n",
    "print(xx_A1_val.shape)\n",
    "print(xx_A2_val.shape)\n",
    "print(xx_R_val.shape)\n",
    "\n",
    "print(np.min(theta_val, axis=0))\n",
    "print(np.max(theta_val, axis=0))"
   ]
  },
  {
   "cell_type": "code",
   "execution_count": 9,
   "id": "b9d7a7c1",
   "metadata": {},
   "outputs": [
    {
     "data": {
      "application/javascript": [
       "/* Put everything inside the global mpl namespace */\n",
       "/* global mpl */\n",
       "window.mpl = {};\n",
       "\n",
       "mpl.get_websocket_type = function () {\n",
       "    if (typeof WebSocket !== 'undefined') {\n",
       "        return WebSocket;\n",
       "    } else if (typeof MozWebSocket !== 'undefined') {\n",
       "        return MozWebSocket;\n",
       "    } else {\n",
       "        alert(\n",
       "            'Your browser does not have WebSocket support. ' +\n",
       "                'Please try Chrome, Safari or Firefox ≥ 6. ' +\n",
       "                'Firefox 4 and 5 are also supported but you ' +\n",
       "                'have to enable WebSockets in about:config.'\n",
       "        );\n",
       "    }\n",
       "};\n",
       "\n",
       "mpl.figure = function (figure_id, websocket, ondownload, parent_element) {\n",
       "    this.id = figure_id;\n",
       "\n",
       "    this.ws = websocket;\n",
       "\n",
       "    this.supports_binary = this.ws.binaryType !== undefined;\n",
       "\n",
       "    if (!this.supports_binary) {\n",
       "        var warnings = document.getElementById('mpl-warnings');\n",
       "        if (warnings) {\n",
       "            warnings.style.display = 'block';\n",
       "            warnings.textContent =\n",
       "                'This browser does not support binary websocket messages. ' +\n",
       "                'Performance may be slow.';\n",
       "        }\n",
       "    }\n",
       "\n",
       "    this.imageObj = new Image();\n",
       "\n",
       "    this.context = undefined;\n",
       "    this.message = undefined;\n",
       "    this.canvas = undefined;\n",
       "    this.rubberband_canvas = undefined;\n",
       "    this.rubberband_context = undefined;\n",
       "    this.format_dropdown = undefined;\n",
       "\n",
       "    this.image_mode = 'full';\n",
       "\n",
       "    this.root = document.createElement('div');\n",
       "    this.root.setAttribute('style', 'display: inline-block');\n",
       "    this._root_extra_style(this.root);\n",
       "\n",
       "    parent_element.appendChild(this.root);\n",
       "\n",
       "    this._init_header(this);\n",
       "    this._init_canvas(this);\n",
       "    this._init_toolbar(this);\n",
       "\n",
       "    var fig = this;\n",
       "\n",
       "    this.waiting = false;\n",
       "\n",
       "    this.ws.onopen = function () {\n",
       "        fig.send_message('supports_binary', { value: fig.supports_binary });\n",
       "        fig.send_message('send_image_mode', {});\n",
       "        if (fig.ratio !== 1) {\n",
       "            fig.send_message('set_device_pixel_ratio', {\n",
       "                device_pixel_ratio: fig.ratio,\n",
       "            });\n",
       "        }\n",
       "        fig.send_message('refresh', {});\n",
       "    };\n",
       "\n",
       "    this.imageObj.onload = function () {\n",
       "        if (fig.image_mode === 'full') {\n",
       "            // Full images could contain transparency (where diff images\n",
       "            // almost always do), so we need to clear the canvas so that\n",
       "            // there is no ghosting.\n",
       "            fig.context.clearRect(0, 0, fig.canvas.width, fig.canvas.height);\n",
       "        }\n",
       "        fig.context.drawImage(fig.imageObj, 0, 0);\n",
       "    };\n",
       "\n",
       "    this.imageObj.onunload = function () {\n",
       "        fig.ws.close();\n",
       "    };\n",
       "\n",
       "    this.ws.onmessage = this._make_on_message_function(this);\n",
       "\n",
       "    this.ondownload = ondownload;\n",
       "};\n",
       "\n",
       "mpl.figure.prototype._init_header = function () {\n",
       "    var titlebar = document.createElement('div');\n",
       "    titlebar.classList =\n",
       "        'ui-dialog-titlebar ui-widget-header ui-corner-all ui-helper-clearfix';\n",
       "    var titletext = document.createElement('div');\n",
       "    titletext.classList = 'ui-dialog-title';\n",
       "    titletext.setAttribute(\n",
       "        'style',\n",
       "        'width: 100%; text-align: center; padding: 3px;'\n",
       "    );\n",
       "    titlebar.appendChild(titletext);\n",
       "    this.root.appendChild(titlebar);\n",
       "    this.header = titletext;\n",
       "};\n",
       "\n",
       "mpl.figure.prototype._canvas_extra_style = function (_canvas_div) {};\n",
       "\n",
       "mpl.figure.prototype._root_extra_style = function (_canvas_div) {};\n",
       "\n",
       "mpl.figure.prototype._init_canvas = function () {\n",
       "    var fig = this;\n",
       "\n",
       "    var canvas_div = (this.canvas_div = document.createElement('div'));\n",
       "    canvas_div.setAttribute('tabindex', '0');\n",
       "    canvas_div.setAttribute(\n",
       "        'style',\n",
       "        'border: 1px solid #ddd;' +\n",
       "            'box-sizing: content-box;' +\n",
       "            'clear: both;' +\n",
       "            'min-height: 1px;' +\n",
       "            'min-width: 1px;' +\n",
       "            'outline: 0;' +\n",
       "            'overflow: hidden;' +\n",
       "            'position: relative;' +\n",
       "            'resize: both;' +\n",
       "            'z-index: 2;'\n",
       "    );\n",
       "\n",
       "    function on_keyboard_event_closure(name) {\n",
       "        return function (event) {\n",
       "            return fig.key_event(event, name);\n",
       "        };\n",
       "    }\n",
       "\n",
       "    canvas_div.addEventListener(\n",
       "        'keydown',\n",
       "        on_keyboard_event_closure('key_press')\n",
       "    );\n",
       "    canvas_div.addEventListener(\n",
       "        'keyup',\n",
       "        on_keyboard_event_closure('key_release')\n",
       "    );\n",
       "\n",
       "    this._canvas_extra_style(canvas_div);\n",
       "    this.root.appendChild(canvas_div);\n",
       "\n",
       "    var canvas = (this.canvas = document.createElement('canvas'));\n",
       "    canvas.classList.add('mpl-canvas');\n",
       "    canvas.setAttribute(\n",
       "        'style',\n",
       "        'box-sizing: content-box;' +\n",
       "            'pointer-events: none;' +\n",
       "            'position: relative;' +\n",
       "            'z-index: 0;'\n",
       "    );\n",
       "\n",
       "    this.context = canvas.getContext('2d');\n",
       "\n",
       "    var backingStore =\n",
       "        this.context.backingStorePixelRatio ||\n",
       "        this.context.webkitBackingStorePixelRatio ||\n",
       "        this.context.mozBackingStorePixelRatio ||\n",
       "        this.context.msBackingStorePixelRatio ||\n",
       "        this.context.oBackingStorePixelRatio ||\n",
       "        this.context.backingStorePixelRatio ||\n",
       "        1;\n",
       "\n",
       "    this.ratio = (window.devicePixelRatio || 1) / backingStore;\n",
       "\n",
       "    var rubberband_canvas = (this.rubberband_canvas = document.createElement(\n",
       "        'canvas'\n",
       "    ));\n",
       "    rubberband_canvas.setAttribute(\n",
       "        'style',\n",
       "        'box-sizing: content-box;' +\n",
       "            'left: 0;' +\n",
       "            'pointer-events: none;' +\n",
       "            'position: absolute;' +\n",
       "            'top: 0;' +\n",
       "            'z-index: 1;'\n",
       "    );\n",
       "\n",
       "    // Apply a ponyfill if ResizeObserver is not implemented by browser.\n",
       "    if (this.ResizeObserver === undefined) {\n",
       "        if (window.ResizeObserver !== undefined) {\n",
       "            this.ResizeObserver = window.ResizeObserver;\n",
       "        } else {\n",
       "            var obs = _JSXTOOLS_RESIZE_OBSERVER({});\n",
       "            this.ResizeObserver = obs.ResizeObserver;\n",
       "        }\n",
       "    }\n",
       "\n",
       "    this.resizeObserverInstance = new this.ResizeObserver(function (entries) {\n",
       "        var nentries = entries.length;\n",
       "        for (var i = 0; i < nentries; i++) {\n",
       "            var entry = entries[i];\n",
       "            var width, height;\n",
       "            if (entry.contentBoxSize) {\n",
       "                if (entry.contentBoxSize instanceof Array) {\n",
       "                    // Chrome 84 implements new version of spec.\n",
       "                    width = entry.contentBoxSize[0].inlineSize;\n",
       "                    height = entry.contentBoxSize[0].blockSize;\n",
       "                } else {\n",
       "                    // Firefox implements old version of spec.\n",
       "                    width = entry.contentBoxSize.inlineSize;\n",
       "                    height = entry.contentBoxSize.blockSize;\n",
       "                }\n",
       "            } else {\n",
       "                // Chrome <84 implements even older version of spec.\n",
       "                width = entry.contentRect.width;\n",
       "                height = entry.contentRect.height;\n",
       "            }\n",
       "\n",
       "            // Keep the size of the canvas and rubber band canvas in sync with\n",
       "            // the canvas container.\n",
       "            if (entry.devicePixelContentBoxSize) {\n",
       "                // Chrome 84 implements new version of spec.\n",
       "                canvas.setAttribute(\n",
       "                    'width',\n",
       "                    entry.devicePixelContentBoxSize[0].inlineSize\n",
       "                );\n",
       "                canvas.setAttribute(\n",
       "                    'height',\n",
       "                    entry.devicePixelContentBoxSize[0].blockSize\n",
       "                );\n",
       "            } else {\n",
       "                canvas.setAttribute('width', width * fig.ratio);\n",
       "                canvas.setAttribute('height', height * fig.ratio);\n",
       "            }\n",
       "            /* This rescales the canvas back to display pixels, so that it\n",
       "             * appears correct on HiDPI screens. */\n",
       "            canvas.style.width = width + 'px';\n",
       "            canvas.style.height = height + 'px';\n",
       "\n",
       "            rubberband_canvas.setAttribute('width', width);\n",
       "            rubberband_canvas.setAttribute('height', height);\n",
       "\n",
       "            // And update the size in Python. We ignore the initial 0/0 size\n",
       "            // that occurs as the element is placed into the DOM, which should\n",
       "            // otherwise not happen due to the minimum size styling.\n",
       "            if (fig.ws.readyState == 1 && width != 0 && height != 0) {\n",
       "                fig.request_resize(width, height);\n",
       "            }\n",
       "        }\n",
       "    });\n",
       "    this.resizeObserverInstance.observe(canvas_div);\n",
       "\n",
       "    function on_mouse_event_closure(name) {\n",
       "        /* User Agent sniffing is bad, but WebKit is busted:\n",
       "         * https://bugs.webkit.org/show_bug.cgi?id=144526\n",
       "         * https://bugs.webkit.org/show_bug.cgi?id=181818\n",
       "         * The worst that happens here is that they get an extra browser\n",
       "         * selection when dragging, if this check fails to catch them.\n",
       "         */\n",
       "        var UA = navigator.userAgent;\n",
       "        var isWebKit = /AppleWebKit/.test(UA) && !/Chrome/.test(UA);\n",
       "        if(isWebKit) {\n",
       "            return function (event) {\n",
       "                /* This prevents the web browser from automatically changing to\n",
       "                 * the text insertion cursor when the button is pressed. We\n",
       "                 * want to control all of the cursor setting manually through\n",
       "                 * the 'cursor' event from matplotlib */\n",
       "                event.preventDefault()\n",
       "                return fig.mouse_event(event, name);\n",
       "            };\n",
       "        } else {\n",
       "            return function (event) {\n",
       "                return fig.mouse_event(event, name);\n",
       "            };\n",
       "        }\n",
       "    }\n",
       "\n",
       "    canvas_div.addEventListener(\n",
       "        'mousedown',\n",
       "        on_mouse_event_closure('button_press')\n",
       "    );\n",
       "    canvas_div.addEventListener(\n",
       "        'mouseup',\n",
       "        on_mouse_event_closure('button_release')\n",
       "    );\n",
       "    canvas_div.addEventListener(\n",
       "        'dblclick',\n",
       "        on_mouse_event_closure('dblclick')\n",
       "    );\n",
       "    // Throttle sequential mouse events to 1 every 20ms.\n",
       "    canvas_div.addEventListener(\n",
       "        'mousemove',\n",
       "        on_mouse_event_closure('motion_notify')\n",
       "    );\n",
       "\n",
       "    canvas_div.addEventListener(\n",
       "        'mouseenter',\n",
       "        on_mouse_event_closure('figure_enter')\n",
       "    );\n",
       "    canvas_div.addEventListener(\n",
       "        'mouseleave',\n",
       "        on_mouse_event_closure('figure_leave')\n",
       "    );\n",
       "\n",
       "    canvas_div.addEventListener('wheel', function (event) {\n",
       "        if (event.deltaY < 0) {\n",
       "            event.step = 1;\n",
       "        } else {\n",
       "            event.step = -1;\n",
       "        }\n",
       "        on_mouse_event_closure('scroll')(event);\n",
       "    });\n",
       "\n",
       "    canvas_div.appendChild(canvas);\n",
       "    canvas_div.appendChild(rubberband_canvas);\n",
       "\n",
       "    this.rubberband_context = rubberband_canvas.getContext('2d');\n",
       "    this.rubberband_context.strokeStyle = '#000000';\n",
       "\n",
       "    this._resize_canvas = function (width, height, forward) {\n",
       "        if (forward) {\n",
       "            canvas_div.style.width = width + 'px';\n",
       "            canvas_div.style.height = height + 'px';\n",
       "        }\n",
       "    };\n",
       "\n",
       "    // Disable right mouse context menu.\n",
       "    canvas_div.addEventListener('contextmenu', function (_e) {\n",
       "        event.preventDefault();\n",
       "        return false;\n",
       "    });\n",
       "\n",
       "    function set_focus() {\n",
       "        canvas.focus();\n",
       "        canvas_div.focus();\n",
       "    }\n",
       "\n",
       "    window.setTimeout(set_focus, 100);\n",
       "};\n",
       "\n",
       "mpl.figure.prototype._init_toolbar = function () {\n",
       "    var fig = this;\n",
       "\n",
       "    var toolbar = document.createElement('div');\n",
       "    toolbar.classList = 'mpl-toolbar';\n",
       "    this.root.appendChild(toolbar);\n",
       "\n",
       "    function on_click_closure(name) {\n",
       "        return function (_event) {\n",
       "            return fig.toolbar_button_onclick(name);\n",
       "        };\n",
       "    }\n",
       "\n",
       "    function on_mouseover_closure(tooltip) {\n",
       "        return function (event) {\n",
       "            if (!event.currentTarget.disabled) {\n",
       "                return fig.toolbar_button_onmouseover(tooltip);\n",
       "            }\n",
       "        };\n",
       "    }\n",
       "\n",
       "    fig.buttons = {};\n",
       "    var buttonGroup = document.createElement('div');\n",
       "    buttonGroup.classList = 'mpl-button-group';\n",
       "    for (var toolbar_ind in mpl.toolbar_items) {\n",
       "        var name = mpl.toolbar_items[toolbar_ind][0];\n",
       "        var tooltip = mpl.toolbar_items[toolbar_ind][1];\n",
       "        var image = mpl.toolbar_items[toolbar_ind][2];\n",
       "        var method_name = mpl.toolbar_items[toolbar_ind][3];\n",
       "\n",
       "        if (!name) {\n",
       "            /* Instead of a spacer, we start a new button group. */\n",
       "            if (buttonGroup.hasChildNodes()) {\n",
       "                toolbar.appendChild(buttonGroup);\n",
       "            }\n",
       "            buttonGroup = document.createElement('div');\n",
       "            buttonGroup.classList = 'mpl-button-group';\n",
       "            continue;\n",
       "        }\n",
       "\n",
       "        var button = (fig.buttons[name] = document.createElement('button'));\n",
       "        button.classList = 'mpl-widget';\n",
       "        button.setAttribute('role', 'button');\n",
       "        button.setAttribute('aria-disabled', 'false');\n",
       "        button.addEventListener('click', on_click_closure(method_name));\n",
       "        button.addEventListener('mouseover', on_mouseover_closure(tooltip));\n",
       "\n",
       "        var icon_img = document.createElement('img');\n",
       "        icon_img.src = '_images/' + image + '.png';\n",
       "        icon_img.srcset = '_images/' + image + '_large.png 2x';\n",
       "        icon_img.alt = tooltip;\n",
       "        button.appendChild(icon_img);\n",
       "\n",
       "        buttonGroup.appendChild(button);\n",
       "    }\n",
       "\n",
       "    if (buttonGroup.hasChildNodes()) {\n",
       "        toolbar.appendChild(buttonGroup);\n",
       "    }\n",
       "\n",
       "    var fmt_picker = document.createElement('select');\n",
       "    fmt_picker.classList = 'mpl-widget';\n",
       "    toolbar.appendChild(fmt_picker);\n",
       "    this.format_dropdown = fmt_picker;\n",
       "\n",
       "    for (var ind in mpl.extensions) {\n",
       "        var fmt = mpl.extensions[ind];\n",
       "        var option = document.createElement('option');\n",
       "        option.selected = fmt === mpl.default_extension;\n",
       "        option.innerHTML = fmt;\n",
       "        fmt_picker.appendChild(option);\n",
       "    }\n",
       "\n",
       "    var status_bar = document.createElement('span');\n",
       "    status_bar.classList = 'mpl-message';\n",
       "    toolbar.appendChild(status_bar);\n",
       "    this.message = status_bar;\n",
       "};\n",
       "\n",
       "mpl.figure.prototype.request_resize = function (x_pixels, y_pixels) {\n",
       "    // Request matplotlib to resize the figure. Matplotlib will then trigger a resize in the client,\n",
       "    // which will in turn request a refresh of the image.\n",
       "    this.send_message('resize', { width: x_pixels, height: y_pixels });\n",
       "};\n",
       "\n",
       "mpl.figure.prototype.send_message = function (type, properties) {\n",
       "    properties['type'] = type;\n",
       "    properties['figure_id'] = this.id;\n",
       "    this.ws.send(JSON.stringify(properties));\n",
       "};\n",
       "\n",
       "mpl.figure.prototype.send_draw_message = function () {\n",
       "    if (!this.waiting) {\n",
       "        this.waiting = true;\n",
       "        this.ws.send(JSON.stringify({ type: 'draw', figure_id: this.id }));\n",
       "    }\n",
       "};\n",
       "\n",
       "mpl.figure.prototype.handle_save = function (fig, _msg) {\n",
       "    var format_dropdown = fig.format_dropdown;\n",
       "    var format = format_dropdown.options[format_dropdown.selectedIndex].value;\n",
       "    fig.ondownload(fig, format);\n",
       "};\n",
       "\n",
       "mpl.figure.prototype.handle_resize = function (fig, msg) {\n",
       "    var size = msg['size'];\n",
       "    if (size[0] !== fig.canvas.width || size[1] !== fig.canvas.height) {\n",
       "        fig._resize_canvas(size[0], size[1], msg['forward']);\n",
       "        fig.send_message('refresh', {});\n",
       "    }\n",
       "};\n",
       "\n",
       "mpl.figure.prototype.handle_rubberband = function (fig, msg) {\n",
       "    var x0 = msg['x0'] / fig.ratio;\n",
       "    var y0 = (fig.canvas.height - msg['y0']) / fig.ratio;\n",
       "    var x1 = msg['x1'] / fig.ratio;\n",
       "    var y1 = (fig.canvas.height - msg['y1']) / fig.ratio;\n",
       "    x0 = Math.floor(x0) + 0.5;\n",
       "    y0 = Math.floor(y0) + 0.5;\n",
       "    x1 = Math.floor(x1) + 0.5;\n",
       "    y1 = Math.floor(y1) + 0.5;\n",
       "    var min_x = Math.min(x0, x1);\n",
       "    var min_y = Math.min(y0, y1);\n",
       "    var width = Math.abs(x1 - x0);\n",
       "    var height = Math.abs(y1 - y0);\n",
       "\n",
       "    fig.rubberband_context.clearRect(\n",
       "        0,\n",
       "        0,\n",
       "        fig.canvas.width / fig.ratio,\n",
       "        fig.canvas.height / fig.ratio\n",
       "    );\n",
       "\n",
       "    fig.rubberband_context.strokeRect(min_x, min_y, width, height);\n",
       "};\n",
       "\n",
       "mpl.figure.prototype.handle_figure_label = function (fig, msg) {\n",
       "    // Updates the figure title.\n",
       "    fig.header.textContent = msg['label'];\n",
       "};\n",
       "\n",
       "mpl.figure.prototype.handle_cursor = function (fig, msg) {\n",
       "    fig.canvas_div.style.cursor = msg['cursor'];\n",
       "};\n",
       "\n",
       "mpl.figure.prototype.handle_message = function (fig, msg) {\n",
       "    fig.message.textContent = msg['message'];\n",
       "};\n",
       "\n",
       "mpl.figure.prototype.handle_draw = function (fig, _msg) {\n",
       "    // Request the server to send over a new figure.\n",
       "    fig.send_draw_message();\n",
       "};\n",
       "\n",
       "mpl.figure.prototype.handle_image_mode = function (fig, msg) {\n",
       "    fig.image_mode = msg['mode'];\n",
       "};\n",
       "\n",
       "mpl.figure.prototype.handle_history_buttons = function (fig, msg) {\n",
       "    for (var key in msg) {\n",
       "        if (!(key in fig.buttons)) {\n",
       "            continue;\n",
       "        }\n",
       "        fig.buttons[key].disabled = !msg[key];\n",
       "        fig.buttons[key].setAttribute('aria-disabled', !msg[key]);\n",
       "    }\n",
       "};\n",
       "\n",
       "mpl.figure.prototype.handle_navigate_mode = function (fig, msg) {\n",
       "    if (msg['mode'] === 'PAN') {\n",
       "        fig.buttons['Pan'].classList.add('active');\n",
       "        fig.buttons['Zoom'].classList.remove('active');\n",
       "    } else if (msg['mode'] === 'ZOOM') {\n",
       "        fig.buttons['Pan'].classList.remove('active');\n",
       "        fig.buttons['Zoom'].classList.add('active');\n",
       "    } else {\n",
       "        fig.buttons['Pan'].classList.remove('active');\n",
       "        fig.buttons['Zoom'].classList.remove('active');\n",
       "    }\n",
       "};\n",
       "\n",
       "mpl.figure.prototype.updated_canvas_event = function () {\n",
       "    // Called whenever the canvas gets updated.\n",
       "    this.send_message('ack', {});\n",
       "};\n",
       "\n",
       "// A function to construct a web socket function for onmessage handling.\n",
       "// Called in the figure constructor.\n",
       "mpl.figure.prototype._make_on_message_function = function (fig) {\n",
       "    return function socket_on_message(evt) {\n",
       "        if (evt.data instanceof Blob) {\n",
       "            var img = evt.data;\n",
       "            if (img.type !== 'image/png') {\n",
       "                /* FIXME: We get \"Resource interpreted as Image but\n",
       "                 * transferred with MIME type text/plain:\" errors on\n",
       "                 * Chrome.  But how to set the MIME type?  It doesn't seem\n",
       "                 * to be part of the websocket stream */\n",
       "                img.type = 'image/png';\n",
       "            }\n",
       "\n",
       "            /* Free the memory for the previous frames */\n",
       "            if (fig.imageObj.src) {\n",
       "                (window.URL || window.webkitURL).revokeObjectURL(\n",
       "                    fig.imageObj.src\n",
       "                );\n",
       "            }\n",
       "\n",
       "            fig.imageObj.src = (window.URL || window.webkitURL).createObjectURL(\n",
       "                img\n",
       "            );\n",
       "            fig.updated_canvas_event();\n",
       "            fig.waiting = false;\n",
       "            return;\n",
       "        } else if (\n",
       "            typeof evt.data === 'string' &&\n",
       "            evt.data.slice(0, 21) === 'data:image/png;base64'\n",
       "        ) {\n",
       "            fig.imageObj.src = evt.data;\n",
       "            fig.updated_canvas_event();\n",
       "            fig.waiting = false;\n",
       "            return;\n",
       "        }\n",
       "\n",
       "        var msg = JSON.parse(evt.data);\n",
       "        var msg_type = msg['type'];\n",
       "\n",
       "        // Call the  \"handle_{type}\" callback, which takes\n",
       "        // the figure and JSON message as its only arguments.\n",
       "        try {\n",
       "            var callback = fig['handle_' + msg_type];\n",
       "        } catch (e) {\n",
       "            console.log(\n",
       "                \"No handler for the '\" + msg_type + \"' message type: \",\n",
       "                msg\n",
       "            );\n",
       "            return;\n",
       "        }\n",
       "\n",
       "        if (callback) {\n",
       "            try {\n",
       "                // console.log(\"Handling '\" + msg_type + \"' message: \", msg);\n",
       "                callback(fig, msg);\n",
       "            } catch (e) {\n",
       "                console.log(\n",
       "                    \"Exception inside the 'handler_\" + msg_type + \"' callback:\",\n",
       "                    e,\n",
       "                    e.stack,\n",
       "                    msg\n",
       "                );\n",
       "            }\n",
       "        }\n",
       "    };\n",
       "};\n",
       "\n",
       "function getModifiers(event) {\n",
       "    var mods = [];\n",
       "    if (event.ctrlKey) {\n",
       "        mods.push('ctrl');\n",
       "    }\n",
       "    if (event.altKey) {\n",
       "        mods.push('alt');\n",
       "    }\n",
       "    if (event.shiftKey) {\n",
       "        mods.push('shift');\n",
       "    }\n",
       "    if (event.metaKey) {\n",
       "        mods.push('meta');\n",
       "    }\n",
       "    return mods;\n",
       "}\n",
       "\n",
       "/*\n",
       " * return a copy of an object with only non-object keys\n",
       " * we need this to avoid circular references\n",
       " * https://stackoverflow.com/a/24161582/3208463\n",
       " */\n",
       "function simpleKeys(original) {\n",
       "    return Object.keys(original).reduce(function (obj, key) {\n",
       "        if (typeof original[key] !== 'object') {\n",
       "            obj[key] = original[key];\n",
       "        }\n",
       "        return obj;\n",
       "    }, {});\n",
       "}\n",
       "\n",
       "mpl.figure.prototype.mouse_event = function (event, name) {\n",
       "    if (name === 'button_press') {\n",
       "        this.canvas.focus();\n",
       "        this.canvas_div.focus();\n",
       "    }\n",
       "\n",
       "    // from https://stackoverflow.com/q/1114465\n",
       "    var boundingRect = this.canvas.getBoundingClientRect();\n",
       "    var x = (event.clientX - boundingRect.left) * this.ratio;\n",
       "    var y = (event.clientY - boundingRect.top) * this.ratio;\n",
       "\n",
       "    this.send_message(name, {\n",
       "        x: x,\n",
       "        y: y,\n",
       "        button: event.button,\n",
       "        step: event.step,\n",
       "        modifiers: getModifiers(event),\n",
       "        guiEvent: simpleKeys(event),\n",
       "    });\n",
       "\n",
       "    return false;\n",
       "};\n",
       "\n",
       "mpl.figure.prototype._key_event_extra = function (_event, _name) {\n",
       "    // Handle any extra behaviour associated with a key event\n",
       "};\n",
       "\n",
       "mpl.figure.prototype.key_event = function (event, name) {\n",
       "    // Prevent repeat events\n",
       "    if (name === 'key_press') {\n",
       "        if (event.key === this._key) {\n",
       "            return;\n",
       "        } else {\n",
       "            this._key = event.key;\n",
       "        }\n",
       "    }\n",
       "    if (name === 'key_release') {\n",
       "        this._key = null;\n",
       "    }\n",
       "\n",
       "    var value = '';\n",
       "    if (event.ctrlKey && event.key !== 'Control') {\n",
       "        value += 'ctrl+';\n",
       "    }\n",
       "    else if (event.altKey && event.key !== 'Alt') {\n",
       "        value += 'alt+';\n",
       "    }\n",
       "    else if (event.shiftKey && event.key !== 'Shift') {\n",
       "        value += 'shift+';\n",
       "    }\n",
       "\n",
       "    value += 'k' + event.key;\n",
       "\n",
       "    this._key_event_extra(event, name);\n",
       "\n",
       "    this.send_message(name, { key: value, guiEvent: simpleKeys(event) });\n",
       "    return false;\n",
       "};\n",
       "\n",
       "mpl.figure.prototype.toolbar_button_onclick = function (name) {\n",
       "    if (name === 'download') {\n",
       "        this.handle_save(this, null);\n",
       "    } else {\n",
       "        this.send_message('toolbar_button', { name: name });\n",
       "    }\n",
       "};\n",
       "\n",
       "mpl.figure.prototype.toolbar_button_onmouseover = function (tooltip) {\n",
       "    this.message.textContent = tooltip;\n",
       "};\n",
       "\n",
       "///////////////// REMAINING CONTENT GENERATED BY embed_js.py /////////////////\n",
       "// prettier-ignore\n",
       "var _JSXTOOLS_RESIZE_OBSERVER=function(A){var t,i=new WeakMap,n=new WeakMap,a=new WeakMap,r=new WeakMap,o=new Set;function s(e){if(!(this instanceof s))throw new TypeError(\"Constructor requires 'new' operator\");i.set(this,e)}function h(){throw new TypeError(\"Function is not a constructor\")}function c(e,t,i,n){e=0 in arguments?Number(arguments[0]):0,t=1 in arguments?Number(arguments[1]):0,i=2 in arguments?Number(arguments[2]):0,n=3 in arguments?Number(arguments[3]):0,this.right=(this.x=this.left=e)+(this.width=i),this.bottom=(this.y=this.top=t)+(this.height=n),Object.freeze(this)}function d(){t=requestAnimationFrame(d);var s=new WeakMap,p=new Set;o.forEach((function(t){r.get(t).forEach((function(i){var r=t instanceof window.SVGElement,o=a.get(t),d=r?0:parseFloat(o.paddingTop),f=r?0:parseFloat(o.paddingRight),l=r?0:parseFloat(o.paddingBottom),u=r?0:parseFloat(o.paddingLeft),g=r?0:parseFloat(o.borderTopWidth),m=r?0:parseFloat(o.borderRightWidth),w=r?0:parseFloat(o.borderBottomWidth),b=u+f,F=d+l,v=(r?0:parseFloat(o.borderLeftWidth))+m,W=g+w,y=r?0:t.offsetHeight-W-t.clientHeight,E=r?0:t.offsetWidth-v-t.clientWidth,R=b+v,z=F+W,M=r?t.width:parseFloat(o.width)-R-E,O=r?t.height:parseFloat(o.height)-z-y;if(n.has(t)){var k=n.get(t);if(k[0]===M&&k[1]===O)return}n.set(t,[M,O]);var S=Object.create(h.prototype);S.target=t,S.contentRect=new c(u,d,M,O),s.has(i)||(s.set(i,[]),p.add(i)),s.get(i).push(S)}))})),p.forEach((function(e){i.get(e).call(e,s.get(e),e)}))}return s.prototype.observe=function(i){if(i instanceof window.Element){r.has(i)||(r.set(i,new Set),o.add(i),a.set(i,window.getComputedStyle(i)));var n=r.get(i);n.has(this)||n.add(this),cancelAnimationFrame(t),t=requestAnimationFrame(d)}},s.prototype.unobserve=function(i){if(i instanceof window.Element&&r.has(i)){var n=r.get(i);n.has(this)&&(n.delete(this),n.size||(r.delete(i),o.delete(i))),n.size||r.delete(i),o.size||cancelAnimationFrame(t)}},A.DOMRectReadOnly=c,A.ResizeObserver=s,A.ResizeObserverEntry=h,A}; // eslint-disable-line\n",
       "mpl.toolbar_items = [[\"Home\", \"Reset original view\", \"fa fa-home\", \"home\"], [\"Back\", \"Back to previous view\", \"fa fa-arrow-left\", \"back\"], [\"Forward\", \"Forward to next view\", \"fa fa-arrow-right\", \"forward\"], [\"\", \"\", \"\", \"\"], [\"Pan\", \"Left button pans, Right button zooms\\nx/y fixes axis, CTRL fixes aspect\", \"fa fa-arrows\", \"pan\"], [\"Zoom\", \"Zoom to rectangle\\nx/y fixes axis\", \"fa fa-square-o\", \"zoom\"], [\"\", \"\", \"\", \"\"], [\"Download\", \"Download plot\", \"fa fa-floppy-o\", \"download\"]];\n",
       "\n",
       "mpl.extensions = [\"eps\", \"jpeg\", \"pgf\", \"pdf\", \"png\", \"ps\", \"raw\", \"svg\", \"tif\", \"webp\"];\n",
       "\n",
       "mpl.default_extension = \"png\";/* global mpl */\n",
       "\n",
       "var comm_websocket_adapter = function (comm) {\n",
       "    // Create a \"websocket\"-like object which calls the given IPython comm\n",
       "    // object with the appropriate methods. Currently this is a non binary\n",
       "    // socket, so there is still some room for performance tuning.\n",
       "    var ws = {};\n",
       "\n",
       "    ws.binaryType = comm.kernel.ws.binaryType;\n",
       "    ws.readyState = comm.kernel.ws.readyState;\n",
       "    function updateReadyState(_event) {\n",
       "        if (comm.kernel.ws) {\n",
       "            ws.readyState = comm.kernel.ws.readyState;\n",
       "        } else {\n",
       "            ws.readyState = 3; // Closed state.\n",
       "        }\n",
       "    }\n",
       "    comm.kernel.ws.addEventListener('open', updateReadyState);\n",
       "    comm.kernel.ws.addEventListener('close', updateReadyState);\n",
       "    comm.kernel.ws.addEventListener('error', updateReadyState);\n",
       "\n",
       "    ws.close = function () {\n",
       "        comm.close();\n",
       "    };\n",
       "    ws.send = function (m) {\n",
       "        //console.log('sending', m);\n",
       "        comm.send(m);\n",
       "    };\n",
       "    // Register the callback with on_msg.\n",
       "    comm.on_msg(function (msg) {\n",
       "        //console.log('receiving', msg['content']['data'], msg);\n",
       "        var data = msg['content']['data'];\n",
       "        if (data['blob'] !== undefined) {\n",
       "            data = {\n",
       "                data: new Blob(msg['buffers'], { type: data['blob'] }),\n",
       "            };\n",
       "        }\n",
       "        // Pass the mpl event to the overridden (by mpl) onmessage function.\n",
       "        ws.onmessage(data);\n",
       "    });\n",
       "    return ws;\n",
       "};\n",
       "\n",
       "mpl.mpl_figure_comm = function (comm, msg) {\n",
       "    // This is the function which gets called when the mpl process\n",
       "    // starts-up an IPython Comm through the \"matplotlib\" channel.\n",
       "\n",
       "    var id = msg.content.data.id;\n",
       "    // Get hold of the div created by the display call when the Comm\n",
       "    // socket was opened in Python.\n",
       "    var element = document.getElementById(id);\n",
       "    var ws_proxy = comm_websocket_adapter(comm);\n",
       "\n",
       "    function ondownload(figure, _format) {\n",
       "        window.open(figure.canvas.toDataURL());\n",
       "    }\n",
       "\n",
       "    var fig = new mpl.figure(id, ws_proxy, ondownload, element);\n",
       "\n",
       "    // Call onopen now - mpl needs it, as it is assuming we've passed it a real\n",
       "    // web socket which is closed, not our websocket->open comm proxy.\n",
       "    ws_proxy.onopen();\n",
       "\n",
       "    fig.parent_element = element;\n",
       "    fig.cell_info = mpl.find_output_cell(\"<div id='\" + id + \"'></div>\");\n",
       "    if (!fig.cell_info) {\n",
       "        console.error('Failed to find cell for figure', id, fig);\n",
       "        return;\n",
       "    }\n",
       "    fig.cell_info[0].output_area.element.on(\n",
       "        'cleared',\n",
       "        { fig: fig },\n",
       "        fig._remove_fig_handler\n",
       "    );\n",
       "};\n",
       "\n",
       "mpl.figure.prototype.handle_close = function (fig, msg) {\n",
       "    var width = fig.canvas.width / fig.ratio;\n",
       "    fig.cell_info[0].output_area.element.off(\n",
       "        'cleared',\n",
       "        fig._remove_fig_handler\n",
       "    );\n",
       "    fig.resizeObserverInstance.unobserve(fig.canvas_div);\n",
       "\n",
       "    // Update the output cell to use the data from the current canvas.\n",
       "    fig.push_to_output();\n",
       "    var dataURL = fig.canvas.toDataURL();\n",
       "    // Re-enable the keyboard manager in IPython - without this line, in FF,\n",
       "    // the notebook keyboard shortcuts fail.\n",
       "    IPython.keyboard_manager.enable();\n",
       "    fig.parent_element.innerHTML =\n",
       "        '<img src=\"' + dataURL + '\" width=\"' + width + '\">';\n",
       "    fig.close_ws(fig, msg);\n",
       "};\n",
       "\n",
       "mpl.figure.prototype.close_ws = function (fig, msg) {\n",
       "    fig.send_message('closing', msg);\n",
       "    // fig.ws.close()\n",
       "};\n",
       "\n",
       "mpl.figure.prototype.push_to_output = function (_remove_interactive) {\n",
       "    // Turn the data on the canvas into data in the output cell.\n",
       "    var width = this.canvas.width / this.ratio;\n",
       "    var dataURL = this.canvas.toDataURL();\n",
       "    this.cell_info[1]['text/html'] =\n",
       "        '<img src=\"' + dataURL + '\" width=\"' + width + '\">';\n",
       "};\n",
       "\n",
       "mpl.figure.prototype.updated_canvas_event = function () {\n",
       "    // Tell IPython that the notebook contents must change.\n",
       "    IPython.notebook.set_dirty(true);\n",
       "    this.send_message('ack', {});\n",
       "    var fig = this;\n",
       "    // Wait a second, then push the new image to the DOM so\n",
       "    // that it is saved nicely (might be nice to debounce this).\n",
       "    setTimeout(function () {\n",
       "        fig.push_to_output();\n",
       "    }, 1000);\n",
       "};\n",
       "\n",
       "mpl.figure.prototype._init_toolbar = function () {\n",
       "    var fig = this;\n",
       "\n",
       "    var toolbar = document.createElement('div');\n",
       "    toolbar.classList = 'btn-toolbar';\n",
       "    this.root.appendChild(toolbar);\n",
       "\n",
       "    function on_click_closure(name) {\n",
       "        return function (_event) {\n",
       "            return fig.toolbar_button_onclick(name);\n",
       "        };\n",
       "    }\n",
       "\n",
       "    function on_mouseover_closure(tooltip) {\n",
       "        return function (event) {\n",
       "            if (!event.currentTarget.disabled) {\n",
       "                return fig.toolbar_button_onmouseover(tooltip);\n",
       "            }\n",
       "        };\n",
       "    }\n",
       "\n",
       "    fig.buttons = {};\n",
       "    var buttonGroup = document.createElement('div');\n",
       "    buttonGroup.classList = 'btn-group';\n",
       "    var button;\n",
       "    for (var toolbar_ind in mpl.toolbar_items) {\n",
       "        var name = mpl.toolbar_items[toolbar_ind][0];\n",
       "        var tooltip = mpl.toolbar_items[toolbar_ind][1];\n",
       "        var image = mpl.toolbar_items[toolbar_ind][2];\n",
       "        var method_name = mpl.toolbar_items[toolbar_ind][3];\n",
       "\n",
       "        if (!name) {\n",
       "            /* Instead of a spacer, we start a new button group. */\n",
       "            if (buttonGroup.hasChildNodes()) {\n",
       "                toolbar.appendChild(buttonGroup);\n",
       "            }\n",
       "            buttonGroup = document.createElement('div');\n",
       "            buttonGroup.classList = 'btn-group';\n",
       "            continue;\n",
       "        }\n",
       "\n",
       "        button = fig.buttons[name] = document.createElement('button');\n",
       "        button.classList = 'btn btn-default';\n",
       "        button.href = '#';\n",
       "        button.title = name;\n",
       "        button.innerHTML = '<i class=\"fa ' + image + ' fa-lg\"></i>';\n",
       "        button.addEventListener('click', on_click_closure(method_name));\n",
       "        button.addEventListener('mouseover', on_mouseover_closure(tooltip));\n",
       "        buttonGroup.appendChild(button);\n",
       "    }\n",
       "\n",
       "    if (buttonGroup.hasChildNodes()) {\n",
       "        toolbar.appendChild(buttonGroup);\n",
       "    }\n",
       "\n",
       "    // Add the status bar.\n",
       "    var status_bar = document.createElement('span');\n",
       "    status_bar.classList = 'mpl-message pull-right';\n",
       "    toolbar.appendChild(status_bar);\n",
       "    this.message = status_bar;\n",
       "\n",
       "    // Add the close button to the window.\n",
       "    var buttongrp = document.createElement('div');\n",
       "    buttongrp.classList = 'btn-group inline pull-right';\n",
       "    button = document.createElement('button');\n",
       "    button.classList = 'btn btn-mini btn-primary';\n",
       "    button.href = '#';\n",
       "    button.title = 'Stop Interaction';\n",
       "    button.innerHTML = '<i class=\"fa fa-power-off icon-remove icon-large\"></i>';\n",
       "    button.addEventListener('click', function (_evt) {\n",
       "        fig.handle_close(fig, {});\n",
       "    });\n",
       "    button.addEventListener(\n",
       "        'mouseover',\n",
       "        on_mouseover_closure('Stop Interaction')\n",
       "    );\n",
       "    buttongrp.appendChild(button);\n",
       "    var titlebar = this.root.querySelector('.ui-dialog-titlebar');\n",
       "    titlebar.insertBefore(buttongrp, titlebar.firstChild);\n",
       "};\n",
       "\n",
       "mpl.figure.prototype._remove_fig_handler = function (event) {\n",
       "    var fig = event.data.fig;\n",
       "    if (event.target !== this) {\n",
       "        // Ignore bubbled events from children.\n",
       "        return;\n",
       "    }\n",
       "    fig.close_ws(fig, {});\n",
       "};\n",
       "\n",
       "mpl.figure.prototype._root_extra_style = function (el) {\n",
       "    el.style.boxSizing = 'content-box'; // override notebook setting of border-box.\n",
       "};\n",
       "\n",
       "mpl.figure.prototype._canvas_extra_style = function (el) {\n",
       "    // this is important to make the div 'focusable\n",
       "    el.setAttribute('tabindex', 0);\n",
       "    // reach out to IPython and tell the keyboard manager to turn it's self\n",
       "    // off when our div gets focus\n",
       "\n",
       "    // location in version 3\n",
       "    if (IPython.notebook.keyboard_manager) {\n",
       "        IPython.notebook.keyboard_manager.register_events(el);\n",
       "    } else {\n",
       "        // location in version 2\n",
       "        IPython.keyboard_manager.register_events(el);\n",
       "    }\n",
       "};\n",
       "\n",
       "mpl.figure.prototype._key_event_extra = function (event, _name) {\n",
       "    // Check for shift+enter\n",
       "    if (event.shiftKey && event.which === 13) {\n",
       "        this.canvas_div.blur();\n",
       "        // select the cell after this one\n",
       "        var index = IPython.notebook.find_cell_index(this.cell_info[0]);\n",
       "        IPython.notebook.select(index + 1);\n",
       "    }\n",
       "};\n",
       "\n",
       "mpl.figure.prototype.handle_save = function (fig, _msg) {\n",
       "    fig.ondownload(fig, null);\n",
       "};\n",
       "\n",
       "mpl.find_output_cell = function (html_output) {\n",
       "    // Return the cell and output element which can be found *uniquely* in the notebook.\n",
       "    // Note - this is a bit hacky, but it is done because the \"notebook_saving.Notebook\"\n",
       "    // IPython event is triggered only after the cells have been serialised, which for\n",
       "    // our purposes (turning an active figure into a static one), is too late.\n",
       "    var cells = IPython.notebook.get_cells();\n",
       "    var ncells = cells.length;\n",
       "    for (var i = 0; i < ncells; i++) {\n",
       "        var cell = cells[i];\n",
       "        if (cell.cell_type === 'code') {\n",
       "            for (var j = 0; j < cell.output_area.outputs.length; j++) {\n",
       "                var data = cell.output_area.outputs[j];\n",
       "                if (data.data) {\n",
       "                    // IPython >= 3 moved mimebundle to data attribute of output\n",
       "                    data = data.data;\n",
       "                }\n",
       "                if (data['text/html'] === html_output) {\n",
       "                    return [cell, data, j];\n",
       "                }\n",
       "            }\n",
       "        }\n",
       "    }\n",
       "};\n",
       "\n",
       "// Register the function which deals with the matplotlib target/channel.\n",
       "// The kernel may be null if the page has been refreshed.\n",
       "if (IPython.notebook.kernel !== null) {\n",
       "    IPython.notebook.kernel.comm_manager.register_target(\n",
       "        'matplotlib',\n",
       "        mpl.mpl_figure_comm\n",
       "    );\n",
       "}\n"
      ],
      "text/plain": [
       "<IPython.core.display.Javascript object>"
      ]
     },
     "metadata": {},
     "output_type": "display_data"
    },
    {
     "data": {
      "text/html": [
       "<img src=\"data:image/png;base64,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\" width=\"700\">"
      ],
      "text/plain": [
       "<IPython.core.display.HTML object>"
      ]
     },
     "metadata": {},
     "output_type": "display_data"
    }
   ],
   "source": [
    "fig, ax = sbibe.plot_utils.simple_plot(\n",
    "    x_label=r'$\\log_{10}\\mathrm{Wavenumber}\\, k \\left[ h\\, \\mathrm{Mpc}^{-1} \\right]$',\n",
    "    y_label=r'$\\log_{10}P(k) \\left[ \\left(h^{-1} \\mathrm{Mpc}\\right)^{3} \\right]$'\n",
    ")\n",
    "\n",
    "N_plot_cosmo = 1\n",
    "indexes_cosmo = np.random.choice(theta_val.shape[0], N_plot_cosmo, replace=False)\n",
    "\n",
    "colors = sbibe.plot_utils.get_N_colors(N_plot_cosmo, mpl.colormaps['prism'])\n",
    "markers = sbibe.plot_utils.get_N_markers(xx_A1_val.shape[0])\n",
    "for ii_cosmo, index_cosmo in enumerate(indexes_cosmo):\n",
    "    for ii_aug in range(xx_A1_val.shape[0]):\n",
    "        ax.plot(xx_A1_val[ii_aug, index_cosmo], c=colors[ii_cosmo], ls='--', lw=1, marker=markers[ii_aug], ms=3)\n",
    "        ax.plot(xx_A2_val[ii_aug, index_cosmo], c=colors[ii_cosmo], ls=':', lw=1, marker=markers[ii_aug], ms=3)\n",
    "        ax.plot(xx_R_val[ii_aug, index_cosmo], c=colors[ii_cosmo], ls='-', lw=1, marker=markers[ii_aug], ms=3)\n",
    "        \n",
    "plt.tight_layout()\n",
    "plt.show()"
   ]
  },
  {
   "cell_type": "markdown",
   "id": "9f8c82a7",
   "metadata": {},
   "source": [
    "# test"
   ]
  },
  {
   "cell_type": "code",
   "execution_count": 10,
   "id": "d2883039",
   "metadata": {},
   "outputs": [
    {
     "name": "stdout",
     "output_type": "stream",
     "text": [
      "Loading sigma8 emulator...\n",
      "Sigma8 emulator loaded in memory.\n",
      "Loading linear emulator...\n"
     ]
    },
    {
     "name": "stderr",
     "output_type": "stream",
     "text": [
      "/lscratch/dlopez/programs/miniconda_20221210/miniconda3/envs/VE_SBIBE/lib/python3.11/site-packages/sklearn/base.py:348: InconsistentVersionWarning: Trying to unpickle estimator PCA from version 1.0 when using version 1.3.2. This might lead to breaking code or invalid results. Use at your own risk. For more info please refer to:\n",
      "https://scikit-learn.org/stable/model_persistence.html#security-maintainability-limitations\n",
      "  warnings.warn(\n",
      "/lscratch/dlopez/programs/miniconda_20221210/miniconda3/envs/VE_SBIBE/lib/python3.11/site-packages/sklearn/base.py:348: InconsistentVersionWarning: Trying to unpickle estimator StandardScaler from version 1.0 when using version 1.3.2. This might lead to breaking code or invalid results. Use at your own risk. For more info please refer to:\n",
      "https://scikit-learn.org/stable/model_persistence.html#security-maintainability-limitations\n",
      "  warnings.warn(\n",
      "/lscratch/dlopez/programs/miniconda_20221210/miniconda3/envs/VE_SBIBE/lib/python3.11/site-packages/sklearn/base.py:348: InconsistentVersionWarning: Trying to unpickle estimator PCA from version 1.0 when using version 1.3.2. This might lead to breaking code or invalid results. Use at your own risk. For more info please refer to:\n",
      "https://scikit-learn.org/stable/model_persistence.html#security-maintainability-limitations\n",
      "  warnings.warn(\n",
      "/lscratch/dlopez/programs/miniconda_20221210/miniconda3/envs/VE_SBIBE/lib/python3.11/site-packages/sklearn/base.py:348: InconsistentVersionWarning: Trying to unpickle estimator StandardScaler from version 1.0 when using version 1.3.2. This might lead to breaking code or invalid results. Use at your own risk. For more info please refer to:\n",
      "https://scikit-learn.org/stable/model_persistence.html#security-maintainability-limitations\n",
      "  warnings.warn(\n",
      "/lscratch/dlopez/programs/miniconda_20221210/miniconda3/envs/VE_SBIBE/lib/python3.11/site-packages/sklearn/base.py:348: InconsistentVersionWarning: Trying to unpickle estimator StandardScaler from version 1.0.2 when using version 1.3.2. This might lead to breaking code or invalid results. Use at your own risk. For more info please refer to:\n",
      "https://scikit-learn.org/stable/model_persistence.html#security-maintainability-limitations\n",
      "  warnings.warn(\n"
     ]
    },
    {
     "name": "stdout",
     "output_type": "stream",
     "text": [
      "Linear emulator loaded in memory.\n",
      "Loading no-wiggles emulator...\n",
      "No-wiggles emulator loaded in memory.\n",
      "Loading non-linear emulator...\n"
     ]
    },
    {
     "name": "stderr",
     "output_type": "stream",
     "text": [
      "/lscratch/dlopez/programs/miniconda_20221210/miniconda3/envs/VE_SBIBE/lib/python3.11/site-packages/sklearn/base.py:348: InconsistentVersionWarning: Trying to unpickle estimator StandardScaler from version 0.22.1 when using version 1.3.2. This might lead to breaking code or invalid results. Use at your own risk. For more info please refer to:\n",
      "https://scikit-learn.org/stable/model_persistence.html#security-maintainability-limitations\n",
      "  warnings.warn(\n",
      "/lscratch/dlopez/programs/miniconda_20221210/miniconda3/envs/VE_SBIBE/lib/python3.11/site-packages/sklearn/base.py:348: InconsistentVersionWarning: Trying to unpickle estimator PCA from version 0.22.1 when using version 1.3.2. This might lead to breaking code or invalid results. Use at your own risk. For more info please refer to:\n",
      "https://scikit-learn.org/stable/model_persistence.html#security-maintainability-limitations\n",
      "  warnings.warn(\n",
      "/lscratch/dlopez/programs/miniconda_20221210/miniconda3/envs/VE_SBIBE/lib/python3.11/site-packages/sklearn/base.py:348: InconsistentVersionWarning: Trying to unpickle estimator StandardScaler from version 0.23.2 when using version 1.3.2. This might lead to breaking code or invalid results. Use at your own risk. For more info please refer to:\n",
      "https://scikit-learn.org/stable/model_persistence.html#security-maintainability-limitations\n",
      "  warnings.warn(\n",
      "/lscratch/dlopez/programs/miniconda_20221210/miniconda3/envs/VE_SBIBE/lib/python3.11/site-packages/sklearn/base.py:348: InconsistentVersionWarning: Trying to unpickle estimator PCA from version 0.23.2 when using version 1.3.2. This might lead to breaking code or invalid results. Use at your own risk. For more info please refer to:\n",
      "https://scikit-learn.org/stable/model_persistence.html#security-maintainability-limitations\n",
      "  warnings.warn(\n"
     ]
    },
    {
     "name": "stdout",
     "output_type": "stream",
     "text": [
      "Nonlinear emulator loaded in memory.\n",
      "Loading Baryonic Emulator...\n",
      "Baryonic Emulator loaded in memory.\n",
      "Loading sigma8 emulator...\n",
      "Sigma8 emulator loaded in memory.\n",
      "Loading linear emulator...\n"
     ]
    },
    {
     "name": "stderr",
     "output_type": "stream",
     "text": [
      "/lscratch/dlopez/programs/miniconda_20221210/miniconda3/envs/VE_SBIBE/lib/python3.11/site-packages/sklearn/base.py:348: InconsistentVersionWarning: Trying to unpickle estimator PCA from version 1.0 when using version 1.3.2. This might lead to breaking code or invalid results. Use at your own risk. For more info please refer to:\n",
      "https://scikit-learn.org/stable/model_persistence.html#security-maintainability-limitations\n",
      "  warnings.warn(\n",
      "/lscratch/dlopez/programs/miniconda_20221210/miniconda3/envs/VE_SBIBE/lib/python3.11/site-packages/sklearn/base.py:348: InconsistentVersionWarning: Trying to unpickle estimator StandardScaler from version 1.0 when using version 1.3.2. This might lead to breaking code or invalid results. Use at your own risk. For more info please refer to:\n",
      "https://scikit-learn.org/stable/model_persistence.html#security-maintainability-limitations\n",
      "  warnings.warn(\n",
      "/lscratch/dlopez/programs/miniconda_20221210/miniconda3/envs/VE_SBIBE/lib/python3.11/site-packages/sklearn/base.py:348: InconsistentVersionWarning: Trying to unpickle estimator PCA from version 1.0 when using version 1.3.2. This might lead to breaking code or invalid results. Use at your own risk. For more info please refer to:\n",
      "https://scikit-learn.org/stable/model_persistence.html#security-maintainability-limitations\n",
      "  warnings.warn(\n",
      "/lscratch/dlopez/programs/miniconda_20221210/miniconda3/envs/VE_SBIBE/lib/python3.11/site-packages/sklearn/base.py:348: InconsistentVersionWarning: Trying to unpickle estimator StandardScaler from version 1.0 when using version 1.3.2. This might lead to breaking code or invalid results. Use at your own risk. For more info please refer to:\n",
      "https://scikit-learn.org/stable/model_persistence.html#security-maintainability-limitations\n",
      "  warnings.warn(\n"
     ]
    },
    {
     "name": "stdout",
     "output_type": "stream",
     "text": [
      "Linear emulator loaded in memory.\n",
      "Loading no-wiggles emulator...\n",
      "No-wiggles emulator loaded in memory.\n",
      "Loading non-linear emulator...\n"
     ]
    },
    {
     "name": "stderr",
     "output_type": "stream",
     "text": [
      "/lscratch/dlopez/programs/miniconda_20221210/miniconda3/envs/VE_SBIBE/lib/python3.11/site-packages/sklearn/base.py:348: InconsistentVersionWarning: Trying to unpickle estimator StandardScaler from version 1.0.2 when using version 1.3.2. This might lead to breaking code or invalid results. Use at your own risk. For more info please refer to:\n",
      "https://scikit-learn.org/stable/model_persistence.html#security-maintainability-limitations\n",
      "  warnings.warn(\n",
      "/lscratch/dlopez/programs/miniconda_20221210/miniconda3/envs/VE_SBIBE/lib/python3.11/site-packages/sklearn/base.py:348: InconsistentVersionWarning: Trying to unpickle estimator StandardScaler from version 0.22.1 when using version 1.3.2. This might lead to breaking code or invalid results. Use at your own risk. For more info please refer to:\n",
      "https://scikit-learn.org/stable/model_persistence.html#security-maintainability-limitations\n",
      "  warnings.warn(\n",
      "/lscratch/dlopez/programs/miniconda_20221210/miniconda3/envs/VE_SBIBE/lib/python3.11/site-packages/sklearn/base.py:348: InconsistentVersionWarning: Trying to unpickle estimator PCA from version 0.22.1 when using version 1.3.2. This might lead to breaking code or invalid results. Use at your own risk. For more info please refer to:\n",
      "https://scikit-learn.org/stable/model_persistence.html#security-maintainability-limitations\n",
      "  warnings.warn(\n"
     ]
    },
    {
     "name": "stdout",
     "output_type": "stream",
     "text": [
      "Nonlinear emulator loaded in memory.\n",
      "Loading Baryonic Emulator...\n",
      "Baryonic Emulator loaded in memory.\n"
     ]
    },
    {
     "name": "stderr",
     "output_type": "stream",
     "text": [
      "/lscratch/dlopez/programs/miniconda_20221210/miniconda3/envs/VE_SBIBE/lib/python3.11/site-packages/sklearn/base.py:348: InconsistentVersionWarning: Trying to unpickle estimator StandardScaler from version 0.23.2 when using version 1.3.2. This might lead to breaking code or invalid results. Use at your own risk. For more info please refer to:\n",
      "https://scikit-learn.org/stable/model_persistence.html#security-maintainability-limitations\n",
      "  warnings.warn(\n",
      "/lscratch/dlopez/programs/miniconda_20221210/miniconda3/envs/VE_SBIBE/lib/python3.11/site-packages/sklearn/base.py:348: InconsistentVersionWarning: Trying to unpickle estimator PCA from version 0.23.2 when using version 1.3.2. This might lead to breaking code or invalid results. Use at your own risk. For more info please refer to:\n",
      "https://scikit-learn.org/stable/model_persistence.html#security-maintainability-limitations\n",
      "  warnings.warn(\n"
     ]
    },
    {
     "name": "stdout",
     "output_type": "stream",
     "text": [
      "Loading sigma8 emulator...\n",
      "Sigma8 emulator loaded in memory.\n",
      "Loading linear emulator...\n"
     ]
    },
    {
     "name": "stderr",
     "output_type": "stream",
     "text": [
      "/lscratch/dlopez/programs/miniconda_20221210/miniconda3/envs/VE_SBIBE/lib/python3.11/site-packages/sklearn/base.py:348: InconsistentVersionWarning: Trying to unpickle estimator PCA from version 1.0 when using version 1.3.2. This might lead to breaking code or invalid results. Use at your own risk. For more info please refer to:\n",
      "https://scikit-learn.org/stable/model_persistence.html#security-maintainability-limitations\n",
      "  warnings.warn(\n",
      "/lscratch/dlopez/programs/miniconda_20221210/miniconda3/envs/VE_SBIBE/lib/python3.11/site-packages/sklearn/base.py:348: InconsistentVersionWarning: Trying to unpickle estimator StandardScaler from version 1.0 when using version 1.3.2. This might lead to breaking code or invalid results. Use at your own risk. For more info please refer to:\n",
      "https://scikit-learn.org/stable/model_persistence.html#security-maintainability-limitations\n",
      "  warnings.warn(\n",
      "/lscratch/dlopez/programs/miniconda_20221210/miniconda3/envs/VE_SBIBE/lib/python3.11/site-packages/sklearn/base.py:348: InconsistentVersionWarning: Trying to unpickle estimator PCA from version 1.0 when using version 1.3.2. This might lead to breaking code or invalid results. Use at your own risk. For more info please refer to:\n",
      "https://scikit-learn.org/stable/model_persistence.html#security-maintainability-limitations\n",
      "  warnings.warn(\n",
      "/lscratch/dlopez/programs/miniconda_20221210/miniconda3/envs/VE_SBIBE/lib/python3.11/site-packages/sklearn/base.py:348: InconsistentVersionWarning: Trying to unpickle estimator StandardScaler from version 1.0 when using version 1.3.2. This might lead to breaking code or invalid results. Use at your own risk. For more info please refer to:\n",
      "https://scikit-learn.org/stable/model_persistence.html#security-maintainability-limitations\n",
      "  warnings.warn(\n"
     ]
    },
    {
     "name": "stdout",
     "output_type": "stream",
     "text": [
      "Linear emulator loaded in memory.\n",
      "Loading no-wiggles emulator...\n",
      "No-wiggles emulator loaded in memory.\n",
      "Loading non-linear emulator...\n"
     ]
    },
    {
     "name": "stderr",
     "output_type": "stream",
     "text": [
      "/lscratch/dlopez/programs/miniconda_20221210/miniconda3/envs/VE_SBIBE/lib/python3.11/site-packages/sklearn/base.py:348: InconsistentVersionWarning: Trying to unpickle estimator StandardScaler from version 1.0.2 when using version 1.3.2. This might lead to breaking code or invalid results. Use at your own risk. For more info please refer to:\n",
      "https://scikit-learn.org/stable/model_persistence.html#security-maintainability-limitations\n",
      "  warnings.warn(\n",
      "/lscratch/dlopez/programs/miniconda_20221210/miniconda3/envs/VE_SBIBE/lib/python3.11/site-packages/sklearn/base.py:348: InconsistentVersionWarning: Trying to unpickle estimator StandardScaler from version 0.22.1 when using version 1.3.2. This might lead to breaking code or invalid results. Use at your own risk. For more info please refer to:\n",
      "https://scikit-learn.org/stable/model_persistence.html#security-maintainability-limitations\n",
      "  warnings.warn(\n",
      "/lscratch/dlopez/programs/miniconda_20221210/miniconda3/envs/VE_SBIBE/lib/python3.11/site-packages/sklearn/base.py:348: InconsistentVersionWarning: Trying to unpickle estimator PCA from version 0.22.1 when using version 1.3.2. This might lead to breaking code or invalid results. Use at your own risk. For more info please refer to:\n",
      "https://scikit-learn.org/stable/model_persistence.html#security-maintainability-limitations\n",
      "  warnings.warn(\n",
      "/lscratch/dlopez/programs/miniconda_20221210/miniconda3/envs/VE_SBIBE/lib/python3.11/site-packages/sklearn/base.py:348: InconsistentVersionWarning: Trying to unpickle estimator StandardScaler from version 0.23.2 when using version 1.3.2. This might lead to breaking code or invalid results. Use at your own risk. For more info please refer to:\n",
      "https://scikit-learn.org/stable/model_persistence.html#security-maintainability-limitations\n",
      "  warnings.warn(\n",
      "/lscratch/dlopez/programs/miniconda_20221210/miniconda3/envs/VE_SBIBE/lib/python3.11/site-packages/sklearn/base.py:348: InconsistentVersionWarning: Trying to unpickle estimator PCA from version 0.23.2 when using version 1.3.2. This might lead to breaking code or invalid results. Use at your own risk. For more info please refer to:\n",
      "https://scikit-learn.org/stable/model_persistence.html#security-maintainability-limitations\n",
      "  warnings.warn(\n"
     ]
    },
    {
     "name": "stdout",
     "output_type": "stream",
     "text": [
      "Nonlinear emulator loaded in memory.\n",
      "Loading Baryonic Emulator...\n",
      "Baryonic Emulator loaded in memory.\n",
      "Loading sigma8 emulator...\n",
      "Sigma8 emulator loaded in memory.\n",
      "Loading linear emulator...\n"
     ]
    },
    {
     "name": "stderr",
     "output_type": "stream",
     "text": [
      "/lscratch/dlopez/programs/miniconda_20221210/miniconda3/envs/VE_SBIBE/lib/python3.11/site-packages/sklearn/base.py:348: InconsistentVersionWarning: Trying to unpickle estimator PCA from version 1.0 when using version 1.3.2. This might lead to breaking code or invalid results. Use at your own risk. For more info please refer to:\n",
      "https://scikit-learn.org/stable/model_persistence.html#security-maintainability-limitations\n",
      "  warnings.warn(\n",
      "/lscratch/dlopez/programs/miniconda_20221210/miniconda3/envs/VE_SBIBE/lib/python3.11/site-packages/sklearn/base.py:348: InconsistentVersionWarning: Trying to unpickle estimator StandardScaler from version 1.0 when using version 1.3.2. This might lead to breaking code or invalid results. Use at your own risk. For more info please refer to:\n",
      "https://scikit-learn.org/stable/model_persistence.html#security-maintainability-limitations\n",
      "  warnings.warn(\n",
      "/lscratch/dlopez/programs/miniconda_20221210/miniconda3/envs/VE_SBIBE/lib/python3.11/site-packages/sklearn/base.py:348: InconsistentVersionWarning: Trying to unpickle estimator PCA from version 1.0 when using version 1.3.2. This might lead to breaking code or invalid results. Use at your own risk. For more info please refer to:\n",
      "https://scikit-learn.org/stable/model_persistence.html#security-maintainability-limitations\n",
      "  warnings.warn(\n",
      "/lscratch/dlopez/programs/miniconda_20221210/miniconda3/envs/VE_SBIBE/lib/python3.11/site-packages/sklearn/base.py:348: InconsistentVersionWarning: Trying to unpickle estimator StandardScaler from version 1.0 when using version 1.3.2. This might lead to breaking code or invalid results. Use at your own risk. For more info please refer to:\n",
      "https://scikit-learn.org/stable/model_persistence.html#security-maintainability-limitations\n",
      "  warnings.warn(\n"
     ]
    },
    {
     "name": "stdout",
     "output_type": "stream",
     "text": [
      "Linear emulator loaded in memory.\n",
      "Loading no-wiggles emulator...\n",
      "No-wiggles emulator loaded in memory.\n",
      "Loading non-linear emulator...\n"
     ]
    },
    {
     "name": "stderr",
     "output_type": "stream",
     "text": [
      "/lscratch/dlopez/programs/miniconda_20221210/miniconda3/envs/VE_SBIBE/lib/python3.11/site-packages/sklearn/base.py:348: InconsistentVersionWarning: Trying to unpickle estimator StandardScaler from version 1.0.2 when using version 1.3.2. This might lead to breaking code or invalid results. Use at your own risk. For more info please refer to:\n",
      "https://scikit-learn.org/stable/model_persistence.html#security-maintainability-limitations\n",
      "  warnings.warn(\n",
      "/lscratch/dlopez/programs/miniconda_20221210/miniconda3/envs/VE_SBIBE/lib/python3.11/site-packages/sklearn/base.py:348: InconsistentVersionWarning: Trying to unpickle estimator StandardScaler from version 0.22.1 when using version 1.3.2. This might lead to breaking code or invalid results. Use at your own risk. For more info please refer to:\n",
      "https://scikit-learn.org/stable/model_persistence.html#security-maintainability-limitations\n",
      "  warnings.warn(\n",
      "/lscratch/dlopez/programs/miniconda_20221210/miniconda3/envs/VE_SBIBE/lib/python3.11/site-packages/sklearn/base.py:348: InconsistentVersionWarning: Trying to unpickle estimator PCA from version 0.22.1 when using version 1.3.2. This might lead to breaking code or invalid results. Use at your own risk. For more info please refer to:\n",
      "https://scikit-learn.org/stable/model_persistence.html#security-maintainability-limitations\n",
      "  warnings.warn(\n"
     ]
    },
    {
     "name": "stdout",
     "output_type": "stream",
     "text": [
      "Nonlinear emulator loaded in memory.\n",
      "Loading Baryonic Emulator...\n",
      "Baryonic Emulator loaded in memory.\n"
     ]
    },
    {
     "name": "stderr",
     "output_type": "stream",
     "text": [
      "/lscratch/dlopez/programs/miniconda_20221210/miniconda3/envs/VE_SBIBE/lib/python3.11/site-packages/sklearn/base.py:348: InconsistentVersionWarning: Trying to unpickle estimator StandardScaler from version 0.23.2 when using version 1.3.2. This might lead to breaking code or invalid results. Use at your own risk. For more info please refer to:\n",
      "https://scikit-learn.org/stable/model_persistence.html#security-maintainability-limitations\n",
      "  warnings.warn(\n",
      "/lscratch/dlopez/programs/miniconda_20221210/miniconda3/envs/VE_SBIBE/lib/python3.11/site-packages/sklearn/base.py:348: InconsistentVersionWarning: Trying to unpickle estimator PCA from version 0.23.2 when using version 1.3.2. This might lead to breaking code or invalid results. Use at your own risk. For more info please refer to:\n",
      "https://scikit-learn.org/stable/model_persistence.html#security-maintainability-limitations\n",
      "  warnings.warn(\n"
     ]
    },
    {
     "name": "stdout",
     "output_type": "stream",
     "text": [
      "Loading sigma8 emulator...\n",
      "Sigma8 emulator loaded in memory.\n",
      "Loading linear emulator...\n"
     ]
    },
    {
     "name": "stderr",
     "output_type": "stream",
     "text": [
      "/lscratch/dlopez/programs/miniconda_20221210/miniconda3/envs/VE_SBIBE/lib/python3.11/site-packages/sklearn/base.py:348: InconsistentVersionWarning: Trying to unpickle estimator PCA from version 1.0 when using version 1.3.2. This might lead to breaking code or invalid results. Use at your own risk. For more info please refer to:\n",
      "https://scikit-learn.org/stable/model_persistence.html#security-maintainability-limitations\n",
      "  warnings.warn(\n",
      "/lscratch/dlopez/programs/miniconda_20221210/miniconda3/envs/VE_SBIBE/lib/python3.11/site-packages/sklearn/base.py:348: InconsistentVersionWarning: Trying to unpickle estimator StandardScaler from version 1.0 when using version 1.3.2. This might lead to breaking code or invalid results. Use at your own risk. For more info please refer to:\n",
      "https://scikit-learn.org/stable/model_persistence.html#security-maintainability-limitations\n",
      "  warnings.warn(\n",
      "/lscratch/dlopez/programs/miniconda_20221210/miniconda3/envs/VE_SBIBE/lib/python3.11/site-packages/sklearn/base.py:348: InconsistentVersionWarning: Trying to unpickle estimator PCA from version 1.0 when using version 1.3.2. This might lead to breaking code or invalid results. Use at your own risk. For more info please refer to:\n",
      "https://scikit-learn.org/stable/model_persistence.html#security-maintainability-limitations\n",
      "  warnings.warn(\n",
      "/lscratch/dlopez/programs/miniconda_20221210/miniconda3/envs/VE_SBIBE/lib/python3.11/site-packages/sklearn/base.py:348: InconsistentVersionWarning: Trying to unpickle estimator StandardScaler from version 1.0 when using version 1.3.2. This might lead to breaking code or invalid results. Use at your own risk. For more info please refer to:\n",
      "https://scikit-learn.org/stable/model_persistence.html#security-maintainability-limitations\n",
      "  warnings.warn(\n"
     ]
    },
    {
     "name": "stdout",
     "output_type": "stream",
     "text": [
      "Linear emulator loaded in memory.\n",
      "Loading no-wiggles emulator...\n",
      "No-wiggles emulator loaded in memory.\n",
      "Loading non-linear emulator...\n"
     ]
    },
    {
     "name": "stderr",
     "output_type": "stream",
     "text": [
      "/lscratch/dlopez/programs/miniconda_20221210/miniconda3/envs/VE_SBIBE/lib/python3.11/site-packages/sklearn/base.py:348: InconsistentVersionWarning: Trying to unpickle estimator StandardScaler from version 1.0.2 when using version 1.3.2. This might lead to breaking code or invalid results. Use at your own risk. For more info please refer to:\n",
      "https://scikit-learn.org/stable/model_persistence.html#security-maintainability-limitations\n",
      "  warnings.warn(\n",
      "/lscratch/dlopez/programs/miniconda_20221210/miniconda3/envs/VE_SBIBE/lib/python3.11/site-packages/sklearn/base.py:348: InconsistentVersionWarning: Trying to unpickle estimator StandardScaler from version 0.22.1 when using version 1.3.2. This might lead to breaking code or invalid results. Use at your own risk. For more info please refer to:\n",
      "https://scikit-learn.org/stable/model_persistence.html#security-maintainability-limitations\n",
      "  warnings.warn(\n",
      "/lscratch/dlopez/programs/miniconda_20221210/miniconda3/envs/VE_SBIBE/lib/python3.11/site-packages/sklearn/base.py:348: InconsistentVersionWarning: Trying to unpickle estimator PCA from version 0.22.1 when using version 1.3.2. This might lead to breaking code or invalid results. Use at your own risk. For more info please refer to:\n",
      "https://scikit-learn.org/stable/model_persistence.html#security-maintainability-limitations\n",
      "  warnings.warn(\n"
     ]
    },
    {
     "name": "stdout",
     "output_type": "stream",
     "text": [
      "Nonlinear emulator loaded in memory.\n",
      "Loading Baryonic Emulator...\n"
     ]
    },
    {
     "name": "stderr",
     "output_type": "stream",
     "text": [
      "/lscratch/dlopez/programs/miniconda_20221210/miniconda3/envs/VE_SBIBE/lib/python3.11/site-packages/sklearn/base.py:348: InconsistentVersionWarning: Trying to unpickle estimator StandardScaler from version 0.23.2 when using version 1.3.2. This might lead to breaking code or invalid results. Use at your own risk. For more info please refer to:\n",
      "https://scikit-learn.org/stable/model_persistence.html#security-maintainability-limitations\n",
      "  warnings.warn(\n",
      "/lscratch/dlopez/programs/miniconda_20221210/miniconda3/envs/VE_SBIBE/lib/python3.11/site-packages/sklearn/base.py:348: InconsistentVersionWarning: Trying to unpickle estimator PCA from version 0.23.2 when using version 1.3.2. This might lead to breaking code or invalid results. Use at your own risk. For more info please refer to:\n",
      "https://scikit-learn.org/stable/model_persistence.html#security-maintainability-limitations\n",
      "  warnings.warn(\n"
     ]
    },
    {
     "name": "stdout",
     "output_type": "stream",
     "text": [
      "Baryonic Emulator loaded in memory.\n",
      "Loading sigma8 emulator...\n",
      "Sigma8 emulator loaded in memory.\n",
      "Loading linear emulator...\n"
     ]
    },
    {
     "name": "stderr",
     "output_type": "stream",
     "text": [
      "/lscratch/dlopez/programs/miniconda_20221210/miniconda3/envs/VE_SBIBE/lib/python3.11/site-packages/sklearn/base.py:348: InconsistentVersionWarning: Trying to unpickle estimator PCA from version 1.0 when using version 1.3.2. This might lead to breaking code or invalid results. Use at your own risk. For more info please refer to:\n",
      "https://scikit-learn.org/stable/model_persistence.html#security-maintainability-limitations\n",
      "  warnings.warn(\n",
      "/lscratch/dlopez/programs/miniconda_20221210/miniconda3/envs/VE_SBIBE/lib/python3.11/site-packages/sklearn/base.py:348: InconsistentVersionWarning: Trying to unpickle estimator StandardScaler from version 1.0 when using version 1.3.2. This might lead to breaking code or invalid results. Use at your own risk. For more info please refer to:\n",
      "https://scikit-learn.org/stable/model_persistence.html#security-maintainability-limitations\n",
      "  warnings.warn(\n",
      "/lscratch/dlopez/programs/miniconda_20221210/miniconda3/envs/VE_SBIBE/lib/python3.11/site-packages/sklearn/base.py:348: InconsistentVersionWarning: Trying to unpickle estimator PCA from version 1.0 when using version 1.3.2. This might lead to breaking code or invalid results. Use at your own risk. For more info please refer to:\n",
      "https://scikit-learn.org/stable/model_persistence.html#security-maintainability-limitations\n",
      "  warnings.warn(\n",
      "/lscratch/dlopez/programs/miniconda_20221210/miniconda3/envs/VE_SBIBE/lib/python3.11/site-packages/sklearn/base.py:348: InconsistentVersionWarning: Trying to unpickle estimator StandardScaler from version 1.0 when using version 1.3.2. This might lead to breaking code or invalid results. Use at your own risk. For more info please refer to:\n",
      "https://scikit-learn.org/stable/model_persistence.html#security-maintainability-limitations\n",
      "  warnings.warn(\n"
     ]
    },
    {
     "name": "stdout",
     "output_type": "stream",
     "text": [
      "Linear emulator loaded in memory.\n",
      "Loading no-wiggles emulator...\n",
      "No-wiggles emulator loaded in memory.\n",
      "Loading non-linear emulator...\n"
     ]
    },
    {
     "name": "stderr",
     "output_type": "stream",
     "text": [
      "/lscratch/dlopez/programs/miniconda_20221210/miniconda3/envs/VE_SBIBE/lib/python3.11/site-packages/sklearn/base.py:348: InconsistentVersionWarning: Trying to unpickle estimator StandardScaler from version 1.0.2 when using version 1.3.2. This might lead to breaking code or invalid results. Use at your own risk. For more info please refer to:\n",
      "https://scikit-learn.org/stable/model_persistence.html#security-maintainability-limitations\n",
      "  warnings.warn(\n",
      "/lscratch/dlopez/programs/miniconda_20221210/miniconda3/envs/VE_SBIBE/lib/python3.11/site-packages/sklearn/base.py:348: InconsistentVersionWarning: Trying to unpickle estimator StandardScaler from version 0.22.1 when using version 1.3.2. This might lead to breaking code or invalid results. Use at your own risk. For more info please refer to:\n",
      "https://scikit-learn.org/stable/model_persistence.html#security-maintainability-limitations\n",
      "  warnings.warn(\n",
      "/lscratch/dlopez/programs/miniconda_20221210/miniconda3/envs/VE_SBIBE/lib/python3.11/site-packages/sklearn/base.py:348: InconsistentVersionWarning: Trying to unpickle estimator PCA from version 0.22.1 when using version 1.3.2. This might lead to breaking code or invalid results. Use at your own risk. For more info please refer to:\n",
      "https://scikit-learn.org/stable/model_persistence.html#security-maintainability-limitations\n",
      "  warnings.warn(\n"
     ]
    },
    {
     "name": "stdout",
     "output_type": "stream",
     "text": [
      "Nonlinear emulator loaded in memory.\n",
      "Loading Baryonic Emulator...\n",
      "Baryonic Emulator loaded in memory.\n"
     ]
    },
    {
     "name": "stderr",
     "output_type": "stream",
     "text": [
      "/lscratch/dlopez/programs/miniconda_20221210/miniconda3/envs/VE_SBIBE/lib/python3.11/site-packages/sklearn/base.py:348: InconsistentVersionWarning: Trying to unpickle estimator StandardScaler from version 0.23.2 when using version 1.3.2. This might lead to breaking code or invalid results. Use at your own risk. For more info please refer to:\n",
      "https://scikit-learn.org/stable/model_persistence.html#security-maintainability-limitations\n",
      "  warnings.warn(\n",
      "/lscratch/dlopez/programs/miniconda_20221210/miniconda3/envs/VE_SBIBE/lib/python3.11/site-packages/sklearn/base.py:348: InconsistentVersionWarning: Trying to unpickle estimator PCA from version 0.23.2 when using version 1.3.2. This might lead to breaking code or invalid results. Use at your own risk. For more info please refer to:\n",
      "https://scikit-learn.org/stable/model_persistence.html#security-maintainability-limitations\n",
      "  warnings.warn(\n"
     ]
    },
    {
     "name": "stdout",
     "output_type": "stream",
     "text": [
      "Loading sigma8 emulator...\n",
      "Sigma8 emulator loaded in memory.\n",
      "Loading linear emulator...\n"
     ]
    },
    {
     "name": "stderr",
     "output_type": "stream",
     "text": [
      "/lscratch/dlopez/programs/miniconda_20221210/miniconda3/envs/VE_SBIBE/lib/python3.11/site-packages/sklearn/base.py:348: InconsistentVersionWarning: Trying to unpickle estimator PCA from version 1.0 when using version 1.3.2. This might lead to breaking code or invalid results. Use at your own risk. For more info please refer to:\n",
      "https://scikit-learn.org/stable/model_persistence.html#security-maintainability-limitations\n",
      "  warnings.warn(\n",
      "/lscratch/dlopez/programs/miniconda_20221210/miniconda3/envs/VE_SBIBE/lib/python3.11/site-packages/sklearn/base.py:348: InconsistentVersionWarning: Trying to unpickle estimator StandardScaler from version 1.0 when using version 1.3.2. This might lead to breaking code or invalid results. Use at your own risk. For more info please refer to:\n",
      "https://scikit-learn.org/stable/model_persistence.html#security-maintainability-limitations\n",
      "  warnings.warn(\n",
      "/lscratch/dlopez/programs/miniconda_20221210/miniconda3/envs/VE_SBIBE/lib/python3.11/site-packages/sklearn/base.py:348: InconsistentVersionWarning: Trying to unpickle estimator PCA from version 1.0 when using version 1.3.2. This might lead to breaking code or invalid results. Use at your own risk. For more info please refer to:\n",
      "https://scikit-learn.org/stable/model_persistence.html#security-maintainability-limitations\n",
      "  warnings.warn(\n",
      "/lscratch/dlopez/programs/miniconda_20221210/miniconda3/envs/VE_SBIBE/lib/python3.11/site-packages/sklearn/base.py:348: InconsistentVersionWarning: Trying to unpickle estimator StandardScaler from version 1.0 when using version 1.3.2. This might lead to breaking code or invalid results. Use at your own risk. For more info please refer to:\n",
      "https://scikit-learn.org/stable/model_persistence.html#security-maintainability-limitations\n",
      "  warnings.warn(\n"
     ]
    },
    {
     "name": "stdout",
     "output_type": "stream",
     "text": [
      "Linear emulator loaded in memory.\n",
      "Loading no-wiggles emulator...\n",
      "No-wiggles emulator loaded in memory.\n",
      "Loading non-linear emulator...\n"
     ]
    },
    {
     "name": "stderr",
     "output_type": "stream",
     "text": [
      "/lscratch/dlopez/programs/miniconda_20221210/miniconda3/envs/VE_SBIBE/lib/python3.11/site-packages/sklearn/base.py:348: InconsistentVersionWarning: Trying to unpickle estimator StandardScaler from version 1.0.2 when using version 1.3.2. This might lead to breaking code or invalid results. Use at your own risk. For more info please refer to:\n",
      "https://scikit-learn.org/stable/model_persistence.html#security-maintainability-limitations\n",
      "  warnings.warn(\n",
      "/lscratch/dlopez/programs/miniconda_20221210/miniconda3/envs/VE_SBIBE/lib/python3.11/site-packages/sklearn/base.py:348: InconsistentVersionWarning: Trying to unpickle estimator StandardScaler from version 0.22.1 when using version 1.3.2. This might lead to breaking code or invalid results. Use at your own risk. For more info please refer to:\n",
      "https://scikit-learn.org/stable/model_persistence.html#security-maintainability-limitations\n",
      "  warnings.warn(\n",
      "/lscratch/dlopez/programs/miniconda_20221210/miniconda3/envs/VE_SBIBE/lib/python3.11/site-packages/sklearn/base.py:348: InconsistentVersionWarning: Trying to unpickle estimator PCA from version 0.22.1 when using version 1.3.2. This might lead to breaking code or invalid results. Use at your own risk. For more info please refer to:\n",
      "https://scikit-learn.org/stable/model_persistence.html#security-maintainability-limitations\n",
      "  warnings.warn(\n"
     ]
    },
    {
     "name": "stdout",
     "output_type": "stream",
     "text": [
      "Nonlinear emulator loaded in memory.\n",
      "Loading Baryonic Emulator...\n",
      "Baryonic Emulator loaded in memory.\n"
     ]
    },
    {
     "name": "stderr",
     "output_type": "stream",
     "text": [
      "/lscratch/dlopez/programs/miniconda_20221210/miniconda3/envs/VE_SBIBE/lib/python3.11/site-packages/sklearn/base.py:348: InconsistentVersionWarning: Trying to unpickle estimator StandardScaler from version 0.23.2 when using version 1.3.2. This might lead to breaking code or invalid results. Use at your own risk. For more info please refer to:\n",
      "https://scikit-learn.org/stable/model_persistence.html#security-maintainability-limitations\n",
      "  warnings.warn(\n",
      "/lscratch/dlopez/programs/miniconda_20221210/miniconda3/envs/VE_SBIBE/lib/python3.11/site-packages/sklearn/base.py:348: InconsistentVersionWarning: Trying to unpickle estimator PCA from version 0.23.2 when using version 1.3.2. This might lead to breaking code or invalid results. Use at your own risk. For more info please refer to:\n",
      "https://scikit-learn.org/stable/model_persistence.html#security-maintainability-limitations\n",
      "  warnings.warn(\n"
     ]
    },
    {
     "name": "stdout",
     "output_type": "stream",
     "text": [
      "Loading sigma8 emulator...\n",
      "Sigma8 emulator loaded in memory.\n",
      "Loading linear emulator...\n"
     ]
    },
    {
     "name": "stderr",
     "output_type": "stream",
     "text": [
      "/lscratch/dlopez/programs/miniconda_20221210/miniconda3/envs/VE_SBIBE/lib/python3.11/site-packages/sklearn/base.py:348: InconsistentVersionWarning: Trying to unpickle estimator PCA from version 1.0 when using version 1.3.2. This might lead to breaking code or invalid results. Use at your own risk. For more info please refer to:\n",
      "https://scikit-learn.org/stable/model_persistence.html#security-maintainability-limitations\n",
      "  warnings.warn(\n",
      "/lscratch/dlopez/programs/miniconda_20221210/miniconda3/envs/VE_SBIBE/lib/python3.11/site-packages/sklearn/base.py:348: InconsistentVersionWarning: Trying to unpickle estimator StandardScaler from version 1.0 when using version 1.3.2. This might lead to breaking code or invalid results. Use at your own risk. For more info please refer to:\n",
      "https://scikit-learn.org/stable/model_persistence.html#security-maintainability-limitations\n",
      "  warnings.warn(\n",
      "/lscratch/dlopez/programs/miniconda_20221210/miniconda3/envs/VE_SBIBE/lib/python3.11/site-packages/sklearn/base.py:348: InconsistentVersionWarning: Trying to unpickle estimator PCA from version 1.0 when using version 1.3.2. This might lead to breaking code or invalid results. Use at your own risk. For more info please refer to:\n",
      "https://scikit-learn.org/stable/model_persistence.html#security-maintainability-limitations\n",
      "  warnings.warn(\n",
      "/lscratch/dlopez/programs/miniconda_20221210/miniconda3/envs/VE_SBIBE/lib/python3.11/site-packages/sklearn/base.py:348: InconsistentVersionWarning: Trying to unpickle estimator StandardScaler from version 1.0 when using version 1.3.2. This might lead to breaking code or invalid results. Use at your own risk. For more info please refer to:\n",
      "https://scikit-learn.org/stable/model_persistence.html#security-maintainability-limitations\n",
      "  warnings.warn(\n"
     ]
    },
    {
     "name": "stdout",
     "output_type": "stream",
     "text": [
      "Linear emulator loaded in memory.\n",
      "Loading no-wiggles emulator...\n",
      "No-wiggles emulator loaded in memory.\n",
      "Loading non-linear emulator...\n"
     ]
    },
    {
     "name": "stderr",
     "output_type": "stream",
     "text": [
      "/lscratch/dlopez/programs/miniconda_20221210/miniconda3/envs/VE_SBIBE/lib/python3.11/site-packages/sklearn/base.py:348: InconsistentVersionWarning: Trying to unpickle estimator StandardScaler from version 1.0.2 when using version 1.3.2. This might lead to breaking code or invalid results. Use at your own risk. For more info please refer to:\n",
      "https://scikit-learn.org/stable/model_persistence.html#security-maintainability-limitations\n",
      "  warnings.warn(\n",
      "/lscratch/dlopez/programs/miniconda_20221210/miniconda3/envs/VE_SBIBE/lib/python3.11/site-packages/sklearn/base.py:348: InconsistentVersionWarning: Trying to unpickle estimator StandardScaler from version 0.22.1 when using version 1.3.2. This might lead to breaking code or invalid results. Use at your own risk. For more info please refer to:\n",
      "https://scikit-learn.org/stable/model_persistence.html#security-maintainability-limitations\n",
      "  warnings.warn(\n",
      "/lscratch/dlopez/programs/miniconda_20221210/miniconda3/envs/VE_SBIBE/lib/python3.11/site-packages/sklearn/base.py:348: InconsistentVersionWarning: Trying to unpickle estimator PCA from version 0.22.1 when using version 1.3.2. This might lead to breaking code or invalid results. Use at your own risk. For more info please refer to:\n",
      "https://scikit-learn.org/stable/model_persistence.html#security-maintainability-limitations\n",
      "  warnings.warn(\n"
     ]
    },
    {
     "name": "stdout",
     "output_type": "stream",
     "text": [
      "Nonlinear emulator loaded in memory.\n",
      "Loading Baryonic Emulator...\n",
      "Baryonic Emulator loaded in memory.\n"
     ]
    },
    {
     "name": "stderr",
     "output_type": "stream",
     "text": [
      "/lscratch/dlopez/programs/miniconda_20221210/miniconda3/envs/VE_SBIBE/lib/python3.11/site-packages/sklearn/base.py:348: InconsistentVersionWarning: Trying to unpickle estimator StandardScaler from version 0.23.2 when using version 1.3.2. This might lead to breaking code or invalid results. Use at your own risk. For more info please refer to:\n",
      "https://scikit-learn.org/stable/model_persistence.html#security-maintainability-limitations\n",
      "  warnings.warn(\n",
      "/lscratch/dlopez/programs/miniconda_20221210/miniconda3/envs/VE_SBIBE/lib/python3.11/site-packages/sklearn/base.py:348: InconsistentVersionWarning: Trying to unpickle estimator PCA from version 0.23.2 when using version 1.3.2. This might lead to breaking code or invalid results. Use at your own risk. For more info please refer to:\n",
      "https://scikit-learn.org/stable/model_persistence.html#security-maintainability-limitations\n",
      "  warnings.warn(\n"
     ]
    },
    {
     "name": "stdout",
     "output_type": "stream",
     "text": [
      "Loading sigma8 emulator...\n",
      "Sigma8 emulator loaded in memory.\n",
      "Loading linear emulator...\n"
     ]
    },
    {
     "name": "stderr",
     "output_type": "stream",
     "text": [
      "/lscratch/dlopez/programs/miniconda_20221210/miniconda3/envs/VE_SBIBE/lib/python3.11/site-packages/sklearn/base.py:348: InconsistentVersionWarning: Trying to unpickle estimator PCA from version 1.0 when using version 1.3.2. This might lead to breaking code or invalid results. Use at your own risk. For more info please refer to:\n",
      "https://scikit-learn.org/stable/model_persistence.html#security-maintainability-limitations\n",
      "  warnings.warn(\n",
      "/lscratch/dlopez/programs/miniconda_20221210/miniconda3/envs/VE_SBIBE/lib/python3.11/site-packages/sklearn/base.py:348: InconsistentVersionWarning: Trying to unpickle estimator StandardScaler from version 1.0 when using version 1.3.2. This might lead to breaking code or invalid results. Use at your own risk. For more info please refer to:\n",
      "https://scikit-learn.org/stable/model_persistence.html#security-maintainability-limitations\n",
      "  warnings.warn(\n",
      "/lscratch/dlopez/programs/miniconda_20221210/miniconda3/envs/VE_SBIBE/lib/python3.11/site-packages/sklearn/base.py:348: InconsistentVersionWarning: Trying to unpickle estimator PCA from version 1.0 when using version 1.3.2. This might lead to breaking code or invalid results. Use at your own risk. For more info please refer to:\n",
      "https://scikit-learn.org/stable/model_persistence.html#security-maintainability-limitations\n",
      "  warnings.warn(\n",
      "/lscratch/dlopez/programs/miniconda_20221210/miniconda3/envs/VE_SBIBE/lib/python3.11/site-packages/sklearn/base.py:348: InconsistentVersionWarning: Trying to unpickle estimator StandardScaler from version 1.0 when using version 1.3.2. This might lead to breaking code or invalid results. Use at your own risk. For more info please refer to:\n",
      "https://scikit-learn.org/stable/model_persistence.html#security-maintainability-limitations\n",
      "  warnings.warn(\n"
     ]
    },
    {
     "name": "stdout",
     "output_type": "stream",
     "text": [
      "Linear emulator loaded in memory.\n",
      "Loading no-wiggles emulator...\n",
      "No-wiggles emulator loaded in memory.\n",
      "Loading non-linear emulator...\n"
     ]
    },
    {
     "name": "stderr",
     "output_type": "stream",
     "text": [
      "/lscratch/dlopez/programs/miniconda_20221210/miniconda3/envs/VE_SBIBE/lib/python3.11/site-packages/sklearn/base.py:348: InconsistentVersionWarning: Trying to unpickle estimator StandardScaler from version 1.0.2 when using version 1.3.2. This might lead to breaking code or invalid results. Use at your own risk. For more info please refer to:\n",
      "https://scikit-learn.org/stable/model_persistence.html#security-maintainability-limitations\n",
      "  warnings.warn(\n",
      "/lscratch/dlopez/programs/miniconda_20221210/miniconda3/envs/VE_SBIBE/lib/python3.11/site-packages/sklearn/base.py:348: InconsistentVersionWarning: Trying to unpickle estimator StandardScaler from version 0.22.1 when using version 1.3.2. This might lead to breaking code or invalid results. Use at your own risk. For more info please refer to:\n",
      "https://scikit-learn.org/stable/model_persistence.html#security-maintainability-limitations\n",
      "  warnings.warn(\n",
      "/lscratch/dlopez/programs/miniconda_20221210/miniconda3/envs/VE_SBIBE/lib/python3.11/site-packages/sklearn/base.py:348: InconsistentVersionWarning: Trying to unpickle estimator PCA from version 0.22.1 when using version 1.3.2. This might lead to breaking code or invalid results. Use at your own risk. For more info please refer to:\n",
      "https://scikit-learn.org/stable/model_persistence.html#security-maintainability-limitations\n",
      "  warnings.warn(\n"
     ]
    },
    {
     "name": "stdout",
     "output_type": "stream",
     "text": [
      "Nonlinear emulator loaded in memory.\n",
      "Loading Baryonic Emulator...\n",
      "Baryonic Emulator loaded in memory.\n"
     ]
    },
    {
     "name": "stderr",
     "output_type": "stream",
     "text": [
      "/lscratch/dlopez/programs/miniconda_20221210/miniconda3/envs/VE_SBIBE/lib/python3.11/site-packages/sklearn/base.py:348: InconsistentVersionWarning: Trying to unpickle estimator StandardScaler from version 0.23.2 when using version 1.3.2. This might lead to breaking code or invalid results. Use at your own risk. For more info please refer to:\n",
      "https://scikit-learn.org/stable/model_persistence.html#security-maintainability-limitations\n",
      "  warnings.warn(\n",
      "/lscratch/dlopez/programs/miniconda_20221210/miniconda3/envs/VE_SBIBE/lib/python3.11/site-packages/sklearn/base.py:348: InconsistentVersionWarning: Trying to unpickle estimator PCA from version 0.23.2 when using version 1.3.2. This might lead to breaking code or invalid results. Use at your own risk. For more info please refer to:\n",
      "https://scikit-learn.org/stable/model_persistence.html#security-maintainability-limitations\n",
      "  warnings.warn(\n"
     ]
    },
    {
     "name": "stdout",
     "output_type": "stream",
     "text": [
      "Loading sigma8 emulator...\n",
      "Sigma8 emulator loaded in memory.\n",
      "Loading linear emulator...\n"
     ]
    },
    {
     "name": "stderr",
     "output_type": "stream",
     "text": [
      "/lscratch/dlopez/programs/miniconda_20221210/miniconda3/envs/VE_SBIBE/lib/python3.11/site-packages/sklearn/base.py:348: InconsistentVersionWarning: Trying to unpickle estimator PCA from version 1.0 when using version 1.3.2. This might lead to breaking code or invalid results. Use at your own risk. For more info please refer to:\n",
      "https://scikit-learn.org/stable/model_persistence.html#security-maintainability-limitations\n",
      "  warnings.warn(\n",
      "/lscratch/dlopez/programs/miniconda_20221210/miniconda3/envs/VE_SBIBE/lib/python3.11/site-packages/sklearn/base.py:348: InconsistentVersionWarning: Trying to unpickle estimator StandardScaler from version 1.0 when using version 1.3.2. This might lead to breaking code or invalid results. Use at your own risk. For more info please refer to:\n",
      "https://scikit-learn.org/stable/model_persistence.html#security-maintainability-limitations\n",
      "  warnings.warn(\n",
      "/lscratch/dlopez/programs/miniconda_20221210/miniconda3/envs/VE_SBIBE/lib/python3.11/site-packages/sklearn/base.py:348: InconsistentVersionWarning: Trying to unpickle estimator PCA from version 1.0 when using version 1.3.2. This might lead to breaking code or invalid results. Use at your own risk. For more info please refer to:\n",
      "https://scikit-learn.org/stable/model_persistence.html#security-maintainability-limitations\n",
      "  warnings.warn(\n",
      "/lscratch/dlopez/programs/miniconda_20221210/miniconda3/envs/VE_SBIBE/lib/python3.11/site-packages/sklearn/base.py:348: InconsistentVersionWarning: Trying to unpickle estimator StandardScaler from version 1.0 when using version 1.3.2. This might lead to breaking code or invalid results. Use at your own risk. For more info please refer to:\n",
      "https://scikit-learn.org/stable/model_persistence.html#security-maintainability-limitations\n",
      "  warnings.warn(\n"
     ]
    },
    {
     "name": "stdout",
     "output_type": "stream",
     "text": [
      "Linear emulator loaded in memory.\n",
      "Loading no-wiggles emulator...\n"
     ]
    },
    {
     "name": "stderr",
     "output_type": "stream",
     "text": [
      "/lscratch/dlopez/programs/miniconda_20221210/miniconda3/envs/VE_SBIBE/lib/python3.11/site-packages/sklearn/base.py:348: InconsistentVersionWarning: Trying to unpickle estimator StandardScaler from version 1.0.2 when using version 1.3.2. This might lead to breaking code or invalid results. Use at your own risk. For more info please refer to:\n",
      "https://scikit-learn.org/stable/model_persistence.html#security-maintainability-limitations\n",
      "  warnings.warn(\n",
      "/lscratch/dlopez/programs/miniconda_20221210/miniconda3/envs/VE_SBIBE/lib/python3.11/site-packages/sklearn/base.py:348: InconsistentVersionWarning: Trying to unpickle estimator StandardScaler from version 0.22.1 when using version 1.3.2. This might lead to breaking code or invalid results. Use at your own risk. For more info please refer to:\n",
      "https://scikit-learn.org/stable/model_persistence.html#security-maintainability-limitations\n",
      "  warnings.warn(\n",
      "/lscratch/dlopez/programs/miniconda_20221210/miniconda3/envs/VE_SBIBE/lib/python3.11/site-packages/sklearn/base.py:348: InconsistentVersionWarning: Trying to unpickle estimator PCA from version 0.22.1 when using version 1.3.2. This might lead to breaking code or invalid results. Use at your own risk. For more info please refer to:\n",
      "https://scikit-learn.org/stable/model_persistence.html#security-maintainability-limitations\n",
      "  warnings.warn(\n"
     ]
    },
    {
     "name": "stdout",
     "output_type": "stream",
     "text": [
      "No-wiggles emulator loaded in memory.\n",
      "Loading non-linear emulator...\n",
      "Nonlinear emulator loaded in memory.\n",
      "Loading Baryonic Emulator...\n"
     ]
    },
    {
     "name": "stderr",
     "output_type": "stream",
     "text": [
      "/lscratch/dlopez/programs/miniconda_20221210/miniconda3/envs/VE_SBIBE/lib/python3.11/site-packages/sklearn/base.py:348: InconsistentVersionWarning: Trying to unpickle estimator StandardScaler from version 0.23.2 when using version 1.3.2. This might lead to breaking code or invalid results. Use at your own risk. For more info please refer to:\n",
      "https://scikit-learn.org/stable/model_persistence.html#security-maintainability-limitations\n",
      "  warnings.warn(\n",
      "/lscratch/dlopez/programs/miniconda_20221210/miniconda3/envs/VE_SBIBE/lib/python3.11/site-packages/sklearn/base.py:348: InconsistentVersionWarning: Trying to unpickle estimator PCA from version 0.23.2 when using version 1.3.2. This might lead to breaking code or invalid results. Use at your own risk. For more info please refer to:\n",
      "https://scikit-learn.org/stable/model_persistence.html#security-maintainability-limitations\n",
      "  warnings.warn(\n"
     ]
    },
    {
     "name": "stdout",
     "output_type": "stream",
     "text": [
      "Baryonic Emulator loaded in memory.\n",
      "Loading sigma8 emulator...\n",
      "Sigma8 emulator loaded in memory.\n",
      "Loading linear emulator...\n"
     ]
    },
    {
     "name": "stderr",
     "output_type": "stream",
     "text": [
      "/lscratch/dlopez/programs/miniconda_20221210/miniconda3/envs/VE_SBIBE/lib/python3.11/site-packages/sklearn/base.py:348: InconsistentVersionWarning: Trying to unpickle estimator PCA from version 1.0 when using version 1.3.2. This might lead to breaking code or invalid results. Use at your own risk. For more info please refer to:\n",
      "https://scikit-learn.org/stable/model_persistence.html#security-maintainability-limitations\n",
      "  warnings.warn(\n",
      "/lscratch/dlopez/programs/miniconda_20221210/miniconda3/envs/VE_SBIBE/lib/python3.11/site-packages/sklearn/base.py:348: InconsistentVersionWarning: Trying to unpickle estimator StandardScaler from version 1.0 when using version 1.3.2. This might lead to breaking code or invalid results. Use at your own risk. For more info please refer to:\n",
      "https://scikit-learn.org/stable/model_persistence.html#security-maintainability-limitations\n",
      "  warnings.warn(\n",
      "/lscratch/dlopez/programs/miniconda_20221210/miniconda3/envs/VE_SBIBE/lib/python3.11/site-packages/sklearn/base.py:348: InconsistentVersionWarning: Trying to unpickle estimator PCA from version 1.0 when using version 1.3.2. This might lead to breaking code or invalid results. Use at your own risk. For more info please refer to:\n",
      "https://scikit-learn.org/stable/model_persistence.html#security-maintainability-limitations\n",
      "  warnings.warn(\n",
      "/lscratch/dlopez/programs/miniconda_20221210/miniconda3/envs/VE_SBIBE/lib/python3.11/site-packages/sklearn/base.py:348: InconsistentVersionWarning: Trying to unpickle estimator StandardScaler from version 1.0 when using version 1.3.2. This might lead to breaking code or invalid results. Use at your own risk. For more info please refer to:\n",
      "https://scikit-learn.org/stable/model_persistence.html#security-maintainability-limitations\n",
      "  warnings.warn(\n"
     ]
    },
    {
     "name": "stdout",
     "output_type": "stream",
     "text": [
      "Linear emulator loaded in memory.\n",
      "Loading no-wiggles emulator...\n",
      "No-wiggles emulator loaded in memory.\n",
      "Loading non-linear emulator...\n"
     ]
    },
    {
     "name": "stderr",
     "output_type": "stream",
     "text": [
      "/lscratch/dlopez/programs/miniconda_20221210/miniconda3/envs/VE_SBIBE/lib/python3.11/site-packages/sklearn/base.py:348: InconsistentVersionWarning: Trying to unpickle estimator StandardScaler from version 1.0.2 when using version 1.3.2. This might lead to breaking code or invalid results. Use at your own risk. For more info please refer to:\n",
      "https://scikit-learn.org/stable/model_persistence.html#security-maintainability-limitations\n",
      "  warnings.warn(\n",
      "/lscratch/dlopez/programs/miniconda_20221210/miniconda3/envs/VE_SBIBE/lib/python3.11/site-packages/sklearn/base.py:348: InconsistentVersionWarning: Trying to unpickle estimator StandardScaler from version 0.22.1 when using version 1.3.2. This might lead to breaking code or invalid results. Use at your own risk. For more info please refer to:\n",
      "https://scikit-learn.org/stable/model_persistence.html#security-maintainability-limitations\n",
      "  warnings.warn(\n",
      "/lscratch/dlopez/programs/miniconda_20221210/miniconda3/envs/VE_SBIBE/lib/python3.11/site-packages/sklearn/base.py:348: InconsistentVersionWarning: Trying to unpickle estimator PCA from version 0.22.1 when using version 1.3.2. This might lead to breaking code or invalid results. Use at your own risk. For more info please refer to:\n",
      "https://scikit-learn.org/stable/model_persistence.html#security-maintainability-limitations\n",
      "  warnings.warn(\n"
     ]
    },
    {
     "name": "stdout",
     "output_type": "stream",
     "text": [
      "Nonlinear emulator loaded in memory.\n",
      "Loading Baryonic Emulator...\n",
      "Baryonic Emulator loaded in memory.\n"
     ]
    },
    {
     "name": "stderr",
     "output_type": "stream",
     "text": [
      "/lscratch/dlopez/programs/miniconda_20221210/miniconda3/envs/VE_SBIBE/lib/python3.11/site-packages/sklearn/base.py:348: InconsistentVersionWarning: Trying to unpickle estimator StandardScaler from version 0.23.2 when using version 1.3.2. This might lead to breaking code or invalid results. Use at your own risk. For more info please refer to:\n",
      "https://scikit-learn.org/stable/model_persistence.html#security-maintainability-limitations\n",
      "  warnings.warn(\n",
      "/lscratch/dlopez/programs/miniconda_20221210/miniconda3/envs/VE_SBIBE/lib/python3.11/site-packages/sklearn/base.py:348: InconsistentVersionWarning: Trying to unpickle estimator PCA from version 0.23.2 when using version 1.3.2. This might lead to breaking code or invalid results. Use at your own risk. For more info please refer to:\n",
      "https://scikit-learn.org/stable/model_persistence.html#security-maintainability-limitations\n",
      "  warnings.warn(\n"
     ]
    },
    {
     "name": "stdout",
     "output_type": "stream",
     "text": [
      "Loading sigma8 emulator...\n",
      "Sigma8 emulator loaded in memory.\n",
      "Loading linear emulator...\n"
     ]
    },
    {
     "name": "stderr",
     "output_type": "stream",
     "text": [
      "/lscratch/dlopez/programs/miniconda_20221210/miniconda3/envs/VE_SBIBE/lib/python3.11/site-packages/sklearn/base.py:348: InconsistentVersionWarning: Trying to unpickle estimator PCA from version 1.0 when using version 1.3.2. This might lead to breaking code or invalid results. Use at your own risk. For more info please refer to:\n",
      "https://scikit-learn.org/stable/model_persistence.html#security-maintainability-limitations\n",
      "  warnings.warn(\n",
      "/lscratch/dlopez/programs/miniconda_20221210/miniconda3/envs/VE_SBIBE/lib/python3.11/site-packages/sklearn/base.py:348: InconsistentVersionWarning: Trying to unpickle estimator StandardScaler from version 1.0 when using version 1.3.2. This might lead to breaking code or invalid results. Use at your own risk. For more info please refer to:\n",
      "https://scikit-learn.org/stable/model_persistence.html#security-maintainability-limitations\n",
      "  warnings.warn(\n",
      "/lscratch/dlopez/programs/miniconda_20221210/miniconda3/envs/VE_SBIBE/lib/python3.11/site-packages/sklearn/base.py:348: InconsistentVersionWarning: Trying to unpickle estimator PCA from version 1.0 when using version 1.3.2. This might lead to breaking code or invalid results. Use at your own risk. For more info please refer to:\n",
      "https://scikit-learn.org/stable/model_persistence.html#security-maintainability-limitations\n",
      "  warnings.warn(\n",
      "/lscratch/dlopez/programs/miniconda_20221210/miniconda3/envs/VE_SBIBE/lib/python3.11/site-packages/sklearn/base.py:348: InconsistentVersionWarning: Trying to unpickle estimator StandardScaler from version 1.0 when using version 1.3.2. This might lead to breaking code or invalid results. Use at your own risk. For more info please refer to:\n",
      "https://scikit-learn.org/stable/model_persistence.html#security-maintainability-limitations\n",
      "  warnings.warn(\n"
     ]
    },
    {
     "name": "stdout",
     "output_type": "stream",
     "text": [
      "Linear emulator loaded in memory.\n",
      "Loading no-wiggles emulator...\n",
      "No-wiggles emulator loaded in memory.\n",
      "Loading non-linear emulator...\n"
     ]
    },
    {
     "name": "stderr",
     "output_type": "stream",
     "text": [
      "/lscratch/dlopez/programs/miniconda_20221210/miniconda3/envs/VE_SBIBE/lib/python3.11/site-packages/sklearn/base.py:348: InconsistentVersionWarning: Trying to unpickle estimator StandardScaler from version 1.0.2 when using version 1.3.2. This might lead to breaking code or invalid results. Use at your own risk. For more info please refer to:\n",
      "https://scikit-learn.org/stable/model_persistence.html#security-maintainability-limitations\n",
      "  warnings.warn(\n",
      "/lscratch/dlopez/programs/miniconda_20221210/miniconda3/envs/VE_SBIBE/lib/python3.11/site-packages/sklearn/base.py:348: InconsistentVersionWarning: Trying to unpickle estimator StandardScaler from version 0.22.1 when using version 1.3.2. This might lead to breaking code or invalid results. Use at your own risk. For more info please refer to:\n",
      "https://scikit-learn.org/stable/model_persistence.html#security-maintainability-limitations\n",
      "  warnings.warn(\n",
      "/lscratch/dlopez/programs/miniconda_20221210/miniconda3/envs/VE_SBIBE/lib/python3.11/site-packages/sklearn/base.py:348: InconsistentVersionWarning: Trying to unpickle estimator PCA from version 0.22.1 when using version 1.3.2. This might lead to breaking code or invalid results. Use at your own risk. For more info please refer to:\n",
      "https://scikit-learn.org/stable/model_persistence.html#security-maintainability-limitations\n",
      "  warnings.warn(\n",
      "/lscratch/dlopez/programs/miniconda_20221210/miniconda3/envs/VE_SBIBE/lib/python3.11/site-packages/sklearn/base.py:348: InconsistentVersionWarning: Trying to unpickle estimator StandardScaler from version 0.23.2 when using version 1.3.2. This might lead to breaking code or invalid results. Use at your own risk. For more info please refer to:\n",
      "https://scikit-learn.org/stable/model_persistence.html#security-maintainability-limitations\n",
      "  warnings.warn(\n",
      "/lscratch/dlopez/programs/miniconda_20221210/miniconda3/envs/VE_SBIBE/lib/python3.11/site-packages/sklearn/base.py:348: InconsistentVersionWarning: Trying to unpickle estimator PCA from version 0.23.2 when using version 1.3.2. This might lead to breaking code or invalid results. Use at your own risk. For more info please refer to:\n",
      "https://scikit-learn.org/stable/model_persistence.html#security-maintainability-limitations\n",
      "  warnings.warn(\n"
     ]
    },
    {
     "name": "stdout",
     "output_type": "stream",
     "text": [
      "Nonlinear emulator loaded in memory.\n",
      "Loading Baryonic Emulator...\n",
      "Baryonic Emulator loaded in memory.\n",
      "Loading sigma8 emulator...\n",
      "Sigma8 emulator loaded in memory.\n",
      "Loading linear emulator...\n"
     ]
    },
    {
     "name": "stderr",
     "output_type": "stream",
     "text": [
      "/lscratch/dlopez/programs/miniconda_20221210/miniconda3/envs/VE_SBIBE/lib/python3.11/site-packages/sklearn/base.py:348: InconsistentVersionWarning: Trying to unpickle estimator PCA from version 1.0 when using version 1.3.2. This might lead to breaking code or invalid results. Use at your own risk. For more info please refer to:\n",
      "https://scikit-learn.org/stable/model_persistence.html#security-maintainability-limitations\n",
      "  warnings.warn(\n",
      "/lscratch/dlopez/programs/miniconda_20221210/miniconda3/envs/VE_SBIBE/lib/python3.11/site-packages/sklearn/base.py:348: InconsistentVersionWarning: Trying to unpickle estimator StandardScaler from version 1.0 when using version 1.3.2. This might lead to breaking code or invalid results. Use at your own risk. For more info please refer to:\n",
      "https://scikit-learn.org/stable/model_persistence.html#security-maintainability-limitations\n",
      "  warnings.warn(\n",
      "/lscratch/dlopez/programs/miniconda_20221210/miniconda3/envs/VE_SBIBE/lib/python3.11/site-packages/sklearn/base.py:348: InconsistentVersionWarning: Trying to unpickle estimator PCA from version 1.0 when using version 1.3.2. This might lead to breaking code or invalid results. Use at your own risk. For more info please refer to:\n",
      "https://scikit-learn.org/stable/model_persistence.html#security-maintainability-limitations\n",
      "  warnings.warn(\n",
      "/lscratch/dlopez/programs/miniconda_20221210/miniconda3/envs/VE_SBIBE/lib/python3.11/site-packages/sklearn/base.py:348: InconsistentVersionWarning: Trying to unpickle estimator StandardScaler from version 1.0 when using version 1.3.2. This might lead to breaking code or invalid results. Use at your own risk. For more info please refer to:\n",
      "https://scikit-learn.org/stable/model_persistence.html#security-maintainability-limitations\n",
      "  warnings.warn(\n"
     ]
    },
    {
     "name": "stdout",
     "output_type": "stream",
     "text": [
      "Linear emulator loaded in memory.\n",
      "Loading no-wiggles emulator...\n",
      "No-wiggles emulator loaded in memory.\n",
      "Loading non-linear emulator...\n"
     ]
    },
    {
     "name": "stderr",
     "output_type": "stream",
     "text": [
      "/lscratch/dlopez/programs/miniconda_20221210/miniconda3/envs/VE_SBIBE/lib/python3.11/site-packages/sklearn/base.py:348: InconsistentVersionWarning: Trying to unpickle estimator StandardScaler from version 1.0.2 when using version 1.3.2. This might lead to breaking code or invalid results. Use at your own risk. For more info please refer to:\n",
      "https://scikit-learn.org/stable/model_persistence.html#security-maintainability-limitations\n",
      "  warnings.warn(\n",
      "/lscratch/dlopez/programs/miniconda_20221210/miniconda3/envs/VE_SBIBE/lib/python3.11/site-packages/sklearn/base.py:348: InconsistentVersionWarning: Trying to unpickle estimator StandardScaler from version 0.22.1 when using version 1.3.2. This might lead to breaking code or invalid results. Use at your own risk. For more info please refer to:\n",
      "https://scikit-learn.org/stable/model_persistence.html#security-maintainability-limitations\n",
      "  warnings.warn(\n",
      "/lscratch/dlopez/programs/miniconda_20221210/miniconda3/envs/VE_SBIBE/lib/python3.11/site-packages/sklearn/base.py:348: InconsistentVersionWarning: Trying to unpickle estimator PCA from version 0.22.1 when using version 1.3.2. This might lead to breaking code or invalid results. Use at your own risk. For more info please refer to:\n",
      "https://scikit-learn.org/stable/model_persistence.html#security-maintainability-limitations\n",
      "  warnings.warn(\n"
     ]
    },
    {
     "name": "stdout",
     "output_type": "stream",
     "text": [
      "Nonlinear emulator loaded in memory.\n",
      "Loading Baryonic Emulator...\n",
      "Baryonic Emulator loaded in memory.\n"
     ]
    },
    {
     "name": "stderr",
     "output_type": "stream",
     "text": [
      "/lscratch/dlopez/programs/miniconda_20221210/miniconda3/envs/VE_SBIBE/lib/python3.11/site-packages/sklearn/base.py:348: InconsistentVersionWarning: Trying to unpickle estimator StandardScaler from version 0.23.2 when using version 1.3.2. This might lead to breaking code or invalid results. Use at your own risk. For more info please refer to:\n",
      "https://scikit-learn.org/stable/model_persistence.html#security-maintainability-limitations\n",
      "  warnings.warn(\n",
      "/lscratch/dlopez/programs/miniconda_20221210/miniconda3/envs/VE_SBIBE/lib/python3.11/site-packages/sklearn/base.py:348: InconsistentVersionWarning: Trying to unpickle estimator PCA from version 0.23.2 when using version 1.3.2. This might lead to breaking code or invalid results. Use at your own risk. For more info please refer to:\n",
      "https://scikit-learn.org/stable/model_persistence.html#security-maintainability-limitations\n",
      "  warnings.warn(\n"
     ]
    },
    {
     "name": "stdout",
     "output_type": "stream",
     "text": [
      "Loading sigma8 emulator...\n",
      "Sigma8 emulator loaded in memory.\n",
      "Loading linear emulator...\n"
     ]
    },
    {
     "name": "stderr",
     "output_type": "stream",
     "text": [
      "/lscratch/dlopez/programs/miniconda_20221210/miniconda3/envs/VE_SBIBE/lib/python3.11/site-packages/sklearn/base.py:348: InconsistentVersionWarning: Trying to unpickle estimator PCA from version 1.0 when using version 1.3.2. This might lead to breaking code or invalid results. Use at your own risk. For more info please refer to:\n",
      "https://scikit-learn.org/stable/model_persistence.html#security-maintainability-limitations\n",
      "  warnings.warn(\n",
      "/lscratch/dlopez/programs/miniconda_20221210/miniconda3/envs/VE_SBIBE/lib/python3.11/site-packages/sklearn/base.py:348: InconsistentVersionWarning: Trying to unpickle estimator StandardScaler from version 1.0 when using version 1.3.2. This might lead to breaking code or invalid results. Use at your own risk. For more info please refer to:\n",
      "https://scikit-learn.org/stable/model_persistence.html#security-maintainability-limitations\n",
      "  warnings.warn(\n",
      "/lscratch/dlopez/programs/miniconda_20221210/miniconda3/envs/VE_SBIBE/lib/python3.11/site-packages/sklearn/base.py:348: InconsistentVersionWarning: Trying to unpickle estimator PCA from version 1.0 when using version 1.3.2. This might lead to breaking code or invalid results. Use at your own risk. For more info please refer to:\n",
      "https://scikit-learn.org/stable/model_persistence.html#security-maintainability-limitations\n",
      "  warnings.warn(\n",
      "/lscratch/dlopez/programs/miniconda_20221210/miniconda3/envs/VE_SBIBE/lib/python3.11/site-packages/sklearn/base.py:348: InconsistentVersionWarning: Trying to unpickle estimator StandardScaler from version 1.0 when using version 1.3.2. This might lead to breaking code or invalid results. Use at your own risk. For more info please refer to:\n",
      "https://scikit-learn.org/stable/model_persistence.html#security-maintainability-limitations\n",
      "  warnings.warn(\n"
     ]
    },
    {
     "name": "stdout",
     "output_type": "stream",
     "text": [
      "Linear emulator loaded in memory.\n",
      "Loading no-wiggles emulator...\n",
      "No-wiggles emulator loaded in memory.\n",
      "Loading non-linear emulator...\n"
     ]
    },
    {
     "name": "stderr",
     "output_type": "stream",
     "text": [
      "/lscratch/dlopez/programs/miniconda_20221210/miniconda3/envs/VE_SBIBE/lib/python3.11/site-packages/sklearn/base.py:348: InconsistentVersionWarning: Trying to unpickle estimator StandardScaler from version 1.0.2 when using version 1.3.2. This might lead to breaking code or invalid results. Use at your own risk. For more info please refer to:\n",
      "https://scikit-learn.org/stable/model_persistence.html#security-maintainability-limitations\n",
      "  warnings.warn(\n",
      "/lscratch/dlopez/programs/miniconda_20221210/miniconda3/envs/VE_SBIBE/lib/python3.11/site-packages/sklearn/base.py:348: InconsistentVersionWarning: Trying to unpickle estimator StandardScaler from version 0.22.1 when using version 1.3.2. This might lead to breaking code or invalid results. Use at your own risk. For more info please refer to:\n",
      "https://scikit-learn.org/stable/model_persistence.html#security-maintainability-limitations\n",
      "  warnings.warn(\n",
      "/lscratch/dlopez/programs/miniconda_20221210/miniconda3/envs/VE_SBIBE/lib/python3.11/site-packages/sklearn/base.py:348: InconsistentVersionWarning: Trying to unpickle estimator PCA from version 0.22.1 when using version 1.3.2. This might lead to breaking code or invalid results. Use at your own risk. For more info please refer to:\n",
      "https://scikit-learn.org/stable/model_persistence.html#security-maintainability-limitations\n",
      "  warnings.warn(\n"
     ]
    },
    {
     "name": "stdout",
     "output_type": "stream",
     "text": [
      "Nonlinear emulator loaded in memory.\n",
      "Loading Baryonic Emulator...\n",
      "Baryonic Emulator loaded in memory.\n"
     ]
    },
    {
     "name": "stderr",
     "output_type": "stream",
     "text": [
      "/lscratch/dlopez/programs/miniconda_20221210/miniconda3/envs/VE_SBIBE/lib/python3.11/site-packages/sklearn/base.py:348: InconsistentVersionWarning: Trying to unpickle estimator StandardScaler from version 0.23.2 when using version 1.3.2. This might lead to breaking code or invalid results. Use at your own risk. For more info please refer to:\n",
      "https://scikit-learn.org/stable/model_persistence.html#security-maintainability-limitations\n",
      "  warnings.warn(\n",
      "/lscratch/dlopez/programs/miniconda_20221210/miniconda3/envs/VE_SBIBE/lib/python3.11/site-packages/sklearn/base.py:348: InconsistentVersionWarning: Trying to unpickle estimator PCA from version 0.23.2 when using version 1.3.2. This might lead to breaking code or invalid results. Use at your own risk. For more info please refer to:\n",
      "https://scikit-learn.org/stable/model_persistence.html#security-maintainability-limitations\n",
      "  warnings.warn(\n"
     ]
    },
    {
     "name": "stdout",
     "output_type": "stream",
     "text": [
      "Loading sigma8 emulator...\n",
      "Sigma8 emulator loaded in memory.\n",
      "Loading linear emulator...\n"
     ]
    },
    {
     "name": "stderr",
     "output_type": "stream",
     "text": [
      "/lscratch/dlopez/programs/miniconda_20221210/miniconda3/envs/VE_SBIBE/lib/python3.11/site-packages/sklearn/base.py:348: InconsistentVersionWarning: Trying to unpickle estimator PCA from version 1.0 when using version 1.3.2. This might lead to breaking code or invalid results. Use at your own risk. For more info please refer to:\n",
      "https://scikit-learn.org/stable/model_persistence.html#security-maintainability-limitations\n",
      "  warnings.warn(\n",
      "/lscratch/dlopez/programs/miniconda_20221210/miniconda3/envs/VE_SBIBE/lib/python3.11/site-packages/sklearn/base.py:348: InconsistentVersionWarning: Trying to unpickle estimator StandardScaler from version 1.0 when using version 1.3.2. This might lead to breaking code or invalid results. Use at your own risk. For more info please refer to:\n",
      "https://scikit-learn.org/stable/model_persistence.html#security-maintainability-limitations\n",
      "  warnings.warn(\n",
      "/lscratch/dlopez/programs/miniconda_20221210/miniconda3/envs/VE_SBIBE/lib/python3.11/site-packages/sklearn/base.py:348: InconsistentVersionWarning: Trying to unpickle estimator PCA from version 1.0 when using version 1.3.2. This might lead to breaking code or invalid results. Use at your own risk. For more info please refer to:\n",
      "https://scikit-learn.org/stable/model_persistence.html#security-maintainability-limitations\n",
      "  warnings.warn(\n",
      "/lscratch/dlopez/programs/miniconda_20221210/miniconda3/envs/VE_SBIBE/lib/python3.11/site-packages/sklearn/base.py:348: InconsistentVersionWarning: Trying to unpickle estimator StandardScaler from version 1.0 when using version 1.3.2. This might lead to breaking code or invalid results. Use at your own risk. For more info please refer to:\n",
      "https://scikit-learn.org/stable/model_persistence.html#security-maintainability-limitations\n",
      "  warnings.warn(\n"
     ]
    },
    {
     "name": "stdout",
     "output_type": "stream",
     "text": [
      "Linear emulator loaded in memory.\n",
      "Loading no-wiggles emulator...\n",
      "No-wiggles emulator loaded in memory.\n",
      "Loading non-linear emulator...\n"
     ]
    },
    {
     "name": "stderr",
     "output_type": "stream",
     "text": [
      "/lscratch/dlopez/programs/miniconda_20221210/miniconda3/envs/VE_SBIBE/lib/python3.11/site-packages/sklearn/base.py:348: InconsistentVersionWarning: Trying to unpickle estimator StandardScaler from version 1.0.2 when using version 1.3.2. This might lead to breaking code or invalid results. Use at your own risk. For more info please refer to:\n",
      "https://scikit-learn.org/stable/model_persistence.html#security-maintainability-limitations\n",
      "  warnings.warn(\n",
      "/lscratch/dlopez/programs/miniconda_20221210/miniconda3/envs/VE_SBIBE/lib/python3.11/site-packages/sklearn/base.py:348: InconsistentVersionWarning: Trying to unpickle estimator StandardScaler from version 0.22.1 when using version 1.3.2. This might lead to breaking code or invalid results. Use at your own risk. For more info please refer to:\n",
      "https://scikit-learn.org/stable/model_persistence.html#security-maintainability-limitations\n",
      "  warnings.warn(\n",
      "/lscratch/dlopez/programs/miniconda_20221210/miniconda3/envs/VE_SBIBE/lib/python3.11/site-packages/sklearn/base.py:348: InconsistentVersionWarning: Trying to unpickle estimator PCA from version 0.22.1 when using version 1.3.2. This might lead to breaking code or invalid results. Use at your own risk. For more info please refer to:\n",
      "https://scikit-learn.org/stable/model_persistence.html#security-maintainability-limitations\n",
      "  warnings.warn(\n"
     ]
    },
    {
     "name": "stdout",
     "output_type": "stream",
     "text": [
      "Nonlinear emulator loaded in memory.\n",
      "Loading Baryonic Emulator...\n",
      "Baryonic Emulator loaded in memory.\n"
     ]
    },
    {
     "name": "stderr",
     "output_type": "stream",
     "text": [
      "/lscratch/dlopez/programs/miniconda_20221210/miniconda3/envs/VE_SBIBE/lib/python3.11/site-packages/sklearn/base.py:348: InconsistentVersionWarning: Trying to unpickle estimator StandardScaler from version 0.23.2 when using version 1.3.2. This might lead to breaking code or invalid results. Use at your own risk. For more info please refer to:\n",
      "https://scikit-learn.org/stable/model_persistence.html#security-maintainability-limitations\n",
      "  warnings.warn(\n",
      "/lscratch/dlopez/programs/miniconda_20221210/miniconda3/envs/VE_SBIBE/lib/python3.11/site-packages/sklearn/base.py:348: InconsistentVersionWarning: Trying to unpickle estimator PCA from version 0.23.2 when using version 1.3.2. This might lead to breaking code or invalid results. Use at your own risk. For more info please refer to:\n",
      "https://scikit-learn.org/stable/model_persistence.html#security-maintainability-limitations\n",
      "  warnings.warn(\n"
     ]
    },
    {
     "name": "stdout",
     "output_type": "stream",
     "text": [
      "Loading sigma8 emulator...\n",
      "Sigma8 emulator loaded in memory.\n",
      "Loading linear emulator...\n"
     ]
    },
    {
     "name": "stderr",
     "output_type": "stream",
     "text": [
      "/lscratch/dlopez/programs/miniconda_20221210/miniconda3/envs/VE_SBIBE/lib/python3.11/site-packages/sklearn/base.py:348: InconsistentVersionWarning: Trying to unpickle estimator PCA from version 1.0 when using version 1.3.2. This might lead to breaking code or invalid results. Use at your own risk. For more info please refer to:\n",
      "https://scikit-learn.org/stable/model_persistence.html#security-maintainability-limitations\n",
      "  warnings.warn(\n",
      "/lscratch/dlopez/programs/miniconda_20221210/miniconda3/envs/VE_SBIBE/lib/python3.11/site-packages/sklearn/base.py:348: InconsistentVersionWarning: Trying to unpickle estimator StandardScaler from version 1.0 when using version 1.3.2. This might lead to breaking code or invalid results. Use at your own risk. For more info please refer to:\n",
      "https://scikit-learn.org/stable/model_persistence.html#security-maintainability-limitations\n",
      "  warnings.warn(\n",
      "/lscratch/dlopez/programs/miniconda_20221210/miniconda3/envs/VE_SBIBE/lib/python3.11/site-packages/sklearn/base.py:348: InconsistentVersionWarning: Trying to unpickle estimator PCA from version 1.0 when using version 1.3.2. This might lead to breaking code or invalid results. Use at your own risk. For more info please refer to:\n",
      "https://scikit-learn.org/stable/model_persistence.html#security-maintainability-limitations\n",
      "  warnings.warn(\n",
      "/lscratch/dlopez/programs/miniconda_20221210/miniconda3/envs/VE_SBIBE/lib/python3.11/site-packages/sklearn/base.py:348: InconsistentVersionWarning: Trying to unpickle estimator StandardScaler from version 1.0 when using version 1.3.2. This might lead to breaking code or invalid results. Use at your own risk. For more info please refer to:\n",
      "https://scikit-learn.org/stable/model_persistence.html#security-maintainability-limitations\n",
      "  warnings.warn(\n"
     ]
    },
    {
     "name": "stdout",
     "output_type": "stream",
     "text": [
      "Linear emulator loaded in memory.\n",
      "Loading no-wiggles emulator...\n",
      "No-wiggles emulator loaded in memory.\n",
      "Loading non-linear emulator...\n"
     ]
    },
    {
     "name": "stderr",
     "output_type": "stream",
     "text": [
      "/lscratch/dlopez/programs/miniconda_20221210/miniconda3/envs/VE_SBIBE/lib/python3.11/site-packages/sklearn/base.py:348: InconsistentVersionWarning: Trying to unpickle estimator StandardScaler from version 1.0.2 when using version 1.3.2. This might lead to breaking code or invalid results. Use at your own risk. For more info please refer to:\n",
      "https://scikit-learn.org/stable/model_persistence.html#security-maintainability-limitations\n",
      "  warnings.warn(\n",
      "/lscratch/dlopez/programs/miniconda_20221210/miniconda3/envs/VE_SBIBE/lib/python3.11/site-packages/sklearn/base.py:348: InconsistentVersionWarning: Trying to unpickle estimator StandardScaler from version 0.22.1 when using version 1.3.2. This might lead to breaking code or invalid results. Use at your own risk. For more info please refer to:\n",
      "https://scikit-learn.org/stable/model_persistence.html#security-maintainability-limitations\n",
      "  warnings.warn(\n",
      "/lscratch/dlopez/programs/miniconda_20221210/miniconda3/envs/VE_SBIBE/lib/python3.11/site-packages/sklearn/base.py:348: InconsistentVersionWarning: Trying to unpickle estimator PCA from version 0.22.1 when using version 1.3.2. This might lead to breaking code or invalid results. Use at your own risk. For more info please refer to:\n",
      "https://scikit-learn.org/stable/model_persistence.html#security-maintainability-limitations\n",
      "  warnings.warn(\n"
     ]
    },
    {
     "name": "stdout",
     "output_type": "stream",
     "text": [
      "Nonlinear emulator loaded in memory.\n",
      "Loading Baryonic Emulator...\n",
      "Baryonic Emulator loaded in memory.\n"
     ]
    },
    {
     "name": "stderr",
     "output_type": "stream",
     "text": [
      "/lscratch/dlopez/programs/miniconda_20221210/miniconda3/envs/VE_SBIBE/lib/python3.11/site-packages/sklearn/base.py:348: InconsistentVersionWarning: Trying to unpickle estimator StandardScaler from version 0.23.2 when using version 1.3.2. This might lead to breaking code or invalid results. Use at your own risk. For more info please refer to:\n",
      "https://scikit-learn.org/stable/model_persistence.html#security-maintainability-limitations\n",
      "  warnings.warn(\n",
      "/lscratch/dlopez/programs/miniconda_20221210/miniconda3/envs/VE_SBIBE/lib/python3.11/site-packages/sklearn/base.py:348: InconsistentVersionWarning: Trying to unpickle estimator PCA from version 0.23.2 when using version 1.3.2. This might lead to breaking code or invalid results. Use at your own risk. For more info please refer to:\n",
      "https://scikit-learn.org/stable/model_persistence.html#security-maintainability-limitations\n",
      "  warnings.warn(\n"
     ]
    },
    {
     "name": "stdout",
     "output_type": "stream",
     "text": [
      "Loading sigma8 emulator...\n",
      "Sigma8 emulator loaded in memory.\n",
      "Loading linear emulator...\n"
     ]
    },
    {
     "name": "stderr",
     "output_type": "stream",
     "text": [
      "/lscratch/dlopez/programs/miniconda_20221210/miniconda3/envs/VE_SBIBE/lib/python3.11/site-packages/sklearn/base.py:348: InconsistentVersionWarning: Trying to unpickle estimator PCA from version 1.0 when using version 1.3.2. This might lead to breaking code or invalid results. Use at your own risk. For more info please refer to:\n",
      "https://scikit-learn.org/stable/model_persistence.html#security-maintainability-limitations\n",
      "  warnings.warn(\n",
      "/lscratch/dlopez/programs/miniconda_20221210/miniconda3/envs/VE_SBIBE/lib/python3.11/site-packages/sklearn/base.py:348: InconsistentVersionWarning: Trying to unpickle estimator StandardScaler from version 1.0 when using version 1.3.2. This might lead to breaking code or invalid results. Use at your own risk. For more info please refer to:\n",
      "https://scikit-learn.org/stable/model_persistence.html#security-maintainability-limitations\n",
      "  warnings.warn(\n",
      "/lscratch/dlopez/programs/miniconda_20221210/miniconda3/envs/VE_SBIBE/lib/python3.11/site-packages/sklearn/base.py:348: InconsistentVersionWarning: Trying to unpickle estimator PCA from version 1.0 when using version 1.3.2. This might lead to breaking code or invalid results. Use at your own risk. For more info please refer to:\n",
      "https://scikit-learn.org/stable/model_persistence.html#security-maintainability-limitations\n",
      "  warnings.warn(\n",
      "/lscratch/dlopez/programs/miniconda_20221210/miniconda3/envs/VE_SBIBE/lib/python3.11/site-packages/sklearn/base.py:348: InconsistentVersionWarning: Trying to unpickle estimator StandardScaler from version 1.0 when using version 1.3.2. This might lead to breaking code or invalid results. Use at your own risk. For more info please refer to:\n",
      "https://scikit-learn.org/stable/model_persistence.html#security-maintainability-limitations\n",
      "  warnings.warn(\n",
      "/lscratch/dlopez/programs/miniconda_20221210/miniconda3/envs/VE_SBIBE/lib/python3.11/site-packages/sklearn/base.py:348: InconsistentVersionWarning: Trying to unpickle estimator StandardScaler from version 1.0.2 when using version 1.3.2. This might lead to breaking code or invalid results. Use at your own risk. For more info please refer to:\n",
      "https://scikit-learn.org/stable/model_persistence.html#security-maintainability-limitations\n",
      "  warnings.warn(\n"
     ]
    },
    {
     "name": "stdout",
     "output_type": "stream",
     "text": [
      "Linear emulator loaded in memory.\n",
      "Loading no-wiggles emulator...\n",
      "No-wiggles emulator loaded in memory.\n",
      "Loading non-linear emulator...\n"
     ]
    },
    {
     "name": "stderr",
     "output_type": "stream",
     "text": [
      "/lscratch/dlopez/programs/miniconda_20221210/miniconda3/envs/VE_SBIBE/lib/python3.11/site-packages/sklearn/base.py:348: InconsistentVersionWarning: Trying to unpickle estimator StandardScaler from version 0.22.1 when using version 1.3.2. This might lead to breaking code or invalid results. Use at your own risk. For more info please refer to:\n",
      "https://scikit-learn.org/stable/model_persistence.html#security-maintainability-limitations\n",
      "  warnings.warn(\n",
      "/lscratch/dlopez/programs/miniconda_20221210/miniconda3/envs/VE_SBIBE/lib/python3.11/site-packages/sklearn/base.py:348: InconsistentVersionWarning: Trying to unpickle estimator PCA from version 0.22.1 when using version 1.3.2. This might lead to breaking code or invalid results. Use at your own risk. For more info please refer to:\n",
      "https://scikit-learn.org/stable/model_persistence.html#security-maintainability-limitations\n",
      "  warnings.warn(\n",
      "/lscratch/dlopez/programs/miniconda_20221210/miniconda3/envs/VE_SBIBE/lib/python3.11/site-packages/sklearn/base.py:348: InconsistentVersionWarning: Trying to unpickle estimator StandardScaler from version 0.23.2 when using version 1.3.2. This might lead to breaking code or invalid results. Use at your own risk. For more info please refer to:\n",
      "https://scikit-learn.org/stable/model_persistence.html#security-maintainability-limitations\n",
      "  warnings.warn(\n",
      "/lscratch/dlopez/programs/miniconda_20221210/miniconda3/envs/VE_SBIBE/lib/python3.11/site-packages/sklearn/base.py:348: InconsistentVersionWarning: Trying to unpickle estimator PCA from version 0.23.2 when using version 1.3.2. This might lead to breaking code or invalid results. Use at your own risk. For more info please refer to:\n",
      "https://scikit-learn.org/stable/model_persistence.html#security-maintainability-limitations\n",
      "  warnings.warn(\n"
     ]
    },
    {
     "name": "stdout",
     "output_type": "stream",
     "text": [
      "Nonlinear emulator loaded in memory.\n",
      "Loading Baryonic Emulator...\n",
      "Baryonic Emulator loaded in memory.\n",
      "Loading sigma8 emulator...\n",
      "Sigma8 emulator loaded in memory.\n",
      "Loading linear emulator...\n"
     ]
    },
    {
     "name": "stderr",
     "output_type": "stream",
     "text": [
      "/lscratch/dlopez/programs/miniconda_20221210/miniconda3/envs/VE_SBIBE/lib/python3.11/site-packages/sklearn/base.py:348: InconsistentVersionWarning: Trying to unpickle estimator PCA from version 1.0 when using version 1.3.2. This might lead to breaking code or invalid results. Use at your own risk. For more info please refer to:\n",
      "https://scikit-learn.org/stable/model_persistence.html#security-maintainability-limitations\n",
      "  warnings.warn(\n",
      "/lscratch/dlopez/programs/miniconda_20221210/miniconda3/envs/VE_SBIBE/lib/python3.11/site-packages/sklearn/base.py:348: InconsistentVersionWarning: Trying to unpickle estimator StandardScaler from version 1.0 when using version 1.3.2. This might lead to breaking code or invalid results. Use at your own risk. For more info please refer to:\n",
      "https://scikit-learn.org/stable/model_persistence.html#security-maintainability-limitations\n",
      "  warnings.warn(\n",
      "/lscratch/dlopez/programs/miniconda_20221210/miniconda3/envs/VE_SBIBE/lib/python3.11/site-packages/sklearn/base.py:348: InconsistentVersionWarning: Trying to unpickle estimator PCA from version 1.0 when using version 1.3.2. This might lead to breaking code or invalid results. Use at your own risk. For more info please refer to:\n",
      "https://scikit-learn.org/stable/model_persistence.html#security-maintainability-limitations\n",
      "  warnings.warn(\n",
      "/lscratch/dlopez/programs/miniconda_20221210/miniconda3/envs/VE_SBIBE/lib/python3.11/site-packages/sklearn/base.py:348: InconsistentVersionWarning: Trying to unpickle estimator StandardScaler from version 1.0 when using version 1.3.2. This might lead to breaking code or invalid results. Use at your own risk. For more info please refer to:\n",
      "https://scikit-learn.org/stable/model_persistence.html#security-maintainability-limitations\n",
      "  warnings.warn(\n"
     ]
    },
    {
     "name": "stdout",
     "output_type": "stream",
     "text": [
      "Linear emulator loaded in memory.\n",
      "Loading no-wiggles emulator...\n",
      "No-wiggles emulator loaded in memory.\n",
      "Loading non-linear emulator...\n"
     ]
    },
    {
     "name": "stderr",
     "output_type": "stream",
     "text": [
      "/lscratch/dlopez/programs/miniconda_20221210/miniconda3/envs/VE_SBIBE/lib/python3.11/site-packages/sklearn/base.py:348: InconsistentVersionWarning: Trying to unpickle estimator StandardScaler from version 1.0.2 when using version 1.3.2. This might lead to breaking code or invalid results. Use at your own risk. For more info please refer to:\n",
      "https://scikit-learn.org/stable/model_persistence.html#security-maintainability-limitations\n",
      "  warnings.warn(\n",
      "/lscratch/dlopez/programs/miniconda_20221210/miniconda3/envs/VE_SBIBE/lib/python3.11/site-packages/sklearn/base.py:348: InconsistentVersionWarning: Trying to unpickle estimator StandardScaler from version 0.22.1 when using version 1.3.2. This might lead to breaking code or invalid results. Use at your own risk. For more info please refer to:\n",
      "https://scikit-learn.org/stable/model_persistence.html#security-maintainability-limitations\n",
      "  warnings.warn(\n",
      "/lscratch/dlopez/programs/miniconda_20221210/miniconda3/envs/VE_SBIBE/lib/python3.11/site-packages/sklearn/base.py:348: InconsistentVersionWarning: Trying to unpickle estimator PCA from version 0.22.1 when using version 1.3.2. This might lead to breaking code or invalid results. Use at your own risk. For more info please refer to:\n",
      "https://scikit-learn.org/stable/model_persistence.html#security-maintainability-limitations\n",
      "  warnings.warn(\n"
     ]
    },
    {
     "name": "stdout",
     "output_type": "stream",
     "text": [
      "Nonlinear emulator loaded in memory.\n",
      "Loading Baryonic Emulator...\n",
      "Baryonic Emulator loaded in memory.\n"
     ]
    },
    {
     "name": "stderr",
     "output_type": "stream",
     "text": [
      "/lscratch/dlopez/programs/miniconda_20221210/miniconda3/envs/VE_SBIBE/lib/python3.11/site-packages/sklearn/base.py:348: InconsistentVersionWarning: Trying to unpickle estimator StandardScaler from version 0.23.2 when using version 1.3.2. This might lead to breaking code or invalid results. Use at your own risk. For more info please refer to:\n",
      "https://scikit-learn.org/stable/model_persistence.html#security-maintainability-limitations\n",
      "  warnings.warn(\n",
      "/lscratch/dlopez/programs/miniconda_20221210/miniconda3/envs/VE_SBIBE/lib/python3.11/site-packages/sklearn/base.py:348: InconsistentVersionWarning: Trying to unpickle estimator PCA from version 0.23.2 when using version 1.3.2. This might lead to breaking code or invalid results. Use at your own risk. For more info please refer to:\n",
      "https://scikit-learn.org/stable/model_persistence.html#security-maintainability-limitations\n",
      "  warnings.warn(\n"
     ]
    },
    {
     "name": "stdout",
     "output_type": "stream",
     "text": [
      "Loading sigma8 emulator...\n",
      "Sigma8 emulator loaded in memory.\n",
      "Loading linear emulator...\n"
     ]
    },
    {
     "name": "stderr",
     "output_type": "stream",
     "text": [
      "/lscratch/dlopez/programs/miniconda_20221210/miniconda3/envs/VE_SBIBE/lib/python3.11/site-packages/sklearn/base.py:348: InconsistentVersionWarning: Trying to unpickle estimator PCA from version 1.0 when using version 1.3.2. This might lead to breaking code or invalid results. Use at your own risk. For more info please refer to:\n",
      "https://scikit-learn.org/stable/model_persistence.html#security-maintainability-limitations\n",
      "  warnings.warn(\n",
      "/lscratch/dlopez/programs/miniconda_20221210/miniconda3/envs/VE_SBIBE/lib/python3.11/site-packages/sklearn/base.py:348: InconsistentVersionWarning: Trying to unpickle estimator StandardScaler from version 1.0 when using version 1.3.2. This might lead to breaking code or invalid results. Use at your own risk. For more info please refer to:\n",
      "https://scikit-learn.org/stable/model_persistence.html#security-maintainability-limitations\n",
      "  warnings.warn(\n",
      "/lscratch/dlopez/programs/miniconda_20221210/miniconda3/envs/VE_SBIBE/lib/python3.11/site-packages/sklearn/base.py:348: InconsistentVersionWarning: Trying to unpickle estimator PCA from version 1.0 when using version 1.3.2. This might lead to breaking code or invalid results. Use at your own risk. For more info please refer to:\n",
      "https://scikit-learn.org/stable/model_persistence.html#security-maintainability-limitations\n",
      "  warnings.warn(\n",
      "/lscratch/dlopez/programs/miniconda_20221210/miniconda3/envs/VE_SBIBE/lib/python3.11/site-packages/sklearn/base.py:348: InconsistentVersionWarning: Trying to unpickle estimator StandardScaler from version 1.0 when using version 1.3.2. This might lead to breaking code or invalid results. Use at your own risk. For more info please refer to:\n",
      "https://scikit-learn.org/stable/model_persistence.html#security-maintainability-limitations\n",
      "  warnings.warn(\n"
     ]
    },
    {
     "name": "stdout",
     "output_type": "stream",
     "text": [
      "Linear emulator loaded in memory.\n",
      "Loading no-wiggles emulator...\n",
      "No-wiggles emulator loaded in memory.\n",
      "Loading non-linear emulator...\n"
     ]
    },
    {
     "name": "stderr",
     "output_type": "stream",
     "text": [
      "/lscratch/dlopez/programs/miniconda_20221210/miniconda3/envs/VE_SBIBE/lib/python3.11/site-packages/sklearn/base.py:348: InconsistentVersionWarning: Trying to unpickle estimator StandardScaler from version 1.0.2 when using version 1.3.2. This might lead to breaking code or invalid results. Use at your own risk. For more info please refer to:\n",
      "https://scikit-learn.org/stable/model_persistence.html#security-maintainability-limitations\n",
      "  warnings.warn(\n",
      "/lscratch/dlopez/programs/miniconda_20221210/miniconda3/envs/VE_SBIBE/lib/python3.11/site-packages/sklearn/base.py:348: InconsistentVersionWarning: Trying to unpickle estimator StandardScaler from version 0.22.1 when using version 1.3.2. This might lead to breaking code or invalid results. Use at your own risk. For more info please refer to:\n",
      "https://scikit-learn.org/stable/model_persistence.html#security-maintainability-limitations\n",
      "  warnings.warn(\n",
      "/lscratch/dlopez/programs/miniconda_20221210/miniconda3/envs/VE_SBIBE/lib/python3.11/site-packages/sklearn/base.py:348: InconsistentVersionWarning: Trying to unpickle estimator PCA from version 0.22.1 when using version 1.3.2. This might lead to breaking code or invalid results. Use at your own risk. For more info please refer to:\n",
      "https://scikit-learn.org/stable/model_persistence.html#security-maintainability-limitations\n",
      "  warnings.warn(\n",
      "/lscratch/dlopez/programs/miniconda_20221210/miniconda3/envs/VE_SBIBE/lib/python3.11/site-packages/sklearn/base.py:348: InconsistentVersionWarning: Trying to unpickle estimator StandardScaler from version 0.23.2 when using version 1.3.2. This might lead to breaking code or invalid results. Use at your own risk. For more info please refer to:\n",
      "https://scikit-learn.org/stable/model_persistence.html#security-maintainability-limitations\n",
      "  warnings.warn(\n",
      "/lscratch/dlopez/programs/miniconda_20221210/miniconda3/envs/VE_SBIBE/lib/python3.11/site-packages/sklearn/base.py:348: InconsistentVersionWarning: Trying to unpickle estimator PCA from version 0.23.2 when using version 1.3.2. This might lead to breaking code or invalid results. Use at your own risk. For more info please refer to:\n",
      "https://scikit-learn.org/stable/model_persistence.html#security-maintainability-limitations\n",
      "  warnings.warn(\n"
     ]
    },
    {
     "name": "stdout",
     "output_type": "stream",
     "text": [
      "Nonlinear emulator loaded in memory.\n",
      "Loading Baryonic Emulator...\n",
      "Baryonic Emulator loaded in memory.\n",
      "Loading sigma8 emulator...\n",
      "Sigma8 emulator loaded in memory.\n",
      "Loading linear emulator...\n"
     ]
    },
    {
     "name": "stderr",
     "output_type": "stream",
     "text": [
      "/lscratch/dlopez/programs/miniconda_20221210/miniconda3/envs/VE_SBIBE/lib/python3.11/site-packages/sklearn/base.py:348: InconsistentVersionWarning: Trying to unpickle estimator PCA from version 1.0 when using version 1.3.2. This might lead to breaking code or invalid results. Use at your own risk. For more info please refer to:\n",
      "https://scikit-learn.org/stable/model_persistence.html#security-maintainability-limitations\n",
      "  warnings.warn(\n",
      "/lscratch/dlopez/programs/miniconda_20221210/miniconda3/envs/VE_SBIBE/lib/python3.11/site-packages/sklearn/base.py:348: InconsistentVersionWarning: Trying to unpickle estimator StandardScaler from version 1.0 when using version 1.3.2. This might lead to breaking code or invalid results. Use at your own risk. For more info please refer to:\n",
      "https://scikit-learn.org/stable/model_persistence.html#security-maintainability-limitations\n",
      "  warnings.warn(\n",
      "/lscratch/dlopez/programs/miniconda_20221210/miniconda3/envs/VE_SBIBE/lib/python3.11/site-packages/sklearn/base.py:348: InconsistentVersionWarning: Trying to unpickle estimator PCA from version 1.0 when using version 1.3.2. This might lead to breaking code or invalid results. Use at your own risk. For more info please refer to:\n",
      "https://scikit-learn.org/stable/model_persistence.html#security-maintainability-limitations\n",
      "  warnings.warn(\n",
      "/lscratch/dlopez/programs/miniconda_20221210/miniconda3/envs/VE_SBIBE/lib/python3.11/site-packages/sklearn/base.py:348: InconsistentVersionWarning: Trying to unpickle estimator StandardScaler from version 1.0 when using version 1.3.2. This might lead to breaking code or invalid results. Use at your own risk. For more info please refer to:\n",
      "https://scikit-learn.org/stable/model_persistence.html#security-maintainability-limitations\n",
      "  warnings.warn(\n"
     ]
    },
    {
     "name": "stdout",
     "output_type": "stream",
     "text": [
      "Linear emulator loaded in memory.\n",
      "Loading no-wiggles emulator...\n",
      "No-wiggles emulator loaded in memory.\n",
      "Loading non-linear emulator...\n"
     ]
    },
    {
     "name": "stderr",
     "output_type": "stream",
     "text": [
      "/lscratch/dlopez/programs/miniconda_20221210/miniconda3/envs/VE_SBIBE/lib/python3.11/site-packages/sklearn/base.py:348: InconsistentVersionWarning: Trying to unpickle estimator StandardScaler from version 1.0.2 when using version 1.3.2. This might lead to breaking code or invalid results. Use at your own risk. For more info please refer to:\n",
      "https://scikit-learn.org/stable/model_persistence.html#security-maintainability-limitations\n",
      "  warnings.warn(\n",
      "/lscratch/dlopez/programs/miniconda_20221210/miniconda3/envs/VE_SBIBE/lib/python3.11/site-packages/sklearn/base.py:348: InconsistentVersionWarning: Trying to unpickle estimator StandardScaler from version 0.22.1 when using version 1.3.2. This might lead to breaking code or invalid results. Use at your own risk. For more info please refer to:\n",
      "https://scikit-learn.org/stable/model_persistence.html#security-maintainability-limitations\n",
      "  warnings.warn(\n",
      "/lscratch/dlopez/programs/miniconda_20221210/miniconda3/envs/VE_SBIBE/lib/python3.11/site-packages/sklearn/base.py:348: InconsistentVersionWarning: Trying to unpickle estimator PCA from version 0.22.1 when using version 1.3.2. This might lead to breaking code or invalid results. Use at your own risk. For more info please refer to:\n",
      "https://scikit-learn.org/stable/model_persistence.html#security-maintainability-limitations\n",
      "  warnings.warn(\n"
     ]
    },
    {
     "name": "stdout",
     "output_type": "stream",
     "text": [
      "Nonlinear emulator loaded in memory.\n",
      "Loading Baryonic Emulator...\n",
      "Baryonic Emulator loaded in memory.\n"
     ]
    },
    {
     "name": "stderr",
     "output_type": "stream",
     "text": [
      "/lscratch/dlopez/programs/miniconda_20221210/miniconda3/envs/VE_SBIBE/lib/python3.11/site-packages/sklearn/base.py:348: InconsistentVersionWarning: Trying to unpickle estimator StandardScaler from version 0.23.2 when using version 1.3.2. This might lead to breaking code or invalid results. Use at your own risk. For more info please refer to:\n",
      "https://scikit-learn.org/stable/model_persistence.html#security-maintainability-limitations\n",
      "  warnings.warn(\n",
      "/lscratch/dlopez/programs/miniconda_20221210/miniconda3/envs/VE_SBIBE/lib/python3.11/site-packages/sklearn/base.py:348: InconsistentVersionWarning: Trying to unpickle estimator PCA from version 0.23.2 when using version 1.3.2. This might lead to breaking code or invalid results. Use at your own risk. For more info please refer to:\n",
      "https://scikit-learn.org/stable/model_persistence.html#security-maintainability-limitations\n",
      "  warnings.warn(\n"
     ]
    },
    {
     "name": "stdout",
     "output_type": "stream",
     "text": [
      "Loading sigma8 emulator...\n",
      "Sigma8 emulator loaded in memory.\n",
      "Loading linear emulator...\n"
     ]
    },
    {
     "name": "stderr",
     "output_type": "stream",
     "text": [
      "/lscratch/dlopez/programs/miniconda_20221210/miniconda3/envs/VE_SBIBE/lib/python3.11/site-packages/sklearn/base.py:348: InconsistentVersionWarning: Trying to unpickle estimator PCA from version 1.0 when using version 1.3.2. This might lead to breaking code or invalid results. Use at your own risk. For more info please refer to:\n",
      "https://scikit-learn.org/stable/model_persistence.html#security-maintainability-limitations\n",
      "  warnings.warn(\n",
      "/lscratch/dlopez/programs/miniconda_20221210/miniconda3/envs/VE_SBIBE/lib/python3.11/site-packages/sklearn/base.py:348: InconsistentVersionWarning: Trying to unpickle estimator StandardScaler from version 1.0 when using version 1.3.2. This might lead to breaking code or invalid results. Use at your own risk. For more info please refer to:\n",
      "https://scikit-learn.org/stable/model_persistence.html#security-maintainability-limitations\n",
      "  warnings.warn(\n",
      "/lscratch/dlopez/programs/miniconda_20221210/miniconda3/envs/VE_SBIBE/lib/python3.11/site-packages/sklearn/base.py:348: InconsistentVersionWarning: Trying to unpickle estimator PCA from version 1.0 when using version 1.3.2. This might lead to breaking code or invalid results. Use at your own risk. For more info please refer to:\n",
      "https://scikit-learn.org/stable/model_persistence.html#security-maintainability-limitations\n",
      "  warnings.warn(\n",
      "/lscratch/dlopez/programs/miniconda_20221210/miniconda3/envs/VE_SBIBE/lib/python3.11/site-packages/sklearn/base.py:348: InconsistentVersionWarning: Trying to unpickle estimator StandardScaler from version 1.0 when using version 1.3.2. This might lead to breaking code or invalid results. Use at your own risk. For more info please refer to:\n",
      "https://scikit-learn.org/stable/model_persistence.html#security-maintainability-limitations\n",
      "  warnings.warn(\n"
     ]
    },
    {
     "name": "stdout",
     "output_type": "stream",
     "text": [
      "Linear emulator loaded in memory.\n",
      "Loading no-wiggles emulator...\n",
      "No-wiggles emulator loaded in memory.\n",
      "Loading non-linear emulator...\n"
     ]
    },
    {
     "name": "stderr",
     "output_type": "stream",
     "text": [
      "/lscratch/dlopez/programs/miniconda_20221210/miniconda3/envs/VE_SBIBE/lib/python3.11/site-packages/sklearn/base.py:348: InconsistentVersionWarning: Trying to unpickle estimator StandardScaler from version 1.0.2 when using version 1.3.2. This might lead to breaking code or invalid results. Use at your own risk. For more info please refer to:\n",
      "https://scikit-learn.org/stable/model_persistence.html#security-maintainability-limitations\n",
      "  warnings.warn(\n",
      "/lscratch/dlopez/programs/miniconda_20221210/miniconda3/envs/VE_SBIBE/lib/python3.11/site-packages/sklearn/base.py:348: InconsistentVersionWarning: Trying to unpickle estimator StandardScaler from version 0.22.1 when using version 1.3.2. This might lead to breaking code or invalid results. Use at your own risk. For more info please refer to:\n",
      "https://scikit-learn.org/stable/model_persistence.html#security-maintainability-limitations\n",
      "  warnings.warn(\n",
      "/lscratch/dlopez/programs/miniconda_20221210/miniconda3/envs/VE_SBIBE/lib/python3.11/site-packages/sklearn/base.py:348: InconsistentVersionWarning: Trying to unpickle estimator PCA from version 0.22.1 when using version 1.3.2. This might lead to breaking code or invalid results. Use at your own risk. For more info please refer to:\n",
      "https://scikit-learn.org/stable/model_persistence.html#security-maintainability-limitations\n",
      "  warnings.warn(\n"
     ]
    },
    {
     "name": "stdout",
     "output_type": "stream",
     "text": [
      "Nonlinear emulator loaded in memory.\n",
      "Loading Baryonic Emulator...\n"
     ]
    },
    {
     "name": "stderr",
     "output_type": "stream",
     "text": [
      "/lscratch/dlopez/programs/miniconda_20221210/miniconda3/envs/VE_SBIBE/lib/python3.11/site-packages/sklearn/base.py:348: InconsistentVersionWarning: Trying to unpickle estimator StandardScaler from version 0.23.2 when using version 1.3.2. This might lead to breaking code or invalid results. Use at your own risk. For more info please refer to:\n",
      "https://scikit-learn.org/stable/model_persistence.html#security-maintainability-limitations\n",
      "  warnings.warn(\n",
      "/lscratch/dlopez/programs/miniconda_20221210/miniconda3/envs/VE_SBIBE/lib/python3.11/site-packages/sklearn/base.py:348: InconsistentVersionWarning: Trying to unpickle estimator PCA from version 0.23.2 when using version 1.3.2. This might lead to breaking code or invalid results. Use at your own risk. For more info please refer to:\n",
      "https://scikit-learn.org/stable/model_persistence.html#security-maintainability-limitations\n",
      "  warnings.warn(\n"
     ]
    },
    {
     "name": "stdout",
     "output_type": "stream",
     "text": [
      "Baryonic Emulator loaded in memory.\n",
      "Loading sigma8 emulator...\n",
      "Sigma8 emulator loaded in memory.\n",
      "Loading linear emulator...\n"
     ]
    },
    {
     "name": "stderr",
     "output_type": "stream",
     "text": [
      "/lscratch/dlopez/programs/miniconda_20221210/miniconda3/envs/VE_SBIBE/lib/python3.11/site-packages/sklearn/base.py:348: InconsistentVersionWarning: Trying to unpickle estimator PCA from version 1.0 when using version 1.3.2. This might lead to breaking code or invalid results. Use at your own risk. For more info please refer to:\n",
      "https://scikit-learn.org/stable/model_persistence.html#security-maintainability-limitations\n",
      "  warnings.warn(\n",
      "/lscratch/dlopez/programs/miniconda_20221210/miniconda3/envs/VE_SBIBE/lib/python3.11/site-packages/sklearn/base.py:348: InconsistentVersionWarning: Trying to unpickle estimator StandardScaler from version 1.0 when using version 1.3.2. This might lead to breaking code or invalid results. Use at your own risk. For more info please refer to:\n",
      "https://scikit-learn.org/stable/model_persistence.html#security-maintainability-limitations\n",
      "  warnings.warn(\n",
      "/lscratch/dlopez/programs/miniconda_20221210/miniconda3/envs/VE_SBIBE/lib/python3.11/site-packages/sklearn/base.py:348: InconsistentVersionWarning: Trying to unpickle estimator PCA from version 1.0 when using version 1.3.2. This might lead to breaking code or invalid results. Use at your own risk. For more info please refer to:\n",
      "https://scikit-learn.org/stable/model_persistence.html#security-maintainability-limitations\n",
      "  warnings.warn(\n",
      "/lscratch/dlopez/programs/miniconda_20221210/miniconda3/envs/VE_SBIBE/lib/python3.11/site-packages/sklearn/base.py:348: InconsistentVersionWarning: Trying to unpickle estimator StandardScaler from version 1.0 when using version 1.3.2. This might lead to breaking code or invalid results. Use at your own risk. For more info please refer to:\n",
      "https://scikit-learn.org/stable/model_persistence.html#security-maintainability-limitations\n",
      "  warnings.warn(\n"
     ]
    },
    {
     "name": "stdout",
     "output_type": "stream",
     "text": [
      "Linear emulator loaded in memory.\n",
      "Loading no-wiggles emulator...\n",
      "No-wiggles emulator loaded in memory.\n",
      "Loading non-linear emulator...\n"
     ]
    },
    {
     "name": "stderr",
     "output_type": "stream",
     "text": [
      "/lscratch/dlopez/programs/miniconda_20221210/miniconda3/envs/VE_SBIBE/lib/python3.11/site-packages/sklearn/base.py:348: InconsistentVersionWarning: Trying to unpickle estimator StandardScaler from version 1.0.2 when using version 1.3.2. This might lead to breaking code or invalid results. Use at your own risk. For more info please refer to:\n",
      "https://scikit-learn.org/stable/model_persistence.html#security-maintainability-limitations\n",
      "  warnings.warn(\n",
      "/lscratch/dlopez/programs/miniconda_20221210/miniconda3/envs/VE_SBIBE/lib/python3.11/site-packages/sklearn/base.py:348: InconsistentVersionWarning: Trying to unpickle estimator StandardScaler from version 0.22.1 when using version 1.3.2. This might lead to breaking code or invalid results. Use at your own risk. For more info please refer to:\n",
      "https://scikit-learn.org/stable/model_persistence.html#security-maintainability-limitations\n",
      "  warnings.warn(\n",
      "/lscratch/dlopez/programs/miniconda_20221210/miniconda3/envs/VE_SBIBE/lib/python3.11/site-packages/sklearn/base.py:348: InconsistentVersionWarning: Trying to unpickle estimator PCA from version 0.22.1 when using version 1.3.2. This might lead to breaking code or invalid results. Use at your own risk. For more info please refer to:\n",
      "https://scikit-learn.org/stable/model_persistence.html#security-maintainability-limitations\n",
      "  warnings.warn(\n"
     ]
    },
    {
     "name": "stdout",
     "output_type": "stream",
     "text": [
      "Nonlinear emulator loaded in memory.\n",
      "Loading Baryonic Emulator...\n",
      "Baryonic Emulator loaded in memory.\n"
     ]
    },
    {
     "name": "stderr",
     "output_type": "stream",
     "text": [
      "/lscratch/dlopez/programs/miniconda_20221210/miniconda3/envs/VE_SBIBE/lib/python3.11/site-packages/sklearn/base.py:348: InconsistentVersionWarning: Trying to unpickle estimator StandardScaler from version 0.23.2 when using version 1.3.2. This might lead to breaking code or invalid results. Use at your own risk. For more info please refer to:\n",
      "https://scikit-learn.org/stable/model_persistence.html#security-maintainability-limitations\n",
      "  warnings.warn(\n",
      "/lscratch/dlopez/programs/miniconda_20221210/miniconda3/envs/VE_SBIBE/lib/python3.11/site-packages/sklearn/base.py:348: InconsistentVersionWarning: Trying to unpickle estimator PCA from version 0.23.2 when using version 1.3.2. This might lead to breaking code or invalid results. Use at your own risk. For more info please refer to:\n",
      "https://scikit-learn.org/stable/model_persistence.html#security-maintainability-limitations\n",
      "  warnings.warn(\n"
     ]
    },
    {
     "name": "stdout",
     "output_type": "stream",
     "text": [
      "Loading sigma8 emulator...\n",
      "Sigma8 emulator loaded in memory.\n",
      "Loading linear emulator...\n"
     ]
    },
    {
     "name": "stderr",
     "output_type": "stream",
     "text": [
      "/lscratch/dlopez/programs/miniconda_20221210/miniconda3/envs/VE_SBIBE/lib/python3.11/site-packages/sklearn/base.py:348: InconsistentVersionWarning: Trying to unpickle estimator PCA from version 1.0 when using version 1.3.2. This might lead to breaking code or invalid results. Use at your own risk. For more info please refer to:\n",
      "https://scikit-learn.org/stable/model_persistence.html#security-maintainability-limitations\n",
      "  warnings.warn(\n",
      "/lscratch/dlopez/programs/miniconda_20221210/miniconda3/envs/VE_SBIBE/lib/python3.11/site-packages/sklearn/base.py:348: InconsistentVersionWarning: Trying to unpickle estimator StandardScaler from version 1.0 when using version 1.3.2. This might lead to breaking code or invalid results. Use at your own risk. For more info please refer to:\n",
      "https://scikit-learn.org/stable/model_persistence.html#security-maintainability-limitations\n",
      "  warnings.warn(\n",
      "/lscratch/dlopez/programs/miniconda_20221210/miniconda3/envs/VE_SBIBE/lib/python3.11/site-packages/sklearn/base.py:348: InconsistentVersionWarning: Trying to unpickle estimator PCA from version 1.0 when using version 1.3.2. This might lead to breaking code or invalid results. Use at your own risk. For more info please refer to:\n",
      "https://scikit-learn.org/stable/model_persistence.html#security-maintainability-limitations\n",
      "  warnings.warn(\n",
      "/lscratch/dlopez/programs/miniconda_20221210/miniconda3/envs/VE_SBIBE/lib/python3.11/site-packages/sklearn/base.py:348: InconsistentVersionWarning: Trying to unpickle estimator StandardScaler from version 1.0 when using version 1.3.2. This might lead to breaking code or invalid results. Use at your own risk. For more info please refer to:\n",
      "https://scikit-learn.org/stable/model_persistence.html#security-maintainability-limitations\n",
      "  warnings.warn(\n"
     ]
    },
    {
     "name": "stdout",
     "output_type": "stream",
     "text": [
      "Linear emulator loaded in memory.\n",
      "Loading no-wiggles emulator...\n",
      "No-wiggles emulator loaded in memory.\n",
      "Loading non-linear emulator...\n"
     ]
    },
    {
     "name": "stderr",
     "output_type": "stream",
     "text": [
      "/lscratch/dlopez/programs/miniconda_20221210/miniconda3/envs/VE_SBIBE/lib/python3.11/site-packages/sklearn/base.py:348: InconsistentVersionWarning: Trying to unpickle estimator StandardScaler from version 1.0.2 when using version 1.3.2. This might lead to breaking code or invalid results. Use at your own risk. For more info please refer to:\n",
      "https://scikit-learn.org/stable/model_persistence.html#security-maintainability-limitations\n",
      "  warnings.warn(\n",
      "/lscratch/dlopez/programs/miniconda_20221210/miniconda3/envs/VE_SBIBE/lib/python3.11/site-packages/sklearn/base.py:348: InconsistentVersionWarning: Trying to unpickle estimator StandardScaler from version 0.22.1 when using version 1.3.2. This might lead to breaking code or invalid results. Use at your own risk. For more info please refer to:\n",
      "https://scikit-learn.org/stable/model_persistence.html#security-maintainability-limitations\n",
      "  warnings.warn(\n",
      "/lscratch/dlopez/programs/miniconda_20221210/miniconda3/envs/VE_SBIBE/lib/python3.11/site-packages/sklearn/base.py:348: InconsistentVersionWarning: Trying to unpickle estimator PCA from version 0.22.1 when using version 1.3.2. This might lead to breaking code or invalid results. Use at your own risk. For more info please refer to:\n",
      "https://scikit-learn.org/stable/model_persistence.html#security-maintainability-limitations\n",
      "  warnings.warn(\n"
     ]
    },
    {
     "name": "stdout",
     "output_type": "stream",
     "text": [
      "Nonlinear emulator loaded in memory.\n",
      "Loading Baryonic Emulator...\n",
      "Baryonic Emulator loaded in memory.\n"
     ]
    },
    {
     "name": "stderr",
     "output_type": "stream",
     "text": [
      "/lscratch/dlopez/programs/miniconda_20221210/miniconda3/envs/VE_SBIBE/lib/python3.11/site-packages/sklearn/base.py:348: InconsistentVersionWarning: Trying to unpickle estimator StandardScaler from version 0.23.2 when using version 1.3.2. This might lead to breaking code or invalid results. Use at your own risk. For more info please refer to:\n",
      "https://scikit-learn.org/stable/model_persistence.html#security-maintainability-limitations\n",
      "  warnings.warn(\n",
      "/lscratch/dlopez/programs/miniconda_20221210/miniconda3/envs/VE_SBIBE/lib/python3.11/site-packages/sklearn/base.py:348: InconsistentVersionWarning: Trying to unpickle estimator PCA from version 0.23.2 when using version 1.3.2. This might lead to breaking code or invalid results. Use at your own risk. For more info please refer to:\n",
      "https://scikit-learn.org/stable/model_persistence.html#security-maintainability-limitations\n",
      "  warnings.warn(\n"
     ]
    },
    {
     "name": "stdout",
     "output_type": "stream",
     "text": [
      "Loading sigma8 emulator...\n",
      "Sigma8 emulator loaded in memory.\n",
      "Loading linear emulator...\n"
     ]
    },
    {
     "name": "stderr",
     "output_type": "stream",
     "text": [
      "/lscratch/dlopez/programs/miniconda_20221210/miniconda3/envs/VE_SBIBE/lib/python3.11/site-packages/sklearn/base.py:348: InconsistentVersionWarning: Trying to unpickle estimator PCA from version 1.0 when using version 1.3.2. This might lead to breaking code or invalid results. Use at your own risk. For more info please refer to:\n",
      "https://scikit-learn.org/stable/model_persistence.html#security-maintainability-limitations\n",
      "  warnings.warn(\n",
      "/lscratch/dlopez/programs/miniconda_20221210/miniconda3/envs/VE_SBIBE/lib/python3.11/site-packages/sklearn/base.py:348: InconsistentVersionWarning: Trying to unpickle estimator StandardScaler from version 1.0 when using version 1.3.2. This might lead to breaking code or invalid results. Use at your own risk. For more info please refer to:\n",
      "https://scikit-learn.org/stable/model_persistence.html#security-maintainability-limitations\n",
      "  warnings.warn(\n",
      "/lscratch/dlopez/programs/miniconda_20221210/miniconda3/envs/VE_SBIBE/lib/python3.11/site-packages/sklearn/base.py:348: InconsistentVersionWarning: Trying to unpickle estimator PCA from version 1.0 when using version 1.3.2. This might lead to breaking code or invalid results. Use at your own risk. For more info please refer to:\n",
      "https://scikit-learn.org/stable/model_persistence.html#security-maintainability-limitations\n",
      "  warnings.warn(\n",
      "/lscratch/dlopez/programs/miniconda_20221210/miniconda3/envs/VE_SBIBE/lib/python3.11/site-packages/sklearn/base.py:348: InconsistentVersionWarning: Trying to unpickle estimator StandardScaler from version 1.0 when using version 1.3.2. This might lead to breaking code or invalid results. Use at your own risk. For more info please refer to:\n",
      "https://scikit-learn.org/stable/model_persistence.html#security-maintainability-limitations\n",
      "  warnings.warn(\n"
     ]
    },
    {
     "name": "stdout",
     "output_type": "stream",
     "text": [
      "Linear emulator loaded in memory.\n",
      "Loading no-wiggles emulator...\n",
      "No-wiggles emulator loaded in memory.\n",
      "Loading non-linear emulator...\n"
     ]
    },
    {
     "name": "stderr",
     "output_type": "stream",
     "text": [
      "/lscratch/dlopez/programs/miniconda_20221210/miniconda3/envs/VE_SBIBE/lib/python3.11/site-packages/sklearn/base.py:348: InconsistentVersionWarning: Trying to unpickle estimator StandardScaler from version 1.0.2 when using version 1.3.2. This might lead to breaking code or invalid results. Use at your own risk. For more info please refer to:\n",
      "https://scikit-learn.org/stable/model_persistence.html#security-maintainability-limitations\n",
      "  warnings.warn(\n",
      "/lscratch/dlopez/programs/miniconda_20221210/miniconda3/envs/VE_SBIBE/lib/python3.11/site-packages/sklearn/base.py:348: InconsistentVersionWarning: Trying to unpickle estimator StandardScaler from version 0.22.1 when using version 1.3.2. This might lead to breaking code or invalid results. Use at your own risk. For more info please refer to:\n",
      "https://scikit-learn.org/stable/model_persistence.html#security-maintainability-limitations\n",
      "  warnings.warn(\n",
      "/lscratch/dlopez/programs/miniconda_20221210/miniconda3/envs/VE_SBIBE/lib/python3.11/site-packages/sklearn/base.py:348: InconsistentVersionWarning: Trying to unpickle estimator PCA from version 0.22.1 when using version 1.3.2. This might lead to breaking code or invalid results. Use at your own risk. For more info please refer to:\n",
      "https://scikit-learn.org/stable/model_persistence.html#security-maintainability-limitations\n",
      "  warnings.warn(\n"
     ]
    },
    {
     "name": "stdout",
     "output_type": "stream",
     "text": [
      "Nonlinear emulator loaded in memory.\n",
      "Loading Baryonic Emulator...\n",
      "Baryonic Emulator loaded in memory.\n"
     ]
    },
    {
     "name": "stderr",
     "output_type": "stream",
     "text": [
      "/lscratch/dlopez/programs/miniconda_20221210/miniconda3/envs/VE_SBIBE/lib/python3.11/site-packages/sklearn/base.py:348: InconsistentVersionWarning: Trying to unpickle estimator StandardScaler from version 0.23.2 when using version 1.3.2. This might lead to breaking code or invalid results. Use at your own risk. For more info please refer to:\n",
      "https://scikit-learn.org/stable/model_persistence.html#security-maintainability-limitations\n",
      "  warnings.warn(\n",
      "/lscratch/dlopez/programs/miniconda_20221210/miniconda3/envs/VE_SBIBE/lib/python3.11/site-packages/sklearn/base.py:348: InconsistentVersionWarning: Trying to unpickle estimator PCA from version 0.23.2 when using version 1.3.2. This might lead to breaking code or invalid results. Use at your own risk. For more info please refer to:\n",
      "https://scikit-learn.org/stable/model_persistence.html#security-maintainability-limitations\n",
      "  warnings.warn(\n"
     ]
    },
    {
     "name": "stdout",
     "output_type": "stream",
     "text": [
      "Loading sigma8 emulator...\n",
      "Sigma8 emulator loaded in memory.\n",
      "Loading linear emulator...\n"
     ]
    },
    {
     "name": "stderr",
     "output_type": "stream",
     "text": [
      "/lscratch/dlopez/programs/miniconda_20221210/miniconda3/envs/VE_SBIBE/lib/python3.11/site-packages/sklearn/base.py:348: InconsistentVersionWarning: Trying to unpickle estimator PCA from version 1.0 when using version 1.3.2. This might lead to breaking code or invalid results. Use at your own risk. For more info please refer to:\n",
      "https://scikit-learn.org/stable/model_persistence.html#security-maintainability-limitations\n",
      "  warnings.warn(\n",
      "/lscratch/dlopez/programs/miniconda_20221210/miniconda3/envs/VE_SBIBE/lib/python3.11/site-packages/sklearn/base.py:348: InconsistentVersionWarning: Trying to unpickle estimator StandardScaler from version 1.0 when using version 1.3.2. This might lead to breaking code or invalid results. Use at your own risk. For more info please refer to:\n",
      "https://scikit-learn.org/stable/model_persistence.html#security-maintainability-limitations\n",
      "  warnings.warn(\n",
      "/lscratch/dlopez/programs/miniconda_20221210/miniconda3/envs/VE_SBIBE/lib/python3.11/site-packages/sklearn/base.py:348: InconsistentVersionWarning: Trying to unpickle estimator PCA from version 1.0 when using version 1.3.2. This might lead to breaking code or invalid results. Use at your own risk. For more info please refer to:\n",
      "https://scikit-learn.org/stable/model_persistence.html#security-maintainability-limitations\n",
      "  warnings.warn(\n",
      "/lscratch/dlopez/programs/miniconda_20221210/miniconda3/envs/VE_SBIBE/lib/python3.11/site-packages/sklearn/base.py:348: InconsistentVersionWarning: Trying to unpickle estimator StandardScaler from version 1.0 when using version 1.3.2. This might lead to breaking code or invalid results. Use at your own risk. For more info please refer to:\n",
      "https://scikit-learn.org/stable/model_persistence.html#security-maintainability-limitations\n",
      "  warnings.warn(\n"
     ]
    },
    {
     "name": "stdout",
     "output_type": "stream",
     "text": [
      "Linear emulator loaded in memory.\n",
      "Loading no-wiggles emulator...\n",
      "No-wiggles emulator loaded in memory.\n",
      "Loading non-linear emulator...\n"
     ]
    },
    {
     "name": "stderr",
     "output_type": "stream",
     "text": [
      "/lscratch/dlopez/programs/miniconda_20221210/miniconda3/envs/VE_SBIBE/lib/python3.11/site-packages/sklearn/base.py:348: InconsistentVersionWarning: Trying to unpickle estimator StandardScaler from version 1.0.2 when using version 1.3.2. This might lead to breaking code or invalid results. Use at your own risk. For more info please refer to:\n",
      "https://scikit-learn.org/stable/model_persistence.html#security-maintainability-limitations\n",
      "  warnings.warn(\n",
      "/lscratch/dlopez/programs/miniconda_20221210/miniconda3/envs/VE_SBIBE/lib/python3.11/site-packages/sklearn/base.py:348: InconsistentVersionWarning: Trying to unpickle estimator StandardScaler from version 0.22.1 when using version 1.3.2. This might lead to breaking code or invalid results. Use at your own risk. For more info please refer to:\n",
      "https://scikit-learn.org/stable/model_persistence.html#security-maintainability-limitations\n",
      "  warnings.warn(\n",
      "/lscratch/dlopez/programs/miniconda_20221210/miniconda3/envs/VE_SBIBE/lib/python3.11/site-packages/sklearn/base.py:348: InconsistentVersionWarning: Trying to unpickle estimator PCA from version 0.22.1 when using version 1.3.2. This might lead to breaking code or invalid results. Use at your own risk. For more info please refer to:\n",
      "https://scikit-learn.org/stable/model_persistence.html#security-maintainability-limitations\n",
      "  warnings.warn(\n"
     ]
    },
    {
     "name": "stdout",
     "output_type": "stream",
     "text": [
      "Nonlinear emulator loaded in memory.\n",
      "Loading Baryonic Emulator...\n",
      "Baryonic Emulator loaded in memory.\n"
     ]
    },
    {
     "name": "stderr",
     "output_type": "stream",
     "text": [
      "/lscratch/dlopez/programs/miniconda_20221210/miniconda3/envs/VE_SBIBE/lib/python3.11/site-packages/sklearn/base.py:348: InconsistentVersionWarning: Trying to unpickle estimator StandardScaler from version 0.23.2 when using version 1.3.2. This might lead to breaking code or invalid results. Use at your own risk. For more info please refer to:\n",
      "https://scikit-learn.org/stable/model_persistence.html#security-maintainability-limitations\n",
      "  warnings.warn(\n",
      "/lscratch/dlopez/programs/miniconda_20221210/miniconda3/envs/VE_SBIBE/lib/python3.11/site-packages/sklearn/base.py:348: InconsistentVersionWarning: Trying to unpickle estimator PCA from version 0.23.2 when using version 1.3.2. This might lead to breaking code or invalid results. Use at your own risk. For more info please refer to:\n",
      "https://scikit-learn.org/stable/model_persistence.html#security-maintainability-limitations\n",
      "  warnings.warn(\n"
     ]
    },
    {
     "name": "stdout",
     "output_type": "stream",
     "text": [
      "Loading sigma8 emulator...\n",
      "Sigma8 emulator loaded in memory.\n",
      "Loading linear emulator...\n"
     ]
    },
    {
     "name": "stderr",
     "output_type": "stream",
     "text": [
      "/lscratch/dlopez/programs/miniconda_20221210/miniconda3/envs/VE_SBIBE/lib/python3.11/site-packages/sklearn/base.py:348: InconsistentVersionWarning: Trying to unpickle estimator PCA from version 1.0 when using version 1.3.2. This might lead to breaking code or invalid results. Use at your own risk. For more info please refer to:\n",
      "https://scikit-learn.org/stable/model_persistence.html#security-maintainability-limitations\n",
      "  warnings.warn(\n",
      "/lscratch/dlopez/programs/miniconda_20221210/miniconda3/envs/VE_SBIBE/lib/python3.11/site-packages/sklearn/base.py:348: InconsistentVersionWarning: Trying to unpickle estimator StandardScaler from version 1.0 when using version 1.3.2. This might lead to breaking code or invalid results. Use at your own risk. For more info please refer to:\n",
      "https://scikit-learn.org/stable/model_persistence.html#security-maintainability-limitations\n",
      "  warnings.warn(\n",
      "/lscratch/dlopez/programs/miniconda_20221210/miniconda3/envs/VE_SBIBE/lib/python3.11/site-packages/sklearn/base.py:348: InconsistentVersionWarning: Trying to unpickle estimator PCA from version 1.0 when using version 1.3.2. This might lead to breaking code or invalid results. Use at your own risk. For more info please refer to:\n",
      "https://scikit-learn.org/stable/model_persistence.html#security-maintainability-limitations\n",
      "  warnings.warn(\n",
      "/lscratch/dlopez/programs/miniconda_20221210/miniconda3/envs/VE_SBIBE/lib/python3.11/site-packages/sklearn/base.py:348: InconsistentVersionWarning: Trying to unpickle estimator StandardScaler from version 1.0 when using version 1.3.2. This might lead to breaking code or invalid results. Use at your own risk. For more info please refer to:\n",
      "https://scikit-learn.org/stable/model_persistence.html#security-maintainability-limitations\n",
      "  warnings.warn(\n",
      "/lscratch/dlopez/programs/miniconda_20221210/miniconda3/envs/VE_SBIBE/lib/python3.11/site-packages/sklearn/base.py:348: InconsistentVersionWarning: Trying to unpickle estimator StandardScaler from version 1.0.2 when using version 1.3.2. This might lead to breaking code or invalid results. Use at your own risk. For more info please refer to:\n",
      "https://scikit-learn.org/stable/model_persistence.html#security-maintainability-limitations\n",
      "  warnings.warn(\n"
     ]
    },
    {
     "name": "stdout",
     "output_type": "stream",
     "text": [
      "Linear emulator loaded in memory.\n",
      "Loading no-wiggles emulator...\n",
      "No-wiggles emulator loaded in memory.\n",
      "Loading non-linear emulator...\n"
     ]
    },
    {
     "name": "stderr",
     "output_type": "stream",
     "text": [
      "/lscratch/dlopez/programs/miniconda_20221210/miniconda3/envs/VE_SBIBE/lib/python3.11/site-packages/sklearn/base.py:348: InconsistentVersionWarning: Trying to unpickle estimator StandardScaler from version 0.22.1 when using version 1.3.2. This might lead to breaking code or invalid results. Use at your own risk. For more info please refer to:\n",
      "https://scikit-learn.org/stable/model_persistence.html#security-maintainability-limitations\n",
      "  warnings.warn(\n",
      "/lscratch/dlopez/programs/miniconda_20221210/miniconda3/envs/VE_SBIBE/lib/python3.11/site-packages/sklearn/base.py:348: InconsistentVersionWarning: Trying to unpickle estimator PCA from version 0.22.1 when using version 1.3.2. This might lead to breaking code or invalid results. Use at your own risk. For more info please refer to:\n",
      "https://scikit-learn.org/stable/model_persistence.html#security-maintainability-limitations\n",
      "  warnings.warn(\n",
      "/lscratch/dlopez/programs/miniconda_20221210/miniconda3/envs/VE_SBIBE/lib/python3.11/site-packages/sklearn/base.py:348: InconsistentVersionWarning: Trying to unpickle estimator StandardScaler from version 0.23.2 when using version 1.3.2. This might lead to breaking code or invalid results. Use at your own risk. For more info please refer to:\n",
      "https://scikit-learn.org/stable/model_persistence.html#security-maintainability-limitations\n",
      "  warnings.warn(\n",
      "/lscratch/dlopez/programs/miniconda_20221210/miniconda3/envs/VE_SBIBE/lib/python3.11/site-packages/sklearn/base.py:348: InconsistentVersionWarning: Trying to unpickle estimator PCA from version 0.23.2 when using version 1.3.2. This might lead to breaking code or invalid results. Use at your own risk. For more info please refer to:\n",
      "https://scikit-learn.org/stable/model_persistence.html#security-maintainability-limitations\n",
      "  warnings.warn(\n"
     ]
    },
    {
     "name": "stdout",
     "output_type": "stream",
     "text": [
      "Nonlinear emulator loaded in memory.\n",
      "Loading Baryonic Emulator...\n",
      "Baryonic Emulator loaded in memory.\n",
      "Loading sigma8 emulator...\n",
      "Sigma8 emulator loaded in memory.\n",
      "Loading linear emulator...\n"
     ]
    },
    {
     "name": "stderr",
     "output_type": "stream",
     "text": [
      "/lscratch/dlopez/programs/miniconda_20221210/miniconda3/envs/VE_SBIBE/lib/python3.11/site-packages/sklearn/base.py:348: InconsistentVersionWarning: Trying to unpickle estimator PCA from version 1.0 when using version 1.3.2. This might lead to breaking code or invalid results. Use at your own risk. For more info please refer to:\n",
      "https://scikit-learn.org/stable/model_persistence.html#security-maintainability-limitations\n",
      "  warnings.warn(\n",
      "/lscratch/dlopez/programs/miniconda_20221210/miniconda3/envs/VE_SBIBE/lib/python3.11/site-packages/sklearn/base.py:348: InconsistentVersionWarning: Trying to unpickle estimator StandardScaler from version 1.0 when using version 1.3.2. This might lead to breaking code or invalid results. Use at your own risk. For more info please refer to:\n",
      "https://scikit-learn.org/stable/model_persistence.html#security-maintainability-limitations\n",
      "  warnings.warn(\n",
      "/lscratch/dlopez/programs/miniconda_20221210/miniconda3/envs/VE_SBIBE/lib/python3.11/site-packages/sklearn/base.py:348: InconsistentVersionWarning: Trying to unpickle estimator PCA from version 1.0 when using version 1.3.2. This might lead to breaking code or invalid results. Use at your own risk. For more info please refer to:\n",
      "https://scikit-learn.org/stable/model_persistence.html#security-maintainability-limitations\n",
      "  warnings.warn(\n",
      "/lscratch/dlopez/programs/miniconda_20221210/miniconda3/envs/VE_SBIBE/lib/python3.11/site-packages/sklearn/base.py:348: InconsistentVersionWarning: Trying to unpickle estimator StandardScaler from version 1.0 when using version 1.3.2. This might lead to breaking code or invalid results. Use at your own risk. For more info please refer to:\n",
      "https://scikit-learn.org/stable/model_persistence.html#security-maintainability-limitations\n",
      "  warnings.warn(\n"
     ]
    },
    {
     "name": "stdout",
     "output_type": "stream",
     "text": [
      "Linear emulator loaded in memory.\n",
      "Loading no-wiggles emulator...\n",
      "No-wiggles emulator loaded in memory.\n",
      "Loading non-linear emulator...\n"
     ]
    },
    {
     "name": "stderr",
     "output_type": "stream",
     "text": [
      "/lscratch/dlopez/programs/miniconda_20221210/miniconda3/envs/VE_SBIBE/lib/python3.11/site-packages/sklearn/base.py:348: InconsistentVersionWarning: Trying to unpickle estimator StandardScaler from version 1.0.2 when using version 1.3.2. This might lead to breaking code or invalid results. Use at your own risk. For more info please refer to:\n",
      "https://scikit-learn.org/stable/model_persistence.html#security-maintainability-limitations\n",
      "  warnings.warn(\n",
      "/lscratch/dlopez/programs/miniconda_20221210/miniconda3/envs/VE_SBIBE/lib/python3.11/site-packages/sklearn/base.py:348: InconsistentVersionWarning: Trying to unpickle estimator StandardScaler from version 0.22.1 when using version 1.3.2. This might lead to breaking code or invalid results. Use at your own risk. For more info please refer to:\n",
      "https://scikit-learn.org/stable/model_persistence.html#security-maintainability-limitations\n",
      "  warnings.warn(\n",
      "/lscratch/dlopez/programs/miniconda_20221210/miniconda3/envs/VE_SBIBE/lib/python3.11/site-packages/sklearn/base.py:348: InconsistentVersionWarning: Trying to unpickle estimator PCA from version 0.22.1 when using version 1.3.2. This might lead to breaking code or invalid results. Use at your own risk. For more info please refer to:\n",
      "https://scikit-learn.org/stable/model_persistence.html#security-maintainability-limitations\n",
      "  warnings.warn(\n"
     ]
    },
    {
     "name": "stdout",
     "output_type": "stream",
     "text": [
      "Nonlinear emulator loaded in memory.\n",
      "Loading Baryonic Emulator...\n",
      "Baryonic Emulator loaded in memory.\n"
     ]
    },
    {
     "name": "stderr",
     "output_type": "stream",
     "text": [
      "/lscratch/dlopez/programs/miniconda_20221210/miniconda3/envs/VE_SBIBE/lib/python3.11/site-packages/sklearn/base.py:348: InconsistentVersionWarning: Trying to unpickle estimator StandardScaler from version 0.23.2 when using version 1.3.2. This might lead to breaking code or invalid results. Use at your own risk. For more info please refer to:\n",
      "https://scikit-learn.org/stable/model_persistence.html#security-maintainability-limitations\n",
      "  warnings.warn(\n",
      "/lscratch/dlopez/programs/miniconda_20221210/miniconda3/envs/VE_SBIBE/lib/python3.11/site-packages/sklearn/base.py:348: InconsistentVersionWarning: Trying to unpickle estimator PCA from version 0.23.2 when using version 1.3.2. This might lead to breaking code or invalid results. Use at your own risk. For more info please refer to:\n",
      "https://scikit-learn.org/stable/model_persistence.html#security-maintainability-limitations\n",
      "  warnings.warn(\n"
     ]
    },
    {
     "name": "stdout",
     "output_type": "stream",
     "text": [
      "Loading sigma8 emulator...\n",
      "Sigma8 emulator loaded in memory.\n",
      "Loading linear emulator...\n"
     ]
    },
    {
     "name": "stderr",
     "output_type": "stream",
     "text": [
      "/lscratch/dlopez/programs/miniconda_20221210/miniconda3/envs/VE_SBIBE/lib/python3.11/site-packages/sklearn/base.py:348: InconsistentVersionWarning: Trying to unpickle estimator PCA from version 1.0 when using version 1.3.2. This might lead to breaking code or invalid results. Use at your own risk. For more info please refer to:\n",
      "https://scikit-learn.org/stable/model_persistence.html#security-maintainability-limitations\n",
      "  warnings.warn(\n",
      "/lscratch/dlopez/programs/miniconda_20221210/miniconda3/envs/VE_SBIBE/lib/python3.11/site-packages/sklearn/base.py:348: InconsistentVersionWarning: Trying to unpickle estimator StandardScaler from version 1.0 when using version 1.3.2. This might lead to breaking code or invalid results. Use at your own risk. For more info please refer to:\n",
      "https://scikit-learn.org/stable/model_persistence.html#security-maintainability-limitations\n",
      "  warnings.warn(\n",
      "/lscratch/dlopez/programs/miniconda_20221210/miniconda3/envs/VE_SBIBE/lib/python3.11/site-packages/sklearn/base.py:348: InconsistentVersionWarning: Trying to unpickle estimator PCA from version 1.0 when using version 1.3.2. This might lead to breaking code or invalid results. Use at your own risk. For more info please refer to:\n",
      "https://scikit-learn.org/stable/model_persistence.html#security-maintainability-limitations\n",
      "  warnings.warn(\n",
      "/lscratch/dlopez/programs/miniconda_20221210/miniconda3/envs/VE_SBIBE/lib/python3.11/site-packages/sklearn/base.py:348: InconsistentVersionWarning: Trying to unpickle estimator StandardScaler from version 1.0 when using version 1.3.2. This might lead to breaking code or invalid results. Use at your own risk. For more info please refer to:\n",
      "https://scikit-learn.org/stable/model_persistence.html#security-maintainability-limitations\n",
      "  warnings.warn(\n"
     ]
    },
    {
     "name": "stdout",
     "output_type": "stream",
     "text": [
      "Linear emulator loaded in memory.\n",
      "Loading no-wiggles emulator...\n"
     ]
    },
    {
     "name": "stderr",
     "output_type": "stream",
     "text": [
      "/lscratch/dlopez/programs/miniconda_20221210/miniconda3/envs/VE_SBIBE/lib/python3.11/site-packages/sklearn/base.py:348: InconsistentVersionWarning: Trying to unpickle estimator StandardScaler from version 1.0.2 when using version 1.3.2. This might lead to breaking code or invalid results. Use at your own risk. For more info please refer to:\n",
      "https://scikit-learn.org/stable/model_persistence.html#security-maintainability-limitations\n",
      "  warnings.warn(\n",
      "/lscratch/dlopez/programs/miniconda_20221210/miniconda3/envs/VE_SBIBE/lib/python3.11/site-packages/sklearn/base.py:348: InconsistentVersionWarning: Trying to unpickle estimator StandardScaler from version 0.22.1 when using version 1.3.2. This might lead to breaking code or invalid results. Use at your own risk. For more info please refer to:\n",
      "https://scikit-learn.org/stable/model_persistence.html#security-maintainability-limitations\n",
      "  warnings.warn(\n",
      "/lscratch/dlopez/programs/miniconda_20221210/miniconda3/envs/VE_SBIBE/lib/python3.11/site-packages/sklearn/base.py:348: InconsistentVersionWarning: Trying to unpickle estimator PCA from version 0.22.1 when using version 1.3.2. This might lead to breaking code or invalid results. Use at your own risk. For more info please refer to:\n",
      "https://scikit-learn.org/stable/model_persistence.html#security-maintainability-limitations\n",
      "  warnings.warn(\n"
     ]
    },
    {
     "name": "stdout",
     "output_type": "stream",
     "text": [
      "No-wiggles emulator loaded in memory.\n",
      "Loading non-linear emulator...\n",
      "Nonlinear emulator loaded in memory.\n",
      "Loading Baryonic Emulator...\n"
     ]
    },
    {
     "name": "stderr",
     "output_type": "stream",
     "text": [
      "/lscratch/dlopez/programs/miniconda_20221210/miniconda3/envs/VE_SBIBE/lib/python3.11/site-packages/sklearn/base.py:348: InconsistentVersionWarning: Trying to unpickle estimator StandardScaler from version 0.23.2 when using version 1.3.2. This might lead to breaking code or invalid results. Use at your own risk. For more info please refer to:\n",
      "https://scikit-learn.org/stable/model_persistence.html#security-maintainability-limitations\n",
      "  warnings.warn(\n",
      "/lscratch/dlopez/programs/miniconda_20221210/miniconda3/envs/VE_SBIBE/lib/python3.11/site-packages/sklearn/base.py:348: InconsistentVersionWarning: Trying to unpickle estimator PCA from version 0.23.2 when using version 1.3.2. This might lead to breaking code or invalid results. Use at your own risk. For more info please refer to:\n",
      "https://scikit-learn.org/stable/model_persistence.html#security-maintainability-limitations\n",
      "  warnings.warn(\n"
     ]
    },
    {
     "name": "stdout",
     "output_type": "stream",
     "text": [
      "Baryonic Emulator loaded in memory.\n",
      "Loading sigma8 emulator...\n",
      "Sigma8 emulator loaded in memory.\n",
      "Loading linear emulator...\n"
     ]
    },
    {
     "name": "stderr",
     "output_type": "stream",
     "text": [
      "/lscratch/dlopez/programs/miniconda_20221210/miniconda3/envs/VE_SBIBE/lib/python3.11/site-packages/sklearn/base.py:348: InconsistentVersionWarning: Trying to unpickle estimator PCA from version 1.0 when using version 1.3.2. This might lead to breaking code or invalid results. Use at your own risk. For more info please refer to:\n",
      "https://scikit-learn.org/stable/model_persistence.html#security-maintainability-limitations\n",
      "  warnings.warn(\n",
      "/lscratch/dlopez/programs/miniconda_20221210/miniconda3/envs/VE_SBIBE/lib/python3.11/site-packages/sklearn/base.py:348: InconsistentVersionWarning: Trying to unpickle estimator StandardScaler from version 1.0 when using version 1.3.2. This might lead to breaking code or invalid results. Use at your own risk. For more info please refer to:\n",
      "https://scikit-learn.org/stable/model_persistence.html#security-maintainability-limitations\n",
      "  warnings.warn(\n",
      "/lscratch/dlopez/programs/miniconda_20221210/miniconda3/envs/VE_SBIBE/lib/python3.11/site-packages/sklearn/base.py:348: InconsistentVersionWarning: Trying to unpickle estimator PCA from version 1.0 when using version 1.3.2. This might lead to breaking code or invalid results. Use at your own risk. For more info please refer to:\n",
      "https://scikit-learn.org/stable/model_persistence.html#security-maintainability-limitations\n",
      "  warnings.warn(\n",
      "/lscratch/dlopez/programs/miniconda_20221210/miniconda3/envs/VE_SBIBE/lib/python3.11/site-packages/sklearn/base.py:348: InconsistentVersionWarning: Trying to unpickle estimator StandardScaler from version 1.0 when using version 1.3.2. This might lead to breaking code or invalid results. Use at your own risk. For more info please refer to:\n",
      "https://scikit-learn.org/stable/model_persistence.html#security-maintainability-limitations\n",
      "  warnings.warn(\n"
     ]
    },
    {
     "name": "stdout",
     "output_type": "stream",
     "text": [
      "Linear emulator loaded in memory.\n",
      "Loading no-wiggles emulator...\n",
      "No-wiggles emulator loaded in memory.\n",
      "Loading non-linear emulator...\n"
     ]
    },
    {
     "name": "stderr",
     "output_type": "stream",
     "text": [
      "/lscratch/dlopez/programs/miniconda_20221210/miniconda3/envs/VE_SBIBE/lib/python3.11/site-packages/sklearn/base.py:348: InconsistentVersionWarning: Trying to unpickle estimator StandardScaler from version 1.0.2 when using version 1.3.2. This might lead to breaking code or invalid results. Use at your own risk. For more info please refer to:\n",
      "https://scikit-learn.org/stable/model_persistence.html#security-maintainability-limitations\n",
      "  warnings.warn(\n",
      "/lscratch/dlopez/programs/miniconda_20221210/miniconda3/envs/VE_SBIBE/lib/python3.11/site-packages/sklearn/base.py:348: InconsistentVersionWarning: Trying to unpickle estimator StandardScaler from version 0.22.1 when using version 1.3.2. This might lead to breaking code or invalid results. Use at your own risk. For more info please refer to:\n",
      "https://scikit-learn.org/stable/model_persistence.html#security-maintainability-limitations\n",
      "  warnings.warn(\n",
      "/lscratch/dlopez/programs/miniconda_20221210/miniconda3/envs/VE_SBIBE/lib/python3.11/site-packages/sklearn/base.py:348: InconsistentVersionWarning: Trying to unpickle estimator PCA from version 0.22.1 when using version 1.3.2. This might lead to breaking code or invalid results. Use at your own risk. For more info please refer to:\n",
      "https://scikit-learn.org/stable/model_persistence.html#security-maintainability-limitations\n",
      "  warnings.warn(\n"
     ]
    },
    {
     "name": "stdout",
     "output_type": "stream",
     "text": [
      "Nonlinear emulator loaded in memory.\n",
      "Loading Baryonic Emulator...\n",
      "Baryonic Emulator loaded in memory.\n"
     ]
    },
    {
     "name": "stderr",
     "output_type": "stream",
     "text": [
      "/lscratch/dlopez/programs/miniconda_20221210/miniconda3/envs/VE_SBIBE/lib/python3.11/site-packages/sklearn/base.py:348: InconsistentVersionWarning: Trying to unpickle estimator StandardScaler from version 0.23.2 when using version 1.3.2. This might lead to breaking code or invalid results. Use at your own risk. For more info please refer to:\n",
      "https://scikit-learn.org/stable/model_persistence.html#security-maintainability-limitations\n",
      "  warnings.warn(\n",
      "/lscratch/dlopez/programs/miniconda_20221210/miniconda3/envs/VE_SBIBE/lib/python3.11/site-packages/sklearn/base.py:348: InconsistentVersionWarning: Trying to unpickle estimator PCA from version 0.23.2 when using version 1.3.2. This might lead to breaking code or invalid results. Use at your own risk. For more info please refer to:\n",
      "https://scikit-learn.org/stable/model_persistence.html#security-maintainability-limitations\n",
      "  warnings.warn(\n"
     ]
    },
    {
     "name": "stdout",
     "output_type": "stream",
     "text": [
      "Loading sigma8 emulator...\n",
      "Sigma8 emulator loaded in memory.\n",
      "Loading linear emulator...\n"
     ]
    },
    {
     "name": "stderr",
     "output_type": "stream",
     "text": [
      "/lscratch/dlopez/programs/miniconda_20221210/miniconda3/envs/VE_SBIBE/lib/python3.11/site-packages/sklearn/base.py:348: InconsistentVersionWarning: Trying to unpickle estimator PCA from version 1.0 when using version 1.3.2. This might lead to breaking code or invalid results. Use at your own risk. For more info please refer to:\n",
      "https://scikit-learn.org/stable/model_persistence.html#security-maintainability-limitations\n",
      "  warnings.warn(\n",
      "/lscratch/dlopez/programs/miniconda_20221210/miniconda3/envs/VE_SBIBE/lib/python3.11/site-packages/sklearn/base.py:348: InconsistentVersionWarning: Trying to unpickle estimator StandardScaler from version 1.0 when using version 1.3.2. This might lead to breaking code or invalid results. Use at your own risk. For more info please refer to:\n",
      "https://scikit-learn.org/stable/model_persistence.html#security-maintainability-limitations\n",
      "  warnings.warn(\n",
      "/lscratch/dlopez/programs/miniconda_20221210/miniconda3/envs/VE_SBIBE/lib/python3.11/site-packages/sklearn/base.py:348: InconsistentVersionWarning: Trying to unpickle estimator PCA from version 1.0 when using version 1.3.2. This might lead to breaking code or invalid results. Use at your own risk. For more info please refer to:\n",
      "https://scikit-learn.org/stable/model_persistence.html#security-maintainability-limitations\n",
      "  warnings.warn(\n",
      "/lscratch/dlopez/programs/miniconda_20221210/miniconda3/envs/VE_SBIBE/lib/python3.11/site-packages/sklearn/base.py:348: InconsistentVersionWarning: Trying to unpickle estimator StandardScaler from version 1.0 when using version 1.3.2. This might lead to breaking code or invalid results. Use at your own risk. For more info please refer to:\n",
      "https://scikit-learn.org/stable/model_persistence.html#security-maintainability-limitations\n",
      "  warnings.warn(\n"
     ]
    },
    {
     "name": "stdout",
     "output_type": "stream",
     "text": [
      "Linear emulator loaded in memory.\n",
      "Loading no-wiggles emulator...\n",
      "No-wiggles emulator loaded in memory.\n",
      "Loading non-linear emulator...\n"
     ]
    },
    {
     "name": "stderr",
     "output_type": "stream",
     "text": [
      "/lscratch/dlopez/programs/miniconda_20221210/miniconda3/envs/VE_SBIBE/lib/python3.11/site-packages/sklearn/base.py:348: InconsistentVersionWarning: Trying to unpickle estimator StandardScaler from version 1.0.2 when using version 1.3.2. This might lead to breaking code or invalid results. Use at your own risk. For more info please refer to:\n",
      "https://scikit-learn.org/stable/model_persistence.html#security-maintainability-limitations\n",
      "  warnings.warn(\n",
      "/lscratch/dlopez/programs/miniconda_20221210/miniconda3/envs/VE_SBIBE/lib/python3.11/site-packages/sklearn/base.py:348: InconsistentVersionWarning: Trying to unpickle estimator StandardScaler from version 0.22.1 when using version 1.3.2. This might lead to breaking code or invalid results. Use at your own risk. For more info please refer to:\n",
      "https://scikit-learn.org/stable/model_persistence.html#security-maintainability-limitations\n",
      "  warnings.warn(\n",
      "/lscratch/dlopez/programs/miniconda_20221210/miniconda3/envs/VE_SBIBE/lib/python3.11/site-packages/sklearn/base.py:348: InconsistentVersionWarning: Trying to unpickle estimator PCA from version 0.22.1 when using version 1.3.2. This might lead to breaking code or invalid results. Use at your own risk. For more info please refer to:\n",
      "https://scikit-learn.org/stable/model_persistence.html#security-maintainability-limitations\n",
      "  warnings.warn(\n"
     ]
    },
    {
     "name": "stdout",
     "output_type": "stream",
     "text": [
      "Nonlinear emulator loaded in memory.\n",
      "Loading Baryonic Emulator...\n"
     ]
    },
    {
     "name": "stderr",
     "output_type": "stream",
     "text": [
      "/lscratch/dlopez/programs/miniconda_20221210/miniconda3/envs/VE_SBIBE/lib/python3.11/site-packages/sklearn/base.py:348: InconsistentVersionWarning: Trying to unpickle estimator StandardScaler from version 0.23.2 when using version 1.3.2. This might lead to breaking code or invalid results. Use at your own risk. For more info please refer to:\n",
      "https://scikit-learn.org/stable/model_persistence.html#security-maintainability-limitations\n",
      "  warnings.warn(\n",
      "/lscratch/dlopez/programs/miniconda_20221210/miniconda3/envs/VE_SBIBE/lib/python3.11/site-packages/sklearn/base.py:348: InconsistentVersionWarning: Trying to unpickle estimator PCA from version 0.23.2 when using version 1.3.2. This might lead to breaking code or invalid results. Use at your own risk. For more info please refer to:\n",
      "https://scikit-learn.org/stable/model_persistence.html#security-maintainability-limitations\n",
      "  warnings.warn(\n"
     ]
    },
    {
     "name": "stdout",
     "output_type": "stream",
     "text": [
      "Baryonic Emulator loaded in memory.\n"
     ]
    }
   ],
   "source": [
    "path_save_data = \"/dipc_storage/dlopez/Projects/sbibe/baccoemu_test/\"\n",
    "\n",
    "N_points = 987\n",
    "seed=137\n",
    "\n",
    "dict_bounds=dict(\n",
    "  omega_cold=[0.25, 0.38],\n",
    "  omega_baryon=[0.042, 0.058],\n",
    "  hubble=[0.62, 0.78],\n",
    "  ns=[0.93, 1.00],\n",
    "  sigma8_cold=[0.75, 0.88]\n",
    ")\n",
    "\n",
    "theta_test = preprocessing_tools.sample_latin_hypercube(dict_bounds, N_points=N_points, seed=seed)\n",
    "preprocessing_tools.save_theta(path_save_data, theta_test)\n",
    "\n",
    "xx_A1_test = preprocessing_tools.get_Pk_vary_baryon_param(theta_test, min_value=9, max_value=13, NN=NN, baryon_key='M_c')\n",
    "preprocessing_tools.save_model(path_save_data, \"modelA1\", xx_A1_test)\n",
    "\n",
    "xx_A2_test = preprocessing_tools.get_Pk_vary_baryon_param(theta_test, min_value=14.6, max_value=15, NN=NN, baryon_key='M_c')\n",
    "preprocessing_tools.save_model(path_save_data, \"modelA2\", xx_A2_test)\n",
    "\n",
    "xx_R_test = preprocessing_tools.get_Pk_vary_baryon_param(theta_test, min_value=13.5, max_value=14.3, NN=NN, baryon_key='M_c')\n",
    "preprocessing_tools.save_model(path_save_data, \"modelR\", xx_R_test)"
   ]
  },
  {
   "cell_type": "code",
   "execution_count": 11,
   "id": "739da23b",
   "metadata": {},
   "outputs": [
    {
     "name": "stdout",
     "output_type": "stream",
     "text": [
      "(987, 5)\n",
      "(10, 987, 100)\n",
      "(10, 987, 100)\n",
      "(10, 987, 100)\n",
      "[0.25010252 0.04201061 0.62008988 0.93001566 0.75005136]\n",
      "[0.37996078 0.05799894 0.77989495 0.99997993 0.87987059]\n"
     ]
    }
   ],
   "source": [
    "print(theta_test.shape)\n",
    "print(xx_A1_test.shape)\n",
    "print(xx_A2_test.shape)\n",
    "print(xx_R_test.shape)\n",
    "\n",
    "print(np.min(theta_test, axis=0))\n",
    "print(np.max(theta_test, axis=0))"
   ]
  },
  {
   "cell_type": "code",
   "execution_count": 12,
   "id": "b50e2506",
   "metadata": {},
   "outputs": [
    {
     "data": {
      "application/javascript": [
       "/* Put everything inside the global mpl namespace */\n",
       "/* global mpl */\n",
       "window.mpl = {};\n",
       "\n",
       "mpl.get_websocket_type = function () {\n",
       "    if (typeof WebSocket !== 'undefined') {\n",
       "        return WebSocket;\n",
       "    } else if (typeof MozWebSocket !== 'undefined') {\n",
       "        return MozWebSocket;\n",
       "    } else {\n",
       "        alert(\n",
       "            'Your browser does not have WebSocket support. ' +\n",
       "                'Please try Chrome, Safari or Firefox ≥ 6. ' +\n",
       "                'Firefox 4 and 5 are also supported but you ' +\n",
       "                'have to enable WebSockets in about:config.'\n",
       "        );\n",
       "    }\n",
       "};\n",
       "\n",
       "mpl.figure = function (figure_id, websocket, ondownload, parent_element) {\n",
       "    this.id = figure_id;\n",
       "\n",
       "    this.ws = websocket;\n",
       "\n",
       "    this.supports_binary = this.ws.binaryType !== undefined;\n",
       "\n",
       "    if (!this.supports_binary) {\n",
       "        var warnings = document.getElementById('mpl-warnings');\n",
       "        if (warnings) {\n",
       "            warnings.style.display = 'block';\n",
       "            warnings.textContent =\n",
       "                'This browser does not support binary websocket messages. ' +\n",
       "                'Performance may be slow.';\n",
       "        }\n",
       "    }\n",
       "\n",
       "    this.imageObj = new Image();\n",
       "\n",
       "    this.context = undefined;\n",
       "    this.message = undefined;\n",
       "    this.canvas = undefined;\n",
       "    this.rubberband_canvas = undefined;\n",
       "    this.rubberband_context = undefined;\n",
       "    this.format_dropdown = undefined;\n",
       "\n",
       "    this.image_mode = 'full';\n",
       "\n",
       "    this.root = document.createElement('div');\n",
       "    this.root.setAttribute('style', 'display: inline-block');\n",
       "    this._root_extra_style(this.root);\n",
       "\n",
       "    parent_element.appendChild(this.root);\n",
       "\n",
       "    this._init_header(this);\n",
       "    this._init_canvas(this);\n",
       "    this._init_toolbar(this);\n",
       "\n",
       "    var fig = this;\n",
       "\n",
       "    this.waiting = false;\n",
       "\n",
       "    this.ws.onopen = function () {\n",
       "        fig.send_message('supports_binary', { value: fig.supports_binary });\n",
       "        fig.send_message('send_image_mode', {});\n",
       "        if (fig.ratio !== 1) {\n",
       "            fig.send_message('set_device_pixel_ratio', {\n",
       "                device_pixel_ratio: fig.ratio,\n",
       "            });\n",
       "        }\n",
       "        fig.send_message('refresh', {});\n",
       "    };\n",
       "\n",
       "    this.imageObj.onload = function () {\n",
       "        if (fig.image_mode === 'full') {\n",
       "            // Full images could contain transparency (where diff images\n",
       "            // almost always do), so we need to clear the canvas so that\n",
       "            // there is no ghosting.\n",
       "            fig.context.clearRect(0, 0, fig.canvas.width, fig.canvas.height);\n",
       "        }\n",
       "        fig.context.drawImage(fig.imageObj, 0, 0);\n",
       "    };\n",
       "\n",
       "    this.imageObj.onunload = function () {\n",
       "        fig.ws.close();\n",
       "    };\n",
       "\n",
       "    this.ws.onmessage = this._make_on_message_function(this);\n",
       "\n",
       "    this.ondownload = ondownload;\n",
       "};\n",
       "\n",
       "mpl.figure.prototype._init_header = function () {\n",
       "    var titlebar = document.createElement('div');\n",
       "    titlebar.classList =\n",
       "        'ui-dialog-titlebar ui-widget-header ui-corner-all ui-helper-clearfix';\n",
       "    var titletext = document.createElement('div');\n",
       "    titletext.classList = 'ui-dialog-title';\n",
       "    titletext.setAttribute(\n",
       "        'style',\n",
       "        'width: 100%; text-align: center; padding: 3px;'\n",
       "    );\n",
       "    titlebar.appendChild(titletext);\n",
       "    this.root.appendChild(titlebar);\n",
       "    this.header = titletext;\n",
       "};\n",
       "\n",
       "mpl.figure.prototype._canvas_extra_style = function (_canvas_div) {};\n",
       "\n",
       "mpl.figure.prototype._root_extra_style = function (_canvas_div) {};\n",
       "\n",
       "mpl.figure.prototype._init_canvas = function () {\n",
       "    var fig = this;\n",
       "\n",
       "    var canvas_div = (this.canvas_div = document.createElement('div'));\n",
       "    canvas_div.setAttribute('tabindex', '0');\n",
       "    canvas_div.setAttribute(\n",
       "        'style',\n",
       "        'border: 1px solid #ddd;' +\n",
       "            'box-sizing: content-box;' +\n",
       "            'clear: both;' +\n",
       "            'min-height: 1px;' +\n",
       "            'min-width: 1px;' +\n",
       "            'outline: 0;' +\n",
       "            'overflow: hidden;' +\n",
       "            'position: relative;' +\n",
       "            'resize: both;' +\n",
       "            'z-index: 2;'\n",
       "    );\n",
       "\n",
       "    function on_keyboard_event_closure(name) {\n",
       "        return function (event) {\n",
       "            return fig.key_event(event, name);\n",
       "        };\n",
       "    }\n",
       "\n",
       "    canvas_div.addEventListener(\n",
       "        'keydown',\n",
       "        on_keyboard_event_closure('key_press')\n",
       "    );\n",
       "    canvas_div.addEventListener(\n",
       "        'keyup',\n",
       "        on_keyboard_event_closure('key_release')\n",
       "    );\n",
       "\n",
       "    this._canvas_extra_style(canvas_div);\n",
       "    this.root.appendChild(canvas_div);\n",
       "\n",
       "    var canvas = (this.canvas = document.createElement('canvas'));\n",
       "    canvas.classList.add('mpl-canvas');\n",
       "    canvas.setAttribute(\n",
       "        'style',\n",
       "        'box-sizing: content-box;' +\n",
       "            'pointer-events: none;' +\n",
       "            'position: relative;' +\n",
       "            'z-index: 0;'\n",
       "    );\n",
       "\n",
       "    this.context = canvas.getContext('2d');\n",
       "\n",
       "    var backingStore =\n",
       "        this.context.backingStorePixelRatio ||\n",
       "        this.context.webkitBackingStorePixelRatio ||\n",
       "        this.context.mozBackingStorePixelRatio ||\n",
       "        this.context.msBackingStorePixelRatio ||\n",
       "        this.context.oBackingStorePixelRatio ||\n",
       "        this.context.backingStorePixelRatio ||\n",
       "        1;\n",
       "\n",
       "    this.ratio = (window.devicePixelRatio || 1) / backingStore;\n",
       "\n",
       "    var rubberband_canvas = (this.rubberband_canvas = document.createElement(\n",
       "        'canvas'\n",
       "    ));\n",
       "    rubberband_canvas.setAttribute(\n",
       "        'style',\n",
       "        'box-sizing: content-box;' +\n",
       "            'left: 0;' +\n",
       "            'pointer-events: none;' +\n",
       "            'position: absolute;' +\n",
       "            'top: 0;' +\n",
       "            'z-index: 1;'\n",
       "    );\n",
       "\n",
       "    // Apply a ponyfill if ResizeObserver is not implemented by browser.\n",
       "    if (this.ResizeObserver === undefined) {\n",
       "        if (window.ResizeObserver !== undefined) {\n",
       "            this.ResizeObserver = window.ResizeObserver;\n",
       "        } else {\n",
       "            var obs = _JSXTOOLS_RESIZE_OBSERVER({});\n",
       "            this.ResizeObserver = obs.ResizeObserver;\n",
       "        }\n",
       "    }\n",
       "\n",
       "    this.resizeObserverInstance = new this.ResizeObserver(function (entries) {\n",
       "        var nentries = entries.length;\n",
       "        for (var i = 0; i < nentries; i++) {\n",
       "            var entry = entries[i];\n",
       "            var width, height;\n",
       "            if (entry.contentBoxSize) {\n",
       "                if (entry.contentBoxSize instanceof Array) {\n",
       "                    // Chrome 84 implements new version of spec.\n",
       "                    width = entry.contentBoxSize[0].inlineSize;\n",
       "                    height = entry.contentBoxSize[0].blockSize;\n",
       "                } else {\n",
       "                    // Firefox implements old version of spec.\n",
       "                    width = entry.contentBoxSize.inlineSize;\n",
       "                    height = entry.contentBoxSize.blockSize;\n",
       "                }\n",
       "            } else {\n",
       "                // Chrome <84 implements even older version of spec.\n",
       "                width = entry.contentRect.width;\n",
       "                height = entry.contentRect.height;\n",
       "            }\n",
       "\n",
       "            // Keep the size of the canvas and rubber band canvas in sync with\n",
       "            // the canvas container.\n",
       "            if (entry.devicePixelContentBoxSize) {\n",
       "                // Chrome 84 implements new version of spec.\n",
       "                canvas.setAttribute(\n",
       "                    'width',\n",
       "                    entry.devicePixelContentBoxSize[0].inlineSize\n",
       "                );\n",
       "                canvas.setAttribute(\n",
       "                    'height',\n",
       "                    entry.devicePixelContentBoxSize[0].blockSize\n",
       "                );\n",
       "            } else {\n",
       "                canvas.setAttribute('width', width * fig.ratio);\n",
       "                canvas.setAttribute('height', height * fig.ratio);\n",
       "            }\n",
       "            /* This rescales the canvas back to display pixels, so that it\n",
       "             * appears correct on HiDPI screens. */\n",
       "            canvas.style.width = width + 'px';\n",
       "            canvas.style.height = height + 'px';\n",
       "\n",
       "            rubberband_canvas.setAttribute('width', width);\n",
       "            rubberband_canvas.setAttribute('height', height);\n",
       "\n",
       "            // And update the size in Python. We ignore the initial 0/0 size\n",
       "            // that occurs as the element is placed into the DOM, which should\n",
       "            // otherwise not happen due to the minimum size styling.\n",
       "            if (fig.ws.readyState == 1 && width != 0 && height != 0) {\n",
       "                fig.request_resize(width, height);\n",
       "            }\n",
       "        }\n",
       "    });\n",
       "    this.resizeObserverInstance.observe(canvas_div);\n",
       "\n",
       "    function on_mouse_event_closure(name) {\n",
       "        /* User Agent sniffing is bad, but WebKit is busted:\n",
       "         * https://bugs.webkit.org/show_bug.cgi?id=144526\n",
       "         * https://bugs.webkit.org/show_bug.cgi?id=181818\n",
       "         * The worst that happens here is that they get an extra browser\n",
       "         * selection when dragging, if this check fails to catch them.\n",
       "         */\n",
       "        var UA = navigator.userAgent;\n",
       "        var isWebKit = /AppleWebKit/.test(UA) && !/Chrome/.test(UA);\n",
       "        if(isWebKit) {\n",
       "            return function (event) {\n",
       "                /* This prevents the web browser from automatically changing to\n",
       "                 * the text insertion cursor when the button is pressed. We\n",
       "                 * want to control all of the cursor setting manually through\n",
       "                 * the 'cursor' event from matplotlib */\n",
       "                event.preventDefault()\n",
       "                return fig.mouse_event(event, name);\n",
       "            };\n",
       "        } else {\n",
       "            return function (event) {\n",
       "                return fig.mouse_event(event, name);\n",
       "            };\n",
       "        }\n",
       "    }\n",
       "\n",
       "    canvas_div.addEventListener(\n",
       "        'mousedown',\n",
       "        on_mouse_event_closure('button_press')\n",
       "    );\n",
       "    canvas_div.addEventListener(\n",
       "        'mouseup',\n",
       "        on_mouse_event_closure('button_release')\n",
       "    );\n",
       "    canvas_div.addEventListener(\n",
       "        'dblclick',\n",
       "        on_mouse_event_closure('dblclick')\n",
       "    );\n",
       "    // Throttle sequential mouse events to 1 every 20ms.\n",
       "    canvas_div.addEventListener(\n",
       "        'mousemove',\n",
       "        on_mouse_event_closure('motion_notify')\n",
       "    );\n",
       "\n",
       "    canvas_div.addEventListener(\n",
       "        'mouseenter',\n",
       "        on_mouse_event_closure('figure_enter')\n",
       "    );\n",
       "    canvas_div.addEventListener(\n",
       "        'mouseleave',\n",
       "        on_mouse_event_closure('figure_leave')\n",
       "    );\n",
       "\n",
       "    canvas_div.addEventListener('wheel', function (event) {\n",
       "        if (event.deltaY < 0) {\n",
       "            event.step = 1;\n",
       "        } else {\n",
       "            event.step = -1;\n",
       "        }\n",
       "        on_mouse_event_closure('scroll')(event);\n",
       "    });\n",
       "\n",
       "    canvas_div.appendChild(canvas);\n",
       "    canvas_div.appendChild(rubberband_canvas);\n",
       "\n",
       "    this.rubberband_context = rubberband_canvas.getContext('2d');\n",
       "    this.rubberband_context.strokeStyle = '#000000';\n",
       "\n",
       "    this._resize_canvas = function (width, height, forward) {\n",
       "        if (forward) {\n",
       "            canvas_div.style.width = width + 'px';\n",
       "            canvas_div.style.height = height + 'px';\n",
       "        }\n",
       "    };\n",
       "\n",
       "    // Disable right mouse context menu.\n",
       "    canvas_div.addEventListener('contextmenu', function (_e) {\n",
       "        event.preventDefault();\n",
       "        return false;\n",
       "    });\n",
       "\n",
       "    function set_focus() {\n",
       "        canvas.focus();\n",
       "        canvas_div.focus();\n",
       "    }\n",
       "\n",
       "    window.setTimeout(set_focus, 100);\n",
       "};\n",
       "\n",
       "mpl.figure.prototype._init_toolbar = function () {\n",
       "    var fig = this;\n",
       "\n",
       "    var toolbar = document.createElement('div');\n",
       "    toolbar.classList = 'mpl-toolbar';\n",
       "    this.root.appendChild(toolbar);\n",
       "\n",
       "    function on_click_closure(name) {\n",
       "        return function (_event) {\n",
       "            return fig.toolbar_button_onclick(name);\n",
       "        };\n",
       "    }\n",
       "\n",
       "    function on_mouseover_closure(tooltip) {\n",
       "        return function (event) {\n",
       "            if (!event.currentTarget.disabled) {\n",
       "                return fig.toolbar_button_onmouseover(tooltip);\n",
       "            }\n",
       "        };\n",
       "    }\n",
       "\n",
       "    fig.buttons = {};\n",
       "    var buttonGroup = document.createElement('div');\n",
       "    buttonGroup.classList = 'mpl-button-group';\n",
       "    for (var toolbar_ind in mpl.toolbar_items) {\n",
       "        var name = mpl.toolbar_items[toolbar_ind][0];\n",
       "        var tooltip = mpl.toolbar_items[toolbar_ind][1];\n",
       "        var image = mpl.toolbar_items[toolbar_ind][2];\n",
       "        var method_name = mpl.toolbar_items[toolbar_ind][3];\n",
       "\n",
       "        if (!name) {\n",
       "            /* Instead of a spacer, we start a new button group. */\n",
       "            if (buttonGroup.hasChildNodes()) {\n",
       "                toolbar.appendChild(buttonGroup);\n",
       "            }\n",
       "            buttonGroup = document.createElement('div');\n",
       "            buttonGroup.classList = 'mpl-button-group';\n",
       "            continue;\n",
       "        }\n",
       "\n",
       "        var button = (fig.buttons[name] = document.createElement('button'));\n",
       "        button.classList = 'mpl-widget';\n",
       "        button.setAttribute('role', 'button');\n",
       "        button.setAttribute('aria-disabled', 'false');\n",
       "        button.addEventListener('click', on_click_closure(method_name));\n",
       "        button.addEventListener('mouseover', on_mouseover_closure(tooltip));\n",
       "\n",
       "        var icon_img = document.createElement('img');\n",
       "        icon_img.src = '_images/' + image + '.png';\n",
       "        icon_img.srcset = '_images/' + image + '_large.png 2x';\n",
       "        icon_img.alt = tooltip;\n",
       "        button.appendChild(icon_img);\n",
       "\n",
       "        buttonGroup.appendChild(button);\n",
       "    }\n",
       "\n",
       "    if (buttonGroup.hasChildNodes()) {\n",
       "        toolbar.appendChild(buttonGroup);\n",
       "    }\n",
       "\n",
       "    var fmt_picker = document.createElement('select');\n",
       "    fmt_picker.classList = 'mpl-widget';\n",
       "    toolbar.appendChild(fmt_picker);\n",
       "    this.format_dropdown = fmt_picker;\n",
       "\n",
       "    for (var ind in mpl.extensions) {\n",
       "        var fmt = mpl.extensions[ind];\n",
       "        var option = document.createElement('option');\n",
       "        option.selected = fmt === mpl.default_extension;\n",
       "        option.innerHTML = fmt;\n",
       "        fmt_picker.appendChild(option);\n",
       "    }\n",
       "\n",
       "    var status_bar = document.createElement('span');\n",
       "    status_bar.classList = 'mpl-message';\n",
       "    toolbar.appendChild(status_bar);\n",
       "    this.message = status_bar;\n",
       "};\n",
       "\n",
       "mpl.figure.prototype.request_resize = function (x_pixels, y_pixels) {\n",
       "    // Request matplotlib to resize the figure. Matplotlib will then trigger a resize in the client,\n",
       "    // which will in turn request a refresh of the image.\n",
       "    this.send_message('resize', { width: x_pixels, height: y_pixels });\n",
       "};\n",
       "\n",
       "mpl.figure.prototype.send_message = function (type, properties) {\n",
       "    properties['type'] = type;\n",
       "    properties['figure_id'] = this.id;\n",
       "    this.ws.send(JSON.stringify(properties));\n",
       "};\n",
       "\n",
       "mpl.figure.prototype.send_draw_message = function () {\n",
       "    if (!this.waiting) {\n",
       "        this.waiting = true;\n",
       "        this.ws.send(JSON.stringify({ type: 'draw', figure_id: this.id }));\n",
       "    }\n",
       "};\n",
       "\n",
       "mpl.figure.prototype.handle_save = function (fig, _msg) {\n",
       "    var format_dropdown = fig.format_dropdown;\n",
       "    var format = format_dropdown.options[format_dropdown.selectedIndex].value;\n",
       "    fig.ondownload(fig, format);\n",
       "};\n",
       "\n",
       "mpl.figure.prototype.handle_resize = function (fig, msg) {\n",
       "    var size = msg['size'];\n",
       "    if (size[0] !== fig.canvas.width || size[1] !== fig.canvas.height) {\n",
       "        fig._resize_canvas(size[0], size[1], msg['forward']);\n",
       "        fig.send_message('refresh', {});\n",
       "    }\n",
       "};\n",
       "\n",
       "mpl.figure.prototype.handle_rubberband = function (fig, msg) {\n",
       "    var x0 = msg['x0'] / fig.ratio;\n",
       "    var y0 = (fig.canvas.height - msg['y0']) / fig.ratio;\n",
       "    var x1 = msg['x1'] / fig.ratio;\n",
       "    var y1 = (fig.canvas.height - msg['y1']) / fig.ratio;\n",
       "    x0 = Math.floor(x0) + 0.5;\n",
       "    y0 = Math.floor(y0) + 0.5;\n",
       "    x1 = Math.floor(x1) + 0.5;\n",
       "    y1 = Math.floor(y1) + 0.5;\n",
       "    var min_x = Math.min(x0, x1);\n",
       "    var min_y = Math.min(y0, y1);\n",
       "    var width = Math.abs(x1 - x0);\n",
       "    var height = Math.abs(y1 - y0);\n",
       "\n",
       "    fig.rubberband_context.clearRect(\n",
       "        0,\n",
       "        0,\n",
       "        fig.canvas.width / fig.ratio,\n",
       "        fig.canvas.height / fig.ratio\n",
       "    );\n",
       "\n",
       "    fig.rubberband_context.strokeRect(min_x, min_y, width, height);\n",
       "};\n",
       "\n",
       "mpl.figure.prototype.handle_figure_label = function (fig, msg) {\n",
       "    // Updates the figure title.\n",
       "    fig.header.textContent = msg['label'];\n",
       "};\n",
       "\n",
       "mpl.figure.prototype.handle_cursor = function (fig, msg) {\n",
       "    fig.canvas_div.style.cursor = msg['cursor'];\n",
       "};\n",
       "\n",
       "mpl.figure.prototype.handle_message = function (fig, msg) {\n",
       "    fig.message.textContent = msg['message'];\n",
       "};\n",
       "\n",
       "mpl.figure.prototype.handle_draw = function (fig, _msg) {\n",
       "    // Request the server to send over a new figure.\n",
       "    fig.send_draw_message();\n",
       "};\n",
       "\n",
       "mpl.figure.prototype.handle_image_mode = function (fig, msg) {\n",
       "    fig.image_mode = msg['mode'];\n",
       "};\n",
       "\n",
       "mpl.figure.prototype.handle_history_buttons = function (fig, msg) {\n",
       "    for (var key in msg) {\n",
       "        if (!(key in fig.buttons)) {\n",
       "            continue;\n",
       "        }\n",
       "        fig.buttons[key].disabled = !msg[key];\n",
       "        fig.buttons[key].setAttribute('aria-disabled', !msg[key]);\n",
       "    }\n",
       "};\n",
       "\n",
       "mpl.figure.prototype.handle_navigate_mode = function (fig, msg) {\n",
       "    if (msg['mode'] === 'PAN') {\n",
       "        fig.buttons['Pan'].classList.add('active');\n",
       "        fig.buttons['Zoom'].classList.remove('active');\n",
       "    } else if (msg['mode'] === 'ZOOM') {\n",
       "        fig.buttons['Pan'].classList.remove('active');\n",
       "        fig.buttons['Zoom'].classList.add('active');\n",
       "    } else {\n",
       "        fig.buttons['Pan'].classList.remove('active');\n",
       "        fig.buttons['Zoom'].classList.remove('active');\n",
       "    }\n",
       "};\n",
       "\n",
       "mpl.figure.prototype.updated_canvas_event = function () {\n",
       "    // Called whenever the canvas gets updated.\n",
       "    this.send_message('ack', {});\n",
       "};\n",
       "\n",
       "// A function to construct a web socket function for onmessage handling.\n",
       "// Called in the figure constructor.\n",
       "mpl.figure.prototype._make_on_message_function = function (fig) {\n",
       "    return function socket_on_message(evt) {\n",
       "        if (evt.data instanceof Blob) {\n",
       "            var img = evt.data;\n",
       "            if (img.type !== 'image/png') {\n",
       "                /* FIXME: We get \"Resource interpreted as Image but\n",
       "                 * transferred with MIME type text/plain:\" errors on\n",
       "                 * Chrome.  But how to set the MIME type?  It doesn't seem\n",
       "                 * to be part of the websocket stream */\n",
       "                img.type = 'image/png';\n",
       "            }\n",
       "\n",
       "            /* Free the memory for the previous frames */\n",
       "            if (fig.imageObj.src) {\n",
       "                (window.URL || window.webkitURL).revokeObjectURL(\n",
       "                    fig.imageObj.src\n",
       "                );\n",
       "            }\n",
       "\n",
       "            fig.imageObj.src = (window.URL || window.webkitURL).createObjectURL(\n",
       "                img\n",
       "            );\n",
       "            fig.updated_canvas_event();\n",
       "            fig.waiting = false;\n",
       "            return;\n",
       "        } else if (\n",
       "            typeof evt.data === 'string' &&\n",
       "            evt.data.slice(0, 21) === 'data:image/png;base64'\n",
       "        ) {\n",
       "            fig.imageObj.src = evt.data;\n",
       "            fig.updated_canvas_event();\n",
       "            fig.waiting = false;\n",
       "            return;\n",
       "        }\n",
       "\n",
       "        var msg = JSON.parse(evt.data);\n",
       "        var msg_type = msg['type'];\n",
       "\n",
       "        // Call the  \"handle_{type}\" callback, which takes\n",
       "        // the figure and JSON message as its only arguments.\n",
       "        try {\n",
       "            var callback = fig['handle_' + msg_type];\n",
       "        } catch (e) {\n",
       "            console.log(\n",
       "                \"No handler for the '\" + msg_type + \"' message type: \",\n",
       "                msg\n",
       "            );\n",
       "            return;\n",
       "        }\n",
       "\n",
       "        if (callback) {\n",
       "            try {\n",
       "                // console.log(\"Handling '\" + msg_type + \"' message: \", msg);\n",
       "                callback(fig, msg);\n",
       "            } catch (e) {\n",
       "                console.log(\n",
       "                    \"Exception inside the 'handler_\" + msg_type + \"' callback:\",\n",
       "                    e,\n",
       "                    e.stack,\n",
       "                    msg\n",
       "                );\n",
       "            }\n",
       "        }\n",
       "    };\n",
       "};\n",
       "\n",
       "function getModifiers(event) {\n",
       "    var mods = [];\n",
       "    if (event.ctrlKey) {\n",
       "        mods.push('ctrl');\n",
       "    }\n",
       "    if (event.altKey) {\n",
       "        mods.push('alt');\n",
       "    }\n",
       "    if (event.shiftKey) {\n",
       "        mods.push('shift');\n",
       "    }\n",
       "    if (event.metaKey) {\n",
       "        mods.push('meta');\n",
       "    }\n",
       "    return mods;\n",
       "}\n",
       "\n",
       "/*\n",
       " * return a copy of an object with only non-object keys\n",
       " * we need this to avoid circular references\n",
       " * https://stackoverflow.com/a/24161582/3208463\n",
       " */\n",
       "function simpleKeys(original) {\n",
       "    return Object.keys(original).reduce(function (obj, key) {\n",
       "        if (typeof original[key] !== 'object') {\n",
       "            obj[key] = original[key];\n",
       "        }\n",
       "        return obj;\n",
       "    }, {});\n",
       "}\n",
       "\n",
       "mpl.figure.prototype.mouse_event = function (event, name) {\n",
       "    if (name === 'button_press') {\n",
       "        this.canvas.focus();\n",
       "        this.canvas_div.focus();\n",
       "    }\n",
       "\n",
       "    // from https://stackoverflow.com/q/1114465\n",
       "    var boundingRect = this.canvas.getBoundingClientRect();\n",
       "    var x = (event.clientX - boundingRect.left) * this.ratio;\n",
       "    var y = (event.clientY - boundingRect.top) * this.ratio;\n",
       "\n",
       "    this.send_message(name, {\n",
       "        x: x,\n",
       "        y: y,\n",
       "        button: event.button,\n",
       "        step: event.step,\n",
       "        modifiers: getModifiers(event),\n",
       "        guiEvent: simpleKeys(event),\n",
       "    });\n",
       "\n",
       "    return false;\n",
       "};\n",
       "\n",
       "mpl.figure.prototype._key_event_extra = function (_event, _name) {\n",
       "    // Handle any extra behaviour associated with a key event\n",
       "};\n",
       "\n",
       "mpl.figure.prototype.key_event = function (event, name) {\n",
       "    // Prevent repeat events\n",
       "    if (name === 'key_press') {\n",
       "        if (event.key === this._key) {\n",
       "            return;\n",
       "        } else {\n",
       "            this._key = event.key;\n",
       "        }\n",
       "    }\n",
       "    if (name === 'key_release') {\n",
       "        this._key = null;\n",
       "    }\n",
       "\n",
       "    var value = '';\n",
       "    if (event.ctrlKey && event.key !== 'Control') {\n",
       "        value += 'ctrl+';\n",
       "    }\n",
       "    else if (event.altKey && event.key !== 'Alt') {\n",
       "        value += 'alt+';\n",
       "    }\n",
       "    else if (event.shiftKey && event.key !== 'Shift') {\n",
       "        value += 'shift+';\n",
       "    }\n",
       "\n",
       "    value += 'k' + event.key;\n",
       "\n",
       "    this._key_event_extra(event, name);\n",
       "\n",
       "    this.send_message(name, { key: value, guiEvent: simpleKeys(event) });\n",
       "    return false;\n",
       "};\n",
       "\n",
       "mpl.figure.prototype.toolbar_button_onclick = function (name) {\n",
       "    if (name === 'download') {\n",
       "        this.handle_save(this, null);\n",
       "    } else {\n",
       "        this.send_message('toolbar_button', { name: name });\n",
       "    }\n",
       "};\n",
       "\n",
       "mpl.figure.prototype.toolbar_button_onmouseover = function (tooltip) {\n",
       "    this.message.textContent = tooltip;\n",
       "};\n",
       "\n",
       "///////////////// REMAINING CONTENT GENERATED BY embed_js.py /////////////////\n",
       "// prettier-ignore\n",
       "var _JSXTOOLS_RESIZE_OBSERVER=function(A){var t,i=new WeakMap,n=new WeakMap,a=new WeakMap,r=new WeakMap,o=new Set;function s(e){if(!(this instanceof s))throw new TypeError(\"Constructor requires 'new' operator\");i.set(this,e)}function h(){throw new TypeError(\"Function is not a constructor\")}function c(e,t,i,n){e=0 in arguments?Number(arguments[0]):0,t=1 in arguments?Number(arguments[1]):0,i=2 in arguments?Number(arguments[2]):0,n=3 in arguments?Number(arguments[3]):0,this.right=(this.x=this.left=e)+(this.width=i),this.bottom=(this.y=this.top=t)+(this.height=n),Object.freeze(this)}function d(){t=requestAnimationFrame(d);var s=new WeakMap,p=new Set;o.forEach((function(t){r.get(t).forEach((function(i){var r=t instanceof window.SVGElement,o=a.get(t),d=r?0:parseFloat(o.paddingTop),f=r?0:parseFloat(o.paddingRight),l=r?0:parseFloat(o.paddingBottom),u=r?0:parseFloat(o.paddingLeft),g=r?0:parseFloat(o.borderTopWidth),m=r?0:parseFloat(o.borderRightWidth),w=r?0:parseFloat(o.borderBottomWidth),b=u+f,F=d+l,v=(r?0:parseFloat(o.borderLeftWidth))+m,W=g+w,y=r?0:t.offsetHeight-W-t.clientHeight,E=r?0:t.offsetWidth-v-t.clientWidth,R=b+v,z=F+W,M=r?t.width:parseFloat(o.width)-R-E,O=r?t.height:parseFloat(o.height)-z-y;if(n.has(t)){var k=n.get(t);if(k[0]===M&&k[1]===O)return}n.set(t,[M,O]);var S=Object.create(h.prototype);S.target=t,S.contentRect=new c(u,d,M,O),s.has(i)||(s.set(i,[]),p.add(i)),s.get(i).push(S)}))})),p.forEach((function(e){i.get(e).call(e,s.get(e),e)}))}return s.prototype.observe=function(i){if(i instanceof window.Element){r.has(i)||(r.set(i,new Set),o.add(i),a.set(i,window.getComputedStyle(i)));var n=r.get(i);n.has(this)||n.add(this),cancelAnimationFrame(t),t=requestAnimationFrame(d)}},s.prototype.unobserve=function(i){if(i instanceof window.Element&&r.has(i)){var n=r.get(i);n.has(this)&&(n.delete(this),n.size||(r.delete(i),o.delete(i))),n.size||r.delete(i),o.size||cancelAnimationFrame(t)}},A.DOMRectReadOnly=c,A.ResizeObserver=s,A.ResizeObserverEntry=h,A}; // eslint-disable-line\n",
       "mpl.toolbar_items = [[\"Home\", \"Reset original view\", \"fa fa-home\", \"home\"], [\"Back\", \"Back to previous view\", \"fa fa-arrow-left\", \"back\"], [\"Forward\", \"Forward to next view\", \"fa fa-arrow-right\", \"forward\"], [\"\", \"\", \"\", \"\"], [\"Pan\", \"Left button pans, Right button zooms\\nx/y fixes axis, CTRL fixes aspect\", \"fa fa-arrows\", \"pan\"], [\"Zoom\", \"Zoom to rectangle\\nx/y fixes axis\", \"fa fa-square-o\", \"zoom\"], [\"\", \"\", \"\", \"\"], [\"Download\", \"Download plot\", \"fa fa-floppy-o\", \"download\"]];\n",
       "\n",
       "mpl.extensions = [\"eps\", \"jpeg\", \"pgf\", \"pdf\", \"png\", \"ps\", \"raw\", \"svg\", \"tif\", \"webp\"];\n",
       "\n",
       "mpl.default_extension = \"png\";/* global mpl */\n",
       "\n",
       "var comm_websocket_adapter = function (comm) {\n",
       "    // Create a \"websocket\"-like object which calls the given IPython comm\n",
       "    // object with the appropriate methods. Currently this is a non binary\n",
       "    // socket, so there is still some room for performance tuning.\n",
       "    var ws = {};\n",
       "\n",
       "    ws.binaryType = comm.kernel.ws.binaryType;\n",
       "    ws.readyState = comm.kernel.ws.readyState;\n",
       "    function updateReadyState(_event) {\n",
       "        if (comm.kernel.ws) {\n",
       "            ws.readyState = comm.kernel.ws.readyState;\n",
       "        } else {\n",
       "            ws.readyState = 3; // Closed state.\n",
       "        }\n",
       "    }\n",
       "    comm.kernel.ws.addEventListener('open', updateReadyState);\n",
       "    comm.kernel.ws.addEventListener('close', updateReadyState);\n",
       "    comm.kernel.ws.addEventListener('error', updateReadyState);\n",
       "\n",
       "    ws.close = function () {\n",
       "        comm.close();\n",
       "    };\n",
       "    ws.send = function (m) {\n",
       "        //console.log('sending', m);\n",
       "        comm.send(m);\n",
       "    };\n",
       "    // Register the callback with on_msg.\n",
       "    comm.on_msg(function (msg) {\n",
       "        //console.log('receiving', msg['content']['data'], msg);\n",
       "        var data = msg['content']['data'];\n",
       "        if (data['blob'] !== undefined) {\n",
       "            data = {\n",
       "                data: new Blob(msg['buffers'], { type: data['blob'] }),\n",
       "            };\n",
       "        }\n",
       "        // Pass the mpl event to the overridden (by mpl) onmessage function.\n",
       "        ws.onmessage(data);\n",
       "    });\n",
       "    return ws;\n",
       "};\n",
       "\n",
       "mpl.mpl_figure_comm = function (comm, msg) {\n",
       "    // This is the function which gets called when the mpl process\n",
       "    // starts-up an IPython Comm through the \"matplotlib\" channel.\n",
       "\n",
       "    var id = msg.content.data.id;\n",
       "    // Get hold of the div created by the display call when the Comm\n",
       "    // socket was opened in Python.\n",
       "    var element = document.getElementById(id);\n",
       "    var ws_proxy = comm_websocket_adapter(comm);\n",
       "\n",
       "    function ondownload(figure, _format) {\n",
       "        window.open(figure.canvas.toDataURL());\n",
       "    }\n",
       "\n",
       "    var fig = new mpl.figure(id, ws_proxy, ondownload, element);\n",
       "\n",
       "    // Call onopen now - mpl needs it, as it is assuming we've passed it a real\n",
       "    // web socket which is closed, not our websocket->open comm proxy.\n",
       "    ws_proxy.onopen();\n",
       "\n",
       "    fig.parent_element = element;\n",
       "    fig.cell_info = mpl.find_output_cell(\"<div id='\" + id + \"'></div>\");\n",
       "    if (!fig.cell_info) {\n",
       "        console.error('Failed to find cell for figure', id, fig);\n",
       "        return;\n",
       "    }\n",
       "    fig.cell_info[0].output_area.element.on(\n",
       "        'cleared',\n",
       "        { fig: fig },\n",
       "        fig._remove_fig_handler\n",
       "    );\n",
       "};\n",
       "\n",
       "mpl.figure.prototype.handle_close = function (fig, msg) {\n",
       "    var width = fig.canvas.width / fig.ratio;\n",
       "    fig.cell_info[0].output_area.element.off(\n",
       "        'cleared',\n",
       "        fig._remove_fig_handler\n",
       "    );\n",
       "    fig.resizeObserverInstance.unobserve(fig.canvas_div);\n",
       "\n",
       "    // Update the output cell to use the data from the current canvas.\n",
       "    fig.push_to_output();\n",
       "    var dataURL = fig.canvas.toDataURL();\n",
       "    // Re-enable the keyboard manager in IPython - without this line, in FF,\n",
       "    // the notebook keyboard shortcuts fail.\n",
       "    IPython.keyboard_manager.enable();\n",
       "    fig.parent_element.innerHTML =\n",
       "        '<img src=\"' + dataURL + '\" width=\"' + width + '\">';\n",
       "    fig.close_ws(fig, msg);\n",
       "};\n",
       "\n",
       "mpl.figure.prototype.close_ws = function (fig, msg) {\n",
       "    fig.send_message('closing', msg);\n",
       "    // fig.ws.close()\n",
       "};\n",
       "\n",
       "mpl.figure.prototype.push_to_output = function (_remove_interactive) {\n",
       "    // Turn the data on the canvas into data in the output cell.\n",
       "    var width = this.canvas.width / this.ratio;\n",
       "    var dataURL = this.canvas.toDataURL();\n",
       "    this.cell_info[1]['text/html'] =\n",
       "        '<img src=\"' + dataURL + '\" width=\"' + width + '\">';\n",
       "};\n",
       "\n",
       "mpl.figure.prototype.updated_canvas_event = function () {\n",
       "    // Tell IPython that the notebook contents must change.\n",
       "    IPython.notebook.set_dirty(true);\n",
       "    this.send_message('ack', {});\n",
       "    var fig = this;\n",
       "    // Wait a second, then push the new image to the DOM so\n",
       "    // that it is saved nicely (might be nice to debounce this).\n",
       "    setTimeout(function () {\n",
       "        fig.push_to_output();\n",
       "    }, 1000);\n",
       "};\n",
       "\n",
       "mpl.figure.prototype._init_toolbar = function () {\n",
       "    var fig = this;\n",
       "\n",
       "    var toolbar = document.createElement('div');\n",
       "    toolbar.classList = 'btn-toolbar';\n",
       "    this.root.appendChild(toolbar);\n",
       "\n",
       "    function on_click_closure(name) {\n",
       "        return function (_event) {\n",
       "            return fig.toolbar_button_onclick(name);\n",
       "        };\n",
       "    }\n",
       "\n",
       "    function on_mouseover_closure(tooltip) {\n",
       "        return function (event) {\n",
       "            if (!event.currentTarget.disabled) {\n",
       "                return fig.toolbar_button_onmouseover(tooltip);\n",
       "            }\n",
       "        };\n",
       "    }\n",
       "\n",
       "    fig.buttons = {};\n",
       "    var buttonGroup = document.createElement('div');\n",
       "    buttonGroup.classList = 'btn-group';\n",
       "    var button;\n",
       "    for (var toolbar_ind in mpl.toolbar_items) {\n",
       "        var name = mpl.toolbar_items[toolbar_ind][0];\n",
       "        var tooltip = mpl.toolbar_items[toolbar_ind][1];\n",
       "        var image = mpl.toolbar_items[toolbar_ind][2];\n",
       "        var method_name = mpl.toolbar_items[toolbar_ind][3];\n",
       "\n",
       "        if (!name) {\n",
       "            /* Instead of a spacer, we start a new button group. */\n",
       "            if (buttonGroup.hasChildNodes()) {\n",
       "                toolbar.appendChild(buttonGroup);\n",
       "            }\n",
       "            buttonGroup = document.createElement('div');\n",
       "            buttonGroup.classList = 'btn-group';\n",
       "            continue;\n",
       "        }\n",
       "\n",
       "        button = fig.buttons[name] = document.createElement('button');\n",
       "        button.classList = 'btn btn-default';\n",
       "        button.href = '#';\n",
       "        button.title = name;\n",
       "        button.innerHTML = '<i class=\"fa ' + image + ' fa-lg\"></i>';\n",
       "        button.addEventListener('click', on_click_closure(method_name));\n",
       "        button.addEventListener('mouseover', on_mouseover_closure(tooltip));\n",
       "        buttonGroup.appendChild(button);\n",
       "    }\n",
       "\n",
       "    if (buttonGroup.hasChildNodes()) {\n",
       "        toolbar.appendChild(buttonGroup);\n",
       "    }\n",
       "\n",
       "    // Add the status bar.\n",
       "    var status_bar = document.createElement('span');\n",
       "    status_bar.classList = 'mpl-message pull-right';\n",
       "    toolbar.appendChild(status_bar);\n",
       "    this.message = status_bar;\n",
       "\n",
       "    // Add the close button to the window.\n",
       "    var buttongrp = document.createElement('div');\n",
       "    buttongrp.classList = 'btn-group inline pull-right';\n",
       "    button = document.createElement('button');\n",
       "    button.classList = 'btn btn-mini btn-primary';\n",
       "    button.href = '#';\n",
       "    button.title = 'Stop Interaction';\n",
       "    button.innerHTML = '<i class=\"fa fa-power-off icon-remove icon-large\"></i>';\n",
       "    button.addEventListener('click', function (_evt) {\n",
       "        fig.handle_close(fig, {});\n",
       "    });\n",
       "    button.addEventListener(\n",
       "        'mouseover',\n",
       "        on_mouseover_closure('Stop Interaction')\n",
       "    );\n",
       "    buttongrp.appendChild(button);\n",
       "    var titlebar = this.root.querySelector('.ui-dialog-titlebar');\n",
       "    titlebar.insertBefore(buttongrp, titlebar.firstChild);\n",
       "};\n",
       "\n",
       "mpl.figure.prototype._remove_fig_handler = function (event) {\n",
       "    var fig = event.data.fig;\n",
       "    if (event.target !== this) {\n",
       "        // Ignore bubbled events from children.\n",
       "        return;\n",
       "    }\n",
       "    fig.close_ws(fig, {});\n",
       "};\n",
       "\n",
       "mpl.figure.prototype._root_extra_style = function (el) {\n",
       "    el.style.boxSizing = 'content-box'; // override notebook setting of border-box.\n",
       "};\n",
       "\n",
       "mpl.figure.prototype._canvas_extra_style = function (el) {\n",
       "    // this is important to make the div 'focusable\n",
       "    el.setAttribute('tabindex', 0);\n",
       "    // reach out to IPython and tell the keyboard manager to turn it's self\n",
       "    // off when our div gets focus\n",
       "\n",
       "    // location in version 3\n",
       "    if (IPython.notebook.keyboard_manager) {\n",
       "        IPython.notebook.keyboard_manager.register_events(el);\n",
       "    } else {\n",
       "        // location in version 2\n",
       "        IPython.keyboard_manager.register_events(el);\n",
       "    }\n",
       "};\n",
       "\n",
       "mpl.figure.prototype._key_event_extra = function (event, _name) {\n",
       "    // Check for shift+enter\n",
       "    if (event.shiftKey && event.which === 13) {\n",
       "        this.canvas_div.blur();\n",
       "        // select the cell after this one\n",
       "        var index = IPython.notebook.find_cell_index(this.cell_info[0]);\n",
       "        IPython.notebook.select(index + 1);\n",
       "    }\n",
       "};\n",
       "\n",
       "mpl.figure.prototype.handle_save = function (fig, _msg) {\n",
       "    fig.ondownload(fig, null);\n",
       "};\n",
       "\n",
       "mpl.find_output_cell = function (html_output) {\n",
       "    // Return the cell and output element which can be found *uniquely* in the notebook.\n",
       "    // Note - this is a bit hacky, but it is done because the \"notebook_saving.Notebook\"\n",
       "    // IPython event is triggered only after the cells have been serialised, which for\n",
       "    // our purposes (turning an active figure into a static one), is too late.\n",
       "    var cells = IPython.notebook.get_cells();\n",
       "    var ncells = cells.length;\n",
       "    for (var i = 0; i < ncells; i++) {\n",
       "        var cell = cells[i];\n",
       "        if (cell.cell_type === 'code') {\n",
       "            for (var j = 0; j < cell.output_area.outputs.length; j++) {\n",
       "                var data = cell.output_area.outputs[j];\n",
       "                if (data.data) {\n",
       "                    // IPython >= 3 moved mimebundle to data attribute of output\n",
       "                    data = data.data;\n",
       "                }\n",
       "                if (data['text/html'] === html_output) {\n",
       "                    return [cell, data, j];\n",
       "                }\n",
       "            }\n",
       "        }\n",
       "    }\n",
       "};\n",
       "\n",
       "// Register the function which deals with the matplotlib target/channel.\n",
       "// The kernel may be null if the page has been refreshed.\n",
       "if (IPython.notebook.kernel !== null) {\n",
       "    IPython.notebook.kernel.comm_manager.register_target(\n",
       "        'matplotlib',\n",
       "        mpl.mpl_figure_comm\n",
       "    );\n",
       "}\n"
      ],
      "text/plain": [
       "<IPython.core.display.Javascript object>"
      ]
     },
     "metadata": {},
     "output_type": "display_data"
    },
    {
     "data": {
      "text/html": [
       "<img src=\"data:image/png;base64,iVBORw0KGgoAAAANSUhEUgAAArwAAAH0CAYAAADfWf7fAAAAAXNSR0IArs4c6QAAIABJREFUeF7snQd0VVX2xr8U0kNC6EE60ntRqsqIMjiAzoiAoIhgL4g6Gnuv6Ag66thwEEUErAxY/4oFVBQQpBhACBBCLyEQEhKS/Ne+kPDey3vJve/de995931nrazE5LT9Oxv8ONln74iysrIysJEACZAACZAACZAACZCAQwlEUPA69GRpFgmQAAmQAAmQAAmQgEaAgpeOQAIkQAIkQAIkQAIk4GgCFLyOPl4aRwIkQAIkQAIkQAIkQMFLHyABEiABEiABEiABEnA0AQpeRx8vjSMBEiABEiABEiABEqDgpQ+QAAmQAAmQAAmQAAk4mgAFr6OPl8aRAAmQAAmQAAmQAAlQ8NIHSIAESIAESIAESIAEHE2AgtfRx0vjSIAESIAESIAESIAEKHjpAyRAAiRAAiRAAiRAAo4mQMHr6OOlcSRAAiRAAiRAAiRAAhS89AESIAESIAESIAESIAFHE6DgdfTx0jgSIAESIAESIAESIAEKXgf4QGJiIgoLCxEVFYV69eo5wCKaQAIkQAIkQAIkEEoE9uzZg5KSEsTFxSE/P1+5rVPwKnckxjckQre0tNT4QI4gARIgARIgARIgARMJREZGasJXtUbBq9qJ+LGfmJgYFBcXQ5ysYcOGfszAISRAAiRAAiRAAiTgP4GdO3dql281atRAUVGR/xNZNJKC1yKwdk572mmnIScnB40aNcL27dvtXJprkQAJkAAJkAAJkABU1yIUvA5wUtWdzAGIaQIJkAAJkAAJkEAVBFTXIhS8DnBf1Z3MAYhpAgmQAAmQAAmQAAUvfSCYBCh4g0mfa5MACZAACZAACaiuRXjD6wAfVd3JHICYJpAACZAACZAACfCGlz4QTAIUvMGkz7VJgARIgARIgARU1yK84XWAj6ruZA5ATBNIgARIgARIgAR4w0sfCCYBCt5g0ufaJEACJEACJEACqmsR3vA6wEdVdzIHIKYJJEACJEACJEACvOGlDwSTAAVvMOlzbRIgARIgARIgAdW1CG94HeCjqjuZAxDTBBIgARIgARIgAd7w0geCSYCCN5j0uTYJkAAJkAAJkIDqWoQ3vA7wUdWdzAGIaQIJkAAJkAAJkABveOkDwSRAwRsc+o9hCDZhGQqQh3jUREv01DZi5vfuw2fBMY6rkgAJkAAJkIABAqprEd7wGjhMVbuq7mSqcvO1Lz1CtgxlyMd+y01LRG1EIMJNVFMEW46dC5AACZAACRgkoLoWoeA1eKAqdlfdyVRkVr4nT3Frl5ANhAlFcCD0OJYESIAESMAKAqprEQpeK07d5jlVdzKbcfhcLhTFrV52FMF6SbEfCZAACZCAFQRU1yIUvFacus1zqu5kNuPwutxjuACrwiwetiuG4F58qgJ+7oEESIAESMDhBFTXIhS8DnBA1Z0sGIg9b3OP4hBKURyMrQRtzQhEIxGpjP8N2glwYRIgARIIHwKqaxEKXgf4oupOZjXiYIUqnAgjiKwQlK3QExIDvAnLTfkeUIojJj+M462v1d7I+UmABEggPAmorkUoeB3gl6o7mZWIrQhV0Ctk7QgXOCHmTwnoQEUwb32t9EbOTQIkQALhS0B1LRKw4N27dy/KysqUOeHIyEjUqVNHmf3YsRHVncxMBmaHKngTt3YI2UCYmC2CeesbyGlwLAmQAAmQgBBQXYsELHjj4+NRVFSkzGmL2N29e7cy+7FjI6o7mVkMAr/NjUYSarmFG6gubvWy8xTBR5GrO2Y5BfXxBnbpXYr9SIAESIAESKASAdW1iCmC99ixY8ocvQjePXv2KLMfOzaiupP5y8DzNvcI9vk7lTYunG4yjf7jIAl1+LgtIO/iYBIgARIIbwKqa5GABW9CQgL279+PmJiYoJ/0vn370KlTJwreoJ+E8Q2Y/fAsFEMVjFOrekQgt77h9I8Ds7lzPhIgARIIRwJhIXhzc3OVELwivNu1a0fBG2J/0ozeRlY2z7mhCmYepRHODHMwkzznIgESIAHnE3C84JUY3kOHDikjeNu2bQt5SBdOTXUn8zwLsx+e8TZSv7d73voege8/Kwxz0M+VPUmABEgg3AmorkUCDmmYPn06JkyYgIiIiKCftcQSz5kzB+PGjQv6XuzcgOpO5srCyC2jd4a8zTXTtyaiAfKg75En/2FhJnnORQIkQALOIqC6FglY8DrruELTGpWdjLe5avuUkX+AMMxB7bPk7kiABEggmARU1iLChYI3mN5h0tqqOpkRMeUNBR+emeQg1UzDMAd7OHMVEiABEnAyAVW1SDlzCl4HeJ8qThbYbS5DFVRxRYY5qHIS3AcJkAAJhA4BVbSIL2KmCd6cnBwsXLgQ+fn56NWrF/r371+xZnZ2Nh5//HEsW7YMJSUl6N69OyZNmoQuXbqEzkkqvFMVnCzQ21zGh6rjYEbOkmEO6pwbd0ICJEACwSSgghapyn5TBO97772HiRMnorCwsGKtsWPHYubMmVi/fj169+6NvLw8txLE0dHRePfddzFixIhgno8j1lbBya5CAxzS+fgJ4G2u6o6nN8whCrF4D6f+3KtuF/dHAiRAAiRgDQEVtIilglcEbefOnVFcXIzU1FS0aNECf/zxhyZ+X331VU3Ufvvttzj//PMxbNgwHD9+HB988AEWL16MpKQkZGZmIj093Rr6YTJrMJzMNXyhBMcBlOqmzdtc3aiU6VhVmAPTlylzTNwICZAACQSNQDC0iBFjA77hveGGG/DKK6/gH//4hyZupeKalPYdPHgwDh8+jC1btuDKK6/E66+/7ravMWPGaCnE7r//fjz00ENG9sy+HgTsdjIjv/Lmba4z3NXImfMfNM44c1pBAiRAAkYI2K1FjOxN+gYseKWy2ebNmzVh27Bhw4r1P/30UwwdOhQSuiAxvPXr13fbm3yvWbNmWrjDkiVLjO6b/V0IWO1kno/RjmCfbv4UP7pRKd9Rb5gD43qVP0pukARIgARMJ2C1Fgl0wwELXglLkJCEDRs2uO1FyvzWrVtXE7UiiL21li1barG94VYZLdBD8xxvpZMZudmTfSWhLgqQh3jURCv0xL341GxzOZ8iBEYjFiUoqrQbxvUqckDcBgmQAAnYSMBKLWKGGQELXiktLDG8S5curbSfyMhI9O3bV4vX9db69OmDFStWQCqksflPwEonM/IYrSbqYzp2+W8IR4YUgariemOQghIUaP/waYmeuA+fhZRt3CwJkAAJkIAxAlZqEWM78d47YMHbuHFjREVFaSENnk0Er6Qn+/77772u3qNHD2RlZeHAgQNm2BK2c1jpZL5u8bzBZvhCeLmgkdt/+kZ4+QatJQESCD8CVmoRM2gGLHjlBnf58uVaaEJsbKzbnj755BPUrl3bLSevawcJeahTp46W1YHNfwJWOpnvWzymFvP/xJwzknG9zjlLWkICJEACgRCwUosEsq/ysQEL3ptvvhkvv/wyvvzyS5x77rm69yQxv23bttXy8M6dO1f3OHasTMBKJ/N1i8cbO3qiNwKM66VfkAAJkEB4ErBSi5hBNGDBK9kYpk6divHjx0OKTehtko5Mqq+9+OKLkNRmbP4TsNrJPG/x+BjN/7Ny+kjm63X6CdM+EiABEvBOwGotEij3gAWvvxuQMIgjR45o5YWlYAWb/wRUdzL/LePIUCPAuN5QOzHulwRIgATMIaC6Fgma4DUHL2cRAqo7GU8pvAhUjuvd77USH/P1hpdf0FoSIAFnE1Bdi1DwOsD/VHcyByCmCQEQYFxvAPA4lARIgARChIDqWoSCN0Qcqaptqu5kDkBMEwIgwLjeAOBxKAmQAAmECAHVtQgFb4g4EgWvAw4qTE1gXG+YHjzNJgESCCsCFLxhddzBMVZ1JwsOFa6qEoHKcb37AJRV2iLjelU6Ne6FBEiABPQTUF2L2HrDK1kZlixZgtWrV2PTpk1adbbc3Fzk5+ejoKAAUqY4KSlJy9rQokULtGzZEl27dkXv3r21n7F5J6C6k/HcSMCTAON66RMkQAIk4CwCqmsRywVvdnY2Zs+ejffffx+//fYbSktLK064rKzyDU/5DyMiIir6RUdH48wzz8Qll1yCkSNHon79+s7ykgCtUd3JAjSPwx1IoKq43guRgdX4BvuxDWlojLboiwl43oEUaBIJkAAJOIeA6lrEMsH7008/aYUlPv/8c4iwLRe3ycnJaNq0KaSscL169ZCQkKCVJK5RowaKi4tx7Ngx7cZ3z5492Lt3L7Zu3arl65UmIjgyMhJ///vfcffdd6Nbt27O8ZQALFHdyQIwjUMdSsBIXK8gGILJmICpDqVBs0iABEgg9AmorkVMF7xSMnjSpElaqeGYmBicddZZ6N+/P/r27Yv27dsjPT3d8Knm5ORg7dq1WjjEDz/8oH0+fvw4hg0bhmnTpqFZs2aG53TSANWdzEmsaYt5BDzjektQigJIzt7KrR5a4iX8ad7inIkESIAESMBUAqprEdMEr9zgPvzww3jqqadwxhln4JprrsHw4cNRs2ZNU4HKZBL3+/HHH+O1117DypUr8eCDDyIjI8P0dUJlQtWdLFQ4cp/BJzAKMShFcaWN1EAC3kV+8DfIHZAACZAACXgloLoWMUXwSujBqFGjtBvdJ5980tZQg6VLl+Kuu+5CXFwcZs2ahbS0tLBzRdWdLOwOhAb7TWAcUlGAQ17GRyAJtVGAPMSjJlqiJ+7DZ36vw4EkQAIkQALmElBdiwQseCXG9tJLL9VuWC+88EJz6RmYbc6cOfj3v/+NefPmoWHDhgZGhn5X1Z0s9AnTArsI3IZOyMYaXct1xRDci0919WUnEiABEiABawmorkUCFryffPKJlkGhQYMG1pLUMbtkhFizZg2GDBmio7dzuqjuZM4hTUusJvARnsa7uEvXMszZqwsTO5EACZCALQRU1yIBC15bKHKRKgmo7mQ8PhIwQuArvIGdWI+d2Ih0tMYCPIdSlFSaIgqxeA+FRqZmXxIgARIgAYsIqK5FKHgtOng7p1XdyexkwbWcR6CqnL1JqMO4XucdOS0iARIIQQKqaxEK3hB0Ks8tq+5kDkAcPBMkPGfZMiAvD5CMJz17ntiLmd/7TO3HX0Zy9jKuN3iuypVJgATCm4DqWsR2wSv5eQsLC7WCE4MGDdLtHf/3f/+Ho0ePGh6ne4EQ7qi6k4UwWnu37ilupRLhfu95aU3dWO3aUtXFXVQrJoI9c/YewV6vCBjXa6pncDISIAES0E1AdS1iq+Bdt24dOnbsqFVMk+IUU6fqr5w0efJkLQuDjF2/fj1atmyp+xCc3lF1J3M6f7/s8yZuH90PtAVQC8BBAJknZzbzezfo3K3iIng0YlGCIq/GMMxB5xmzGwmQAAmYSEB1LWKr4H3kkUfw0EMPaaJ19erVWuU1vU0qrXXq1Ekb++ijj+Kee+7RO9Tx/VR3MscfQHUG6hG3UQDqSv1sl8nKTn5t5vf2ACj1ENUhKIKriuv1PA6GOVTnoPw5CZAACQROQHUtYqvglRCGb775Bs2bN8emTZsM023RogUk76/M88UXXxge79QBqjuZU7l7tSsQcesqbK2CJiLaU0AHIoLF3k/tz4VrJK43AtFI1ApasGiFVW7FeUmABEhAdS1iq+Bt1KgRdu3ahYsuuggffPCBYe+4+OKL8dFHH0Ggbtu2zfB4pw5Q3cmcyh2qi1u94AMRwdHRQGpqUOJ/9cb1esPAW1+9zsF+JEACJKCPgOpaxFbBK+V/i4uLcfXVV+OVV17RR9Cl13XXXYfXXntNKyMsD9jYThBQ3ckceU4XXAAM+8w95tZXWIIdN7dmQ/YmghcBuFHHQu3aARKutHEjcPrpwMCBwI16BuqYu4ouRsIceOsbGGuOJgESIAFPAqprEVsFb3JysiZUL7/8csyYMcOwt4wfPx4zZ86k4PUgp7qTGT5oFQdkdAWiM4FGRUBODNDtGNDBS3hAIOLWm8gMZD6zOeYDyPMz/vell4Ab9AYL+7dxI2EOvPX1jzFHkQAJkIAvAqprEVsFr8TuSihC7969sWTJEsNe07dvX/z8888MaaDgNew7AQ24uyswblXl2NdAxKhXcVsbQORJVVkTSJCcu2XA0eXmfE97rRZAmrNAbn0bNgQuuwxYvx5o0wbo0QMYNSqgY/E22DPM4ShyUYpiXeswpZkuTOxEAiRAAl4JUPC6YBk+fDgWLFiA6OhobNmyBenp6brdJicnB82aNUNpaSnOO+88fP7557rHOr2j6k4Wcvzn1QbqHQBSABwCEHPyVtNfQ/SK2yY2PP7aNsRdQAcqggO59Z0zBxg50l+qusYZvfVlSjNdWNmJBEiABCoRUF2L2HrD++KLL2r5dyW12KhRo/Duu+/qdpnRo0dj7ty52thnn30Wt956q+6xTu+oupMpzd/z4dmTuUC/4/7f5qokbvWCD0QEB3Lr2707sFxur61tgdz68nGbtWfD2UmABJxDQHUtYqvgPXz4sHZLm5ubq53w9ddfrxWfqFGjhs8Tl0duUnTiP//5j9YnJSUFmzdvRq1akp2fTQio7mTKnpK3h2epAOJ17jgUxa1O01BJBMufWX2hATBy61unju0ZHozc+vJxm16HYT8SIIFwJ6C6FrFV8IozSHaGG264Qbuplda0aVMta8PAgQMheXaTkpJw5MgRZGVlaTl7X3/9dS33bllZmTZm2rRpuPnmm8Pdr9zsV93JlDksz1AFcUFvxR70xuZKopAEmUBecp2MubUjLCEYQLdeABR8pm/lQG59bcrry5Rm+o6SvUiABEhALwHVtYjtglfASViDhDeIgC0XslUBlT7SRCjLODZ3Aqo7mRLn9X4doMN+c0MVak0GGugvj60Eh0A2Ycetb/36QLduwLJltt78GklpxsdtgTgRx5IACTiVgOpaJCiCt/ymNyMjAxLmUF2TW9+nn35aC4Fgq0xAdScLypl53ubWDDBUYU8McFpnoCQbiGoMJPQFGj4fFNOUWdSuW18x2OKbXyNhDlGIxXsoVOYYuBESIAESUIGA6lokaIJXDkdieaWQhGRcWLp0KQoKCirOLD4+HmeeeSaGDBmihTykSjUnNq8EVHcy248t0NtccUP5d5iIZIlW2F0buGSf7WaExIKB3PruAjBQp5U2VHQz8riN2Rx0nhu7kQAJhA0B1bVIUAWvpxfIba98SIEK+WDTR0B1J9NnRQC9zL7NTRgCNLUhRVgAJis71MitbwmAPX4WslDs1pfZHJT1SG6MBEjAJgKqaxGlBK9NZ+K4ZVR3MkuBG7nN9faYKi8SSJGCD2Hw8MzSg3CZXO+tr7fzWBINXH1c304l3neXXBNb1/Q+bmNcr3VnwJlJgARCg4DqWoSCtwo/euqpp3D33XdX9Ch/POeP6+3evRtTpkzRCm9ItTkJ2ejQoQOuuOIKTJw4sSJrhT9zq+5k/tike8z3EUA9nb0lq8IRhiropGVeNyO3vrk1gD4605/JDm1OazYasShBUSU2jOs1z104EwmQQGgSUF2LUPD68Kv169eja9euKCw89TjFX8G7fPlyDB48GPv3nyjrKo/wZN7jx0/cZJ1//vmYP38+YmNj/fJy1Z3ML6N8DXINXziIE2I3yktnb7eHa2sDIxiLa+p56J2s0q3vXt8jVycC9fJPVbr7Q5J261zI4sdtvrM5RKA5euAAspGGxmiLvpiAMH/UqPPI2I0ESMAZBFTXIkoI3kOHDmHlypXYu3dvRQxvnTp10K1bN63QhN1NyhefddZZWLJkCfr06YOffvpJ24I/gldsa9u2LXbt2qV9fvvtt9GzZ08UFRVpOYalYpwU15AMFC+//LJfpqruZH4Z5W2Qt/AFX5PzNtc07JZMtL4BULZb39Tyj5dFAG7U0d3ix21GsjkMwWRMQBilrdNxPOxCAiTgXAKqa5GgCV4RfG+++aYm+latWuVVTEqe3i5dumhZGiZMmICYmBhbPOX555/XqruNHTsWrVq1wsMPP+y34L3//vvx2GOPaSEMa9euRfPmzd1sePLJJ3HPPfcgKioK69atQ+vWrQ3bqLqTGTaofIDnYzQJtY32Mhtvc/1GHLSBRsIcZJPyi5ZDUmrx5Od1kphb5+5NvvXVG9dbDy3xEv7UuUl2IwESIIHQJqC6FgmK4F22bBnGjRsHCRuo7ua0vCKbCMGZM2eiV69elnqEVHjr1KkT4uLi8Mcff+Cll14KSPBKJTmJ2b3yyis1ge/ZpKpcw4YNtepyDzzwQMVaRoxU3cmM2FLR18hjNAn5lPAGphHzC3XQBnmGOST0BI5+DXiJka20RyO3vnFxQMeOQHY20Lgx0Lcv8Lx54QZjkIhiyK8U3FsNJOBdrc4yGwmQAAk4n4DqWsR2wfvDDz/gb3/7G/Lz891udWvXro3GjRsjMTFR+1l2dnZFzGt5RTb52aeffooBAwZY5jmDBg3C119/jbfeeksT5Q899JDfglcEvYQxSJs7dy4uueQSr/u+4IIL8Nlnn6F3794V4RNGDFTdyXTZEkhqMUltddaJanxsIU7ASKiDkTy+nlgmTwammhNuMA6pKNCun91bPFIwE7khfiDcPgmQAAnoI6C6FrFV8Obl5aFdu3bYuXOnRi8hIUGLYZVMBRI64Nn+/PNP/Pe//4WEGEhRComhTU9P1371X7OmXOeZ2yS84pprroGI3q+++kqbPBDB+8EHH2DEiBHaPLJnsd1bu/POO/HMM89oNknMr9GmupNVa4+R21yGL1SLM6Q7GAl1kDy+8gaxPMzByOO2li2BP80JN7gTPZCFFZWwN0d3TMHykD4Obp4ESIAE9BJQXYvYKnifeOIJ3HfffVoKLvlV/xdffIHTTz+9WpYbN27UMhls3bpVGysxsa7pwqqdQEeHnJwcLU2YxBavWbMGLVq0CFjw/vvf/8akSZO0eUTI+hLp5THD0k8Kb0gWByNNdSer1hamFqsWUVh10JvH1xOKkTAHGWtSSrMlmINpGO31iFiRLaw8l8aSQFgTUF2L2Cp4Jf5WUnSJaP35558NxeP+8ssv2q/8ZWz37t3x66+/mupYQ4cOxcKFC/H0009DblzLWyA3vCLw7733Xm0qycQQLS/IvbTym2X50Y4dO7SYXm/tueeeg3x4Nrkxl8wSjRo1wvbt203lYslkruELkpktEUCEl5V4m2sJ/pCb1Mitr+TxHZ4K5OUB8lsgSQVYWqrP5AAety3GHGRhOXZgA+qgGT73kZKMFdn0HQV7kQAJhB4BCl6XM0tLS9NuOs844wy/YlUlRdjSpUuRmpqKAwcOmOYN77zzDi6//HIt764IaVdhqpLgdd2LN+NDQvAaCV9gajHTfDzkJzKSxxd1TlXOW1EIjJVqIzqaiSnNRiIOZThWaVFWZNNxDuxCAiQQkgQoeF2OLTk5GUePHtUyFrzxxhuGD/Sqq67SMh3I4zX51b8Zbc+ePWjfvj1yc3O1W2fJkevaAhG8Zoc0hOQNr+djtFoAvGWX422uGe4cPnPofdxmNMzBk6Cft76syBY+rkhLSYAEThCg4HXxBMlYIPG4Y8aM0QowGG2SNUFuYyXutzylmdE5PPuL+J4xY4ZW+EFK/3o2CUuQXLnSykW25APWkxM47B+tGbnNZWqxQF05vMYbCXMQ3yqMAWKLgWM1gN+KgGt14vLz1tdXRbaaqI/pkPQSbCRAAiTgLAIUvC7nee2112qFJiQjw4YNGwyftAjdzZs3+31D7G3Bc845B999952hvdxyyy2YNm1atWPCPi2ZkcdoTC1WrT+xgwcBQ2EOLmNtuPX1VZGNMbz0YhIgAacSoOB1OdkVK1Zo8buSXkxuai+99FLd5z5r1iwtzjYyMlKL/zWrAIWVgleMKy88IZXipk+fXsleyTncoEEDZxSecA1fEFERx8douh2cHQMnoDfMQVbyrNxmJKWZZFEZPBjYuBGQLDMDBwI3Vq577FqRrcQlnncemDM68MPmDCRAAqoRoOD1OJFHHnlEy20rpXaluEN5ntqqDm7evHlart7CwkI8+OCD2oddLZAYXtljeWlhyTkspYWbNWvmtnUJo8jIyAj90sJGwhf4GM0u9w2vdYyEOXiSCfTW96WXgBt81zqejUfxIR6oWDUKMYhHTbRET9yHz8LrnGgtCZCAIwlQ8Ho5VnnMdccdd2ipus466yytopmkHGvSpIlWjEIetkk5XrnJlVjf77//XouZleIMN910k62OUp3gdf25lCX2FLSSlUJil3ft2qU9jpPyyD169NDy/cqN7+TJk7WvJYb45Zdf9su2oDiZ52O0NAA1vGyfj9H8OlMO8pOAvzl8A731lYqKf8g1se82EjEogwQUuzeGOfh51hxGAiSgFIGgaBEDBGzNwxsVFeW2NQltkLy61TW9/WQeme/4cUnuak4LVPDKLiT38ODBgytKJUu2CrmtFsEvTYpqzJ8/H7GxsX5t2nYnM3Kby8dofp0pB5lEwK5bX/m7rUMHIDsbaNwYOOcc4Pnn3Yy4Cg1wCLsrGcZUZSadNachARIIKgHbtYhBa20VvBJ/60vgiqj1bN76euvnOk7GlJRIzVFzmhmCV3aye/durajFggULkJ2djbi4OHTs2FEL1ZD4XmHjb7PdyfgYzd+j4rhgEAjk1jeQQhaTJwNTp1ZYzFRlwTh8rkkCJGAXAdu1iEHDbBe8BvdnuLvZgtfwBoIwwHIncw1fkBz+Er7gTZ8zfCEIp88lDRMwfOvrUsji16PAOAlC19GaNgW2bKnoyFRlOpixCwmQQMgSsFyLBEjGVsEb4F453AcBS53MSPgCH6PRR0OFgL+3vkYet8XFAQUFFUR8pSqrjWZ4BVmhQo77JAESIAGvBCzVIiYwp+A1AWKwp7DUyXyFL/A2N9jHzvXNJGDk1rcIwJFIILEUyI8EVpcC1/nYTJ06QF4eULMm0LMnHvsM2ITlKEAeXFOVnYbOOIzdSENjtEVfTIB7/K+ZpnIuEiABErB8sB9QAAAgAElEQVSCgKVaxIQNU/CaADHYU1jqZCsjTuTT9Wx8jBbsY+f6ZhOwo5CFS6niAhRgHBK8WjEEkzEBp+J/zTaV85EACZCA2QQs1SImbJaC1wSIwZ7CUifzdcPLymjBPnaubzUBI4UspFrwQB0bql8f2HWqtPDVOA25yKk0sB5a4iX8qWNCdiEBEiABNQhYqkVMMJGC1wSIwZ7CUifzFcO7tjYwYl+wTef6JGAdASNhDpIY5lgsUKMYKK4BLD0GeKtDIakHC6XM24k2BokoRuVHcDWQgHeRb51tnJkESIAETCZgqRYxYa+WCF6ppmZ1e+CBU1WLrF5L9fktdzLJ0lD/AFATQJ7kWKsNXEKxq7pfcH8mELDicZtLXO+4TQdQULO00kbjkYKZyDXBAE5BAiRAAvYQsFyLBGiGJYK3qny7Ae63YriZuXbN2lOw5lHdyYLFheuSgOkEjNz66ghzuPNnIOvMyrtshHaYhnWmb58TkgAJkIBVBFTXIpYK3uqKRPgLPRxz7VbFSnUn8/ecOY4ElCSg93FbUQQwyCVLw969lcxZMgKYNldKRFa2tDl64gCymblBSSfgpkiABDwJqK5FLBW8AqN9+/ZaRTGz2+zZs82eMmTnU93JQhYsN04CeghU+bjNpWjFd/u8pi9bPCYKWbNuww5sQG00xRd4weuqzNyg5zDYhwRIIFgEVNcilgteAd+1a1ethO6YMWNQR+LX2EwloLqTmWosJyMB1QjoDXPwVbSidm1g36mY+ImojzxIGhT3xswNqh0890MCJOBKQHUtYong/ec//wm5gd25c6fGQkIQpEVHR+Ovf/0rxo0bh2HDhiEmJobeYgIB1Z3MBBM5BQmoTUBvmIOvuN7kZODYMa1AxZit+1GcIOrYvTFzg9ouwN2RQLgTUF2LWCJ45dBLS0vx1VdfYebMmfj4449RcLLEZrn4TU1NxciRIzXx26dPn3D3k4DsV93JAjKOg0kgFAlkxgKQkmwezTWuNz4eyK2ciWHcPqCgduWhUYjB33ALdmA90tEGzdED/TEqFOlwzyRAAg4koLoWsUzwup7l4cOHMW/ePE38/vDDDyh/zFYuflu2bKkJ38suuwzNmjVzoBtYa5LqTmat9ZydBBQk4CuuN6I+0OZU4QmkpQEHD7oZ4CtzgzcrJ2MO+mGkggC4JRIggXAjoLoWsUXwuh761q1b8dZbb+Gdd97Bn3+eqCRULnzlc//+/bV43xEjRiBZfs3HVi0B1Z2sWgPYgQScRqDKuN6qH7JVlbnBE1NzdMcULHcaPdpDAiQQggRU1yK2C17XM/zpp5+0W985c+Yg9+Sv9srFb1xcHC688ELt5nfw4MEVojgEfcDyLavuZJYD4AIkoCIBt7jeeMBbIQkfD9kWjwCyLm2FHSm7kX6oPhb+bRNKYivH9SYgBW+xQIWKp889kUDYEVBdiwRV8JZ7Q1FREebPn6/d/H7xxRc4fvx4haOIAP7111/RvXv3sHMevQar7mR67WA/EnA0gcy6ALxUKNRRoGJMHlDs4xdeSaiDAuQhHjXREj1xHz5zNEYaRwIkoCYB1bWIEoLX9ej27t2LjIwMzJgxQ/s2BW/1jq26k1VvAXuQQBgQ0POQrWZNwEuBihszgT1t9DHqiiG4F5/q68xeJEACJGASAdW1iDKCd8+ePZg1a5YW4vD7779r+OVxGwVv9Z6oupNVbwF7kEAYEPBZoCINaLv/FAB5u3DkiBuQN58FPrvNe0U2T3IpqI834PIwLgzQ0kQSIIHgE1BdiwRV8B47dkxLWSYiV1KYlZSUVAhd+SI9PV0rVnHfffehptx8sHkloLqT8dhIgAQABPCQTfi9+UIkMm/uXlFuOEt7rFY5rlf6MsyBHkcCJGA3AdW1SFAEr6QmE5H7/vvvIy8vz03kJiQk4KKLLtIeqw0aNAiRkZF2n1nIrae6k4UcUG6YBKwi4PaQrQYA95vcE38ZAlgE4EYvm5BKlfJ3Zs2amLjuEPLqFuvaKcMcdGFiJxIggQAIqK5FbBO8mzZt0kSupCPbsmWLm8iVsIWzzjpLE7mXXHIJkpKSAkAefkNVd7LwOxFaTAI6CQTwkO2x+cCqoQxz0Ema3UiABCwmoLoWsVTwHjp0CO+9954mdH/++ecK1OWFJ1q3bo3LL79c+2jSpInFR+Hc6VV3MueSp2UkECABXw/ZiiOBu/4KZGUBzZsDn3p/hPbYF9HYdH6tiiwNR7DX64YiEIVhuI1V2gI8Lg4nARLwTUB1LWKJ4F2wYIGWYkw+S8oxaeUiNy0traKkcO/evek7JhBQ3clMMJFTkIAzCeityBYbC5z8u9QNhHy/sLDiWxPRAHnYrYsVq7TpwsROJEACOgmorkUsEbwSdythCuUit0aNGhgyZIgWsjBs2DDIf7OZR0B1JzPPUs5EAg4joPch25Jc4KpT+cndKLjE9T72vzKs6u2S8aEKXKzS5jBfojkkEGQCqmsRSwWvsG/fvj0uvfRS1JG/lE1s11xzjYmzhfZUqjtZaNPl7knAYgJuD9mOeV+sqodsHiMe+7E2NvWJrDbMgVXaLD5XTk8CYUZAdS1iueC16rzLU5hZNX8ozau6k4USS+6VBIJOIDMFwInsNW4ttwYwPLUiS4O3AhVa//r1gV2n8vCOQSKKcbTSdDWQgHeRH3RzuQESIAFnEFBdi1gqeMtDGsw+SgmXoOA9RVV1JzP7/DkfCTiagK+HbIgF2p6K14WvuN6oKOC224D164E2bXDjvW9hT8qeSsgSkIa3oC/8wdG8aRwJkIApBFTXIpYI3nPOOUeL4bWyLVokiSrZhIDqTsZTIgESMEBA70O2Bg2A3dU/UKuqSltz9KwoZNEWfTEBzxvYKLuSAAmQQOhcvlkieOkA9hKg4LWXN1cjAUsJ6H3ItqYMuETfDe2bb9dB5mXNNHF7CAcAeC9YMQSTMQFTLTWPk5MACTiTgOpahILXAX6nupM5ADFNIAF7Ceh5yCY7WlMbuCGy+rjelBQgN7fChmtxGg4gp5JN9dASL+FPe23laiRAAo4goLoWoeB1gJup7mQOQEwTSCC4BDJTARyqvIeI+kCbUw/UkJgIHK38QE0b6JK+bMzW/ShOkNQP7o0P2YJ7zFydBEKZgOpahII3lL3r5N5VdzIHIKYJJBBcAnofsrVqBWzaVO1ex+0DCmpX7haPFMzEqZvgaidiBxIgARIIES1CwesAV6XgdcAh0gQSqIqAr4dsJ65uT6Yxqwlsjgf+ll0tyzt/BrLO9NYtGvN8xPdWOyk7kAAJhDUB1bUIBa8D3FN1J3MAYppAAsElUOVDNo+tbW4CPFgPyM4GGjcGli+X2u5unZaMAKbNBeAlmU5z9MABbEcaGoOZG4J77FydBEKJgOpaJKiC95ZbbsGRI0cwffr0UDpT5faqupMpB4wbIoFQJOD2kK0mgL3erfCM6/WRvmzxCCCrXwx2NCtGXs0ybBjoXQAzc0MoOgv3TAL2E1BdiwRV8NatWxcHDhxgEYkA/VJ1JwvQPA4nARLwRsBnXG8EENsXOL4DiE4HFuwAJmVVy/CGtcDe9pW7MXNDtejYgQRIIARqAlDwOsBNKXgdcIg0gQSMEqgyrtdjso9aA1MPnkpftm9fpTCHMXlAcXLlTTBzg9GDYX8SCE8CqmsRCl4H+KXqTuYAxDSBBNQjYCSuN7oD0GrNKRu8lCVm5gb1jpg7IoFQIqC6FglY8LZo0cLv89i2bRvKysoY0uA3wRMDVXeyAM3jcBIgAV8E9Mb1IhaoNQkoWg/EtAEmvQrMzXOb9bYVQHa3ygtFIg7DMAk5yEQ62kAetfXHKJ4JCZAACbgRUF2LBCx4IyMjERERoQlXf5qMLSkp8Wcox5wkoLqT8aBIgARsIpApMQlHql9M/rq+FcAXp7p+9E/g3SleHq5JX49sDpMxB/0wsvp12IMESCBsCKiuRQIWvElJSSgoKMDUqVPRqFEjQwc7YcIELUsDBa8hbJU6q+5kgVnH0SRAAroJbOoIFK/V131LEjAu3q0s8VfjgZ2tgZ1tgfqZwMIMAJGVp+uBYbgL8/Wtw14kQAJhQUB1LRKw4B0wYAB+/PFHzJ07FxdffLGhQ2WWBkO4fHZW3cnMsZKzkAAJVEtgzwPAgUer7XaiQwrQ1qWqmpeyxBO2A4e93GOkoD7egEtJY50rshsJkIBzCaiuRQIWvLfeeiteeOEFZGRk4IknnjB0khS8hnBR8JqDi7OQgLMJiOg9uhwoyQKimgOFErfgI2wstt+p9GWv/AJMKXZj4+shWwJS8BZLEDvbj2gdCRgk4HjBO2vWLFx++eUYNGgQvvzyS0N46tSpg4MHDzKkwRC1yp1Vd7IAzeNwEiCBQAhsbAWUbKp+BonVlRjeGae6XrkTONLA+9BBuA7b8DuaoDM64Bw+ZKueMHuQgKMJqK5FAr7h3b17N9577z3UrFkTV155paHD3L59uyZ2mzZtamgcO7sTUN3JeF4kQAJBJLBzMnDoeX0bWAfAJTLt/q+BzL94GcqHbPp4shcJhBEB1bVIwII3jM5SWVNVdzJlwXFjJBAuBHbeAhz9ESjJBqIaA8XLvFteHAu8PQnYsAFo3RpLsp7BtLkeWRq8iF2ZrDE64Tn8Hi5EaScJkIAHAdW1CAWvA1xWdSdzAGKaQALOIuAzfVkS0PbwKVsTE7H4gqPI6g7saAukS+aGm4GSpMo4YpGEd+Ay1lnEaA0JkEA1BFTXIhS8DnBh1Z3MAYhpAgk4i0BV6cuqech22UHgWKp3HK3RD7nYgVSkox364zI85SxutIYESMAnAdW1CAWvA5xXdSdzAGKaQALOIqA3fZmXh2yTVgM7O+rDMRZTcBHu0NeZvUiABEKagOpaxBbBu2PHDkhFtgYNfDz3DekjDv7mVXey4BPiDkiABCoRqJS+7FPvkDwesr35LPDZbfriek9DB0zFGsInARIIAwKqaxFbBK+I3Vq1amH//v1hcOT2m6i6k9lPhCuSAAkYJuArrlcess28Gdi4UXvIhmeegYje9X2AHR2A9LXA5h4AYiuvyLhew6fAASQQsgRU1yK2Cd7U1FQcOHAgZA9S5Y2r7mQqs+PeSIAEThIw8JANR4+6Yasqrnc47sAOrEc62qA5ejBfLx2OBBxKQHUtQsHrAMdT3ckcgJgmkIDzCfh8yNYUaLvllP2pqcChQ248bv0N2N5VH6LJmIN+GKmvM3uRAAmEDAHVtQgFb8i4ku+Nqu5kDkBME0jA+QSqfMgWAaAGgJrAikJg7BE3Hu/dD3zwsL643h4Yhrsw3/k8aSEJhBkB1bUIBa8DHFJ1J3MAYppAAuFBQM9DNsncsAjAje5I3nsA2NwN2H06kLIV+GOIhwA+2T0F9fEGdoUHT1pJAmFEQHUtQsHrAGdU3ckcgJgmkEB4EsiUhLvu4QsaiGM1gVnXVlRkw9SpwPHjbowu2wccq10ZWwJS8BZyw5MnrSYBBxNQXYtQ8DrA+VR3MgcgpgkkEJ4EMiX1QpEX22OBtoWnvp+cDBxxD3OYuB3Ia+QdGx+yhac70WpnE1Bdi1DwOsD/VHcyByCmCSQQngTWNwDKdle2PaI+0MYlLKFjR2DtWrd+T34IrPi7Pmx8yKaPE3uRgMoEVNciFLwqe4/OvanuZDrNYDcSIAHVCGy9ACj4zMeuugCRu4DoJsDyGsDIH936LRkBTJvLh2yqHSn3QwJWEVBdi1DwWnXyNs6rupPZiIJLkQAJmE1g2xDg6HIAeSczNbiHLlQst/xc4N1YICsLaN4c+OorLL6wGFndgR1tgfRMYP5dfMhm9vFwPhJQhYDqWoSCVxVPCWAfqjtZAKZxKAmQgGoEMiVFmZcW1QY4PfPUD7zE9fIhm2qHyf2QgHkEVNciFLzmnXXQZlLdyYIGhguTAAmYTyAzEYB7pbUTiyQAbfNPreclrtfnQ7ZSYHgkK7KZf1ickQTsI6C6FqHgtc8XLFtJdSezzHBOTAIkYD8BX6nKEA/UugkoWg/EtAHmbwKu+dBtf3zIZv9xcUUSsIuA6lqEgtcuT7BwHdWdzELTOTUJkIDdBDZ1A4pX6lv1h38AHxdWxPUuSf4M02aXAa5REVLIwkuUBCuy6UPMXiSgCgHVtYgtgvfhhx9GXFwcMjIyVDkXR+1DdSdzFGwaQwLhTqDKEsQecGK6Ay3kwdvJlpyMxX89wods4e5DtN+RBFTXIrYIXkeerEJGqe5kCqHiVkiABMwgIKK3cB1QsgOISgeOfuBj1hSgrUtVNS9xvWP3AUVeKrLJhCxQYcZhcQ4SsIeA6lqEgtceP7B0FdWdzFLjOTkJkEDwCfh8yBYJxPYBju8AotOBZWWV8vX6fMjmJdSBBSqCf9TcAQn4IqC6FqHgdYDvqu5kDkBME0iABKoisLEVULJJHyPXfL1Nm+LJaz7XXZHtbFyBmzBD3zrsRQIkYCsB1bUIBa+t7mDNYqo7mTVWc1YSIAFlCOycDBx6Xt92ojsArdZU9F1yWQymvV2s6yFbY3TEc1itbx32IgESsJWA6lqEgtdWd7BmMdWdzBqrOSsJkIBSBHbeAhz9ESjJBqIaA8UrAJR62WIS0Pbwqe+npmLxeYfcH7JNBiTLmWeLRTL+iuuRg0ykow2aowf6Y5RSGLgZEghXAqprEQpeB3im6k7mAMQ0gQRIwCiBzGQAPsoQ17rjVL7eh+YBr2xxm/3aLOBAMy8LMq7X6CmwPwnYRkB1LRIUwfvJJ59g9uzZ2LBhA44fP446deqgRYsW6NSpE7p164auXbuiZs2ath1SqC+kupOFOl/unwRIwA8CmzoCxWurHygi9lYAX5zqeutKYHuX6odKj/NwLa7BK/o6sxcJkIBlBFTXIrYL3iuuuALvvPNOtcCbN2+uiV/XjwYNGlQ7Lhw7qO5k4XgmtJkEwp6AkXy9h5sB8y4BNmwAWrfG1C7P4Mex+gimox2exzp9ndmLBEjAMgKqaxFbBe+bb76Jq666ShfsiIjKpXfq1atXIYAff/xxXfOEQyfVnSwczoA2kgAJeCEgovfocqAkC4hqDhR+CeC4l47u+XqXjIvDtLeO6XrIlobT8CqyiZ8ESCDIBFTXIrYK3n79+uGnn36CiNmWLVviiSeeQMeOHXHw4EGsX78ev//+O3777TesXLkShw4dqnR0Mq6srEwbX1JSEuSjVWd51Z1MHVLcCQmQQFAJ+MzXmwC0zT+1tTZtsLjzBreHbF9dAxR4K1BRBpwdcRXysYcP2YJ6uFw83AmorkVsFbwpKSk4fPgwEhISNIHbqFEjn/6xefNmTfy6fuzatUvrT8Hrjk11Jwv3vwRoPwmQwEkCVeXrdX3INuMX4K7v3LDdlAnsbqOPJAtU6OPEXiRgJgHVtYitgjcxMRGFhYW44IIL8L///c8wZxG85QL4nnvuMTze14AVK1Zo+1m+fLn2kG7v3r3Iy8vTHs61bdtW2+/111+PtLQ0w2vm5ORAHuktWrRI27v8tzSJR+7duzeuvvpq/OUvfzE8r+sA1Z0sIOM4mARIwDkE9ObrlYdstwFYFAuUlgKRkZg6/ZjuuN4eGIa7MN853GgJCYQAAdW1iK2CV8Tjxo0btTjeV199VZnju+mmm/DSSy9V7CcuLg41atTQbqPLm2SSmD9/Pvr06aN739nZ2WjatKkWhlHe5HZb/rugoKDiexMmTMBrr72GqKgo3XNT8PqFioNIgASCTcA1X6+Wpne39x1FDwBafKuJXRG9S66Ix7SZRbrieuujJV7En8G2lOuTQFgRoOB1Oe7x48dj5syZGD58OD7++GNlHEH2tGfPHvTv31+70U1NTdX2duTIEXzwwQe44447tFtfeTQnN8ASmqGnbdmyBZJt4txzz8W4ceMwaNAgpKeno7S0FJmZmZBbarn9lXbffffh0Ucf1TNtpT6qO5lfRnEQCZBAeBDIlN+cHfRiaxrQdv+p7592Ghb3yXGL6/3iOuBYrcpDaxyrgSGxk7ED6xnXGx5eRCsVIKC6FrH1hvfrr7/Geeedh1q1akHCE+QWNRTal19+icGDB2tblZRqY8fqy5cjD+82bdqE7t27ezVTbnolXOLzzz9HUlKSJqrldtloU93JjNrD/iRAAmFEwGeBCo+KbKNGAXPnuoG5djNwoLkXVixQEUYORFNVIaC6FjFd8Er2hKp+NS/xqt999x2effZZ3HqrZBtXv0k8b/mt7lNPPYWMjAzTNj1v3jyMHDlSm09iiSXvsNGmupMZtYf9SYAEwojAhtOA0hNvGyq1uAlAWSYQ2xlYFQtc8Lxbl7uXAH/21cfqbFyBmzBDX2f2IgESMExAdS1iuuCNj49H+/bttWpprh/JyVJmEpDsC2eeeSby8/Px1VdfQVKVqd4WLlyIoUOHatsUgTpixAjTtiyP5STEQ9qvv/6Knj17Gp5bdSczbBAHkAAJhA+BnCuAwzP12Zt1C7C8DrBzJ9CwId5IexBf3KAFAlfbGqMjnsPqavuxAwmQgH8EVNcipgveyMhILW2YZ5NY1nIBLKEMDz/8sNbvhRdewMSJE/2ja+GoY8eOYefOnViwYAEeeOABLVdwq1atsGbNGsTGxpq28u23347nnnsOMTExWkiDPyWVVXcy02BxIhIgAecROPotsG2gPrviBgHNvqrou+Sqmpj2+mFdD9mSjyRjYNJ1jOvVR5q9SMAwAdW1iOmCV2JQi4qKKoHyJoLLi0jIjbBkKpBHXVKIwltfw+T9HCD7F7Hr2eQm+t1330WTJk38nLnysKysLM3eo0eP4vLLL9ce9FXVRBjLh2cTYS4P4SSv8fbt203bHyciARIgAVsI5H8LFOcAx7cA0c2AXXIJUvnvYSAVaOvywG3YMCyOW4DdpwMH0oG0HcCCScARb1XoGddry1FykfAlEHaCV2J4//jjj4qKaeWV03Jzc928wJeoFcHZqVOnihLCEtMq/+3PYy5/3K5Zs2ZarmDJ0CBhF9IGDhyIKVOm+BVu4GsPkpZswIABWu7f2rVrY9WqVVUW4pB5HnroIe1m3Fej4PXnxDmGBEhAOQKZkimncrVNbZ+uBSpWFFWK6711JbC9iz6LzsO1uAav6OvMXiRAAlUSCDvB64vG1q1b3USwCGFft5GeYljCJNq0aVMhgiU0ItBiDXr8VlKVvf3223j88cchgl1Shz3yyCN6hlbZ5/jx47jkkku01GwS3iFhE+eff3618/KGt1pE7EACJOAEAhubASVb9Vkicb2LYoANG4DWrTG127P48dJTuc+rmiQd7fA81ulbh71IgAQoeP31gQMHDlRUTlu5cqX2teS5lVtiz+YqguVrEY12tV9++UUrOCFhA/LIrPwBmz/ri22S1mzOnDmIjo7G7NmzA34Ep/q/qvzhxDEkQAJhTGD7KOCIewoynzQShgFNTlVVW3RTMl5+8Yg+eMXA8Bp3MK5XHy32IgEKXjN9QMIJfv/9d7fb4NWrV7tVJhPB600Um7kPz7nOPvtsfP/99xg2bJhWcc2fJnu+7LLL8N5772mp22bNmoVRklsywEbBGyBADicBElCLwKE5wM7R+vYUWR9ovaui79q7++ChJ37W9ZANjOvVx5i9SEAHAdW1iOmP1nQwMdxFblbXr1/vJoIlpZmdbcyYMdptbLt27bBunfFfgbne7IrYlQIWo0fr/Au9GkNVdzI7z4lrkQAJOISAiN6ijUDJTiCqIbD/MR8P2SrH9a556nkUxwMRZUBZBDDjGWBHJ31cGNerjxN7kYAnAdW1SEgIXhXcqnfv3li6dCnOOOMM7bORZqXYlX2o7mRGWLEvCZAACXglsL4+ULZHHxyPuN7Hzn0Gq04Uy6y2Ma63WkTsQAJeCaiuRcJe8IoY9ZU7uPxEy0siSxq1O++8E08//bRud5f55XZ47ty5Wsyu3OyaEcbgugHVnUw3LHYkARIgAV8Etg4DChbo4+MR1/vB44l4796j+saWAMOjGNerDxZ7kcApAqprkbAXvFu2bMFFF12E66+/Hueddx6kQEb5A7ns7Gwtzvaxxx7TUpSlpaVh7dq1aNDgVJJH11RhkldX0pqVNxG7kl9XQiFE7EoeX8nOYHZT3cnMtpfzkQAJhCGBAOJ6lzzVA9MyVjCuNwzdhibbR0B1LRKw4P3www+1UsGSAzbYTcSrPHCTh2V6m4wRkVvepOKZVDuTPLnleXjlZ9Lngw8+0FKjubaqBK88cpPHbtIk/ZgI5qra888/79ftr+pOpvcs2I8ESIAEqiQgordwOVC0AYhpDRycCsBbxp5EoK1LpoY5c7D4/dFuBSoWjQF2d9THezjuwOWYoq8ze5FAmBJQXYsELHgll+7IkSMhJXIvvvjioB2z5Mt944038P7776Nu3bq69yFV4T755BN8++23WmyuVC3bt2+flkVB5unSpQsuvPBCLSwhPj6+0rxVCV6ZU4pW6G3//e9/MX78eL3dK/qp7mSGDeIAEiABEtBDoKq43sjuQNRxoMbpQNJA4Ks6wPLlFfl6M0Y8g81n6FkEOB198AR+1NeZvUggTAmorkUCFrxyrnv37tXSbRUXF+Opp57SHnbZ1RYvXoy77rpLE6czZsxASkqKXUsrs47qTqYMKG6EBEjAWQS2DAIKv9ZnU92XgNo3VPR98d1YfDemSN/YMuDsiCuRj/1IRxs0Rw/0R+ApJfUtzl4kEBoEVNcipgheOQp50PXEE09o8a5SCe3aa6/F8OHDq/01vj/HKDewH330EV577TVkZmZqa95yyy3+TOWIMao7mSMg0wgSIAH1COx7Gth3l759xQ0Amn1f0ddQXK+XFSZjDvphpL612YsEwoCA6lrENMFbfpabNm3C5MmTsXDhQu2hllQoGzBgAPr27YsOHTqgadOmho9d4mzlsdiSJUu04g8SeiAPwv7xj39g6tSpaNy4seE5nTRAdSdzEmvaQgIkoBiBg08RytoAACAASURBVG8Ax9YDxRtPxvW+CKCg8iYj0oA2+099/2Rcb1Z3YEdbID0TWDYE2NFVn33M16uPE3uFDwHVtYjpgrf8aJcvX66FN3z88ceaOC3PfBAXF6cJ1Hr16mlhCAkJCYiNjdUedUlIxLFjx3D06FHs2bNH+5BMCfI9aXKLLCJaYoXvvvtudO7cOXw8qQpLVXcyHhIJkAAJ2EYgszaAA96Xq3UHULQeiGkDxPUAPodbXO/tlz2DbTr/t5J0JAnnJt2AHGQyzMG2w+VCKhNQXYtYJnjLD0Xie6WUrmQ4+OWXXyClg11buRB2/Z4IW9cmglgyQUhKL8lhW6dOHZXP3Pa9qe5ktgPhgiRAAuFLYENjoHS7PvsbzgFSToUlvPhePL4b7f7/KJ8TsSyxPsbsFTYEVNcilgte15OWjAjLli3DqlWrIKEPkrc2NzdXS/8lQlhufxMTE5GamqqlAWvRooWWJaFXr16QdGFs3gmo7mQ8NxIgARKwjcD2UcCRufqW8yhQ8flLnTD9xjXuY70IW1+TM32ZPuzs5UwCqmsRWwWvM484+Fap7mTBJ8QdkAAJhA2BAApUZH3xNO455y7EHgGiioFeHwB/9gK26kw81B7n4GEsChvUNJQEXAmorkUoeB3gr6o7mQMQ0wQSIIFQIlCpQMVLALyVFo4Aav3TLa738DeHkfjzekSu3wi0bo2Mkf/C5p6l+qwvBobXYFlifbDYy2kEVNciFLwO8DjVncwBiGkCCZBAKBOoqkCFp12ecb0fpeK7vx/SZz3jevVxYi9HElBdi1DwOsDtVHcyByCmCSRAAqFMwEiBiuQrgEYzKqz9/PXumH71b+7WM643lL2Be7eIgOpahILXooO3c1rVncxOFlyLBEiABCoR2HMPcOBJfWCiWwKt/qzo6y2ud+UgYH8bfdOlox16YZiWvqwR2kLifLtjiL7B7EUCIURAdS0SsOBt3bq1VhRC8ugGu0nGh3POOQcrV64M9lZsXV91J7MVBhcjARIgAU8ChSuBLfLyLBGIjAGSLgLy5BbXW2nhRKDWDebF9Xq5DX4Gq9AMOhP+8jRJIEQIqK5FAha88fHxOHTokBJpw/bv34927dppBSvCqanuZOF0FrSVBEhAUQIl+4HIWkBE5IkNBpCv96UF9fDt0L1+Gzoaj+Fi3Ov3eA4kARUJqK5FAha8UilNblZVyJNLwdsI27frTLiu4p8W7okESIAE7CKQdSZw7Bd9q3nE9S564yy8fNUP+sZ66dUTFyIDH/s9ngNJQEUCjhe8csN75513IioqKuj8pSTxm2++yRveoJ8EN0ACJEACihPYfSdw8Bl9m4xuA7TKrOi79psH8NDAR4EIl+EGHrKl70tHzzpjsQPrWZZY3wmwVwgQCAvBKxXUVGhSkljKDjOkQYXT4B5IgARIQGECR78Ftg3UucHK+XrXLF+L4l1bEHHgIMrSauHtLu8gu4OoXh2N6ct0QGKXUCPgeME7adIkFBcXK3MuSUlJeOYZnf9qV2bXgW1EdScLzDqOJgESIAGLCOR/CxTnAMe3ANHNgF23ANivbzGPfL1vv9MI8y/boW+sl14sS+w3Og5UhIDqWiTgGF5FOIf1NlR3srA+HBpPAiQQOgSy+gPHlujbr2e+3m8uwfS/vK9vrJde9XLroU/qeC19WTraoDl6oD9G+T0fB5KA3QRU1yIUvHZ7hAXrqe5kFpjMKUmABEjAfAI5E4HDb+qbt0ZHoOXqir5Zy97APZ2uRuwRoDQSiCgFjqYC0Pu8hWEO+rizl7IEVNciFLzKuo7+januZPotYU8SIAESCCKBQ3OAnaP1byDhZiBiKxDTBojrgcOr45C4NQ+RW7ahtFkT3NN+IjZ18z/kj2EO+o+CPYNPQHUtQsEbfB8JeAeqO1nABnICEiABErCLgIjeoo1AyU4gqiGwX96E5Olb3TOu96M2mP/3DfrGeunF9GV+o+PAIBBQXYtQ8AbBKcxeUnUnM9tezkcCJEACthHY1AkoXqNvOc+43mUTMb2nR4iEgfRlKAPOiBiBUhQxrlffCbBXEAmorkUoeIPoHGYtrbqTmWUn5yEBEiAB2wlsHwUcmatv2ch2QOt1FX2zsBL3lPRCbGEUoorK0OuPNshM+wM5bY/rm49xvfo4sZcSBFTXIhS8SrhJYJtQ3ckCs46jSYAESCCIBIzG9cacD9SIOxXXmzIIiaiFSJwoafzUj3WxvO8+vw1iXK/f6DjQYgKqa5GgC14pFrFv3z7k5+drR5GYmKgVj4iIcC1hY/Ephfj0qjtZiOPl9kmABMKdgIjewuVA0QYgpjVw8A0AB/VR8Yjr/WDJULzXb6G+sd56lQDDo+5glTb/CXKkRQRU1yK2C95Vq1bhyy+/xNKlS7Fy5UpkZ2fj+HH3X+9ER0ejcePG6Nq1K84880ycf/756NKli0VHFPrTqu5koU+YFpAACZCAC4EA4nqXrHkA0zr4X5bY2zlMxhz0w0geEQkElYDqWsQWwbthwwb897//xaxZs5CTk+N2IHLD66153vA2atQIY8eOxfjx49GmTZugHqpqi6vuZKrx4n5IgARIICACRuJ6kQDUuhEoWl8R5rA4ey12F/2BA6XbkBbZBItjP8L2DiV+b4lhDn6j40ATCaiuRSwVvN999x2efvpp7Ua3XNj6ErjVMXcVwIMHD0ZGRgbOPvvs6oaFxc9Vd7KwOAQaSQIkED4EjMb1epLxCHN48YcW+G5Alt/8Gh5oiF5plzHMwW+CHGgGAdW1iCWC97fffsOdd96Jb775RmNYLnIjIyPRqVMnDBgwAJ07d0a7du0gN7cSsxsfH6/1LSgowN69e7Wb4MzMTPz+++/44YcfsHr1apSWlmp9ysXvX/7yF0yZMgXdunUz46xCdg7VnSxkwXLjJEACJOCLgGdcb+5bQNkefbxq3QHUn1LRd+Hy8ZjR4y19Y731YjYH/9lxpGkEVNcipgve6667DtOnT9fEqQhdEbnnnXceRo4ciQsvvBBpaWl+wT1w4AA++eQTzJs3T7sxlvlF+Mr8EydOxCuvvOLXvE4YpLqTOYExbSABEiCBKgls7g4U/aYPUmwfoPmPFX3X4ls8VDYQcH2rbSRfr5dVGeag7yjYyzwCqmsR0wWvCFBpKSkpuP7667UPeYBmZpOHbv/5z380kZubm6sJ35IS/+OfzNxbMOZS3cmCwYRrkgAJkICtBAzF9UpKolsBbKqI612TUh8HkYM92IJ6aIaPNt+A7BY6K7x5MbRndg+c1/hRrMO3yEEmC1fY6gzhuZjqWsR0wStCV8IZJk2ahOTkZEtP/ciRI5g2bRqeffZZTfiGa1PdycL1XGg3CZBAGBEwOa73nd//hk86f+o3wI6r6mNNl92VxjOjg99IObAaAqprEdMFr+TUlZhcO9v+/ftRu3ZtO5dUai3VnUwpWNwMCZAACVhFQETv0UVA/hdA4mDg0CcAdulbrea1QPqp0LxF6+7Cy+2f1jfWS6/0FcCO7pV/wFAHv5FyIAWvfh84fPiw5be++nfjnJ4UvM45S1pCAiTgIAKbOgPFq/UZFNUYSLkUOJaphTmsTYzDQ4kB5OstBlCj8tKn722F9nX/oYU5NEJbtMc56I4h+vbIXiRQBQHVtYjpN7xVeYM8WpOHZ2zmElDdycy1lrORAAmQQIgQyLkCODzT782uafQAipN7IwKRKEMp5uVcj42Ntvo9nzbQy2O4Z7AKzdA5sHk5OuwJqK5FbBW88qDt4Ycfxv333x/2jmEmANWdzExbORcJkAAJhAyBQON6PdKXfbBpIt5r+abp5o/GY7gY95o+LycMLwKqaxHbBa+I3vnz5+OCCy7w2xPy8/ORmJjo93inDVTdyZzGm/aQAAmQgG4Cnvl6D30AlG7WNzzuHKDZooq+n+M/mI4b3Mf6Sl9mIK2ZZHTIaLxM357YiwR8EFBdi9gqeBs2bIjdu3cjNTUVv/76K1q2bGnYcSQl2bBhw7By5UrDY506QHUncyp32kUCJEAChglk9QSOLdc3LKoDUPOCirLEWQm1cU/yA4hHMmKQiD64GGs3/hdZpweWpaj5pnro1PIKVmrTdyrsRcFbvQ9IxbRzzz1Xy5nboUMH/Pzzz0hISKh+4MkeIpKHDx+OPXv2hHXeXU9gFLy6XYgdSYAESCC4BAKM6z2c/gYSa16JSJzIef/i5rPwXYsfKtlUa0cUDqbrzE/veRtcBkyOmIN+GBlcVlw9pAiorkVsveGVk5s6dSpuv/12rVjEiBEjMGfOHF0HOnfuXFx55ZVa6eFwLzRBwavLZdiJBEiABNQjEGhcr0f6soV4ATNwS2U7S4GTmtgvBsPXDcPl7ef7NZaDwpMABa+Xc5cyw++//74mXJ988kmtUEVV7ZFHHtEeu0mTcsVSqviLL74IT4/yYrXqTsaDIgESIAEScCHgGdeb9xFQ8qdORHFArZsrwhy09GVJj+ocq79b86110anpeIY56EcW9j1V1yK23/CKR8ijs169eiEzMxNRUVH4/PPPtVAHz1ZUVIQJEyZg9uzZmtCVJqWKX3jhBW0c2wkCqjsZz4kESIAESKAKAlsHAwVf+o1I0pcdTG5dUZa4FhrhnZ3jsalhACnMGObg93mE60DVtUhQBK84g4jdM844A1IeWKqkLV++HE2aNKnwE6nYdtFFF+Gnn37SxK4IXAmHuOmmm8LVl3zarbqT8cBIgARIgASqILD/BWCvl7AEvdA80pfJsA933IzZ6S/qnUFXP4Y56MIUtp1U1yJBE7ziEfPmzcOoUaO00IauXbtiyZIliIuLw7p16zB06FBs3bpVE7spKSlarO/5558fto5UleGqOxkPjQRIgARIoAoCR78Ftg30H1FEc6DWJRVV2hDXA4tSCvEyxvs/p5eRp2c1QPvm47Qqbelog+bogf4YZeoanCx0CaiuRUwXvJKBwUi4gTxgk5tbEb1jx47FmDFjMHr0aEgZYhG7LVq0wIIFC9C2bdvQ9QKLd666k1lsPqcnARIggdAnkP8tUJwDHN8CRDcD9j8CFG/w2661pz2Ah5IecR9vIDev14UZ5uD3eYTDQNW1iOmCNz4+Xks51q1bt4qPLl26+Ew/JgJ54MCBWLx4sSZ6pZXH65511ln48MMPkZaWFg6+4reNqjuZ34ZxIAmQAAmEK4Ed44G8t/y3vtYdWFP/AhSjoKI08Yf7M5BZe7X/c3oZyTAHU3GG9GSqaxHTBa9UUisXruUnJ//dqlUrNxEsgrhOnTpaFylGIf8tn8vFrjxW+89//oMaNWqEtAPYsXnVncwOBlyDBEiABBxFIPctYFcAIQkJ5wNN3LMZ+UxhFgA41zCHRmiL9jgH3TEkgBk5NFQJqK5FTBe8EoMr2RU8m6cIlp+np6drQlfidyWE4fnnn9fCIZ566iktVy+bPgKqO5k+K9iLBEiABEiggkCgcb0yUfJ1QHRy1SnMzA5zAPAMVqEZOvMww4yA6lrEdMErIQp//PEHfvvtN638b/nn3NzKpQ+9ieDY2Fj07dsXEgYhQlg+t2/fHtHR0WHmOvrNVd3J9FvCniRAAiRAAhUEJK63tACIiATKSoF9DwDHlgUESFKYbUtOww+YjQG4FBt2zceSBt/4N6cPsTwaj+Fi3OvfnBwVsgRU1yKmC15fJyUZF1xFsHy9fft2t+7eBLB0kLCGdu3auYlgiftlO0FAdSfjOZEACZAACZhAYO/jwP77ApvII4XZ67gRX+LlwOb0GN0zuwcyGgcmzE3dECezhYDqWsQ2weuN9oEDBzQR7CqEN2zYALkl9myuYli+Pn78uC0HGAqLqO5kocCQeyQBEiAB5QkEWpZYM1BSmI2oCHNYmLwHMxICeBznBVq3FY3RuPtoVmlT3qHM3aDqWiSogtcb6sLCQvz+++9uInj16tUoKCio6C6C15soNvfoQmc21Z0sdEhypyRAAiSgOAERvUUbgZKdQFRDIG82ULzO702vjQcekppPJ5IknWhmx/WWAZMj5qAfRvq9Tw5Un4DqWkQ5wevtSEtLS7F+/Xo3EfzVV1+pf/o27VB1J7MJA5chARIggfAjkD0MyF8QkN1r6o3EwbThFaWJ/w+vYx2+C2hOz8FMX2YqTiUnU12LhITgVfJkFdqU6k6mECpuhQRIgAScRcBnWeIoAJXDA70aH306kHyRpWEOrNLmLLfzZo3qWoSC1wE+qLqTOQAxTSABEiABNQn4Sl9WoxNQ7F+RiZ+SgOdOM9lcVmkzGah606muRSh41fMZwztS3ckMG8QBJEACJEAC+gl4liWucRqw7wmg4Ev9c7j0zIoF7mkWhcSIuohABMpQgkNle9zjfKua2Yu4dYsRPjmWYQ5+HY+yg1TXIqYLXqmWVr9+fVsPJBhr2mpgNYup7mQqseJeSIAESCAsCASYwuxwTGskJg5HZNEGlMa0xjOp32JZrLmpxnqubomMTn+GxXGEg5GqaxHTBW9ycjJuu+027SMlJcXSM5ZiFs8++yxeeOEF5OXlWbqWypOr7mQqs+PeSIAESMCRBExJYXaKzMJUYEYDHaQMZHjo9l0Kmpx9LXKQiXS0QXP0QH+M0rEIu6hIQHUtYrrgjYyMhKQNS0pKwjXXXIPrr78eLVq0MPVsNm3ahJdffhmvv/468vPztbnDOU2Z6k5m6uFzMhIgARIgAX0ERPQW/Aoc/QKIPw849CaAQ/rGevRi+jK/sIXVINW1iOmC96abbsKrr76qCVARvvJx9tlnY9SoUbjwwgv9DneQsIWPP/4Yc+bMwXffnUiXUlZWhqioKE1Uyy1vuDbVnSxcz4V2kwAJkIBSBPZkAAem+L2lNTVbYVtSE/wQuwIDCrthQ1whlsT+5Pd83gYyrtdUnLZOproWMV3wCl0pHHHHHXegPFeua5U0KRHcv39/dO7cGW3bttXK4tauXRvx8fGaOD569Cj27dunlR2W3LurVq3C4sWLkZmZWXFwInSlDR48GFOmTEGnTp1sPVTVFlPdyVTjxf2QAAmQQFgSyH0L2DXeNNNfrwd8mWbadNpEjOs1l6eds6muRSwRvOWARag+9dRT+Oyzz7TbWGmu4tfIQbiO/9vf/oa77roLffv2NTKFY/uq7mSOBU/DSIAESCCUCPhKYeanDVbE9dbMAc5Z3ws74rchvaAxmsf2Q/9+0/zcIYfZSUB1LWKp4C0HvXHjRrz55puYPXs2tm3b5hf/Jk2aYOzYsbjyyivRqlUrv+Zw6iDVncyp3GkXCZAACYQcAUlhVloAREQCZaXA3geBol/9MsP0uN4T92KVyhxP/mky+vWd6tceOcg+AqprEVsEryvu1atXa6EOS5cu1UIftm7disLCQrcTiYuLQ9OmTdGlSxecccYZOO+888I+bKEql1Xdyez748aVSIAESIAEDBEIMH3ZmnjgYDSwJwZIKwKkaMVvJidoGr6oFy4f+Ishs9jZfgKqaxHbBa+3Izh06FBFtoXExETL05nZ7wbWrqi6k1lrPWcnARIgARLwm4DJ6cssietdUgcZ/fb6bSIH2kNAdS2ihOC15yicu4rqTuZc8rSMBEiABBxAQERv0UagZCcQ1RA4NBM4vtEvw6yI643KB/62tCd2xGczrtevU7FnkOpahILXHj+wdBXVncxS4zk5CZAACZCAuQQCSF9melyvWOalVDHjes09cjNmU12LWCp49+7di3/9619YuHAhpFhEUVERatWqhdNPP11LKTZx4kQtLRlbYARUd7LArONoEiABEiABWwkEmL7MNa63dhHw3/rA0WhzLWBcr7k8zZhNdS1imeD99ddfMXToUC2nbnlKsXKg5anJYmNjcd999+Gee+4xg3XYzqG6k4XtwdBwEiABEghFAianL7MkrveHNGQM2B+KdB27Z9W1iCWCNy8vDx06dEBOTk5F3l1vole+J+L36quvxiuvvOJYJ7DaMNWdzGr7OT8JkAAJkIDJBDzTlx2cBhz90q9FrIjrjcwHhjKu16/zsGqQ6lrEEsE7depU3H777ZqYFVErFdWGDRuGevXqQTIySPW0r7/+WquqJk36SZ7eK664wqpzcPS8qjuZo+HTOBIgARIIBwL7XwD23uKXpabH9XrG9MquygDG9fp1PKYNUl2LWCJ4zz33XCxatEgTstdeey1efPFFREZGukE9cOAAbrnlFsyaNUv7fv369bWiFDVq1DANfrhMpLqThcs50E4SIAEScCyBAMMcXON66xUB82sBWxLMpcW4XnN5Gp1NdS1iieBt0KAB9uzZg4YNG2qFJaKjfUerjx49GnPnztXE8TvvvINLL73UKOOw76+6k4X9AREACZAACTiBgIQ5FOcAx7cA0c2AfY8BxzP9suzVesD/pfk11OegnozrNReowdlU1yKWCF55jHb8+HGImC2/wfXFbceOHWjevLnWf/z48Zg+fbpBxOyuupPxhEiABEiABBxIIIAqbVbE9Z7xv1g0TOyMnPhtzNcbBHdTXYtYInglfEFubG+88Ua88MIL1WLv378/fvzxR3Ts2FErN8xmjIDqTmbMGvYmARIgARIICQIH/wPsvsGvrQYc1+slN6+2kQiX7TCu16+z8XeQ6lpECcF75ZVX4q233kKdOnW0UAg2YwRUdzJj1rA3CZAACZBASBAoXAlsOROITD6hNEuLABw+WSmiegskrndbLPBDCjDgELAuHliaUv04Iz0Y12uEVmB9VdciSgjem2++GS+99JL2YO3YsWOBEfdj9P79+zF//nwtc8SKFSu0uGMJsahbty569uypZY/4+9//7sfMvodcd911ePXVV7UOTZs2xZYtW/yeX3Un89swDiQBEiABElCbQMl+ILIWEBEJlJUCOWOAI3P82vOLDYDvUv0a6nNQzyV1kNFvr7mTcjavBFTXIkoJXgmDKCkpsd2VRGiLwC1vcXFxiIqKQn5+fsX3hgwZgvfffx8JCYE/K/3222/xl7/8paIgBwWv7UfOBUmABEiABKwgEED6MkviehcmoGF8B8b1WnHWHnOGteAdNGgQHnjgAXTq1Ak1a9b0ibv8hjdYglfWPeOMM7RHc1LyuEWLFtpe5db1scceq3hId9lll+Htt98OyG0k93Dnzp21FGxdunTBsmXLeMMbEFEOJgESIAESUIZAAOnLfkoCnjvNiyXe4nVdY3V9GS/jpDGu1xb3CGvB60q4SZMmmtCTDxHA8rl169Zaft5gC17JGTxw4ECfDuEafiBCtXHjxn47z6233opp06bh3nvvxfbt27XYZd7w+o2TA0mABEiABFQjIOnLClcBh2cDSaOA/Q8DZYeq3WVWLHBPUyCx5IRGPRwFlMgXesStt9m9FagAwLjeao/Crw5hLXi9lRN2pSjpy9q3b69VX9u0aZOW2UFieKvK2+vXKQQ46Ndff9VugKV9+OGHfsfz/vzzz+jXrx9atWqlVZsTIU3BG+DhcDgJkAAJkIDaBPZkAAem6Nrj4UggsRSQUlWlAGbUBT6rrWuo7k49f6qPjD67dPdnR30EwlLwPvnkk5qgW7lyJf7880+Ulorbem8icsubCGSJp23Xrh26detW8dG1a1ckJ8sr0OC01atXazfS0ubNm4cRI0YY3ogIebEpMzMT33zzDc455xwthIKC1zBKDiABEiABEgglArlvAbvG+7Xj1+sBX5pcoGLohy1xxT/+9Gs/HOSbQFgKXlccErMq4ve3337TBLB8Xrt2LQoLC92olQtfEb2uIri8kxSnKBfBIoAvuOAC2/zu3//+NyZNmqStJ4K1TZs2hteWEIYnnngCV111FV5//XVtPAWvYYwcQAIkQAIkEGoEAojr9fmQLYC43rQ/gf5bu2NHYg4LVJjoS2EveL2xlEwMf/zxR4UAFiEsHwcPHvSJ3lUEy9euWRVMPK9KU+Xm5mphFzt37sSAAQPw/fffG15ORL6ERNSuXVuzu1atWhS8hilyAAmQAAmQQMgSkLje0oJT6cv23AMUr6zWHK8FKqodVUUHPmQLhF6VYyl4DaCVB2GuN8EiguV7ns2ubA4SinHhhRdiwYIFkHjjpUuXapkVjDQR5r169dIE/Zw5czBy5MiK4UZveJ977jnIh2cTMS57bdSokfYQjo0ESIAESIAElCZgoCyxa4GK1vnA17WAY1HmWseHbIHzpOANkKHcsIoIdhXC69evR1GRVHSxtkn2iBdffFFbZPr06ZgwYYLhBSWt2f3334+hQ4fif//7n9t4o4L3oYcewsMPP+xzDxS8ho+HA0iABEiABIJBIICyxJYUqPguFRln+/4tczAQhdqaFLwWnJg8AJMbVyvbP//5T/zrX//Slpg6dSomT55seLl169ZpcccxMTGQrz3TmRkVvLzhNXwEHEACJEACJKAigUpliYsB5OkqS2xFgYo6G4F+2b1YoCIAX6HgDQBesIbeeeedeOaZZ7Tl5bOIX3+a5PaVqmqSteKmm26qNIWkJZs1axYkR7E85JMmQl4yVRhpqjuZEVvYlwRIgARIIEwI+FmWWHeBCsGo53Eb43pNcTjVtYglpYVNIRekSe644w48++yz2upTpkyB/Le/rVmzZti6dauh4f7cJqvuZIYAsDMJkAAJkEB4EtBZltizQIUEOB6NNlCgQo8IZoEKwz6ouhah4HU5UtcwhkDFrkxLwWv4zwsHkAAJkAAJhCuBvHnAjlMPu6vC4FqgIjcSuKml+Q/ZWKDCmCNS8BrjFbTermJXbnhvv/12y/diNIbX14ZUdzLLQXIBEiABEiCB0Ccgcb1bewORtYDIZCDuLODwuwAKqrXNigIVwz88HZf/Y0O1a7PDCQKqaxHe8ALIyMjQwhekycOwW2+9Vbf/umZOyMrK0m519TYKXr2k2I8ESIAESCAsCLjG9YrBO64A8mZWa3qVD9lcQxg8wxl8zVwGRB4Dhi3uiZzEbBaoqPYEKHh1IApuF8nz27RpbpPPJgAAIABJREFUU20TkZGRqFu3bpUbkptg10dsFLzBPT+uTgIkQAIk4GACOuN6DT1k84bL9eFauSj2Eus7+afJ6Nd3qoOB+28ab3j9Z2fLyC1btkDKFuttDz74IETkljcKXr3k2I8ESIAE/r+98wCXosje/gtIBsmgoCJgDqgEFTEBJvS/GFDEwIK6qGBEVzGHNaCuaRVMmCOYlRUVs6wiBtacVkRAAQMgOVy493vegrpf3bnd090zPff2zLzneXwEpru66lfV3W+fOnVKBEQgIoGQcb2pC9nWAliihWwRYWd3uARvdvx0dggCSR9kIZqgQ0RABERABESgMoHUuN4NTwXme6+xcReyLasB/G1LYE3NeKF2e68lRvb8Pd5CC6S0pGuRvIjhZWqvhQsXYvny5WjQoAGaNWtWHoZQIOMkq2YkfZBl1TidLAIiIAIiUNwEUuN6Z/0fsPylQCZ3twZebx54WKQDDnm6PYYc+VOkc4rl4KRrkUQK3pKSEjzwwAMYN24cpk6dipUrV1YaL/Xq1cOuu+6KgQMHmi1/o27WUEgDMOmDrJBYqy0iIAIiIALVTOD3a4D5lwRWIvaFbLxiKXDIs+3xa7uVWsiW0gNJ1yKJE7xffPEFDj/8cDDjQVmZjSL3H9c1atQwmRGee+45dO7cOfAGKMQDkj7ICpG52iQCIiACIlBNBBbeCfw6PPDisS5k87taGaCFbOvgJF2LJErwzpkzBzvuuKMJX+BCMqbt2meffdCpUyc0b94c9OrS27tgwQJMnz4d77zzDh588EEjjvn7559/jrZt2wbeBIV2QNIHWaHxVntEQAREQASqkQDjen/abV2uXtQAykqBsgWVKpS6kI0utEXZLGTzaXK/t7pjUK8PqxFIMi6ddC2SKMF72mmn4c4778Txxx+Pe++9F3Xq1AnsxdWrV+Okk07CY489huHDh2P06NGB5xTaAUkfZIXGW+0RAREQARGoZgJuXC8F7089gFWVRae7kG0NgGO3BspqxFt3LWSThzfyiOrYsaPx7s6dO9d4c8PaihUrsPHGG5vFbPT2FptJ8BZbj6u9IiACIiACFQj8cS3wx8WBUG7dCHivaeBhkQ444IkWGPrpScC33wLbbAPsuy/Qt2+kMgrh4KRrkUR5eOvXr29CGj78MPrUQPfu3fHll1+C4rfYLOmDrNj6Q+0VAREQARGoYgJ/PgTMGxJ40YlNgQc28jnM3XCCh4T1BJcBff4FLGoPtP0W6DAN2PPSz4AiW1eUdC2SKMG70UYbmYVqjOWtVatW4MC1B6xZs8bE7nKntHnz5oU+r1AOTPogKxTOaocIiIAIiEBCCSx/G5jVK7By0xoCozYFkLqbmrvTGktJ/bv7b64Y9tqqmAvZnh2Anv3HB9ankA5IuhZJlODt378/nn/+eVxwwQW45pprQo+DCy+8ENdff73J7vDMM8+EPq9QDkz6ICsUzmqHCIiACIhAggksexsoXQHUqLluIduf9wHLKmqCr+oDV2yW4r31E7deHl4vgeuBpN/TnTDoyB8SDCv+qiVdiyRK8E6ZMgV77bWX8fL27NkTp556Kvbee2+T6iLVZs+ejXfffRd333033nvvPePdnTx5Mnbffff4ezHhJSZ9kCUcn6onAiIgAiJQiATmDAYWP1ypZV/WB0pqrotYKAVw3SY5WMg2rT1GdimuDSqSrkUSJXg5KpmdYdiwYVi7di2YY5fGbA1ckMb/MysDF7bx/zSKY4Y/jBkzBieffHIh3rKBbUr6IAtsgA4QAREQAREQgbgJzL8N+P2swFKv2AT4qlHgYZEO6PPcxjj1g0FFtZAt6VokcYKXI4qLz6644gpMnDjRc5c1O+qYyeHggw/GZZddVrSbTpBF0gdZpKeEDhYBERABERCBOAgsfgqYMyCwpLGtgUlhtiAOGc6wzhsH7H8LsLBD8SxkS7oWSaTgtaNz+fLl+O9//4vvv//ebDbBDAzM5EBv79Zbb41ddtkFDRo0CBzMhX5A0gdZofNX+0RABERABBJIgBtUzNwdqNls3SYVNTcDylYBq/9TobJ+WxDXKFu/do2TzV5xvuuFrYmNSF0El4qjCBayJV2LJFrwJvD2SWSVkj7IEglNlRIBERABESh8Au4GFWztbyOBBTdUaLfnFsTZLGTz8QQX+kK2pGsRCd4CuN2TPsgKALGaIAIiIAIiUAgE5p0G/HlHhZa4WxA3KAUOXAg82gpY45UdNUpYQwqvbl9ugZE7/K8QKHq2IelapGAE71lnnYWlS5fivvvuK9jB5NewpA+yousQNVgEREAERCCZBHwWsqVuQXz8VsDamvE24ZDXOmPI/p/FW2iCSku6FikYwduqVSsT58vsDsVmSR9kxdYfaq8IiIAIiEBCCYTcoOKONsBbzWJuQylwyNu74Nf6c9B2xaboULcn9ux5a8wXqb7ikq5FJHirb2zEduWkD7LYGqqCREAEREAERCBbAtygYuVnwJIngDqdgaVvAKU/Vig11BbEPMMvxMGNAU5zzNlTzkbPPW7JtkWJOD/pWkSCNxHDJLtKJH2QZdc6nS0CIiACIiACOSTgsUFFpC2IvXZkS62u30K2t7pjUK8Pc9i4qis66VokUYK3Y8eOGffMrFmzzCYUCmn4OWOGOlEEREAEREAEio7AH9cCf1xcodmRtiDmmWFErwfYblPaYGSPeQWBXII3Qjdye2DurkbhmonxXAleCd5Mxo7OEQEREAERKFICfz4EzBtSqfHcgviP2sAHjYHOy4AH2mQubP3I9nuyAwYNqBhOka+9IMEboecaNWpkNpe45ZZb0K5duwhnAieeeKLJ0iDBK8EbaeDoYBEQAREQgeImEGIhG91wIzYHfqkXM6oS4NDJ3fFL/Vlot2IzbFerD7rsMyrmi1RNcRK8ETjvtddeeP/99/Hkk0+if//+Ec4ElKXhF/OR8PPPEryRBo4OFgEREAEREAEuZCtdAdSoCaz4Eph/KYAVFbik3YI4aKc1llQK1CgFyjZY9+fyMAg3HKIM+OekG7D5geflXZ9I8EboshEjRuC2227DyJEjce2110Y4U4L3l18keCMNGB0sAiIgAiIgAn4EPBay+W1BXKsMaLwG+LN2wBbEVhSv34q45hqglOek2MCJe6L/wZPzrm8keCN02WOPPYZBgwZhv/32w6RJkyKcCbRs2RILFy5USIM8vJHGjQ4WAREQAREQgUoEPBayeW5BzBNTU5Dx37wWsaVmavDJ3JCvC9kkeCPcR7/++ivGjRuHDTfcECeccEKEM2Gm8hm/2759+0jnFcLBSR9khcBYbRABERABESgiAh4L2dwtiKln1wBYyvCEVIGbxfbDLKrfyztiUN/P8w520rVIotKS5V3vJqTCSR9kCcGkaoiACIiACIhAOAI+C9ncLYinNARu3iT+zA0b/1Abt40dAXz7LbD11kDXrsDRR4erdzUelXQtIsFbjYMjrksnfZDF1U6VIwIiIAIiIAJVRoAL2VbPBJY+DWywKbDozkqXvq8l8ErLLGvkLnhbX1TbL4C204G23wIdpgF7HjUeGDAgywvl9vSkaxEJ3tz2f5WUnvRBViUQdBEREAEREAERyCWBX88DFt5Y4QqhMzfwLL+4Xvc3Zm+omdKIMuDsR/+CnoNezGXrsi476VpEgjfrLq7+ApI+yKqfkGogAiIgAiIgAlkSmHca8OcdFQrxy9xQowxosj5zA/9cvp1WqugNuZCt39OdMOjIH7JsQG5PT7oWkeDNbf9XSelJH2RVAkEXEQEREAEREIFcEph/G/D7WRWu4Ju5gUelhipkuP0wi+r2RSeM3FGCN5vurVLBO2vWrGzqCm493LhxY5PFgdsIy9YRkODVSBABERABERCBHBPwWMiWmrlhaU1gjQ1JSNlQwtQuQ+my96RNcMYBs3PcwOyKT7oWqVLBS8Eah1BlGVtttRW6d++OY445BgcddFB2vZTnZyd9kOU5XlVfBERABERABNYR4EK2lZ8BS54AarYElr8EN3PDu42BuzYGSlLjcLPlVwYc8O5OWFBnXmK3IE66FqkWwVtWVh7NkvEQcIVz586d8fDDD2PHHXfMuLx8PjHpgyyf2aruIiACIiACIuBJgFrmlwHrsjg49mxz4InWmTPj9sN1lgCrmgA1V6/fjc0j9jdpWxAnXYtUqeDdfPPNyz28c+fORUlJCaz4pYBt0qQJGjZsiGXLlmHRokUVfqtTpw422mgjcw53VFuxouIe140aNcK7776LnXfeOfNRlqdnJn2Q5SlWVVsEREAEREAE0hPwWMgWKXMDS08NfeDfbbaGMqDWamBt3crVSNoWxEnXIlUqeNlda9aswQUXXIBbbrkFtWrVMjuqHXfccejatasRu9Yoej/55BM8+uijePDBB1FaWooRI0bguuuuM+f98MMPGD9+PG666aZycbzFFlvgm2++Mb8XkyV9kBVTX6itIiACIiACRUTAYyGbX+YGLmJrGpS5wd2m2GLMky2Ik65FqlzwnnrqqRg7dizatm2Ll156CQxHCLLPPvsMhxxyCOgVHjp0KO66667yU2bOnIm99trLbC1MLzHF8aBBg4KKLKjfkz7ICgq2GiMCIiACIiAClsDip4A5FTeE8M3c4IpZL2EbkWq/lztjUN/PIp6Vu8OTrkWqVPC+/vrrOOCAA4wwnTx5MvbYY4/Q5N977z0jbHnupEmT0KdPn/JzX331VfTt29f8duSRRxrPbzFZ0gdZMfWF2ioCIiACIlBEBFZ+CszcHajZbF1swtrFmFF3GS5qDzRcuy5a4c8NHB4xZm6ovQzoP3lPLFr9C5rUaYsO9fdCl31GVRv8pGuRKhW8AwcOxJNPPolu3brhww8/jNwpu+66qwlzOOqoozBu3LgK5zM+mGnPOnbsaMIdismSPsiKqS/UVhEQAREQgSIjsHb+OsFboyaw8hvgp12wpOYqNCxdt2napA2BLxoAHzTNkovHFsSp8b/VuZAt6VqkSgVvp06d8NNPP2HIkCG47777Ivf8SSedhAceeAAdOnTA9OnTK5w/YMAAPP300yZPLxe8FZMlfZAVU1+orSIgAiIgAkVO4LeRwIIbKkDINnMDF7E1nw0saA/UWAOU0VPssVzpxOd6o+/hb1RLByRdi1Sp4G3QoAFWrVqF448/Hg899FDkDhk8eDAeeeQR1KtXD8uXL69w/rBhw3D33Xejbt26lTI4RL5Qnp2Q9EGWZzhVXREQAREQARHInEAuMjdY7y6FbhnA1GVlHoK396ubYdiBMzOvexZnJl2LVKngbdOmDf744w9svfXW+PrrryNj3XbbbfHdd9+hZcuW+O233yqcz2wPFNFcDMcFbMVkSR9kxdQXaqsIiIAIiECRE4iYuaFFCTC/DlBj/UI287+gWF+fzA37fLQdTu/+VbV0QNK1SJUK3l69euGdd94xi8sYfnD44YeH7pRnnnnGxO7yXC5ee/vttyuca8tm1odPP/00dLmFcGDSB1khMFYbREAEREAERCAUAY8tiP0yN9RcA5TSU7vec2vKz3D7YZ7a953uOHGf6GukQrUr4KCka5EqFbxMJzZ8+HCDjDl3mWP30EMPDeT8wgsvmFRjS5cuNYL3jjvuwCmnnFJ+3urVq9GqVSvzO8t79tlnA8sspAOSPsgKibXaIgIiIAIiIAKBBNwtiEtXYEaNz8szN6ytASx1wxGCvLmBF3MOKAP2f3cnLKyGLYiTrkWqVPBy0wluMPHll1+aXdQoXvfee28ce+yxYAYGwmKcL+NzGZbATA6PP/642UHN7sjG7YOnTZtWYXMJClymI2N5N954o9mgopgs6YOsmPpCbRUBERABERCBCgTK1gCzjsKSVc+XZ274th7wfT3gkY0yZ1WzZN25pbXXL2SznmK3yDKgqjI3JF2LVKngZR9wo4jevXtjxowZ5dsMB3W3FbtMPfbWW2+hffv2FU5hurOpU6eaf2OoQ+rvQeXn++9JH2T5zlf1FwEREAEREIGsCMwZDCx+uEIR2WZuaLgEGDIMGPPouq2I6y4DVjWuXMuq2oI46VqkygUvu4IL184888xKuXTTDSamHbv99ttN6IKsIoGkDzL1lwiIgAiIgAgUNYEFtwO/nVkBwd2tgdeb+1AJkXOX2RpMvC//K8W6pL8e1m1KG4zsMS/n+JOuRapF8FrqzNTAvLr0yn7++ecoKVnvnwdQu3ZtMHxh3333BTMwbL/99jnvrHy9QNIHWb5yVb1FQAREQAREIBYCS18Gfj64QlETmwIPeIQ0MFtDsxJgQdTMDT6it98b3TCoz0exNCNdIUnXItUqeF1wDFtYvHixWXjGBW1NmjQJHfKQ815M+AWSPsgSjk/VEwEREAEREIHcEvDI3DCtITBq03V5dcuzNNQAevwJTGkSX+aGFr/Ww11jLwaYzrV1a6BrV6Bv39jbm3QtkhjBGzv5Iiow6YOsiLpCTRUBERABERABbwLM3LB6JrD0aaCsBF+VvYErNlsTnHM3Ks/UHL1lQLvPgI1nAG2/BTpMA/a89DOgc+eoJac9PulaRII31u6unsKSPsiqh4quKgIiIAIiIAIJJvDHtfhy2cX4ozYwpTGw2xJgel1gUovM68y8vrVKgJL6ALM4MINDJSsDzn55MHoe/GDmF/I4M+lapNoF75IlSzBlyhSTaoyL2fj3xo0bm93UunTpgh49epi/y/wJJH2Qqe9EQAREQAREQARSCHhsQfxYc+D51pmTqrsCGHw6cM99QJ2lQO3VwDKPhXH9Ju6AQQd/kfmFJHjDs2N6squuusrk2V21apXvifXq1TN5ei+55JKiSzcWlqYEb1hSOk4EREAEREAEEkLAYwviR1oCL7b0qV/UzA1r18cBe2Rv6PbxJhjZbXasIJKuRarFw8uNIk466SSzSM3m2E1HnRtKbLjhhrj//vsjbUcca08muLCkD7IEo1PVREAEREAERKB6CCx+CpgzoMK1H24FTPAIaWDmhlplwBqKVwpfa0G7tPllbvi4NwZ1eyPWdiddi1S54H3llVfQr18/rF27tlzsNm/e3Oy0xo0lmKFh2bJlZoMK7rQ2f/788g5hqrIJEybggAMOiLWT8r2wpA+yfOer+ouACIiACIhA7ARWfgrM3B2o2QwoqwGUzsW7jYHb21W+UvdFwEcbxpS5gTG8k05CzwPvjbVJSdciVSp4uWXwlltuiblz5xrIFLjXX3+98dpusMEGlcBTFL/wwgsYOXIkpk+fbn5v164dvv/+e9SvXz/WjsrnwpI+yPKZreouAiIgAiIgAjkjsHb+OsFboyaw4A5MKXsWN7dI8bxaj67rzY1aofXhEFzI1nsscMqqm4ERI6KWkvb4pGuRKhW8Y8aMwRlnnGHy63bt2hWTJk1C06ZNA4Ez9GH//ffHRx99ZM7ljmvDhw8PPK9YDkj6ICuWflA7RUAEREAERCAbAjMWno6LmoxBw7VAg1LgwIXAd3WAKV47sqWmH/O5cK01QMufgF+3AEZ1A7b4BMC//w0cckg2Va10btK1SJUK3r59++LVV1813txvvvkGnTp1Cg2bHt5tttkGpaWlJqTh5ZdfDn1uoR+Y9EFW6PzVPhEQAREQARGIhcC807Bk8R1oWLpup2Bq2uO3Alb7bBsc5pp1VwHDBwKTBwNHXAtsyU3XPvkE6NIlzOmhj0m6FqlSwbvppptizpw52GefffDmm2+GhmgP7NOnD9566y0T1jB7dryrCyNXJkEnJH2QJQiVqiICIiACIiACySXgkbnhqk2AzxuFqLJX6AP/zS5cqwHUWAuccjLQp/ejwHHHhSg0/CFJ1yJVKngZd7t69WqToeGee+4JT3H9kSeffDLuvfde1K1bFytWrIh8fqGekPRBVqjc1S4REAEREAERiJVAhMwN5rpBYQ1eIrgUuGv0eWhx5g2xVj3pWqRKBS+zMSxatAhHH320yb8b1ZiPd9y4cSbud8GCBVFPL9jjkz7ICha8GiYCIiACIiACcRKokLmBW6XN983cwDRlTdcA87mbWsSFbWdPPh0997o9zpoj6VqkSgXvDjvsgK+//jqjkATm623fvj1++eUXbLvttvjyyy9j7ah8Lizpgyyf2aruIiACIiACIlClBNzMDatnY8rKi3Dzho9WrgI3lmBsL7M3uLl5eaT7bx7ZHS76+FDs0u35WJuVdC1SpYKXGRqYqYGZFm655RaceeaZoWHfcccdOP300825w4YNw+jRo0OfW+gHJn2QFTp/tU8EREAEREAEckVgxoLTcVHTMWiwFlhcG2hcAiyxmVyDNp7wqdTl0/fHDp0mxVrlpGuRKhW8U6dORY8ePYxorVWrFm699dZQ6cXGjh1rxG5JSYk59/3338duu+0Wa0flc2FJH2T5zFZ1FwEREAEREIFqJTB3OJYsuRMragIvtgDarAIebrPei5thxUZ9vQO22O6LDM/2Pi3pWqRKBS8RDRw4EE8++aQRrrTOnTvjhBNOQM+ePU3Igt1pbdasWUbYPvTQQ5g2bZrZlY3nDBgwAE888USsnZTvhSV9kOU7X9VfBERABERABKqNwILbgd/+/4w4Ixmu2QT4IkzmBq9KlwF3vLsnWu0zOdYmJV2LVLng5W5rvXr1Kt9EIgxtil0atx9mOrMGDRqEOa1ojkn6ICuajlBDRUAEREAERCBuAktfBn4+uEKpj7YEXmjpcyGbucGN63VCH2qVAnc+1Q/Njn4h1pomXYtUueAlXaYUO/fcc01qMm4kEWQ1a9bEKaecghtvvFFbCnvASvogC+pf/S4CIiACIiACIuBDYPnbwKxeFX6c2BR4YKPKx9csA5qVAPPrAPwzNW+Zx6K1i0f/H3Y+fUKsyJOuRapF8FrCP/74IxifS6/tp59+amJ0rdWuXRs777wzevfujaFDh6Jjx46xdkwhFZb0QVZIrNUWERABERABEahyAsveBlbPBJY+DTQ6EtNKn8KoFi9VroabnqwsJYGDk7nh0ueGo/MRY2JtRtK1SLUK3lTSzNG7dOlSNGrUCE2aNIm1Iwq5sKQPskJmr7aJgAiIgAiIQFUTmDJ/X9zc4p2Kl/XbaY1HpXh5L546BDvv9kCs1U66FkmU4I2VfBEVlvRBVkRdoaaKgAiIgAiIQM4JzPi9Py5q8SwarwGarQV+qQOssjl5Q1z9whlHoEuHZ0IcGf6QpGsRCd7wfZnYI5M+yBILThUTAREQAREQgXwksOB2LPnjTDQsXbf3xM+1gW/qA/e0DdeYc5ZfgB4NRoU7OORRSdciErwhOzLJhyV9kCWZneomAiIgAiIgAnlHwCNzw6tNgHs39mmJk7mhRhlwfcnj6FD3mFibnXQtErvgZf7cqrDNNtusKi6TF9dI+iDLC4iqpAiIgAiIgAjkCwGPzA0PtwImtPBoQBlQuwwoqQl0XAEMnwu03/gjoH63WFubdC0Su+BlCjG7qUSsJJ3CWP6aNWtyVXzelZv0QZZ3QFVhERABERABEUg6gZTMDe+uvQ+3t/TYTKIMOPMX4LZNgAtnA12WAWg9Bmg+PNYWJl2L5Ezw2s0iYqW5vjAK3rVrudeIjASSPsjUSyIgAiIgAiIgArklMGVOM9zc9s9KF6lbAqzaYH2mhjJgixXAqJLHgSYKaciqRzbffPOce3hZwRkzZmRVz0I6WYK3kHpTbREBERABERCB6ARmzB+Ci5o9hIZrgbU1gKW1nDLctGRlwCUrrsJODS6JfpE0ZyRdi8Tu4Y2VXhUVxu2O33nnHXzyySeYNm2a+b+NRb788stxxRVXxFKTefPmYcyYMZg4caIR7NxxrnXr1th2222x7777mt3nuOFGVEv6IIvaHh0vAiIgAiIgAiIQkcBv52HJnzeWZ25YUAv4T2PgEY8d2YauGIoD6t8T8QLpD0+6FpHgBfD222+jV6+K2/bZbo1L8I4fPx4nn3wyFi9ebIquU6eO2SaZm21YW7hwIZo2bRp5ACZ9kEVukE4QAREQAREQARGIRmDR48Dc4yqc805jYHS7ysUcs/o0HFFndLTyA45OuhaR4F0veI844gh06dKl/L8RI0aAHtk4BO9TTz2FgQMHorS0FEcffTQuuOACs20yjTvLcVvlZ599FldddRUaNmwYeQAmfZBFbpBOEAEREAEREAERiEZg8VPAnAEVznmwJfBSy8rFHIDhGAptLRwNcAEczQVwtWq5wS4AY5FnzpyZteCdO3cutt9+e9B7SxF98803x05Mgjd2pCpQBERABERABPKLwMpPgZm7AzWbATUbA02GYeKav+OBjUorteOElcNxcD0J3vzq4BzVNi7Be+GFF+K6664zmRSmT59uQhniNgneuImqPBEQAREQARHIQwJr568TvDVqAmuXYNqcDTFq08rtuHDJaejSWCENedjD8Vc5LsHbrl07zJkzx4QxjBoV7zZ+ttUSvPH3v0oUAREQAREQgXwnMOXPfri56YSKzSgDrlh0ErZvem+szUu6FlEMr093xyF4mYmhY8eO5govv/wy2rRpY7y9zAjBEAdmaOjZsyfOOuss9OjRI+OBl/RBlnHDdKIIiIAIiIAIiEDGBGb8cTQuav4kGq8Bmq0FDloItC4Btq87HNhIIQ0Zgy2kE+MQvK+++ioOOuggg+XKK6/E1VdfjZKSEtSrVw9169Ytz9DAjTSuueYaMPwhnTH+1ysGmHHCXBBHb/LPP/9cSN2gtoiACIiACIiACGRKYP5tWDL/rPJUZeXFtPoX0OLMTEv1PC/pzjd5eHPo4R03bhyOOWbdTibccrlt27a49957sf/++5u/f/vttzj99NPxxhtvmGOee+45HHbYYb4DkPmAKZz9TII31ntXhYmACIiACIhAfhPwyNxgGtT2KWDDI2NtmwRvrDirrrA4PLyPP/44jjvu/+fEmzJlCnbfffcKjVi2bBm22morE+e70047mRRlfiYPb9VPrXMzAAAgAElEQVT1v64kAiIgAiIgAnlPwM3cgBpA2VqgbBHQ/gOg3rr0qHGZBG9cJKu4nDgE74QJE9CvXz9T8z333BOTJ0/2bAXDGS65ZN0Wf8z9y1jfKJb0QRalLTpWBERABERABEQgRgJu5oayUqD0T6BW8xgvsK6opGsRhTT4dHkcgpfbFHft2tVcYejQobjnHu9t/LjpRP/+/c1xU6dOxa677hppICZ9kEVqjA4WAREQAREQARHIOwJJ1yISvDkUvCtXrkSjRo3AjS24rfDdd9/tebVnnnkGRx65Lpbmww8/RPfu3SMN9KQPskiN0cEiIAIiIAIiIAJ5RyDpWkSCN4eCl0X37t0bb731VtqQBmZvuPTSS8FsDb/++itatWoVaaAnfZBFaowOFgEREAEREAERyDsCSdciErw5FryPPPII/vrXv5qrvP/++5Xy7S5fvhxbbrmlWbTGBW1c2BbVkj7IorZHx4uACIiACIiACOQXgaRrEQne9eOJG0Ew9MBaly5dMHv2bJx33nk4//zzy/+dOXQZpmDNTRXGjSYY++sa8+NyUwmGKmy66aYYO3asZ1oypil77bXXjEc4qiV9kEVtj44XAREQAREQARHILwJJ1yISvOvHk12kFjS8Bg8ejAcffDC04OWBzLzQp08ffP311+a8+vXro06dOuUbT9SuXRtjxowxC9sysaQPskzapHNEQAREQAREQATyh0DStYgEbxUIXl5i1apVGD16NMaPH4/vv/8eK1asMBtR0KM7YsQI7LDDDhmP6qQPsowbphNFQAREQAREQATygkDStYgEb14Mo/SVTPogKwDEaoIIiIAIiIAIiEAaAknXIhK8BTB8kz7ICgCxmiACIiACIiACIiDBqzFQnQQkeKuTvq4tAiIgAiIgAiKQdC0iD28BjNGkD7ICQKwmiIAIiIAIiIAIyMOrMVCdBCR4q5O+ri0CIiACIiACIpB0LSIPbwGM0aQPsgJArCaIgAiIgAiIgAjIw6sxUJ0EmNO3pKQE3Lxi4403rs6q6NoiIAIiIAIiIAJFSGDu3LngZlvcW2D16tWJIyAPb+K6JHqFatWqZQaZTAREQAREQAREQASqkwCdb+7OtdVZF/faErxJ6Yks6tGwYUOsXLkSFL6tW7fOoiT/U+2Xm7zIOcGbyELV54nslpxXSv2ec8SJvID6PZHdktNKxd3nv/32mxG69erVw7Jly3Ja90wKl+DNhFoRnqM44eLrdPV58fU5W6x+V7///PPPxQmhyFpdbPe6BG+RDfBMm1tsN0amnArpPPV5IfVm+Lao38OzKqQj1e+F1Jvh2lJsfS7BG25cFP1RxXZjFH2Hy9NXtENA93pxdr36vfj6vdj6XIK3+MZ4Ri0uthsjI0gFdpL6vMA6NGRz1O8hQRXYYer3AuvQEM0ptj6X4A0xKHSI4vqKcQwU28OwGPvYq83q9+IcCer34uv3YutzCd7iG+MZtfjmm2/G4sWLseGGG+Kcc87JqAydlF8E1Of51V9x1Vb9HhfJ/CpH/Z5f/RVHbYutzyV44xg1KkMEREAEREAEREAERCCxBCR4E9s1qpgIiIAIiIAIiIAIiEAcBCR446CoMkRABERABERABERABBJLQII3sV2jiomACIiACIiACIiACMRBQII3DooqQwREQAREQAREQAREILEEJHgT2zWZVWzJkiW46aab8Mwzz2DGjBmoVasWttpqKwwcOBBnnHEG6tSpk1nBAH799VfccMMN+Pe//41Zs2ahfv362H777TF48GCcdNJJqFGjRtqyp0+fbs6fNGkSuIc3Mz7ssssuOPnkk9G/f/+M61WoJ86fPx8vvvgi3njjDUybNg0zZ87EmjVr0KpVK3Tr1s1wP/zwwz2bf8UVV+DKK68MRPO///0PW2yxReBxfgdk26dsF1cKv/322/j999/RvHlz7L777mas9u7dO+N65fOJDz74IE444YTAJrz22mvYb7/9PI/L9l4Nurj6PYhQtN+Dnp1uafvuuy/eeuutChfQ/R6Nd1UdvXz5crzzzjv45JNPzDOc/+e7k3b55ZeD/RZk2d7L2d6rQfXL9hnOsXzbbbfhgw8+wIIFC8z7jWOc2aC6dOkSdPlIv0vwRsKV7IMpiDhQfvrpJ1PRBg0aYO3atVi1apX5O8UlxVOzZs0iN4Q36oEHHgiKMFqjRo2wcuVKI8BoBxxwgBFndevW9Sx74sSJOOqoo8AHAI1id+nSpSgtLTV/5wv+vvvuCxTNkSuexyfUrl27nC+bUa9ePfMBs2zZsvJW9e3bF08//bTpa9fsC5BlUET6GR8ym2++eUaUsu3Te++9F8OGDStvY5MmTUzqu7KyskgvhIwqn+CTrOCtWbOmefj72VNPPYW99tqr0s/Z3qtBaNTvQYSi/77RRhulPamkpMSIAdp5551nHAe636Nzruoz+CHfq1cvz8uGEbzZ3svZ3qtBvLJ9hrsfavzooy5YtGiRuewGG2yAO++8E3/729+CqhH6dwne0KiSfSCFLQXtF198gY033hgPP/yw8f5QUPLFOHToUND7S4HEmyCKcQBus802mDdvnvn/I488YjyMq1evxtixYzFixAjwgUzxcscdd1Qqmp7mHXfc0Qi1nj174v777zdeZwref/7zn/jHP/5hzrn++utx/vnnR6laQR/LB8Cuu+6KIUOGmI+Njh07mvbyg+bqq682Hwi0448/3vSJ1wtwn332Md7TuC3bPp0yZYoRaxy3hx12GG6//XYwCTo/qC6++GLcfffdpsrjx4/HgAED4q5+osuzgrd9+/blH69hK5ztvRp0HfV7EKHc/M5Zu7///e+m8G+//RZbb7217vfcoI61VD57jzjiCOOptP/xfcl3aZDgzfZezvZeDQKR7TP8ySefxNFHH20uc8opp+Caa65BixYt8PPPP5sZvueff944eCZPnowePXoEVSfU7xK8oTAl/yCKH/sl9P7771caIE888QSOPfZY05DXX38dffr0Cd2oSy+91AgshjB89dVX6NChQ4VzR40ahYsuusgMzq+//tqIWdcGDRqERx99FPRifPPNN2jatGmF3znY77nnHvN1RzGXiQc6dGPy6EBO9fh5B9iMU089tVwYcpps0003LW+d/XLOleDNtk8pdv/zn/+YDyF6MeiJdu2ggw7Cq6++Coo+TslxbBWLZSN4s71Xgxir34MI5eb37bbbzjw799xzTyMAUk33e264Z1sqP+hTn12cUeNsbJDgzfZezvZeDWp7Ns9wcunUqZPhQGfOK6+8UuFydKbRqUYHnt+YD6qf1+8SvJlQS+A5e++9t3kQUiC9+eablWrIaWIOMH71/fWvf8VDDz0UuhUUHRRUDDugdzbV6KmlV5n/v+yyyyrEjtKry2nZFStWmH/n76lGkWtFNMsPE78YuvIFfOBHH31kPMC0Z599tkI8by5fgNn26Y8//mjGIo3jkOMx1Rj3xvAcGsdzOuFfaF2cjeDN5l4N4qh+DyKUm9/pwODMGI1jg7H7VSl41e/x9mtYwZvNvZxtnwW1ONtnOJ/p1unGZz31S6rx3cDZTRqdHnaGM6hu6X6X4M2GXkLOZVxs48aNTfgCY7sY4+Vlw4cPNzEx9LRy0VgY++6770wYA41TEIzD9bKDDz4YL7/8sllwxKkOa/TS0VtH+/DDD9G9e3fP860Hg4vr6I2WBRPg12/nzp3NgQxbOfLII8tPyqXgzbZPGa5A7zSNCzJat25dqbH0ANDTzzCcCy64AJxFKBbLVPBme68G8VW/BxHKze9cEExHAGfA+NxOjdfnVXW/54Z9LkoNI3izvZezvVeD2p3tM/zCCy/EddddZ3TLwoULPWfwfvvtN7Rp08ZU5a677jJhD9maBG+2BBNwPqeE6f6nMT6Xcbpexvja0047zfzEWMl0i5ns+cz2YIUUwxW23XZbz7IZe8t4XDfonAe6sWf86vR6WPM4xmlStHGK+/PPP08A1eRXgXGvZ555pqloalyffQG2bNnSPDRsWEC7du3M1zQ/fhjznYll26eMzxo9erQRuhS8fkbvNb3Yf/nLX8yCyGIxK3h5r/Bjky8/fgBwFmWPPfYwoUvW++0yyfZeDeKrfg8iFP/v7uwZPxLpsPAy3e/xs89ViWEEb7b3crb3alDbs32G85nObE98xk+dOtX3cnxHMHsPr8dMDtmaBG+2BBNw/oQJE9CvXz9Tk88++6zc65datRdeeMEsEKLRO7jDDjsE1t4VVQyip6D1sn/96184++yzzU/0yjGLA+3cc881aaforbOrjL3OZyD/rbfeaoLW//jjj8B6FfsBf/75J+gVp8eHsVTvvvtuBSTu6leu9mfcNDMg2KwaXBDHuGvGZke1bPuUKegYgkHBzZQ2fsaUa1y40LVrV3z88cdRq5m3x6emJeO9w49FxrVZY9gP4965ktlatvdqEDD1exCh+H/nKnguOKbxHuC94GW63+Nnn6sSwwjebO/lbO/VoLZn+wznOOazn894vgv8jO+ITz/91KQtZTaibE2CN1uCCTj/8ccfx3HHHWdqki6vKvN2Mn0YzWthm1dTrr32WrNqnsZMDO4L1j2e2RqYT5c2Z84c442i8d/4Gz2LXH3pZ7wGr8U8wTaNWgLQJrIKDF059NBDzRcy08DxC3mnnXaqUNfHHnvM9AOPY3w0F4VRMHHVMIUuZwVoN954o/koiWLZ9inHIMci4xK5cM3POKY5trkIkl7OYjHmqeb9ydXdXI3PPqaHl/3MhS5cdEo7/fTTTXYLa9neq0F81e9BhOL/nSFi9v7mi9/PdL/Hzz5XJYYRvNney9neq0Ftz/YZzmc6tQqf8VzQ7md8R/BZyOsxTCNbk+DNlmACzpfgTUAnVGEV7HQSL8nsHCeeeGKkqzN/MsMaGC5ATzw/RJgDN6xl+zDN9mEZtp6FeBw/diiEOVtDzz1DWbbcckvT1GxfkkG81O9BhOL9nRlx7CwcP2z4gZOJ6X7PhFruzpHghXFiSPDmbowVdMkKaSjo7q3QOObiZHwW7ZZbbikPI4lKgF7C/fff35zGeDGKqLCW7XRZttNhYetZqMf98MMP5SKXY4E7EtGynQYN4qV+DyIU7+82zIsbznC2Jpt0jbrf4+2bbEoLI3izvZezvVeD2pftM1whDUGE9bsvAS1aK47BYRcGsrVcIGgT0WfSesaE2jjrqGVluyAi2wUPmbS30M5hqj/GunMRKhcA2g+XbBaYBjFSvwcRiu93hh8xDIx9HDTtG+aqut/DUKqaY8IIXi1aW9cXWrRWNWMyr66itGR51V0ZVZap5hhvS0uXei5s4dm8ALNNeeOmtGHqGa/tc4s5LVmYPvQSvNmmMgq6rvo9iFB8vzNjjd1hkBvQeGXliHI13e9RaOX22DCCN9t7Odt7NYhAts9wpSULIqzf0xKwG0/07t0bb7zxRqVjufHEFltsASaMznTjCcaK2u1s3QvwYcrcvkEbT3ALYe4ek2rcbYUPAZo2nqjczW4YQxxil1fgGOHW0zSufuUUVVhzk5pn0qdu0nJugc0dgVKNWSe4Sxyt2DaeCOoHppjjvUxLXXRok9Vncq8GXVf9HkQovt+5+xQXL7Kfv//+ezCrSjam+z0bevGeG0bw8orZ3MvZ3qtBLc72Ge5uPMFnPTMNpRrfDXaTFW08EdQjRfa73VqYD0Zu/LDbbrtVIODuW53p1sLMC8qFFFac2gtQhI0cOTJwa2FmbuD2mKkLpOyGGExCTfGbTaxaoXW7K3bDZlTgx026FySzYFBMcvV3w4YNzaK11O2egzjabSsz7VO7LSWzS3DxXOrWwnYjk2LbWjio7/g7P06ee+45s2iNubGZycGa3Y4003tV/R5EIPe/c1dLZlbhAkUuRKQ3LJ0FjRnd77nvsyhXCCt4s72Xs31GB7Upm2e4u7Uwn/UvvfRShcsxIxT3FmBOfm0tHNQTRfg786t26dLF5Ndl7Be35ePWfXxoMh6IyeqZh5WbUnBzCtfcHI7cejhV0DL/LhPgz5s3z+R+5ZcXg84ZZ0ahzfy7/POwYcPAzS1SjWVyQwl+dfIm4TlcWc6/My6Q1+dD+/rrrwfjVGXrCPAjgh8TNOYy5iKWMMatGq+66iqzLSOnQjfZZBNzGh8i/JrmC5Qik+bHnOfa7afZN3H3KT/KOBb44OOCOSYV57hlruZLLrmkPMH++PHjy6d2w7Q934/hNtucyubuWlxUSOHDjxfex9ypkPeKTc/jdb9le6+q36t/BNnnMVNAUvzaFI9+NdP9Xv19lq4G3EmMzzlrfE/Pnj3b7Ijqvu+4ONGuq+Cx2d7L2b53+e7g2KLTgc+lVMv2Ge464fgsY054bob1yy+/mA2VmJ+3Vq1amDx5Mnr06BFLJystWSwYk1EIB2WvXr3KBye9PHxRMi0NjUmcObWV6kENErw8lwvjOM3GHdpo9MayXIooGlNNcTcs5gz1MopsbkvMeGMavbwMgbAPAr5oGc6Q7dRdMnoi+1rwRccHDY2ePK84V/cq9ATbRWzMtctxYK1+/frGk8sHqO0vlskte6+55hrPygYJH56UbZ8yqT4fdHYzDHqZWUcrsJlzlmOzmIz3MEWuNd5PvNe4mYubn9pr4wl7Tjb3qvq9ekcbn9cdO3Y0M13cTIjp54JM93sQoer93Xp0g2rB6XtuOuNaNvdyts/oIMHL8rN9hrvag+9+6gJuqkTjBx93FqSzLi6T4I2LZELK4YuRU9/8OuIXHoUNc94dc8wxZns+buyQamEEL8/hNrD0CHLDA36h8ouUeSJ5ozJmkNdKZ4zD4fncdIBpdvgi59cu98iOEkOaENQ5rUaq8Am6mCsO+VHCBye/wOnx50pvevf5AUQxRc8qc6rS6+5nYYQPz822T7nbDr389CRwC0l+jPFrnmOV8ejFZitWrDAzIOw7bjRAJvQQ8V6jp55bC/NeY0L2dJbpvap+r94Rx7hdOhZodCBwC9Yg0/0eRKh6f89G8FbnezeM4GX9sn2GM56Xadj4zOOzjs4dhtwx3aLfzoKZ9qgEb6bkdJ4IiIAIiIAIiIAIiEBeEJDgzYtuUiVFQAREQAREQAREQAQyJSDBmyk5nScCIiACIiACIiACIpAXBCR486KbVEkREAEREAEREAEREIFMCUjwZkpO54mACIiACIiACIiACOQFAQnevOgmVVIEREAEREAEREAERCBTAhK8mZLTeSIgAiIgAiIgAiIgAnlBQII3L7pJlRQBERABERABERABEciUgARvpuR0ngiIgAiIgAiIgAiIQF4QkODNi25SJUVABERABERABERABDIlIMGbKTmdJwIiIAIiIAIiIAIikBcEJHjzoptUSREQAREQAREQAREQgUwJSPBmSk7niYAIiIAIiEAOCJxxxhkYO3ZshZI32WQT/PDDDzm4moqsTgLz5s3D66+/jo8//tj899///hfLly9H+/bt8dNPP/lW7d5778Xpp59e6feZM2eiTZs21dmkxF5bgjexXaOKiYAIiIAIFCOBU089FXfffTcuvvhiXHLJJQZBjRo1ULdu3WLEUdBtvvXWWzFixIhKbQwSvGvXrkVJSYk5j39u1KiR+fPcuXOx0UYbFTSzTBsnwZspOZ0nAiIgAiIgAjkgYAXv5ZdfjiuuuCIHV1CRSSFw//334/HHH0e3bt3QtWtXzJkzB2effXagh9et/5o1a1C7dm0J3oBOleBNyqhXPURABERABEQAgARv8Q6Dp59+GkcddZQEbw6GgARvDqAWe5Gbb745GEdEmzFjBvh3mQiIQOET4LS7tbKyssJvsNNCetk4rbxq1SrUqVMHS5cuLfe6RQURVfDGee2oddXx8RKQ4I2Xp1uaBG/u2BZtyRK88Xd9z5498f7775uCzzvvPNxwww2BF7nmmmvK4/948E033YRzzjkn8Lxhw4bhrrvuMsfts88+ePvttwPP0QEiQALFLHi/+OILdO7c2QyEXXbZBdOmTct4UEQVvO61d955Z7PwKU7bd9998c4771Qo8oUXXkC/fv1CX+bvf/+7eQa5ppCNyvgkeEMPqcgHSvBGRqYTgghI8AYRiv77hRdeiOuuu86cuNtuu+GDDz4ILOTAAw/EpEmTyo879NBD8fzzzweet/322+Prr782x1122WW48sorA8/RASJQ7IL34YcfxuDBg81AOPHEE3HfffdlPCiiCl732kOGDMEDDzyQ8bW9TvQSvEcccQSeeeaZUNfhoqpNN93ULKiS4E2PTII31JDK6CAJ3oyw6aR0BCR44x8fL7/8Mg4++GBT8AYbbIA///wTDRs29L0QXzDNmjXDkiVLyo9p0aIFfv/99wpeuNQC5s+fj1atWsFORzNdTp8+feJvkEosSALF7OHl7Mktt9xi+vX222/3TBkVttOjCl732lz1f9ZZZ4W9VKjjvAQvwzaYUovPmSB75ZVX0Ldv30qHycNbmZwEb9Boyvx3Cd7M2elMHwISvPEPDQpXvlgoZGmvvfYa9ttvP98LffTRR9h1113N7/SszJ492/yZU5877LCD73n0AB9++OHmd676pbBu0KBB/A1SiQVJoJgFb69evcrDf/7zn/+AYUiZWlTB616bIUgMRYrTXMG73Xbblc8A3XHHHWAIVJAde+yxeOKJJ8xh7vkSvBK8QWMnzt8leOOkqbIMAQne3AwEpq355JNPTOGXXnop/vGPf/heiLFyjJmj/etf/yr3+IwZMwbDhw/3Pc/1FPXo0aM8bjg3LVKphUagmAUvP0j5gUgGixcvLs+LmkkfRxW89tq8FuvQpEmTTC7re44reK+66irz7GEO2N133x1TpkxJey2yYF7YFStWgPHFW2+9NcaPH2/OyVfBy1RxmYZ60fnATUT8TB7eWIduhcIkeHPHtmhLluDNTde7YjRoMRnjdV988UUT9vDbb7+ZMAXu3nP00Udj3LhxvhV0RfUFF1yAUaNG5aYxKrUgCRSr4OWOWB06dDB9uuWWW+L777/Pqn+jCF732qzDjz/+mNW1vU52Be+dd94Jhljx+UJjW9lmP2Ms89/+9jfzM0M+uP4g3wUv11PYNRVRYXN9RNu2bSV4o4KL4XgJ3hggqoiKBKIKXj4AH330Ubz11lsm6TY9AS1btjRT7//3f/+HE044IW28qnt1eh34gKWo44OFoQAbb7wxunfvbh66+++/vzk8ah2T0MduuEG9evWwaNEik/4o1Rh/S34LFiww8beMw7VTnnzQ/vLLL57NSQ2bmDhxomfcHU9m2jn+/u6775owCXotKKg33HBDtGvXzkzncgEPPUB+xhXtPJfGxOvHHHNMKMxcEGQX5fAjIHXlt1sIY5IffPBBMIbw22+/NTHMZEcOZMKxRZGfzrxE3HfffQe++F999VXT9po1axrBwzjrc8891/D3M1egBO2mZMsIO1696spZAWbd4Cp79n2tWrWw0047YejQoRg0aFClmO433ngDnKr+9NNPzfFNmzYFvf1kvddee0Vmxetz1zB7fYbKdOrUyYTOcGvUKN7IOPqTDfDi9Nlnn4GbALD9fA4tXLgQYRd6Pvfcc+AiLtqAAQPKBZ0XrMmTJ5tjGP9K4zOOzz+XQxTB616bTJ999llTLu/7Rx55xAhMjlHG/vOZetJJJ5lFdS6DoBsvVfDyA/rII480p3EnOHp9/Ywf53xO8PocT2eeeWYowes3luMaS/Q8P/TQQ2ZhL59Df/zxh/Fac63Dtttui7333tu0kYt4q9Lk4c0dbQne3LEt2pLDvpyXLVtmHr72a98PGAUrRazXogf3HIowpsn5/PPPfdnzJc9pfXok8i1XcOqCMr4499xzz0ptdVMUceqN04bMtmBfSv/73/+wxRZbVDqP4u2ggw4y/05RRMFMAZtqTItGkRkmzypFLPd894oDvv7660EvMu2QQw7Bv//978B7ZuXKlWafeL6saEz9xBRQXsZ+5tas/DDwM75UKXopXr0+Hnhe6ouX4pE7ITHfqpfxhUmB7Sekq1LwXnvttabvbex3an3/+te/mg8CtpH3I/trwoQJnu3iMex3r21Q7QmprDj1zanf0tJSzzJ5b/PjlOIiyOLqT68+5X1y9dVXV+IUVvDyHrMhRpwVseM6tU30cJ5//vlg3lyyYt/w3FTxGUXwutcm6+OOO858zNCB4GfHH3+8EcNhLVXwUjCz7/iM4POeXmUvAc2x3rFjR/OssPf4wIEDMxK8cY4l3sMXXXSR+agJMnqz7XMx6Ng4fpfgjYOidxkSvLljW7QlhxG89AbSw/bhhx+Wc6LXjR4kJm//4YcfwIUf9kVN7wAXPVivQipceu7oTXSn8xgrRs8uz6UItPGv9FQxnU6+CV62eccdd8SXX35pms88u3xopxqFAT1nNHqrevfubbwYTFNG48cDX1ipRnFIgUSjWOPCNy+zLyy+4MiY/1Hk0XNHUc4coNOnTy8/lV5PitnUF+LPP/9sdhOiGGIfMWVROs8oC3zqqaeMd4zGxS9fffWVZx0pyrha3Rrrx/HBMUbRzDpajjyGL7SXXnrJeGpTza03PcsUyDS2m5zq169vvMfvvfde+UcAYxa/+eYb4x1NtaoSvPTS2nhtblnKsUPhwQ8l9z7hOKJAYz/xo4fCnx9SFCr8sOAYYr9a8/vQ4u8uKzd2nB5dptOrW7eu6TP3vmfYzZtvvlm+yNKrQ+Psz9R6Mqc1RSiN9eRiT36gsZ8YG8sxF2T80LYfCvzYsfeaPY+bUPCes2XRm0vB+Ze//MWz6CiC1702xTY/Suit5Njj85QfiPRYUwBz9swaPcF2gWpQ+1IFL+vn5uv2WyhHkUpBTqNjg/duJoI3zrFEDzOzaFjjxz3fE3SCcPaH7xLObrD/afSgH3bYYUGIYvtdgjc2lJWf5WVh3DS5u75KLkACYQQvX8T0qtH4wPnnP/9pFla5goOeSFBvC5EAABbtSURBVHqcrFClt5EPIhsr56JzVwHzZcWpqlRxTAHNGFYKK4qz1atXmyLyaTe40047zUw30/hS5cs11djGJ598skKWBTdcgaEG9OqlGl+OZERLFyrAvuKUJqdi/QQqRRFf8PxwofHlTq9Sqrmry0ePHg22L53Z2GQeQ3HO/MSpxmlpzhzQ+PHE+rIuqR5cCgBO6dsQD3qcrfBxy3RFHAUbxyHznqZ6fThtSwFjvc/0ttGDl2pVJXjZXvYTx8Iee+xRXg1+RFLg3njjjebfKIzosaaXk8KG985mm21Wfjw95BRG1mPIY/y8hy4rXp/389ixYyv1/dSpU829aD86+fHAe5uCI9f9yfLdevJji6Kb90SqsKEXn30eZMyEwg842q+//orWrVuXn8KPIYY78AOIxg81iqitttrKt9gogte9NvnxlU5v9RlnnFGh7gxr4MevvSe5fS3HRhjzErxcrGbHlV/eYYpIXo9jjM9d1i8TwRvXWKJn180qQQHODwSvRWT8IObYpWf6gAMOCIMplmMkeGPB6FmIPLy5Y1u0JQcJXnr/+LC305y33XabeTh7GaecunTpUv61Te8aBY1r9Bi5qbbovbXxdKllMk6PXjlOKVrLJ8FLLwlfGLTGjRubKTl+MLhGLyZfLqkbVNDLxxAAr4Ut9HrypWSn6aPuouTVdxR2jIVj2fSaUeSkmrugJSgrBKdPOY3KDxUKFvYbPcSuUdhTrHGlOrnQc5huupwihOOLdaQXeNasWZXCL1IFL72Tdket1Pa43vVtttmmXOS4x1WV4KXnmR+L7INU473He8aKMP7OWMWPP/7YU3RSLNHja6fi+ZHAvki1VC8+wxUobL2Mi50YjsLZHppXBpFc9Cev5daTf6aHMkxYhVc76P22H36pMfL06FIM0sNL69+/vxHW/BBLZ2EFr3ttlkdBSS+9X1vcGRLGcfMjI4x5CV6exw8V9iM/AhmTzDFnjTtD2tRsJ598sonjpmUieHletmOJz0o+L2xucjK2TpcwDHJ1DO8tNyyLzzfWkR+Lbo5jOn9cz7RbH96XdOLQ+OznDJOsMgEJXo2K2AkECV56l+hNo1E48KGbbgEFvRD2pUlvCz0o7gIPd8tKPuhTt8BMbSAfvvxyt5ZPgpcvFVdoMOzAjRWlV9x6jsiF3k1r9OJxapCWmhqH3kmbu5N9wRdpmITyQYOH0+SMgWOZFKGpMcH0HvLhTMFJ48cQhZWXud4Zv35m+9hOGr28jB8OMisueJzXx5I7Nvlhxg80P+OLqnnz5uXC0KvNVSV4GQZw8803+9bVjf3kQVx17zfFzt/t4iP+mdP39PCnmssqzL3IBU8MqaB5bYmbi/7ktdx6Bi0yCxo/XBxmF8PaOFUKkJEjR5bzp3ih19VrRsKr/LCC1702y6Go5PPNz/iBQw8zjR84blhPunb6CV62iSkSaakLT937ys1LnIngjWMsuWsGKHy58DSM9z6o/7P93X0epCvLb2aO50jwhusFCd5wnHRUBAJBgpfePhsfykUcVqD4XYIrZymK6OGjpS4icFNpURSdcsopaWtLQcwHuLV8ErysMwUthS2NgsZdRORO56d6ae1UmdfLyX1x8SOEnvAwRo8oPZ708lDcMUbQjZJi/CendGkU1V6r/Dm1yrrRuLCOIsjL3JCLe+65xyzMSTV3O+WgzTnsue4HlZdIdMWRXxvcetCzy5cpzWujj6oSvEGbH7jePnrmGIrB6X0/c8Np/GZlXFb82LChJX5luh9oXh9auehP1sWtZ5RYVq928KPShsIwDp7x8xTRDOuh8QOI6w+iTIuHFbzutSlkKWDTOQ9cr2tQakO3rX6ClyEpnDHiPc8QHz6baZwp4jObzwTGRdswCv6WieCNYyy54VN83rGvCsUkeMP1pARvOE46KgKBdIKXD0Z+VVPE0iiWuGAgyJihwcaruou1ODXLaTxbXrpV+/YanF6kp9EKs3wTvEyvxlAAGmMOGQ9obciQISYGky89Llzhy9YaPeN2qit1Oo8vYwpEGl/YflNntizG79FTz5d62GUAfsKCwtzGTvqFAbgvVo4ferq9FoSxX+2UJeNzvbJMpI41xl6yDjTGfacuUnIFBKdFva7rlslpXAoLmpforCrBG1RX1zsYZnrb9cb6CQaXFcVXmJRODAewi+IYgkJhYi0X/cmy3XpybLkxy0HPotTfmRWB3k0a1yEw7MimHCNX3p9e6w7SXSes4HWvzZhspsRLZ1x0aReseoWH+Z3rJ3h5vP2NIUS8l/iMcT+mbKYYW3YmgjeOscS1HXbRHheYunHtUfs8acdL8IbrEQnecJx0VAQC6QQvv/jdqfLUBR5+l3FXBLteuNTy7CYLQdV1dybyE7x8aVEUMK6R/3FlP+MNw+ZOpSjkS4iih1P3DEWgcKdngblqMzUumOL0Fo1xp1xVbF/gDAdge/ymK+0iEjfDARcxUcTZOEO+rPyyYfCa9CJTdIcVuradFOJMg5Vq/FghGyt6yJrxxq5xgZr1yDA+m6EHqcb6M645G7N5i90yXHHED6x0HjRXAPDPXNzlzibw36pK8AbVlXGrVlyGmTJ2d5fy2yHLZUOPcZj+YPyijSW1K/nJKVf9ybLdevKedmNPo44f3ktuLLQ9nwtpGTqVydbcYQWve20ypMBOZ262i9TZoXTnpRO87qySFd0MjbGZWejddcOUMhG82Y4lnu+GwRVanKsEb7i7VoI3HCcdFYFAOsFLDwBXFVvjS40rpIPMjdOl2LIxuJmWx1W5dnW+n+BlWiuvnKNhBC+n4BhaQdFBDxbP4fQtH7wU2xRCQS8nPyapMV/W+8H22NXGfgsy6NWxeVf5ccC6MbyEYSbW0n2E8MXOkAe76I9/Zn9wwRnbSIHjrrS3HmeWTe8S/+5lfh809lgKeG4kQvPzFLvtDxpPfr97TfO64iiMyHfFQXUK3qC6uoI3zPR2VMHLMZK6oNKLO1Og0eNGc6euc9WfqYI3iFO6sUSPIcc8PxrtzJVdjMs0d4xhz8TCCF732rzn+CwN4h00Nv3qmk7wckaFXl1+OPB5wJkiftCz/xmGxDAg1zIRvHGPJdY5aOFgJv1WXedI8IYjL8EbjpOOikCgKj28nLZ1p+3j9PDSc8GpSsYI0+PIXJaMNw4SvIzbpNeKL0EuXGFcKlfQ8oXABSWPPfaYmeKkeMx00QTrwPhZGtOUUTCyrpzipPEa9DClmuuNscKRaXn4QUHzCymw5bgL/vgy5+5vdnWw1xDhqnS781M6wUvBYzfRoLeXi+rsy5uedWZSoPFjgZ53r00iUr39/HuUXbz8hngSBC+n3MmEli4EJ0pdcy14s/XK5ao/4xS8zDxidxOkt5wzODael0KYoS1uBpmwj9Ewgte9NsPC3NzGftfhTI7diCUo5MUtI53g5XFuaAU/am3aQzom7LbCtrxMBG+2Y0ke3rAjr7CPk+At7P6tltZFieFNzTLgV2G72p+/V1cMb9j8iAwH4JQ7Y8Ss58q2i4s5mCaKooUpcfhiy8QYn8rtSGl8gXBRjLsqmmLY9aTba3BxGVMJ0SjeuWjQzW1LrzQX/vkZF6DYTQuY8soKUb/j3QWF6QQvz3fL5kYZduU74xJttgE3vZHXNenpsqnVwo6tIP5RRCTLCvKiuZ5LesJs/tZ09aBwt/l980XwZhJ3aTdKsSxy0Z9xCl43c4i9n7hQz6ZO5IcphaiblzdovPH3MILXvXbQfcEymQHF7rDolZowXb2CBK+7S6Pbd/w4Tf3ozETwxjGW3BhefohwVqpQTB7ecD0pwRuOk46KQCBKlgamHeLON+mMNzOnzGyMZ2qWBptflmXkMktDGMHL7VkZJsA0W36bLdjdh8JMI/txoefEph+yuT9tPF+QB5osGbZAscp4WW5OYNn6eYZtPRjraFOI8f/pPNT0JLFsu6AwSPAyvREXQ9FsCh5OD1O407tOC8qSwFhUuzo+rpXYcQte19vElzCnotPFBfPjxc03nC+C18u7lzqeg7I05KI/4xS87kcmvZoct8yjyo81O5VPYcXFeF6bavjd32EEr3vtMB/PbpYWvzh4v/oECV7OZnEWwt6nLIepJJk7N9UyEbxxjCVlaYjwEi/QQyV4C7Rjq7NZQYLXzcNrRVe6Fz6nxDk1TuNLI9Vr4HoAwyy+yTQPbxjBywVqNvWW3+pvmxaNbaFA9trONqj/mPaK4QfWPvjgA+OxYDwidzSj2PYzG2bAkAG+lG1yeB6fmp83tQzGW9uNApgmLl2uXjdUguUECV7X+8zpYIpyesitp5eij2Iv3VjhNrEMI6ExnpmCKorQ8GIWt+DlNbjY0KbZY9o263X3uj4XAp133nnlP+WL4A1zL7rbWXvl4c1Ff8YpeLm5iw0lYOgN20DjByTj4u1sCDcNsJkcgu5t/h5G8LrX5v3Pv6czl3W69H9eZQQJXp7DMWp37+Pf/WKYMxG8cY+lJOXhDTMego6RhzeI0LrfJXjDcdJREQgECd7UndbSeWXpJaQHl+fQvFLpcLprxx13LK9hurya2ey0Fkbw2hhZxpjSA+olztyFdnwhRk1ZZBvKWFeb/oibAHBVNC0o+by7GM89jyupLWe/7iZnm6w+nYCl0GS/2RRhLC9I8PIYxiLS60yjd4ip6Gw84EUXXVS+SYFf/TheOP4Y/2nHC1O4BWVW4LFM40YBn7rwJxeC102zxw/AUaNGeTaJY4WLG6045kH5InhtH/rttMYxQoFoP6C8tpbORX+aF1+NGuW8M120Rq8mP8y4eIxx7PTUu7HljNHnR6iNmU1Nz5XukRokeN1r84OZ91lQNgg3LIzPCm6SEdbCCF7ec26+Xa5j8FpEl4ngjWMsMWaZXmibjSYpO62F7YN0x0nwhqMowRuOk46KQCBI8LKo4cOHl2/ryGT3FGFceOV6Oym+uPDKelCYk5Opd7wEIl+qdl94eiEpklJTa9FbyITwTEnDFxSnHoMEhNvsMILXeuPatGlTLkZT0fEFbzNThImD9UPPtqTmjOWxzGbgtZ2sLYeC0iv3cZi8nNwp6rrrrjNFURwydpibA7jGOEymH+P0JttJLzYtjOB1d9bab7/9TN/b2NWgdtk6sO/ZFmt8sbNfXI+4/Y1ih94xhnKwfvQqp67ejiqOgmJ4eW164G2KNookev/sLIatG+vFxUAUuLxHbGhIvghetov3M6ejOevgGvuV45ezIDSmy/v88889vfFx9yevF7VPve5BjkebZ9hvsxbGtnL8UaDSeL/YrcHTPVKDBK97bd7rNoNJujLdD2TGkTMUKqyFEbxhy8pE8MY1lrjAlxuoWOMY5EyUzW7jtoFb1nODG/ZflE1DwnKI8zgJ3nA0JXjDcdJREQiEEbwUfXyI2h3XWDwfOlypT8FBscvpdvui4AufLwu//LDMzsApPabsssZpYk4r8lxmTrCew3POOccsKrMv27CJ58MIXk4VXnbZZSbu1GZRSEXHuFTr+WC8qc1OEAGxOZQeMW516xrjh8kinUczNe+uPT+MIGXZXHXO3L/WGJbC+GFekxt/8EVBoxDmYh0bXhG2fJvSyG0Xr8GPg7DGPmBfWGPdWG/+xw8ninC+9DkNbb3BPNYrXVFUcRRG8PIFxQV97o52bCM9nuwfij/WjUbPINnZ8ZovgpcfL9yIgcYFifR2UrhwfDDDgDV6JvmRZLMdePVxnP3J8qP2qVed+JFkhTwXkTI/tpdxExe7ToHhNcyOERR+ECR43WvTKcC/pzN+5FuBy3uSH3ZRrLoFb5xjyXW2kAGfxXQAcAdL9g+fbbz37LuEG4fYjXGiMKvKYyV4w9GW4A3HSUdFIBBG8LI4Ti1xRbP1zPpdgp4JTktzGjidUQj069cv7f7wTJHDr3zW0S6wCIpFtdcMI3ir0sNLUZSayzd15zU/XoyL5aYaroUNr+CGGuTMEAA/Yz3omaPg4YYTtDCCl8e50/22/ChJ8u05HFfMo+wupEk3fvhxxI+s1IV4UcVRGMHLenC80ott4zxT68brMoyDwp2zGvkmeOk9p1jnIk2/sAEuoOSHbOrmHF79FFd/suyofepVHzdmlV5Cfkj7mSuyOPtDD3e63d2CBK97bW4vbNMK+l1/4sSJ5SEM/BC1u1aGfaxXt+CNeyxRQPMjys4e+XHgOCEreXjDjpRkHyfBm+z+ycvahRW8tnEUUPQC0vNBccKYOHoq6Y1jjCm3wgyzOQXL47Qvk9fzJcppPopqCmZ+wQ8dOrR8AZRNUcMHGs8JStjOssMIXgpziuqqiOHlS4Cc3PjOoBevZW4zRdi/07tu87yGGXT09DIMZcKECeWCjZwZt0uvF3daooXdeMK9pptPmP/ublkapm7uMUxRxlhgTi1zNoHeG7vZCT3JnA7mIkPGN9LD42VRxVFYwctr0dNMDyDjzrloj/WlJ451YoiP9QSGvaei1DXXeXityKU3l3HlnM3g/c1wInp8Dz/8cLONddBWzXH3Z1yClx8r9EzT+PHIXfr8jB44fsjZj0zGwjPEym8nuiDB616bGz3w7+mMqRy5NTSNizptWFLY+ykJgpd1jXMscWEhP8r5bOC7wn7A85nK5wKz6DBUjuE2STd5eMP1kARvOE46qoAIuKmQGPbAVfJhLIzgdbM0cErMTSdlrxFHloYw9dUxIiAC+UkgSPDmZ6ui1TrKx1u0kgvvaAnecH0qwRuOk44qIAKutyMohZfb7DCC183Dy5g+xvalmvWuhkm1U0DY1RQREIGQBCR44wk7CYk77w+T4A3XhRK84TjpqAIhwDhILgyyC5Wi7HcfRvASk81zy/y29Pi65u60NmbMGJOtQiYCIiACLgEJXgneKHeEBG84WhK84TjpqDwgwHgrpplh3K/XDmCM1WJ8rd3KlXF0THMWduOHsIKXK+8Zy8rV9oyX46Ijxi0yMwW37uWWwIWW+DwPhoeqKAJ5Q0CCV4I3ymCV4A1HS4I3HCcdlQcE7MIeLgRhiif+nWlmuDiBq6LdNGFcBEfvq90Zyat5XMTF5OnWmLeXaasokN0dxriLEhceucZFOvTeMgUZF0FQ4DJ2mKuCuUiHW426ZecBXlVRBESgighI8ErwRhlqErzhaEnwhuOko/KAgLuSPV11uaMYUxzRC5vOuOgszC5ogwcPLt8NzC3v/fffB1MGcTU2d1tiCiZmA+AWn16JzvMAsaooAiJQBQSs4GX6sfPPP99ckdlK0m3lXQXVqtJLaNFaetzcydPuGsfZRL5faMy5bP9cpR2WBxeT4M2DTlIVwxFgXlOmd2L6I+Y2ZZoZeneZIqxVq1ZG4DLcgYnaGWIgEwEREIEkEmBeXbultq0f09Ux93axmARv+p5mfvNzzz230kFMscbNRWSVCUjwalSIgAiIgAiIgAiIgAgUNAEJ3oLuXjVOBERABERABERABERAgldjQAREQAREQAREQAREoKAJSPAWdPeqcSIgAiIgAiIgAiIgAhK8GgMiIAIiIAIiIAIiIAIFTUCCt6C7V40TAREQAREQAREQARGQ4NUYEAEREAEREAEREAERKGgCErwF3b1qnAiIgAiIgAiIgAiIgASvxoAIiIAIiIAIiIAIiEBBE5DgLejuVeNEQAREQAREQAREQAQkeDUGREAEREAEREAEREAECpqABG9Bd68aJwIiIAIiIAIiIAIiIMGrMSACIiACIiACIiACIlDQBCR4C7p71TgREAEREAEREAEREAEJXo0BERABERABERABERCBgiYgwVvQ3avGiYAIiIAIiIAIiIAISPBqDIiACIiACIiACIiACBQ0AQnegu5eNU4EREAEREAEREAEROD/AaSr10xDoAOGAAAAAElFTkSuQmCC\" width=\"700\">"
      ],
      "text/plain": [
       "<IPython.core.display.HTML object>"
      ]
     },
     "metadata": {},
     "output_type": "display_data"
    }
   ],
   "source": [
    "fig, ax = sbibe.plot_utils.simple_plot(\n",
    "    x_label=r'$\\log_{10}\\mathrm{Wavenumber}\\, k \\left[ h\\, \\mathrm{Mpc}^{-1} \\right]$',\n",
    "    y_label=r'$\\log_{10}P(k) \\left[ \\left(h^{-1} \\mathrm{Mpc}\\right)^{3} \\right]$'\n",
    ")\n",
    "\n",
    "N_plot_cosmo = 3\n",
    "indexes_cosmo = np.random.choice(theta_test.shape[0], N_plot_cosmo, replace=False)\n",
    "\n",
    "colors = sbibe.plot_utils.get_N_colors(N_plot_cosmo, mpl.colormaps['prism'])\n",
    "markers = sbibe.plot_utils.get_N_markers(xx_A1_test.shape[0])\n",
    "for ii_cosmo, index_cosmo in enumerate(indexes_cosmo):\n",
    "    for ii_aug in range(xx_A1_test.shape[0]):\n",
    "        ax.plot(xx_A1_test[ii_aug, index_cosmo], c=colors[ii_cosmo], ls='--', lw=1, marker=markers[ii_aug], ms=3)\n",
    "        ax.plot(xx_A2_test[ii_aug, index_cosmo], c=colors[ii_cosmo], ls=':', lw=1, marker=markers[ii_aug], ms=3)\n",
    "        ax.plot(xx_R_test[ii_aug, index_cosmo], c=colors[ii_cosmo], ls='-', lw=1, marker=markers[ii_aug], ms=3)\n",
    "        \n",
    "plt.tight_layout()\n",
    "plt.show()"
   ]
  },
  {
   "cell_type": "code",
   "execution_count": null,
   "id": "8041996e",
   "metadata": {},
   "outputs": [],
   "source": []
  }
 ],
 "metadata": {
  "kernelspec": {
   "display_name": "Python 3 (ipykernel)",
   "language": "python",
   "name": "python3"
  },
  "language_info": {
   "codemirror_mode": {
    "name": "ipython",
    "version": 3
   },
   "file_extension": ".py",
   "mimetype": "text/x-python",
   "name": "python",
   "nbconvert_exporter": "python",
   "pygments_lexer": "ipython3",
   "version": "3.11.5"
  }
 },
 "nbformat": 4,
 "nbformat_minor": 5
}
