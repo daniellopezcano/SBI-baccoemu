{
 "cells": [
  {
   "cell_type": "code",
   "execution_count": null,
   "id": "66c9a68f",
   "metadata": {},
   "outputs": [],
   "source": [
    "N_threads = 1"
   ]
  },
  {
   "cell_type": "code",
   "execution_count": null,
   "id": "15aa594e",
   "metadata": {},
   "outputs": [],
   "source": [
    "%load_ext autoreload\n",
    "\n",
    "import sys, os\n",
    "os.environ[\"OMP_NUM_THREADS\"] = str(N_threads)\n",
    "os.environ[\"OPENBLAS_NUM_THREADS\"] = str(N_threads)\n",
    "os.environ[\"MKL_NUM_THREADS\"] = str(N_threads)\n",
    "os.environ[\"VECLIB_MAXIMUM_THREADS\"] = str(N_threads)\n",
    "os.environ[\"NUMEXPR_NUM_THREADS\"] = str(N_threads)\n",
    "\n",
    "import numpy as np\n",
    "\n",
    "import SBIBE as sbibe\n",
    "import preprocessing_tools\n",
    "\n",
    "%matplotlib notebook\n",
    "import matplotlib as mpl\n",
    "import matplotlib.pyplot as plt\n",
    "plt.style.use('default')\n",
    "plt.close('all')"
   ]
  },
  {
   "cell_type": "code",
   "execution_count": null,
   "id": "cdfd86a6",
   "metadata": {},
   "outputs": [],
   "source": [
    "path_save_data = \"/dipc_storage/dlopez/Projects/CLSBI/baccoemu_pk/\"\n",
    "\n",
    "N_points = 3000\n",
    "\n",
    "dict_bounds=dict(\n",
    "  omega_cold=[0.23, 0.4],\n",
    "  omega_baryon=[0.04, 0.06],\n",
    "  hubble=[0.6, 0.8],\n",
    "  ns=[0.92, 1.01],\n",
    "  sigma8_cold=[0.73, 0.9]\n",
    ")\n",
    "\n",
    "# path_save_data = \"/dipc_storage/dlopez/Projects/CLSBI/baccoemu_pk_val/\"\n",
    "\n",
    "# N_points = 987\n",
    "\n",
    "# dict_bounds=dict(\n",
    "#   omega_cold=[0.25, 0.38],\n",
    "#   omega_baryon=[0.042, 0.058],\n",
    "#   hubble=[0.62, 0.78],\n",
    "#   ns=[0.93, 1.00],\n",
    "#   sigma8_cold=[0.75, 0.88]\n",
    "# )"
   ]
  },
  {
   "cell_type": "markdown",
   "id": "59d93874",
   "metadata": {},
   "source": [
    "# Cosmologies"
   ]
  },
  {
   "cell_type": "code",
   "execution_count": null,
   "id": "91d39bad",
   "metadata": {},
   "outputs": [],
   "source": [
    "theta = preprocessing_tools.sample_latin_hypercube(dict_bounds, N_points=N_points, seed=0)\n",
    "assert theta.shape == np.unique(theta, axis=-1).shape, \"cosmological parameter configurations cannot be repeated\"\n",
    "preprocessing_tools.save_theta(path_save_data, theta)"
   ]
  },
  {
   "cell_type": "markdown",
   "id": "55a17614",
   "metadata": {},
   "source": [
    "# Store augmentation models"
   ]
  },
  {
   "cell_type": "code",
   "execution_count": null,
   "id": "62f5f65e",
   "metadata": {
    "scrolled": true
   },
   "outputs": [],
   "source": [
    "model_name, xx = preprocessing_tools.model_linear(theta)\n",
    "preprocessing_tools.save_model(path_save_data, model_name, xx)"
   ]
  },
  {
   "cell_type": "code",
   "execution_count": null,
   "id": "fd99016d",
   "metadata": {
    "scrolled": true
   },
   "outputs": [],
   "source": [
    "model_name, xx = preprocessing_tools.model_nonlinear(theta)\n",
    "preprocessing_tools.save_model(path_save_data, model_name, xx)"
   ]
  },
  {
   "cell_type": "code",
   "execution_count": null,
   "id": "a762dea6",
   "metadata": {
    "scrolled": true
   },
   "outputs": [],
   "source": [
    "model_name, aug_params, xx = preprocessing_tools.aug_model1(theta)\n",
    "preprocessing_tools.save_model(path_save_data, model_name, xx)"
   ]
  },
  {
   "cell_type": "code",
   "execution_count": null,
   "id": "07727813",
   "metadata": {
    "scrolled": true
   },
   "outputs": [],
   "source": [
    "model_name, aug_params, xx = preprocessing_tools.aug_model1(theta)\n",
    "preprocessing_tools.save_model(path_save_data, model_name, xx)"
   ]
  },
  {
   "cell_type": "code",
   "execution_count": null,
   "id": "f15b207a",
   "metadata": {
    "scrolled": true
   },
   "outputs": [],
   "source": [
    "model_name, aug_params, xx = preprocessing_tools.aug_model2(theta)\n",
    "preprocessing_tools.save_model(path_save_data, model_name, xx)"
   ]
  },
  {
   "cell_type": "code",
   "execution_count": null,
   "id": "e59f4a59",
   "metadata": {},
   "outputs": [],
   "source": [
    "model_name, aug_params, xx = preprocessing_tools.aug_model3(theta)\n",
    "preprocessing_tools.save_model(path_save_data, model_name, xx)"
   ]
  },
  {
   "cell_type": "code",
   "execution_count": null,
   "id": "138ce38a",
   "metadata": {},
   "outputs": [],
   "source": []
  }
 ],
 "metadata": {
  "kernelspec": {
   "display_name": "Python 3 (ipykernel)",
   "language": "python",
   "name": "python3"
  },
  "language_info": {
   "codemirror_mode": {
    "name": "ipython",
    "version": 3
   },
   "file_extension": ".py",
   "mimetype": "text/x-python",
   "name": "python",
   "nbconvert_exporter": "python",
   "pygments_lexer": "ipython3",
   "version": "3.11.5"
  }
 },
 "nbformat": 4,
 "nbformat_minor": 5
}
