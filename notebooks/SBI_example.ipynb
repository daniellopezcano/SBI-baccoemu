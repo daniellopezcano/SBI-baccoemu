{
 "cells": [
  {
   "cell_type": "markdown",
   "id": "2f2162cd",
   "metadata": {},
   "source": [
    "# Imports"
   ]
  },
  {
   "cell_type": "code",
   "execution_count": null,
   "id": "a5949fa9",
   "metadata": {},
   "outputs": [],
   "source": [
    "N_threads = 6"
   ]
  },
  {
   "cell_type": "code",
   "execution_count": null,
   "id": "e433441c",
   "metadata": {},
   "outputs": [],
   "source": [
    "%load_ext autoreload\n",
    "\n",
    "import sys, os\n",
    "os.environ[\"OMP_NUM_THREADS\"] = str(N_threads)\n",
    "os.environ[\"OPENBLAS_NUM_THREADS\"] = str(N_threads)\n",
    "os.environ[\"MKL_NUM_THREADS\"] = str(N_threads)\n",
    "os.environ[\"VECLIB_MAXIMUM_THREADS\"] = str(N_threads)\n",
    "os.environ[\"NUMEXPR_NUM_THREADS\"] = str(N_threads)\n",
    "\n",
    "import numpy as np\n",
    "import sklearn as skl\n",
    "\n",
    "import SBIBE as sbibe\n",
    "\n",
    "%matplotlib notebook\n",
    "import matplotlib as mpl\n",
    "import matplotlib.pyplot as plt\n",
    "plt.style.use('default')\n",
    "plt.close('all')\n",
    "\n",
    "np.random.seed(seed=0)"
   ]
  },
  {
   "cell_type": "markdown",
   "id": "10beb147",
   "metadata": {},
   "source": [
    "# Extract train"
   ]
  },
  {
   "cell_type": "code",
   "execution_count": null,
   "id": "780432d6",
   "metadata": {
    "scrolled": true
   },
   "outputs": [],
   "source": [
    "dict_bounds = {\n",
    "    'omega_cold'    :  [0.23, 0.4],\n",
    "    'omega_baryon'  :  [0.04, 0.06],\n",
    "    'hubble'        :  [0.6, 0.8],\n",
    "    'ns'            :  [0.92, 1.01],\n",
    "    'sigma8_cold'   :  [0.73, 0.9]\n",
    "}\n",
    "theta_train = sbibe.sbi_data_utils.sample_latin_hypercube(dict_bounds, N_points=3000, seed=0)\n",
    "xx_train, kk = sbibe.sbi_data_utils.get_xx(dict_bounds, theta_train)"
   ]
  },
  {
   "cell_type": "code",
   "execution_count": null,
   "id": "ef998285",
   "metadata": {},
   "outputs": [],
   "source": [
    "print(theta_train.shape)\n",
    "print(xx_train.shape)"
   ]
  },
  {
   "cell_type": "markdown",
   "id": "257bf469",
   "metadata": {},
   "source": [
    "# Train the network"
   ]
  },
  {
   "cell_type": "code",
   "execution_count": null,
   "id": "38ba4e87",
   "metadata": {},
   "outputs": [],
   "source": [
    "# scaler = skl.preprocessing.StandardScaler()\n",
    "# norm_xx_train = scaler.fit_transform(xx_train)\n",
    "\n",
    "inference, posterior =sbibe.sbi_utils.train_model(\n",
    "    theta_train,\n",
    "    xx_train,\n",
    "    prior=sbibe.sbi_utils.get_prior(dict_bounds)\n",
    ")"
   ]
  },
  {
   "cell_type": "markdown",
   "id": "bb5055d4",
   "metadata": {},
   "source": [
    "# Extract test - posterior inference - rank stats"
   ]
  },
  {
   "cell_type": "code",
   "execution_count": null,
   "id": "278d9030",
   "metadata": {
    "scrolled": true
   },
   "outputs": [],
   "source": [
    "# ------------------ extract test ------------------ #\n",
    "\n",
    "dict_bounds_test = {\n",
    "    'omega_cold'    :  [0.25, 0.38],\n",
    "    'omega_baryon'  :  [0.042, 0.058],\n",
    "    'hubble'        :  [0.62, 0.78],\n",
    "    'ns'            :  [0.93, 1.00],\n",
    "    'sigma8_cold'   :  [0.75, 0.88],\n",
    "}\n",
    "theta_test = sbibe.sbi_data_utils.sample_latin_hypercube(dict_bounds_test, N_points=987, seed=0)\n",
    "xx_test, kk = sbibe.sbi_data_utils.get_xx(dict_bounds_test, theta_test)\n",
    "\n",
    "# ------------------ posterior inference ------------------ #\n",
    "\n",
    "# norm_xx_test = scaler.transform(xx_test)\n",
    "\n",
    "inferred_theta_test = sbibe.sbi_utils.sample_posteriors_theta_test(\n",
    "    posterior,\n",
    "    xx_test,\n",
    "    dict_bounds_test\n",
    ")\n",
    "\n",
    "# ------------------ rank stats ------------------ #\n",
    "\n",
    "ranks = sbibe.sbi_utils.compute_ranks(theta_test, inferred_theta_test)"
   ]
  },
  {
   "cell_type": "markdown",
   "id": "cef17b5a",
   "metadata": {},
   "source": [
    "# Visualizations"
   ]
  },
  {
   "cell_type": "code",
   "execution_count": null,
   "id": "c809bec2",
   "metadata": {},
   "outputs": [],
   "source": [
    "custom_titles = [\n",
    "    r'$\\Omega_\\mathrm{c}$',\n",
    "    r'$\\Omega_\\mathrm{b}$',\n",
    "    r'$h$',\n",
    "    r'$n_\\mathrm{s}$',\n",
    "    r'$\\sigma_{8,\\mathrm{c}}$'\n",
    "]\n",
    "\n",
    "N_examples = 5\n",
    "indexes = np.random.choice(inferred_theta_test.shape[0], N_examples, replace=False)"
   ]
  },
  {
   "cell_type": "markdown",
   "id": "e6da84f9",
   "metadata": {},
   "source": [
    "## Visualize train and test examples"
   ]
  },
  {
   "cell_type": "code",
   "execution_count": null,
   "id": "e9018e12",
   "metadata": {},
   "outputs": [],
   "source": [
    "custom_lines = [\n",
    "    mpl.lines.Line2D([0], [0], color='royalblue', ls='-', lw=1, marker=None, markersize=9),\n",
    "    mpl.lines.Line2D([0], [0], color='k', ls='-', lw=1, marker=None, markersize=9)\n",
    "]\n",
    "\n",
    "fig, ax = sbibe.plot_utils.simple_plot(\n",
    "    x_label=r'$\\log_{10}\\mathrm{Wavenumber}\\, k \\left[ h\\, \\mathrm{Mpc}^{-1} \\right]$',\n",
    "    y_label=r'$\\log_{10}P(k) \\left[ \\left(h^{-1} \\mathrm{Mpc}\\right)^{3} \\right]$',\n",
    "    custom_labels=[r'Train', r'Val'],\n",
    "    custom_lines=custom_lines\n",
    ")\n",
    "\n",
    "tmp_xx_plot = xx_train\n",
    "tmp_xx_plot = tmp_xx_plot[np.random.choice(tmp_xx_plot.shape[0], tmp_xx_plot.shape[0], replace=False)].T\n",
    "ax.plot(np.log10(kk), tmp_xx_plot, c='royalblue', alpha=0.2, lw=0.5)\n",
    "\n",
    "tmp_xx_plot = xx_test\n",
    "tmp_xx_plot = tmp_xx_plot[np.random.choice(tmp_xx_plot.shape[0], tmp_xx_plot.shape[0], replace=False)].T\n",
    "ax.plot(np.log10(kk), tmp_xx_plot, c='k', alpha=0.1, lw=0.5)\n",
    "\n",
    "plt.tight_layout()\n",
    "plt.show()"
   ]
  },
  {
   "cell_type": "markdown",
   "id": "6f43c45f",
   "metadata": {},
   "source": [
    "## (Optional) Visualize xx associatted with inferred posteriors"
   ]
  },
  {
   "cell_type": "code",
   "execution_count": null,
   "id": "57e5ce2a",
   "metadata": {
    "scrolled": false
   },
   "outputs": [],
   "source": [
    "tmp_inferred_xx_test = sbibe.sbi_data_utils.compute_baccoemu_predictions_batch(\n",
    "    inferred_theta_test[indexes],\n",
    "    list(dict_bounds.keys())\n",
    ")\n",
    "\n",
    "fig, ax, ax_res = sbibe.plot_utils.plot_xx_from_sampled_posteriors(xx_test[indexes], tmp_inferred_xx_test, kk)\n",
    "plt.show()"
   ]
  },
  {
   "cell_type": "markdown",
   "id": "404c1c72",
   "metadata": {},
   "source": [
    "## Posteriors examples"
   ]
  },
  {
   "cell_type": "code",
   "execution_count": null,
   "id": "daab473b",
   "metadata": {
    "scrolled": false
   },
   "outputs": [],
   "source": [
    "colors = sbibe.plot_utils.get_N_colors(N_examples, mpl.colormaps['prism'])\n",
    "for ii_sample in range(N_examples):\n",
    "    fig, axs = sbibe.plot_utils.corner_plot(\n",
    "        theta_test[ii_sample],\n",
    "        inferred_theta_test[ii_sample],\n",
    "        custom_titles,\n",
    "        dict_bounds,\n",
    "        color_infer=colors[ii_sample]\n",
    "    )\n",
    "    plt.show()"
   ]
  },
  {
   "cell_type": "markdown",
   "id": "1458f9d3",
   "metadata": {},
   "source": [
    "## Rank statistics"
   ]
  },
  {
   "cell_type": "code",
   "execution_count": null,
   "id": "161c67c9",
   "metadata": {},
   "outputs": [],
   "source": [
    "fig, axs = sbibe.plot_utils.plot_rank_statistcis(ranks, inferred_theta_test.shape[1], custom_titles)\n",
    "plt.tight_layout()\n",
    "plt.subplots_adjust(wspace=0.05)\n",
    "plt.show()"
   ]
  },
  {
   "cell_type": "markdown",
   "id": "c49d134d",
   "metadata": {},
   "source": [
    "## Inference errors"
   ]
  },
  {
   "cell_type": "code",
   "execution_count": null,
   "id": "7be444d8",
   "metadata": {},
   "outputs": [],
   "source": [
    "fig, axs = sbibe.plot_utils.plot_parameter_prediction_vs_truth(inferred_theta_test, theta_test, custom_titles)\n",
    "plt.tight_layout()\n",
    "plt.subplots_adjust(wspace=0.6)\n",
    "plt.show()"
   ]
  },
  {
   "cell_type": "code",
   "execution_count": null,
   "id": "0448478e",
   "metadata": {},
   "outputs": [],
   "source": []
  }
 ],
 "metadata": {
  "kernelspec": {
   "display_name": "Python 3 (ipykernel)",
   "language": "python",
   "name": "python3"
  },
  "language_info": {
   "codemirror_mode": {
    "name": "ipython",
    "version": 3
   },
   "file_extension": ".py",
   "mimetype": "text/x-python",
   "name": "python",
   "nbconvert_exporter": "python",
   "pygments_lexer": "ipython3",
   "version": "3.11.5"
  }
 },
 "nbformat": 4,
 "nbformat_minor": 5
}
