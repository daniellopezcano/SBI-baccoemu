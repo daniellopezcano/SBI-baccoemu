{
 "cells": [
  {
   "cell_type": "markdown",
   "id": "fe298d8c",
   "metadata": {},
   "source": [
    "# Imports"
   ]
  },
  {
   "cell_type": "code",
   "execution_count": null,
   "id": "49f4e0fa",
   "metadata": {},
   "outputs": [],
   "source": [
    "N_threads = 6"
   ]
  },
  {
   "cell_type": "code",
   "execution_count": null,
   "id": "6f5e3b4d",
   "metadata": {},
   "outputs": [],
   "source": [
    "%load_ext autoreload\n",
    "\n",
    "import sys, os\n",
    "os.environ[\"OMP_NUM_THREADS\"] = str(N_threads)\n",
    "os.environ[\"OPENBLAS_NUM_THREADS\"] = str(N_threads)\n",
    "os.environ[\"MKL_NUM_THREADS\"] = str(N_threads)\n",
    "os.environ[\"VECLIB_MAXIMUM_THREADS\"] = str(N_threads)\n",
    "os.environ[\"NUMEXPR_NUM_THREADS\"] = str(N_threads)\n",
    "\n",
    "import wandb\n",
    "\n",
    "import SBIBE as sbibe"
   ]
  },
  {
   "cell_type": "markdown",
   "id": "4d2e03e0",
   "metadata": {},
   "source": [
    "# Specify wandb name and config file"
   ]
  },
  {
   "cell_type": "code",
   "execution_count": null,
   "id": "eea7ee9e",
   "metadata": {},
   "outputs": [],
   "source": [
    "path_to_wandb_config = './wandb/wand_config_files/config_wandb_example.yaml'\n",
    "wandb_project_name = \"wandb_example\"\n",
    "N_samples_hyperparmeters = 3"
   ]
  },
  {
   "cell_type": "markdown",
   "id": "9525ebf1",
   "metadata": {},
   "source": [
    "# wandb sweep"
   ]
  },
  {
   "cell_type": "code",
   "execution_count": null,
   "id": "e8ac2fb3",
   "metadata": {
    "scrolled": true
   },
   "outputs": [],
   "source": [
    "sbibe.sbi_wandb_utils.wandb_sweep(\n",
    "    path_to_wandb_config,\n",
    "    wandb_project_name,\n",
    "    N_samples_hyperparmeters=N_samples_hyperparmeters\n",
    ")"
   ]
  },
  {
   "cell_type": "code",
   "execution_count": null,
   "id": "3efcccec",
   "metadata": {},
   "outputs": [],
   "source": []
  }
 ],
 "metadata": {
  "kernelspec": {
   "display_name": "Python 3 (ipykernel)",
   "language": "python",
   "name": "python3"
  },
  "language_info": {
   "codemirror_mode": {
    "name": "ipython",
    "version": 3
   },
   "file_extension": ".py",
   "mimetype": "text/x-python",
   "name": "python",
   "nbconvert_exporter": "python",
   "pygments_lexer": "ipython3",
   "version": "3.11.5"
  }
 },
 "nbformat": 4,
 "nbformat_minor": 5
}
