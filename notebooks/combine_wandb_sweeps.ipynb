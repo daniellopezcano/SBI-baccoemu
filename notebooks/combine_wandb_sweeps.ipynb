{
 "cells": [
  {
   "cell_type": "markdown",
   "id": "d47c1951",
   "metadata": {},
   "source": [
    "# Imports"
   ]
  },
  {
   "cell_type": "code",
   "execution_count": null,
   "id": "a23a80e6",
   "metadata": {},
   "outputs": [],
   "source": [
    "N_threads = 6"
   ]
  },
  {
   "cell_type": "code",
   "execution_count": null,
   "id": "432610bf",
   "metadata": {},
   "outputs": [],
   "source": [
    "%load_ext autoreload\n",
    "\n",
    "import sys, os\n",
    "os.environ[\"OMP_NUM_THREADS\"] = str(N_threads)\n",
    "os.environ[\"OPENBLAS_NUM_THREADS\"] = str(N_threads)\n",
    "os.environ[\"MKL_NUM_THREADS\"] = str(N_threads)\n",
    "os.environ[\"VECLIB_MAXIMUM_THREADS\"] = str(N_threads)\n",
    "os.environ[\"NUMEXPR_NUM_THREADS\"] = str(N_threads)\n",
    "\n",
    "import numpy as np\n",
    "import pickle\n",
    "\n",
    "from sbi.utils.posterior_ensemble import NeuralPosteriorEnsemble\n",
    "\n",
    "import SBIBE as sbibe\n",
    "\n",
    "%matplotlib notebook\n",
    "import matplotlib as mpl\n",
    "import matplotlib.pyplot as plt\n",
    "plt.style.use('default')\n",
    "plt.close('all')\n",
    "\n",
    "np.random.seed(seed=0)"
   ]
  },
  {
   "cell_type": "markdown",
   "id": "fa84bdbd",
   "metadata": {},
   "source": [
    "# Get posteriors from N best trained networks"
   ]
  },
  {
   "cell_type": "code",
   "execution_count": null,
   "id": "1c59b85b",
   "metadata": {},
   "outputs": [],
   "source": [
    "path_wandb_sweep = \"/dipc_storage/dlopez/Projects/SBI-baccoemu/wandb_models\"\n",
    "N_best_combine = 2"
   ]
  },
  {
   "cell_type": "code",
   "execution_count": null,
   "id": "2a14b381",
   "metadata": {},
   "outputs": [],
   "source": [
    "sweep_names, losses = sbibe.sbi_wandb_utils.load_wandb_sweep_register(path_wandb_sweep)"
   ]
  },
  {
   "cell_type": "code",
   "execution_count": null,
   "id": "10e0b9e2",
   "metadata": {},
   "outputs": [],
   "source": [
    "custom_lines = [\n",
    "    mpl.lines.Line2D([0], [0], color='royalblue', ls='-', lw=2, marker=None, markersize=9),\n",
    "    mpl.lines.Line2D([], [], color='k', marker='|', linestyle='None', markersize=10, markeredgewidth=2)\n",
    "]    \n",
    "fig, ax = sbibe.plot_utils.simple_plot(\n",
    "    x_label=r'Sweep ID',\n",
    "    y_label=r'Loss',\n",
    "    custom_labels=[r'loss', r'cut'],\n",
    "    custom_lines=custom_lines\n",
    ")\n",
    "ax.plot(losses, color='royalblue', lw=2)\n",
    "ax.axvline(N_best_combine-0.5, color='k', lw=2)\n",
    "\n",
    "custom_lines = []\n",
    "custom_labels = []\n",
    "colors = sbibe.plot_utils.get_N_colors(N_best_combine, mpl.colormaps['jet'])\n",
    "for ii in range(N_best_combine):\n",
    "    ax.scatter([ii], losses[ii], c=colors[ii])\n",
    "    custom_lines.append(mpl.lines.Line2D([0], [0], color=colors[ii], ls='-', lw=0, marker='o', markersize=9))\n",
    "    custom_labels.append(sweep_names[ii])\n",
    "legend = ax.legend(custom_lines, custom_labels, loc='lower left',\n",
    "                   fancybox=True, shadow=True, ncol=1,fontsize=14)\n",
    "ax.add_artist(legend)\n",
    "\n",
    "plt.tight_layout()\n",
    "plt.show()"
   ]
  },
  {
   "cell_type": "code",
   "execution_count": null,
   "id": "ced4fc50",
   "metadata": {
    "scrolled": true
   },
   "outputs": [],
   "source": [
    "posteriors =  sbibe.sbi_wandb_utils.load_posteriors(path_wandb_sweep, sweep_names[:N_best_combine])\n",
    "posterior = NeuralPosteriorEnsemble(posteriors=posteriors)"
   ]
  },
  {
   "cell_type": "markdown",
   "id": "ac5db16e",
   "metadata": {},
   "source": [
    "# Extract test - posterior inference - rank stats"
   ]
  },
  {
   "cell_type": "code",
   "execution_count": null,
   "id": "a7039f05",
   "metadata": {
    "scrolled": true
   },
   "outputs": [],
   "source": [
    "# ------------------ extract test ------------------ #\n",
    "\n",
    "dict_bounds_test = {\n",
    "    'omega_cold'    :  [0.25, 0.38],\n",
    "    'omega_baryon'  :  [0.042, 0.058],\n",
    "    'hubble'        :  [0.62, 0.78],\n",
    "    'ns'            :  [0.93, 1.00],\n",
    "    'sigma8_cold'   :  [0.75, 0.88],\n",
    "}\n",
    "theta_test = sbibe.sbi_data_utils.sample_latin_hypercube(dict_bounds_test, 987)\n",
    "xx_test, kk = sbibe.sbi_data_utils.get_xx(dict_bounds_test, theta_test)\n",
    "\n",
    "# ------------------ posterior inference ------------------ #\n",
    "\n",
    "# norm_xx_test = scaler.transform(xx_test)\n",
    "\n",
    "inferred_theta_test = sbibe.sbi_utils.sample_posteriors_theta_test(\n",
    "    posterior,\n",
    "    xx_test,\n",
    "    dict_bounds_test\n",
    ")\n",
    "\n",
    "# ------------------ rank stats ------------------ #\n",
    "\n",
    "ranks = sbibe.sbi_utils.compute_ranks(theta_test, inferred_theta_test)"
   ]
  },
  {
   "cell_type": "markdown",
   "id": "d19e3677",
   "metadata": {},
   "source": [
    "# Visualizations"
   ]
  },
  {
   "cell_type": "code",
   "execution_count": null,
   "id": "bfd32ecb",
   "metadata": {},
   "outputs": [],
   "source": [
    "custom_titles = [\n",
    "    r'$\\Omega_\\mathrm{c}$',\n",
    "    r'$\\Omega_\\mathrm{b}$',\n",
    "    r'$h$',\n",
    "    r'$n_\\mathrm{s}$',\n",
    "    r'$\\sigma_{8,\\mathrm{c}}$'\n",
    "]\n",
    "\n",
    "N_examples = 5\n",
    "indexes = np.random.choice(inferred_theta_test.shape[0], N_examples, replace=False)"
   ]
  },
  {
   "cell_type": "markdown",
   "id": "624db46a",
   "metadata": {},
   "source": [
    "## Visualize test examples"
   ]
  },
  {
   "cell_type": "code",
   "execution_count": null,
   "id": "b48ca6f3",
   "metadata": {},
   "outputs": [],
   "source": [
    "custom_lines = [\n",
    "    mpl.lines.Line2D([0], [0], color='k', ls='-', lw=2, marker=None, markersize=9),\n",
    "]\n",
    "\n",
    "fig, ax = sbibe.plot_utils.simple_plot(\n",
    "    x_label=r'Wavenumber $k \\left[ h\\, \\mathrm{Mpc}^{-1} \\right]$',\n",
    "    y_label=r'$P(k) \\left[ \\left(h^{-1} \\mathrm{Mpc}\\right)^{3} \\right]$',\n",
    "    custom_labels=[r'Test'],\n",
    "    custom_lines=custom_lines\n",
    ")\n",
    "\n",
    "tmp_xx_plot = xx_test\n",
    "tmp_xx_plot = tmp_xx_plot[np.random.choice(tmp_xx_plot.shape[0], tmp_xx_plot.shape[0], replace=False)].T\n",
    "ax.plot(np.log10(kk), tmp_xx_plot, c='k', alpha=0.1, lw=0.5)\n",
    "\n",
    "plt.tight_layout()\n",
    "plt.show()"
   ]
  },
  {
   "cell_type": "markdown",
   "id": "c9df0bd5",
   "metadata": {},
   "source": [
    "## (Optional) Visualize xx associatted with inferred posteriors"
   ]
  },
  {
   "cell_type": "code",
   "execution_count": null,
   "id": "b6ebb57a",
   "metadata": {
    "scrolled": false
   },
   "outputs": [],
   "source": [
    "tmp_inferred_xx_test = sbibe.sbi_data_utils.compute_baccoemu_predictions_batch(\n",
    "    inferred_theta_test[indexes],\n",
    "    list(dict_bounds_test.keys())\n",
    ")\n",
    "\n",
    "fig, ax, ax_res = sbibe.plot_utils.plot_xx_from_sampled_posteriors(xx_test[indexes], tmp_inferred_xx_test, kk)\n",
    "plt.show()"
   ]
  },
  {
   "cell_type": "markdown",
   "id": "b56283f7",
   "metadata": {},
   "source": [
    "## Posteriors examples"
   ]
  },
  {
   "cell_type": "code",
   "execution_count": null,
   "id": "96c1ffd0",
   "metadata": {
    "scrolled": false
   },
   "outputs": [],
   "source": [
    "colors = sbibe.plot_utils.get_N_colors(N_examples, mpl.colormaps['prism'])\n",
    "for ii_sample in range(N_examples):\n",
    "    fig, axs = sbibe.plot_utils.corner_plot(\n",
    "        theta_test[ii_sample],\n",
    "        inferred_theta_test[ii_sample],\n",
    "        custom_titles,\n",
    "        color_infer=colors[ii_sample]\n",
    "    )\n",
    "    plt.show()"
   ]
  },
  {
   "cell_type": "markdown",
   "id": "8c38c6b1",
   "metadata": {},
   "source": [
    "## Rank statistics"
   ]
  },
  {
   "cell_type": "code",
   "execution_count": null,
   "id": "4b70b92b",
   "metadata": {},
   "outputs": [],
   "source": [
    "fig, axs = sbibe.plot_utils.plot_rank_statistcis(ranks, inferred_theta_test.shape[1], custom_titles)\n",
    "plt.tight_layout()\n",
    "plt.subplots_adjust(wspace=0.05)\n",
    "plt.show()"
   ]
  },
  {
   "cell_type": "markdown",
   "id": "12cd7530",
   "metadata": {},
   "source": [
    "## Inference errors"
   ]
  },
  {
   "cell_type": "code",
   "execution_count": null,
   "id": "b4e24984",
   "metadata": {},
   "outputs": [],
   "source": [
    "fig, axs = sbibe.plot_utils.plot_parameter_prediction_vs_truth(inferred_theta_test, theta_test, custom_titles)\n",
    "plt.tight_layout()\n",
    "plt.subplots_adjust(wspace=0.6)\n",
    "plt.show()"
   ]
  },
  {
   "cell_type": "code",
   "execution_count": null,
   "id": "e0c5b01d",
   "metadata": {},
   "outputs": [],
   "source": []
  }
 ],
 "metadata": {
  "kernelspec": {
   "display_name": "Python 3 (ipykernel)",
   "language": "python",
   "name": "python3"
  },
  "language_info": {
   "codemirror_mode": {
    "name": "ipython",
    "version": 3
   },
   "file_extension": ".py",
   "mimetype": "text/x-python",
   "name": "python",
   "nbconvert_exporter": "python",
   "pygments_lexer": "ipython3",
   "version": "3.11.5"
  }
 },
 "nbformat": 4,
 "nbformat_minor": 5
}
